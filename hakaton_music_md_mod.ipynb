{
 "cells": [
  {
   "cell_type": "markdown",
   "id": "1ef1c210",
   "metadata": {
    "toc": true
   },
   "source": [
    "<h1>PREprocessing от Музыкальных Детективов<span class=\"tocSkip\"></span></h1>\n",
    "<div class=\"toc\"><ul class=\"toc-item\"><li><span><a href=\"#Введение\" data-toc-modified-id=\"Введение-1\"><span class=\"toc-item-num\">1&nbsp;&nbsp;</span>Введение</a></span></li><li><span><a href=\"#Библиотеки-и-настройки\" data-toc-modified-id=\"Библиотеки-и-настройки-2\"><span class=\"toc-item-num\">2&nbsp;&nbsp;</span>Библиотеки и настройки</a></span><ul class=\"toc-item\"><li><span><a href=\"#Библиотеки\" data-toc-modified-id=\"Библиотеки-2.1\"><span class=\"toc-item-num\">2.1&nbsp;&nbsp;</span>Библиотеки</a></span></li><li><span><a href=\"#Настройки\" data-toc-modified-id=\"Настройки-2.2\"><span class=\"toc-item-num\">2.2&nbsp;&nbsp;</span>Настройки</a></span></li></ul></li><li><span><a href=\"#Загрузка-данных\" data-toc-modified-id=\"Загрузка-данных-3\"><span class=\"toc-item-num\">3&nbsp;&nbsp;</span>Загрузка данных</a></span></li><li><span><a href=\"#Метрика\" data-toc-modified-id=\"Метрика-4\"><span class=\"toc-item-num\">4&nbsp;&nbsp;</span>Метрика</a></span></li><li><span><a href=\"#Модели\" data-toc-modified-id=\"Модели-5\"><span class=\"toc-item-num\">5&nbsp;&nbsp;</span>Модели</a></span></li><li><span><a href=\"#Вывод\" data-toc-modified-id=\"Вывод-6\"><span class=\"toc-item-num\">6&nbsp;&nbsp;</span>Вывод</a></span></li></ul></div>"
   ]
  },
  {
   "cell_type": "markdown",
   "id": "61f1069f",
   "metadata": {},
   "source": [
    "## Введение"
   ]
  },
  {
   "cell_type": "markdown",
   "id": "153c2ee3",
   "metadata": {},
   "source": [
    "**Это вторая из трех тетрадей: EDA, PREprocessing, MODeling.**\n",
    "\n",
    "**Задача:**\n",
    "\n",
    "В этом хакатоне вам предлагается разработать решение, которое:\n",
    "\n",
    "- **Первая задача:** может классифицировать треки по признаку кавер-некавер;\n",
    "- **Вторая задача:** связывать (группировать) каверы и исходный трек;\n",
    "- **Третья задача:** находит исходный трек в цепочке каверов.\n",
    "\n",
    "**Данные:**\n",
    "\n",
    "Файл covers.json содержит **разметку каверов**, сделанную редакторами сервиса:\n",
    "\n",
    "- track_id - уникальный идентификатор трека;\n",
    "- track_remake_type - метка, присвоенная редакторами. Может принимать значения ORIGINAL и COVER;\n",
    "- original_track_id - уникальный идентификатор исходного трека.\n",
    "\n",
    "💡 Обратите внимание, что не для всех каверов известны идентификаторы исходных треков!!!\n",
    "\n",
    "**Метаинформация**\n",
    "\n",
    "- track_id - уникальный идентификатор трека;\n",
    "- dttm - первая дата появления информации о треке;\n",
    "- title - название трека;\n",
    "- language - язык исполнения;\n",
    "- isrc - международный уникальный идентификатор трека;\n",
    "- genres - жанры;\n",
    "- duration - длительность трека;\n",
    "\n",
    "**Текст песен**\n",
    "\n",
    "- track_id - уникальный идентификатор трека;\n",
    "- lyricId - уникальный идентификатор текста;\n",
    "- text - текст трека."
   ]
  },
  {
   "cell_type": "markdown",
   "id": "35593d6f",
   "metadata": {},
   "source": [
    "## Библиотеки и настройки"
   ]
  },
  {
   "cell_type": "markdown",
   "id": "92f79af0",
   "metadata": {},
   "source": [
    "### Библиотеки"
   ]
  },
  {
   "cell_type": "code",
   "execution_count": 1,
   "id": "58ea0421",
   "metadata": {
    "ExecuteTime": {
     "end_time": "2023-11-01T13:28:59.673335Z",
     "start_time": "2023-11-01T13:28:59.664763Z"
    },
    "scrolled": true
   },
   "outputs": [],
   "source": [
    "# !pip install ydata_profiling -U"
   ]
  },
  {
   "cell_type": "code",
   "execution_count": 2,
   "id": "38f75cc2",
   "metadata": {
    "ExecuteTime": {
     "end_time": "2023-11-01T13:28:59.792126Z",
     "start_time": "2023-11-01T13:28:59.677251Z"
    }
   },
   "outputs": [],
   "source": [
    "# ! pip install -U pip setuptools wheel\n",
    "# ! pip install -U spacy\n",
    "# ! python -m spacy download en_core_web_sm"
   ]
  },
  {
   "cell_type": "code",
   "execution_count": 3,
   "id": "e3840e22",
   "metadata": {
    "ExecuteTime": {
     "end_time": "2023-11-01T13:29:01.903014Z",
     "start_time": "2023-11-01T13:28:59.798783Z"
    }
   },
   "outputs": [
    {
     "name": "stdout",
     "output_type": "stream",
     "text": [
      "\u001b[33mWARNING: Error parsing requirements for jupyter-highlight-selected-word: [Errno 2] Нет такого файла или каталога: '/home/tomasha1980/anaconda3/envs/ds_practicum_env/lib/python3.9/site-packages/jupyter_highlight_selected_word-0.2.0.dist-info/METADATA'\u001b[0m\u001b[33m\r\n",
      "\u001b[0m"
     ]
    }
   ],
   "source": [
    "! pip install -q optuna"
   ]
  },
  {
   "cell_type": "code",
   "execution_count": 4,
   "id": "0bee925c",
   "metadata": {
    "ExecuteTime": {
     "end_time": "2023-11-01T13:29:03.654297Z",
     "start_time": "2023-11-01T13:29:01.908638Z"
    }
   },
   "outputs": [
    {
     "name": "stdout",
     "output_type": "stream",
     "text": [
      "Requirement already satisfied: lightgbm in /home/tomasha1980/anaconda3/envs/ds_practicum_env/lib/python3.9/site-packages (4.1.0)\n",
      "Requirement already satisfied: numpy in /home/tomasha1980/anaconda3/envs/ds_practicum_env/lib/python3.9/site-packages (from lightgbm) (1.24.4)\n",
      "Requirement already satisfied: scipy in /home/tomasha1980/anaconda3/envs/ds_practicum_env/lib/python3.9/site-packages (from lightgbm) (1.8.0)\n",
      "\u001b[33mWARNING: Error parsing requirements for jupyter-highlight-selected-word: [Errno 2] Нет такого файла или каталога: '/home/tomasha1980/anaconda3/envs/ds_practicum_env/lib/python3.9/site-packages/jupyter_highlight_selected_word-0.2.0.dist-info/METADATA'\u001b[0m\u001b[33m\n",
      "\u001b[0m"
     ]
    }
   ],
   "source": [
    "! pip install lightgbm"
   ]
  },
  {
   "cell_type": "code",
   "execution_count": 5,
   "id": "2cf17f46",
   "metadata": {
    "ExecuteTime": {
     "end_time": "2023-11-01T13:29:04.611528Z",
     "start_time": "2023-11-01T13:29:03.662420Z"
    }
   },
   "outputs": [],
   "source": [
    "import pandas as pd \n",
    "\n",
    "# # для анализа данных\n",
    "# from ydata_profiling import ProfileReport\n",
    "\n",
    "import numpy as np\n",
    "\n",
    "# для графиков\n",
    "import matplotlib.pyplot as plt\n",
    "import seaborn as sns\n",
    "\n",
    "#для загрузки данных и с сервера и локально\n",
    "import os\n",
    "# для скрытия ошибок\n",
    "import warnings\n",
    "from IPython.display import display\n",
    "# для условно рандомных состояний\n",
    "from numpy.random import RandomState\n",
    "# регулярные выражения\n",
    "import re\n",
    "# #Лемматизатор\n",
    "# import spacy\n",
    "# # модель для лемматизации английского языка\n",
    "# import en_core_web_sm\n",
    "\n",
    "# разбиение на выборки\n",
    "from sklearn.model_selection import train_test_split\n",
    "# перемешивание для upsample\n",
    "from sklearn.utils import shuffle\n",
    "\n",
    "from datetime import datetime\n",
    "\n",
    "# # расчитаем TF-IDF\n",
    "# from sklearn.feature_extraction.text import TfidfVectorizer\n",
    "# from nltk.corpus import stopwords\n",
    "# import nltk\n",
    "\n",
    "# Логистическая регрессия\n",
    "from sklearn.linear_model import LogisticRegression\n",
    "# # Дерево Решений классификатор\n",
    "# from sklearn.tree import DecisionTreeClassifier\n",
    "# # Случайный лес классификатор\n",
    "# from sklearn.ensemble import RandomForestClassifier\n",
    "# Ridge регрессия\n",
    "from sklearn.linear_model import RidgeClassifier\n",
    "# для создания конвеера/ трудопровода\n",
    "from sklearn.pipeline import Pipeline, make_pipeline\n",
    "# для маштабирования признаков\n",
    "from sklearn.preprocessing import StandardScaler\n",
    "# заполнение пропусков\n",
    "from sklearn.impute import SimpleImputer\n",
    "# векторизация текста\n",
    "from sklearn.feature_extraction.text import TfidfVectorizer\n",
    "# обработка категориальных признаков\n",
    "from sklearn.preprocessing import OrdinalEncoder\n",
    "# обработка категориальных признаков\n",
    "from sklearn.preprocessing import OneHotEncoder\n",
    "# для раздельной предобработки количествнных и категорийных признаков\n",
    "from sklearn.compose import ColumnTransformer\n",
    "from sklearn.dummy import DummyClassifier\n",
    "\n",
    "# F1 метрика\n",
    "from sklearn.metrics import f1_score\n",
    "\n",
    "# # для подбора параметров моделей\n",
    "# from sklearn.model_selection import GridSearchCV\n",
    "\n",
    "# оптимизация параметров моделей\n",
    "import optuna\n",
    "\n",
    "import lightgbm as lgb"
   ]
  },
  {
   "cell_type": "markdown",
   "id": "6152da4c",
   "metadata": {},
   "source": [
    "### Настройки"
   ]
  },
  {
   "cell_type": "code",
   "execution_count": 6,
   "id": "41f79315",
   "metadata": {
    "ExecuteTime": {
     "end_time": "2023-11-01T13:29:04.618257Z",
     "start_time": "2023-11-01T13:29:04.614036Z"
    }
   },
   "outputs": [],
   "source": [
    "# для скрытия ошибок\n",
    "warnings.filterwarnings(\"ignore\")\n",
    "\n",
    "# для увеличения окна вывода \n",
    "pd.options.display.max_rows = 100\n",
    "# максимальная вместимость ячейки для отображения\n",
    "pd.set_option('display.max_colwidth', None)\n",
    "# четыре знака после запятой\n",
    "pd.set_option('display.float_format', '{:.4f}'.format)\n",
    "\n",
    "# для задания размера графиков по умолчанию\n",
    "plt.rcParams[\"figure.figsize\"] = (7, 5)\n",
    "\n",
    "# для псевдорандомных значений\n",
    "np.random.seed(seed=54321)\n",
    "np.random.RandomState(seed=54321)\n",
    "RS=54321\n",
    "\n",
    "# # загрузим английские стоп слова\n",
    "# nltk.download('stopwords')\n",
    "# stop_words = set(stopwords.words('english'))"
   ]
  },
  {
   "cell_type": "markdown",
   "id": "0fd95ebf",
   "metadata": {},
   "source": [
    "## Загрузка данных"
   ]
  },
  {
   "cell_type": "code",
   "execution_count": 7,
   "id": "3904b9ce",
   "metadata": {
    "ExecuteTime": {
     "end_time": "2023-11-01T13:29:04.878650Z",
     "start_time": "2023-11-01T13:29:04.619316Z"
    }
   },
   "outputs": [
    {
     "name": "stdout",
     "output_type": "stream",
     "text": [
      "<class 'pandas.core.frame.DataFrame'>\n",
      "Index: 41090 entries, 9748 to 24495\n",
      "Data columns (total 11 columns):\n",
      " #   Column           Non-Null Count  Dtype  \n",
      "---  ------           --------------  -----  \n",
      " 0   title_lemm       41019 non-null  object \n",
      " 1   language         12351 non-null  object \n",
      " 2   title_language   41043 non-null  object \n",
      " 3   isrc_country     40905 non-null  object \n",
      " 4   isrc_prod_centr  40905 non-null  object \n",
      " 5   genres_big_cat   41090 non-null  object \n",
      " 6   dttm             41090 non-null  int64  \n",
      " 7   duration         41090 non-null  int64  \n",
      " 8   title_len        41090 non-null  int64  \n",
      " 9   isrc_year        40905 non-null  float64\n",
      " 10  isrc_reg_number  40905 non-null  float64\n",
      "dtypes: float64(2), int64(3), object(6)\n",
      "memory usage: 3.8+ MB\n"
     ]
    },
    {
     "data": {
      "text/html": [
       "<div>\n",
       "<style scoped>\n",
       "    .dataframe tbody tr th:only-of-type {\n",
       "        vertical-align: middle;\n",
       "    }\n",
       "\n",
       "    .dataframe tbody tr th {\n",
       "        vertical-align: top;\n",
       "    }\n",
       "\n",
       "    .dataframe thead th {\n",
       "        text-align: right;\n",
       "    }\n",
       "</style>\n",
       "<table border=\"1\" class=\"dataframe\">\n",
       "  <thead>\n",
       "    <tr style=\"text-align: right;\">\n",
       "      <th></th>\n",
       "      <th>title_lemm</th>\n",
       "      <th>language</th>\n",
       "      <th>title_language</th>\n",
       "      <th>isrc_country</th>\n",
       "      <th>isrc_prod_centr</th>\n",
       "      <th>genres_big_cat</th>\n",
       "      <th>dttm</th>\n",
       "      <th>duration</th>\n",
       "      <th>title_len</th>\n",
       "      <th>isrc_year</th>\n",
       "      <th>isrc_reg_number</th>\n",
       "    </tr>\n",
       "  </thead>\n",
       "  <tbody>\n",
       "    <tr>\n",
       "      <th>9748</th>\n",
       "      <td>smell like teen spirit</td>\n",
       "      <td>EN</td>\n",
       "      <td>EN</td>\n",
       "      <td>GB</td>\n",
       "      <td>PW4</td>\n",
       "      <td>ROCK</td>\n",
       "      <td>1486692362000000000</td>\n",
       "      <td>307880</td>\n",
       "      <td>23</td>\n",
       "      <td>2015.0000</td>\n",
       "      <td>20845.0000</td>\n",
       "    </tr>\n",
       "    <tr>\n",
       "      <th>57013</th>\n",
       "      <td>illness of you</td>\n",
       "      <td>NaN</td>\n",
       "      <td>ES</td>\n",
       "      <td>QZ</td>\n",
       "      <td>5AB</td>\n",
       "      <td>POP</td>\n",
       "      <td>1643334417000000000</td>\n",
       "      <td>216190</td>\n",
       "      <td>16</td>\n",
       "      <td>2022.0000</td>\n",
       "      <td>42806.0000</td>\n",
       "    </tr>\n",
       "    <tr>\n",
       "      <th>54292</th>\n",
       "      <td>traitor</td>\n",
       "      <td>NaN</td>\n",
       "      <td>EN</td>\n",
       "      <td>QZ</td>\n",
       "      <td>PJ3</td>\n",
       "      <td>ALTERNATIVE</td>\n",
       "      <td>1639602429000000000</td>\n",
       "      <td>229780</td>\n",
       "      <td>7</td>\n",
       "      <td>2021.0000</td>\n",
       "      <td>29867.0000</td>\n",
       "    </tr>\n",
       "    <tr>\n",
       "      <th>2316</th>\n",
       "      <td>in the end</td>\n",
       "      <td>NaN</td>\n",
       "      <td>EN</td>\n",
       "      <td>US</td>\n",
       "      <td>A56</td>\n",
       "      <td>METAL</td>\n",
       "      <td>1320928892000000000</td>\n",
       "      <td>217120</td>\n",
       "      <td>10</td>\n",
       "      <td>2008.0000</td>\n",
       "      <td>98778.0000</td>\n",
       "    </tr>\n",
       "    <tr>\n",
       "      <th>25572</th>\n",
       "      <td>we will be</td>\n",
       "      <td>NaN</td>\n",
       "      <td>ES</td>\n",
       "      <td>QZ</td>\n",
       "      <td>NJW</td>\n",
       "      <td>FOLK</td>\n",
       "      <td>1603727794000000000</td>\n",
       "      <td>139700</td>\n",
       "      <td>7</td>\n",
       "      <td>2020.0000</td>\n",
       "      <td>24077.0000</td>\n",
       "    </tr>\n",
       "  </tbody>\n",
       "</table>\n",
       "</div>"
      ],
      "text/plain": [
       "                   title_lemm language title_language isrc_country  \\\n",
       "9748   smell like teen spirit       EN             EN           GB   \n",
       "57013          illness of you      NaN             ES           QZ   \n",
       "54292                 traitor      NaN             EN           QZ   \n",
       "2316               in the end      NaN             EN           US   \n",
       "25572              we will be      NaN             ES           QZ   \n",
       "\n",
       "      isrc_prod_centr genres_big_cat                 dttm  duration  \\\n",
       "9748              PW4           ROCK  1486692362000000000    307880   \n",
       "57013             5AB            POP  1643334417000000000    216190   \n",
       "54292             PJ3    ALTERNATIVE  1639602429000000000    229780   \n",
       "2316              A56          METAL  1320928892000000000    217120   \n",
       "25572             NJW           FOLK  1603727794000000000    139700   \n",
       "\n",
       "       title_len  isrc_year  isrc_reg_number  \n",
       "9748          23  2015.0000       20845.0000  \n",
       "57013         16  2022.0000       42806.0000  \n",
       "54292          7  2021.0000       29867.0000  \n",
       "2316          10  2008.0000       98778.0000  \n",
       "25572          7  2020.0000       24077.0000  "
      ]
     },
     "execution_count": 7,
     "metadata": {},
     "output_type": "execute_result"
    }
   ],
   "source": [
    "path_features_train = 'data/preprocessing/features_train.csv'\n",
    "\n",
    "features_train = pd.read_csv(path_features_train)\n",
    "features_train['dttm'] = pd.to_datetime(features_train['dttm'], unit='ns', origin='unix').astype('int')\n",
    "features_train.info()\n",
    "features_train.head()\n",
    "\n"
   ]
  },
  {
   "cell_type": "code",
   "execution_count": 8,
   "id": "7a170b9c",
   "metadata": {
    "ExecuteTime": {
     "end_time": "2023-11-01T13:29:04.996479Z",
     "start_time": "2023-11-01T13:29:04.879997Z"
    }
   },
   "outputs": [
    {
     "name": "stdout",
     "output_type": "stream",
     "text": [
      "<class 'pandas.core.frame.DataFrame'>\n",
      "Index: 77140 entries, 68233 to 67280\n",
      "Data columns (total 11 columns):\n",
      " #   Column           Non-Null Count  Dtype  \n",
      "---  ------           --------------  -----  \n",
      " 0   title_lemm       76901 non-null  object \n",
      " 1   language         32371 non-null  object \n",
      " 2   title_language   77037 non-null  object \n",
      " 3   isrc_country     76171 non-null  object \n",
      " 4   isrc_prod_centr  76171 non-null  object \n",
      " 5   genres_big_cat   77140 non-null  object \n",
      " 6   dttm             77140 non-null  int64  \n",
      " 7   duration         77140 non-null  int64  \n",
      " 8   title_len        77140 non-null  int64  \n",
      " 9   isrc_year        76171 non-null  float64\n",
      " 10  isrc_reg_number  76171 non-null  float64\n",
      "dtypes: float64(2), int64(3), object(6)\n",
      "memory usage: 7.1+ MB\n"
     ]
    },
    {
     "data": {
      "text/html": [
       "<div>\n",
       "<style scoped>\n",
       "    .dataframe tbody tr th:only-of-type {\n",
       "        vertical-align: middle;\n",
       "    }\n",
       "\n",
       "    .dataframe tbody tr th {\n",
       "        vertical-align: top;\n",
       "    }\n",
       "\n",
       "    .dataframe thead th {\n",
       "        text-align: right;\n",
       "    }\n",
       "</style>\n",
       "<table border=\"1\" class=\"dataframe\">\n",
       "  <thead>\n",
       "    <tr style=\"text-align: right;\">\n",
       "      <th></th>\n",
       "      <th>title_lemm</th>\n",
       "      <th>language</th>\n",
       "      <th>title_language</th>\n",
       "      <th>isrc_country</th>\n",
       "      <th>isrc_prod_centr</th>\n",
       "      <th>genres_big_cat</th>\n",
       "      <th>dttm</th>\n",
       "      <th>duration</th>\n",
       "      <th>title_len</th>\n",
       "      <th>isrc_year</th>\n",
       "      <th>isrc_reg_number</th>\n",
       "    </tr>\n",
       "  </thead>\n",
       "  <tbody>\n",
       "    <tr>\n",
       "      <th>68233</th>\n",
       "      <td>I m so lucky</td>\n",
       "      <td>NaN</td>\n",
       "      <td>RU</td>\n",
       "      <td>RU</td>\n",
       "      <td>B42</td>\n",
       "      <td>POP</td>\n",
       "      <td>1687467600000000000</td>\n",
       "      <td>204930</td>\n",
       "      <td>15</td>\n",
       "      <td>2023.0000</td>\n",
       "      <td>1729.0000</td>\n",
       "    </tr>\n",
       "    <tr>\n",
       "      <th>68278</th>\n",
       "      <td>forget</td>\n",
       "      <td>RU</td>\n",
       "      <td>RU</td>\n",
       "      <td>RU</td>\n",
       "      <td>AC4</td>\n",
       "      <td>POP</td>\n",
       "      <td>1689282000000000000</td>\n",
       "      <td>202100</td>\n",
       "      <td>6</td>\n",
       "      <td>2023.0000</td>\n",
       "      <td>201.0000</td>\n",
       "    </tr>\n",
       "    <tr>\n",
       "      <th>67747</th>\n",
       "      <td>heart in half</td>\n",
       "      <td>RU</td>\n",
       "      <td>RU</td>\n",
       "      <td>FR</td>\n",
       "      <td>10S</td>\n",
       "      <td>RAP</td>\n",
       "      <td>1674162000000000000</td>\n",
       "      <td>203720</td>\n",
       "      <td>16</td>\n",
       "      <td>2023.0000</td>\n",
       "      <td>73214.0000</td>\n",
       "    </tr>\n",
       "    <tr>\n",
       "      <th>67559</th>\n",
       "      <td>tonight</td>\n",
       "      <td>NaN</td>\n",
       "      <td>EN</td>\n",
       "      <td>RU</td>\n",
       "      <td>AGT</td>\n",
       "      <td>OTHER</td>\n",
       "      <td>1672347600000000000</td>\n",
       "      <td>128210</td>\n",
       "      <td>7</td>\n",
       "      <td>2022.0000</td>\n",
       "      <td>9328.0000</td>\n",
       "    </tr>\n",
       "    <tr>\n",
       "      <th>49099</th>\n",
       "      <td>coffee with raindrop</td>\n",
       "      <td>RU</td>\n",
       "      <td>RU</td>\n",
       "      <td>RU</td>\n",
       "      <td>ACR</td>\n",
       "      <td>POP</td>\n",
       "      <td>1634763600000000000</td>\n",
       "      <td>151380</td>\n",
       "      <td>20</td>\n",
       "      <td>2021.0000</td>\n",
       "      <td>343.0000</td>\n",
       "    </tr>\n",
       "  </tbody>\n",
       "</table>\n",
       "</div>"
      ],
      "text/plain": [
       "                 title_lemm language title_language isrc_country  \\\n",
       "68233          I m so lucky      NaN             RU           RU   \n",
       "68278                forget       RU             RU           RU   \n",
       "67747         heart in half       RU             RU           FR   \n",
       "67559               tonight      NaN             EN           RU   \n",
       "49099  coffee with raindrop       RU             RU           RU   \n",
       "\n",
       "      isrc_prod_centr genres_big_cat                 dttm  duration  \\\n",
       "68233             B42            POP  1687467600000000000    204930   \n",
       "68278             AC4            POP  1689282000000000000    202100   \n",
       "67747             10S            RAP  1674162000000000000    203720   \n",
       "67559             AGT          OTHER  1672347600000000000    128210   \n",
       "49099             ACR            POP  1634763600000000000    151380   \n",
       "\n",
       "       title_len  isrc_year  isrc_reg_number  \n",
       "68233         15  2023.0000        1729.0000  \n",
       "68278          6  2023.0000         201.0000  \n",
       "67747         16  2023.0000       73214.0000  \n",
       "67559          7  2022.0000        9328.0000  \n",
       "49099         20  2021.0000         343.0000  "
      ]
     },
     "execution_count": 8,
     "metadata": {},
     "output_type": "execute_result"
    }
   ],
   "source": [
    "path_features_train_upsamled = 'data/preprocessing/features_train_upsamled.csv'\n",
    "\n",
    "features_train_upsamled = pd.read_csv(path_features_train_upsamled)\n",
    "features_train_upsamled['dttm'] = pd.to_datetime(\n",
    "    features_train_upsamled['dttm'], unit='ns', origin='unix').astype('int')\n",
    "features_train_upsamled.info()\n",
    "features_train_upsamled.head()"
   ]
  },
  {
   "cell_type": "code",
   "execution_count": 9,
   "id": "4e6c718c",
   "metadata": {
    "ExecuteTime": {
     "end_time": "2023-11-01T13:29:05.031355Z",
     "start_time": "2023-11-01T13:29:04.997425Z"
    }
   },
   "outputs": [
    {
     "name": "stdout",
     "output_type": "stream",
     "text": [
      "<class 'pandas.core.frame.DataFrame'>\n",
      "Index: 13697 entries, 32921 to 2690\n",
      "Data columns (total 11 columns):\n",
      " #   Column           Non-Null Count  Dtype  \n",
      "---  ------           --------------  -----  \n",
      " 0   title_lemm       13673 non-null  object \n",
      " 1   language         4166 non-null   object \n",
      " 2   title_language   13683 non-null  object \n",
      " 3   isrc_country     13644 non-null  object \n",
      " 4   isrc_prod_centr  13644 non-null  object \n",
      " 5   genres_big_cat   13697 non-null  object \n",
      " 6   dttm             13697 non-null  int64  \n",
      " 7   duration         13697 non-null  int64  \n",
      " 8   title_len        13697 non-null  int64  \n",
      " 9   isrc_year        13644 non-null  float64\n",
      " 10  isrc_reg_number  13644 non-null  float64\n",
      "dtypes: float64(2), int64(3), object(6)\n",
      "memory usage: 1.3+ MB\n"
     ]
    },
    {
     "data": {
      "text/html": [
       "<div>\n",
       "<style scoped>\n",
       "    .dataframe tbody tr th:only-of-type {\n",
       "        vertical-align: middle;\n",
       "    }\n",
       "\n",
       "    .dataframe tbody tr th {\n",
       "        vertical-align: top;\n",
       "    }\n",
       "\n",
       "    .dataframe thead th {\n",
       "        text-align: right;\n",
       "    }\n",
       "</style>\n",
       "<table border=\"1\" class=\"dataframe\">\n",
       "  <thead>\n",
       "    <tr style=\"text-align: right;\">\n",
       "      <th></th>\n",
       "      <th>title_lemm</th>\n",
       "      <th>language</th>\n",
       "      <th>title_language</th>\n",
       "      <th>isrc_country</th>\n",
       "      <th>isrc_prod_centr</th>\n",
       "      <th>genres_big_cat</th>\n",
       "      <th>dttm</th>\n",
       "      <th>duration</th>\n",
       "      <th>title_len</th>\n",
       "      <th>isrc_year</th>\n",
       "      <th>isrc_reg_number</th>\n",
       "    </tr>\n",
       "  </thead>\n",
       "  <tbody>\n",
       "    <tr>\n",
       "      <th>32921</th>\n",
       "      <td>steal kiss</td>\n",
       "      <td>NaN</td>\n",
       "      <td>PT</td>\n",
       "      <td>QZ</td>\n",
       "      <td>GLS</td>\n",
       "      <td>FOLK</td>\n",
       "      <td>1617267337000000000</td>\n",
       "      <td>152490</td>\n",
       "      <td>13</td>\n",
       "      <td>2021.0000</td>\n",
       "      <td>46491.0000</td>\n",
       "    </tr>\n",
       "    <tr>\n",
       "      <th>17112</th>\n",
       "      <td>swan song</td>\n",
       "      <td>EN</td>\n",
       "      <td>EN</td>\n",
       "      <td>FR</td>\n",
       "      <td>59R</td>\n",
       "      <td>OTHER</td>\n",
       "      <td>1562576783000000000</td>\n",
       "      <td>182710</td>\n",
       "      <td>9</td>\n",
       "      <td>2019.0000</td>\n",
       "      <td>58134.0000</td>\n",
       "    </tr>\n",
       "    <tr>\n",
       "      <th>50472</th>\n",
       "      <td>all about you</td>\n",
       "      <td>NaN</td>\n",
       "      <td>ES</td>\n",
       "      <td>QZ</td>\n",
       "      <td>NJY</td>\n",
       "      <td>ALTERNATIVE</td>\n",
       "      <td>1635371163000000000</td>\n",
       "      <td>202000</td>\n",
       "      <td>10</td>\n",
       "      <td>2021.0000</td>\n",
       "      <td>8868.0000</td>\n",
       "    </tr>\n",
       "    <tr>\n",
       "      <th>41933</th>\n",
       "      <td>edge of the earth</td>\n",
       "      <td>EN</td>\n",
       "      <td>EN</td>\n",
       "      <td>QZ</td>\n",
       "      <td>S63</td>\n",
       "      <td>ROCK</td>\n",
       "      <td>1628629200000000000</td>\n",
       "      <td>294000</td>\n",
       "      <td>17</td>\n",
       "      <td>2021.0000</td>\n",
       "      <td>78917.0000</td>\n",
       "    </tr>\n",
       "    <tr>\n",
       "      <th>38544</th>\n",
       "      <td>act</td>\n",
       "      <td>NaN</td>\n",
       "      <td>PT</td>\n",
       "      <td>QZ</td>\n",
       "      <td>HZ5</td>\n",
       "      <td>FOLK</td>\n",
       "      <td>1624541502000000000</td>\n",
       "      <td>176930</td>\n",
       "      <td>7</td>\n",
       "      <td>2021.0000</td>\n",
       "      <td>61294.0000</td>\n",
       "    </tr>\n",
       "  </tbody>\n",
       "</table>\n",
       "</div>"
      ],
      "text/plain": [
       "              title_lemm language title_language isrc_country isrc_prod_centr  \\\n",
       "32921         steal kiss      NaN             PT           QZ             GLS   \n",
       "17112          swan song       EN             EN           FR             59R   \n",
       "50472      all about you      NaN             ES           QZ             NJY   \n",
       "41933  edge of the earth       EN             EN           QZ             S63   \n",
       "38544                act      NaN             PT           QZ             HZ5   \n",
       "\n",
       "      genres_big_cat                 dttm  duration  title_len  isrc_year  \\\n",
       "32921           FOLK  1617267337000000000    152490         13  2021.0000   \n",
       "17112          OTHER  1562576783000000000    182710          9  2019.0000   \n",
       "50472    ALTERNATIVE  1635371163000000000    202000         10  2021.0000   \n",
       "41933           ROCK  1628629200000000000    294000         17  2021.0000   \n",
       "38544           FOLK  1624541502000000000    176930          7  2021.0000   \n",
       "\n",
       "       isrc_reg_number  \n",
       "32921       46491.0000  \n",
       "17112       58134.0000  \n",
       "50472        8868.0000  \n",
       "41933       78917.0000  \n",
       "38544       61294.0000  "
      ]
     },
     "execution_count": 9,
     "metadata": {},
     "output_type": "execute_result"
    }
   ],
   "source": [
    "path_features_valid = 'data/preprocessing/features_valid.csv'\n",
    "\n",
    "features_valid = pd.read_csv(path_features_valid)\n",
    "features_valid['dttm'] = pd.to_datetime(features_valid['dttm'], \n",
    "                                        unit='ns', origin='unix').astype('int')\n",
    "features_valid.info()\n",
    "features_valid.head()"
   ]
  },
  {
   "cell_type": "code",
   "execution_count": 10,
   "id": "7a4643fc",
   "metadata": {
    "ExecuteTime": {
     "end_time": "2023-11-01T13:29:05.132640Z",
     "start_time": "2023-11-01T13:29:05.032408Z"
    }
   },
   "outputs": [
    {
     "name": "stdout",
     "output_type": "stream",
     "text": [
      "<class 'pandas.core.frame.DataFrame'>\n",
      "Index: 13697 entries, 35892 to 27147\n",
      "Data columns (total 11 columns):\n",
      " #   Column           Non-Null Count  Dtype  \n",
      "---  ------           --------------  -----  \n",
      " 0   title_lemm       13677 non-null  object \n",
      " 1   language         4144 non-null   object \n",
      " 2   title_language   13684 non-null  object \n",
      " 3   isrc_country     13627 non-null  object \n",
      " 4   isrc_prod_centr  13627 non-null  object \n",
      " 5   genres_big_cat   13697 non-null  object \n",
      " 6   dttm             13697 non-null  int64  \n",
      " 7   duration         13697 non-null  int64  \n",
      " 8   title_len        13697 non-null  int64  \n",
      " 9   isrc_year        13627 non-null  float64\n",
      " 10  isrc_reg_number  13627 non-null  float64\n",
      "dtypes: float64(2), int64(3), object(6)\n",
      "memory usage: 1.3+ MB\n"
     ]
    },
    {
     "data": {
      "text/html": [
       "<div>\n",
       "<style scoped>\n",
       "    .dataframe tbody tr th:only-of-type {\n",
       "        vertical-align: middle;\n",
       "    }\n",
       "\n",
       "    .dataframe tbody tr th {\n",
       "        vertical-align: top;\n",
       "    }\n",
       "\n",
       "    .dataframe thead th {\n",
       "        text-align: right;\n",
       "    }\n",
       "</style>\n",
       "<table border=\"1\" class=\"dataframe\">\n",
       "  <thead>\n",
       "    <tr style=\"text-align: right;\">\n",
       "      <th></th>\n",
       "      <th>title_lemm</th>\n",
       "      <th>language</th>\n",
       "      <th>title_language</th>\n",
       "      <th>isrc_country</th>\n",
       "      <th>isrc_prod_centr</th>\n",
       "      <th>genres_big_cat</th>\n",
       "      <th>dttm</th>\n",
       "      <th>duration</th>\n",
       "      <th>title_len</th>\n",
       "      <th>isrc_year</th>\n",
       "      <th>isrc_reg_number</th>\n",
       "    </tr>\n",
       "  </thead>\n",
       "  <tbody>\n",
       "    <tr>\n",
       "      <th>35892</th>\n",
       "      <td>hunt rare devil</td>\n",
       "      <td>NaN</td>\n",
       "      <td>EN</td>\n",
       "      <td>QZ</td>\n",
       "      <td>GWX</td>\n",
       "      <td>ROCK</td>\n",
       "      <td>1621439750000000000</td>\n",
       "      <td>169160</td>\n",
       "      <td>20</td>\n",
       "      <td>2021.0000</td>\n",
       "      <td>91089.0000</td>\n",
       "    </tr>\n",
       "    <tr>\n",
       "      <th>35440</th>\n",
       "      <td>k chler concert violin op mov</td>\n",
       "      <td>NaN</td>\n",
       "      <td>EN</td>\n",
       "      <td>QZ</td>\n",
       "      <td>HZ4</td>\n",
       "      <td>OTHER</td>\n",
       "      <td>1620676022000000000</td>\n",
       "      <td>242100</td>\n",
       "      <td>37</td>\n",
       "      <td>2021.0000</td>\n",
       "      <td>39448.0000</td>\n",
       "    </tr>\n",
       "    <tr>\n",
       "      <th>31958</th>\n",
       "      <td>the man who sell the world</td>\n",
       "      <td>EN</td>\n",
       "      <td>EN</td>\n",
       "      <td>GB</td>\n",
       "      <td>EQT</td>\n",
       "      <td>RNB</td>\n",
       "      <td>1618434000000000000</td>\n",
       "      <td>208480</td>\n",
       "      <td>26</td>\n",
       "      <td>2021.0000</td>\n",
       "      <td>20.0000</td>\n",
       "    </tr>\n",
       "    <tr>\n",
       "      <th>16322</th>\n",
       "      <td>after midnight</td>\n",
       "      <td>EN</td>\n",
       "      <td>EN</td>\n",
       "      <td>IT</td>\n",
       "      <td>AD8</td>\n",
       "      <td>OTHER</td>\n",
       "      <td>1557090000000000000</td>\n",
       "      <td>182000</td>\n",
       "      <td>14</td>\n",
       "      <td>2019.0000</td>\n",
       "      <td>37.0000</td>\n",
       "    </tr>\n",
       "    <tr>\n",
       "      <th>46927</th>\n",
       "      <td>another dimension</td>\n",
       "      <td>NaN</td>\n",
       "      <td>ES</td>\n",
       "      <td>AR</td>\n",
       "      <td>E27</td>\n",
       "      <td>RNB</td>\n",
       "      <td>1632173582000000000</td>\n",
       "      <td>216720</td>\n",
       "      <td>14</td>\n",
       "      <td>2021.0000</td>\n",
       "      <td>18.0000</td>\n",
       "    </tr>\n",
       "  </tbody>\n",
       "</table>\n",
       "</div>"
      ],
      "text/plain": [
       "                          title_lemm language title_language isrc_country  \\\n",
       "35892                hunt rare devil      NaN             EN           QZ   \n",
       "35440  k chler concert violin op mov      NaN             EN           QZ   \n",
       "31958     the man who sell the world       EN             EN           GB   \n",
       "16322                 after midnight       EN             EN           IT   \n",
       "46927              another dimension      NaN             ES           AR   \n",
       "\n",
       "      isrc_prod_centr genres_big_cat                 dttm  duration  \\\n",
       "35892             GWX           ROCK  1621439750000000000    169160   \n",
       "35440             HZ4          OTHER  1620676022000000000    242100   \n",
       "31958             EQT            RNB  1618434000000000000    208480   \n",
       "16322             AD8          OTHER  1557090000000000000    182000   \n",
       "46927             E27            RNB  1632173582000000000    216720   \n",
       "\n",
       "       title_len  isrc_year  isrc_reg_number  \n",
       "35892         20  2021.0000       91089.0000  \n",
       "35440         37  2021.0000       39448.0000  \n",
       "31958         26  2021.0000          20.0000  \n",
       "16322         14  2019.0000          37.0000  \n",
       "46927         14  2021.0000          18.0000  "
      ]
     },
     "execution_count": 10,
     "metadata": {},
     "output_type": "execute_result"
    }
   ],
   "source": [
    "path_features_test = 'data/preprocessing/features_test.csv'\n",
    "\n",
    "features_test = pd.read_csv(path_features_test)\n",
    "features_test['dttm'] = pd.to_datetime(features_test['dttm'], \n",
    "                                       unit='ns', origin='unix').astype('int')\n",
    "features_test.info()\n",
    "features_test.head()"
   ]
  },
  {
   "cell_type": "code",
   "execution_count": 11,
   "id": "1d5269c8",
   "metadata": {
    "ExecuteTime": {
     "end_time": "2023-11-01T13:29:05.216814Z",
     "start_time": "2023-11-01T13:29:05.134955Z"
    },
    "scrolled": true
   },
   "outputs": [
    {
     "data": {
      "text/html": [
       "<div>\n",
       "<style scoped>\n",
       "    .dataframe tbody tr th:only-of-type {\n",
       "        vertical-align: middle;\n",
       "    }\n",
       "\n",
       "    .dataframe tbody tr th {\n",
       "        vertical-align: top;\n",
       "    }\n",
       "\n",
       "    .dataframe thead th {\n",
       "        text-align: right;\n",
       "    }\n",
       "</style>\n",
       "<table border=\"1\" class=\"dataframe\">\n",
       "  <thead>\n",
       "    <tr style=\"text-align: right;\">\n",
       "      <th></th>\n",
       "      <th>track_remake_type</th>\n",
       "    </tr>\n",
       "  </thead>\n",
       "  <tbody>\n",
       "    <tr>\n",
       "      <th>count</th>\n",
       "      <td>77140.0000</td>\n",
       "    </tr>\n",
       "    <tr>\n",
       "      <th>mean</th>\n",
       "      <td>0.5007</td>\n",
       "    </tr>\n",
       "    <tr>\n",
       "      <th>std</th>\n",
       "      <td>0.5000</td>\n",
       "    </tr>\n",
       "    <tr>\n",
       "      <th>min</th>\n",
       "      <td>0.0000</td>\n",
       "    </tr>\n",
       "    <tr>\n",
       "      <th>25%</th>\n",
       "      <td>0.0000</td>\n",
       "    </tr>\n",
       "    <tr>\n",
       "      <th>50%</th>\n",
       "      <td>1.0000</td>\n",
       "    </tr>\n",
       "    <tr>\n",
       "      <th>75%</th>\n",
       "      <td>1.0000</td>\n",
       "    </tr>\n",
       "    <tr>\n",
       "      <th>max</th>\n",
       "      <td>1.0000</td>\n",
       "    </tr>\n",
       "  </tbody>\n",
       "</table>\n",
       "</div>"
      ],
      "text/plain": [
       "       track_remake_type\n",
       "count         77140.0000\n",
       "mean              0.5007\n",
       "std               0.5000\n",
       "min               0.0000\n",
       "25%               0.0000\n",
       "50%               1.0000\n",
       "75%               1.0000\n",
       "max               1.0000"
      ]
     },
     "metadata": {},
     "output_type": "display_data"
    },
    {
     "data": {
      "text/html": [
       "<div>\n",
       "<style scoped>\n",
       "    .dataframe tbody tr th:only-of-type {\n",
       "        vertical-align: middle;\n",
       "    }\n",
       "\n",
       "    .dataframe tbody tr th {\n",
       "        vertical-align: top;\n",
       "    }\n",
       "\n",
       "    .dataframe thead th {\n",
       "        text-align: right;\n",
       "    }\n",
       "</style>\n",
       "<table border=\"1\" class=\"dataframe\">\n",
       "  <thead>\n",
       "    <tr style=\"text-align: right;\">\n",
       "      <th></th>\n",
       "      <th>track_remake_type</th>\n",
       "    </tr>\n",
       "  </thead>\n",
       "  <tbody>\n",
       "    <tr>\n",
       "      <th>68233</th>\n",
       "      <td>1</td>\n",
       "    </tr>\n",
       "    <tr>\n",
       "      <th>68278</th>\n",
       "      <td>1</td>\n",
       "    </tr>\n",
       "    <tr>\n",
       "      <th>67747</th>\n",
       "      <td>1</td>\n",
       "    </tr>\n",
       "    <tr>\n",
       "      <th>67559</th>\n",
       "      <td>1</td>\n",
       "    </tr>\n",
       "    <tr>\n",
       "      <th>49099</th>\n",
       "      <td>1</td>\n",
       "    </tr>\n",
       "  </tbody>\n",
       "</table>\n",
       "</div>"
      ],
      "text/plain": [
       "       track_remake_type\n",
       "68233                  1\n",
       "68278                  1\n",
       "67747                  1\n",
       "67559                  1\n",
       "49099                  1"
      ]
     },
     "execution_count": 11,
     "metadata": {},
     "output_type": "execute_result"
    }
   ],
   "source": [
    "path_target_train = 'data/preprocessing/target_train.csv'\n",
    "\n",
    "target_train = pd.read_csv(path_target_train)\n",
    "display(target_train.describe())\n",
    "target_train.head()"
   ]
  },
  {
   "cell_type": "code",
   "execution_count": 12,
   "id": "fcfdb6f1",
   "metadata": {
    "ExecuteTime": {
     "end_time": "2023-11-01T13:29:05.362818Z",
     "start_time": "2023-11-01T13:29:05.218408Z"
    }
   },
   "outputs": [
    {
     "data": {
      "text/html": [
       "<div>\n",
       "<style scoped>\n",
       "    .dataframe tbody tr th:only-of-type {\n",
       "        vertical-align: middle;\n",
       "    }\n",
       "\n",
       "    .dataframe tbody tr th {\n",
       "        vertical-align: top;\n",
       "    }\n",
       "\n",
       "    .dataframe thead th {\n",
       "        text-align: right;\n",
       "    }\n",
       "</style>\n",
       "<table border=\"1\" class=\"dataframe\">\n",
       "  <thead>\n",
       "    <tr style=\"text-align: right;\">\n",
       "      <th></th>\n",
       "      <th>track_remake_type</th>\n",
       "    </tr>\n",
       "  </thead>\n",
       "  <tbody>\n",
       "    <tr>\n",
       "      <th>count</th>\n",
       "      <td>77140.0000</td>\n",
       "    </tr>\n",
       "    <tr>\n",
       "      <th>mean</th>\n",
       "      <td>0.5007</td>\n",
       "    </tr>\n",
       "    <tr>\n",
       "      <th>std</th>\n",
       "      <td>0.5000</td>\n",
       "    </tr>\n",
       "    <tr>\n",
       "      <th>min</th>\n",
       "      <td>0.0000</td>\n",
       "    </tr>\n",
       "    <tr>\n",
       "      <th>25%</th>\n",
       "      <td>0.0000</td>\n",
       "    </tr>\n",
       "    <tr>\n",
       "      <th>50%</th>\n",
       "      <td>1.0000</td>\n",
       "    </tr>\n",
       "    <tr>\n",
       "      <th>75%</th>\n",
       "      <td>1.0000</td>\n",
       "    </tr>\n",
       "    <tr>\n",
       "      <th>max</th>\n",
       "      <td>1.0000</td>\n",
       "    </tr>\n",
       "  </tbody>\n",
       "</table>\n",
       "</div>"
      ],
      "text/plain": [
       "       track_remake_type\n",
       "count         77140.0000\n",
       "mean              0.5007\n",
       "std               0.5000\n",
       "min               0.0000\n",
       "25%               0.0000\n",
       "50%               1.0000\n",
       "75%               1.0000\n",
       "max               1.0000"
      ]
     },
     "metadata": {},
     "output_type": "display_data"
    },
    {
     "data": {
      "text/html": [
       "<div>\n",
       "<style scoped>\n",
       "    .dataframe tbody tr th:only-of-type {\n",
       "        vertical-align: middle;\n",
       "    }\n",
       "\n",
       "    .dataframe tbody tr th {\n",
       "        vertical-align: top;\n",
       "    }\n",
       "\n",
       "    .dataframe thead th {\n",
       "        text-align: right;\n",
       "    }\n",
       "</style>\n",
       "<table border=\"1\" class=\"dataframe\">\n",
       "  <thead>\n",
       "    <tr style=\"text-align: right;\">\n",
       "      <th></th>\n",
       "      <th>track_remake_type</th>\n",
       "    </tr>\n",
       "  </thead>\n",
       "  <tbody>\n",
       "    <tr>\n",
       "      <th>68233</th>\n",
       "      <td>1</td>\n",
       "    </tr>\n",
       "    <tr>\n",
       "      <th>68278</th>\n",
       "      <td>1</td>\n",
       "    </tr>\n",
       "    <tr>\n",
       "      <th>67747</th>\n",
       "      <td>1</td>\n",
       "    </tr>\n",
       "    <tr>\n",
       "      <th>67559</th>\n",
       "      <td>1</td>\n",
       "    </tr>\n",
       "    <tr>\n",
       "      <th>49099</th>\n",
       "      <td>1</td>\n",
       "    </tr>\n",
       "  </tbody>\n",
       "</table>\n",
       "</div>"
      ],
      "text/plain": [
       "       track_remake_type\n",
       "68233                  1\n",
       "68278                  1\n",
       "67747                  1\n",
       "67559                  1\n",
       "49099                  1"
      ]
     },
     "execution_count": 12,
     "metadata": {},
     "output_type": "execute_result"
    }
   ],
   "source": [
    "path_target_train_upsampled = 'data/preprocessing/target_train_upsampled.csv'\n",
    "\n",
    "target_train_upsampled = pd.read_csv(path_target_train_upsampled)\n",
    "display(target_train_upsampled.describe())\n",
    "target_train.head()"
   ]
  },
  {
   "cell_type": "code",
   "execution_count": 13,
   "id": "350c1bc1",
   "metadata": {
    "ExecuteTime": {
     "end_time": "2023-11-01T13:29:05.444755Z",
     "start_time": "2023-11-01T13:29:05.364406Z"
    }
   },
   "outputs": [
    {
     "data": {
      "text/html": [
       "<div>\n",
       "<style scoped>\n",
       "    .dataframe tbody tr th:only-of-type {\n",
       "        vertical-align: middle;\n",
       "    }\n",
       "\n",
       "    .dataframe tbody tr th {\n",
       "        vertical-align: top;\n",
       "    }\n",
       "\n",
       "    .dataframe thead th {\n",
       "        text-align: right;\n",
       "    }\n",
       "</style>\n",
       "<table border=\"1\" class=\"dataframe\">\n",
       "  <thead>\n",
       "    <tr style=\"text-align: right;\">\n",
       "      <th></th>\n",
       "      <th>track_remake_type</th>\n",
       "    </tr>\n",
       "  </thead>\n",
       "  <tbody>\n",
       "    <tr>\n",
       "      <th>count</th>\n",
       "      <td>13697.0000</td>\n",
       "    </tr>\n",
       "    <tr>\n",
       "      <th>mean</th>\n",
       "      <td>0.0627</td>\n",
       "    </tr>\n",
       "    <tr>\n",
       "      <th>std</th>\n",
       "      <td>0.2425</td>\n",
       "    </tr>\n",
       "    <tr>\n",
       "      <th>min</th>\n",
       "      <td>0.0000</td>\n",
       "    </tr>\n",
       "    <tr>\n",
       "      <th>25%</th>\n",
       "      <td>0.0000</td>\n",
       "    </tr>\n",
       "    <tr>\n",
       "      <th>50%</th>\n",
       "      <td>0.0000</td>\n",
       "    </tr>\n",
       "    <tr>\n",
       "      <th>75%</th>\n",
       "      <td>0.0000</td>\n",
       "    </tr>\n",
       "    <tr>\n",
       "      <th>max</th>\n",
       "      <td>1.0000</td>\n",
       "    </tr>\n",
       "  </tbody>\n",
       "</table>\n",
       "</div>"
      ],
      "text/plain": [
       "       track_remake_type\n",
       "count         13697.0000\n",
       "mean              0.0627\n",
       "std               0.2425\n",
       "min               0.0000\n",
       "25%               0.0000\n",
       "50%               0.0000\n",
       "75%               0.0000\n",
       "max               1.0000"
      ]
     },
     "metadata": {},
     "output_type": "display_data"
    },
    {
     "data": {
      "text/html": [
       "<div>\n",
       "<style scoped>\n",
       "    .dataframe tbody tr th:only-of-type {\n",
       "        vertical-align: middle;\n",
       "    }\n",
       "\n",
       "    .dataframe tbody tr th {\n",
       "        vertical-align: top;\n",
       "    }\n",
       "\n",
       "    .dataframe thead th {\n",
       "        text-align: right;\n",
       "    }\n",
       "</style>\n",
       "<table border=\"1\" class=\"dataframe\">\n",
       "  <thead>\n",
       "    <tr style=\"text-align: right;\">\n",
       "      <th></th>\n",
       "      <th>track_remake_type</th>\n",
       "    </tr>\n",
       "  </thead>\n",
       "  <tbody>\n",
       "    <tr>\n",
       "      <th>32921</th>\n",
       "      <td>0</td>\n",
       "    </tr>\n",
       "    <tr>\n",
       "      <th>17112</th>\n",
       "      <td>0</td>\n",
       "    </tr>\n",
       "    <tr>\n",
       "      <th>50472</th>\n",
       "      <td>0</td>\n",
       "    </tr>\n",
       "    <tr>\n",
       "      <th>41933</th>\n",
       "      <td>0</td>\n",
       "    </tr>\n",
       "    <tr>\n",
       "      <th>38544</th>\n",
       "      <td>0</td>\n",
       "    </tr>\n",
       "  </tbody>\n",
       "</table>\n",
       "</div>"
      ],
      "text/plain": [
       "       track_remake_type\n",
       "32921                  0\n",
       "17112                  0\n",
       "50472                  0\n",
       "41933                  0\n",
       "38544                  0"
      ]
     },
     "execution_count": 13,
     "metadata": {},
     "output_type": "execute_result"
    }
   ],
   "source": [
    "path_target_valid = 'data/preprocessing/target_valid.csv'\n",
    "\n",
    "target_valid = pd.read_csv(path_target_valid)\n",
    "display(target_valid.describe())\n",
    "target_valid.head()"
   ]
  },
  {
   "cell_type": "code",
   "execution_count": 14,
   "id": "2edae607",
   "metadata": {
    "ExecuteTime": {
     "end_time": "2023-11-01T13:29:05.514383Z",
     "start_time": "2023-11-01T13:29:05.446883Z"
    }
   },
   "outputs": [
    {
     "data": {
      "text/html": [
       "<div>\n",
       "<style scoped>\n",
       "    .dataframe tbody tr th:only-of-type {\n",
       "        vertical-align: middle;\n",
       "    }\n",
       "\n",
       "    .dataframe tbody tr th {\n",
       "        vertical-align: top;\n",
       "    }\n",
       "\n",
       "    .dataframe thead th {\n",
       "        text-align: right;\n",
       "    }\n",
       "</style>\n",
       "<table border=\"1\" class=\"dataframe\">\n",
       "  <thead>\n",
       "    <tr style=\"text-align: right;\">\n",
       "      <th></th>\n",
       "      <th>track_remake_type</th>\n",
       "    </tr>\n",
       "  </thead>\n",
       "  <tbody>\n",
       "    <tr>\n",
       "      <th>count</th>\n",
       "      <td>13697.0000</td>\n",
       "    </tr>\n",
       "    <tr>\n",
       "      <th>mean</th>\n",
       "      <td>0.0626</td>\n",
       "    </tr>\n",
       "    <tr>\n",
       "      <th>std</th>\n",
       "      <td>0.2423</td>\n",
       "    </tr>\n",
       "    <tr>\n",
       "      <th>min</th>\n",
       "      <td>0.0000</td>\n",
       "    </tr>\n",
       "    <tr>\n",
       "      <th>25%</th>\n",
       "      <td>0.0000</td>\n",
       "    </tr>\n",
       "    <tr>\n",
       "      <th>50%</th>\n",
       "      <td>0.0000</td>\n",
       "    </tr>\n",
       "    <tr>\n",
       "      <th>75%</th>\n",
       "      <td>0.0000</td>\n",
       "    </tr>\n",
       "    <tr>\n",
       "      <th>max</th>\n",
       "      <td>1.0000</td>\n",
       "    </tr>\n",
       "  </tbody>\n",
       "</table>\n",
       "</div>"
      ],
      "text/plain": [
       "       track_remake_type\n",
       "count         13697.0000\n",
       "mean              0.0626\n",
       "std               0.2423\n",
       "min               0.0000\n",
       "25%               0.0000\n",
       "50%               0.0000\n",
       "75%               0.0000\n",
       "max               1.0000"
      ]
     },
     "metadata": {},
     "output_type": "display_data"
    },
    {
     "data": {
      "text/html": [
       "<div>\n",
       "<style scoped>\n",
       "    .dataframe tbody tr th:only-of-type {\n",
       "        vertical-align: middle;\n",
       "    }\n",
       "\n",
       "    .dataframe tbody tr th {\n",
       "        vertical-align: top;\n",
       "    }\n",
       "\n",
       "    .dataframe thead th {\n",
       "        text-align: right;\n",
       "    }\n",
       "</style>\n",
       "<table border=\"1\" class=\"dataframe\">\n",
       "  <thead>\n",
       "    <tr style=\"text-align: right;\">\n",
       "      <th></th>\n",
       "      <th>track_remake_type</th>\n",
       "    </tr>\n",
       "  </thead>\n",
       "  <tbody>\n",
       "    <tr>\n",
       "      <th>35892</th>\n",
       "      <td>0</td>\n",
       "    </tr>\n",
       "    <tr>\n",
       "      <th>35440</th>\n",
       "      <td>0</td>\n",
       "    </tr>\n",
       "    <tr>\n",
       "      <th>31958</th>\n",
       "      <td>0</td>\n",
       "    </tr>\n",
       "    <tr>\n",
       "      <th>16322</th>\n",
       "      <td>1</td>\n",
       "    </tr>\n",
       "    <tr>\n",
       "      <th>46927</th>\n",
       "      <td>0</td>\n",
       "    </tr>\n",
       "  </tbody>\n",
       "</table>\n",
       "</div>"
      ],
      "text/plain": [
       "       track_remake_type\n",
       "35892                  0\n",
       "35440                  0\n",
       "31958                  0\n",
       "16322                  1\n",
       "46927                  0"
      ]
     },
     "execution_count": 14,
     "metadata": {},
     "output_type": "execute_result"
    }
   ],
   "source": [
    "path_target_test = 'data/preprocessing/target_test.csv'\n",
    "\n",
    "target_test = pd.read_csv(path_target_test)\n",
    "display(target_test.describe())\n",
    "target_test.head()"
   ]
  },
  {
   "cell_type": "markdown",
   "id": "a9e6c0f2",
   "metadata": {},
   "source": [
    "## Метрика"
   ]
  },
  {
   "cell_type": "code",
   "execution_count": null,
   "id": "12217639",
   "metadata": {},
   "outputs": [],
   "source": []
  },
  {
   "cell_type": "code",
   "execution_count": null,
   "id": "92f8a57a",
   "metadata": {},
   "outputs": [],
   "source": []
  },
  {
   "cell_type": "code",
   "execution_count": null,
   "id": "9aa719f7",
   "metadata": {},
   "outputs": [],
   "source": []
  },
  {
   "cell_type": "code",
   "execution_count": null,
   "id": "08f2efea",
   "metadata": {},
   "outputs": [],
   "source": []
  },
  {
   "cell_type": "markdown",
   "id": "acbd2664",
   "metadata": {},
   "source": [
    "## Модели"
   ]
  },
  {
   "cell_type": "code",
   "execution_count": 15,
   "id": "1941193a",
   "metadata": {
    "ExecuteTime": {
     "end_time": "2023-11-01T13:29:05.600812Z",
     "start_time": "2023-11-01T13:29:05.515702Z"
    }
   },
   "outputs": [
    {
     "data": {
      "text/plain": [
       "Index(['title_lemm', 'language', 'title_language', 'isrc_country',\n",
       "       'isrc_prod_centr', 'genres_big_cat', 'dttm', 'duration', 'title_len',\n",
       "       'isrc_year', 'isrc_reg_number'],\n",
       "      dtype='object')"
      ]
     },
     "execution_count": 15,
     "metadata": {},
     "output_type": "execute_result"
    }
   ],
   "source": [
    "features_train_upsamled.columns"
   ]
  },
  {
   "cell_type": "code",
   "execution_count": 16,
   "id": "936d1b26",
   "metadata": {
    "ExecuteTime": {
     "end_time": "2023-11-01T13:29:05.708527Z",
     "start_time": "2023-11-01T13:29:05.605710Z"
    }
   },
   "outputs": [],
   "source": [
    "# запишем обучающие признаки в соответствующие списки\n",
    "features_list_text = ['title_lemm']\n",
    "features_list_cat = ['language', 'title_language', 'isrc_country',\n",
    "                     'isrc_prod_centr', 'genres_big_cat']\n",
    "\n",
    "features_list_num = ['dttm', 'duration', 'title_len', 'isrc_year','isrc_reg_number']"
   ]
  },
  {
   "cell_type": "code",
   "execution_count": 17,
   "id": "71fe8aff",
   "metadata": {
    "ExecuteTime": {
     "end_time": "2023-11-01T13:29:05.823503Z",
     "start_time": "2023-11-01T13:29:05.713799Z"
    }
   },
   "outputs": [
    {
     "data": {
      "text/plain": [
       "[1, 2, 3, 4, 5]"
      ]
     },
     "execution_count": 17,
     "metadata": {},
     "output_type": "execute_result"
    }
   ],
   "source": [
    "category_features_index = []\n",
    "\n",
    "for col in features_list_cat:\n",
    "    category_features_index.append(features_train_upsamled.columns.get_loc(col))\n",
    "    \n",
    "category_features_index"
   ]
  },
  {
   "cell_type": "code",
   "execution_count": 18,
   "id": "57a34148",
   "metadata": {
    "ExecuteTime": {
     "end_time": "2023-11-01T13:29:05.940303Z",
     "start_time": "2023-11-01T13:29:05.827978Z"
    }
   },
   "outputs": [],
   "source": [
    "# задаем шаги в Pipeline\n",
    "\n",
    "# обработка численных признаков для базового алгоритма Линейная регрессия\n",
    "# заполнение 0 и стандартизация с маштабированием\n",
    "num_steps_linear = [('imputer',  SimpleImputer(missing_values=np.nan\n",
    "                                        , strategy='constant'\n",
    "                                        , fill_value=0\n",
    "                                        , add_indicator=True\n",
    "                                        )\n",
    "                    )\n",
    "                    , ('scaler', StandardScaler()\n",
    "                       )\n",
    "                     ]\n",
    "num_preprocessor_linear = Pipeline(num_steps_linear)\n",
    "                     \n",
    "# обработка численных признаков для базового алгоритма Дерево решений\n",
    "# заполнение аномальными значениями\n",
    "num_steps_tree = [('imputer',  SimpleImputer(missing_values=np.nan\n",
    "                                            , strategy='constant'\n",
    "                                            , fill_value=-1000\n",
    "                                            )\n",
    "                  )\n",
    "                 ]\n",
    "num_preprocessor_tree = Pipeline(num_steps_tree)                     \n",
    "\n",
    "# обработка категориальных признаков для базового алгоритма Линейная регрессия\n",
    "category_steps_linear = [('imputer', SimpleImputer(missing_values=np.nan, \n",
    "                                                   strategy='constant', \n",
    "                                                   fill_value='unknown'))\n",
    "                         , ('encoder', OrdinalEncoder(handle_unknown = 'ignore'))\n",
    "                         , ('scaler', StandardScaler())\n",
    "                        ]\n",
    "\n",
    "\n",
    "category_preprocessor_linear = Pipeline(category_steps_linear)\n",
    "\n",
    "# обработка категориальных признаков для базового алгоритма Дерово решений\n",
    "category_steps_tree = [('imputer', SimpleImputer(missing_values=np.nan, \n",
    "                                                 strategy='constant', \n",
    "                                                 fill_value='unknown'))\n",
    "                       ,('encoder', OrdinalEncoder(handle_unknown = 'ignore', \n",
    "#                                                    dtype=np.uint32\n",
    "                                                  )\n",
    "                        )\n",
    "                      ]\n",
    "category_preprocessor_tree = Pipeline(category_steps_tree)\n",
    "\n",
    "# обработка текстовых признаков для линейных алгоритмов\n",
    "text_step_linear = [ ('vect', TfidfVectorizer()),\n",
    "#                    ('scaler', StandardScaler()) ?\n",
    "                   ]\n",
    "text_preprocessor_linear = Pipeline(text_step_linear)\n",
    "\n",
    "# обработка текстовых признаков для базового алгоритма Дерово решений\n",
    "text_step_tree = [ ('vect', TfidfVectorizer())]\n",
    "\n",
    "text_preprocessor_tree = Pipeline(text_step_tree)\n",
    "\n",
    "\n",
    "# собираем все вместе для базового алгоритма Линейная регрессия\n",
    "preprocessor_linear = ColumnTransformer(transformers=[('num', num_preprocessor_linear, features_list_num)\n",
    "                                                      , ('cat', category_preprocessor_linear, features_list_cat)\n",
    "                                                      , ('text', text_preprocessor_linear, features_list_text)\n",
    "                                                     ]\n",
    "                                        , remainder='passthrough'\n",
    "                                       )\n",
    "\n",
    "# собираем все вместе для базового алгоритма Дерево Решений\n",
    "preprocessor_tree = ColumnTransformer(transformers=[('num', num_preprocessor_tree, features_list_num),\n",
    "                                                    ('cat', category_preprocessor_tree, features_list_cat),\n",
    "                                                    ('text', text_preprocessor_tree, features_list_text)\n",
    "                                                   ]\n",
    "                                      , remainder='passthrough'\n",
    "                                     )\n"
   ]
  },
  {
   "cell_type": "code",
   "execution_count": null,
   "id": "771f1bd1",
   "metadata": {},
   "outputs": [],
   "source": []
  },
  {
   "cell_type": "code",
   "execution_count": 19,
   "id": "c65f90af",
   "metadata": {
    "ExecuteTime": {
     "end_time": "2023-11-01T13:29:07.155949Z",
     "start_time": "2023-11-01T13:29:05.946089Z"
    }
   },
   "outputs": [
    {
     "name": "stderr",
     "output_type": "stream",
     "text": [
      "[I 2023-11-01 16:29:06,073] A new study created in memory with name: no-name-d5657e8e-2366-4349-9880-85aee9b2aa7d\n",
      "[W 2023-11-01 16:29:06,190] Trial 0 failed with parameters: {'n_estimators': 920, 'max_depth': 33, 'num_leaves': 120, 'learning_rate': 0.01860752093274472} because of the following error: ValueError('all the input array dimensions except for the concatenation axis must match exactly, but along dimension 0, the array at index 0 has size 77140 and the array at index 2 has size 1').\n",
      "Traceback (most recent call last):\n",
      "  File \"/home/tomasha1980/anaconda3/envs/ds_practicum_env/lib/python3.9/site-packages/optuna/study/_optimize.py\", line 200, in _run_trial\n",
      "    value_or_values = func(trial)\n",
      "  File \"/tmp/ipykernel_7705/3594213034.py\", line 35, in objective\n",
      "    pipeline_lgbm_classifier.fit(features_train_upsamled\n",
      "  File \"/home/tomasha1980/anaconda3/envs/ds_practicum_env/lib/python3.9/site-packages/sklearn/pipeline.py\", line 341, in fit\n",
      "    Xt = self._fit(X, y, **fit_params_steps)\n",
      "  File \"/home/tomasha1980/anaconda3/envs/ds_practicum_env/lib/python3.9/site-packages/sklearn/pipeline.py\", line 303, in _fit\n",
      "    X, fitted_transformer = fit_transform_one_cached(\n",
      "  File \"/home/tomasha1980/anaconda3/envs/ds_practicum_env/lib/python3.9/site-packages/joblib/memory.py\", line 353, in __call__\n",
      "    return self.func(*args, **kwargs)\n",
      "  File \"/home/tomasha1980/anaconda3/envs/ds_practicum_env/lib/python3.9/site-packages/sklearn/pipeline.py\", line 754, in _fit_transform_one\n",
      "    res = transformer.fit_transform(X, y, **fit_params)\n",
      "  File \"/home/tomasha1980/anaconda3/envs/ds_practicum_env/lib/python3.9/site-packages/sklearn/compose/_column_transformer.py\", line 530, in fit_transform\n",
      "    return self._hstack(list(Xs))\n",
      "  File \"/home/tomasha1980/anaconda3/envs/ds_practicum_env/lib/python3.9/site-packages/sklearn/compose/_column_transformer.py\", line 602, in _hstack\n",
      "    return np.hstack(Xs)\n",
      "  File \"<__array_function__ internals>\", line 200, in hstack\n",
      "  File \"/home/tomasha1980/anaconda3/envs/ds_practicum_env/lib/python3.9/site-packages/numpy/core/shape_base.py\", line 370, in hstack\n",
      "    return _nx.concatenate(arrs, 1, dtype=dtype, casting=casting)\n",
      "  File \"<__array_function__ internals>\", line 200, in concatenate\n",
      "ValueError: all the input array dimensions except for the concatenation axis must match exactly, but along dimension 0, the array at index 0 has size 77140 and the array at index 2 has size 1\n",
      "[W 2023-11-01 16:29:06,191] Trial 0 failed with value None.\n"
     ]
    },
    {
     "ename": "ValueError",
     "evalue": "all the input array dimensions except for the concatenation axis must match exactly, but along dimension 0, the array at index 0 has size 77140 and the array at index 2 has size 1",
     "output_type": "error",
     "traceback": [
      "\u001b[0;31m---------------------------------------------------------------------------\u001b[0m",
      "\u001b[0;31mValueError\u001b[0m                                Traceback (most recent call last)",
      "Cell \u001b[0;32mIn[19], line 60\u001b[0m\n\u001b[1;32m     53\u001b[0m     \u001b[38;5;28;01mreturn\u001b[39;00m f_one\n\u001b[1;32m     56\u001b[0m study \u001b[38;5;241m=\u001b[39m optuna\u001b[38;5;241m.\u001b[39mcreate_study(direction\u001b[38;5;241m=\u001b[39m\u001b[38;5;124m'\u001b[39m\u001b[38;5;124mmaximize\u001b[39m\u001b[38;5;124m'\u001b[39m\n\u001b[1;32m     57\u001b[0m                             , sampler\u001b[38;5;241m=\u001b[39moptuna\u001b[38;5;241m.\u001b[39msamplers\u001b[38;5;241m.\u001b[39mRandomSampler(seed\u001b[38;5;241m=\u001b[39mRS)\n\u001b[1;32m     58\u001b[0m                             , pruner\u001b[38;5;241m=\u001b[39moptuna\u001b[38;5;241m.\u001b[39mpruners\u001b[38;5;241m.\u001b[39mMedianPruner(n_warmup_steps\u001b[38;5;241m=\u001b[39m\u001b[38;5;241m10\u001b[39m)\n\u001b[1;32m     59\u001b[0m                            )\n\u001b[0;32m---> 60\u001b[0m \u001b[43mstudy\u001b[49m\u001b[38;5;241;43m.\u001b[39;49m\u001b[43moptimize\u001b[49m\u001b[43m(\u001b[49m\u001b[43mobjective\u001b[49m\u001b[43m,\u001b[49m\u001b[43m \u001b[49m\u001b[43mn_trials\u001b[49m\u001b[38;5;241;43m=\u001b[39;49m\u001b[38;5;241;43m100\u001b[39;49m\u001b[43m,\u001b[49m\u001b[43m \u001b[49m\u001b[43mtimeout\u001b[49m\u001b[38;5;241;43m=\u001b[39;49m\u001b[38;5;241;43m600\u001b[39;49m\u001b[43m)\u001b[49m\n\u001b[1;32m     61\u001b[0m study\u001b[38;5;241m.\u001b[39mbest_params\n",
      "File \u001b[0;32m~/anaconda3/envs/ds_practicum_env/lib/python3.9/site-packages/optuna/study/study.py:451\u001b[0m, in \u001b[0;36mStudy.optimize\u001b[0;34m(self, func, n_trials, timeout, n_jobs, catch, callbacks, gc_after_trial, show_progress_bar)\u001b[0m\n\u001b[1;32m    348\u001b[0m \u001b[38;5;28;01mdef\u001b[39;00m \u001b[38;5;21moptimize\u001b[39m(\n\u001b[1;32m    349\u001b[0m     \u001b[38;5;28mself\u001b[39m,\n\u001b[1;32m    350\u001b[0m     func: ObjectiveFuncType,\n\u001b[0;32m   (...)\u001b[0m\n\u001b[1;32m    357\u001b[0m     show_progress_bar: \u001b[38;5;28mbool\u001b[39m \u001b[38;5;241m=\u001b[39m \u001b[38;5;28;01mFalse\u001b[39;00m,\n\u001b[1;32m    358\u001b[0m ) \u001b[38;5;241m-\u001b[39m\u001b[38;5;241m>\u001b[39m \u001b[38;5;28;01mNone\u001b[39;00m:\n\u001b[1;32m    359\u001b[0m \u001b[38;5;250m    \u001b[39m\u001b[38;5;124;03m\"\"\"Optimize an objective function.\u001b[39;00m\n\u001b[1;32m    360\u001b[0m \n\u001b[1;32m    361\u001b[0m \u001b[38;5;124;03m    Optimization is done by choosing a suitable set of hyperparameter values from a given\u001b[39;00m\n\u001b[0;32m   (...)\u001b[0m\n\u001b[1;32m    449\u001b[0m \u001b[38;5;124;03m            If nested invocation of this method occurs.\u001b[39;00m\n\u001b[1;32m    450\u001b[0m \u001b[38;5;124;03m    \"\"\"\u001b[39;00m\n\u001b[0;32m--> 451\u001b[0m     \u001b[43m_optimize\u001b[49m\u001b[43m(\u001b[49m\n\u001b[1;32m    452\u001b[0m \u001b[43m        \u001b[49m\u001b[43mstudy\u001b[49m\u001b[38;5;241;43m=\u001b[39;49m\u001b[38;5;28;43mself\u001b[39;49m\u001b[43m,\u001b[49m\n\u001b[1;32m    453\u001b[0m \u001b[43m        \u001b[49m\u001b[43mfunc\u001b[49m\u001b[38;5;241;43m=\u001b[39;49m\u001b[43mfunc\u001b[49m\u001b[43m,\u001b[49m\n\u001b[1;32m    454\u001b[0m \u001b[43m        \u001b[49m\u001b[43mn_trials\u001b[49m\u001b[38;5;241;43m=\u001b[39;49m\u001b[43mn_trials\u001b[49m\u001b[43m,\u001b[49m\n\u001b[1;32m    455\u001b[0m \u001b[43m        \u001b[49m\u001b[43mtimeout\u001b[49m\u001b[38;5;241;43m=\u001b[39;49m\u001b[43mtimeout\u001b[49m\u001b[43m,\u001b[49m\n\u001b[1;32m    456\u001b[0m \u001b[43m        \u001b[49m\u001b[43mn_jobs\u001b[49m\u001b[38;5;241;43m=\u001b[39;49m\u001b[43mn_jobs\u001b[49m\u001b[43m,\u001b[49m\n\u001b[1;32m    457\u001b[0m \u001b[43m        \u001b[49m\u001b[43mcatch\u001b[49m\u001b[38;5;241;43m=\u001b[39;49m\u001b[38;5;28;43mtuple\u001b[39;49m\u001b[43m(\u001b[49m\u001b[43mcatch\u001b[49m\u001b[43m)\u001b[49m\u001b[43m \u001b[49m\u001b[38;5;28;43;01mif\u001b[39;49;00m\u001b[43m \u001b[49m\u001b[38;5;28;43misinstance\u001b[39;49m\u001b[43m(\u001b[49m\u001b[43mcatch\u001b[49m\u001b[43m,\u001b[49m\u001b[43m \u001b[49m\u001b[43mIterable\u001b[49m\u001b[43m)\u001b[49m\u001b[43m \u001b[49m\u001b[38;5;28;43;01melse\u001b[39;49;00m\u001b[43m \u001b[49m\u001b[43m(\u001b[49m\u001b[43mcatch\u001b[49m\u001b[43m,\u001b[49m\u001b[43m)\u001b[49m\u001b[43m,\u001b[49m\n\u001b[1;32m    458\u001b[0m \u001b[43m        \u001b[49m\u001b[43mcallbacks\u001b[49m\u001b[38;5;241;43m=\u001b[39;49m\u001b[43mcallbacks\u001b[49m\u001b[43m,\u001b[49m\n\u001b[1;32m    459\u001b[0m \u001b[43m        \u001b[49m\u001b[43mgc_after_trial\u001b[49m\u001b[38;5;241;43m=\u001b[39;49m\u001b[43mgc_after_trial\u001b[49m\u001b[43m,\u001b[49m\n\u001b[1;32m    460\u001b[0m \u001b[43m        \u001b[49m\u001b[43mshow_progress_bar\u001b[49m\u001b[38;5;241;43m=\u001b[39;49m\u001b[43mshow_progress_bar\u001b[49m\u001b[43m,\u001b[49m\n\u001b[1;32m    461\u001b[0m \u001b[43m    \u001b[49m\u001b[43m)\u001b[49m\n",
      "File \u001b[0;32m~/anaconda3/envs/ds_practicum_env/lib/python3.9/site-packages/optuna/study/_optimize.py:66\u001b[0m, in \u001b[0;36m_optimize\u001b[0;34m(study, func, n_trials, timeout, n_jobs, catch, callbacks, gc_after_trial, show_progress_bar)\u001b[0m\n\u001b[1;32m     64\u001b[0m \u001b[38;5;28;01mtry\u001b[39;00m:\n\u001b[1;32m     65\u001b[0m     \u001b[38;5;28;01mif\u001b[39;00m n_jobs \u001b[38;5;241m==\u001b[39m \u001b[38;5;241m1\u001b[39m:\n\u001b[0;32m---> 66\u001b[0m         \u001b[43m_optimize_sequential\u001b[49m\u001b[43m(\u001b[49m\n\u001b[1;32m     67\u001b[0m \u001b[43m            \u001b[49m\u001b[43mstudy\u001b[49m\u001b[43m,\u001b[49m\n\u001b[1;32m     68\u001b[0m \u001b[43m            \u001b[49m\u001b[43mfunc\u001b[49m\u001b[43m,\u001b[49m\n\u001b[1;32m     69\u001b[0m \u001b[43m            \u001b[49m\u001b[43mn_trials\u001b[49m\u001b[43m,\u001b[49m\n\u001b[1;32m     70\u001b[0m \u001b[43m            \u001b[49m\u001b[43mtimeout\u001b[49m\u001b[43m,\u001b[49m\n\u001b[1;32m     71\u001b[0m \u001b[43m            \u001b[49m\u001b[43mcatch\u001b[49m\u001b[43m,\u001b[49m\n\u001b[1;32m     72\u001b[0m \u001b[43m            \u001b[49m\u001b[43mcallbacks\u001b[49m\u001b[43m,\u001b[49m\n\u001b[1;32m     73\u001b[0m \u001b[43m            \u001b[49m\u001b[43mgc_after_trial\u001b[49m\u001b[43m,\u001b[49m\n\u001b[1;32m     74\u001b[0m \u001b[43m            \u001b[49m\u001b[43mreseed_sampler_rng\u001b[49m\u001b[38;5;241;43m=\u001b[39;49m\u001b[38;5;28;43;01mFalse\u001b[39;49;00m\u001b[43m,\u001b[49m\n\u001b[1;32m     75\u001b[0m \u001b[43m            \u001b[49m\u001b[43mtime_start\u001b[49m\u001b[38;5;241;43m=\u001b[39;49m\u001b[38;5;28;43;01mNone\u001b[39;49;00m\u001b[43m,\u001b[49m\n\u001b[1;32m     76\u001b[0m \u001b[43m            \u001b[49m\u001b[43mprogress_bar\u001b[49m\u001b[38;5;241;43m=\u001b[39;49m\u001b[43mprogress_bar\u001b[49m\u001b[43m,\u001b[49m\n\u001b[1;32m     77\u001b[0m \u001b[43m        \u001b[49m\u001b[43m)\u001b[49m\n\u001b[1;32m     78\u001b[0m     \u001b[38;5;28;01melse\u001b[39;00m:\n\u001b[1;32m     79\u001b[0m         \u001b[38;5;28;01mif\u001b[39;00m n_jobs \u001b[38;5;241m==\u001b[39m \u001b[38;5;241m-\u001b[39m\u001b[38;5;241m1\u001b[39m:\n",
      "File \u001b[0;32m~/anaconda3/envs/ds_practicum_env/lib/python3.9/site-packages/optuna/study/_optimize.py:163\u001b[0m, in \u001b[0;36m_optimize_sequential\u001b[0;34m(study, func, n_trials, timeout, catch, callbacks, gc_after_trial, reseed_sampler_rng, time_start, progress_bar)\u001b[0m\n\u001b[1;32m    160\u001b[0m         \u001b[38;5;28;01mbreak\u001b[39;00m\n\u001b[1;32m    162\u001b[0m \u001b[38;5;28;01mtry\u001b[39;00m:\n\u001b[0;32m--> 163\u001b[0m     frozen_trial \u001b[38;5;241m=\u001b[39m \u001b[43m_run_trial\u001b[49m\u001b[43m(\u001b[49m\u001b[43mstudy\u001b[49m\u001b[43m,\u001b[49m\u001b[43m \u001b[49m\u001b[43mfunc\u001b[49m\u001b[43m,\u001b[49m\u001b[43m \u001b[49m\u001b[43mcatch\u001b[49m\u001b[43m)\u001b[49m\n\u001b[1;32m    164\u001b[0m \u001b[38;5;28;01mfinally\u001b[39;00m:\n\u001b[1;32m    165\u001b[0m     \u001b[38;5;66;03m# The following line mitigates memory problems that can be occurred in some\u001b[39;00m\n\u001b[1;32m    166\u001b[0m     \u001b[38;5;66;03m# environments (e.g., services that use computing containers such as GitHub Actions).\u001b[39;00m\n\u001b[1;32m    167\u001b[0m     \u001b[38;5;66;03m# Please refer to the following PR for further details:\u001b[39;00m\n\u001b[1;32m    168\u001b[0m     \u001b[38;5;66;03m# https://github.com/optuna/optuna/pull/325.\u001b[39;00m\n\u001b[1;32m    169\u001b[0m     \u001b[38;5;28;01mif\u001b[39;00m gc_after_trial:\n",
      "File \u001b[0;32m~/anaconda3/envs/ds_practicum_env/lib/python3.9/site-packages/optuna/study/_optimize.py:251\u001b[0m, in \u001b[0;36m_run_trial\u001b[0;34m(study, func, catch)\u001b[0m\n\u001b[1;32m    244\u001b[0m         \u001b[38;5;28;01massert\u001b[39;00m \u001b[38;5;28;01mFalse\u001b[39;00m, \u001b[38;5;124m\"\u001b[39m\u001b[38;5;124mShould not reach.\u001b[39m\u001b[38;5;124m\"\u001b[39m\n\u001b[1;32m    246\u001b[0m \u001b[38;5;28;01mif\u001b[39;00m (\n\u001b[1;32m    247\u001b[0m     frozen_trial\u001b[38;5;241m.\u001b[39mstate \u001b[38;5;241m==\u001b[39m TrialState\u001b[38;5;241m.\u001b[39mFAIL\n\u001b[1;32m    248\u001b[0m     \u001b[38;5;129;01mand\u001b[39;00m func_err \u001b[38;5;129;01mis\u001b[39;00m \u001b[38;5;129;01mnot\u001b[39;00m \u001b[38;5;28;01mNone\u001b[39;00m\n\u001b[1;32m    249\u001b[0m     \u001b[38;5;129;01mand\u001b[39;00m \u001b[38;5;129;01mnot\u001b[39;00m \u001b[38;5;28misinstance\u001b[39m(func_err, catch)\n\u001b[1;32m    250\u001b[0m ):\n\u001b[0;32m--> 251\u001b[0m     \u001b[38;5;28;01mraise\u001b[39;00m func_err\n\u001b[1;32m    252\u001b[0m \u001b[38;5;28;01mreturn\u001b[39;00m frozen_trial\n",
      "File \u001b[0;32m~/anaconda3/envs/ds_practicum_env/lib/python3.9/site-packages/optuna/study/_optimize.py:200\u001b[0m, in \u001b[0;36m_run_trial\u001b[0;34m(study, func, catch)\u001b[0m\n\u001b[1;32m    198\u001b[0m \u001b[38;5;28;01mwith\u001b[39;00m get_heartbeat_thread(trial\u001b[38;5;241m.\u001b[39m_trial_id, study\u001b[38;5;241m.\u001b[39m_storage):\n\u001b[1;32m    199\u001b[0m     \u001b[38;5;28;01mtry\u001b[39;00m:\n\u001b[0;32m--> 200\u001b[0m         value_or_values \u001b[38;5;241m=\u001b[39m \u001b[43mfunc\u001b[49m\u001b[43m(\u001b[49m\u001b[43mtrial\u001b[49m\u001b[43m)\u001b[49m\n\u001b[1;32m    201\u001b[0m     \u001b[38;5;28;01mexcept\u001b[39;00m exceptions\u001b[38;5;241m.\u001b[39mTrialPruned \u001b[38;5;28;01mas\u001b[39;00m e:\n\u001b[1;32m    202\u001b[0m         \u001b[38;5;66;03m# TODO(mamu): Handle multi-objective cases.\u001b[39;00m\n\u001b[1;32m    203\u001b[0m         state \u001b[38;5;241m=\u001b[39m TrialState\u001b[38;5;241m.\u001b[39mPRUNED\n",
      "Cell \u001b[0;32mIn[19], line 35\u001b[0m, in \u001b[0;36mobjective\u001b[0;34m(trial)\u001b[0m\n\u001b[1;32m      7\u001b[0m     pipeline_lgbm_classifier \u001b[38;5;241m=\u001b[39m Pipeline([\n\u001b[1;32m      8\u001b[0m         (\u001b[38;5;124m'\u001b[39m\u001b[38;5;124mpreprocessor\u001b[39m\u001b[38;5;124m'\u001b[39m, preprocessor_tree),\n\u001b[1;32m      9\u001b[0m         (\u001b[38;5;124m'\u001b[39m\u001b[38;5;124mclassifier\u001b[39m\u001b[38;5;124m'\u001b[39m, lgb\u001b[38;5;241m.\u001b[39mLGBMClassifier(boosting_type\u001b[38;5;241m=\u001b[39m\u001b[38;5;124m'\u001b[39m\u001b[38;5;124mgbdt\u001b[39m\u001b[38;5;124m'\u001b[39m,\n\u001b[0;32m   (...)\u001b[0m\n\u001b[1;32m     19\u001b[0m         ]\n\u001b[1;32m     20\u001b[0m         )\n\u001b[1;32m     21\u001b[0m \u001b[38;5;66;03m#     pipeline_lgbm_classifier.fit(features_train\u001b[39;00m\n\u001b[1;32m     22\u001b[0m \u001b[38;5;66;03m# #                                  .drop(columns='title_lemm')\u001b[39;00m\n\u001b[1;32m     23\u001b[0m \u001b[38;5;66;03m#                                  ,\u001b[39;00m\n\u001b[0;32m   (...)\u001b[0m\n\u001b[1;32m     32\u001b[0m \u001b[38;5;66;03m#                                                      )\u001b[39;00m\n\u001b[1;32m     33\u001b[0m \u001b[38;5;66;03m#                     )\u001b[39;00m\n\u001b[0;32m---> 35\u001b[0m     \u001b[43mpipeline_lgbm_classifier\u001b[49m\u001b[38;5;241;43m.\u001b[39;49m\u001b[43mfit\u001b[49m\u001b[43m(\u001b[49m\u001b[43mfeatures_train_upsamled\u001b[49m\n\u001b[1;32m     36\u001b[0m \u001b[38;5;66;43;03m#                                  .drop(columns='title_lemm')\u001b[39;49;00m\n\u001b[1;32m     37\u001b[0m \u001b[43m                                 \u001b[49m\u001b[43m,\u001b[49m\n\u001b[1;32m     38\u001b[0m \u001b[43m                                 \u001b[49m\u001b[43mtarget_train_upsampled\u001b[49m\u001b[43m,\u001b[49m\n\u001b[1;32m     39\u001b[0m \u001b[38;5;66;43;03m#                                  classifier__categorical_feature=category_features_index\u001b[39;49;00m\n\u001b[1;32m     40\u001b[0m \u001b[43m                                 \u001b[49m\u001b[43mclassifier__categorical_feature\u001b[49m\u001b[38;5;241;43m=\u001b[39;49m\u001b[43mfeatures_list_cat\u001b[49m\n\u001b[1;32m     41\u001b[0m \u001b[43m                                 \u001b[49m\u001b[43m)\u001b[49m\n\u001b[1;32m     43\u001b[0m     f_one \u001b[38;5;241m=\u001b[39m f1_score(target_train_upsampled,\n\u001b[1;32m     44\u001b[0m                      pipeline_lgbm_classifier\u001b[38;5;241m.\u001b[39mpredict(features_train_upsamled\n\u001b[1;32m     45\u001b[0m \u001b[38;5;66;03m#                                                       .drop(columns='title_lemm')\u001b[39;00m\n\u001b[1;32m     46\u001b[0m                                                      )\n\u001b[1;32m     47\u001b[0m                     )\n\u001b[1;32m     48\u001b[0m \u001b[38;5;66;03m#     f_one = f1_score(target_valid,\u001b[39;00m\n\u001b[1;32m     49\u001b[0m \u001b[38;5;66;03m#                      pipeline_lgbm_classifier.predict(features_valid\u001b[39;00m\n\u001b[1;32m     50\u001b[0m \u001b[38;5;66;03m# #                                                       .drop(columns='title_lemm')\u001b[39;00m\n\u001b[1;32m     51\u001b[0m \u001b[38;5;66;03m#                                                      )\u001b[39;00m\n\u001b[1;32m     52\u001b[0m \u001b[38;5;66;03m#                     )\u001b[39;00m\n",
      "File \u001b[0;32m~/anaconda3/envs/ds_practicum_env/lib/python3.9/site-packages/sklearn/pipeline.py:341\u001b[0m, in \u001b[0;36mPipeline.fit\u001b[0;34m(self, X, y, **fit_params)\u001b[0m\n\u001b[1;32m    315\u001b[0m \u001b[38;5;250m\u001b[39m\u001b[38;5;124;03m\"\"\"Fit the model\u001b[39;00m\n\u001b[1;32m    316\u001b[0m \n\u001b[1;32m    317\u001b[0m \u001b[38;5;124;03mFit all the transforms one after the other and transform the\u001b[39;00m\n\u001b[0;32m   (...)\u001b[0m\n\u001b[1;32m    338\u001b[0m \u001b[38;5;124;03m    This estimator\u001b[39;00m\n\u001b[1;32m    339\u001b[0m \u001b[38;5;124;03m\"\"\"\u001b[39;00m\n\u001b[1;32m    340\u001b[0m fit_params_steps \u001b[38;5;241m=\u001b[39m \u001b[38;5;28mself\u001b[39m\u001b[38;5;241m.\u001b[39m_check_fit_params(\u001b[38;5;241m*\u001b[39m\u001b[38;5;241m*\u001b[39mfit_params)\n\u001b[0;32m--> 341\u001b[0m Xt \u001b[38;5;241m=\u001b[39m \u001b[38;5;28;43mself\u001b[39;49m\u001b[38;5;241;43m.\u001b[39;49m\u001b[43m_fit\u001b[49m\u001b[43m(\u001b[49m\u001b[43mX\u001b[49m\u001b[43m,\u001b[49m\u001b[43m \u001b[49m\u001b[43my\u001b[49m\u001b[43m,\u001b[49m\u001b[43m \u001b[49m\u001b[38;5;241;43m*\u001b[39;49m\u001b[38;5;241;43m*\u001b[39;49m\u001b[43mfit_params_steps\u001b[49m\u001b[43m)\u001b[49m\n\u001b[1;32m    342\u001b[0m \u001b[38;5;28;01mwith\u001b[39;00m _print_elapsed_time(\u001b[38;5;124m'\u001b[39m\u001b[38;5;124mPipeline\u001b[39m\u001b[38;5;124m'\u001b[39m,\n\u001b[1;32m    343\u001b[0m                          \u001b[38;5;28mself\u001b[39m\u001b[38;5;241m.\u001b[39m_log_message(\u001b[38;5;28mlen\u001b[39m(\u001b[38;5;28mself\u001b[39m\u001b[38;5;241m.\u001b[39msteps) \u001b[38;5;241m-\u001b[39m \u001b[38;5;241m1\u001b[39m)):\n\u001b[1;32m    344\u001b[0m     \u001b[38;5;28;01mif\u001b[39;00m \u001b[38;5;28mself\u001b[39m\u001b[38;5;241m.\u001b[39m_final_estimator \u001b[38;5;241m!=\u001b[39m \u001b[38;5;124m'\u001b[39m\u001b[38;5;124mpassthrough\u001b[39m\u001b[38;5;124m'\u001b[39m:\n",
      "File \u001b[0;32m~/anaconda3/envs/ds_practicum_env/lib/python3.9/site-packages/sklearn/pipeline.py:303\u001b[0m, in \u001b[0;36mPipeline._fit\u001b[0;34m(self, X, y, **fit_params_steps)\u001b[0m\n\u001b[1;32m    301\u001b[0m     cloned_transformer \u001b[38;5;241m=\u001b[39m clone(transformer)\n\u001b[1;32m    302\u001b[0m \u001b[38;5;66;03m# Fit or load from cache the current transformer\u001b[39;00m\n\u001b[0;32m--> 303\u001b[0m X, fitted_transformer \u001b[38;5;241m=\u001b[39m \u001b[43mfit_transform_one_cached\u001b[49m\u001b[43m(\u001b[49m\n\u001b[1;32m    304\u001b[0m \u001b[43m    \u001b[49m\u001b[43mcloned_transformer\u001b[49m\u001b[43m,\u001b[49m\u001b[43m \u001b[49m\u001b[43mX\u001b[49m\u001b[43m,\u001b[49m\u001b[43m \u001b[49m\u001b[43my\u001b[49m\u001b[43m,\u001b[49m\u001b[43m \u001b[49m\u001b[38;5;28;43;01mNone\u001b[39;49;00m\u001b[43m,\u001b[49m\n\u001b[1;32m    305\u001b[0m \u001b[43m    \u001b[49m\u001b[43mmessage_clsname\u001b[49m\u001b[38;5;241;43m=\u001b[39;49m\u001b[38;5;124;43m'\u001b[39;49m\u001b[38;5;124;43mPipeline\u001b[39;49m\u001b[38;5;124;43m'\u001b[39;49m\u001b[43m,\u001b[49m\n\u001b[1;32m    306\u001b[0m \u001b[43m    \u001b[49m\u001b[43mmessage\u001b[49m\u001b[38;5;241;43m=\u001b[39;49m\u001b[38;5;28;43mself\u001b[39;49m\u001b[38;5;241;43m.\u001b[39;49m\u001b[43m_log_message\u001b[49m\u001b[43m(\u001b[49m\u001b[43mstep_idx\u001b[49m\u001b[43m)\u001b[49m\u001b[43m,\u001b[49m\n\u001b[1;32m    307\u001b[0m \u001b[43m    \u001b[49m\u001b[38;5;241;43m*\u001b[39;49m\u001b[38;5;241;43m*\u001b[39;49m\u001b[43mfit_params_steps\u001b[49m\u001b[43m[\u001b[49m\u001b[43mname\u001b[49m\u001b[43m]\u001b[49m\u001b[43m)\u001b[49m\n\u001b[1;32m    308\u001b[0m \u001b[38;5;66;03m# Replace the transformer of the step with the fitted\u001b[39;00m\n\u001b[1;32m    309\u001b[0m \u001b[38;5;66;03m# transformer. This is necessary when loading the transformer\u001b[39;00m\n\u001b[1;32m    310\u001b[0m \u001b[38;5;66;03m# from the cache.\u001b[39;00m\n\u001b[1;32m    311\u001b[0m \u001b[38;5;28mself\u001b[39m\u001b[38;5;241m.\u001b[39msteps[step_idx] \u001b[38;5;241m=\u001b[39m (name, fitted_transformer)\n",
      "File \u001b[0;32m~/anaconda3/envs/ds_practicum_env/lib/python3.9/site-packages/joblib/memory.py:353\u001b[0m, in \u001b[0;36mNotMemorizedFunc.__call__\u001b[0;34m(self, *args, **kwargs)\u001b[0m\n\u001b[1;32m    352\u001b[0m \u001b[38;5;28;01mdef\u001b[39;00m \u001b[38;5;21m__call__\u001b[39m(\u001b[38;5;28mself\u001b[39m, \u001b[38;5;241m*\u001b[39margs, \u001b[38;5;241m*\u001b[39m\u001b[38;5;241m*\u001b[39mkwargs):\n\u001b[0;32m--> 353\u001b[0m     \u001b[38;5;28;01mreturn\u001b[39;00m \u001b[38;5;28;43mself\u001b[39;49m\u001b[38;5;241;43m.\u001b[39;49m\u001b[43mfunc\u001b[49m\u001b[43m(\u001b[49m\u001b[38;5;241;43m*\u001b[39;49m\u001b[43margs\u001b[49m\u001b[43m,\u001b[49m\u001b[43m \u001b[49m\u001b[38;5;241;43m*\u001b[39;49m\u001b[38;5;241;43m*\u001b[39;49m\u001b[43mkwargs\u001b[49m\u001b[43m)\u001b[49m\n",
      "File \u001b[0;32m~/anaconda3/envs/ds_practicum_env/lib/python3.9/site-packages/sklearn/pipeline.py:754\u001b[0m, in \u001b[0;36m_fit_transform_one\u001b[0;34m(transformer, X, y, weight, message_clsname, message, **fit_params)\u001b[0m\n\u001b[1;32m    752\u001b[0m \u001b[38;5;28;01mwith\u001b[39;00m _print_elapsed_time(message_clsname, message):\n\u001b[1;32m    753\u001b[0m     \u001b[38;5;28;01mif\u001b[39;00m \u001b[38;5;28mhasattr\u001b[39m(transformer, \u001b[38;5;124m'\u001b[39m\u001b[38;5;124mfit_transform\u001b[39m\u001b[38;5;124m'\u001b[39m):\n\u001b[0;32m--> 754\u001b[0m         res \u001b[38;5;241m=\u001b[39m \u001b[43mtransformer\u001b[49m\u001b[38;5;241;43m.\u001b[39;49m\u001b[43mfit_transform\u001b[49m\u001b[43m(\u001b[49m\u001b[43mX\u001b[49m\u001b[43m,\u001b[49m\u001b[43m \u001b[49m\u001b[43my\u001b[49m\u001b[43m,\u001b[49m\u001b[43m \u001b[49m\u001b[38;5;241;43m*\u001b[39;49m\u001b[38;5;241;43m*\u001b[39;49m\u001b[43mfit_params\u001b[49m\u001b[43m)\u001b[49m\n\u001b[1;32m    755\u001b[0m     \u001b[38;5;28;01melse\u001b[39;00m:\n\u001b[1;32m    756\u001b[0m         res \u001b[38;5;241m=\u001b[39m transformer\u001b[38;5;241m.\u001b[39mfit(X, y, \u001b[38;5;241m*\u001b[39m\u001b[38;5;241m*\u001b[39mfit_params)\u001b[38;5;241m.\u001b[39mtransform(X)\n",
      "File \u001b[0;32m~/anaconda3/envs/ds_practicum_env/lib/python3.9/site-packages/sklearn/compose/_column_transformer.py:530\u001b[0m, in \u001b[0;36mColumnTransformer.fit_transform\u001b[0;34m(self, X, y)\u001b[0m\n\u001b[1;32m    527\u001b[0m \u001b[38;5;28mself\u001b[39m\u001b[38;5;241m.\u001b[39m_update_fitted_transformers(transformers)\n\u001b[1;32m    528\u001b[0m \u001b[38;5;28mself\u001b[39m\u001b[38;5;241m.\u001b[39m_validate_output(Xs)\n\u001b[0;32m--> 530\u001b[0m \u001b[38;5;28;01mreturn\u001b[39;00m \u001b[38;5;28;43mself\u001b[39;49m\u001b[38;5;241;43m.\u001b[39;49m\u001b[43m_hstack\u001b[49m\u001b[43m(\u001b[49m\u001b[38;5;28;43mlist\u001b[39;49m\u001b[43m(\u001b[49m\u001b[43mXs\u001b[49m\u001b[43m)\u001b[49m\u001b[43m)\u001b[49m\n",
      "File \u001b[0;32m~/anaconda3/envs/ds_practicum_env/lib/python3.9/site-packages/sklearn/compose/_column_transformer.py:602\u001b[0m, in \u001b[0;36mColumnTransformer._hstack\u001b[0;34m(self, Xs)\u001b[0m\n\u001b[1;32m    600\u001b[0m \u001b[38;5;28;01melse\u001b[39;00m:\n\u001b[1;32m    601\u001b[0m     Xs \u001b[38;5;241m=\u001b[39m [f\u001b[38;5;241m.\u001b[39mtoarray() \u001b[38;5;28;01mif\u001b[39;00m sparse\u001b[38;5;241m.\u001b[39missparse(f) \u001b[38;5;28;01melse\u001b[39;00m f \u001b[38;5;28;01mfor\u001b[39;00m f \u001b[38;5;129;01min\u001b[39;00m Xs]\n\u001b[0;32m--> 602\u001b[0m     \u001b[38;5;28;01mreturn\u001b[39;00m \u001b[43mnp\u001b[49m\u001b[38;5;241;43m.\u001b[39;49m\u001b[43mhstack\u001b[49m\u001b[43m(\u001b[49m\u001b[43mXs\u001b[49m\u001b[43m)\u001b[49m\n",
      "File \u001b[0;32m<__array_function__ internals>:200\u001b[0m, in \u001b[0;36mhstack\u001b[0;34m(*args, **kwargs)\u001b[0m\n",
      "File \u001b[0;32m~/anaconda3/envs/ds_practicum_env/lib/python3.9/site-packages/numpy/core/shape_base.py:370\u001b[0m, in \u001b[0;36mhstack\u001b[0;34m(tup, dtype, casting)\u001b[0m\n\u001b[1;32m    368\u001b[0m     \u001b[38;5;28;01mreturn\u001b[39;00m _nx\u001b[38;5;241m.\u001b[39mconcatenate(arrs, \u001b[38;5;241m0\u001b[39m, dtype\u001b[38;5;241m=\u001b[39mdtype, casting\u001b[38;5;241m=\u001b[39mcasting)\n\u001b[1;32m    369\u001b[0m \u001b[38;5;28;01melse\u001b[39;00m:\n\u001b[0;32m--> 370\u001b[0m     \u001b[38;5;28;01mreturn\u001b[39;00m \u001b[43m_nx\u001b[49m\u001b[38;5;241;43m.\u001b[39;49m\u001b[43mconcatenate\u001b[49m\u001b[43m(\u001b[49m\u001b[43marrs\u001b[49m\u001b[43m,\u001b[49m\u001b[43m \u001b[49m\u001b[38;5;241;43m1\u001b[39;49m\u001b[43m,\u001b[49m\u001b[43m \u001b[49m\u001b[43mdtype\u001b[49m\u001b[38;5;241;43m=\u001b[39;49m\u001b[43mdtype\u001b[49m\u001b[43m,\u001b[49m\u001b[43m \u001b[49m\u001b[43mcasting\u001b[49m\u001b[38;5;241;43m=\u001b[39;49m\u001b[43mcasting\u001b[49m\u001b[43m)\u001b[49m\n",
      "File \u001b[0;32m<__array_function__ internals>:200\u001b[0m, in \u001b[0;36mconcatenate\u001b[0;34m(*args, **kwargs)\u001b[0m\n",
      "\u001b[0;31mValueError\u001b[0m: all the input array dimensions except for the concatenation axis must match exactly, but along dimension 0, the array at index 0 has size 77140 and the array at index 2 has size 1"
     ]
    }
   ],
   "source": [
    "def objective(trial):\n",
    "    n_estimators = trial.suggest_int('n_estimators', 10, 1000, step=10)\n",
    "    max_depth = trial.suggest_int('max_depth', 4, 50)\n",
    "    num_leaves = trial.suggest_int('num_leaves', 10, 150, step=10)\n",
    "    learning_rate = trial.suggest_float('learning_rate', 0.001, 0.9, step=None, log=True)\n",
    "    \n",
    "    pipeline_lgbm_classifier = Pipeline([\n",
    "        ('preprocessor', preprocessor_tree),\n",
    "        ('classifier', lgb.LGBMClassifier(boosting_type='gbdt',\n",
    "                                          num_leaves=num_leaves,\n",
    "                                          max_depth=max_depth,\n",
    "                                          learning_rate=learning_rate,\n",
    "                                          objective= 'binary', \n",
    "                                          n_estimators=n_estimators,\n",
    "                                          random_state=RS,\n",
    "                                          n_jobs=-1\n",
    "                                         )\n",
    "         )\n",
    "        ]\n",
    "        )\n",
    "#     pipeline_lgbm_classifier.fit(features_train\n",
    "# #                                  .drop(columns='title_lemm')\n",
    "#                                  ,\n",
    "#                                  target_train,\n",
    "#                                  classifier__categorical_feature=category_features_index\n",
    "# #                                  classifier__categorical_feature=features_list_cat\n",
    "#                                  )\n",
    "\n",
    "#     f_one = f1_score(target_train,\n",
    "#                      pipeline_lgbm_classifier.predict(features_train\n",
    "# #                                                       .drop(columns='title_lemm')\n",
    "#                                                      )\n",
    "#                     )\n",
    "    \n",
    "    pipeline_lgbm_classifier.fit(features_train_upsamled\n",
    "#                                  .drop(columns='title_lemm')\n",
    "                                 ,\n",
    "                                 target_train_upsampled,\n",
    "#                                  classifier__categorical_feature=category_features_index\n",
    "                                 classifier__categorical_feature=features_list_cat\n",
    "                                 )\n",
    "\n",
    "    f_one = f1_score(target_train_upsampled,\n",
    "                     pipeline_lgbm_classifier.predict(features_train_upsamled\n",
    "#                                                       .drop(columns='title_lemm')\n",
    "                                                     )\n",
    "                    )\n",
    "#     f_one = f1_score(target_valid,\n",
    "#                      pipeline_lgbm_classifier.predict(features_valid\n",
    "# #                                                       .drop(columns='title_lemm')\n",
    "#                                                      )\n",
    "#                     )\n",
    "    return f_one\n",
    "\n",
    "\n",
    "study = optuna.create_study(direction='maximize'\n",
    "                            , sampler=optuna.samplers.RandomSampler(seed=RS)\n",
    "                            , pruner=optuna.pruners.MedianPruner(n_warmup_steps=10)\n",
    "                           )\n",
    "study.optimize(objective, n_trials=100, timeout=600)\n",
    "study.best_params"
   ]
  },
  {
   "cell_type": "code",
   "execution_count": null,
   "id": "6e1922ca",
   "metadata": {
    "ExecuteTime": {
     "end_time": "2023-11-01T13:29:07.157559Z",
     "start_time": "2023-11-01T13:29:07.157549Z"
    }
   },
   "outputs": [],
   "source": [
    "# запишем наш pipeline_lgbm_classifier_best с лучшими параметрами\n",
    "pipeline_lgbm_classifier_best = Pipeline([\n",
    "        ('preprocessor', preprocessor_tree),\n",
    "        ('classifier', lgb.LGBMClassifier(boosting_type='gbdt',\n",
    "                                          num_leaves=study.best_params['num_leaves'],\n",
    "                                          max_depth=study.best_params['max_depth'],\n",
    "                                          learning_rate=study.best_params['learning_rate'],\n",
    "                                          objective= 'binary', \n",
    "                                          n_estimators=study.best_params['n_estimators'],\n",
    "                                          random_state=RS,\n",
    "                                          n_jobs=-1,)\n",
    "         )\n",
    "        ]\n",
    "        )\n",
    "pipeline_lgbm_classifier"
   ]
  },
  {
   "cell_type": "code",
   "execution_count": null,
   "id": "87ec7f3e",
   "metadata": {
    "ExecuteTime": {
     "end_time": "2023-11-01T13:29:07.158362Z",
     "start_time": "2023-11-01T13:29:07.158351Z"
    }
   },
   "outputs": [],
   "source": [
    "# обучим на сбалансированной выборке\n",
    "pipeline_lgbm_classifier_best.fit(features_train_upsamled, target_train_upsampled)"
   ]
  },
  {
   "cell_type": "code",
   "execution_count": null,
   "id": "771c6361",
   "metadata": {
    "ExecuteTime": {
     "end_time": "2023-11-01T13:29:07.159608Z",
     "start_time": "2023-11-01T13:29:07.159597Z"
    }
   },
   "outputs": [],
   "source": [
    "pipeline_lgbm_classifier_best.steps[1]"
   ]
  },
  {
   "cell_type": "code",
   "execution_count": null,
   "id": "17aa83b3",
   "metadata": {
    "ExecuteTime": {
     "end_time": "2023-11-01T13:29:07.160160Z",
     "start_time": "2023-11-01T13:29:07.160151Z"
    }
   },
   "outputs": [],
   "source": [
    "# проверим на проверочно выборке\n",
    "f_one = f1_score(target_valid,\n",
    "                     pipeline_lgbm_classifier_best.predict(features_valid\n",
    "#                                                       .drop(columns='title_lemm')\n",
    "                                                     )\n",
    "                )\n",
    "f_one                  "
   ]
  },
  {
   "cell_type": "code",
   "execution_count": null,
   "id": "8a8e02ac",
   "metadata": {
    "ExecuteTime": {
     "end_time": "2023-11-01T13:29:07.160955Z",
     "start_time": "2023-11-01T13:29:07.160946Z"
    }
   },
   "outputs": [],
   "source": [
    "# проверим на тестовой выборке выборке\n",
    "f_one = f1_score(target_test,\n",
    "                 pipeline_lgbm_classifier_best.predict(features_test\n",
    "#                                                       .drop(columns='title_lemm')\n",
    "                                                     )\n",
    "                )\n",
    "f_one                  "
   ]
  },
  {
   "cell_type": "code",
   "execution_count": null,
   "id": "640542dd",
   "metadata": {},
   "outputs": [],
   "source": []
  },
  {
   "cell_type": "code",
   "execution_count": null,
   "id": "4ea2c9fe",
   "metadata": {
    "ExecuteTime": {
     "end_time": "2023-11-01T13:29:07.161658Z",
     "start_time": "2023-11-01T13:29:07.161648Z"
    }
   },
   "outputs": [],
   "source": [
    "fig = optuna.visualization.plot_param_importances(study)\n",
    "fig.show()"
   ]
  },
  {
   "cell_type": "code",
   "execution_count": 21,
   "id": "1b9deeb1",
   "metadata": {
    "ExecuteTime": {
     "end_time": "2023-11-01T13:29:33.538450Z",
     "start_time": "2023-11-01T13:29:33.532602Z"
    }
   },
   "outputs": [
    {
     "ename": "SyntaxError",
     "evalue": "invalid syntax (1564007043.py, line 5)",
     "output_type": "error",
     "traceback": [
      "\u001b[0;36m  Cell \u001b[0;32mIn[21], line 5\u001b[0;36m\u001b[0m\n\u001b[0;31m    f_one\u001b[0m\n\u001b[0m    ^\u001b[0m\n\u001b[0;31mSyntaxError\u001b[0m\u001b[0;31m:\u001b[0m invalid syntax\n"
     ]
    }
   ],
   "source": [
    "dummy_model = DummyClassifier(strategy=\"most_frequent\")\n",
    "dummy_model.fit(features_train_upsamled, target_train_upsampled)\n",
    "\n",
    "f_one = f1_score(target_valid, dummy_model.predict(features_valid)\n",
    "f_one\n"
   ]
  },
  {
   "cell_type": "code",
   "execution_count": null,
   "id": "21957f44",
   "metadata": {},
   "outputs": [],
   "source": []
  },
  {
   "cell_type": "markdown",
   "id": "2f100db4",
   "metadata": {},
   "source": [
    "## Вывод"
   ]
  }
 ],
 "metadata": {
  "kernelspec": {
   "display_name": "Python 3 (ipykernel)",
   "language": "python",
   "name": "python3"
  },
  "language_info": {
   "codemirror_mode": {
    "name": "ipython",
    "version": 3
   },
   "file_extension": ".py",
   "mimetype": "text/x-python",
   "name": "python",
   "nbconvert_exporter": "python",
   "pygments_lexer": "ipython3",
   "version": "3.9.18"
  },
  "toc": {
   "base_numbering": 1,
   "nav_menu": {},
   "number_sections": true,
   "sideBar": true,
   "skip_h1_title": true,
   "title_cell": "PREprocessing от Музыкальных Детективов",
   "title_sidebar": "PREprocessing от Музыкальных Детективов",
   "toc_cell": true,
   "toc_position": {
    "height": "calc(100% - 180px)",
    "left": "10px",
    "top": "150px",
    "width": "364px"
   },
   "toc_section_display": true,
   "toc_window_display": true
  }
 },
 "nbformat": 4,
 "nbformat_minor": 5
}

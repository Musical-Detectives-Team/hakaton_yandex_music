{
 "cells": [
  {
   "cell_type": "markdown",
   "id": "1ef1c210",
   "metadata": {
    "toc": true
   },
   "source": [
    "<h1>PREprocessing от Музыкальных Детективов<span class=\"tocSkip\"></span></h1>\n",
    "<div class=\"toc\"><ul class=\"toc-item\"><li><span><a href=\"#Введение\" data-toc-modified-id=\"Введение-1\"><span class=\"toc-item-num\">1&nbsp;&nbsp;</span>Введение</a></span></li><li><span><a href=\"#Библиотеки-и-настройки\" data-toc-modified-id=\"Библиотеки-и-настройки-2\"><span class=\"toc-item-num\">2&nbsp;&nbsp;</span>Библиотеки и настройки</a></span><ul class=\"toc-item\"><li><span><a href=\"#Библиотеки\" data-toc-modified-id=\"Библиотеки-2.1\"><span class=\"toc-item-num\">2.1&nbsp;&nbsp;</span>Библиотеки</a></span></li><li><span><a href=\"#Настройки\" data-toc-modified-id=\"Настройки-2.2\"><span class=\"toc-item-num\">2.2&nbsp;&nbsp;</span>Настройки</a></span></li></ul></li><li><span><a href=\"#Загрузка-данных\" data-toc-modified-id=\"Загрузка-данных-3\"><span class=\"toc-item-num\">3&nbsp;&nbsp;</span>Загрузка данных</a></span></li><li><span><a href=\"#Метрика\" data-toc-modified-id=\"Метрика-4\"><span class=\"toc-item-num\">4&nbsp;&nbsp;</span>Метрика</a></span></li><li><span><a href=\"#Модели\" data-toc-modified-id=\"Модели-5\"><span class=\"toc-item-num\">5&nbsp;&nbsp;</span>Модели</a></span></li><li><span><a href=\"#Вывод\" data-toc-modified-id=\"Вывод-6\"><span class=\"toc-item-num\">6&nbsp;&nbsp;</span>Вывод</a></span></li></ul></div>"
   ]
  },
  {
   "cell_type": "markdown",
   "id": "61f1069f",
   "metadata": {},
   "source": [
    "## Введение"
   ]
  },
  {
   "cell_type": "markdown",
   "id": "153c2ee3",
   "metadata": {},
   "source": [
    "**Это вторая из трех тетрадей: EDA, PREprocessing, MODeling.**\n",
    "\n",
    "**Задача:**\n",
    "\n",
    "В этом хакатоне вам предлагается разработать решение, которое:\n",
    "\n",
    "- **Первая задача:** может классифицировать треки по признаку кавер-некавер;\n",
    "- **Вторая задача:** связывать (группировать) каверы и исходный трек;\n",
    "- **Третья задача:** находит исходный трек в цепочке каверов.\n",
    "\n",
    "**Данные:**\n",
    "\n",
    "Файл covers.json содержит **разметку каверов**, сделанную редакторами сервиса:\n",
    "\n",
    "- track_id - уникальный идентификатор трека;\n",
    "- track_remake_type - метка, присвоенная редакторами. Может принимать значения ORIGINAL и COVER;\n",
    "- original_track_id - уникальный идентификатор исходного трека.\n",
    "\n",
    "💡 Обратите внимание, что не для всех каверов известны идентификаторы исходных треков!!!\n",
    "\n",
    "**Метаинформация**\n",
    "\n",
    "- track_id - уникальный идентификатор трека;\n",
    "- dttm - первая дата появления информации о треке;\n",
    "- title - название трека;\n",
    "- language - язык исполнения;\n",
    "- isrc - международный уникальный идентификатор трека;\n",
    "- genres - жанры;\n",
    "- duration - длительность трека;\n",
    "\n",
    "**Текст песен**\n",
    "\n",
    "- track_id - уникальный идентификатор трека;\n",
    "- lyricId - уникальный идентификатор текста;\n",
    "- text - текст трека."
   ]
  },
  {
   "cell_type": "markdown",
   "id": "35593d6f",
   "metadata": {},
   "source": [
    "## Библиотеки и настройки"
   ]
  },
  {
   "cell_type": "markdown",
   "id": "92f79af0",
   "metadata": {},
   "source": [
    "### Библиотеки"
   ]
  },
  {
   "cell_type": "code",
   "execution_count": null,
   "id": "58ea0421",
   "metadata": {
    "ExecuteTime": {
     "end_time": "2023-10-31T19:31:37.574553Z",
     "start_time": "2023-10-31T19:31:37.572019Z"
    },
    "scrolled": true
   },
   "outputs": [],
   "source": [
    "# !pip install ydata_profiling -U"
   ]
  },
  {
   "cell_type": "code",
   "execution_count": null,
   "id": "38f75cc2",
   "metadata": {
    "ExecuteTime": {
     "end_time": "2023-10-31T19:31:37.720707Z",
     "start_time": "2023-10-31T19:31:37.576567Z"
    }
   },
   "outputs": [],
   "source": [
    "# ! pip install -U pip setuptools wheel\n",
    "# ! pip install -U spacy\n",
    "# ! python -m spacy download en_core_web_sm"
   ]
  },
  {
   "cell_type": "code",
   "execution_count": null,
   "id": "e3840e22",
   "metadata": {
    "ExecuteTime": {
     "end_time": "2023-10-31T19:31:39.631804Z",
     "start_time": "2023-10-31T19:31:37.722441Z"
    }
   },
   "outputs": [],
   "source": [
    "# ! pip install -q optuna"
   ]
  },
  {
   "cell_type": "code",
   "execution_count": null,
   "id": "0bee925c",
   "metadata": {
    "ExecuteTime": {
     "end_time": "2023-10-31T19:31:39.635179Z",
     "start_time": "2023-10-31T19:31:39.633071Z"
    }
   },
   "outputs": [],
   "source": [
    "# ! pip install lightgbm"
   ]
  },
  {
   "cell_type": "code",
   "execution_count": null,
   "id": "2cf17f46",
   "metadata": {
    "ExecuteTime": {
     "end_time": "2023-10-31T19:31:42.322442Z",
     "start_time": "2023-10-31T19:31:39.636822Z"
    }
   },
   "outputs": [],
   "source": [
    "import pandas as pd \n",
    "\n",
    "# для анализа данных\n",
    "from ydata_profiling import ProfileReport\n",
    "\n",
    "import numpy as np\n",
    "\n",
    "# для графиков\n",
    "import matplotlib.pyplot as plt\n",
    "import seaborn as sns\n",
    "\n",
    "#для загрузки данных и с сервера и локально\n",
    "import os\n",
    "# для скрытия ошибок\n",
    "import warnings\n",
    "from IPython.display import display\n",
    "# для условно рандомных состояний\n",
    "from numpy.random import RandomState\n",
    "# регулярные выражения\n",
    "import re\n",
    "#Лемматизатор\n",
    "import spacy\n",
    "# модель для лемматизации английского языка\n",
    "import en_core_web_sm\n",
    "\n",
    "# разбиение на выборки\n",
    "from sklearn.model_selection import train_test_split\n",
    "# перемешивание для upsample\n",
    "from sklearn.utils import shuffle\n",
    "\n",
    "from datetime import datetime\n",
    "\n",
    "# # расчитаем TF-IDF\n",
    "# from sklearn.feature_extraction.text import TfidfVectorizer\n",
    "# from nltk.corpus import stopwords\n",
    "# import nltk\n",
    "\n",
    "# Логистическая регрессия\n",
    "from sklearn.linear_model import LogisticRegression\n",
    "# # Дерево Решений классификатор\n",
    "# from sklearn.tree import DecisionTreeClassifier\n",
    "# # Случайный лес классификатор\n",
    "# from sklearn.ensemble import RandomForestClassifier\n",
    "# Ridge регрессия\n",
    "from sklearn.linear_model import RidgeClassifier\n",
    "# для создания конвеера/ трудопровода\n",
    "from sklearn.pipeline import Pipeline, make_pipeline\n",
    "# для маштабирования признаков\n",
    "from sklearn.preprocessing import StandardScaler\n",
    "# заполнение пропусков\n",
    "from sklearn.impute import SimpleImputer\n",
    "# векторизация текста\n",
    "from sklearn.feature_extraction.text import TfidfVectorizer\n",
    "# обработка категориальных признаков\n",
    "from sklearn.preprocessing import OrdinalEncoder\n",
    "# обработка категориальных признаков\n",
    "from sklearn.preprocessing import OneHotEncoder\n",
    "# для раздельной предобработки количествнных и категорийных признаков\n",
    "from sklearn.compose import ColumnTransformer\n",
    "from sklearn.dummy import DummyClassifier\n",
    "\n",
    "# F1 метрика\n",
    "from sklearn.metrics import f1_score\n",
    "\n",
    "# # для подбора параметров моделей\n",
    "# from sklearn.model_selection import GridSearchCV\n",
    "\n",
    "# оптимизация параметров моделей\n",
    "import optuna\n",
    "\n",
    "import lightgbm as lgb"
   ]
  },
  {
   "cell_type": "markdown",
   "id": "6152da4c",
   "metadata": {},
   "source": [
    "### Настройки"
   ]
  },
  {
   "cell_type": "code",
   "execution_count": null,
   "id": "41f79315",
   "metadata": {
    "ExecuteTime": {
     "end_time": "2023-10-31T19:31:42.327555Z",
     "start_time": "2023-10-31T19:31:42.323767Z"
    }
   },
   "outputs": [],
   "source": [
    "# для скрытия ошибок\n",
    "warnings.filterwarnings(\"ignore\")\n",
    "\n",
    "# для увеличения окна вывода \n",
    "pd.options.display.max_rows = 100\n",
    "# максимальная вместимость ячейки для отображения\n",
    "pd.set_option('display.max_colwidth', None)\n",
    "# четыре знака после запятой\n",
    "pd.set_option('display.float_format', '{:.4f}'.format)\n",
    "\n",
    "# для задания размера графиков по умолчанию\n",
    "plt.rcParams[\"figure.figsize\"] = (7, 5)\n",
    "\n",
    "# для псевдорандомных значений\n",
    "np.random.seed(seed=54321)\n",
    "np.random.RandomState(seed=54321)\n",
    "RS=54321\n",
    "\n",
    "# # загрузим английские стоп слова\n",
    "# nltk.download('stopwords')\n",
    "# stop_words = set(stopwords.words('english'))"
   ]
  },
  {
   "cell_type": "markdown",
   "id": "0fd95ebf",
   "metadata": {},
   "source": [
    "## Загрузка данных"
   ]
  },
  {
   "cell_type": "code",
   "execution_count": null,
   "id": "3904b9ce",
   "metadata": {
    "ExecuteTime": {
     "end_time": "2023-10-31T19:31:42.732542Z",
     "start_time": "2023-10-31T19:31:42.328829Z"
    }
   },
   "outputs": [],
   "source": [
    "path_features_train = 'data/preprocessing/features_train.csv'\n",
    "\n",
    "features_train = pd.read_csv(path_features_train)\n",
    "features_train['dttm'] = pd.to_datetime(features_train['dttm'], unit='ns', origin='unix').astype('int')\n",
    "features_train.info()\n",
    "features_train.head()\n",
    "\n"
   ]
  },
  {
   "cell_type": "code",
   "execution_count": null,
   "id": "7a170b9c",
   "metadata": {
    "ExecuteTime": {
     "end_time": "2023-10-31T19:31:43.180548Z",
     "start_time": "2023-10-31T19:31:42.733825Z"
    }
   },
   "outputs": [],
   "source": [
    "path_features_train_upsamled = 'data/preprocessing/features_train_upsamled.csv'\n",
    "\n",
    "features_train_upsamled = pd.read_csv(path_features_train_upsamled)\n",
    "features_train_upsamled['dttm'] = pd.to_datetime(\n",
    "    features_train_upsamled['dttm'], unit='ns', origin='unix').astype('int')\n",
    "features_train_upsamled.info()\n",
    "features_train_upsamled.head()"
   ]
  },
  {
   "cell_type": "code",
   "execution_count": null,
   "id": "4e6c718c",
   "metadata": {
    "ExecuteTime": {
     "end_time": "2023-10-31T19:31:43.241391Z",
     "start_time": "2023-10-31T19:31:43.181701Z"
    }
   },
   "outputs": [],
   "source": [
    "path_features_valid = 'data/preprocessing/features_valid.csv'\n",
    "\n",
    "features_valid = pd.read_csv(path_features_valid)\n",
    "features_valid['dttm'] = pd.to_datetime(features_valid['dttm'], \n",
    "                                        unit='ns', origin='unix').astype('int')\n",
    "features_valid.info()\n",
    "features_valid.head()"
   ]
  },
  {
   "cell_type": "code",
   "execution_count": null,
   "id": "7a4643fc",
   "metadata": {
    "ExecuteTime": {
     "end_time": "2023-10-31T19:31:43.464244Z",
     "start_time": "2023-10-31T19:31:43.242569Z"
    }
   },
   "outputs": [],
   "source": [
    "path_features_test = 'data/preprocessing/features_test.csv'\n",
    "\n",
    "features_test = pd.read_csv(path_features_test)\n",
    "features_test['dttm'] = pd.to_datetime(features_test['dttm'], \n",
    "                                       unit='ns', origin='unix').astype('int')\n",
    "features_test.info()\n",
    "features_test.head()"
   ]
  },
  {
   "cell_type": "code",
   "execution_count": null,
   "id": "1d5269c8",
   "metadata": {
    "ExecuteTime": {
     "end_time": "2023-10-31T19:31:43.636281Z",
     "start_time": "2023-10-31T19:31:43.466593Z"
    },
    "scrolled": true
   },
   "outputs": [],
   "source": [
    "path_target_train = 'data/preprocessing/target_train.csv'\n",
    "\n",
    "target_train = pd.read_csv(path_target_train)\n",
    "display(target_train.describe())\n",
    "target_train.head()"
   ]
  },
  {
   "cell_type": "code",
   "execution_count": null,
   "id": "fcfdb6f1",
   "metadata": {
    "ExecuteTime": {
     "end_time": "2023-10-31T19:31:43.870055Z",
     "start_time": "2023-10-31T19:31:43.637342Z"
    }
   },
   "outputs": [],
   "source": [
    "path_target_train_upsampled = 'data/preprocessing/target_train_upsampled.csv'\n",
    "\n",
    "target_train_upsampled = pd.read_csv(path_target_train_upsampled)\n",
    "display(target_train_upsampled.describe())\n",
    "target_train.head()"
   ]
  },
  {
   "cell_type": "code",
   "execution_count": null,
   "id": "350c1bc1",
   "metadata": {
    "ExecuteTime": {
     "end_time": "2023-10-31T19:31:44.107196Z",
     "start_time": "2023-10-31T19:31:43.871275Z"
    }
   },
   "outputs": [],
   "source": [
    "path_target_valid = 'data/preprocessing/target_valid.csv'\n",
    "\n",
    "target_valid = pd.read_csv(path_target_valid)\n",
    "display(target_valid.describe())\n",
    "target_valid.head()"
   ]
  },
  {
   "cell_type": "code",
   "execution_count": null,
   "id": "2edae607",
   "metadata": {
    "ExecuteTime": {
     "end_time": "2023-10-31T19:31:44.289564Z",
     "start_time": "2023-10-31T19:31:44.108270Z"
    }
   },
   "outputs": [],
   "source": [
    "path_target_test = 'data/preprocessing/target_test.csv'\n",
    "\n",
    "target_test = pd.read_csv(path_target_test)\n",
    "display(target_test.describe())\n",
    "target_test.head()"
   ]
  },
  {
   "cell_type": "markdown",
   "id": "a9e6c0f2",
   "metadata": {},
   "source": [
    "## Метрика"
   ]
  },
  {
   "cell_type": "code",
   "execution_count": null,
   "id": "12217639",
   "metadata": {},
   "outputs": [],
   "source": []
  },
  {
   "cell_type": "code",
   "execution_count": null,
   "id": "92f8a57a",
   "metadata": {},
   "outputs": [],
   "source": []
  },
  {
   "cell_type": "code",
   "execution_count": null,
   "id": "9aa719f7",
   "metadata": {},
   "outputs": [],
   "source": []
  },
  {
   "cell_type": "code",
   "execution_count": null,
   "id": "08f2efea",
   "metadata": {},
   "outputs": [],
   "source": []
  },
  {
   "cell_type": "markdown",
   "id": "acbd2664",
   "metadata": {},
   "source": [
    "## Модели"
   ]
  },
  {
   "cell_type": "code",
   "execution_count": null,
   "id": "1941193a",
   "metadata": {
    "ExecuteTime": {
     "end_time": "2023-10-31T19:31:44.471911Z",
     "start_time": "2023-10-31T19:31:44.290819Z"
    }
   },
   "outputs": [],
   "source": [
    "features_train_upsamled.columns"
   ]
  },
  {
   "cell_type": "code",
   "execution_count": null,
   "id": "936d1b26",
   "metadata": {
    "ExecuteTime": {
     "end_time": "2023-10-31T19:31:44.660910Z",
     "start_time": "2023-10-31T19:31:44.473036Z"
    }
   },
   "outputs": [],
   "source": [
    "# запишем обучающие признаки в соответствующие списки\n",
    "features_list_text = ['title_lemm']\n",
    "features_list_cat = ['language', 'title_language', 'isrc_country',\n",
    "                     'isrc_prod_centr', 'genres_big_cat',\n",
    "#                      'title_lemm'\n",
    "                    ]\n",
    "\n",
    "features_list_num = ['dttm', 'duration', 'title_len', 'isrc_year','isrc_reg_number']"
   ]
  },
  {
   "cell_type": "code",
   "execution_count": null,
   "id": "71fe8aff",
   "metadata": {
    "ExecuteTime": {
     "end_time": "2023-10-31T19:31:44.877931Z",
     "start_time": "2023-10-31T19:31:44.661950Z"
    }
   },
   "outputs": [],
   "source": [
    "category_features_index = []\n",
    "\n",
    "for col in features_list_cat:\n",
    "    category_features_index.append(features_train_upsamled.columns.get_loc(col))\n",
    "    \n",
    "category_features_index"
   ]
  },
  {
   "cell_type": "code",
   "execution_count": null,
   "id": "57a34148",
   "metadata": {
    "ExecuteTime": {
     "end_time": "2023-11-01T09:17:50.645738Z",
     "start_time": "2023-11-01T09:17:50.639307Z"
    }
   },
   "outputs": [],
   "source": [
    "# задаем шаги в Pipeline\n",
    "\n",
    "# обработка численных признаков для базового алгоритма Линейная регрессия\n",
    "# заполнение 0 и стандартизация с маштабированием\n",
    "num_steps_linear = [('imputer',  SimpleImputer(missing_values=np.nan\n",
    "                                        , strategy='constant'\n",
    "                                        , fill_value=0\n",
    "                                        , add_indicator=True\n",
    "                                        )\n",
    "                    )\n",
    "                    , ('scaler', StandardScaler()\n",
    "                       )\n",
    "                     ]\n",
    "num_preprocessor_linear = Pipeline(num_steps_linear)\n",
    "                     \n",
    "# обработка численных признаков для базового алгоритма Дерево решений\n",
    "# заполнение аномальными значениями\n",
    "num_steps_tree = [('imputer',  SimpleImputer(missing_values=np.nan\n",
    "                                            , strategy='constant'\n",
    "                                            , fill_value=-1000\n",
    "                                            )\n",
    "                  )\n",
    "                 ]\n",
    "num_preprocessor_tree = Pipeline(num_steps_tree)                     \n",
    "\n",
    "# обработка категориальных признаков для базового алгоритма Линейная регрессия\n",
    "category_steps_linear = [('imputer', SimpleImputer(missing_values=np.nan, \n",
    "                                                   strategy='constant', \n",
    "                                                   fill_value='unknown'))\n",
    "                         , ('encoder', OrdinalEncoder(handle_unknown = 'ignore'))\n",
    "                         , ('scaler', StandardScaler())\n",
    "                        ]\n",
    "\n",
    "\n",
    "category_preprocessor_linear = Pipeline(category_steps_linear)\n",
    "\n",
    "# обработка категориальных признаков для базового алгоритма Дерово решений\n",
    "category_steps_tree = [('imputer', SimpleImputer(missing_values=np.nan, \n",
    "                                                 strategy='constant', \n",
    "                                                 fill_value='unknown'))\n",
    "                       ,('encoder', OrdinalEncoder(handle_unknown = 'ignore', \n",
    "#                                                    dtype=np.uint32\n",
    "                                                  )\n",
    "                        )\n",
    "                      ]\n",
    "category_preprocessor_tree = Pipeline(category_steps_tree)\n",
    "\n",
    "# обработка текстовых признаков для линейных алгоритмов\n",
    "text_step_linear = [ ('vect', TfidfVectorizer()),\n",
    "#                    ('scaler', StandardScaler()) ?\n",
    "                   ]\n",
    "text_preprocessor_linear = Pipeline(text_step_linear)\n",
    "\n",
    "# обработка текстовых признаков для базового алгоритма Дерово решений\n",
    "text_step_tree = [ ('vect', TfidfVectorizer())]\n",
    "\n",
    "text_preprocessor_tree = Pipeline(text_step_tree)\n",
    "\n",
    "\n",
    "# собираем все вместе для базового алгоритма Линейная регрессия\n",
    "preprocessor_linear = ColumnTransformer(transformers=[('num', num_preprocessor_linear, features_list_num)\n",
    "                                                      , ('cat', category_preprocessor_linear, features_list_cat)\n",
    "#                                                       , ('text', text_preprocessor_linear, features_list_text)\n",
    "                                                     ]\n",
    "                                        , remainder='passthrough'\n",
    "                                       )\n",
    "\n",
    "# собираем все вместе для базового алгоритма Дерево Решений\n",
    "preprocessor_tree = ColumnTransformer(transformers=[('num', num_preprocessor_tree, features_list_num),\n",
    "                                                    ('cat', category_preprocessor_tree, features_list_cat),\n",
    "#                                                     ('text', text_preprocessor_tree, features_list_text)\n",
    "                                                   ]\n",
    "                                      , remainder='passthrough'\n",
    "                                     )\n"
   ]
  },
  {
   "cell_type": "code",
   "execution_count": null,
   "id": "771f1bd1",
   "metadata": {},
   "outputs": [],
   "source": []
  },
  {
   "cell_type": "code",
   "execution_count": null,
   "id": "c65f90af",
   "metadata": {
    "ExecuteTime": {
     "end_time": "2023-11-01T10:47:49.024343Z",
     "start_time": "2023-11-01T10:40:05.642220Z"
    }
   },
   "outputs": [],
   "source": [
    "def objective(trial):\n",
    "    n_estimators = trial.suggest_int('n_estimators', 10, 1000, step=10)\n",
    "    max_depth = trial.suggest_int('max_depth', 4, 50)\n",
    "    num_leaves = trial.suggest_int('num_leaves', 10, 150, step=20)\n",
    "    learning_rate = trial.suggest_float('learning_rate', 0.001, 0.9, step=None, log=True)\n",
    "    \n",
    "    pipeline_lgbm_classifier = Pipeline([\n",
    "        ('preprocessor', preprocessor_tree),\n",
    "        ('classifier', lgb.LGBMClassifier(boosting_type='gbdt',\n",
    "                                          num_leaves=num_leaves,\n",
    "                                          max_depth=max_depth,\n",
    "                                          learning_rate=learning_rate,\n",
    "                                          objective= 'binary', \n",
    "                                          n_estimators=n_estimators,\n",
    "                                          random_state=RS,\n",
    "                                          n_jobs=-1,\n",
    "                                          \n",
    "#                                           class_weight='balanced'\n",
    "                                          \n",
    "                                         )\n",
    "         )\n",
    "        ]\n",
    "        )\n",
    "#     pipeline_lgbm_classifier.fit(features_train\n",
    "# #                                  .drop(columns='title_lemm')\n",
    "#                                  ,\n",
    "#                                  target_train,\n",
    "#                                  classifier__categorical_feature=category_features_index\n",
    "# #                                  classifier__categorical_feature=features_list_cat\n",
    "#                                  )\n",
    "\n",
    "#     f_one = f1_score(target_train,\n",
    "#                      pipeline_lgbm_classifier.predict(features_train\n",
    "# #                                                       .drop(columns='title_lemm')\n",
    "#                                                      )\n",
    "#                     )\n",
    "    \n",
    "    pipeline_lgbm_classifier.fit(features_train_upsamled\n",
    "#                                  .drop(columns='title_lemm')\n",
    "                                 ,\n",
    "                                 target_train_upsampled,\n",
    "                                 classifier__categorical_feature=category_features_index\n",
    "#                                  classifier__categorical_feature=features_list_cat\n",
    "                                 )\n",
    "\n",
    "    f_one = f1_score(target_train_upsampled,\n",
    "                     pipeline_lgbm_classifier.predict(features_train_upsamled\n",
    "#                                                       .drop(columns='title_lemm')\n",
    "                                                     )\n",
    "                    )\n",
    "#     f_one = f1_score(target_valid,\n",
    "#                      pipeline_lgbm_classifier.predict(features_valid\n",
    "# #                                                       .drop(columns='title_lemm')\n",
    "#                                                      )\n",
    "#                     )\n",
    "    return f_one\n",
    "\n",
    "\n",
    "study = optuna.create_study(direction='maximize'\n",
    "                            , sampler=optuna.samplers.RandomSampler(seed=RS)\n",
    "                            , pruner=optuna.pruners.MedianPruner(n_warmup_steps=10)\n",
    "                           )\n",
    "study.optimize(objective, n_trials=100, timeout=600)\n",
    "study.best_trial"
   ]
  },
  {
   "cell_type": "code",
   "execution_count": null,
   "id": "6e1922ca",
   "metadata": {
    "ExecuteTime": {
     "end_time": "2023-11-01T10:11:17.460825Z",
     "start_time": "2023-11-01T10:11:17.433142Z"
    }
   },
   "outputs": [],
   "source": [
    "# запишем наш pipeline_lgbm_classifier_best с лучшими параметрами\n",
    "pipeline_lgbm_classifier_best = Pipeline([\n",
    "        ('preprocessor', preprocessor_tree),\n",
    "        ('classifier', lgb.LGBMClassifier(boosting_type='gbdt',\n",
    "                                          num_leaves=study.best_params['num_leaves'],\n",
    "                                          max_depth=study.best_params['max_depth'],\n",
    "                                          learning_rate=study.best_params['learning_rate'],\n",
    "                                          objective= 'binary', \n",
    "                                          n_estimators=study.best_params['n_estimators'],\n",
    "                                          random_state=RS,\n",
    "                                          n_jobs=-1,)\n",
    "         )\n",
    "        ]\n",
    "        )\n",
    "pipeline_lgbm_classifier"
   ]
  },
  {
   "cell_type": "code",
   "execution_count": null,
   "id": "87ec7f3e",
   "metadata": {
    "ExecuteTime": {
     "end_time": "2023-11-01T10:11:40.792396Z",
     "start_time": "2023-11-01T10:11:27.040779Z"
    }
   },
   "outputs": [],
   "source": [
    "# обучим на сбалансированной выборке\n",
    "pipeline_lgbm_classifier_best.fit(features_train_upsamled, target_train_upsampled)"
   ]
  },
  {
   "cell_type": "code",
   "execution_count": null,
   "id": "771c6361",
   "metadata": {
    "ExecuteTime": {
     "end_time": "2023-11-01T10:11:57.260507Z",
     "start_time": "2023-11-01T10:11:57.256562Z"
    }
   },
   "outputs": [],
   "source": [
    "pipeline_lgbm_classifier_best.steps[1]"
   ]
  },
  {
   "cell_type": "code",
   "execution_count": null,
   "id": "17aa83b3",
   "metadata": {
    "ExecuteTime": {
     "end_time": "2023-11-01T10:12:10.614271Z",
     "start_time": "2023-11-01T10:12:10.319724Z"
    }
   },
   "outputs": [],
   "source": [
    "# проверим на проверочно выборке\n",
    "f_one = f1_score(target_valid,\n",
    "                     pipeline_lgbm_classifier_best.predict(features_valid\n",
    "#                                                       .drop(columns='title_lemm')\n",
    "                                                     )\n",
    "                )\n",
    "f_one                  "
   ]
  },
  {
   "cell_type": "code",
   "execution_count": null,
   "id": "8a8e02ac",
   "metadata": {
    "ExecuteTime": {
     "end_time": "2023-11-01T10:12:10.614271Z",
     "start_time": "2023-11-01T10:12:10.319724Z"
    }
   },
   "outputs": [],
   "source": [
    "# проверим на тестовой выборке выборке\n",
    "f_one = f1_score(target_test,\n",
    "                 pipeline_lgbm_classifier_best.predict(features_test\n",
    "#                                                       .drop(columns='title_lemm')\n",
    "                                                     )\n",
    "                )\n",
    "f_one                  "
   ]
  },
  {
   "cell_type": "code",
   "execution_count": null,
   "id": "640542dd",
   "metadata": {},
   "outputs": [],
   "source": []
  },
  {
   "cell_type": "code",
   "execution_count": null,
   "id": "4ea2c9fe",
   "metadata": {
    "ExecuteTime": {
     "end_time": "2023-11-01T10:14:35.845402Z",
     "start_time": "2023-11-01T10:14:35.550002Z"
    }
   },
   "outputs": [],
   "source": [
    "fig = optuna.visualization.plot_param_importances(study)\n",
    "fig.show()"
   ]
  },
  {
   "cell_type": "code",
   "execution_count": null,
   "id": "1b9deeb1",
   "metadata": {
    "ExecuteTime": {
     "end_time": "2023-10-31T19:43:03.323980Z",
     "start_time": "2023-10-31T19:43:03.315913Z"
    }
   },
   "outputs": [],
   "source": [
    "dummy_model = DummyClassifier(strategy=\"most_frequent\")\n",
    "dummy_model.fit(features_train_upsamled, target_train_upsampled)\n",
    "\n",
    "f_one = f1_score(target_valid, dummy_model.predict(features_valid)\n",
    "f_one\n"
   ]
  },
  {
   "cell_type": "code",
   "execution_count": null,
   "id": "21957f44",
   "metadata": {},
   "outputs": [],
   "source": []
  },
  {
   "cell_type": "markdown",
   "id": "2f100db4",
   "metadata": {},
   "source": [
    "## Вывод"
   ]
  }
 ],
 "metadata": {
  "kernelspec": {
   "display_name": "Python 3 (ipykernel)",
   "language": "python",
   "name": "python3"
  },
  "language_info": {
   "codemirror_mode": {
    "name": "ipython",
    "version": 3
   },
   "file_extension": ".py",
   "mimetype": "text/x-python",
   "name": "python",
   "nbconvert_exporter": "python",
   "pygments_lexer": "ipython3",
   "version": "3.9.18"
  },
  "toc": {
   "base_numbering": 1,
   "nav_menu": {},
   "number_sections": true,
   "sideBar": true,
   "skip_h1_title": true,
   "title_cell": "PREprocessing от Музыкальных Детективов",
   "title_sidebar": "PREprocessing от Музыкальных Детективов",
   "toc_cell": true,
   "toc_position": {
    "height": "calc(100% - 180px)",
    "left": "10px",
    "top": "150px",
    "width": "364px"
   },
   "toc_section_display": true,
   "toc_window_display": true
  }
 },
 "nbformat": 4,
 "nbformat_minor": 5
}

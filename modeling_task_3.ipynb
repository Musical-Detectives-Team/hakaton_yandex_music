{
 "cells": [
  {
   "cell_type": "markdown",
   "id": "06801363",
   "metadata": {},
   "source": [
    "# Modeling task 3"
   ]
  },
  {
   "cell_type": "markdown",
   "id": "d49e234a",
   "metadata": {},
   "source": [
    "Данный ноутбук направлен на решение третьей задачи: поиска исходного трека в цепочке каверов.\n",
    "\n",
    "Данную задачу будем частично решать аналитическим путём, частично при помощи ML. Для решения будем придерживаться следующего алгоритма:\n",
    "1. при отсутствии цепочки каверов (модель из второй задачи не нашла похожие треки), будем считать сам трек оригиналом;\n",
    "2. если есть цепочка треков, то получаем самый ранний из треков на основании года, полученному из isrc;\n",
    "3. если несколько треков соответствуют самому раннему году, либо если есть треки, для которых год неизвестен, то отдаём их для прогноза модели, обученной для решения задачи классификации кавер / оригинал, и по predict_proba выбираем тот, в котором модель больше уверена."
   ]
  },
  {
   "cell_type": "markdown",
   "id": "ea8a676a",
   "metadata": {},
   "source": [
    "Импортируем требуемые библиотеки и пути"
   ]
  },
  {
   "cell_type": "code",
   "execution_count": 1,
   "id": "ca609e3e",
   "metadata": {},
   "outputs": [],
   "source": [
    "import pandas as pd\n",
    "import numpy as np\n",
    "from catboost import CatBoostClassifier\n",
    "import pickle\n",
    "from typing import List"
   ]
  },
  {
   "cell_type": "code",
   "execution_count": 2,
   "id": "c8b1f08e",
   "metadata": {},
   "outputs": [],
   "source": [
    "PATH_PREDICTION = 'data/preprocessing/prdeiction.csv'\n",
    "PATH_TEST = 'data/preprocessing/test_task_1.csv'\n",
    "PATH_TEST_TASK1_TRACK_ID = 'data/preprocessing/test_task_1_track_id.csv'\n",
    "PATH_MODEL = 'models/task_1_model.pkl'"
   ]
  },
  {
   "cell_type": "markdown",
   "id": "c4ae8301",
   "metadata": {},
   "source": [
    "Откроем датасеты и выведем их размеры"
   ]
  },
  {
   "cell_type": "code",
   "execution_count": 3,
   "id": "25b916ff",
   "metadata": {},
   "outputs": [],
   "source": [
    "df_pred = pd.read_csv(PATH_PREDICTION)\n",
    "df_test = pd.read_csv(PATH_TEST)\n",
    "df_test_track_id = pd.read_csv(PATH_TEST_TASK1_TRACK_ID)"
   ]
  },
  {
   "cell_type": "code",
   "execution_count": 5,
   "id": "48f3ae0d",
   "metadata": {},
   "outputs": [
    {
     "data": {
      "text/plain": [
       "((71399, 2), (14246, 34), (14246, 1))"
      ]
     },
     "execution_count": 5,
     "metadata": {},
     "output_type": "execute_result"
    }
   ],
   "source": [
    "df_pred.shape, df_test.shape, df_test_track_id.shape"
   ]
  },
  {
   "cell_type": "markdown",
   "id": "084e40af",
   "metadata": {},
   "source": [
    "df_pred естьественно больше, поскольку там прогноз для всего датасета, а в тесте только те, которые не видела модель классификации кавер / оригинал."
   ]
  },
  {
   "cell_type": "markdown",
   "id": "d05642a4",
   "metadata": {},
   "source": [
    "Выберем из датасета df_pred те треки track_id которых содержаться в df_test_track_id"
   ]
  },
  {
   "cell_type": "code",
   "execution_count": 6,
   "id": "647b0839",
   "metadata": {},
   "outputs": [],
   "source": [
    "df_pred = df_pred.merge(df_test_track_id, on='track_id', how='right')"
   ]
  },
  {
   "cell_type": "code",
   "execution_count": 7,
   "id": "c4194bfe",
   "metadata": {},
   "outputs": [
    {
     "data": {
      "text/plain": [
       "(14246, 2)"
      ]
     },
     "execution_count": 7,
     "metadata": {},
     "output_type": "execute_result"
    }
   ],
   "source": [
    "df_pred.shape"
   ]
  },
  {
   "cell_type": "markdown",
   "id": "d914df45",
   "metadata": {},
   "source": [
    "Просоединим к df_test столбец с 'track_id' он нам понадобится для фильтрации данных"
   ]
  },
  {
   "cell_type": "code",
   "execution_count": 8,
   "id": "674bb594",
   "metadata": {},
   "outputs": [],
   "source": [
    "df_test = df_test.join(df_test_track_id)"
   ]
  },
  {
   "cell_type": "markdown",
   "id": "86be88f2",
   "metadata": {},
   "source": [
    "Откроем модель"
   ]
  },
  {
   "cell_type": "code",
   "execution_count": 9,
   "id": "b5267515",
   "metadata": {},
   "outputs": [],
   "source": [
    "with open(PATH_MODEL, 'rb') as file:\n",
    "    model = pickle.load(file)  "
   ]
  },
  {
   "cell_type": "markdown",
   "id": "c5d3356a",
   "metadata": {},
   "source": [
    "Напишем функцию, которая будет реализовывать предложенную выше логику действий. Для отметки оригинала добавим столбец original_track_id, в котором будем указывать предполагаемы track_id оригинала."
   ]
  },
  {
   "cell_type": "markdown",
   "id": "17c519c4",
   "metadata": {},
   "source": [
    "Но для работы данной функции нам потребуется вспомогательная функция, которая будет выбиратьболее ранний год и при необходимости использовать модель из 1 задачи."
   ]
  },
  {
   "cell_type": "code",
   "execution_count": 10,
   "id": "0583da94",
   "metadata": {},
   "outputs": [],
   "source": [
    "def get_first_track(row, df_task_1, model):\n",
    "    df = df_task_1.copy(deep=True)\n",
    "    # составляем полную цепочку треков (основной + предсказанная цепочка)\n",
    "    list_track = (row['track_id'] + ' ' + row['prediction_track_list']).split()\n",
    "    # выбираем из переданного датасета только те, которые входят в list_track\n",
    "    df = df[df['track_id'].isin(list_track)]\n",
    "    # из полученного датасета оставляем только те, у которых минимальный год релиза или стоит метка об отсутствии isrc\n",
    "    df = df[(df['num_year']==df['num_year'].min()) | (df['missing_isrc']==1)]\n",
    "    # если получилась одна строка, то этот трек и является оригиналом\n",
    "    if df.shape[0] == 1:\n",
    "        return df['track_id'].values[0]\n",
    "    \n",
    "    \n",
    "    # если получили больше 1 строки, то запускаем модель и добавляем к df столбец predict_proba\n",
    "    df['predict_proba'] = model.predict_proba(df.drop('track_id', axis=1))[:,1]    \n",
    "    # возвращаем track_id с максимальным значением predict_proba\n",
    "    # добавляем i.loc, на случай, если вернётся несколько строк\n",
    "    return df[df['predict_proba']==df['predict_proba'].max()].iloc[0]['track_id']"
   ]
  },
  {
   "cell_type": "code",
   "execution_count": 11,
   "id": "e45585c6",
   "metadata": {},
   "outputs": [],
   "source": [
    "def get_original_track(df_task_2: pd.DataFrame, \n",
    "                       df_task_1:pd.DataFrame,\n",
    "                       model: CatBoostClassifier) -> pd.DataFrame:\n",
    "    df = df_task_2.copy(deep=True)\n",
    "    df['original_track_id'] = np.nan\n",
    "    mask = df['prediction_track_list'].isna()\n",
    "    df.loc[mask, 'original_track_id'] = df.loc[mask, 'track_id']\n",
    "    \n",
    "    df.loc[~mask, 'original_track_id'] = df.loc[~mask].apply(get_first_track, \n",
    "                                                             df_task_1=df_task_1, \n",
    "                                                             model=model, \n",
    "                                                             axis=1)\n",
    "    return df"
   ]
  },
  {
   "cell_type": "code",
   "execution_count": 12,
   "id": "249b5e48",
   "metadata": {},
   "outputs": [],
   "source": [
    "df_pred_original = get_original_track(df_pred, df_test, model)"
   ]
  },
  {
   "cell_type": "markdown",
   "id": "1cd87f0c",
   "metadata": {},
   "source": [
    "Выведем первые 5 строк"
   ]
  },
  {
   "cell_type": "code",
   "execution_count": 13,
   "id": "1a9d2e65",
   "metadata": {},
   "outputs": [
    {
     "data": {
      "text/html": [
       "<div>\n",
       "<style scoped>\n",
       "    .dataframe tbody tr th:only-of-type {\n",
       "        vertical-align: middle;\n",
       "    }\n",
       "\n",
       "    .dataframe tbody tr th {\n",
       "        vertical-align: top;\n",
       "    }\n",
       "\n",
       "    .dataframe thead th {\n",
       "        text-align: right;\n",
       "    }\n",
       "</style>\n",
       "<table border=\"1\" class=\"dataframe\">\n",
       "  <thead>\n",
       "    <tr style=\"text-align: right;\">\n",
       "      <th></th>\n",
       "      <th>track_id</th>\n",
       "      <th>prediction_track_list</th>\n",
       "      <th>original_track_id</th>\n",
       "    </tr>\n",
       "  </thead>\n",
       "  <tbody>\n",
       "    <tr>\n",
       "      <th>0</th>\n",
       "      <td>f9ec63fb95c019c06e794eef1bedada5</td>\n",
       "      <td>NaN</td>\n",
       "      <td>f9ec63fb95c019c06e794eef1bedada5</td>\n",
       "    </tr>\n",
       "    <tr>\n",
       "      <th>1</th>\n",
       "      <td>3c3c15ccaf86e5e54723c8efd074944a</td>\n",
       "      <td>NaN</td>\n",
       "      <td>3c3c15ccaf86e5e54723c8efd074944a</td>\n",
       "    </tr>\n",
       "    <tr>\n",
       "      <th>2</th>\n",
       "      <td>418f8033b3c4d6d00aefb46585471673</td>\n",
       "      <td>NaN</td>\n",
       "      <td>418f8033b3c4d6d00aefb46585471673</td>\n",
       "    </tr>\n",
       "    <tr>\n",
       "      <th>3</th>\n",
       "      <td>38e9ef89e9d7fd0e0a6f770603a1f9ca</td>\n",
       "      <td>NaN</td>\n",
       "      <td>38e9ef89e9d7fd0e0a6f770603a1f9ca</td>\n",
       "    </tr>\n",
       "    <tr>\n",
       "      <th>4</th>\n",
       "      <td>10606a2a117354a2deaef2fde2c3c8f7</td>\n",
       "      <td>NaN</td>\n",
       "      <td>10606a2a117354a2deaef2fde2c3c8f7</td>\n",
       "    </tr>\n",
       "  </tbody>\n",
       "</table>\n",
       "</div>"
      ],
      "text/plain": [
       "                           track_id prediction_track_list  \\\n",
       "0  f9ec63fb95c019c06e794eef1bedada5                   NaN   \n",
       "1  3c3c15ccaf86e5e54723c8efd074944a                   NaN   \n",
       "2  418f8033b3c4d6d00aefb46585471673                   NaN   \n",
       "3  38e9ef89e9d7fd0e0a6f770603a1f9ca                   NaN   \n",
       "4  10606a2a117354a2deaef2fde2c3c8f7                   NaN   \n",
       "\n",
       "                  original_track_id  \n",
       "0  f9ec63fb95c019c06e794eef1bedada5  \n",
       "1  3c3c15ccaf86e5e54723c8efd074944a  \n",
       "2  418f8033b3c4d6d00aefb46585471673  \n",
       "3  38e9ef89e9d7fd0e0a6f770603a1f9ca  \n",
       "4  10606a2a117354a2deaef2fde2c3c8f7  "
      ]
     },
     "execution_count": 13,
     "metadata": {},
     "output_type": "execute_result"
    }
   ],
   "source": [
    "df_pred_original.head()"
   ]
  },
  {
   "cell_type": "markdown",
   "id": "e11450b9",
   "metadata": {},
   "source": [
    "Проверим наличие nan в original_track_id"
   ]
  },
  {
   "cell_type": "code",
   "execution_count": 14,
   "id": "53e6e429",
   "metadata": {},
   "outputs": [
    {
     "data": {
      "text/plain": [
       "0"
      ]
     },
     "execution_count": 14,
     "metadata": {},
     "output_type": "execute_result"
    }
   ],
   "source": [
    "df_pred_original['original_track_id'].isna().sum()"
   ]
  },
  {
   "cell_type": "markdown",
   "id": "9f3f593c",
   "metadata": {},
   "source": [
    "Выведем первые 5 строк датасета, где prediction_track_list не путой"
   ]
  },
  {
   "cell_type": "code",
   "execution_count": 15,
   "id": "891c964c",
   "metadata": {},
   "outputs": [
    {
     "data": {
      "text/html": [
       "<div>\n",
       "<style scoped>\n",
       "    .dataframe tbody tr th:only-of-type {\n",
       "        vertical-align: middle;\n",
       "    }\n",
       "\n",
       "    .dataframe tbody tr th {\n",
       "        vertical-align: top;\n",
       "    }\n",
       "\n",
       "    .dataframe thead th {\n",
       "        text-align: right;\n",
       "    }\n",
       "</style>\n",
       "<table border=\"1\" class=\"dataframe\">\n",
       "  <thead>\n",
       "    <tr style=\"text-align: right;\">\n",
       "      <th></th>\n",
       "      <th>track_id</th>\n",
       "      <th>prediction_track_list</th>\n",
       "      <th>original_track_id</th>\n",
       "    </tr>\n",
       "  </thead>\n",
       "  <tbody>\n",
       "    <tr>\n",
       "      <th>140</th>\n",
       "      <td>cc2469cf94e93941afcdd26b30dbd398</td>\n",
       "      <td>02db8e8e8d3c08f3a57cc6db3876f942 255b537053a9e...</td>\n",
       "      <td>255b537053a9e1adbe9f76cd03669734</td>\n",
       "    </tr>\n",
       "    <tr>\n",
       "      <th>509</th>\n",
       "      <td>8176544797d18079e07b0130c80216cf</td>\n",
       "      <td>2e7110410d6c82206d88bf61cfa5cf14</td>\n",
       "      <td>8176544797d18079e07b0130c80216cf</td>\n",
       "    </tr>\n",
       "    <tr>\n",
       "      <th>908</th>\n",
       "      <td>7e9b19c0cfd247420f02d2128432fa5e</td>\n",
       "      <td>f24cb8af625fe6679b965b8e7561601e 0a2fbd20ecdb4...</td>\n",
       "      <td>7e9b19c0cfd247420f02d2128432fa5e</td>\n",
       "    </tr>\n",
       "    <tr>\n",
       "      <th>1082</th>\n",
       "      <td>5d58930596840ad631fe9cba17cee8d8</td>\n",
       "      <td>8b73d25bff03bb9a0b3c9b15e47c9688 61bc2470ec141...</td>\n",
       "      <td>5d58930596840ad631fe9cba17cee8d8</td>\n",
       "    </tr>\n",
       "    <tr>\n",
       "      <th>1223</th>\n",
       "      <td>a48bd739ee695a48974bb3ca2f7c793c</td>\n",
       "      <td>051569be1a5b6f453a41a694f6376b82</td>\n",
       "      <td>051569be1a5b6f453a41a694f6376b82</td>\n",
       "    </tr>\n",
       "  </tbody>\n",
       "</table>\n",
       "</div>"
      ],
      "text/plain": [
       "                              track_id  \\\n",
       "140   cc2469cf94e93941afcdd26b30dbd398   \n",
       "509   8176544797d18079e07b0130c80216cf   \n",
       "908   7e9b19c0cfd247420f02d2128432fa5e   \n",
       "1082  5d58930596840ad631fe9cba17cee8d8   \n",
       "1223  a48bd739ee695a48974bb3ca2f7c793c   \n",
       "\n",
       "                                  prediction_track_list  \\\n",
       "140   02db8e8e8d3c08f3a57cc6db3876f942 255b537053a9e...   \n",
       "509                    2e7110410d6c82206d88bf61cfa5cf14   \n",
       "908   f24cb8af625fe6679b965b8e7561601e 0a2fbd20ecdb4...   \n",
       "1082  8b73d25bff03bb9a0b3c9b15e47c9688 61bc2470ec141...   \n",
       "1223                   051569be1a5b6f453a41a694f6376b82   \n",
       "\n",
       "                     original_track_id  \n",
       "140   255b537053a9e1adbe9f76cd03669734  \n",
       "509   8176544797d18079e07b0130c80216cf  \n",
       "908   7e9b19c0cfd247420f02d2128432fa5e  \n",
       "1082  5d58930596840ad631fe9cba17cee8d8  \n",
       "1223  051569be1a5b6f453a41a694f6376b82  "
      ]
     },
     "execution_count": 15,
     "metadata": {},
     "output_type": "execute_result"
    }
   ],
   "source": [
    "df_pred_original[~df_pred_original['prediction_track_list'].isna()].head()"
   ]
  },
  {
   "cell_type": "markdown",
   "id": "6b23d795",
   "metadata": {},
   "source": [
    "Как видим модель работает корректно, при этом она может выбрать как track_id самого трека, так и track_id одного из каверов. К сожалению адекватно проверить качество данной модели не получится, так как, во-первых, в первоначальном датасете у большинства треков отсутствовал original_track_id, во-вторых, при работе над второй моделью было установлено, что есть некорректно размеченные данные."
   ]
  },
  {
   "cell_type": "markdown",
   "id": "b662fe42",
   "metadata": {},
   "source": [
    "## Выводы"
   ]
  },
  {
   "cell_type": "markdown",
   "id": "5a049240",
   "metadata": {},
   "source": [
    "В данном разделе решалась задача поиска исходного трека в цепочке каверов, в ходе решения было сделано следующее:\n",
    "1. Предложена и реализована следующая логика решения задачи поиска исходного трека в цепочке каверов:\n",
    "    - сначала проводится анализ цепочки каверов и при отсутствии цепочки как таковой (модель из второй задачи не нашла похожие треки в базе), будем считать сам трек оригиналом;\n",
    "    - если цепочка треков была обнаружена, то получаем самый ранний из треков на основании года, полученному из isrc (по факту год регистрации трека);\n",
    "    - если несколько треков соответствуют самому раннему году, либо если есть треки, для которых год неизвестен, то отдаём их для прогноза модели, обученной для решения задачи классификации кавер / оригинал, и по predict_proba выбираем тот, в котором модель больше уверена.\n",
    "2. Написаны функции, позволяющие на основании прогноза модели для 2 задачи и использую модель для 1 задачи получить датасет как с цепочкой каверов, так и с track_id оригинального трека."
   ]
  },
  {
   "cell_type": "code",
   "execution_count": null,
   "id": "cda984f2",
   "metadata": {},
   "outputs": [],
   "source": []
  }
 ],
 "metadata": {
  "kernelspec": {
   "display_name": "Python 3 (ipykernel)",
   "language": "python",
   "name": "python3"
  },
  "language_info": {
   "codemirror_mode": {
    "name": "ipython",
    "version": 3
   },
   "file_extension": ".py",
   "mimetype": "text/x-python",
   "name": "python",
   "nbconvert_exporter": "python",
   "pygments_lexer": "ipython3",
   "version": "3.10.11"
  }
 },
 "nbformat": 4,
 "nbformat_minor": 5
}

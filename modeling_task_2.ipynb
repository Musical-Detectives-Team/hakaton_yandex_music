{
 "cells": [
  {
   "cell_type": "markdown",
   "id": "0c508ae8",
   "metadata": {},
   "source": [
    "# Modeling task 2"
   ]
  },
  {
   "cell_type": "markdown",
   "id": "82c0b17e",
   "metadata": {},
   "source": [
    "Данный ноутбук направлен на решение второй задачи: группировки каверов и исходного трека.\n",
    "\n",
    "Решать данную задачу планируем в 2 этапа: \n",
    "1. Находить k ближайших треков по веторизованному тексту песни.\n",
    "2. При помощи ML модели определять какие из предложенных треков можно сгруппировать."
   ]
  },
  {
   "cell_type": "markdown",
   "id": "572e9f8b",
   "metadata": {},
   "source": [
    "Как всегда импортируем библиотеки и прописываем пути к файлам"
   ]
  },
  {
   "cell_type": "code",
   "execution_count": 1,
   "id": "2c4e4f40",
   "metadata": {},
   "outputs": [],
   "source": [
    "import pandas as pd\n",
    "import numpy as np\n",
    "import matplotlib.pyplot as plt\n",
    "import scipy\n",
    "from statistics import mean\n",
    "\n",
    "from tqdm import tqdm\n",
    "import copy\n",
    "\n",
    "import nltk\n",
    "from nltk.corpus import stopwords as nltk_stopwords\n",
    "\n",
    "from sklearn.feature_extraction.text import TfidfVectorizer \n",
    "from sklearn.metrics import f1_score\n",
    "from sklearn.model_selection import cross_val_score, StratifiedKFold, GridSearchCV\n",
    "from sklearn.utils.class_weight import compute_class_weight\n",
    "from sklearn.dummy import DummyClassifier\n",
    "from catboost import CatBoostClassifier\n",
    "\n",
    "import faiss\n",
    "from faiss import write_index\n",
    "\n",
    "import pickle\n",
    "\n",
    "from typing import Dict, List, Tuple, Callable"
   ]
  },
  {
   "cell_type": "code",
   "execution_count": 2,
   "id": "cb745b0f",
   "metadata": {},
   "outputs": [],
   "source": [
    "PATH_TRAIN_FAISS = 'data/preprocessing/train_faiss.csv'\n",
    "PATH_TEST_FAISS = 'data/preprocessing/test_faiss.csv'\n",
    "PATH_VALID_FAISS = 'data/preprocessing/valid_faiss.csv'\n",
    "PATH_ALL_FAISS = 'data/preprocessing/all_faiss.csv'\n",
    "PATH_UNITED_DF = 'data/preprocessing/united_df.csv'\n",
    "\n",
    "PATH_TFIDFVECTORIZER = 'models/task_2_tfidf.pkl'\n",
    "\n",
    "PATH_TRAIN_CORPUS = 'data/preprocessing/train_corpus.npz'\n",
    "PATH_TEST_CORPUS = 'data/preprocessing/test_corpus.npz'\n",
    "PATH_VALID_CORPUS = 'data/preprocessing/valid_corpus.npz'\n",
    "\n",
    "PATH_TO_SAVE_COLUMNS_TO_DROP = 'data/preprocessing/drop_columns'\n",
    "PATH_TO_SAVE_ID_BASE_DICT= 'data/preprocessing/id_base_dict'\n",
    "PATH_TO_SAVE_FAISS = 'models/task_2_faiss.pkl'\n",
    "PATH_TO_SAVE_MODEL = 'models/task_2_model.pkl'\n",
    "PATH_SAVE_ALL_FAISS = 'data/preprocessing/all_faiss.csv'\n",
    "PATH_SAVE_PREDICTION = 'data/preprocessing/prdeiction.csv'\n",
    "\n",
    "RANDOM_STATE = 54321"
   ]
  },
  {
   "cell_type": "markdown",
   "id": "f1033134",
   "metadata": {},
   "source": [
    "Загрузим датасеты для обучения"
   ]
  },
  {
   "cell_type": "code",
   "execution_count": 3,
   "id": "ad6f3e67",
   "metadata": {},
   "outputs": [],
   "source": [
    "df_train = pd.read_csv(PATH_TRAIN_FAISS)\n",
    "df_test = pd.read_csv(PATH_TEST_FAISS)\n",
    "df_valid = pd.read_csv(PATH_VALID_FAISS)"
   ]
  },
  {
   "cell_type": "markdown",
   "id": "8aef298f",
   "metadata": {},
   "source": [
    "Для того чтобы открыть векторизованные корпуса, полученные на препроцессинге, создадим функцию, которая прочитает разряженные матрицы."
   ]
  },
  {
   "cell_type": "code",
   "execution_count": 4,
   "id": "0371fad9",
   "metadata": {},
   "outputs": [],
   "source": [
    "def load_sparse_csr(filename: str):\n",
    "    loader = np.load(filename)\n",
    "    return scipy.sparse.csr_matrix((loader['data'],\n",
    "                                    loader['indices'],\n",
    "                                    loader['indptr']),\n",
    "                                   shape=loader['shape'])"
   ]
  },
  {
   "cell_type": "markdown",
   "id": "4b7c1594",
   "metadata": {},
   "source": [
    "Загрузим векторизованные корпуса"
   ]
  },
  {
   "cell_type": "code",
   "execution_count": 5,
   "id": "4896bfbe",
   "metadata": {},
   "outputs": [],
   "source": [
    "corpus_train = load_sparse_csr(PATH_TRAIN_CORPUS)\n",
    "corpus_test = load_sparse_csr(PATH_TEST_CORPUS)\n",
    "corpus_valid = load_sparse_csr(PATH_VALID_CORPUS)"
   ]
  },
  {
   "cell_type": "markdown",
   "id": "1a38c8f9",
   "metadata": {},
   "source": [
    "## Модель для нахождения k претендентов на кавер."
   ]
  },
  {
   "cell_type": "markdown",
   "id": "aa2624e3",
   "metadata": {},
   "source": [
    "Для решения задачи группировки треков будем использовать faiss данная библиотека работает немного быстрее классического варианта K-ближайших, а также имеет возможность дальнейшей оптимизации."
   ]
  },
  {
   "cell_type": "markdown",
   "id": "d61a5066",
   "metadata": {},
   "source": [
    "Чтобы оценивать качество работы данной модели, а также подбирать гиперпарамтеры воспользуемся метрикой **𝑅𝑒𝑐𝑎𝑙𝑙@𝑘** (полнота на k элементах), поскольку для данного этапа нам необходимо сделать модель, которая будет отбирать максимально подходящие треки для данного трека.\n",
    "\n",
    "Её можно рассчитать по формуле:"
   ]
  },
  {
   "cell_type": "markdown",
   "id": "2782b729",
   "metadata": {},
   "source": [
    "$$ Recall@k =  {\\sum найденных \\space в \\space топk \\space матчей \\over \\sum матчей} $$"
   ]
  },
  {
   "cell_type": "markdown",
   "id": "9da3846a",
   "metadata": {},
   "source": [
    "Созадим функцию для её рассчёта:"
   ]
  },
  {
   "cell_type": "code",
   "execution_count": 6,
   "id": "1fc392db",
   "metadata": {},
   "outputs": [],
   "source": [
    "def score_recall_k(y_true: pd.Series, y_pred: pd.Series) -> float:\n",
    "    metrick_list = []\n",
    "    for i, y_p in enumerate(y_pred):\n",
    "        # проверим есть ли для данного трека вообще каверы, tсли есть, то посчитаем количество вхождений\n",
    "        if y_true[i] is not np.nan:\n",
    "            for y_t in y_true[i].split():\n",
    "                metrick_list.append(1 if y_t in y_p else 0)\n",
    "    return mean(metrick_list)    "
   ]
  },
  {
   "cell_type": "markdown",
   "id": "95ec20f4",
   "metadata": {},
   "source": [
    "Создадим словарь с track_id тренировочного датасета, поскольку фаис будет возвращать индекс строки, а проверять нам потребуется track_id"
   ]
  },
  {
   "cell_type": "code",
   "execution_count": 7,
   "id": "36f688bd",
   "metadata": {},
   "outputs": [],
   "source": [
    "id_base_dict = dict(df_train['track_id'])"
   ]
  },
  {
   "cell_type": "markdown",
   "id": "f6c92b49",
   "metadata": {},
   "source": [
    "Получим цели обучения (списки с track_id каверов)"
   ]
  },
  {
   "cell_type": "code",
   "execution_count": 8,
   "id": "e546d9f2",
   "metadata": {},
   "outputs": [],
   "source": [
    "y_train = df_train['cover_list']\n",
    "y_test = df_test['cover_list']\n",
    "y_valid = df_valid['cover_list']"
   ]
  },
  {
   "cell_type": "markdown",
   "id": "cb2f570f",
   "metadata": {},
   "source": [
    "Напишем функцию для тренировки faiss"
   ]
  },
  {
   "cell_type": "code",
   "execution_count": 9,
   "id": "a4a1ca04",
   "metadata": {},
   "outputs": [],
   "source": [
    "def faiss_fit(corpus_train: scipy.sparse, \n",
    "              n_list: int = 1, \n",
    "              random_state: int = 54321) -> faiss.IndexIVFFlat:\n",
    "    x_train = copy.deepcopy(corpus_train)\n",
    "    d = x_train.shape[1] \n",
    "    nb = x_train.shape[0] \n",
    "    np.random.seed(random_state) \n",
    "\n",
    "    xb = x_train.toarray()\n",
    "\n",
    "    nlist = n_list\n",
    "    quantizer = faiss.IndexFlatIP(d)  \n",
    "    index = faiss.IndexIVFFlat(quantizer, d, nlist)\n",
    "    assert not index.is_trained\n",
    "    index.train(xb)\n",
    "    assert index.is_trained\n",
    "    index.add(xb)\n",
    "    \n",
    "    return index"
   ]
  },
  {
   "cell_type": "markdown",
   "id": "a2cae1a9",
   "metadata": {},
   "source": [
    "Создадим функцию для предсказаний"
   ]
  },
  {
   "cell_type": "code",
   "execution_count": 10,
   "id": "e7a7c898",
   "metadata": {},
   "outputs": [],
   "source": [
    "def faiss_predict(index: faiss.IndexIVFFlat, \n",
    "                  corpus_test: scipy.sparse, \n",
    "                  id_base_dict: Dict, \n",
    "                  k: int = 10) -> pd.Series:\n",
    "    x_test = copy.deepcopy(corpus_test)\n",
    "    xq_x_test = x_test.toarray()\n",
    "    \n",
    "    D, I = index.search(xq_x_test, k)\n",
    "    predicted_list = []\n",
    "    distance_list = []\n",
    "    \n",
    "    # перебираем все ответы и проверяем, чтобы они не были равны 1 и не равнялись\n",
    "    for i, candidates in enumerate(I):\n",
    "        cand_list = []\n",
    "        dist_list = []\n",
    "        for j, candidate in enumerate(candidates):\n",
    "            if candidate != -1 and id_base_dict[candidate] != id_base_dict[i]:\n",
    "                cand_list.append(id_base_dict[candidate])\n",
    "                dist_list.append(D[i][j])\n",
    "                \n",
    "        predicted_list.append(cand_list)\n",
    "        distance_list.append(dist_list)      \n",
    "\n",
    "    return pd.Series(predicted_list), pd.Series(distance_list)"
   ]
  },
  {
   "cell_type": "markdown",
   "id": "62a91a52",
   "metadata": {},
   "source": [
    "Обучим индекс."
   ]
  },
  {
   "cell_type": "code",
   "execution_count": 11,
   "id": "fbea8118",
   "metadata": {},
   "outputs": [],
   "source": [
    "f_index = faiss_fit(corpus_train, random_state=RANDOM_STATE)"
   ]
  },
  {
   "cell_type": "markdown",
   "id": "ae77a56d",
   "metadata": {},
   "source": [
    "Проверим качество модели на трейне"
   ]
  },
  {
   "cell_type": "code",
   "execution_count": 12,
   "id": "b39fec21",
   "metadata": {},
   "outputs": [
    {
     "data": {
      "text/plain": [
       "0.5991379310344828"
      ]
     },
     "execution_count": 12,
     "metadata": {},
     "output_type": "execute_result"
    }
   ],
   "source": [
    "y_train_pred, dist_train_pred= faiss_predict(f_index, corpus_train, id_base_dict, 10)\n",
    "score_recall_k(y_train, y_train_pred)"
   ]
  },
  {
   "cell_type": "markdown",
   "id": "dbda502b",
   "metadata": {},
   "source": [
    "Попробуем улучшить качество модели. Для начала поработаем с TfIdf будем экспериментировать н-граммами и максимальным количеством признаков."
   ]
  },
  {
   "cell_type": "markdown",
   "id": "e024ce3e",
   "metadata": {},
   "source": [
    "### Подбор параметров TfidfVectorizer"
   ]
  },
  {
   "cell_type": "code",
   "execution_count": 13,
   "id": "486af09f",
   "metadata": {},
   "outputs": [
    {
     "name": "stderr",
     "output_type": "stream",
     "text": [
      "[nltk_data] Downloading package stopwords to\n",
      "[nltk_data]     C:\\Users\\yaros\\AppData\\Roaming\\nltk_data...\n",
      "[nltk_data]   Package stopwords is already up-to-date!\n"
     ]
    }
   ],
   "source": [
    "nltk.download('stopwords')\n",
    "stopwords = nltk_stopwords.words('english')"
   ]
  },
  {
   "cell_type": "markdown",
   "id": "97caf0c1",
   "metadata": {},
   "source": [
    "Создадим функцию, которая на вход будет принимать датасет, стоп слова, и параметры для TfIdf, а возвращать датасет с информацией об изменение метрики в зависимости от этих параметров"
   ]
  },
  {
   "cell_type": "code",
   "execution_count": 14,
   "id": "79ac7ed6",
   "metadata": {},
   "outputs": [],
   "source": [
    "def feature_selection_tf_idf(df: pd.DataFrame, \n",
    "                             id_base_dict,\n",
    "                             y_train: pd.Series,\n",
    "                             stopwords: nltk_stopwords.words,\n",
    "                             min_ngram: int = 1,\n",
    "                             max_ngram: int = 6,\n",
    "                             min_features: int = 100,\n",
    "                             max_features: int = 20500,\n",
    "                             count_steps_features: int = 20,\n",
    "                             random_state: int = 54321) -> pd.DataFrame:\n",
    "    score_df = pd.DataFrame(columns = ['n_gram', 'max_features', 'metric'])\n",
    "    new_df = df.copy(deep=True)\n",
    "    new_df['lemm_text'] = new_df['lemm_text'].fillna('')\n",
    "    # определяем размер шага для признаков\n",
    "    step_features = (max_features - min_features) // 20\n",
    "    step_features = step_features if (max_features - min_features) % 20 == 0 else step_features + 1\n",
    "    \n",
    "    for n_gram in tqdm(range(min_ngram, max_ngram)):\n",
    "        for count_features in range (min_features, max_features, step_features):\n",
    "            tf_idf = TfidfVectorizer(stop_words=stopwords, ngram_range=(1, n_gram), max_features = count_features)\n",
    "            corpus_train = tf_idf.fit_transform(new_df['lemm_text'])\n",
    "            \n",
    "            f_index = faiss_fit(corpus_train, random_state = random_state)\n",
    "            y_train_pred, dist_train_pred= faiss_predict(f_index, corpus_train, id_base_dict, 10)\n",
    "            metric = score_recall_k(y_train, y_train_pred)\n",
    "            \n",
    "            score_df.loc[len(score_df.index )] = [n_gram, count_features, metric]\n",
    "            \n",
    "    return score_df"
   ]
  },
  {
   "cell_type": "code",
   "execution_count": 15,
   "id": "4481cc34",
   "metadata": {},
   "outputs": [
    {
     "name": "stderr",
     "output_type": "stream",
     "text": [
      "100%|████████████████████████████████████████████████████████████████████████████████████| 5/5 [05:53<00:00, 70.68s/it]\n"
     ]
    }
   ],
   "source": [
    "df_score = feature_selection_tf_idf(df_train, id_base_dict, y_train, stopwords)"
   ]
  },
  {
   "cell_type": "markdown",
   "id": "a24ff565",
   "metadata": {},
   "source": [
    "Посмотрим на получившийся датасет"
   ]
  },
  {
   "cell_type": "code",
   "execution_count": 16,
   "id": "d77ba527",
   "metadata": {},
   "outputs": [
    {
     "data": {
      "text/html": [
       "<div>\n",
       "<style scoped>\n",
       "    .dataframe tbody tr th:only-of-type {\n",
       "        vertical-align: middle;\n",
       "    }\n",
       "\n",
       "    .dataframe tbody tr th {\n",
       "        vertical-align: top;\n",
       "    }\n",
       "\n",
       "    .dataframe thead th {\n",
       "        text-align: right;\n",
       "    }\n",
       "</style>\n",
       "<table border=\"1\" class=\"dataframe\">\n",
       "  <thead>\n",
       "    <tr style=\"text-align: right;\">\n",
       "      <th></th>\n",
       "      <th>n_gram</th>\n",
       "      <th>max_features</th>\n",
       "      <th>metric</th>\n",
       "    </tr>\n",
       "  </thead>\n",
       "  <tbody>\n",
       "    <tr>\n",
       "      <th>0</th>\n",
       "      <td>1.0</td>\n",
       "      <td>100.0</td>\n",
       "      <td>0.541872</td>\n",
       "    </tr>\n",
       "    <tr>\n",
       "      <th>1</th>\n",
       "      <td>1.0</td>\n",
       "      <td>1120.0</td>\n",
       "      <td>0.586207</td>\n",
       "    </tr>\n",
       "    <tr>\n",
       "      <th>2</th>\n",
       "      <td>1.0</td>\n",
       "      <td>2140.0</td>\n",
       "      <td>0.597906</td>\n",
       "    </tr>\n",
       "    <tr>\n",
       "      <th>3</th>\n",
       "      <td>1.0</td>\n",
       "      <td>3160.0</td>\n",
       "      <td>0.599138</td>\n",
       "    </tr>\n",
       "    <tr>\n",
       "      <th>4</th>\n",
       "      <td>1.0</td>\n",
       "      <td>4180.0</td>\n",
       "      <td>0.599138</td>\n",
       "    </tr>\n",
       "  </tbody>\n",
       "</table>\n",
       "</div>"
      ],
      "text/plain": [
       "   n_gram  max_features    metric\n",
       "0     1.0         100.0  0.541872\n",
       "1     1.0        1120.0  0.586207\n",
       "2     1.0        2140.0  0.597906\n",
       "3     1.0        3160.0  0.599138\n",
       "4     1.0        4180.0  0.599138"
      ]
     },
     "execution_count": 16,
     "metadata": {},
     "output_type": "execute_result"
    }
   ],
   "source": [
    "df_score.head()"
   ]
  },
  {
   "cell_type": "markdown",
   "id": "69495164",
   "metadata": {},
   "source": [
    "Создадим функцию, которая будет строить график по этому датасету"
   ]
  },
  {
   "cell_type": "code",
   "execution_count": 17,
   "id": "4aa8cf25",
   "metadata": {},
   "outputs": [],
   "source": [
    "def draw_plot(df: pd.DataFrame):\n",
    "    plt.figure(figsize = (10, 6))\n",
    "    plt.title('Зависимость качества модели faiss от параметра max_features и количества n-gram векторизатора TfidfVectorizer')\n",
    "    for n_gram in df['n_gram'].unique():\n",
    "        df_for_plot = df[df['n_gram'] == n_gram]\n",
    "        plt.plot(df_for_plot['max_features'], df_for_plot['metric'], label = f'n_gram {n_gram}')\n",
    "    plt.xlabel('max_features')\n",
    "    plt.ylabel('Recall@10')\n",
    "    plt.legend()\n",
    "    plt.grid()\n",
    "    plt.show()"
   ]
  },
  {
   "cell_type": "code",
   "execution_count": 18,
   "id": "d30a8536",
   "metadata": {},
   "outputs": [
    {
     "data": {
      "image/png": "[encoded data removed]",
      "text/plain": [
       "<Figure size 1000x600 with 1 Axes>"
      ]
     },
     "metadata": {},
     "output_type": "display_data"
    }
   ],
   "source": [
    "draw_plot(df_score)"
   ]
  },
  {
   "cell_type": "markdown",
   "id": "fac212ee",
   "metadata": {},
   "source": [
    "Лучшие метрики получаются в районе max_features = 11000 - 12000 рассмотрим диапазон от 10000 до 14000 более подробно"
   ]
  },
  {
   "cell_type": "code",
   "execution_count": 19,
   "id": "11301cf8",
   "metadata": {},
   "outputs": [
    {
     "name": "stderr",
     "output_type": "stream",
     "text": [
      "100%|████████████████████████████████████████████████████████████████████████████████████| 5/5 [06:54<00:00, 82.89s/it]\n"
     ]
    }
   ],
   "source": [
    "df_score = feature_selection_tf_idf(df_train, \n",
    "                                    id_base_dict,\n",
    "                                    y_train, \n",
    "                                    stopwords, \n",
    "                                    min_features = 10000, \n",
    "                                    max_features = 14000,\n",
    "                                    count_steps_features=1000)"
   ]
  },
  {
   "cell_type": "code",
   "execution_count": 20,
   "id": "41b8d252",
   "metadata": {},
   "outputs": [
    {
     "data": {
      "image/png": "[encoded data removed]",
      "text/plain": [
       "<Figure size 1000x600 with 1 Axes>"
      ]
     },
     "metadata": {},
     "output_type": "display_data"
    }
   ],
   "source": [
    "draw_plot(df_score)"
   ]
  },
  {
   "cell_type": "markdown",
   "id": "47287485",
   "metadata": {},
   "source": [
    "На данном участке лидирует n_gram = (1,3), при этом качество стабильно на всём участке, так что будем использовать max_features = 10000 (это немного снизит размерность векторизованного текста)"
   ]
  },
  {
   "cell_type": "markdown",
   "id": "ebd66b37",
   "metadata": {},
   "source": [
    "Переучим TfIdf и сформируем новые корпуса для дальнейшего исследования."
   ]
  },
  {
   "cell_type": "code",
   "execution_count": 21,
   "id": "dd667533",
   "metadata": {},
   "outputs": [],
   "source": [
    "tf_idf = TfidfVectorizer(stop_words=stopwords, ngram_range=(1, 3), max_features = 10000)\n",
    "corpus_train = tf_idf.fit_transform(df_train['lemm_text'].fillna(''))\n",
    "corpus_test = tf_idf.transform(df_test['lemm_text'].fillna(''))\n",
    "corpus_valid = tf_idf.transform(df_valid['lemm_text'].fillna(''))"
   ]
  },
  {
   "cell_type": "markdown",
   "id": "4a119e70",
   "metadata": {},
   "source": [
    "Пересохраним обученный TfIdf"
   ]
  },
  {
   "cell_type": "code",
   "execution_count": 22,
   "id": "92713fb7",
   "metadata": {},
   "outputs": [],
   "source": [
    "pickle.dump(tf_idf, open(PATH_TFIDFVECTORIZER, \"wb\"))"
   ]
  },
  {
   "cell_type": "markdown",
   "id": "3c00d26c",
   "metadata": {},
   "source": [
    "### Подбор гиперпараметров для faiss"
   ]
  },
  {
   "cell_type": "markdown",
   "id": "c6b718be",
   "metadata": {},
   "source": [
    "У самого faiss есть достаточно много гиперпарамеров, но в основном они направлены на оптимизацию скорости выполнения запроса, поэтому мы будем рассматривать изменение только одного параметра, а именно возвращаемое количество соседей (k). Ожидается, что при увеличении k постепенно будет увеличиваться Recall@k, но при этом точность модели будет падать, что усложнит дальнейшее обучение модели следующего этапа. Поэтому создадим функцию, которая будет рассчитывать точность на k образцах, а f1 меру посчитаем на основании полученных данных."
   ]
  },
  {
   "cell_type": "code",
   "execution_count": 23,
   "id": "4129a606",
   "metadata": {},
   "outputs": [],
   "source": [
    "def score_precision_k(y_true: pd.Series, y_pred: pd.Series) -> float:\n",
    "    metrick_list = []\n",
    "    for i, y_t in enumerate(y_true):\n",
    "        for y_p in y_pred[i]:       \n",
    "            if y_t is np.nan:\n",
    "                metrick_list.append(0)\n",
    "            else:\n",
    "                metrick_list.append(1 if y_p in y_t else 0)\n",
    "    return mean(metrick_list)  "
   ]
  },
  {
   "cell_type": "markdown",
   "id": "ebc75333",
   "metadata": {},
   "source": [
    "Напишем функцию, которая также будет возвращать датасет с метриками."
   ]
  },
  {
   "cell_type": "code",
   "execution_count": 24,
   "id": "27373322",
   "metadata": {},
   "outputs": [],
   "source": [
    "def feature_selection_tf_idf(corpus_train: scipy.sparse,\n",
    "                             id_base_dict: Dict,\n",
    "                             y_train: pd.Series,\n",
    "                             min_k: int = 2,\n",
    "                             max_k: int = 10,\n",
    "                             random_state: int = 54321):\n",
    "    score_df = pd.DataFrame(columns = ['k', 'recall', 'precision', 'f1'])\n",
    "    \n",
    "    for k in range(min_k, max_k):\n",
    "        f_index = faiss_fit(corpus_train, random_state = random_state)\n",
    "        y_train_pred, dist_train_pred= faiss_predict(f_index, corpus_train, id_base_dict, k=k)   \n",
    "        rec = score_recall_k(y_train, y_train_pred)\n",
    "        prec = score_precision_k(y_train, y_train_pred)\n",
    "        f1 = 2 * rec * prec / (rec + prec)\n",
    "\n",
    "        score_df.loc[len(score_df.index )] = [k, rec, prec, f1]\n",
    "                \n",
    "    return score_df"
   ]
  },
  {
   "cell_type": "code",
   "execution_count": 25,
   "id": "deee3020",
   "metadata": {},
   "outputs": [],
   "source": [
    "df_score = feature_selection_tf_idf(corpus_train,\n",
    "                                    id_base_dict,\n",
    "                                    y_train,\n",
    "                                    max_k=40)"
   ]
  },
  {
   "cell_type": "markdown",
   "id": "331cb052",
   "metadata": {},
   "source": [
    "Построим график изменения качества модели"
   ]
  },
  {
   "cell_type": "code",
   "execution_count": 26,
   "id": "a906251b",
   "metadata": {},
   "outputs": [
    {
     "data": {
      "text/plain": [
       "<Figure size 1000x900 with 0 Axes>"
      ]
     },
     "metadata": {},
     "output_type": "display_data"
    },
    {
     "data": {
      "image/png": "[encoded data removed]",
      "text/plain": [
       "<Figure size 640x480 with 3 Axes>"
      ]
     },
     "metadata": {},
     "output_type": "display_data"
    }
   ],
   "source": [
    "plt.figure(figsize = (10, 9))\n",
    "fig, axs = plt.subplots(3)\n",
    "fig.suptitle('Зависимость качества модели faiss от количества возвращаемых объектов (k)')\n",
    "axs[0].plot(df_score['k'], df_score['recall'], label='recall', c='b')\n",
    "axs[1].plot(df_score['k'], df_score['precision'], label='precision', c='y')\n",
    "axs[2].plot(df_score['k'], df_score['f1'], label='f1', c='g')\n",
    "plt.xlabel('количество возвращаемых объектов (k)')\n",
    "fig.supylabel('metrics')\n",
    "axs[0].grid()\n",
    "axs[1].grid()\n",
    "axs[2].grid()\n",
    "axs[0].legend()\n",
    "axs[1].legend()\n",
    "axs[2].legend()\n",
    "plt.show()"
   ]
  },
  {
   "cell_type": "markdown",
   "id": "ddf1c898",
   "metadata": {},
   "source": [
    "Как и ожидалось, при увеличении количества образцов полнота увеличилась, а точность начала падать. Однако, если анализировать данные f1, то оптимальное значение лежит в районе 8 образцов (будем брать 8). Именно его и будем использовать."
   ]
  },
  {
   "cell_type": "markdown",
   "id": "dc49d239",
   "metadata": {},
   "source": [
    "### Обучение индекса с выбранными параметрами на новом корпусе, проверка качества на тестовой выборке, изучение полученных результатов"
   ]
  },
  {
   "cell_type": "markdown",
   "id": "ed1928ca",
   "metadata": {},
   "source": [
    "Заново обучим индекс и посмотрим на показания recall "
   ]
  },
  {
   "cell_type": "code",
   "execution_count": 27,
   "id": "e2b6145e",
   "metadata": {},
   "outputs": [
    {
     "data": {
      "text/plain": [
       "0.4938423645320197"
      ]
     },
     "execution_count": 27,
     "metadata": {},
     "output_type": "execute_result"
    }
   ],
   "source": [
    "f_index = faiss_fit(corpus_train, random_state=RANDOM_STATE)\n",
    "y_train_pred, dist_train_pred= faiss_predict(f_index, corpus_train, id_base_dict, 8)\n",
    "score_recall_k(y_train, y_train_pred)"
   ]
  },
  {
   "cell_type": "markdown",
   "id": "2306f650",
   "metadata": {},
   "source": [
    "Проверим качество на тестовой выборке"
   ]
  },
  {
   "cell_type": "code",
   "execution_count": 28,
   "id": "b0a91f49",
   "metadata": {},
   "outputs": [
    {
     "data": {
      "text/plain": [
       "0.5473684210526316"
      ]
     },
     "execution_count": 28,
     "metadata": {},
     "output_type": "execute_result"
    }
   ],
   "source": [
    "y_test_pred, dist_test_pred = faiss_predict(f_index, corpus_test, id_base_dict, 8)\n",
    "score_recall_k(y_test, y_test_pred)"
   ]
  },
  {
   "cell_type": "markdown",
   "id": "0c350ef4",
   "metadata": {},
   "source": [
    "На тестовой выборке получили примерно сопоставимое качество модели. "
   ]
  },
  {
   "cell_type": "markdown",
   "id": "0fbe6667",
   "metadata": {},
   "source": [
    "Посмотрим как выглядят первы 5 строк нашего прогноза и какие значения расстояния выдаёт модель (изучать будет тренировочные данные)."
   ]
  },
  {
   "cell_type": "code",
   "execution_count": 29,
   "id": "d500b2d3",
   "metadata": {
    "scrolled": true
   },
   "outputs": [
    {
     "data": {
      "text/plain": [
       "0    [b6840c6d29fadc71fa2d129dadbd066a, 70d0cf7542f...\n",
       "1    [b6840c6d29fadc71fa2d129dadbd066a, c755842b935...\n",
       "2    [b6840c6d29fadc71fa2d129dadbd066a, e64648eeae5...\n",
       "3    [e3799880eaec350f4d3923aa93b39994, b6840c6d29f...\n",
       "4    [b6840c6d29fadc71fa2d129dadbd066a, 7834aad0164...\n",
       "dtype: object"
      ]
     },
     "execution_count": 29,
     "metadata": {},
     "output_type": "execute_result"
    }
   ],
   "source": [
    "y_train_pred[:5]"
   ]
  },
  {
   "cell_type": "code",
   "execution_count": 30,
   "id": "813860ed",
   "metadata": {},
   "outputs": [
    {
     "data": {
      "text/plain": [
       "0    [1.0, 1.5675077, 1.5926483, 1.5980024, 1.65137...\n",
       "1    [1.0, 1.4988911, 1.5896583, 1.6198676, 1.67571...\n",
       "2    [1.0, 1.5553735, 1.5605822, 1.6760662, 1.72098...\n",
       "3    [0.5552938, 1.0, 1.5610824, 1.6554074, 1.66422...\n",
       "4    [0.99999994, 1.4240391, 1.6216571, 1.6760949, ...\n",
       "dtype: object"
      ]
     },
     "execution_count": 30,
     "metadata": {},
     "output_type": "execute_result"
    }
   ],
   "source": [
    "dist_train_pred[:5]"
   ]
  },
  {
   "cell_type": "markdown",
   "id": "c73719be",
   "metadata": {},
   "source": [
    "Проверим есть ли данные с разным растоянием равным 0 и разным original_track_id. И посчитаем такие пары."
   ]
  },
  {
   "cell_type": "code",
   "execution_count": 31,
   "id": "c331f380",
   "metadata": {},
   "outputs": [
    {
     "name": "stdout",
     "output_type": "stream",
     "text": [
      "Количество пар треков с 0 расстоянием и разным original_track_id 32 (1.5080113100848256%)\n"
     ]
    }
   ],
   "source": [
    "count = 0\n",
    "list_bad_track = []\n",
    "for i in range(dist_train_pred.shape[0]):\n",
    "    for j in range(len(dist_train_pred[i])):\n",
    "        if dist_train_pred[i][j]==0:\n",
    "            original_track_id_1 = df_train.loc[i, 'original_track_id']\n",
    "            original_track_id_2 = (df_train\n",
    "                                   .loc[df_train['track_id']==y_train_pred[i][j], 'original_track_id']\n",
    "                                   .reset_index(drop=True)[0])\n",
    "            if original_track_id_1 != original_track_id_2:\n",
    "                count += 1\n",
    "                list_bad_track.append((df_train.loc[i, 'track_id'],\n",
    "                                       (df_train\n",
    "                                       .loc[df_train['track_id']==y_train_pred[i][j], 'track_id']\n",
    "                                       .reset_index(drop=True)[0])))\n",
    "print(f'Количество пар треков с 0 расстоянием и разным original_track_id {count} ({count / y_train_pred.shape[0] * 100}%)')"
   ]
  },
  {
   "cell_type": "markdown",
   "id": "1be455c6",
   "metadata": {},
   "source": [
    "У нас 32 таких пар. Посмотрим на некоторые из них."
   ]
  },
  {
   "cell_type": "code",
   "execution_count": 32,
   "id": "6535c38c",
   "metadata": {},
   "outputs": [
    {
     "data": {
      "text/html": [
       "<div>\n",
       "<style scoped>\n",
       "    .dataframe tbody tr th:only-of-type {\n",
       "        vertical-align: middle;\n",
       "    }\n",
       "\n",
       "    .dataframe tbody tr th {\n",
       "        vertical-align: top;\n",
       "    }\n",
       "\n",
       "    .dataframe thead th {\n",
       "        text-align: right;\n",
       "    }\n",
       "</style>\n",
       "<table border=\"1\" class=\"dataframe\">\n",
       "  <thead>\n",
       "    <tr style=\"text-align: right;\">\n",
       "      <th></th>\n",
       "      <th>track_id</th>\n",
       "      <th>language</th>\n",
       "      <th>duration</th>\n",
       "      <th>original_track_id</th>\n",
       "      <th>track_remake_type</th>\n",
       "      <th>missing_text</th>\n",
       "      <th>missing_title</th>\n",
       "      <th>lemm_text</th>\n",
       "      <th>lemm_title</th>\n",
       "      <th>missing_isrc</th>\n",
       "      <th>...</th>\n",
       "      <th>genre_RUSPOP</th>\n",
       "      <th>genre_JAZZ</th>\n",
       "      <th>uncnown_genre</th>\n",
       "      <th>genre_other</th>\n",
       "      <th>genre_group_ROCK</th>\n",
       "      <th>genre_group_RAP</th>\n",
       "      <th>genre_group_POP</th>\n",
       "      <th>genre_group_FOLK</th>\n",
       "      <th>genre_group_RUS</th>\n",
       "      <th>cover_list</th>\n",
       "    </tr>\n",
       "  </thead>\n",
       "  <tbody>\n",
       "    <tr>\n",
       "      <th>74</th>\n",
       "      <td>995665640dc319973d3173a74a03860c</td>\n",
       "      <td>EN</td>\n",
       "      <td>179660.0</td>\n",
       "      <td>995665640dc319973d3173a74a03860c</td>\n",
       "      <td>ORIGINAL</td>\n",
       "      <td>0</td>\n",
       "      <td>0</td>\n",
       "      <td>yeah yeah remember the time baby yeah i ain t ...</td>\n",
       "      <td>the way i are</td>\n",
       "      <td>0</td>\n",
       "      <td>...</td>\n",
       "      <td>0</td>\n",
       "      <td>0</td>\n",
       "      <td>0</td>\n",
       "      <td>1</td>\n",
       "      <td>0</td>\n",
       "      <td>1</td>\n",
       "      <td>0</td>\n",
       "      <td>0</td>\n",
       "      <td>0</td>\n",
       "      <td>NaN</td>\n",
       "    </tr>\n",
       "  </tbody>\n",
       "</table>\n",
       "<p>1 rows × 37 columns</p>\n",
       "</div>"
      ],
      "text/plain": [
       "                            track_id language  duration  \\\n",
       "74  995665640dc319973d3173a74a03860c       EN  179660.0   \n",
       "\n",
       "                   original_track_id track_remake_type  missing_text  \\\n",
       "74  995665640dc319973d3173a74a03860c          ORIGINAL             0   \n",
       "\n",
       "    missing_title                                          lemm_text  \\\n",
       "74              0  yeah yeah remember the time baby yeah i ain t ...   \n",
       "\n",
       "       lemm_title  missing_isrc  ... genre_RUSPOP  genre_JAZZ uncnown_genre  \\\n",
       "74  the way i are             0  ...            0           0             0   \n",
       "\n",
       "   genre_other  genre_group_ROCK  genre_group_RAP  genre_group_POP  \\\n",
       "74           1                 0                1                0   \n",
       "\n",
       "    genre_group_FOLK  genre_group_RUS  cover_list  \n",
       "74                 0                0         NaN  \n",
       "\n",
       "[1 rows x 37 columns]"
      ]
     },
     "execution_count": 32,
     "metadata": {},
     "output_type": "execute_result"
    }
   ],
   "source": [
    "df_train[df_train['track_id']==list_bad_track[0][0]]"
   ]
  },
  {
   "cell_type": "code",
   "execution_count": 33,
   "id": "8e6d5a83",
   "metadata": {},
   "outputs": [
    {
     "data": {
      "text/html": [
       "<div>\n",
       "<style scoped>\n",
       "    .dataframe tbody tr th:only-of-type {\n",
       "        vertical-align: middle;\n",
       "    }\n",
       "\n",
       "    .dataframe tbody tr th {\n",
       "        vertical-align: top;\n",
       "    }\n",
       "\n",
       "    .dataframe thead th {\n",
       "        text-align: right;\n",
       "    }\n",
       "</style>\n",
       "<table border=\"1\" class=\"dataframe\">\n",
       "  <thead>\n",
       "    <tr style=\"text-align: right;\">\n",
       "      <th></th>\n",
       "      <th>track_id</th>\n",
       "      <th>language</th>\n",
       "      <th>duration</th>\n",
       "      <th>original_track_id</th>\n",
       "      <th>track_remake_type</th>\n",
       "      <th>missing_text</th>\n",
       "      <th>missing_title</th>\n",
       "      <th>lemm_text</th>\n",
       "      <th>lemm_title</th>\n",
       "      <th>missing_isrc</th>\n",
       "      <th>...</th>\n",
       "      <th>genre_RUSPOP</th>\n",
       "      <th>genre_JAZZ</th>\n",
       "      <th>uncnown_genre</th>\n",
       "      <th>genre_other</th>\n",
       "      <th>genre_group_ROCK</th>\n",
       "      <th>genre_group_RAP</th>\n",
       "      <th>genre_group_POP</th>\n",
       "      <th>genre_group_FOLK</th>\n",
       "      <th>genre_group_RUS</th>\n",
       "      <th>cover_list</th>\n",
       "    </tr>\n",
       "  </thead>\n",
       "  <tbody>\n",
       "    <tr>\n",
       "      <th>995</th>\n",
       "      <td>f5b1b6321334fd64cd81d04b024e52a0</td>\n",
       "      <td>EN</td>\n",
       "      <td>199560.0</td>\n",
       "      <td>f5b1b6321334fd64cd81d04b024e52a0</td>\n",
       "      <td>ORIGINAL</td>\n",
       "      <td>0</td>\n",
       "      <td>0</td>\n",
       "      <td>yeah yeah remember the time baby yeah i ain t ...</td>\n",
       "      <td>the way i are</td>\n",
       "      <td>0</td>\n",
       "      <td>...</td>\n",
       "      <td>0</td>\n",
       "      <td>0</td>\n",
       "      <td>0</td>\n",
       "      <td>0</td>\n",
       "      <td>0</td>\n",
       "      <td>1</td>\n",
       "      <td>1</td>\n",
       "      <td>0</td>\n",
       "      <td>0</td>\n",
       "      <td>NaN</td>\n",
       "    </tr>\n",
       "  </tbody>\n",
       "</table>\n",
       "<p>1 rows × 37 columns</p>\n",
       "</div>"
      ],
      "text/plain": [
       "                             track_id language  duration  \\\n",
       "995  f5b1b6321334fd64cd81d04b024e52a0       EN  199560.0   \n",
       "\n",
       "                    original_track_id track_remake_type  missing_text  \\\n",
       "995  f5b1b6321334fd64cd81d04b024e52a0          ORIGINAL             0   \n",
       "\n",
       "     missing_title                                          lemm_text  \\\n",
       "995              0  yeah yeah remember the time baby yeah i ain t ...   \n",
       "\n",
       "        lemm_title  missing_isrc  ... genre_RUSPOP  genre_JAZZ uncnown_genre  \\\n",
       "995  the way i are             0  ...            0           0             0   \n",
       "\n",
       "    genre_other  genre_group_ROCK  genre_group_RAP  genre_group_POP  \\\n",
       "995           0                 0                1                1   \n",
       "\n",
       "     genre_group_FOLK  genre_group_RUS  cover_list  \n",
       "995                 0                0         NaN  \n",
       "\n",
       "[1 rows x 37 columns]"
      ]
     },
     "execution_count": 33,
     "metadata": {},
     "output_type": "execute_result"
    }
   ],
   "source": [
    "df_train[df_train['track_id']==list_bad_track[0][1]]"
   ]
  },
  {
   "cell_type": "markdown",
   "id": "d566a419",
   "metadata": {},
   "source": [
    "Посмотрим на вторую пару."
   ]
  },
  {
   "cell_type": "code",
   "execution_count": 34,
   "id": "0f6cc318",
   "metadata": {},
   "outputs": [
    {
     "data": {
      "text/html": [
       "<div>\n",
       "<style scoped>\n",
       "    .dataframe tbody tr th:only-of-type {\n",
       "        vertical-align: middle;\n",
       "    }\n",
       "\n",
       "    .dataframe tbody tr th {\n",
       "        vertical-align: top;\n",
       "    }\n",
       "\n",
       "    .dataframe thead th {\n",
       "        text-align: right;\n",
       "    }\n",
       "</style>\n",
       "<table border=\"1\" class=\"dataframe\">\n",
       "  <thead>\n",
       "    <tr style=\"text-align: right;\">\n",
       "      <th></th>\n",
       "      <th>track_id</th>\n",
       "      <th>language</th>\n",
       "      <th>duration</th>\n",
       "      <th>original_track_id</th>\n",
       "      <th>track_remake_type</th>\n",
       "      <th>missing_text</th>\n",
       "      <th>missing_title</th>\n",
       "      <th>lemm_text</th>\n",
       "      <th>lemm_title</th>\n",
       "      <th>missing_isrc</th>\n",
       "      <th>...</th>\n",
       "      <th>genre_RUSPOP</th>\n",
       "      <th>genre_JAZZ</th>\n",
       "      <th>uncnown_genre</th>\n",
       "      <th>genre_other</th>\n",
       "      <th>genre_group_ROCK</th>\n",
       "      <th>genre_group_RAP</th>\n",
       "      <th>genre_group_POP</th>\n",
       "      <th>genre_group_FOLK</th>\n",
       "      <th>genre_group_RUS</th>\n",
       "      <th>cover_list</th>\n",
       "    </tr>\n",
       "  </thead>\n",
       "  <tbody>\n",
       "    <tr>\n",
       "      <th>77</th>\n",
       "      <td>b9213d37c37deffe8b8af0dac5d0c3c4</td>\n",
       "      <td>EN</td>\n",
       "      <td>178600.0</td>\n",
       "      <td>b9213d37c37deffe8b8af0dac5d0c3c4</td>\n",
       "      <td>ORIGINAL</td>\n",
       "      <td>0</td>\n",
       "      <td>0</td>\n",
       "      <td>heart go astray leaving hurt when they go i we...</td>\n",
       "      <td>everlasting love</td>\n",
       "      <td>0</td>\n",
       "      <td>...</td>\n",
       "      <td>0</td>\n",
       "      <td>0</td>\n",
       "      <td>0</td>\n",
       "      <td>1</td>\n",
       "      <td>0</td>\n",
       "      <td>0</td>\n",
       "      <td>0</td>\n",
       "      <td>0</td>\n",
       "      <td>0</td>\n",
       "      <td>a106cea5c02ed8a70b421831cc4e7192 0021519c8533f...</td>\n",
       "    </tr>\n",
       "  </tbody>\n",
       "</table>\n",
       "<p>1 rows × 37 columns</p>\n",
       "</div>"
      ],
      "text/plain": [
       "                            track_id language  duration  \\\n",
       "77  b9213d37c37deffe8b8af0dac5d0c3c4       EN  178600.0   \n",
       "\n",
       "                   original_track_id track_remake_type  missing_text  \\\n",
       "77  b9213d37c37deffe8b8af0dac5d0c3c4          ORIGINAL             0   \n",
       "\n",
       "    missing_title                                          lemm_text  \\\n",
       "77              0  heart go astray leaving hurt when they go i we...   \n",
       "\n",
       "          lemm_title  missing_isrc  ... genre_RUSPOP  genre_JAZZ  \\\n",
       "77  everlasting love             0  ...            0           0   \n",
       "\n",
       "   uncnown_genre genre_other  genre_group_ROCK  genre_group_RAP  \\\n",
       "77             0           1                 0                0   \n",
       "\n",
       "    genre_group_POP  genre_group_FOLK  genre_group_RUS  \\\n",
       "77                0                 0                0   \n",
       "\n",
       "                                           cover_list  \n",
       "77  a106cea5c02ed8a70b421831cc4e7192 0021519c8533f...  \n",
       "\n",
       "[1 rows x 37 columns]"
      ]
     },
     "execution_count": 34,
     "metadata": {},
     "output_type": "execute_result"
    }
   ],
   "source": [
    "df_train[df_train['track_id']==list_bad_track[1][0]]"
   ]
  },
  {
   "cell_type": "code",
   "execution_count": 35,
   "id": "c19fca3b",
   "metadata": {},
   "outputs": [
    {
     "data": {
      "text/html": [
       "<div>\n",
       "<style scoped>\n",
       "    .dataframe tbody tr th:only-of-type {\n",
       "        vertical-align: middle;\n",
       "    }\n",
       "\n",
       "    .dataframe tbody tr th {\n",
       "        vertical-align: top;\n",
       "    }\n",
       "\n",
       "    .dataframe thead th {\n",
       "        text-align: right;\n",
       "    }\n",
       "</style>\n",
       "<table border=\"1\" class=\"dataframe\">\n",
       "  <thead>\n",
       "    <tr style=\"text-align: right;\">\n",
       "      <th></th>\n",
       "      <th>track_id</th>\n",
       "      <th>language</th>\n",
       "      <th>duration</th>\n",
       "      <th>original_track_id</th>\n",
       "      <th>track_remake_type</th>\n",
       "      <th>missing_text</th>\n",
       "      <th>missing_title</th>\n",
       "      <th>lemm_text</th>\n",
       "      <th>lemm_title</th>\n",
       "      <th>missing_isrc</th>\n",
       "      <th>...</th>\n",
       "      <th>genre_RUSPOP</th>\n",
       "      <th>genre_JAZZ</th>\n",
       "      <th>uncnown_genre</th>\n",
       "      <th>genre_other</th>\n",
       "      <th>genre_group_ROCK</th>\n",
       "      <th>genre_group_RAP</th>\n",
       "      <th>genre_group_POP</th>\n",
       "      <th>genre_group_FOLK</th>\n",
       "      <th>genre_group_RUS</th>\n",
       "      <th>cover_list</th>\n",
       "    </tr>\n",
       "  </thead>\n",
       "  <tbody>\n",
       "    <tr>\n",
       "      <th>613</th>\n",
       "      <td>522fd9c3fe5138702f643e79b49984a7</td>\n",
       "      <td>EN</td>\n",
       "      <td>178840.0</td>\n",
       "      <td>522fd9c3fe5138702f643e79b49984a7</td>\n",
       "      <td>ORIGINAL</td>\n",
       "      <td>0</td>\n",
       "      <td>0</td>\n",
       "      <td>heart go astray leaving hurt when they go i we...</td>\n",
       "      <td>everlasting love</td>\n",
       "      <td>0</td>\n",
       "      <td>...</td>\n",
       "      <td>0</td>\n",
       "      <td>0</td>\n",
       "      <td>0</td>\n",
       "      <td>1</td>\n",
       "      <td>0</td>\n",
       "      <td>0</td>\n",
       "      <td>0</td>\n",
       "      <td>0</td>\n",
       "      <td>0</td>\n",
       "      <td>NaN</td>\n",
       "    </tr>\n",
       "  </tbody>\n",
       "</table>\n",
       "<p>1 rows × 37 columns</p>\n",
       "</div>"
      ],
      "text/plain": [
       "                             track_id language  duration  \\\n",
       "613  522fd9c3fe5138702f643e79b49984a7       EN  178840.0   \n",
       "\n",
       "                    original_track_id track_remake_type  missing_text  \\\n",
       "613  522fd9c3fe5138702f643e79b49984a7          ORIGINAL             0   \n",
       "\n",
       "     missing_title                                          lemm_text  \\\n",
       "613              0  heart go astray leaving hurt when they go i we...   \n",
       "\n",
       "           lemm_title  missing_isrc  ... genre_RUSPOP  genre_JAZZ  \\\n",
       "613  everlasting love             0  ...            0           0   \n",
       "\n",
       "    uncnown_genre genre_other  genre_group_ROCK  genre_group_RAP  \\\n",
       "613             0           1                 0                0   \n",
       "\n",
       "     genre_group_POP  genre_group_FOLK  genre_group_RUS  cover_list  \n",
       "613                0                 0                0         NaN  \n",
       "\n",
       "[1 rows x 37 columns]"
      ]
     },
     "execution_count": 35,
     "metadata": {},
     "output_type": "execute_result"
    }
   ],
   "source": [
    "df_train[df_train['track_id']==list_bad_track[1][1]]"
   ]
  },
  {
   "cell_type": "markdown",
   "id": "7e46fd0a",
   "metadata": {},
   "source": [
    "Действительно, судя по всему эти песни являются каверами у них совпадаютс названия и текст, хотя они и имеют разный original_track_id."
   ]
  },
  {
   "cell_type": "markdown",
   "id": "dfa820ef",
   "metadata": {},
   "source": [
    "Сохраним обученный индекс."
   ]
  },
  {
   "cell_type": "code",
   "execution_count": 36,
   "id": "bdfb3b3b",
   "metadata": {},
   "outputs": [],
   "source": [
    "write_index(f_index, PATH_TO_SAVE_FAISS)"
   ]
  },
  {
   "cell_type": "markdown",
   "id": "90132d69",
   "metadata": {},
   "source": [
    "### Выводы"
   ]
  },
  {
   "cell_type": "markdown",
   "id": "aa9c8077",
   "metadata": {},
   "source": [
    "В данном разделе была разработана и обучена модель для нахождения k ближайших треков, в качестве такой модели был выбран faiss. В ходе создания модели была проделана следующая работа:\n",
    "1. Выбраны метрики качества и написаны функции для их определения;\n",
    "2. Подобраны оптимальные параметры для TfIdf текстов песен (n_gram = (1, 3), max_features = 10000);\n",
    "3. Подобрано лучшее количество возвращаемых k ближайших (выбор осуществлялся на основании f1 меры, поскольку увеличение количества ближайших соседей увеличивает полноту, но просаживает точность). В нашей задаче будем возвращать 8 ближайших.\n",
    "4. В первом приближении исследованы результаты модели, было обнаружено, что в датасете отобранном для тренировочных данных 32 пары треков с 0 расстоянием и разным original_track_id (примерно 1.5%), вероятнее всего это является ошибкой разметки данных."
   ]
  },
  {
   "cell_type": "markdown",
   "id": "8bd73b02",
   "metadata": {},
   "source": [
    "## Модель принимающая решения является ли пара треков каверами"
   ]
  },
  {
   "cell_type": "markdown",
   "id": "bef98940",
   "metadata": {},
   "source": [
    "После подбора наиболее подходящих треков создадим новый датасет и поверх него обучим модель, которая будет решать является ли эта пара треков каверами / оригиналами. Для начала создадим датасет на основании предыдущего этапа моделирования. Рассмотрим следующие варианты создания датасета:\n",
    "\n",
    "1. Добавления столбцов для обучения для каждого образца и добавления растояния между образцами;\n",
    "2. Проверка на равнество для категориальных признаков, а для  количественных как в первом варианте;\n",
    "3. Отношение для количественных признаков, а остальное как в первом варианте;\n",
    "4. Объединение 2 и 3 варианта;\n",
    "5. Объединение первых 3 вариантов (т.е. будем оставлять как первоначальные столбцы, так и сгенерированные)."
   ]
  },
  {
   "cell_type": "markdown",
   "id": "3a260c60",
   "metadata": {},
   "source": [
    "В качестве **метрики** выбираем **f1** меру. **Важно** метрика будет считаться только на даных поступающих из предыдущей модели (faiss), соответственно для каждого трека будет рассмотрено только 8 претендентов на кавер. Поэтому для треков с большим количеством каверов данная метрика будет не совсем корректна."
   ]
  },
  {
   "cell_type": "markdown",
   "id": "a60add13",
   "metadata": {},
   "source": [
    "В качестве модели будем использовать CatBoostClassifier, поскольку у нас очень много категориальных признаков и кэтбуст с ними сможет корректно работать.При этом в зависимости от модели количество категориальных столбцов может меняться."
   ]
  },
  {
   "cell_type": "markdown",
   "id": "7f561a35",
   "metadata": {},
   "source": [
    "Выделим нужные категориальные и числовые столбцы. У нас много категориальных признаков, поэтому проще будет выделить числовые признаки, признаки не несущие информацию или целевые столбцы, а потом из всего списка столбцов убрать их, оставив только категориальные признаки."
   ]
  },
  {
   "cell_type": "code",
   "execution_count": 37,
   "id": "89048ff1",
   "metadata": {},
   "outputs": [],
   "source": [
    "num_features = ['duration', 'num_year']\n",
    "drop_features = ['track_id', 'original_track_id', 'track_remake_type', 'cover_list', 'lemm_text']\n",
    "cat_features = list(df_train.columns)\n",
    "for col in num_features + drop_features:\n",
    "    cat_features.remove(col)"
   ]
  },
  {
   "cell_type": "markdown",
   "id": "8d935b54",
   "metadata": {},
   "source": [
    "### Проверка модели с сохранением всех признаков для обоих образцов и добавлением расстояния между ними (модель 1)"
   ]
  },
  {
   "cell_type": "markdown",
   "id": "f58d2a7f",
   "metadata": {},
   "source": [
    "Напишем функцию для переименования столбцов, так как нам потребуется разделять признаки для одного и для второго образца"
   ]
  },
  {
   "cell_type": "code",
   "execution_count": 38,
   "id": "7514cd05",
   "metadata": {},
   "outputs": [],
   "source": [
    "def rename_columns(df: pd.DataFrame, ind: int) -> pd.DataFrame:\n",
    "    df = df.copy(deep = True)\n",
    "    ind = '_' + str(ind)\n",
    "    columns_dict = dict()\n",
    "    for column in df.columns:\n",
    "        columns_dict[column] = column + ind\n",
    "        \n",
    "    df = df.rename(columns = columns_dict)\n",
    "    return df"
   ]
  },
  {
   "cell_type": "markdown",
   "id": "ff89a370",
   "metadata": {},
   "source": [
    "Создадим функцию для получения значения target, которое будет показывать входит ли трек с id_1 в состав каверов для трека с id_2 или наоборот."
   ]
  },
  {
   "cell_type": "code",
   "execution_count": 39,
   "id": "5790dcdd",
   "metadata": {},
   "outputs": [],
   "source": [
    "def get_target(df: pd.DataFrame, id_1: str, id_2: str) -> int:\n",
    "    target_value = ((~df.loc[df['track_id']==id_1, 'cover_list'].isna().any() and\n",
    "                   id_2 in df.loc[df['track_id']==id_1, 'cover_list'].values[0]) or \n",
    "                   (~df.loc[df['track_id']==id_2, 'cover_list'].isna().any() and\n",
    "                   id_1 in df.loc[df['track_id']==id_2, 'cover_list'].values[0]))\n",
    "    return int(target_value)"
   ]
  },
  {
   "cell_type": "markdown",
   "id": "17f6f265",
   "metadata": {},
   "source": [
    "Напишем  функцию для создания строки датасета по 2 заданным track_id"
   ]
  },
  {
   "cell_type": "code",
   "execution_count": 40,
   "id": "c0d4566c",
   "metadata": {},
   "outputs": [],
   "source": [
    "def get_row_to_df_v1(df: pd.DataFrame, \n",
    "                     id_1: str, \n",
    "                     id_2: str, \n",
    "                     dist: float, \n",
    "                     cat_features: List[str] = [], \n",
    "                     num_features: List[str] = [], \n",
    "                     is_train: bool = True) -> pd.DataFrame:\n",
    "    all_features = num_features + cat_features\n",
    "    # получаем нудные столбцы\n",
    "    df_1 = df.loc[df['track_id'] == id_1, all_features].reset_index(drop=True)\n",
    "    df_2 = df.loc[df['track_id'] == id_2, all_features].reset_index(drop=True)\n",
    "    # переименовываем столбцы\n",
    "    df_1 = rename_columns(df_1, 1)\n",
    "    df_2 = rename_columns(df_2, 2)\n",
    "    # объединяем\n",
    "    new_df = pd.concat([df_1, df_2], axis=1)\n",
    "    # добавляем расстояние\n",
    "    new_df['dist'] = dist\n",
    "    if is_train:\n",
    "        new_df['target'] = get_target(df, id_1, id_2)\n",
    "    return new_df"
   ]
  },
  {
   "cell_type": "markdown",
   "id": "5a686382",
   "metadata": {},
   "source": [
    "Создадим функцию для генерации всего датсета, при этом сделаем так, что бы она на вход принимала функцию генерации признаков, это позволит в дальнейшем переиспользовать её."
   ]
  },
  {
   "cell_type": "code",
   "execution_count": 41,
   "id": "450883f2",
   "metadata": {},
   "outputs": [],
   "source": [
    "def get_df(df: pd.DataFrame, \n",
    "           series_pred: pd.Series, \n",
    "           series_dist: pd.Series, \n",
    "           function: Callable, \n",
    "           cat_features: List[str] = [], \n",
    "           num_features: List[str] = [],\n",
    "           is_train: bool = True,\n",
    "           df_for_question: pd.DataFrame = None) -> Tuple[pd.DataFrame, pd.DataFrame]:\n",
    "    new_df = pd.DataFrame() # датасет для прогноза\n",
    "    \n",
    "    if df_for_question is not None:\n",
    "        # оставляем только те track_id которых нет в основном датасете\n",
    "        df_for_question = df_for_question[~df_for_question['track_id'].isin(df['track_id']).values] \n",
    "        df_for_question = pd.concat([df, df_for_question], axis=0) # формируем датасет для запроса\n",
    "    else:\n",
    "        df_for_question = df\n",
    "    \n",
    "    df_track = pd.DataFrame(columns = ['track_id_1', 'track_id_2']) # датасет для пар track_id\n",
    "    for i in tqdm(range(series_pred.shape[0])):\n",
    "        list_pred = series_pred[i]\n",
    "        list_dist = series_dist[i]\n",
    "        for j in range(len(list_pred)):\n",
    "            df_match = function(df_for_question, \n",
    "                                df.loc[i, 'track_id'], \n",
    "                                list_pred[j],\n",
    "                                list_dist[j],\n",
    "                                cat_features,\n",
    "                                num_features,\n",
    "                                is_train)\n",
    "            new_df = pd.concat([new_df, df_match])\n",
    "            df_track.loc[ len(df_track.index )] = [df.loc[i, 'track_id'], list_pred[j]]\n",
    "    return new_df.reset_index(drop=True), df_track.reset_index(drop=True)"
   ]
  },
  {
   "cell_type": "markdown",
   "id": "09dfa249",
   "metadata": {},
   "source": [
    "Сгенерируем датасет"
   ]
  },
  {
   "cell_type": "code",
   "execution_count": 42,
   "id": "8c8d8d45",
   "metadata": {},
   "outputs": [
    {
     "name": "stderr",
     "output_type": "stream",
     "text": [
      "100%|██████████████████████████████████████████████████████████████████████████████| 2122/2122 [01:32<00:00, 22.99it/s]\n"
     ]
    }
   ],
   "source": [
    "df_cat_train, df_track_train = get_df(df_train, y_train_pred, dist_train_pred, get_row_to_df_v1, cat_features, num_features)"
   ]
  },
  {
   "cell_type": "code",
   "execution_count": 43,
   "id": "e90475e9",
   "metadata": {},
   "outputs": [
    {
     "data": {
      "text/html": [
       "<div>\n",
       "<style scoped>\n",
       "    .dataframe tbody tr th:only-of-type {\n",
       "        vertical-align: middle;\n",
       "    }\n",
       "\n",
       "    .dataframe tbody tr th {\n",
       "        vertical-align: top;\n",
       "    }\n",
       "\n",
       "    .dataframe thead th {\n",
       "        text-align: right;\n",
       "    }\n",
       "</style>\n",
       "<table border=\"1\" class=\"dataframe\">\n",
       "  <thead>\n",
       "    <tr style=\"text-align: right;\">\n",
       "      <th></th>\n",
       "      <th>duration_1</th>\n",
       "      <th>num_year_1</th>\n",
       "      <th>language_1</th>\n",
       "      <th>missing_text_1</th>\n",
       "      <th>missing_title_1</th>\n",
       "      <th>lemm_title_1</th>\n",
       "      <th>missing_isrc_1</th>\n",
       "      <th>cat_year_isrc_1</th>\n",
       "      <th>country_of_track_1</th>\n",
       "      <th>reg_code_1</th>\n",
       "      <th>...</th>\n",
       "      <th>genre_JAZZ_2</th>\n",
       "      <th>uncnown_genre_2</th>\n",
       "      <th>genre_other_2</th>\n",
       "      <th>genre_group_ROCK_2</th>\n",
       "      <th>genre_group_RAP_2</th>\n",
       "      <th>genre_group_POP_2</th>\n",
       "      <th>genre_group_FOLK_2</th>\n",
       "      <th>genre_group_RUS_2</th>\n",
       "      <th>dist</th>\n",
       "      <th>target</th>\n",
       "    </tr>\n",
       "  </thead>\n",
       "  <tbody>\n",
       "    <tr>\n",
       "      <th>0</th>\n",
       "      <td>170000.0</td>\n",
       "      <td>2021</td>\n",
       "      <td>RU</td>\n",
       "      <td>0</td>\n",
       "      <td>0</td>\n",
       "      <td>you and me</td>\n",
       "      <td>0</td>\n",
       "      <td>2021</td>\n",
       "      <td>RU</td>\n",
       "      <td>A1D</td>\n",
       "      <td>...</td>\n",
       "      <td>0</td>\n",
       "      <td>0</td>\n",
       "      <td>0</td>\n",
       "      <td>0</td>\n",
       "      <td>0</td>\n",
       "      <td>0</td>\n",
       "      <td>0</td>\n",
       "      <td>0</td>\n",
       "      <td>1.000000</td>\n",
       "      <td>0</td>\n",
       "    </tr>\n",
       "    <tr>\n",
       "      <th>1</th>\n",
       "      <td>170000.0</td>\n",
       "      <td>2021</td>\n",
       "      <td>RU</td>\n",
       "      <td>0</td>\n",
       "      <td>0</td>\n",
       "      <td>you and me</td>\n",
       "      <td>0</td>\n",
       "      <td>2021</td>\n",
       "      <td>RU</td>\n",
       "      <td>A1D</td>\n",
       "      <td>...</td>\n",
       "      <td>0</td>\n",
       "      <td>0</td>\n",
       "      <td>1</td>\n",
       "      <td>0</td>\n",
       "      <td>1</td>\n",
       "      <td>0</td>\n",
       "      <td>0</td>\n",
       "      <td>1</td>\n",
       "      <td>1.567508</td>\n",
       "      <td>0</td>\n",
       "    </tr>\n",
       "    <tr>\n",
       "      <th>2</th>\n",
       "      <td>170000.0</td>\n",
       "      <td>2021</td>\n",
       "      <td>RU</td>\n",
       "      <td>0</td>\n",
       "      <td>0</td>\n",
       "      <td>you and me</td>\n",
       "      <td>0</td>\n",
       "      <td>2021</td>\n",
       "      <td>RU</td>\n",
       "      <td>A1D</td>\n",
       "      <td>...</td>\n",
       "      <td>0</td>\n",
       "      <td>0</td>\n",
       "      <td>1</td>\n",
       "      <td>0</td>\n",
       "      <td>0</td>\n",
       "      <td>0</td>\n",
       "      <td>0</td>\n",
       "      <td>0</td>\n",
       "      <td>1.592648</td>\n",
       "      <td>0</td>\n",
       "    </tr>\n",
       "    <tr>\n",
       "      <th>3</th>\n",
       "      <td>170000.0</td>\n",
       "      <td>2021</td>\n",
       "      <td>RU</td>\n",
       "      <td>0</td>\n",
       "      <td>0</td>\n",
       "      <td>you and me</td>\n",
       "      <td>0</td>\n",
       "      <td>2021</td>\n",
       "      <td>RU</td>\n",
       "      <td>A1D</td>\n",
       "      <td>...</td>\n",
       "      <td>0</td>\n",
       "      <td>0</td>\n",
       "      <td>1</td>\n",
       "      <td>0</td>\n",
       "      <td>1</td>\n",
       "      <td>0</td>\n",
       "      <td>0</td>\n",
       "      <td>1</td>\n",
       "      <td>1.598002</td>\n",
       "      <td>0</td>\n",
       "    </tr>\n",
       "    <tr>\n",
       "      <th>4</th>\n",
       "      <td>170000.0</td>\n",
       "      <td>2021</td>\n",
       "      <td>RU</td>\n",
       "      <td>0</td>\n",
       "      <td>0</td>\n",
       "      <td>you and me</td>\n",
       "      <td>0</td>\n",
       "      <td>2021</td>\n",
       "      <td>RU</td>\n",
       "      <td>A1D</td>\n",
       "      <td>...</td>\n",
       "      <td>0</td>\n",
       "      <td>0</td>\n",
       "      <td>0</td>\n",
       "      <td>0</td>\n",
       "      <td>0</td>\n",
       "      <td>1</td>\n",
       "      <td>0</td>\n",
       "      <td>1</td>\n",
       "      <td>1.651370</td>\n",
       "      <td>0</td>\n",
       "    </tr>\n",
       "  </tbody>\n",
       "</table>\n",
       "<p>5 rows × 66 columns</p>\n",
       "</div>"
      ],
      "text/plain": [
       "   duration_1  num_year_1 language_1  missing_text_1  missing_title_1  \\\n",
       "0    170000.0        2021         RU               0                0   \n",
       "1    170000.0        2021         RU               0                0   \n",
       "2    170000.0        2021         RU               0                0   \n",
       "3    170000.0        2021         RU               0                0   \n",
       "4    170000.0        2021         RU               0                0   \n",
       "\n",
       "  lemm_title_1  missing_isrc_1 cat_year_isrc_1 country_of_track_1 reg_code_1  \\\n",
       "0   you and me               0            2021                 RU        A1D   \n",
       "1   you and me               0            2021                 RU        A1D   \n",
       "2   you and me               0            2021                 RU        A1D   \n",
       "3   you and me               0            2021                 RU        A1D   \n",
       "4   you and me               0            2021                 RU        A1D   \n",
       "\n",
       "   ...  genre_JAZZ_2  uncnown_genre_2  genre_other_2  genre_group_ROCK_2  \\\n",
       "0  ...             0                0              0                   0   \n",
       "1  ...             0                0              1                   0   \n",
       "2  ...             0                0              1                   0   \n",
       "3  ...             0                0              1                   0   \n",
       "4  ...             0                0              0                   0   \n",
       "\n",
       "   genre_group_RAP_2  genre_group_POP_2  genre_group_FOLK_2  \\\n",
       "0                  0                  0                   0   \n",
       "1                  1                  0                   0   \n",
       "2                  0                  0                   0   \n",
       "3                  1                  0                   0   \n",
       "4                  0                  1                   0   \n",
       "\n",
       "   genre_group_RUS_2      dist  target  \n",
       "0                  0  1.000000       0  \n",
       "1                  1  1.567508       0  \n",
       "2                  0  1.592648       0  \n",
       "3                  1  1.598002       0  \n",
       "4                  1  1.651370       0  \n",
       "\n",
       "[5 rows x 66 columns]"
      ]
     },
     "execution_count": 43,
     "metadata": {},
     "output_type": "execute_result"
    }
   ],
   "source": [
    "df_cat_train.head()"
   ]
  },
  {
   "cell_type": "markdown",
   "id": "a6f1f02f",
   "metadata": {},
   "source": [
    "Поскольку названия столбцов в датасете менялись, то нужно выбрать новые списки категориальных и числовых признаков"
   ]
  },
  {
   "cell_type": "code",
   "execution_count": 44,
   "id": "8b772435",
   "metadata": {},
   "outputs": [],
   "source": [
    "def get_features_list(df: pd.DataFrame,\n",
    "                      cat_features: List[str] = [], \n",
    "                      num_features: List[str] = []) -> Tuple[List, List]:\n",
    "    columns = df.columns\n",
    "    new_cat_features = []\n",
    "    new_num_features = []\n",
    "    for column in columns:\n",
    "        if column[:-2] in cat_features:\n",
    "            new_cat_features.append(column)\n",
    "        if column[:-2] in num_features:\n",
    "            new_num_features.append(column)\n",
    "    return new_cat_features, new_num_features"
   ]
  },
  {
   "cell_type": "code",
   "execution_count": 45,
   "id": "881a4fe7",
   "metadata": {},
   "outputs": [],
   "source": [
    "new_cat_features, new_num_features = get_features_list(df_cat_train, cat_features, num_features)"
   ]
  },
  {
   "cell_type": "markdown",
   "id": "3c852341",
   "metadata": {},
   "source": [
    "Посмотрим как распределён целевой признак."
   ]
  },
  {
   "cell_type": "code",
   "execution_count": 46,
   "id": "d43d28da",
   "metadata": {},
   "outputs": [
    {
     "data": {
      "text/plain": [
       "0.05399219065571563"
      ]
     },
     "execution_count": 46,
     "metadata": {},
     "output_type": "execute_result"
    }
   ],
   "source": [
    "df_cat_train['target'].mean()"
   ]
  },
  {
   "cell_type": "markdown",
   "id": "a8c576e4",
   "metadata": {},
   "source": [
    "Выделим признаки и цели обучения"
   ]
  },
  {
   "cell_type": "code",
   "execution_count": 47,
   "id": "9e89323e",
   "metadata": {},
   "outputs": [],
   "source": [
    "X_train = df_cat_train.drop('target', axis=1)\n",
    "y_train = df_cat_train['target']"
   ]
  },
  {
   "cell_type": "markdown",
   "id": "a9c7703b",
   "metadata": {},
   "source": [
    "Как видим у нас всего около 5% матчей, поэтому при обучении необходимо указать модели на дисбаланс классов. Как отмечалось ранее для обучения будем использовать CatBoostClassifier. Поскольку у нас задача свелась к задачи классификации, то в качестве метрики будем использовать f1 меру."
   ]
  },
  {
   "cell_type": "code",
   "execution_count": 48,
   "id": "295d4846",
   "metadata": {},
   "outputs": [],
   "source": [
    "cat_model = CatBoostClassifier(random_state=RANDOM_STATE, \n",
    "                               cat_features=new_cat_features,\n",
    "                               verbose=False)"
   ]
  },
  {
   "cell_type": "markdown",
   "id": "9572e440",
   "metadata": {},
   "source": [
    "Определять качество модели будем на кроссвалидации, поскольку у нас крайне мало целевых значений, то для разделения на фолды будем использовать StratifiedKFold"
   ]
  },
  {
   "cell_type": "code",
   "execution_count": 49,
   "id": "403c5b18",
   "metadata": {},
   "outputs": [],
   "source": [
    "skf = StratifiedKFold(n_splits=4)\n",
    "folds = skf.split(X_train, y_train)"
   ]
  },
  {
   "cell_type": "code",
   "execution_count": 50,
   "id": "cd23a107",
   "metadata": {},
   "outputs": [
    {
     "name": "stdout",
     "output_type": "stream",
     "text": [
      "Метрика f1 на кроссвалидации [0.1667398  0.75875486 0.51263538 0.4       ]\n",
      "Среднее значение f1 на всём датасете 0.45953251025792197\n",
      "CPU times: total: 13min 12s\n",
      "Wall time: 1min 46s\n"
     ]
    }
   ],
   "source": [
    "%%time\n",
    "cvs = cross_val_score(cat_model, X_train, y_train, cv=folds, scoring='f1')\n",
    "print(f'Метрика f1 на кроссвалидации {cvs}')\n",
    "print(f'Среднее значение f1 на всём датасете {mean(cvs)}')"
   ]
  },
  {
   "cell_type": "markdown",
   "id": "6d9fd6d8",
   "metadata": {},
   "source": [
    "Проверим нашу гипотезу, что в данных сильный дисбаланс классов и передача весов, поможет улучшить качество модели."
   ]
  },
  {
   "cell_type": "code",
   "execution_count": 51,
   "id": "076f1cc1",
   "metadata": {},
   "outputs": [],
   "source": [
    "classes = np.unique(y_train)\n",
    "weights = compute_class_weight(class_weight='balanced', classes=classes, y=y_train)\n",
    "class_weights = dict(zip(classes, weights))"
   ]
  },
  {
   "cell_type": "code",
   "execution_count": 52,
   "id": "faf5fd34",
   "metadata": {},
   "outputs": [],
   "source": [
    "cat_model = CatBoostClassifier(random_state=RANDOM_STATE, \n",
    "                               cat_features=new_cat_features,\n",
    "                               verbose=False,\n",
    "                               class_weights=class_weights)"
   ]
  },
  {
   "cell_type": "code",
   "execution_count": 53,
   "id": "e0748315",
   "metadata": {},
   "outputs": [
    {
     "name": "stdout",
     "output_type": "stream",
     "text": [
      "Метрика f1 на кроссвалидации [0.13109128 0.79513185 0.6407767  0.55633803]\n",
      "Среднее значение f1 на всём датасете 0.530834464124772\n",
      "CPU times: total: 12min 24s\n",
      "Wall time: 1min 44s\n"
     ]
    }
   ],
   "source": [
    "%%time\n",
    "skf = StratifiedKFold(n_splits=4)\n",
    "folds = skf.split(X_train, y_train)\n",
    "\n",
    "cvs = cross_val_score(cat_model, X_train, y_train, cv=folds, scoring='f1')\n",
    "print(f'Метрика f1 на кроссвалидации {cvs}')\n",
    "print(f'Среднее значение f1 на всём датасете {mean(cvs)}')"
   ]
  },
  {
   "cell_type": "markdown",
   "id": "bc7ab1d6",
   "metadata": {},
   "source": [
    "Действительно, сбалансированные веса позволяют улучшить качество модели."
   ]
  },
  {
   "cell_type": "markdown",
   "id": "9c47607e",
   "metadata": {},
   "source": [
    "### Проверка модели с сохранением числовых признаков для обоих образцов и сравнением на равенство категориальных признаков (плюс сохранение дистанции)  (модель 2)"
   ]
  },
  {
   "cell_type": "markdown",
   "id": "17c07a4b",
   "metadata": {},
   "source": [
    "Создадим функцию, для реализации второй стратегии при которой проверяется равенство категориальных признаков"
   ]
  },
  {
   "cell_type": "code",
   "execution_count": 54,
   "id": "c24006c2",
   "metadata": {},
   "outputs": [],
   "source": [
    "def get_row_to_df_v2(df: pd.DataFrame, \n",
    "                     id_1: str, \n",
    "                     id_2: str, \n",
    "                     dist: float, \n",
    "                     cat_features: List[str] = [], \n",
    "                     num_features: List[str] = [], \n",
    "                     is_train: bool = True) -> pd.DataFrame:\n",
    "    # сравниваем категориальные столбцы\n",
    "    new_df = pd.DataFrame()\n",
    "    for column in cat_features:\n",
    "        new_df[column] =pd.Series(df.loc[df['track_id'] == id_1, column].reset_index(drop=True)[0] \n",
    "                                  == df.loc[df['track_id'] == id_2, column].reset_index(drop=True)[0])\n",
    "    # для числовых столбцов воспользуемся функцией написаной ранее\n",
    "    num_df = get_row_to_df_v1(df, \n",
    "                              id_1, \n",
    "                              id_2,\n",
    "                              dist,\n",
    "                              num_features = num_features,\n",
    "                              is_train=is_train)    \n",
    "    new_df = pd.concat([new_df ,num_df], axis=1)\n",
    "    return new_df"
   ]
  },
  {
   "cell_type": "markdown",
   "id": "5ee9fb56",
   "metadata": {},
   "source": [
    "Получим датасет"
   ]
  },
  {
   "cell_type": "code",
   "execution_count": 55,
   "id": "7ec479d5",
   "metadata": {},
   "outputs": [
    {
     "name": "stderr",
     "output_type": "stream",
     "text": [
      "100%|██████████████████████████████████████████████████████████████████████████████| 2122/2122 [07:37<00:00,  4.64it/s]\n"
     ]
    }
   ],
   "source": [
    "df_cat_train, df_track_train = get_df(df_train, y_train_pred, dist_train_pred, get_row_to_df_v2, cat_features, num_features)"
   ]
  },
  {
   "cell_type": "markdown",
   "id": "a1433b3d",
   "metadata": {},
   "source": [
    "Выведем список первых 5 строк и убедимся, что всё отработало корректно (отношение 0 и 1 в таргете должно остаться прежним)"
   ]
  },
  {
   "cell_type": "code",
   "execution_count": 56,
   "id": "5801f822",
   "metadata": {},
   "outputs": [
    {
     "data": {
      "text/html": [
       "<div>\n",
       "<style scoped>\n",
       "    .dataframe tbody tr th:only-of-type {\n",
       "        vertical-align: middle;\n",
       "    }\n",
       "\n",
       "    .dataframe tbody tr th {\n",
       "        vertical-align: top;\n",
       "    }\n",
       "\n",
       "    .dataframe thead th {\n",
       "        text-align: right;\n",
       "    }\n",
       "</style>\n",
       "<table border=\"1\" class=\"dataframe\">\n",
       "  <thead>\n",
       "    <tr style=\"text-align: right;\">\n",
       "      <th></th>\n",
       "      <th>language</th>\n",
       "      <th>missing_text</th>\n",
       "      <th>missing_title</th>\n",
       "      <th>lemm_title</th>\n",
       "      <th>missing_isrc</th>\n",
       "      <th>cat_year_isrc</th>\n",
       "      <th>country_of_track</th>\n",
       "      <th>reg_code</th>\n",
       "      <th>genre_FOLK</th>\n",
       "      <th>genre_LATINFOLK</th>\n",
       "      <th>...</th>\n",
       "      <th>genre_group_RAP</th>\n",
       "      <th>genre_group_POP</th>\n",
       "      <th>genre_group_FOLK</th>\n",
       "      <th>genre_group_RUS</th>\n",
       "      <th>duration_1</th>\n",
       "      <th>num_year_1</th>\n",
       "      <th>duration_2</th>\n",
       "      <th>num_year_2</th>\n",
       "      <th>dist</th>\n",
       "      <th>target</th>\n",
       "    </tr>\n",
       "  </thead>\n",
       "  <tbody>\n",
       "    <tr>\n",
       "      <th>0</th>\n",
       "      <td>False</td>\n",
       "      <td>True</td>\n",
       "      <td>True</td>\n",
       "      <td>False</td>\n",
       "      <td>True</td>\n",
       "      <td>False</td>\n",
       "      <td>False</td>\n",
       "      <td>False</td>\n",
       "      <td>True</td>\n",
       "      <td>True</td>\n",
       "      <td>...</td>\n",
       "      <td>True</td>\n",
       "      <td>False</td>\n",
       "      <td>True</td>\n",
       "      <td>False</td>\n",
       "      <td>170000.0</td>\n",
       "      <td>2021</td>\n",
       "      <td>163290.0</td>\n",
       "      <td>2018</td>\n",
       "      <td>1.000000</td>\n",
       "      <td>0</td>\n",
       "    </tr>\n",
       "    <tr>\n",
       "      <th>1</th>\n",
       "      <td>True</td>\n",
       "      <td>True</td>\n",
       "      <td>True</td>\n",
       "      <td>False</td>\n",
       "      <td>True</td>\n",
       "      <td>True</td>\n",
       "      <td>True</td>\n",
       "      <td>False</td>\n",
       "      <td>True</td>\n",
       "      <td>True</td>\n",
       "      <td>...</td>\n",
       "      <td>False</td>\n",
       "      <td>False</td>\n",
       "      <td>True</td>\n",
       "      <td>True</td>\n",
       "      <td>170000.0</td>\n",
       "      <td>2021</td>\n",
       "      <td>134720.0</td>\n",
       "      <td>2021</td>\n",
       "      <td>1.567508</td>\n",
       "      <td>0</td>\n",
       "    </tr>\n",
       "    <tr>\n",
       "      <th>2</th>\n",
       "      <td>False</td>\n",
       "      <td>True</td>\n",
       "      <td>True</td>\n",
       "      <td>False</td>\n",
       "      <td>True</td>\n",
       "      <td>False</td>\n",
       "      <td>False</td>\n",
       "      <td>False</td>\n",
       "      <td>True</td>\n",
       "      <td>True</td>\n",
       "      <td>...</td>\n",
       "      <td>True</td>\n",
       "      <td>False</td>\n",
       "      <td>True</td>\n",
       "      <td>False</td>\n",
       "      <td>170000.0</td>\n",
       "      <td>2021</td>\n",
       "      <td>161120.0</td>\n",
       "      <td>2013</td>\n",
       "      <td>1.592648</td>\n",
       "      <td>0</td>\n",
       "    </tr>\n",
       "    <tr>\n",
       "      <th>3</th>\n",
       "      <td>True</td>\n",
       "      <td>True</td>\n",
       "      <td>True</td>\n",
       "      <td>False</td>\n",
       "      <td>True</td>\n",
       "      <td>False</td>\n",
       "      <td>False</td>\n",
       "      <td>False</td>\n",
       "      <td>True</td>\n",
       "      <td>True</td>\n",
       "      <td>...</td>\n",
       "      <td>False</td>\n",
       "      <td>False</td>\n",
       "      <td>True</td>\n",
       "      <td>True</td>\n",
       "      <td>170000.0</td>\n",
       "      <td>2021</td>\n",
       "      <td>163980.0</td>\n",
       "      <td>2023</td>\n",
       "      <td>1.598002</td>\n",
       "      <td>0</td>\n",
       "    </tr>\n",
       "    <tr>\n",
       "      <th>4</th>\n",
       "      <td>True</td>\n",
       "      <td>True</td>\n",
       "      <td>True</td>\n",
       "      <td>False</td>\n",
       "      <td>True</td>\n",
       "      <td>False</td>\n",
       "      <td>True</td>\n",
       "      <td>True</td>\n",
       "      <td>True</td>\n",
       "      <td>True</td>\n",
       "      <td>...</td>\n",
       "      <td>True</td>\n",
       "      <td>True</td>\n",
       "      <td>True</td>\n",
       "      <td>True</td>\n",
       "      <td>170000.0</td>\n",
       "      <td>2021</td>\n",
       "      <td>188160.0</td>\n",
       "      <td>2020</td>\n",
       "      <td>1.651370</td>\n",
       "      <td>0</td>\n",
       "    </tr>\n",
       "  </tbody>\n",
       "</table>\n",
       "<p>5 rows × 36 columns</p>\n",
       "</div>"
      ],
      "text/plain": [
       "   language  missing_text  missing_title  lemm_title  missing_isrc  \\\n",
       "0     False          True           True       False          True   \n",
       "1      True          True           True       False          True   \n",
       "2     False          True           True       False          True   \n",
       "3      True          True           True       False          True   \n",
       "4      True          True           True       False          True   \n",
       "\n",
       "   cat_year_isrc  country_of_track  reg_code  genre_FOLK  genre_LATINFOLK  \\\n",
       "0          False             False     False        True             True   \n",
       "1           True              True     False        True             True   \n",
       "2          False             False     False        True             True   \n",
       "3          False             False     False        True             True   \n",
       "4          False              True      True        True             True   \n",
       "\n",
       "   ...  genre_group_RAP  genre_group_POP  genre_group_FOLK  genre_group_RUS  \\\n",
       "0  ...             True            False              True            False   \n",
       "1  ...            False            False              True             True   \n",
       "2  ...             True            False              True            False   \n",
       "3  ...            False            False              True             True   \n",
       "4  ...             True             True              True             True   \n",
       "\n",
       "   duration_1  num_year_1  duration_2  num_year_2      dist  target  \n",
       "0    170000.0        2021    163290.0        2018  1.000000       0  \n",
       "1    170000.0        2021    134720.0        2021  1.567508       0  \n",
       "2    170000.0        2021    161120.0        2013  1.592648       0  \n",
       "3    170000.0        2021    163980.0        2023  1.598002       0  \n",
       "4    170000.0        2021    188160.0        2020  1.651370       0  \n",
       "\n",
       "[5 rows x 36 columns]"
      ]
     },
     "execution_count": 56,
     "metadata": {},
     "output_type": "execute_result"
    }
   ],
   "source": [
    "df_cat_train.head()"
   ]
  },
  {
   "cell_type": "code",
   "execution_count": 57,
   "id": "a10df80b",
   "metadata": {},
   "outputs": [
    {
     "data": {
      "text/plain": [
       "0.05399219065571563"
      ]
     },
     "execution_count": 57,
     "metadata": {},
     "output_type": "execute_result"
    }
   ],
   "source": [
    "df_cat_train['target'].mean()"
   ]
  },
  {
   "cell_type": "markdown",
   "id": "3ce6ab01",
   "metadata": {},
   "source": [
    "Создадим и обучим модель (сразу будем обучать модель со сбалансированными весами)"
   ]
  },
  {
   "cell_type": "code",
   "execution_count": 58,
   "id": "c3b734a6",
   "metadata": {},
   "outputs": [],
   "source": [
    "X_train = df_cat_train.drop('target', axis=1)\n",
    "y_train = df_cat_train['target']\n",
    "\n",
    "skf = StratifiedKFold(n_splits=4)\n",
    "folds = skf.split(X_train, y_train)\n",
    "\n",
    "classes = np.unique(y_train)\n",
    "weights = compute_class_weight(class_weight='balanced', classes=classes, y=y_train)\n",
    "class_weights = dict(zip(classes, weights))\n",
    "\n",
    "cat_model = CatBoostClassifier(random_state=RANDOM_STATE, \n",
    "                               cat_features=cat_features,\n",
    "                               verbose=False,\n",
    "                               class_weights=class_weights)"
   ]
  },
  {
   "cell_type": "code",
   "execution_count": 59,
   "id": "1933fae1",
   "metadata": {
    "scrolled": true
   },
   "outputs": [
    {
     "name": "stdout",
     "output_type": "stream",
     "text": [
      "Метрика f1 на кроссвалидации [0.87610619 0.90692124 0.85411141 0.91666667]\n",
      "Среднее значение f1 на всём датасете 0.8884513770606488\n",
      "CPU times: total: 3min 43s\n",
      "Wall time: 26.4 s\n"
     ]
    }
   ],
   "source": [
    "%%time\n",
    "cvs = cross_val_score(cat_model, X_train, y_train, cv=folds, scoring='f1')\n",
    "print(f'Метрика f1 на кроссвалидации {cvs}')\n",
    "print(f'Среднее значение f1 на всём датасете {mean(cvs)}')"
   ]
  },
  {
   "cell_type": "markdown",
   "id": "52d58471",
   "metadata": {},
   "source": [
    "Качество модели стало значительно лучше, по сравнению с первым вариантом модели"
   ]
  },
  {
   "cell_type": "markdown",
   "id": "29bc726f",
   "metadata": {},
   "source": [
    "### Проверка модели с сохранением категориальных признаков для обоих образцов и получения отношения для числовых признаков (плюс сохранение дистанции) (модель 3)"
   ]
  },
  {
   "cell_type": "markdown",
   "id": "e91231dd",
   "metadata": {},
   "source": [
    "Создадим функцию, для реализации третей стратегии при этом будем смотреть не просто отношение числовых признаков, а абсолютную разницу от единицы (чем ближе будет значение к 0, тем меньше разница между числовыми признаками)"
   ]
  },
  {
   "cell_type": "code",
   "execution_count": 60,
   "id": "4156f525",
   "metadata": {},
   "outputs": [],
   "source": [
    "def get_row_to_df_v3(df: pd.DataFrame, \n",
    "                     id_1: str, \n",
    "                     id_2: str, \n",
    "                     dist: float, \n",
    "                     cat_features: List[str] = [], \n",
    "                     num_features: List[str] = [], \n",
    "                     is_train: bool = True) -> pd.DataFrame:\n",
    "    # находим отношение для числовых признаков\n",
    "    new_df = pd.DataFrame()\n",
    "    for column in num_features:\n",
    "        new_df[column] = pd.Series(abs(1 - df.loc[df['track_id'] == id_1, column].reset_index(drop=True)[0] \n",
    "                                  / df.loc[df['track_id'] == id_2, column].reset_index(drop=True)[0]))\n",
    "    # для категориальных столбцов воспользуемся написанной ранее функцией\n",
    "    cat_df = get_row_to_df_v1(df, \n",
    "                              id_1, \n",
    "                              id_2,\n",
    "                              dist,\n",
    "                              cat_features = cat_features,\n",
    "                              is_train=is_train)    \n",
    "    new_df = pd.concat([new_df ,cat_df], axis=1)\n",
    "    return new_df"
   ]
  },
  {
   "cell_type": "markdown",
   "id": "496df135",
   "metadata": {},
   "source": [
    "Получим датасет"
   ]
  },
  {
   "cell_type": "code",
   "execution_count": 61,
   "id": "548014fa",
   "metadata": {},
   "outputs": [
    {
     "name": "stderr",
     "output_type": "stream",
     "text": [
      "100%|██████████████████████████████████████████████████████████████████████████████| 2122/2122 [02:05<00:00, 16.91it/s]\n"
     ]
    }
   ],
   "source": [
    "df_cat_train, df_track_train = get_df(df_train, y_train_pred, dist_train_pred, get_row_to_df_v3, cat_features, num_features)"
   ]
  },
  {
   "cell_type": "markdown",
   "id": "105c0409",
   "metadata": {},
   "source": [
    "Выведем список первых 5 строк и убедимся, что отношение 0 и 1 в таргете должно остаться прежним"
   ]
  },
  {
   "cell_type": "code",
   "execution_count": 62,
   "id": "b6e144b6",
   "metadata": {},
   "outputs": [
    {
     "data": {
      "text/html": [
       "<div>\n",
       "<style scoped>\n",
       "    .dataframe tbody tr th:only-of-type {\n",
       "        vertical-align: middle;\n",
       "    }\n",
       "\n",
       "    .dataframe tbody tr th {\n",
       "        vertical-align: top;\n",
       "    }\n",
       "\n",
       "    .dataframe thead th {\n",
       "        text-align: right;\n",
       "    }\n",
       "</style>\n",
       "<table border=\"1\" class=\"dataframe\">\n",
       "  <thead>\n",
       "    <tr style=\"text-align: right;\">\n",
       "      <th></th>\n",
       "      <th>duration</th>\n",
       "      <th>num_year</th>\n",
       "      <th>language_1</th>\n",
       "      <th>missing_text_1</th>\n",
       "      <th>missing_title_1</th>\n",
       "      <th>lemm_title_1</th>\n",
       "      <th>missing_isrc_1</th>\n",
       "      <th>cat_year_isrc_1</th>\n",
       "      <th>country_of_track_1</th>\n",
       "      <th>reg_code_1</th>\n",
       "      <th>...</th>\n",
       "      <th>genre_JAZZ_2</th>\n",
       "      <th>uncnown_genre_2</th>\n",
       "      <th>genre_other_2</th>\n",
       "      <th>genre_group_ROCK_2</th>\n",
       "      <th>genre_group_RAP_2</th>\n",
       "      <th>genre_group_POP_2</th>\n",
       "      <th>genre_group_FOLK_2</th>\n",
       "      <th>genre_group_RUS_2</th>\n",
       "      <th>dist</th>\n",
       "      <th>target</th>\n",
       "    </tr>\n",
       "  </thead>\n",
       "  <tbody>\n",
       "    <tr>\n",
       "      <th>0</th>\n",
       "      <td>0.041093</td>\n",
       "      <td>0.001487</td>\n",
       "      <td>RU</td>\n",
       "      <td>0</td>\n",
       "      <td>0</td>\n",
       "      <td>you and me</td>\n",
       "      <td>0</td>\n",
       "      <td>2021</td>\n",
       "      <td>RU</td>\n",
       "      <td>A1D</td>\n",
       "      <td>...</td>\n",
       "      <td>0</td>\n",
       "      <td>0</td>\n",
       "      <td>0</td>\n",
       "      <td>0</td>\n",
       "      <td>0</td>\n",
       "      <td>0</td>\n",
       "      <td>0</td>\n",
       "      <td>0</td>\n",
       "      <td>1.000000</td>\n",
       "      <td>0</td>\n",
       "    </tr>\n",
       "    <tr>\n",
       "      <th>1</th>\n",
       "      <td>0.261876</td>\n",
       "      <td>0.000000</td>\n",
       "      <td>RU</td>\n",
       "      <td>0</td>\n",
       "      <td>0</td>\n",
       "      <td>you and me</td>\n",
       "      <td>0</td>\n",
       "      <td>2021</td>\n",
       "      <td>RU</td>\n",
       "      <td>A1D</td>\n",
       "      <td>...</td>\n",
       "      <td>0</td>\n",
       "      <td>0</td>\n",
       "      <td>1</td>\n",
       "      <td>0</td>\n",
       "      <td>1</td>\n",
       "      <td>0</td>\n",
       "      <td>0</td>\n",
       "      <td>1</td>\n",
       "      <td>1.567508</td>\n",
       "      <td>0</td>\n",
       "    </tr>\n",
       "    <tr>\n",
       "      <th>2</th>\n",
       "      <td>0.055114</td>\n",
       "      <td>0.003974</td>\n",
       "      <td>RU</td>\n",
       "      <td>0</td>\n",
       "      <td>0</td>\n",
       "      <td>you and me</td>\n",
       "      <td>0</td>\n",
       "      <td>2021</td>\n",
       "      <td>RU</td>\n",
       "      <td>A1D</td>\n",
       "      <td>...</td>\n",
       "      <td>0</td>\n",
       "      <td>0</td>\n",
       "      <td>1</td>\n",
       "      <td>0</td>\n",
       "      <td>0</td>\n",
       "      <td>0</td>\n",
       "      <td>0</td>\n",
       "      <td>0</td>\n",
       "      <td>1.592648</td>\n",
       "      <td>0</td>\n",
       "    </tr>\n",
       "    <tr>\n",
       "      <th>3</th>\n",
       "      <td>0.036712</td>\n",
       "      <td>0.000989</td>\n",
       "      <td>RU</td>\n",
       "      <td>0</td>\n",
       "      <td>0</td>\n",
       "      <td>you and me</td>\n",
       "      <td>0</td>\n",
       "      <td>2021</td>\n",
       "      <td>RU</td>\n",
       "      <td>A1D</td>\n",
       "      <td>...</td>\n",
       "      <td>0</td>\n",
       "      <td>0</td>\n",
       "      <td>1</td>\n",
       "      <td>0</td>\n",
       "      <td>1</td>\n",
       "      <td>0</td>\n",
       "      <td>0</td>\n",
       "      <td>1</td>\n",
       "      <td>1.598002</td>\n",
       "      <td>0</td>\n",
       "    </tr>\n",
       "    <tr>\n",
       "      <th>4</th>\n",
       "      <td>0.096514</td>\n",
       "      <td>0.000495</td>\n",
       "      <td>RU</td>\n",
       "      <td>0</td>\n",
       "      <td>0</td>\n",
       "      <td>you and me</td>\n",
       "      <td>0</td>\n",
       "      <td>2021</td>\n",
       "      <td>RU</td>\n",
       "      <td>A1D</td>\n",
       "      <td>...</td>\n",
       "      <td>0</td>\n",
       "      <td>0</td>\n",
       "      <td>0</td>\n",
       "      <td>0</td>\n",
       "      <td>0</td>\n",
       "      <td>1</td>\n",
       "      <td>0</td>\n",
       "      <td>1</td>\n",
       "      <td>1.651370</td>\n",
       "      <td>0</td>\n",
       "    </tr>\n",
       "  </tbody>\n",
       "</table>\n",
       "<p>5 rows × 64 columns</p>\n",
       "</div>"
      ],
      "text/plain": [
       "   duration  num_year language_1  missing_text_1  missing_title_1  \\\n",
       "0  0.041093  0.001487         RU               0                0   \n",
       "1  0.261876  0.000000         RU               0                0   \n",
       "2  0.055114  0.003974         RU               0                0   \n",
       "3  0.036712  0.000989         RU               0                0   \n",
       "4  0.096514  0.000495         RU               0                0   \n",
       "\n",
       "  lemm_title_1  missing_isrc_1 cat_year_isrc_1 country_of_track_1 reg_code_1  \\\n",
       "0   you and me               0            2021                 RU        A1D   \n",
       "1   you and me               0            2021                 RU        A1D   \n",
       "2   you and me               0            2021                 RU        A1D   \n",
       "3   you and me               0            2021                 RU        A1D   \n",
       "4   you and me               0            2021                 RU        A1D   \n",
       "\n",
       "   ...  genre_JAZZ_2  uncnown_genre_2  genre_other_2  genre_group_ROCK_2  \\\n",
       "0  ...             0                0              0                   0   \n",
       "1  ...             0                0              1                   0   \n",
       "2  ...             0                0              1                   0   \n",
       "3  ...             0                0              1                   0   \n",
       "4  ...             0                0              0                   0   \n",
       "\n",
       "   genre_group_RAP_2  genre_group_POP_2  genre_group_FOLK_2  \\\n",
       "0                  0                  0                   0   \n",
       "1                  1                  0                   0   \n",
       "2                  0                  0                   0   \n",
       "3                  1                  0                   0   \n",
       "4                  0                  1                   0   \n",
       "\n",
       "   genre_group_RUS_2      dist  target  \n",
       "0                  0  1.000000       0  \n",
       "1                  1  1.567508       0  \n",
       "2                  0  1.592648       0  \n",
       "3                  1  1.598002       0  \n",
       "4                  1  1.651370       0  \n",
       "\n",
       "[5 rows x 64 columns]"
      ]
     },
     "execution_count": 62,
     "metadata": {},
     "output_type": "execute_result"
    }
   ],
   "source": [
    "df_cat_train.head()"
   ]
  },
  {
   "cell_type": "code",
   "execution_count": 63,
   "id": "b776d313",
   "metadata": {},
   "outputs": [
    {
     "data": {
      "text/plain": [
       "0.05399219065571563"
      ]
     },
     "execution_count": 63,
     "metadata": {},
     "output_type": "execute_result"
    }
   ],
   "source": [
    "df_cat_train['target'].mean()"
   ]
  },
  {
   "cell_type": "markdown",
   "id": "19ed4fc1",
   "metadata": {},
   "source": [
    "Всё отработало корректно, обучим модель и посмотрим н аей качество"
   ]
  },
  {
   "cell_type": "code",
   "execution_count": 64,
   "id": "d799c91f",
   "metadata": {},
   "outputs": [],
   "source": [
    "X_train = df_cat_train.drop('target', axis=1)\n",
    "y_train = df_cat_train['target']\n",
    "\n",
    "skf = StratifiedKFold(n_splits=4)\n",
    "folds = skf.split(X_train, y_train)\n",
    "\n",
    "classes = np.unique(y_train)\n",
    "weights = compute_class_weight(class_weight='balanced', classes=classes, y=y_train)\n",
    "class_weights = dict(zip(classes, weights))\n",
    "\n",
    "cat_model = CatBoostClassifier(random_state=RANDOM_STATE, \n",
    "                               cat_features=new_cat_features,\n",
    "                               verbose=False,\n",
    "                               class_weights=class_weights)"
   ]
  },
  {
   "cell_type": "code",
   "execution_count": 65,
   "id": "41b2b915",
   "metadata": {},
   "outputs": [
    {
     "name": "stdout",
     "output_type": "stream",
     "text": [
      "Метрика f1 на кроссвалидации [0.13120444 0.74003795 0.59385666 0.52517986]\n",
      "Среднее значение f1 на всём датасете 0.49756972624277934\n",
      "CPU times: total: 13min 14s\n",
      "Wall time: 1min 47s\n"
     ]
    }
   ],
   "source": [
    "%%time\n",
    "cvs = cross_val_score(cat_model, X_train, y_train, cv=folds, scoring='f1')\n",
    "print(f'Метрика f1 на кроссвалидации {cvs}')\n",
    "print(f'Среднее значение f1 на всём датасете {mean(cvs)}')"
   ]
  },
  {
   "cell_type": "markdown",
   "id": "9d44e65c",
   "metadata": {},
   "source": [
    "Качество модели оказалось хуже чем у других моделей."
   ]
  },
  {
   "cell_type": "markdown",
   "id": "ad3ca372",
   "metadata": {},
   "source": [
    "### Проверка модели с получениум отношения для числовых признаков и сравнением на равенство категориальных признаков (плюс сохранение дистанции) (модель 4)"
   ]
  },
  {
   "cell_type": "markdown",
   "id": "8c658295",
   "metadata": {},
   "source": [
    "Создадим функцию, для реализации четвёртой стратегии: мы будем сравнивать как категориальные признаки, так и смотреть на соотношение числовх признаков"
   ]
  },
  {
   "cell_type": "code",
   "execution_count": 66,
   "id": "e7c777f8",
   "metadata": {},
   "outputs": [],
   "source": [
    "def get_row_to_df_v4(df: pd.DataFrame, \n",
    "                     id_1: str, \n",
    "                     id_2: str, \n",
    "                     dist: float, \n",
    "                     cat_features: List[str] = [], \n",
    "                     num_features: List[str] = [], \n",
    "                     is_train: bool = True) -> pd.DataFrame:\n",
    "    # сравниваем категориальные столбцы\n",
    "    cat_df = pd.DataFrame()\n",
    "    for column in cat_features:\n",
    "        cat_df[column] =pd.Series(df.loc[df['track_id'] == id_1, column].reset_index(drop=True)[0] \n",
    "                                  == df.loc[df['track_id'] == id_2, column].reset_index(drop=True)[0])  \n",
    "        \n",
    "    # находим отношение для числовых признаков\n",
    "    num_df = pd.DataFrame()\n",
    "    for column in num_features:\n",
    "        num_df[column] = pd.Series(abs(1 - df.loc[df['track_id'] == id_1, column].reset_index(drop=True)[0] \n",
    "                                  / df.loc[df['track_id'] == id_2, column].reset_index(drop=True)[0]))\n",
    "    # для получения таргета и дистанции воспользуемся функцией\n",
    "    new_df = get_row_to_df_v1(df, \n",
    "                              id_1, \n",
    "                              id_2,\n",
    "                              dist,\n",
    "                              is_train=is_train)    \n",
    "    new_df = pd.concat([num_df ,cat_df, new_df], axis=1)\n",
    "    return new_df"
   ]
  },
  {
   "cell_type": "code",
   "execution_count": 67,
   "id": "7e125db5",
   "metadata": {},
   "outputs": [
    {
     "name": "stderr",
     "output_type": "stream",
     "text": [
      "100%|██████████████████████████████████████████████████████████████████████████████| 2122/2122 [07:52<00:00,  4.50it/s]\n"
     ]
    }
   ],
   "source": [
    "df_cat_train, df_track_train = get_df(df_train, y_train_pred, dist_train_pred, get_row_to_df_v4, cat_features, num_features)"
   ]
  },
  {
   "cell_type": "markdown",
   "id": "6cf1be2c",
   "metadata": {},
   "source": [
    "Проверим получившийся датасет"
   ]
  },
  {
   "cell_type": "code",
   "execution_count": 68,
   "id": "07c1a5d5",
   "metadata": {},
   "outputs": [
    {
     "data": {
      "text/html": [
       "<div>\n",
       "<style scoped>\n",
       "    .dataframe tbody tr th:only-of-type {\n",
       "        vertical-align: middle;\n",
       "    }\n",
       "\n",
       "    .dataframe tbody tr th {\n",
       "        vertical-align: top;\n",
       "    }\n",
       "\n",
       "    .dataframe thead th {\n",
       "        text-align: right;\n",
       "    }\n",
       "</style>\n",
       "<table border=\"1\" class=\"dataframe\">\n",
       "  <thead>\n",
       "    <tr style=\"text-align: right;\">\n",
       "      <th></th>\n",
       "      <th>duration</th>\n",
       "      <th>num_year</th>\n",
       "      <th>language</th>\n",
       "      <th>missing_text</th>\n",
       "      <th>missing_title</th>\n",
       "      <th>lemm_title</th>\n",
       "      <th>missing_isrc</th>\n",
       "      <th>cat_year_isrc</th>\n",
       "      <th>country_of_track</th>\n",
       "      <th>reg_code</th>\n",
       "      <th>...</th>\n",
       "      <th>genre_JAZZ</th>\n",
       "      <th>uncnown_genre</th>\n",
       "      <th>genre_other</th>\n",
       "      <th>genre_group_ROCK</th>\n",
       "      <th>genre_group_RAP</th>\n",
       "      <th>genre_group_POP</th>\n",
       "      <th>genre_group_FOLK</th>\n",
       "      <th>genre_group_RUS</th>\n",
       "      <th>dist</th>\n",
       "      <th>target</th>\n",
       "    </tr>\n",
       "  </thead>\n",
       "  <tbody>\n",
       "    <tr>\n",
       "      <th>0</th>\n",
       "      <td>0.041093</td>\n",
       "      <td>0.001487</td>\n",
       "      <td>False</td>\n",
       "      <td>True</td>\n",
       "      <td>True</td>\n",
       "      <td>False</td>\n",
       "      <td>True</td>\n",
       "      <td>False</td>\n",
       "      <td>False</td>\n",
       "      <td>False</td>\n",
       "      <td>...</td>\n",
       "      <td>True</td>\n",
       "      <td>True</td>\n",
       "      <td>True</td>\n",
       "      <td>True</td>\n",
       "      <td>True</td>\n",
       "      <td>False</td>\n",
       "      <td>True</td>\n",
       "      <td>False</td>\n",
       "      <td>1.000000</td>\n",
       "      <td>0</td>\n",
       "    </tr>\n",
       "    <tr>\n",
       "      <th>1</th>\n",
       "      <td>0.261876</td>\n",
       "      <td>0.000000</td>\n",
       "      <td>True</td>\n",
       "      <td>True</td>\n",
       "      <td>True</td>\n",
       "      <td>False</td>\n",
       "      <td>True</td>\n",
       "      <td>True</td>\n",
       "      <td>True</td>\n",
       "      <td>False</td>\n",
       "      <td>...</td>\n",
       "      <td>True</td>\n",
       "      <td>True</td>\n",
       "      <td>False</td>\n",
       "      <td>True</td>\n",
       "      <td>False</td>\n",
       "      <td>False</td>\n",
       "      <td>True</td>\n",
       "      <td>True</td>\n",
       "      <td>1.567508</td>\n",
       "      <td>0</td>\n",
       "    </tr>\n",
       "    <tr>\n",
       "      <th>2</th>\n",
       "      <td>0.055114</td>\n",
       "      <td>0.003974</td>\n",
       "      <td>False</td>\n",
       "      <td>True</td>\n",
       "      <td>True</td>\n",
       "      <td>False</td>\n",
       "      <td>True</td>\n",
       "      <td>False</td>\n",
       "      <td>False</td>\n",
       "      <td>False</td>\n",
       "      <td>...</td>\n",
       "      <td>True</td>\n",
       "      <td>True</td>\n",
       "      <td>False</td>\n",
       "      <td>True</td>\n",
       "      <td>True</td>\n",
       "      <td>False</td>\n",
       "      <td>True</td>\n",
       "      <td>False</td>\n",
       "      <td>1.592648</td>\n",
       "      <td>0</td>\n",
       "    </tr>\n",
       "    <tr>\n",
       "      <th>3</th>\n",
       "      <td>0.036712</td>\n",
       "      <td>0.000989</td>\n",
       "      <td>True</td>\n",
       "      <td>True</td>\n",
       "      <td>True</td>\n",
       "      <td>False</td>\n",
       "      <td>True</td>\n",
       "      <td>False</td>\n",
       "      <td>False</td>\n",
       "      <td>False</td>\n",
       "      <td>...</td>\n",
       "      <td>True</td>\n",
       "      <td>True</td>\n",
       "      <td>False</td>\n",
       "      <td>True</td>\n",
       "      <td>False</td>\n",
       "      <td>False</td>\n",
       "      <td>True</td>\n",
       "      <td>True</td>\n",
       "      <td>1.598002</td>\n",
       "      <td>0</td>\n",
       "    </tr>\n",
       "    <tr>\n",
       "      <th>4</th>\n",
       "      <td>0.096514</td>\n",
       "      <td>0.000495</td>\n",
       "      <td>True</td>\n",
       "      <td>True</td>\n",
       "      <td>True</td>\n",
       "      <td>False</td>\n",
       "      <td>True</td>\n",
       "      <td>False</td>\n",
       "      <td>True</td>\n",
       "      <td>True</td>\n",
       "      <td>...</td>\n",
       "      <td>True</td>\n",
       "      <td>True</td>\n",
       "      <td>True</td>\n",
       "      <td>True</td>\n",
       "      <td>True</td>\n",
       "      <td>True</td>\n",
       "      <td>True</td>\n",
       "      <td>True</td>\n",
       "      <td>1.651370</td>\n",
       "      <td>0</td>\n",
       "    </tr>\n",
       "  </tbody>\n",
       "</table>\n",
       "<p>5 rows × 34 columns</p>\n",
       "</div>"
      ],
      "text/plain": [
       "   duration  num_year  language  missing_text  missing_title  lemm_title  \\\n",
       "0  0.041093  0.001487     False          True           True       False   \n",
       "1  0.261876  0.000000      True          True           True       False   \n",
       "2  0.055114  0.003974     False          True           True       False   \n",
       "3  0.036712  0.000989      True          True           True       False   \n",
       "4  0.096514  0.000495      True          True           True       False   \n",
       "\n",
       "   missing_isrc  cat_year_isrc  country_of_track  reg_code  ...  genre_JAZZ  \\\n",
       "0          True          False             False     False  ...        True   \n",
       "1          True           True              True     False  ...        True   \n",
       "2          True          False             False     False  ...        True   \n",
       "3          True          False             False     False  ...        True   \n",
       "4          True          False              True      True  ...        True   \n",
       "\n",
       "   uncnown_genre  genre_other  genre_group_ROCK  genre_group_RAP  \\\n",
       "0           True         True              True             True   \n",
       "1           True        False              True            False   \n",
       "2           True        False              True             True   \n",
       "3           True        False              True            False   \n",
       "4           True         True              True             True   \n",
       "\n",
       "   genre_group_POP  genre_group_FOLK  genre_group_RUS      dist  target  \n",
       "0            False              True            False  1.000000       0  \n",
       "1            False              True             True  1.567508       0  \n",
       "2            False              True            False  1.592648       0  \n",
       "3            False              True             True  1.598002       0  \n",
       "4             True              True             True  1.651370       0  \n",
       "\n",
       "[5 rows x 34 columns]"
      ]
     },
     "execution_count": 68,
     "metadata": {},
     "output_type": "execute_result"
    }
   ],
   "source": [
    "df_cat_train.head()"
   ]
  },
  {
   "cell_type": "code",
   "execution_count": 69,
   "id": "c01d46f0",
   "metadata": {},
   "outputs": [
    {
     "data": {
      "text/plain": [
       "0.05399219065571563"
      ]
     },
     "execution_count": 69,
     "metadata": {},
     "output_type": "execute_result"
    }
   ],
   "source": [
    "df_cat_train['target'].mean()"
   ]
  },
  {
   "cell_type": "markdown",
   "id": "fafc3593",
   "metadata": {},
   "source": [
    "Всё нормально, обучим модель и посмотрим на её качество"
   ]
  },
  {
   "cell_type": "code",
   "execution_count": 70,
   "id": "d3bacdfa",
   "metadata": {},
   "outputs": [],
   "source": [
    "X_train = df_cat_train.drop('target', axis=1)\n",
    "y_train = df_cat_train['target']\n",
    "\n",
    "skf = StratifiedKFold(n_splits=4)\n",
    "folds = skf.split(X_train, y_train)\n",
    "\n",
    "classes = np.unique(y_train)\n",
    "weights = compute_class_weight(class_weight='balanced', classes=classes, y=y_train)\n",
    "class_weights = dict(zip(classes, weights))\n",
    "\n",
    "cat_model = CatBoostClassifier(random_state=RANDOM_STATE, \n",
    "                               cat_features=cat_features,\n",
    "                               verbose=False,\n",
    "                               class_weights=class_weights)"
   ]
  },
  {
   "cell_type": "code",
   "execution_count": 71,
   "id": "f4a35361",
   "metadata": {},
   "outputs": [
    {
     "name": "stdout",
     "output_type": "stream",
     "text": [
      "Метрика f1 на кроссвалидации [0.86036036 0.92191436 0.83606557 0.90430622]\n",
      "Среднее значение f1 на всём датасете 0.8806616279772914\n",
      "CPU times: total: 3min 50s\n",
      "Wall time: 27.4 s\n"
     ]
    }
   ],
   "source": [
    "%%time\n",
    "cvs = cross_val_score(cat_model, X_train, y_train, cv=folds, scoring='f1')\n",
    "print(f'Метрика f1 на кроссвалидации {cvs}')\n",
    "print(f'Среднее значение f1 на всём датасете {mean(cvs)}')"
   ]
  },
  {
   "cell_type": "markdown",
   "id": "0f466eb7",
   "metadata": {},
   "source": [
    "Качество модели лучше чем у 1 и 3 моделей, но немного хуже чем у второй."
   ]
  },
  {
   "cell_type": "markdown",
   "id": "557b9e28",
   "metadata": {},
   "source": [
    "### Проверка модели с получениум отношения для числовых признаков и сравнением на равенство категориальных признаков, а также использованием первоначальных признаков (плюс сохранение дистанции) (модель 5)"
   ]
  },
  {
   "cell_type": "markdown",
   "id": "bf32fae4",
   "metadata": {},
   "source": [
    "Создадим функцию, которая объединит в себе идеи 1, 2 и 3 модели"
   ]
  },
  {
   "cell_type": "code",
   "execution_count": 72,
   "id": "a5196b11",
   "metadata": {},
   "outputs": [],
   "source": [
    "def get_row_to_df_v5(df: pd.DataFrame, \n",
    "                     id_1: str, \n",
    "                     id_2: str, \n",
    "                     dist: float, \n",
    "                     cat_features: List[str] = [], \n",
    "                     num_features: List[str] = [], \n",
    "                     is_train: bool = True) -> pd.DataFrame:\n",
    "    # сравниваем категориальные столбцы\n",
    "    cat_df = pd.DataFrame()\n",
    "    for column in cat_features:\n",
    "        cat_df[column] =pd.Series(df.loc[df['track_id'] == id_1, column].reset_index(drop=True)[0] \n",
    "                                  == df.loc[df['track_id'] == id_2, column].reset_index(drop=True)[0])  \n",
    "        \n",
    "    # находим отношение для числовых признаков\n",
    "    num_df = pd.DataFrame()\n",
    "    for column in num_features:\n",
    "        num_df[column] = pd.Series(abs(1 - df.loc[df['track_id'] == id_1, column].reset_index(drop=True)[0] \n",
    "                                  / df.loc[df['track_id'] == id_2, column].reset_index(drop=True)[0]))\n",
    "    # для получения таргета и дистанции воспользуемся функцией\n",
    "    new_df = get_row_to_df_v1(df, \n",
    "                              id_1, \n",
    "                              id_2,\n",
    "                              dist,\n",
    "                              cat_features = cat_features,\n",
    "                              num_features = num_features,\n",
    "                              is_train=is_train)    \n",
    "    new_df = pd.concat([num_df ,cat_df, new_df], axis=1)\n",
    "    return new_df"
   ]
  },
  {
   "cell_type": "code",
   "execution_count": 73,
   "id": "1d3aee28",
   "metadata": {},
   "outputs": [
    {
     "name": "stderr",
     "output_type": "stream",
     "text": [
      "100%|██████████████████████████████████████████████████████████████████████████████| 2122/2122 [08:39<00:00,  4.08it/s]\n"
     ]
    }
   ],
   "source": [
    "df_cat_train, df_track_train = get_df(df_train, y_train_pred, dist_train_pred, get_row_to_df_v5, cat_features, num_features)"
   ]
  },
  {
   "cell_type": "markdown",
   "id": "76038f9b",
   "metadata": {},
   "source": [
    "Как всегда проверим, что получилось на выходе"
   ]
  },
  {
   "cell_type": "code",
   "execution_count": 74,
   "id": "b175638e",
   "metadata": {},
   "outputs": [
    {
     "data": {
      "text/html": [
       "<div>\n",
       "<style scoped>\n",
       "    .dataframe tbody tr th:only-of-type {\n",
       "        vertical-align: middle;\n",
       "    }\n",
       "\n",
       "    .dataframe tbody tr th {\n",
       "        vertical-align: top;\n",
       "    }\n",
       "\n",
       "    .dataframe thead th {\n",
       "        text-align: right;\n",
       "    }\n",
       "</style>\n",
       "<table border=\"1\" class=\"dataframe\">\n",
       "  <thead>\n",
       "    <tr style=\"text-align: right;\">\n",
       "      <th></th>\n",
       "      <th>duration</th>\n",
       "      <th>num_year</th>\n",
       "      <th>language</th>\n",
       "      <th>missing_text</th>\n",
       "      <th>missing_title</th>\n",
       "      <th>lemm_title</th>\n",
       "      <th>missing_isrc</th>\n",
       "      <th>cat_year_isrc</th>\n",
       "      <th>country_of_track</th>\n",
       "      <th>reg_code</th>\n",
       "      <th>...</th>\n",
       "      <th>genre_JAZZ_2</th>\n",
       "      <th>uncnown_genre_2</th>\n",
       "      <th>genre_other_2</th>\n",
       "      <th>genre_group_ROCK_2</th>\n",
       "      <th>genre_group_RAP_2</th>\n",
       "      <th>genre_group_POP_2</th>\n",
       "      <th>genre_group_FOLK_2</th>\n",
       "      <th>genre_group_RUS_2</th>\n",
       "      <th>dist</th>\n",
       "      <th>target</th>\n",
       "    </tr>\n",
       "  </thead>\n",
       "  <tbody>\n",
       "    <tr>\n",
       "      <th>0</th>\n",
       "      <td>0.041093</td>\n",
       "      <td>0.001487</td>\n",
       "      <td>False</td>\n",
       "      <td>True</td>\n",
       "      <td>True</td>\n",
       "      <td>False</td>\n",
       "      <td>True</td>\n",
       "      <td>False</td>\n",
       "      <td>False</td>\n",
       "      <td>False</td>\n",
       "      <td>...</td>\n",
       "      <td>0</td>\n",
       "      <td>0</td>\n",
       "      <td>0</td>\n",
       "      <td>0</td>\n",
       "      <td>0</td>\n",
       "      <td>0</td>\n",
       "      <td>0</td>\n",
       "      <td>0</td>\n",
       "      <td>1.000000</td>\n",
       "      <td>0</td>\n",
       "    </tr>\n",
       "    <tr>\n",
       "      <th>1</th>\n",
       "      <td>0.261876</td>\n",
       "      <td>0.000000</td>\n",
       "      <td>True</td>\n",
       "      <td>True</td>\n",
       "      <td>True</td>\n",
       "      <td>False</td>\n",
       "      <td>True</td>\n",
       "      <td>True</td>\n",
       "      <td>True</td>\n",
       "      <td>False</td>\n",
       "      <td>...</td>\n",
       "      <td>0</td>\n",
       "      <td>0</td>\n",
       "      <td>1</td>\n",
       "      <td>0</td>\n",
       "      <td>1</td>\n",
       "      <td>0</td>\n",
       "      <td>0</td>\n",
       "      <td>1</td>\n",
       "      <td>1.567508</td>\n",
       "      <td>0</td>\n",
       "    </tr>\n",
       "    <tr>\n",
       "      <th>2</th>\n",
       "      <td>0.055114</td>\n",
       "      <td>0.003974</td>\n",
       "      <td>False</td>\n",
       "      <td>True</td>\n",
       "      <td>True</td>\n",
       "      <td>False</td>\n",
       "      <td>True</td>\n",
       "      <td>False</td>\n",
       "      <td>False</td>\n",
       "      <td>False</td>\n",
       "      <td>...</td>\n",
       "      <td>0</td>\n",
       "      <td>0</td>\n",
       "      <td>1</td>\n",
       "      <td>0</td>\n",
       "      <td>0</td>\n",
       "      <td>0</td>\n",
       "      <td>0</td>\n",
       "      <td>0</td>\n",
       "      <td>1.592648</td>\n",
       "      <td>0</td>\n",
       "    </tr>\n",
       "    <tr>\n",
       "      <th>3</th>\n",
       "      <td>0.036712</td>\n",
       "      <td>0.000989</td>\n",
       "      <td>True</td>\n",
       "      <td>True</td>\n",
       "      <td>True</td>\n",
       "      <td>False</td>\n",
       "      <td>True</td>\n",
       "      <td>False</td>\n",
       "      <td>False</td>\n",
       "      <td>False</td>\n",
       "      <td>...</td>\n",
       "      <td>0</td>\n",
       "      <td>0</td>\n",
       "      <td>1</td>\n",
       "      <td>0</td>\n",
       "      <td>1</td>\n",
       "      <td>0</td>\n",
       "      <td>0</td>\n",
       "      <td>1</td>\n",
       "      <td>1.598002</td>\n",
       "      <td>0</td>\n",
       "    </tr>\n",
       "    <tr>\n",
       "      <th>4</th>\n",
       "      <td>0.096514</td>\n",
       "      <td>0.000495</td>\n",
       "      <td>True</td>\n",
       "      <td>True</td>\n",
       "      <td>True</td>\n",
       "      <td>False</td>\n",
       "      <td>True</td>\n",
       "      <td>False</td>\n",
       "      <td>True</td>\n",
       "      <td>True</td>\n",
       "      <td>...</td>\n",
       "      <td>0</td>\n",
       "      <td>0</td>\n",
       "      <td>0</td>\n",
       "      <td>0</td>\n",
       "      <td>0</td>\n",
       "      <td>1</td>\n",
       "      <td>0</td>\n",
       "      <td>1</td>\n",
       "      <td>1.651370</td>\n",
       "      <td>0</td>\n",
       "    </tr>\n",
       "  </tbody>\n",
       "</table>\n",
       "<p>5 rows × 98 columns</p>\n",
       "</div>"
      ],
      "text/plain": [
       "   duration  num_year  language  missing_text  missing_title  lemm_title  \\\n",
       "0  0.041093  0.001487     False          True           True       False   \n",
       "1  0.261876  0.000000      True          True           True       False   \n",
       "2  0.055114  0.003974     False          True           True       False   \n",
       "3  0.036712  0.000989      True          True           True       False   \n",
       "4  0.096514  0.000495      True          True           True       False   \n",
       "\n",
       "   missing_isrc  cat_year_isrc  country_of_track  reg_code  ...  genre_JAZZ_2  \\\n",
       "0          True          False             False     False  ...             0   \n",
       "1          True           True              True     False  ...             0   \n",
       "2          True          False             False     False  ...             0   \n",
       "3          True          False             False     False  ...             0   \n",
       "4          True          False              True      True  ...             0   \n",
       "\n",
       "   uncnown_genre_2  genre_other_2  genre_group_ROCK_2  genre_group_RAP_2  \\\n",
       "0                0              0                   0                  0   \n",
       "1                0              1                   0                  1   \n",
       "2                0              1                   0                  0   \n",
       "3                0              1                   0                  1   \n",
       "4                0              0                   0                  0   \n",
       "\n",
       "   genre_group_POP_2  genre_group_FOLK_2  genre_group_RUS_2      dist  target  \n",
       "0                  0                   0                  0  1.000000       0  \n",
       "1                  0                   0                  1  1.567508       0  \n",
       "2                  0                   0                  0  1.592648       0  \n",
       "3                  0                   0                  1  1.598002       0  \n",
       "4                  1                   0                  1  1.651370       0  \n",
       "\n",
       "[5 rows x 98 columns]"
      ]
     },
     "execution_count": 74,
     "metadata": {},
     "output_type": "execute_result"
    }
   ],
   "source": [
    "df_cat_train.head()"
   ]
  },
  {
   "cell_type": "code",
   "execution_count": 75,
   "id": "df66eb0f",
   "metadata": {},
   "outputs": [
    {
     "data": {
      "text/plain": [
       "0.05399219065571563"
      ]
     },
     "execution_count": 75,
     "metadata": {},
     "output_type": "execute_result"
    }
   ],
   "source": [
    "df_cat_train['target'].mean()"
   ]
  },
  {
   "cell_type": "markdown",
   "id": "1a49019b",
   "metadata": {},
   "source": [
    "Получим новые варианты категориальных и числовых столбцов"
   ]
  },
  {
   "cell_type": "code",
   "execution_count": 76,
   "id": "f7c67839",
   "metadata": {},
   "outputs": [],
   "source": [
    "new_cat_features, new_num_features = get_features_list(df_cat_train, cat_features, num_features)"
   ]
  },
  {
   "cell_type": "markdown",
   "id": "88f82de8",
   "metadata": {},
   "source": [
    "Обучим модель и проверим качество"
   ]
  },
  {
   "cell_type": "code",
   "execution_count": 77,
   "id": "cc0238ef",
   "metadata": {},
   "outputs": [],
   "source": [
    "X_train = df_cat_train.drop('target', axis=1)\n",
    "y_train = df_cat_train['target']\n",
    "\n",
    "skf = StratifiedKFold(n_splits=4)\n",
    "folds = skf.split(X_train, y_train)\n",
    "\n",
    "classes = np.unique(y_train)\n",
    "weights = compute_class_weight(class_weight='balanced', classes=classes, y=y_train)\n",
    "class_weights = dict(zip(classes, weights))\n",
    "\n",
    "cat_model = CatBoostClassifier(random_state=RANDOM_STATE, \n",
    "                               cat_features=new_cat_features,\n",
    "                               verbose=False,\n",
    "                               class_weights=class_weights)"
   ]
  },
  {
   "cell_type": "code",
   "execution_count": 78,
   "id": "9b743a14",
   "metadata": {},
   "outputs": [
    {
     "name": "stdout",
     "output_type": "stream",
     "text": [
      "Метрика f1 на кроссвалидации [0.30889236 0.94430993 0.68167203 0.76646707]\n",
      "Среднее значение f1 на всём датасете 0.6753353436616847\n",
      "CPU times: total: 12min 18s\n",
      "Wall time: 1min 37s\n"
     ]
    }
   ],
   "source": [
    "%%time\n",
    "cvs = cross_val_score(cat_model, X_train, y_train, cv=folds, scoring='f1')\n",
    "print(f'Метрика f1 на кроссвалидации {cvs}')\n",
    "print(f'Среднее значение f1 на всём датасете {mean(cvs)}')"
   ]
  },
  {
   "cell_type": "markdown",
   "id": "85dad3ae",
   "metadata": {},
   "source": [
    "Модель оказалась лучше 1 и 3 модели, но устапает вкачестве 2 и 4."
   ]
  },
  {
   "cell_type": "markdown",
   "id": "9f26b4bb",
   "metadata": {},
   "source": [
    "### DummyClassifier"
   ]
  },
  {
   "cell_type": "markdown",
   "id": "fa04f4f3",
   "metadata": {},
   "source": [
    "Создадим DummyClassifier, чтобы было с чем сравнивать наши модели"
   ]
  },
  {
   "cell_type": "code",
   "execution_count": 79,
   "id": "6dc5e833",
   "metadata": {},
   "outputs": [],
   "source": [
    "dummy_model = DummyClassifier(strategy='constant', constant=1)\n",
    "skf = StratifiedKFold(n_splits=4)\n",
    "folds = skf.split(X_train, y_train)"
   ]
  },
  {
   "cell_type": "code",
   "execution_count": 80,
   "id": "2474f095",
   "metadata": {},
   "outputs": [
    {
     "name": "stdout",
     "output_type": "stream",
     "text": [
      "Метрика f1 на кроссвалидации [0.10268199 0.10268199 0.10222336 0.10222336]\n",
      "Среднее значение f1 на всём датасете 0.10245267518723815\n",
      "CPU times: total: 31.2 ms\n",
      "Wall time: 25.8 ms\n"
     ]
    }
   ],
   "source": [
    "%%time\n",
    "cvs = cross_val_score(dummy_model, X_train, y_train, cv=folds, scoring='f1')\n",
    "print(f'Метрика f1 на кроссвалидации {cvs}')\n",
    "print(f'Среднее значение f1 на всём датасете {mean(cvs)}')"
   ]
  },
  {
   "cell_type": "markdown",
   "id": "6817ac3d",
   "metadata": {},
   "source": [
    "Качество dummy модели оказалось ниже, чем у прочих"
   ]
  },
  {
   "cell_type": "markdown",
   "id": "9f362855",
   "metadata": {},
   "source": [
    "### Выбор лучшей модели, повторное её обучение, рабта с признаками."
   ]
  },
  {
   "cell_type": "markdown",
   "id": "8a2793e5",
   "metadata": {},
   "source": [
    "Сведём полученные результаты в единый датасет и отсортируем его: чтобы не писать названия моделей целиком будем их обозначать номерами в соответствии со следующей схемой:\n",
    "\n",
    "1. модель 1: Сделаны столбцы для обучения для каждого образца и добавления растояния между образцами;\n",
    "2. модель 2: Сделаны столбцы проверки на равнество для категориальных признаков, а для  количественных как в первом варианте;\n",
    "3. модель 3: Сделаны столбцы отношение для количественных признаков, а остальное как в первом варианте;\n",
    "4. модель 4: Объединение 2 и 3 варианта;\n",
    "5. модель 5: Объединение первых 3 вариантов.\n",
    "6. Dummy модель: DummyClassifier"
   ]
  },
  {
   "cell_type": "code",
   "execution_count": 81,
   "id": "dbf9f7f5",
   "metadata": {},
   "outputs": [
    {
     "data": {
      "text/html": [
       "<div>\n",
       "<style scoped>\n",
       "    .dataframe tbody tr th:only-of-type {\n",
       "        vertical-align: middle;\n",
       "    }\n",
       "\n",
       "    .dataframe tbody tr th {\n",
       "        vertical-align: top;\n",
       "    }\n",
       "\n",
       "    .dataframe thead th {\n",
       "        text-align: right;\n",
       "    }\n",
       "</style>\n",
       "<table border=\"1\" class=\"dataframe\">\n",
       "  <thead>\n",
       "    <tr style=\"text-align: right;\">\n",
       "      <th></th>\n",
       "      <th>models</th>\n",
       "      <th>f1</th>\n",
       "    </tr>\n",
       "  </thead>\n",
       "  <tbody>\n",
       "    <tr>\n",
       "      <th>1</th>\n",
       "      <td>модель 2</td>\n",
       "      <td>0.8885</td>\n",
       "    </tr>\n",
       "    <tr>\n",
       "      <th>3</th>\n",
       "      <td>модель 4</td>\n",
       "      <td>0.8807</td>\n",
       "    </tr>\n",
       "    <tr>\n",
       "      <th>4</th>\n",
       "      <td>модель 5</td>\n",
       "      <td>0.6753</td>\n",
       "    </tr>\n",
       "    <tr>\n",
       "      <th>0</th>\n",
       "      <td>модель 1</td>\n",
       "      <td>0.5308</td>\n",
       "    </tr>\n",
       "    <tr>\n",
       "      <th>2</th>\n",
       "      <td>модель 3</td>\n",
       "      <td>0.4976</td>\n",
       "    </tr>\n",
       "    <tr>\n",
       "      <th>5</th>\n",
       "      <td>Dummy модель</td>\n",
       "      <td>0.1025</td>\n",
       "    </tr>\n",
       "  </tbody>\n",
       "</table>\n",
       "</div>"
      ],
      "text/plain": [
       "         models      f1\n",
       "1      модель 2  0.8885\n",
       "3      модель 4  0.8807\n",
       "4      модель 5  0.6753\n",
       "0      модель 1  0.5308\n",
       "2      модель 3  0.4976\n",
       "5  Dummy модель  0.1025"
      ]
     },
     "execution_count": 81,
     "metadata": {},
     "output_type": "execute_result"
    }
   ],
   "source": [
    "df_res = pd.DataFrame({'models': ['модель 1', 'модель 2', 'модель 3', 'модель 4', 'модель 5', 'Dummy модель'],\n",
    "                       'f1': [0.5308, 0.8885, 0.4976, 0.8807, 0.6753, 0.1025]})\n",
    "df_res.sort_values('f1', ascending=False)"
   ]
  },
  {
   "cell_type": "markdown",
   "id": "146e2f9c",
   "metadata": {},
   "source": [
    "Все модели значительно превосходят Dummy модель, при этом лучше всего себя показала 2 модель и в дальнейшем мы будем работать именно с ней. Обучим её заново."
   ]
  },
  {
   "cell_type": "code",
   "execution_count": 82,
   "id": "e1c330a8",
   "metadata": {},
   "outputs": [
    {
     "name": "stderr",
     "output_type": "stream",
     "text": [
      "100%|██████████████████████████████████████████████████████████████████████████████| 2122/2122 [07:34<00:00,  4.67it/s]\n"
     ]
    }
   ],
   "source": [
    "df_cat_train, df_track_train = get_df(df_train, y_train_pred, dist_train_pred, get_row_to_df_v2, cat_features, num_features)"
   ]
  },
  {
   "cell_type": "code",
   "execution_count": 83,
   "id": "de60851d",
   "metadata": {},
   "outputs": [
    {
     "data": {
      "text/plain": [
       "<catboost.core.CatBoostClassifier at 0x21518b0dbd0>"
      ]
     },
     "execution_count": 83,
     "metadata": {},
     "output_type": "execute_result"
    }
   ],
   "source": [
    "X_train = df_cat_train.drop('target', axis=1)\n",
    "y_train = df_cat_train['target']\n",
    "\n",
    "cat_model = CatBoostClassifier(random_state=RANDOM_STATE, \n",
    "                               cat_features=cat_features,\n",
    "                               verbose=False,\n",
    "                               class_weights=class_weights)\n",
    "\n",
    "cat_model.fit(X_train, y_train)"
   ]
  },
  {
   "cell_type": "markdown",
   "id": "09f5363c",
   "metadata": {},
   "source": [
    "#### Feature importances"
   ]
  },
  {
   "cell_type": "markdown",
   "id": "0c77fc0c",
   "metadata": {},
   "source": [
    "Проведём анализ признаков лучшей моделей."
   ]
  },
  {
   "cell_type": "code",
   "execution_count": 84,
   "id": "a4e38e80",
   "metadata": {},
   "outputs": [],
   "source": [
    "df_importances = (pd.DataFrame({'name_feature': cat_model.feature_names_,\n",
    "                                'importances': cat_model.feature_importances_})\n",
    "                     .sort_values('importances', ascending=False)\n",
    "                     .reset_index(drop=True))"
   ]
  },
  {
   "cell_type": "markdown",
   "id": "d8fe1d55",
   "metadata": {},
   "source": [
    "Посмотрим на спписок топ 10 важных фичей."
   ]
  },
  {
   "cell_type": "code",
   "execution_count": 85,
   "id": "e7967a73",
   "metadata": {},
   "outputs": [
    {
     "data": {
      "text/html": [
       "<div>\n",
       "<style scoped>\n",
       "    .dataframe tbody tr th:only-of-type {\n",
       "        vertical-align: middle;\n",
       "    }\n",
       "\n",
       "    .dataframe tbody tr th {\n",
       "        vertical-align: top;\n",
       "    }\n",
       "\n",
       "    .dataframe thead th {\n",
       "        text-align: right;\n",
       "    }\n",
       "</style>\n",
       "<table border=\"1\" class=\"dataframe\">\n",
       "  <thead>\n",
       "    <tr style=\"text-align: right;\">\n",
       "      <th></th>\n",
       "      <th>name_feature</th>\n",
       "      <th>importances</th>\n",
       "    </tr>\n",
       "  </thead>\n",
       "  <tbody>\n",
       "    <tr>\n",
       "      <th>0</th>\n",
       "      <td>dist</td>\n",
       "      <td>25.402862</td>\n",
       "    </tr>\n",
       "    <tr>\n",
       "      <th>1</th>\n",
       "      <td>lemm_title</td>\n",
       "      <td>16.119270</td>\n",
       "    </tr>\n",
       "    <tr>\n",
       "      <th>2</th>\n",
       "      <td>duration_2</td>\n",
       "      <td>8.409560</td>\n",
       "    </tr>\n",
       "    <tr>\n",
       "      <th>3</th>\n",
       "      <td>genre_group_RUS</td>\n",
       "      <td>7.597560</td>\n",
       "    </tr>\n",
       "    <tr>\n",
       "      <th>4</th>\n",
       "      <td>num_year_1</td>\n",
       "      <td>6.745916</td>\n",
       "    </tr>\n",
       "    <tr>\n",
       "      <th>5</th>\n",
       "      <td>duration_1</td>\n",
       "      <td>6.469243</td>\n",
       "    </tr>\n",
       "    <tr>\n",
       "      <th>6</th>\n",
       "      <td>num_year_2</td>\n",
       "      <td>4.803071</td>\n",
       "    </tr>\n",
       "    <tr>\n",
       "      <th>7</th>\n",
       "      <td>genre_other</td>\n",
       "      <td>2.879364</td>\n",
       "    </tr>\n",
       "    <tr>\n",
       "      <th>8</th>\n",
       "      <td>genre_RUSPOP</td>\n",
       "      <td>2.348190</td>\n",
       "    </tr>\n",
       "    <tr>\n",
       "      <th>9</th>\n",
       "      <td>genre_RAP</td>\n",
       "      <td>2.344431</td>\n",
       "    </tr>\n",
       "  </tbody>\n",
       "</table>\n",
       "</div>"
      ],
      "text/plain": [
       "      name_feature  importances\n",
       "0             dist    25.402862\n",
       "1       lemm_title    16.119270\n",
       "2       duration_2     8.409560\n",
       "3  genre_group_RUS     7.597560\n",
       "4       num_year_1     6.745916\n",
       "5       duration_1     6.469243\n",
       "6       num_year_2     4.803071\n",
       "7      genre_other     2.879364\n",
       "8     genre_RUSPOP     2.348190\n",
       "9        genre_RAP     2.344431"
      ]
     },
     "execution_count": 85,
     "metadata": {},
     "output_type": "execute_result"
    }
   ],
   "source": [
    "df_importances.head(10)"
   ]
  },
  {
   "cell_type": "markdown",
   "id": "487e5305",
   "metadata": {},
   "source": [
    "Для наглядности построим диаграмму."
   ]
  },
  {
   "cell_type": "code",
   "execution_count": 86,
   "id": "9aecf696",
   "metadata": {},
   "outputs": [
    {
     "data": {
      "image/png": "[encoded data removed]",
      "text/plain": [
       "<Figure size 800x800 with 1 Axes>"
      ]
     },
     "metadata": {},
     "output_type": "display_data"
    }
   ],
   "source": [
    "df_importances = df_importances.sort_values('importances')\n",
    "plt.figure(figsize=(8, 8))\n",
    "plt.barh(df_importances['name_feature'], df_importances['importances'])\n",
    "plt.title('Feature importances')\n",
    "plt.grid(axis = 'x')\n",
    "plt.show()"
   ]
  },
  {
   "cell_type": "markdown",
   "id": "62783450",
   "metadata": {},
   "source": [
    "Сильнее всего на выбор модели влияет векторное расстояние между текстами, совпадение заголовков, длительности первого и второго трека, относится ли данный трек к жанру RUS и числовой год. При этом есть признаки, которые совсем не влияют на решение данной задачи. Вероятнее всего, это связано с тем, что в этих признаках нет информации, в частности, мы рассматриваем только треки с текстом и ряд треков автоматически отваливаются, поскольку там, как правило, нет слов (например классическая музыка), а также столбцы, отвечающие за данные параметры (отсутствующий текст, отсутствующий заголовок)."
   ]
  },
  {
   "cell_type": "markdown",
   "id": "bc3b825a",
   "metadata": {},
   "source": [
    "#### Выбор признаков"
   ]
  },
  {
   "cell_type": "markdown",
   "id": "74e6eaf1",
   "metadata": {},
   "source": [
    "У нас очень много признаков, проверрим какие влияют на качество модели, а какие можно отсеять. Для этого напишем функцию, которая будет перебирать признаки, убирать их по одному и смотреть на качество модели. Если качество модели не изменилось или стало лучше, то данный признак можно удалить."
   ]
  },
  {
   "cell_type": "markdown",
   "id": "14bc0c9e",
   "metadata": {},
   "source": [
    "Для удобства напишем функцию, которая будет возвращать среднее значение метрики кэтбуста на кросс валидации"
   ]
  },
  {
   "cell_type": "code",
   "execution_count": 87,
   "id": "910fc0ab",
   "metadata": {},
   "outputs": [],
   "source": [
    "def get_score_cross_val(X: pd.DataFrame, \n",
    "                        y: pd.Series,\n",
    "                        cat_features: List,\n",
    "                        random_state: int = 54321) -> float:\n",
    "    skf = StratifiedKFold(n_splits=4)\n",
    "    folds = skf.split(X, y)\n",
    "\n",
    "    classes = np.unique(y)\n",
    "    weights = compute_class_weight(class_weight='balanced', classes=classes, y=y)\n",
    "    class_weights = dict(zip(classes, weights))\n",
    "\n",
    "    cat_model = CatBoostClassifier(random_state=random_state, \n",
    "                                   cat_features=cat_features,\n",
    "                                   verbose=False,\n",
    "                                   class_weights=class_weights)\n",
    "\n",
    "    cvs = cross_val_score(cat_model, X, y, cv=folds, scoring='f1')\n",
    "    return mean(cvs)"
   ]
  },
  {
   "cell_type": "code",
   "execution_count": 88,
   "id": "adab4650",
   "metadata": {},
   "outputs": [],
   "source": [
    "def get_best_features(X: pd.DataFrame, \n",
    "                      y: pd.Series,\n",
    "                      cat_features: List,\n",
    "                      random_state: int = 54321) -> List['str']:\n",
    "    drop_list = []\n",
    "    is_cat_features = False\n",
    "    cat_features = copy.deepcopy(cat_features)\n",
    "    top_score = get_score_cross_val(X, y, cat_features, random_state) #получаем скор на всём датасете\n",
    "    \n",
    "    # поочерёдно удаляем столбцы\n",
    "    for col in tqdm(X.columns):\n",
    "        drop_list.append(col)\n",
    "        if col in cat_features:\n",
    "            cat_features.remove(col)\n",
    "            is_cat_features = True\n",
    "        X_new = X.copy(deep=True)\n",
    "        X_new = X_new.drop(drop_list, axis=1)\n",
    "        new_score = get_score_cross_val(X_new, y, cat_features, random_state)\n",
    "        if top_score > new_score:\n",
    "            drop_list.remove(col) # если скор упал, то удаляем столбец из дропа\n",
    "            if is_cat_features:\n",
    "                cat_features.append(col)\n",
    "                is_cat_features = False\n",
    "        else:\n",
    "            top_score = new_score # если скор стал лучше, то заменяем его\n",
    "            \n",
    "    return drop_list"
   ]
  },
  {
   "cell_type": "code",
   "execution_count": 89,
   "id": "e612e783",
   "metadata": {},
   "outputs": [
    {
     "name": "stderr",
     "output_type": "stream",
     "text": [
      "100%|██████████████████████████████████████████████████████████████████████████████████| 35/35 [17:44<00:00, 30.42s/it]\n"
     ]
    }
   ],
   "source": [
    "drop_columns = get_best_features(X_train, y_train, cat_features, RANDOM_STATE)"
   ]
  },
  {
   "cell_type": "markdown",
   "id": "3b40b9d2",
   "metadata": {},
   "source": [
    "Выведем получившийся список"
   ]
  },
  {
   "cell_type": "code",
   "execution_count": 90,
   "id": "c55881b7",
   "metadata": {},
   "outputs": [
    {
     "data": {
      "text/plain": [
       "['language',\n",
       " 'missing_text',\n",
       " 'missing_title',\n",
       " 'genre_RAP',\n",
       " 'genre_CLASSICALMUSIC',\n",
       " 'genre_SPIRITUAL',\n",
       " 'uncnown_genre']"
      ]
     },
     "execution_count": 90,
     "metadata": {},
     "output_type": "execute_result"
    }
   ],
   "source": [
    "drop_columns"
   ]
  },
  {
   "cell_type": "markdown",
   "id": "2e8feb97",
   "metadata": {},
   "source": [
    "Помимо оговоренных ранее жанров сюда так же попал и язык. Вероятнее всего это связано с тем, что у нас был код страны, вытянутый из isrc. Данные признаки должны сильно коррелировать и удаление одного из них могло пойти на пользу модели. Удалим данные столбцы и повторно проверим качество модели"
   ]
  },
  {
   "cell_type": "code",
   "execution_count": 91,
   "id": "a7d720e8",
   "metadata": {},
   "outputs": [],
   "source": [
    "X_train = X_train.drop(drop_columns, axis=1)\n",
    "for col in drop_columns:\n",
    "    if col in cat_features:\n",
    "        cat_features.remove(col)"
   ]
  },
  {
   "cell_type": "code",
   "execution_count": 92,
   "id": "971d8479",
   "metadata": {},
   "outputs": [
    {
     "data": {
      "text/plain": [
       "0.8962712295210551"
      ]
     },
     "execution_count": 92,
     "metadata": {},
     "output_type": "execute_result"
    }
   ],
   "source": [
    "get_score_cross_val(X_train, y_train, cat_features, RANDOM_STATE)"
   ]
  },
  {
   "cell_type": "markdown",
   "id": "fd235f87",
   "metadata": {},
   "source": [
    "Качество модели немного улучшилось. Сохраним полученный список для удаления."
   ]
  },
  {
   "cell_type": "code",
   "execution_count": 93,
   "id": "f45c85eb",
   "metadata": {},
   "outputs": [],
   "source": [
    "with open(PATH_TO_SAVE_COLUMNS_TO_DROP, \"wb\") as file:\n",
    "    pickle.dump(drop_columns, file)"
   ]
  },
  {
   "cell_type": "markdown",
   "id": "7d116e5c",
   "metadata": {},
   "source": [
    "### Подбор гиперпараметров модели"
   ]
  },
  {
   "cell_type": "markdown",
   "id": "6d1fbe9f",
   "metadata": {},
   "source": [
    "Подберём гиперпараметры модели на GridSerchCV."
   ]
  },
  {
   "cell_type": "code",
   "execution_count": 94,
   "id": "21b1b4af",
   "metadata": {},
   "outputs": [],
   "source": [
    "classes = np.unique(y_train)\n",
    "weights = compute_class_weight(class_weight='balanced', classes=classes, y=y_train)\n",
    "class_weights = dict(zip(classes, weights))\n",
    "\n",
    "cat_model = CatBoostClassifier(random_state=RANDOM_STATE, \n",
    "                               cat_features=cat_features,\n",
    "                               verbose=False,\n",
    "                               class_weights=class_weights)"
   ]
  },
  {
   "cell_type": "code",
   "execution_count": 95,
   "id": "942f0a66",
   "metadata": {},
   "outputs": [],
   "source": [
    "skf = StratifiedKFold(n_splits=4)\n",
    "folds = skf.split(X_train, y_train)"
   ]
  },
  {
   "cell_type": "code",
   "execution_count": 96,
   "id": "3eff2f46",
   "metadata": {},
   "outputs": [],
   "source": [
    "cat_params = {'max_depth': [1, 5, 10],\n",
    "             'n_estimators': range(200, 1400, 200),\n",
    "             'learning_rate': [0.01, 0.03, 0.1, 0.5]}"
   ]
  },
  {
   "cell_type": "code",
   "execution_count": 97,
   "id": "8b2ca5d4",
   "metadata": {},
   "outputs": [
    {
     "name": "stdout",
     "output_type": "stream",
     "text": [
      "CPU times: total: 2min 41s\n",
      "Wall time: 17min 4s\n"
     ]
    },
    {
     "data": {
      "text/html": [
       "<style>#sk-container-id-1 {color: black;background-color: white;}#sk-container-id-1 pre{padding: 0;}#sk-container-id-1 div.sk-toggleable {background-color: white;}#sk-container-id-1 label.sk-toggleable__label {cursor: pointer;display: block;width: 100%;margin-bottom: 0;padding: 0.3em;box-sizing: border-box;text-align: center;}#sk-container-id-1 label.sk-toggleable__label-arrow:before {content: \"▸\";float: left;margin-right: 0.25em;color: #696969;}#sk-container-id-1 label.sk-toggleable__label-arrow:hover:before {color: black;}#sk-container-id-1 div.sk-estimator:hover label.sk-toggleable__label-arrow:before {color: black;}#sk-container-id-1 div.sk-toggleable__content {max-height: 0;max-width: 0;overflow: hidden;text-align: left;background-color: #f0f8ff;}#sk-container-id-1 div.sk-toggleable__content pre {margin: 0.2em;color: black;border-radius: 0.25em;background-color: #f0f8ff;}#sk-container-id-1 input.sk-toggleable__control:checked~div.sk-toggleable__content {max-height: 200px;max-width: 100%;overflow: auto;}#sk-container-id-1 input.sk-toggleable__control:checked~label.sk-toggleable__label-arrow:before {content: \"▾\";}#sk-container-id-1 div.sk-estimator input.sk-toggleable__control:checked~label.sk-toggleable__label {background-color: #d4ebff;}#sk-container-id-1 div.sk-label input.sk-toggleable__control:checked~label.sk-toggleable__label {background-color: #d4ebff;}#sk-container-id-1 input.sk-hidden--visually {border: 0;clip: rect(1px 1px 1px 1px);clip: rect(1px, 1px, 1px, 1px);height: 1px;margin: -1px;overflow: hidden;padding: 0;position: absolute;width: 1px;}#sk-container-id-1 div.sk-estimator {font-family: monospace;background-color: #f0f8ff;border: 1px dotted black;border-radius: 0.25em;box-sizing: border-box;margin-bottom: 0.5em;}#sk-container-id-1 div.sk-estimator:hover {background-color: #d4ebff;}#sk-container-id-1 div.sk-parallel-item::after {content: \"\";width: 100%;border-bottom: 1px solid gray;flex-grow: 1;}#sk-container-id-1 div.sk-label:hover label.sk-toggleable__label {background-color: #d4ebff;}#sk-container-id-1 div.sk-serial::before {content: \"\";position: absolute;border-left: 1px solid gray;box-sizing: border-box;top: 0;bottom: 0;left: 50%;z-index: 0;}#sk-container-id-1 div.sk-serial {display: flex;flex-direction: column;align-items: center;background-color: white;padding-right: 0.2em;padding-left: 0.2em;position: relative;}#sk-container-id-1 div.sk-item {position: relative;z-index: 1;}#sk-container-id-1 div.sk-parallel {display: flex;align-items: stretch;justify-content: center;background-color: white;position: relative;}#sk-container-id-1 div.sk-item::before, #sk-container-id-1 div.sk-parallel-item::before {content: \"\";position: absolute;border-left: 1px solid gray;box-sizing: border-box;top: 0;bottom: 0;left: 50%;z-index: -1;}#sk-container-id-1 div.sk-parallel-item {display: flex;flex-direction: column;z-index: 1;position: relative;background-color: white;}#sk-container-id-1 div.sk-parallel-item:first-child::after {align-self: flex-end;width: 50%;}#sk-container-id-1 div.sk-parallel-item:last-child::after {align-self: flex-start;width: 50%;}#sk-container-id-1 div.sk-parallel-item:only-child::after {width: 0;}#sk-container-id-1 div.sk-dashed-wrapped {border: 1px dashed gray;margin: 0 0.4em 0.5em 0.4em;box-sizing: border-box;padding-bottom: 0.4em;background-color: white;}#sk-container-id-1 div.sk-label label {font-family: monospace;font-weight: bold;display: inline-block;line-height: 1.2em;}#sk-container-id-1 div.sk-label-container {text-align: center;}#sk-container-id-1 div.sk-container {/* jupyter's `normalize.less` sets `[hidden] { display: none; }` but bootstrap.min.css set `[hidden] { display: none !important; }` so we also need the `!important` here to be able to override the default hidden behavior on the sphinx rendered scikit-learn.org. See: https://github.com/scikit-learn/scikit-learn/issues/21755 */display: inline-block !important;position: relative;}#sk-container-id-1 div.sk-text-repr-fallback {display: none;}</style><div id=\"sk-container-id-1\" class=\"sk-top-container\"><div class=\"sk-text-repr-fallback\"><pre>GridSearchCV(cv=&lt;generator object _BaseKFold.split at 0x00000214E54A2E30&gt;,\n",
       "             estimator=&lt;catboost.core.CatBoostClassifier object at 0x00000214E3588D00&gt;,\n",
       "             n_jobs=-1,\n",
       "             param_grid={&#x27;learning_rate&#x27;: [0.01, 0.03, 0.1, 0.5],\n",
       "                         &#x27;max_depth&#x27;: [1, 5, 10],\n",
       "                         &#x27;n_estimators&#x27;: range(200, 1400, 200)},\n",
       "             scoring=&#x27;f1&#x27;, verbose=False)</pre><b>In a Jupyter environment, please rerun this cell to show the HTML representation or trust the notebook. <br />On GitHub, the HTML representation is unable to render, please try loading this page with nbviewer.org.</b></div><div class=\"sk-container\" hidden><div class=\"sk-item sk-dashed-wrapped\"><div class=\"sk-label-container\"><div class=\"sk-label sk-toggleable\"><input class=\"sk-toggleable__control sk-hidden--visually\" id=\"sk-estimator-id-1\" type=\"checkbox\" ><label for=\"sk-estimator-id-1\" class=\"sk-toggleable__label sk-toggleable__label-arrow\">GridSearchCV</label><div class=\"sk-toggleable__content\"><pre>GridSearchCV(cv=&lt;generator object _BaseKFold.split at 0x00000214E54A2E30&gt;,\n",
       "             estimator=&lt;catboost.core.CatBoostClassifier object at 0x00000214E3588D00&gt;,\n",
       "             n_jobs=-1,\n",
       "             param_grid={&#x27;learning_rate&#x27;: [0.01, 0.03, 0.1, 0.5],\n",
       "                         &#x27;max_depth&#x27;: [1, 5, 10],\n",
       "                         &#x27;n_estimators&#x27;: range(200, 1400, 200)},\n",
       "             scoring=&#x27;f1&#x27;, verbose=False)</pre></div></div></div><div class=\"sk-parallel\"><div class=\"sk-parallel-item\"><div class=\"sk-item\"><div class=\"sk-label-container\"><div class=\"sk-label sk-toggleable\"><input class=\"sk-toggleable__control sk-hidden--visually\" id=\"sk-estimator-id-2\" type=\"checkbox\" ><label for=\"sk-estimator-id-2\" class=\"sk-toggleable__label sk-toggleable__label-arrow\">estimator: CatBoostClassifier</label><div class=\"sk-toggleable__content\"><pre>&lt;catboost.core.CatBoostClassifier object at 0x00000214E3588D00&gt;</pre></div></div></div><div class=\"sk-serial\"><div class=\"sk-item\"><div class=\"sk-estimator sk-toggleable\"><input class=\"sk-toggleable__control sk-hidden--visually\" id=\"sk-estimator-id-3\" type=\"checkbox\" ><label for=\"sk-estimator-id-3\" class=\"sk-toggleable__label sk-toggleable__label-arrow\">CatBoostClassifier</label><div class=\"sk-toggleable__content\"><pre>&lt;catboost.core.CatBoostClassifier object at 0x00000214E3588D00&gt;</pre></div></div></div></div></div></div></div></div></div></div>"
      ],
      "text/plain": [
       "GridSearchCV(cv=<generator object _BaseKFold.split at 0x00000214E54A2E30>,\n",
       "             estimator=<catboost.core.CatBoostClassifier object at 0x00000214E3588D00>,\n",
       "             n_jobs=-1,\n",
       "             param_grid={'learning_rate': [0.01, 0.03, 0.1, 0.5],\n",
       "                         'max_depth': [1, 5, 10],\n",
       "                         'n_estimators': range(200, 1400, 200)},\n",
       "             scoring='f1', verbose=False)"
      ]
     },
     "execution_count": 97,
     "metadata": {},
     "output_type": "execute_result"
    }
   ],
   "source": [
    "%%time\n",
    "grid_search = GridSearchCV(cat_model,\n",
    "                           cat_params,\n",
    "                           cv=folds,\n",
    "                           n_jobs=-1,\n",
    "                           scoring='f1',\n",
    "                           verbose=False)\n",
    "\n",
    "grid_search.fit(X_train, y_train)"
   ]
  },
  {
   "cell_type": "markdown",
   "id": "c443721d",
   "metadata": {},
   "source": [
    "Посмотрим получившиеся параметры и метрику"
   ]
  },
  {
   "cell_type": "code",
   "execution_count": 98,
   "id": "92c0a741",
   "metadata": {},
   "outputs": [
    {
     "data": {
      "text/plain": [
       "{'learning_rate': 0.01, 'max_depth': 10, 'n_estimators': 1200}"
      ]
     },
     "execution_count": 98,
     "metadata": {},
     "output_type": "execute_result"
    }
   ],
   "source": [
    "grid_search.best_params_"
   ]
  },
  {
   "cell_type": "code",
   "execution_count": 99,
   "id": "abd9e600",
   "metadata": {},
   "outputs": [
    {
     "data": {
      "text/plain": [
       "0.9021880764410535"
      ]
     },
     "execution_count": 99,
     "metadata": {},
     "output_type": "execute_result"
    }
   ],
   "source": [
    "grid_search.best_score_"
   ]
  },
  {
   "cell_type": "markdown",
   "id": "05fdf7e5",
   "metadata": {},
   "source": [
    "Проеведём поиск на более мелкой сетке"
   ]
  },
  {
   "cell_type": "code",
   "execution_count": 100,
   "id": "58c8b4aa",
   "metadata": {},
   "outputs": [],
   "source": [
    "cat_params = {'max_depth': [8, 10, 12],\n",
    "             'n_estimators': range(1100, 1500, 100),\n",
    "             'learning_rate': [0.01]}\n",
    "skf = StratifiedKFold(n_splits=4)\n",
    "folds = skf.split(X_train, y_train)"
   ]
  },
  {
   "cell_type": "code",
   "execution_count": 101,
   "id": "f8ad2676",
   "metadata": {},
   "outputs": [
    {
     "name": "stdout",
     "output_type": "stream",
     "text": [
      "CPU times: total: 7min 26s\n",
      "Wall time: 19min 22s\n"
     ]
    },
    {
     "data": {
      "text/html": [
       "<style>#sk-container-id-2 {color: black;background-color: white;}#sk-container-id-2 pre{padding: 0;}#sk-container-id-2 div.sk-toggleable {background-color: white;}#sk-container-id-2 label.sk-toggleable__label {cursor: pointer;display: block;width: 100%;margin-bottom: 0;padding: 0.3em;box-sizing: border-box;text-align: center;}#sk-container-id-2 label.sk-toggleable__label-arrow:before {content: \"▸\";float: left;margin-right: 0.25em;color: #696969;}#sk-container-id-2 label.sk-toggleable__label-arrow:hover:before {color: black;}#sk-container-id-2 div.sk-estimator:hover label.sk-toggleable__label-arrow:before {color: black;}#sk-container-id-2 div.sk-toggleable__content {max-height: 0;max-width: 0;overflow: hidden;text-align: left;background-color: #f0f8ff;}#sk-container-id-2 div.sk-toggleable__content pre {margin: 0.2em;color: black;border-radius: 0.25em;background-color: #f0f8ff;}#sk-container-id-2 input.sk-toggleable__control:checked~div.sk-toggleable__content {max-height: 200px;max-width: 100%;overflow: auto;}#sk-container-id-2 input.sk-toggleable__control:checked~label.sk-toggleable__label-arrow:before {content: \"▾\";}#sk-container-id-2 div.sk-estimator input.sk-toggleable__control:checked~label.sk-toggleable__label {background-color: #d4ebff;}#sk-container-id-2 div.sk-label input.sk-toggleable__control:checked~label.sk-toggleable__label {background-color: #d4ebff;}#sk-container-id-2 input.sk-hidden--visually {border: 0;clip: rect(1px 1px 1px 1px);clip: rect(1px, 1px, 1px, 1px);height: 1px;margin: -1px;overflow: hidden;padding: 0;position: absolute;width: 1px;}#sk-container-id-2 div.sk-estimator {font-family: monospace;background-color: #f0f8ff;border: 1px dotted black;border-radius: 0.25em;box-sizing: border-box;margin-bottom: 0.5em;}#sk-container-id-2 div.sk-estimator:hover {background-color: #d4ebff;}#sk-container-id-2 div.sk-parallel-item::after {content: \"\";width: 100%;border-bottom: 1px solid gray;flex-grow: 1;}#sk-container-id-2 div.sk-label:hover label.sk-toggleable__label {background-color: #d4ebff;}#sk-container-id-2 div.sk-serial::before {content: \"\";position: absolute;border-left: 1px solid gray;box-sizing: border-box;top: 0;bottom: 0;left: 50%;z-index: 0;}#sk-container-id-2 div.sk-serial {display: flex;flex-direction: column;align-items: center;background-color: white;padding-right: 0.2em;padding-left: 0.2em;position: relative;}#sk-container-id-2 div.sk-item {position: relative;z-index: 1;}#sk-container-id-2 div.sk-parallel {display: flex;align-items: stretch;justify-content: center;background-color: white;position: relative;}#sk-container-id-2 div.sk-item::before, #sk-container-id-2 div.sk-parallel-item::before {content: \"\";position: absolute;border-left: 1px solid gray;box-sizing: border-box;top: 0;bottom: 0;left: 50%;z-index: -1;}#sk-container-id-2 div.sk-parallel-item {display: flex;flex-direction: column;z-index: 1;position: relative;background-color: white;}#sk-container-id-2 div.sk-parallel-item:first-child::after {align-self: flex-end;width: 50%;}#sk-container-id-2 div.sk-parallel-item:last-child::after {align-self: flex-start;width: 50%;}#sk-container-id-2 div.sk-parallel-item:only-child::after {width: 0;}#sk-container-id-2 div.sk-dashed-wrapped {border: 1px dashed gray;margin: 0 0.4em 0.5em 0.4em;box-sizing: border-box;padding-bottom: 0.4em;background-color: white;}#sk-container-id-2 div.sk-label label {font-family: monospace;font-weight: bold;display: inline-block;line-height: 1.2em;}#sk-container-id-2 div.sk-label-container {text-align: center;}#sk-container-id-2 div.sk-container {/* jupyter's `normalize.less` sets `[hidden] { display: none; }` but bootstrap.min.css set `[hidden] { display: none !important; }` so we also need the `!important` here to be able to override the default hidden behavior on the sphinx rendered scikit-learn.org. See: https://github.com/scikit-learn/scikit-learn/issues/21755 */display: inline-block !important;position: relative;}#sk-container-id-2 div.sk-text-repr-fallback {display: none;}</style><div id=\"sk-container-id-2\" class=\"sk-top-container\"><div class=\"sk-text-repr-fallback\"><pre>GridSearchCV(cv=&lt;generator object _BaseKFold.split at 0x00000214E62440B0&gt;,\n",
       "             estimator=&lt;catboost.core.CatBoostClassifier object at 0x00000214E3588D00&gt;,\n",
       "             n_jobs=-1,\n",
       "             param_grid={&#x27;learning_rate&#x27;: [0.01], &#x27;max_depth&#x27;: [8, 10, 12],\n",
       "                         &#x27;n_estimators&#x27;: range(1100, 1500, 100)},\n",
       "             scoring=&#x27;f1&#x27;, verbose=False)</pre><b>In a Jupyter environment, please rerun this cell to show the HTML representation or trust the notebook. <br />On GitHub, the HTML representation is unable to render, please try loading this page with nbviewer.org.</b></div><div class=\"sk-container\" hidden><div class=\"sk-item sk-dashed-wrapped\"><div class=\"sk-label-container\"><div class=\"sk-label sk-toggleable\"><input class=\"sk-toggleable__control sk-hidden--visually\" id=\"sk-estimator-id-4\" type=\"checkbox\" ><label for=\"sk-estimator-id-4\" class=\"sk-toggleable__label sk-toggleable__label-arrow\">GridSearchCV</label><div class=\"sk-toggleable__content\"><pre>GridSearchCV(cv=&lt;generator object _BaseKFold.split at 0x00000214E62440B0&gt;,\n",
       "             estimator=&lt;catboost.core.CatBoostClassifier object at 0x00000214E3588D00&gt;,\n",
       "             n_jobs=-1,\n",
       "             param_grid={&#x27;learning_rate&#x27;: [0.01], &#x27;max_depth&#x27;: [8, 10, 12],\n",
       "                         &#x27;n_estimators&#x27;: range(1100, 1500, 100)},\n",
       "             scoring=&#x27;f1&#x27;, verbose=False)</pre></div></div></div><div class=\"sk-parallel\"><div class=\"sk-parallel-item\"><div class=\"sk-item\"><div class=\"sk-label-container\"><div class=\"sk-label sk-toggleable\"><input class=\"sk-toggleable__control sk-hidden--visually\" id=\"sk-estimator-id-5\" type=\"checkbox\" ><label for=\"sk-estimator-id-5\" class=\"sk-toggleable__label sk-toggleable__label-arrow\">estimator: CatBoostClassifier</label><div class=\"sk-toggleable__content\"><pre>&lt;catboost.core.CatBoostClassifier object at 0x00000214E3588D00&gt;</pre></div></div></div><div class=\"sk-serial\"><div class=\"sk-item\"><div class=\"sk-estimator sk-toggleable\"><input class=\"sk-toggleable__control sk-hidden--visually\" id=\"sk-estimator-id-6\" type=\"checkbox\" ><label for=\"sk-estimator-id-6\" class=\"sk-toggleable__label sk-toggleable__label-arrow\">CatBoostClassifier</label><div class=\"sk-toggleable__content\"><pre>&lt;catboost.core.CatBoostClassifier object at 0x00000214E3588D00&gt;</pre></div></div></div></div></div></div></div></div></div></div>"
      ],
      "text/plain": [
       "GridSearchCV(cv=<generator object _BaseKFold.split at 0x00000214E62440B0>,\n",
       "             estimator=<catboost.core.CatBoostClassifier object at 0x00000214E3588D00>,\n",
       "             n_jobs=-1,\n",
       "             param_grid={'learning_rate': [0.01], 'max_depth': [8, 10, 12],\n",
       "                         'n_estimators': range(1100, 1500, 100)},\n",
       "             scoring='f1', verbose=False)"
      ]
     },
     "execution_count": 101,
     "metadata": {},
     "output_type": "execute_result"
    }
   ],
   "source": [
    "%%time\n",
    "grid_search = GridSearchCV(cat_model,\n",
    "                           cat_params,\n",
    "                           cv=folds,\n",
    "                           n_jobs=-1,\n",
    "                           scoring='f1',\n",
    "                           verbose=False)\n",
    "\n",
    "grid_search.fit(X_train, y_train)"
   ]
  },
  {
   "cell_type": "markdown",
   "id": "a1aab990",
   "metadata": {},
   "source": [
    "Посмотрим получившиеся параметры и метрику"
   ]
  },
  {
   "cell_type": "code",
   "execution_count": 102,
   "id": "e7c8bfdf",
   "metadata": {},
   "outputs": [
    {
     "data": {
      "text/plain": [
       "{'learning_rate': 0.01, 'max_depth': 12, 'n_estimators': 1400}"
      ]
     },
     "execution_count": 102,
     "metadata": {},
     "output_type": "execute_result"
    }
   ],
   "source": [
    "grid_search.best_params_"
   ]
  },
  {
   "cell_type": "code",
   "execution_count": 103,
   "id": "5b2e2122",
   "metadata": {},
   "outputs": [
    {
     "data": {
      "text/plain": [
       "0.9035738552945831"
      ]
     },
     "execution_count": 103,
     "metadata": {},
     "output_type": "execute_result"
    }
   ],
   "source": [
    "grid_search.best_score_"
   ]
  },
  {
   "cell_type": "markdown",
   "id": "0f363498",
   "metadata": {},
   "source": [
    "Тетрадь моделинг таск 2: Метрика стала ещё лучше. Повторно обучим модель, чтобы можно было проверить её на тестовой выборке."
   ]
  },
  {
   "cell_type": "code",
   "execution_count": 104,
   "id": "9567004b",
   "metadata": {},
   "outputs": [
    {
     "name": "stdout",
     "output_type": "stream",
     "text": [
      "CPU times: total: 7min 44s\n",
      "Wall time: 2min 8s\n"
     ]
    },
    {
     "data": {
      "text/plain": [
       "<catboost.core.CatBoostClassifier at 0x214e626f760>"
      ]
     },
     "execution_count": 104,
     "metadata": {},
     "output_type": "execute_result"
    }
   ],
   "source": [
    "%%time\n",
    "cat_model = CatBoostClassifier(random_state=RANDOM_STATE, \n",
    "                               cat_features=cat_features,\n",
    "                               verbose=False,\n",
    "                               class_weights=class_weights,\n",
    "                               max_depth=12,\n",
    "                               n_estimators=1400,\n",
    "                               learning_rate=0.01)\n",
    "\n",
    "cat_model.fit(X_train, y_train)"
   ]
  },
  {
   "cell_type": "markdown",
   "id": "27673e1b",
   "metadata": {},
   "source": [
    "Сохраним обученную модель"
   ]
  },
  {
   "cell_type": "code",
   "execution_count": 105,
   "id": "a3ba60f8",
   "metadata": {},
   "outputs": [],
   "source": [
    "pickle.dump(cat_model, open(PATH_TO_SAVE_MODEL, \"wb\"))"
   ]
  },
  {
   "cell_type": "markdown",
   "id": "e05482b3",
   "metadata": {},
   "source": [
    "### Проверка на тестовой выборке"
   ]
  },
  {
   "cell_type": "markdown",
   "id": "26ef1541",
   "metadata": {},
   "source": [
    "Проверим качество модели на тех данных, которые она никогда не видела."
   ]
  },
  {
   "cell_type": "code",
   "execution_count": 106,
   "id": "cb5401d2",
   "metadata": {},
   "outputs": [
    {
     "name": "stderr",
     "output_type": "stream",
     "text": [
      "100%|████████████████████████████████████████████████████████████████████████████████| 455/455 [01:33<00:00,  4.88it/s]\n"
     ]
    }
   ],
   "source": [
    "df_cat_test, df_track_test = get_df(df_test, \n",
    "                                    y_test_pred, \n",
    "                                    dist_test_pred, \n",
    "                                    get_row_to_df_v2, \n",
    "                                    cat_features, \n",
    "                                    num_features,\n",
    "                                    df_for_question=df_train)"
   ]
  },
  {
   "cell_type": "code",
   "execution_count": 107,
   "id": "bc05cc28",
   "metadata": {},
   "outputs": [],
   "source": [
    "X_test = df_cat_test.drop('target', axis=1)\n",
    "y_test = df_cat_test['target']"
   ]
  },
  {
   "cell_type": "code",
   "execution_count": 108,
   "id": "d96c4484",
   "metadata": {},
   "outputs": [
    {
     "data": {
      "text/plain": [
       "0.9311163895486936"
      ]
     },
     "execution_count": 108,
     "metadata": {},
     "output_type": "execute_result"
    }
   ],
   "source": [
    "f1_score(y_test, cat_model.predict(X_test))"
   ]
  },
  {
   "cell_type": "markdown",
   "id": "10d7149e",
   "metadata": {},
   "source": [
    "Метрика оказалась сопоставимой, соответственно можно сделать вывод, что модель нашла требуемые патерны и позволяет получить весьма неплохой рещультат."
   ]
  },
  {
   "cell_type": "markdown",
   "id": "c7f917f0",
   "metadata": {},
   "source": [
    "### Выводы"
   ]
  },
  {
   "cell_type": "markdown",
   "id": "87c8012e",
   "metadata": {},
   "source": [
    "Данный раздел был направлен на разработку модели, которая принимает решение является ли какой-то из 8 треков, предложенных 1 моделью (fiass) кавером для запрашиваемого. В ходе работы было сделано следующее:\n",
    "\n",
    "1. Исследованы 5 вариантов создания датасета и обучены по ним модели:\n",
    "    - Добавления столбцов для обучения для каждого образца и добавления растояния между образцами;\n",
    "    - Проверка на равнество для категориальных признаков, а для  количественных как в первом варианте;\n",
    "    - Отношение для количественных признаков, а остальное как в первом варианте;\n",
    "    - Объединение 2 и 3 варианта;\n",
    "    - Объединение первых 3 вариантов (т.е. будем оставлять как первоначальные столбцы, так и сгенерированные).     \n",
    "    \n",
    "Лучшее качество показала вторая модель со значением метрики на кроссвалидации равным 0.8885\n",
    "\n",
    "2. Исследована важность признаков для лучшей модели, сильнее всего на выбор модели влияет расстояние между векторными представлениями текстов, совпадение заголовков, длительности первого и второго трека, относится ли данный трек к жанру RUS, год записи трека из isrc в числовом формате.\n",
    "\n",
    "3. Проведён выбор признаков при помощи поэлементного их удаления из модели и оценки качества. В результате было установлено, что столбцы 'language', 'missing_text', 'missing_title', 'genre_RAP', 'genre_CLASSICALMUSIC', 'genre_SPIRITUAL', 'unknown_genre' можно удалить, при этом качество модели улучшилось до 0.8962.\n",
    "\n",
    "4. Осуществлён подбор гиперпараметров при помощи GridSearchCV. Оптимальными параметрами для нашей модели оказались learning_rate = 0.01, max_depth = 12, n_estimators = 1400. Это позволило увеличить качество модели до 0.9036.\n",
    "\n",
    "5. Обученная модель была проверена на отложенной (тестовой выборке) и показала значение метрики f1 равное 0,9311, что сопоставимо с метрикой на трейне."
   ]
  },
  {
   "cell_type": "markdown",
   "id": "18335813",
   "metadata": {},
   "source": [
    "## Создание функции для получения группировки треков"
   ]
  },
  {
   "cell_type": "markdown",
   "id": "50b3f0e7",
   "metadata": {},
   "source": [
    "В данном разделе напишем функцию, которая будет получать на вход предобработанные данные, обученный индекс faiss, модель CatBoost, обученный TfIdf, списки столбцов для обучения и возвращать данные по группировке трека"
   ]
  },
  {
   "cell_type": "code",
   "execution_count": 109,
   "id": "7e3cd423",
   "metadata": {},
   "outputs": [],
   "source": [
    "def get_predict(df: pd.DataFrame,\n",
    "                df_in_index: pd.DataFrame, \n",
    "                tf_idf: TfidfVectorizer,\n",
    "                index: faiss.IndexIVFFlat, \n",
    "                model: CatBoostClassifier, \n",
    "                cat_features: List, \n",
    "                num_features: List,\n",
    "                id_base_dict: Dict) -> pd.DataFrame:\n",
    "    # создадим словарь по трекам из датасета, на котором тренировался фаисс и получим данные из индекса для запроса\n",
    "    corpus = tf_idf.transform(df['lemm_text'].fillna(''))\n",
    "    y_pred, dist_pred = faiss_predict(index, corpus, id_base_dict, 8)\n",
    "    \n",
    "    # получим датасет с признаками и парами треков для запроса\n",
    "    df_cat, df_track = get_df(df, \n",
    "                              y_pred, \n",
    "                              dist_pred, \n",
    "                              get_row_to_df_v2, \n",
    "                              cat_features, \n",
    "                              num_features,\n",
    "                              is_train=False,\n",
    "                              df_for_question=df_in_index)\n",
    "    \n",
    "    # сделаем прогноз и сформируем датасет прогноза\n",
    "    df_cat[cat_features] = df_cat[cat_features].fillna('unknown')\n",
    "    prediction = cat_model.predict(df_cat)\n",
    "    df_track['pred'] = prediction\n",
    "    \n",
    "    # оставим только пары по которым модель прогнозирует совпадение\n",
    "    df_track = df_track.loc[df_track['pred']==1]\n",
    "    df_track = df_track.groupby('track_id_1').agg({'track_id_2': ' '.join}).reset_index()\n",
    "    df_track = df_track.rename(columns={'track_id_1': 'track_id',\n",
    "                                        'track_id_2': 'prediction_track_list'})    \n",
    "    # присоединим прогноз к первоначальному запросу (только к столбцу track_id) и вернём ответ\n",
    "    return df[['track_id']].merge(df_track, on='track_id', how='left')"
   ]
  },
  {
   "cell_type": "markdown",
   "id": "674e3521",
   "metadata": {},
   "source": [
    "Проверим функцию на валидационной выборке"
   ]
  },
  {
   "cell_type": "code",
   "execution_count": 111,
   "id": "90ca9ee6",
   "metadata": {},
   "outputs": [
    {
     "name": "stderr",
     "output_type": "stream",
     "text": [
      "100%|████████████████████████████████████████████████████████████████████████████████| 455/455 [01:29<00:00,  5.10it/s]\n"
     ]
    }
   ],
   "source": [
    "df_predict = get_predict(df_valid, df_train, tf_idf, f_index, cat_model, cat_features, num_features, id_base_dict)"
   ]
  },
  {
   "cell_type": "markdown",
   "id": "042cf849",
   "metadata": {},
   "source": [
    "Выведем результат прогноза, но смотреть будем не весь датасет, а только не пустые строки."
   ]
  },
  {
   "cell_type": "code",
   "execution_count": 112,
   "id": "8248e339",
   "metadata": {},
   "outputs": [
    {
     "data": {
      "text/html": [
       "<div>\n",
       "<style scoped>\n",
       "    .dataframe tbody tr th:only-of-type {\n",
       "        vertical-align: middle;\n",
       "    }\n",
       "\n",
       "    .dataframe tbody tr th {\n",
       "        vertical-align: top;\n",
       "    }\n",
       "\n",
       "    .dataframe thead th {\n",
       "        text-align: right;\n",
       "    }\n",
       "</style>\n",
       "<table border=\"1\" class=\"dataframe\">\n",
       "  <thead>\n",
       "    <tr style=\"text-align: right;\">\n",
       "      <th></th>\n",
       "      <th>track_id</th>\n",
       "      <th>prediction_track_list</th>\n",
       "    </tr>\n",
       "  </thead>\n",
       "  <tbody>\n",
       "    <tr>\n",
       "      <th>17</th>\n",
       "      <td>d2b03b45d57baa6e0c737ed3cc1836a3</td>\n",
       "      <td>d146f365b659251f0bd7a01b94c4470b</td>\n",
       "    </tr>\n",
       "    <tr>\n",
       "      <th>22</th>\n",
       "      <td>58f3399770dcb3fcd3619cb8937ea044</td>\n",
       "      <td>77c0ad1704a64f7a90dba4170cf8534e</td>\n",
       "    </tr>\n",
       "    <tr>\n",
       "      <th>33</th>\n",
       "      <td>3a72bfa66d205884fe2bc703fbe8ffa6</td>\n",
       "      <td>cf4c5a03bdc1c9c6f956b0e313ac8ce5 0826814aa50f7...</td>\n",
       "    </tr>\n",
       "    <tr>\n",
       "      <th>40</th>\n",
       "      <td>7cfb417a38db19631d8ee6f5e3f9243e</td>\n",
       "      <td>57e03c37397337e2a973145738c34b75 0fcb82fec458a...</td>\n",
       "    </tr>\n",
       "    <tr>\n",
       "      <th>44</th>\n",
       "      <td>57f8f5c2387a5e952a1a71f936b46c42</td>\n",
       "      <td>34b719ec937b6c38ede82267720d1da0 292724f1405ca...</td>\n",
       "    </tr>\n",
       "  </tbody>\n",
       "</table>\n",
       "</div>"
      ],
      "text/plain": [
       "                            track_id  \\\n",
       "17  d2b03b45d57baa6e0c737ed3cc1836a3   \n",
       "22  58f3399770dcb3fcd3619cb8937ea044   \n",
       "33  3a72bfa66d205884fe2bc703fbe8ffa6   \n",
       "40  7cfb417a38db19631d8ee6f5e3f9243e   \n",
       "44  57f8f5c2387a5e952a1a71f936b46c42   \n",
       "\n",
       "                                prediction_track_list  \n",
       "17                   d146f365b659251f0bd7a01b94c4470b  \n",
       "22                   77c0ad1704a64f7a90dba4170cf8534e  \n",
       "33  cf4c5a03bdc1c9c6f956b0e313ac8ce5 0826814aa50f7...  \n",
       "40  57e03c37397337e2a973145738c34b75 0fcb82fec458a...  \n",
       "44  34b719ec937b6c38ede82267720d1da0 292724f1405ca...  "
      ]
     },
     "execution_count": 112,
     "metadata": {},
     "output_type": "execute_result"
    }
   ],
   "source": [
    "df_predict[~df_predict['prediction_track_list'].isna()].head()"
   ]
  },
  {
   "cell_type": "markdown",
   "id": "8e954e05",
   "metadata": {},
   "source": [
    "Выберем из df_valid только столбец с track_id и cover_list, присоединим к датасету с прогнозом и сравним их (оставив только не нулевые значения)"
   ]
  },
  {
   "cell_type": "code",
   "execution_count": 113,
   "id": "95fd8cae",
   "metadata": {},
   "outputs": [],
   "source": [
    "pd.set_option('display.max_colwidth', None)"
   ]
  },
  {
   "cell_type": "code",
   "execution_count": 114,
   "id": "b93bb10c",
   "metadata": {},
   "outputs": [
    {
     "data": {
      "text/html": [
       "<div>\n",
       "<style scoped>\n",
       "    .dataframe tbody tr th:only-of-type {\n",
       "        vertical-align: middle;\n",
       "    }\n",
       "\n",
       "    .dataframe tbody tr th {\n",
       "        vertical-align: top;\n",
       "    }\n",
       "\n",
       "    .dataframe thead th {\n",
       "        text-align: right;\n",
       "    }\n",
       "</style>\n",
       "<table border=\"1\" class=\"dataframe\">\n",
       "  <thead>\n",
       "    <tr style=\"text-align: right;\">\n",
       "      <th></th>\n",
       "      <th>track_id</th>\n",
       "      <th>cover_list</th>\n",
       "      <th>prediction_track_list</th>\n",
       "    </tr>\n",
       "  </thead>\n",
       "  <tbody>\n",
       "    <tr>\n",
       "      <th>421</th>\n",
       "      <td>eee291784bade71a821bebe58319b63b</td>\n",
       "      <td>78da5e52e5a0c0a61500c3f6f36a1e4b</td>\n",
       "      <td>NaN</td>\n",
       "    </tr>\n",
       "    <tr>\n",
       "      <th>424</th>\n",
       "      <td>f614b4db25269da318b9a27fc3bb3e1d</td>\n",
       "      <td>NaN</td>\n",
       "      <td>23cb0df2d473ffa1309815fdde02a9ce</td>\n",
       "    </tr>\n",
       "    <tr>\n",
       "      <th>431</th>\n",
       "      <td>cf5fed3455a5eac210ef943b5cde5625</td>\n",
       "      <td>NaN</td>\n",
       "      <td>ab97358e3927d42f57c2373d2f6f12c8</td>\n",
       "    </tr>\n",
       "    <tr>\n",
       "      <th>435</th>\n",
       "      <td>ed541e2712a89d14b36170d912ef4698</td>\n",
       "      <td>1683e3b0e2f485882eb601801db4bc78 18ad5f6948ce88882bf3791c22a3a53f bd4162a4c4ac48be9516e116f272e355 755f08335f8436fafd3806fe9c5b867a e97ef4bf886cd850d083aec1cc54da22 7ea57e0f73df16cc71a6ab0342cd0236 c7c21c473ebdb4c8dd1fa4771b061b3a abf209547f77844456526934076358f2 f3e16bffc2216c5bd80160c5f3973835 9e20fd52b21566494b8d6586a39033c9 28efa5567f2b3c090f311a3cb8805082 073f9e9d92666ff30bdf6e7ea97208e9 f73c52d1de99fc426886378990f90a4f fd37983a6117fa525d9a35d17120652c 1dca7297005a6f9700e9eb43dd47a5e3 eb54545234f620e5f94601e5f353571d d71bd79936e69ffeb21ef6dd62e55b2e 6c56a114f6f1608c666cd67cd86042de 9a11ba5d8a9f9725ed67d78bbd4963aa 82aa19859b0f781fceca8b59de6b78ff 214c5086fd618bc642260433c867f9c7 04f227ff6ad073b4ac805d753d604337</td>\n",
       "      <td>bd4162a4c4ac48be9516e116f272e355 abf209547f77844456526934076358f2 1dca7297005a6f9700e9eb43dd47a5e3 28efa5567f2b3c090f311a3cb8805082 1683e3b0e2f485882eb601801db4bc78 214c5086fd618bc642260433c867f9c7 82aa19859b0f781fceca8b59de6b78ff 9e20fd52b21566494b8d6586a39033c9</td>\n",
       "    </tr>\n",
       "    <tr>\n",
       "      <th>444</th>\n",
       "      <td>8295168b2df271a91f9e4f5d6a7aad69</td>\n",
       "      <td>a7cf4d618804216039b91ecc8c50c024 8f36faa55a52681c41a6cfa1ff1176f0 acd8aad1fd68435ecd1c003bc702e53c ce39354dbe4fbfb2c8cf605fb177be5e 8aa6beb5311d751c187e88bbc0be6e66 f66a59e4931cde981b70a3ae144fb7fb 08a52b88aa5ffca6b41b58c6d5ec7a52 deb9b9598176a0bab1212d430b10bd04 f8fb3c76c159efb0033c3b48e0c2a045 97f3c02d03bcb3779c148bd060cc3483 9fa8e4a5d58ba60db3841ce48801ed58 5abc80144883057a76ea578fba6b0eef 6a0060c234c43fcffd4b3ee28621af5a f091d387e73c457838abcbb8eb044a0e</td>\n",
       "      <td>deb9b9598176a0bab1212d430b10bd04 bf8b2ce531f3844f31a147ccca54151b 8f36faa55a52681c41a6cfa1ff1176f0 f8fb3c76c159efb0033c3b48e0c2a045 97f3c02d03bcb3779c148bd060cc3483 f66a59e4931cde981b70a3ae144fb7fb</td>\n",
       "    </tr>\n",
       "  </tbody>\n",
       "</table>\n",
       "</div>"
      ],
      "text/plain": [
       "                             track_id  \\\n",
       "421  eee291784bade71a821bebe58319b63b   \n",
       "424  f614b4db25269da318b9a27fc3bb3e1d   \n",
       "431  cf5fed3455a5eac210ef943b5cde5625   \n",
       "435  ed541e2712a89d14b36170d912ef4698   \n",
       "444  8295168b2df271a91f9e4f5d6a7aad69   \n",
       "\n",
       "                                                                                                                                                                                                                                                                                                                                                                                                                                                                                                                                                                                                                                                                                                                                                cover_list  \\\n",
       "421                                                                                                                                                                                                                                                                                                                                                                                                                                                                                                                                                                                                                                                                                                                       78da5e52e5a0c0a61500c3f6f36a1e4b   \n",
       "424                                                                                                                                                                                                                                                                                                                                                                                                                                                                                                                                                                                                                                                                                                                                                    NaN   \n",
       "431                                                                                                                                                                                                                                                                                                                                                                                                                                                                                                                                                                                                                                                                                                                                                    NaN   \n",
       "435  1683e3b0e2f485882eb601801db4bc78 18ad5f6948ce88882bf3791c22a3a53f bd4162a4c4ac48be9516e116f272e355 755f08335f8436fafd3806fe9c5b867a e97ef4bf886cd850d083aec1cc54da22 7ea57e0f73df16cc71a6ab0342cd0236 c7c21c473ebdb4c8dd1fa4771b061b3a abf209547f77844456526934076358f2 f3e16bffc2216c5bd80160c5f3973835 9e20fd52b21566494b8d6586a39033c9 28efa5567f2b3c090f311a3cb8805082 073f9e9d92666ff30bdf6e7ea97208e9 f73c52d1de99fc426886378990f90a4f fd37983a6117fa525d9a35d17120652c 1dca7297005a6f9700e9eb43dd47a5e3 eb54545234f620e5f94601e5f353571d d71bd79936e69ffeb21ef6dd62e55b2e 6c56a114f6f1608c666cd67cd86042de 9a11ba5d8a9f9725ed67d78bbd4963aa 82aa19859b0f781fceca8b59de6b78ff 214c5086fd618bc642260433c867f9c7 04f227ff6ad073b4ac805d753d604337   \n",
       "444                                                                                                                                                                                                                                                                          a7cf4d618804216039b91ecc8c50c024 8f36faa55a52681c41a6cfa1ff1176f0 acd8aad1fd68435ecd1c003bc702e53c ce39354dbe4fbfb2c8cf605fb177be5e 8aa6beb5311d751c187e88bbc0be6e66 f66a59e4931cde981b70a3ae144fb7fb 08a52b88aa5ffca6b41b58c6d5ec7a52 deb9b9598176a0bab1212d430b10bd04 f8fb3c76c159efb0033c3b48e0c2a045 97f3c02d03bcb3779c148bd060cc3483 9fa8e4a5d58ba60db3841ce48801ed58 5abc80144883057a76ea578fba6b0eef 6a0060c234c43fcffd4b3ee28621af5a f091d387e73c457838abcbb8eb044a0e   \n",
       "\n",
       "                                                                                                                                                                                                                                                       prediction_track_list  \n",
       "421                                                                                                                                                                                                                                                                      NaN  \n",
       "424                                                                                                                                                                                                                                         23cb0df2d473ffa1309815fdde02a9ce  \n",
       "431                                                                                                                                                                                                                                         ab97358e3927d42f57c2373d2f6f12c8  \n",
       "435  bd4162a4c4ac48be9516e116f272e355 abf209547f77844456526934076358f2 1dca7297005a6f9700e9eb43dd47a5e3 28efa5567f2b3c090f311a3cb8805082 1683e3b0e2f485882eb601801db4bc78 214c5086fd618bc642260433c867f9c7 82aa19859b0f781fceca8b59de6b78ff 9e20fd52b21566494b8d6586a39033c9  \n",
       "444                                                                    deb9b9598176a0bab1212d430b10bd04 bf8b2ce531f3844f31a147ccca54151b 8f36faa55a52681c41a6cfa1ff1176f0 f8fb3c76c159efb0033c3b48e0c2a045 97f3c02d03bcb3779c148bd060cc3483 f66a59e4931cde981b70a3ae144fb7fb  "
      ]
     },
     "execution_count": 114,
     "metadata": {},
     "output_type": "execute_result"
    }
   ],
   "source": [
    "df_question = df_valid[['track_id', 'cover_list']]\n",
    "df_question = df_question.merge(df_predict, on='track_id')\n",
    "df_question[(~df_question['cover_list'].isna()) |\n",
    "           (~df_question['prediction_track_list'].isna())].tail()"
   ]
  },
  {
   "cell_type": "markdown",
   "id": "5334e665",
   "metadata": {},
   "source": [
    "В целом модель отрабатывает нормально, но необходимо учесть, что у нас из индекса возвращается только 8 ближайших соседей, в результате модель может не увидеть очень большие цепочки (там где больше чем 8 каверов), но иначе у нас бы просело качество модели. "
   ]
  },
  {
   "cell_type": "code",
   "execution_count": 115,
   "id": "5eedbeee",
   "metadata": {},
   "outputs": [],
   "source": [
    "pd.set_option('display.max_colwidth', 40)"
   ]
  },
  {
   "cell_type": "markdown",
   "id": "cb23d99e",
   "metadata": {},
   "source": [
    "### Финальное обучение моделей на всех доступных (размеченных) данных"
   ]
  },
  {
   "cell_type": "markdown",
   "id": "d6e957b4",
   "metadata": {},
   "source": [
    "Обучим модель на полной выборке доступных размеченных текстов. Для этого откроем полный датасет."
   ]
  },
  {
   "cell_type": "code",
   "execution_count": 116,
   "id": "c530ba93",
   "metadata": {},
   "outputs": [],
   "source": [
    "df_all_train = pd.read_csv(PATH_ALL_FAISS)"
   ]
  },
  {
   "cell_type": "markdown",
   "id": "6ac0c655",
   "metadata": {},
   "source": [
    "Натренируем TfIdf (Сохранять сейчас не будем, так как в дальнейшем планируем обучить его на всех доступных текстовых данных, а не только на размеченных) "
   ]
  },
  {
   "cell_type": "code",
   "execution_count": 117,
   "id": "f30541ba",
   "metadata": {},
   "outputs": [],
   "source": [
    "tf_idf = TfidfVectorizer(stop_words=stopwords, ngram_range=(1, 3), max_features = 10000)\n",
    "corpus_all = tf_idf.fit_transform(df_all_train['lemm_text'].fillna(''))"
   ]
  },
  {
   "cell_type": "markdown",
   "id": "871d7f78",
   "metadata": {},
   "source": [
    "Обучим faiss и также пока не будем его сохранять"
   ]
  },
  {
   "cell_type": "code",
   "execution_count": 118,
   "id": "ee6d85da",
   "metadata": {},
   "outputs": [],
   "source": [
    "id_base_dict = dict(df_all_train['track_id'])\n",
    "f_index = faiss_fit(corpus_all, random_state=RANDOM_STATE)\n",
    "y_all_pred, dist_all_pred= faiss_predict(f_index, corpus_all, id_base_dict, 8)"
   ]
  },
  {
   "cell_type": "markdown",
   "id": "bac447e1",
   "metadata": {},
   "source": [
    "Получим признаки и таргет для обучения модели"
   ]
  },
  {
   "cell_type": "code",
   "execution_count": 119,
   "id": "9102f80a",
   "metadata": {},
   "outputs": [
    {
     "name": "stderr",
     "output_type": "stream",
     "text": [
      "100%|██████████████████████████████████████████████████████████████████████████████| 3032/3032 [09:28<00:00,  5.33it/s]\n"
     ]
    }
   ],
   "source": [
    "df_cat_all, df_track_all = get_df(df_all_train, y_all_pred, dist_all_pred, get_row_to_df_v2, cat_features, num_features)\n",
    "\n",
    "X_all = df_cat_all.drop('target', axis=1)\n",
    "y_all = df_cat_all['target']"
   ]
  },
  {
   "cell_type": "markdown",
   "id": "632a4866",
   "metadata": {},
   "source": [
    "Проверим качество на кроссвалидации"
   ]
  },
  {
   "cell_type": "code",
   "execution_count": 120,
   "id": "a1d4ded8",
   "metadata": {},
   "outputs": [
    {
     "data": {
      "text/plain": [
       "0.8594964441682208"
      ]
     },
     "execution_count": 120,
     "metadata": {},
     "output_type": "execute_result"
    }
   ],
   "source": [
    "get_score_cross_val(X_all, y_all, cat_features, RANDOM_STATE)"
   ]
  },
  {
   "cell_type": "markdown",
   "id": "18b4321b",
   "metadata": {},
   "source": [
    "Качество на кросс валидации всего датасета немного ниже, чем на тренировочной выборке."
   ]
  },
  {
   "cell_type": "markdown",
   "id": "d71b3b0d",
   "metadata": {},
   "source": [
    "Обучим финальную модель кэтбуста."
   ]
  },
  {
   "cell_type": "code",
   "execution_count": 121,
   "id": "6ee1ac2e",
   "metadata": {},
   "outputs": [
    {
     "data": {
      "text/plain": [
       "<catboost.core.CatBoostClassifier at 0x214e82cbb50>"
      ]
     },
     "execution_count": 121,
     "metadata": {},
     "output_type": "execute_result"
    }
   ],
   "source": [
    "classes = np.unique(y_all)\n",
    "weights = compute_class_weight(class_weight='balanced', classes=classes, y=y_all)\n",
    "class_weights = dict(zip(classes, weights))\n",
    "\n",
    "cat_model = CatBoostClassifier(random_state=RANDOM_STATE, \n",
    "                               cat_features=cat_features,\n",
    "                               verbose=False,\n",
    "                               class_weights=class_weights,\n",
    "                               max_depth=12,\n",
    "                               n_estimators=1400,\n",
    "                               learning_rate=0.01)\n",
    "\n",
    "cat_model.fit(X_all, y_all)"
   ]
  },
  {
   "cell_type": "markdown",
   "id": "589917be",
   "metadata": {},
   "source": [
    "Сохраним получившуюся модель"
   ]
  },
  {
   "cell_type": "code",
   "execution_count": 122,
   "id": "d38593ac",
   "metadata": {},
   "outputs": [],
   "source": [
    "pickle.dump(cat_model, open(PATH_TO_SAVE_MODEL, \"wb\"))"
   ]
  },
  {
   "cell_type": "markdown",
   "id": "36a1e9f2",
   "metadata": {},
   "source": [
    "Теперь нам требуется обучить TfIdf и faiss, но уже на всех текстовых данных для которых есть текст."
   ]
  },
  {
   "cell_type": "markdown",
   "id": "d1a39c84",
   "metadata": {},
   "source": [
    "Откроем полный датасет, выберем строки в которых присутсвует текст и обучим TfIdf"
   ]
  },
  {
   "cell_type": "code",
   "execution_count": 123,
   "id": "903284a5",
   "metadata": {},
   "outputs": [],
   "source": [
    "df_united = pd.read_csv(PATH_UNITED_DF)\n",
    "df_in_index = df_united[df_united['missing_text'] == 0].reset_index(drop=True)"
   ]
  },
  {
   "cell_type": "code",
   "execution_count": 124,
   "id": "10d657bf",
   "metadata": {},
   "outputs": [],
   "source": [
    "tf_idf = TfidfVectorizer(stop_words=stopwords, ngram_range=(1, 3), max_features = 10000)\n",
    "corpus_united = tf_idf.fit_transform(df_in_index['lemm_text'].fillna(''))"
   ]
  },
  {
   "cell_type": "markdown",
   "id": "f164462d",
   "metadata": {},
   "source": [
    "Схраним обученный векторизатор"
   ]
  },
  {
   "cell_type": "code",
   "execution_count": 125,
   "id": "90c4b42c",
   "metadata": {},
   "outputs": [],
   "source": [
    "pickle.dump(tf_idf, open(PATH_TFIDFVECTORIZER, \"wb\"))"
   ]
  },
  {
   "cell_type": "markdown",
   "id": "a17c8519",
   "metadata": {},
   "source": [
    "Обучим индекс faiss и словарь с id."
   ]
  },
  {
   "cell_type": "code",
   "execution_count": 126,
   "id": "c1db079d",
   "metadata": {},
   "outputs": [],
   "source": [
    "id_base_dict = dict(df_in_index['track_id'])\n",
    "f_index = faiss_fit(corpus_united, random_state=RANDOM_STATE)"
   ]
  },
  {
   "cell_type": "markdown",
   "id": "18ee7006",
   "metadata": {},
   "source": [
    "Сохраним их."
   ]
  },
  {
   "cell_type": "code",
   "execution_count": 127,
   "id": "29db2157",
   "metadata": {},
   "outputs": [],
   "source": [
    "write_index(f_index, PATH_TO_SAVE_FAISS)"
   ]
  },
  {
   "cell_type": "code",
   "execution_count": 128,
   "id": "8aa4e36e",
   "metadata": {},
   "outputs": [],
   "source": [
    "with open(PATH_TO_SAVE_ID_BASE_DICT, \"wb\") as file:\n",
    "    pickle.dump(id_base_dict, file)"
   ]
  },
  {
   "cell_type": "markdown",
   "id": "19cb5b89",
   "metadata": {},
   "source": [
    "### Создание функции для обработки запроса на нахождения кавера"
   ]
  },
  {
   "cell_type": "markdown",
   "id": "d739cac6",
   "metadata": {},
   "source": [
    "Тетрадка моделинг таск 2: Поскольку на вход будет подаваться запрос из датасета, в котором могут быть песни со словами или без них, то необходимо предусмотреть обработку таких ситуаций. Предлагаем следующую логику решения данной задачи:\n",
    "\n",
    "1. Проверяем есть ли в датасете треки без текста. Если есть, то ставим им отметку, что для данного трека нахождение кавера невозможно (сделаем булевый флаг ставить такую отметку или оставлять такие строки пустыми).\n",
    "2. По трекам у которых есть текст отправляем запрос по написанной ранее функции и указываем треки, если они есть. Если их нет, то будут стоять значения NaN."
   ]
  },
  {
   "cell_type": "code",
   "execution_count": 129,
   "id": "30bbc65d",
   "metadata": {},
   "outputs": [],
   "source": [
    "def get_list_cover(df: pd.DataFrame,\n",
    "                   df_in_index: pd.DataFrame,\n",
    "                   tf_idf: TfidfVectorizer,\n",
    "                   index: faiss.IndexIVFFlat, \n",
    "                   model: CatBoostClassifier, \n",
    "                   cat_features: List, \n",
    "                   num_features: List,\n",
    "                   id_base_dict: Dict,\n",
    "                   fill_not_text_row: bool=False) -> pd.DataFrame:\n",
    "    df = df.copy(deep=True)\n",
    "    df['prediction_track_list'] = np.nan\n",
    "    if fill_not_text_row:\n",
    "        df.loc[df['missing_text'] == 1, 'prediction_track_list'] = 'Нет информации о тексте данного трека, определение кавера невозможно'\n",
    "       \n",
    "    df_question = df.loc[df['missing_text'] == 0].reset_index(drop=True)\n",
    "    df.loc[df['missing_text'] == 0, 'prediction_track_list'] = get_predict(df_question, \n",
    "                                                                           df_in_index, \n",
    "                                                                           tf_idf,\n",
    "                                                                           index, \n",
    "                                                                           model, \n",
    "                                                                           cat_features, \n",
    "                                                                           num_features,\n",
    "                                                                           id_base_dict)['prediction_track_list']\n",
    "    return df[['track_id', 'prediction_track_list']]"
   ]
  },
  {
   "cell_type": "markdown",
   "id": "4b5a02e2",
   "metadata": {},
   "source": [
    "Повторно откроем полный датасет"
   ]
  },
  {
   "cell_type": "code",
   "execution_count": 130,
   "id": "524693eb",
   "metadata": {},
   "outputs": [],
   "source": [
    "df_united = pd.read_csv(PATH_UNITED_DF)"
   ]
  },
  {
   "cell_type": "code",
   "execution_count": 131,
   "id": "21965127",
   "metadata": {},
   "outputs": [
    {
     "name": "stderr",
     "output_type": "stream",
     "text": [
      "100%|████████████████████████████████████████████████████████████████████████████| 10205/10205 [50:20<00:00,  3.38it/s]\n"
     ]
    }
   ],
   "source": [
    "df_predict = get_list_cover(df_united, df_in_index, tf_idf, f_index, cat_model, cat_features, num_features, id_base_dict)"
   ]
  },
  {
   "cell_type": "code",
   "execution_count": 133,
   "id": "9afb5179",
   "metadata": {},
   "outputs": [
    {
     "data": {
      "text/html": [
       "<div>\n",
       "<style scoped>\n",
       "    .dataframe tbody tr th:only-of-type {\n",
       "        vertical-align: middle;\n",
       "    }\n",
       "\n",
       "    .dataframe tbody tr th {\n",
       "        vertical-align: top;\n",
       "    }\n",
       "\n",
       "    .dataframe thead th {\n",
       "        text-align: right;\n",
       "    }\n",
       "</style>\n",
       "<table border=\"1\" class=\"dataframe\">\n",
       "  <thead>\n",
       "    <tr style=\"text-align: right;\">\n",
       "      <th></th>\n",
       "      <th>track_id</th>\n",
       "      <th>prediction_track_list</th>\n",
       "    </tr>\n",
       "  </thead>\n",
       "  <tbody>\n",
       "    <tr>\n",
       "      <th>0</th>\n",
       "      <td>c3b9d6a354ca008aa4518329aaa21380</td>\n",
       "      <td>804589c2558377b846122344fdc54a72</td>\n",
       "    </tr>\n",
       "    <tr>\n",
       "      <th>1</th>\n",
       "      <td>c57e3d13bbbf5322584a7e92e6f1f7ff</td>\n",
       "      <td>27d7308fb6fa94b7131dd746b80d99de c66...</td>\n",
       "    </tr>\n",
       "    <tr>\n",
       "      <th>2</th>\n",
       "      <td>955f2aafe8717908c140bf122ba4172d</td>\n",
       "      <td>NaN</td>\n",
       "    </tr>\n",
       "    <tr>\n",
       "      <th>3</th>\n",
       "      <td>fae5a077c9956045955dde02143bd8ff</td>\n",
       "      <td>NaN</td>\n",
       "    </tr>\n",
       "    <tr>\n",
       "      <th>4</th>\n",
       "      <td>6bede082154d34fc18d9a6744bc95bf5</td>\n",
       "      <td>NaN</td>\n",
       "    </tr>\n",
       "  </tbody>\n",
       "</table>\n",
       "</div>"
      ],
      "text/plain": [
       "                           track_id                    prediction_track_list\n",
       "0  c3b9d6a354ca008aa4518329aaa21380         804589c2558377b846122344fdc54a72\n",
       "1  c57e3d13bbbf5322584a7e92e6f1f7ff  27d7308fb6fa94b7131dd746b80d99de c66...\n",
       "2  955f2aafe8717908c140bf122ba4172d                                      NaN\n",
       "3  fae5a077c9956045955dde02143bd8ff                                      NaN\n",
       "4  6bede082154d34fc18d9a6744bc95bf5                                      NaN"
      ]
     },
     "execution_count": 133,
     "metadata": {},
     "output_type": "execute_result"
    }
   ],
   "source": [
    "df_predict.head()"
   ]
  },
  {
   "cell_type": "markdown",
   "id": "1c5a693a",
   "metadata": {},
   "source": [
    "Сохраним обученную модель"
   ]
  },
  {
   "cell_type": "code",
   "execution_count": 135,
   "id": "1cabc42b",
   "metadata": {},
   "outputs": [],
   "source": [
    "df_predict.to_csv(PATH_SAVE_PREDICTION, index=False)"
   ]
  },
  {
   "cell_type": "markdown",
   "id": "ab6215b8",
   "metadata": {},
   "source": [
    "### Выводы"
   ]
  },
  {
   "cell_type": "markdown",
   "id": "7ca2bad3",
   "metadata": {},
   "source": [
    "В данном разделе была проделана следующая работа:\n",
    "1. Написаны функции, обеспечивающие возвращение прогноза в виде датафрейма, состоящего из двух столбцов:\n",
    "    - track_id - id трека запроса и \n",
    "    - prediction_track_list - спрогнозированный список возможных каверов (представляется в виде строки id треков, разделёнными пробелами). \n",
    "2. Обучены на всех доступных данных и сохранены: векторизатор TfidfVectorizer, индекс faiss, модель.\n",
    "3. Сделан и сохранён прогноз для всех данных."
   ]
  },
  {
   "cell_type": "markdown",
   "id": "278b7a68",
   "metadata": {},
   "source": [
    "## Выводы по ноутбуку"
   ]
  },
  {
   "cell_type": "markdown",
   "id": "68566d65",
   "metadata": {},
   "source": [
    "Данный ноутбук был посвящён решению второй задачи: группировке каверов и исходного трека. В ходе решения были достигнуты следующие результаты:\n",
    "1.  Выбрана стратегия решения данной задачи при которой мы ищем результат в два этапа:\n",
    "      * находим k ближайших треков по векторизованному тексту песни при помощи faiss (на данном этапе будут оптимизироваться параметры векторизатора и самого faiss)\n",
    "          * в качестве основной метрики выбран Recall@k;\n",
    "      * при помощи ML модели определяем какие из предложенных треков можно сгруппировать. Для этого для каждого трека запроса будет формироваться датасет, в который войдут все сочетания пар исходный трек - трек из k ближайших. После чего на данном датасете будет обучена и оптимизирована модель\n",
    "          * в качестве метрики выбрана f1 мера.\n",
    "2.  Согласно выбранной стратегии был обучен индекс faiss и оптимизированы параметры как faiss, так и TfIdf результатом данного этапа стало:\n",
    "      * подобраны оптимальные параметры для TfIdf текстов песен (n_gram = (1, 3), max_features = 10000);\n",
    "      * на основании f1 было установлено, что оптимально возвращать 8 ближайших соседей;\n",
    "      * при исследовании результатов модели, было обнаружено, что в датасете отобранном для тренировочных данных 32 пар треков с 0 расстоянием и разным original_track_id (примерно 1.5%), вероятнее всего это является ошибкой разметки данных.\n",
    "3.  Для второй ступени выбранной модели необходимо было обучить модель, которая принимала бы решение какие из предложенных 8 ближайших треков, могут выступать в качестве пар. Этот этап получился достаточно объёмным, поэтому разобьём его на подэтапы:\n",
    "      * подбор стратегии формирования датасета для обучения. Было рассмотрено несколько вариантов формирования датасета для обучения модели, для каждого из них была обучена модель и выбрана лучшая на основании f1 меры. Лучшие варианты показал датасет, в котором категориальные образцы для каждой из пар треков проверялись на равенство, а количественные признаки брались как для первого, так и для второго трека;\n",
    "      * проведён анализ важности признаков: сильнее всего на выбор модели влияет расстояние между векторными представлениями текстов, совпадение заголовков, длительности первого и второго трека, относится ли данный трек к жанру RUS и год записи трека из isrc в числовом формате;\n",
    "      * проведён выбор признаков поэлементным удалением столбцов и найдены столбцы, удаление которых позволяет улучшить качество модели (или не влияет на него);\n",
    "      * были подобраны гиперпараметры, что в итоге позволило получить на кроссвалидации качество равное 0.9036 и на отложенной выборке равное 0,9311\n",
    "4.  Созданы функции, которые позволяют делать полноценный прогноз по запросу в виде предобработанного датасета и возвращать датасет с конкретным track_id и списком track_id вероятных каверов (или оригинала)\n",
    "5.  Обучены на всех доступных данных все требуемые модели. На доступном датасете сделан прогноз."
   ]
  },
  {
   "cell_type": "markdown",
   "id": "bb0a2bcc",
   "metadata": {},
   "source": [
    "## Возможное улучшение модели."
   ]
  },
  {
   "cell_type": "markdown",
   "id": "a1623cd2",
   "metadata": {},
   "source": [
    "Ниже приведены предложения по улучшению модели для её улучшения:\n",
    "- Как было установлено в первом разделе: в данных, некоторые треки имеют неправильную разметку (имеют разный оригинал при полном совпадении треков), можно найти такие треки плюс треки, в которых модель сильно уверена, что они являются каверами, а в разметке они не каверы. После проверить их вручную, и, при необходимости, поправить разметку. После этого повторно обучить модель. Возможно, это позволит ей обнаружить новые закономерности.\n",
    "- Попробовать векторизовать заголовки и найти растояние между ними, возможно, это позволит модели найти схожие заголовки, которые формально не равны."
   ]
  },
  {
   "cell_type": "code",
   "execution_count": null,
   "id": "2215bfce",
   "metadata": {},
   "outputs": [],
   "source": []
  }
 ],
 "metadata": {
  "kernelspec": {
   "display_name": "Python 3 (ipykernel)",
   "language": "python",
   "name": "python3"
  },
  "language_info": {
   "codemirror_mode": {
    "name": "ipython",
    "version": 3
   },
   "file_extension": ".py",
   "mimetype": "text/x-python",
   "name": "python",
   "nbconvert_exporter": "python",
   "pygments_lexer": "ipython3",
   "version": "3.10.11"
  }
 },
 "nbformat": 4,
 "nbformat_minor": 5
}

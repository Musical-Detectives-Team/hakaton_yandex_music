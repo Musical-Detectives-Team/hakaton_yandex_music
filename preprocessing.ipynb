{
 "cells": [
  {
   "cell_type": "markdown",
   "id": "da42bf38",
   "metadata": {},
   "source": [
    "# Preprocessing"
   ]
  },
  {
   "cell_type": "markdown",
   "id": "e8079329",
   "metadata": {},
   "source": [
    "Данный ноутбук направлен на предобработку сырых данных и подготовки их к этапу моделинга."
   ]
  },
  {
   "cell_type": "markdown",
   "id": "4f9e11ad",
   "metadata": {},
   "source": [
    "Импортируем библиотеки и прописываем пути, устанавливаем random_state."
   ]
  },
  {
   "cell_type": "code",
   "execution_count": 1,
   "id": "fad77bf3",
   "metadata": {},
   "outputs": [],
   "source": [
    "import pandas as pd\n",
    "import numpy as np\n",
    "import warnings\n",
    "import scipy\n",
    "import re\n",
    "\n",
    "import matplotlib.pyplot as plt\n",
    "\n",
    "from tqdm import tqdm\n",
    "from tqdm import notebook \n",
    "\n",
    "from sklearn.model_selection import train_test_split\n",
    "from sklearn.feature_extraction.text import TfidfVectorizer \n",
    "import pickle\n",
    "\n",
    "import nltk\n",
    "from nltk.corpus import stopwords as nltk_stopwords\n",
    "from nltk.stem import WordNetLemmatizer "
   ]
  },
  {
   "cell_type": "code",
   "execution_count": 2,
   "id": "04e02a66",
   "metadata": {},
   "outputs": [],
   "source": [
    "tqdm.pandas()\n",
    "warnings.filterwarnings(\"ignore\")"
   ]
  },
  {
   "cell_type": "code",
   "execution_count": 3,
   "id": "63b778e2",
   "metadata": {},
   "outputs": [],
   "source": [
    "PATH_COVERS = 'data/raw/covers.json'\n",
    "PATH_TRANSLETE_LYRICS = 'data/preprocessing/translated_lyrics.csv'\n",
    "PATH_META = 'data/raw/meta.json'\n",
    "PATH_TRANSLETE_TITLE = 'data/preprocessing/translated_title.csv'\n",
    "\n",
    "PATH_SAVE_UNITED_DF = 'data/preprocessing/united_df.csv'\n",
    "\n",
    "PATH_SAVE_TRAIN_TASK1 = 'data/preprocessing/train_task_1.csv'\n",
    "PATH_SAVE_TEST_TASK1 = 'data/preprocessing/test_task_1.csv'\n",
    "PATH_SAVE_TEST_TASK1_TRACK_ID = 'data/preprocessing/test_task_1_track_id.csv'\n",
    "\n",
    "PATH_SAVE_TRAIN_FAISS = 'data/preprocessing/train_faiss.csv'\n",
    "PATH_SAVE_TEST_FAISS = 'data/preprocessing/test_faiss.csv'\n",
    "PATH_SAVE_VALID_FAISS = 'data/preprocessing/valid_faiss.csv'\n",
    "PATH_SAVE_ALL_FAISS = 'data/preprocessing/all_faiss.csv'\n",
    "\n",
    "PATH_SAVE_TFIDFVECTORIZER = 'models/task_2_tfidf.pkl'\n",
    "\n",
    "PATH_SAVE_TRAIN_CORPUS = 'data/preprocessing/train_corpus.npz'\n",
    "PATH_SAVE_TEST_CORPUS = 'data/preprocessing/test_corpus.npz'\n",
    "PATH_SAVE_VALID_CORPUS = 'data/preprocessing/valid_corpus.npz'\n",
    "\n",
    "RANDOM_STATE = 54321"
   ]
  },
  {
   "cell_type": "markdown",
   "id": "329ed1af",
   "metadata": {},
   "source": [
    "## Создание препроцессинга для объединённого датасета"
   ]
  },
  {
   "cell_type": "markdown",
   "id": "25b65aa2",
   "metadata": {},
   "source": [
    "В данном подразделе проведём предобработку данных и сформируем базовый датасет с которым будем работать дальше"
   ]
  },
  {
   "cell_type": "markdown",
   "id": "902fd552",
   "metadata": {},
   "source": [
    "Поскольку нам потребуется работать с текстом и проводить его лемматизацию, то сразу скачаем нужные расширения для nltk"
   ]
  },
  {
   "cell_type": "code",
   "execution_count": 4,
   "id": "54dc7209",
   "metadata": {},
   "outputs": [
    {
     "name": "stderr",
     "output_type": "stream",
     "text": [
      "[nltk_data] Downloading package wordnet to\n",
      "[nltk_data]     C:\\Users\\yaros\\AppData\\Roaming\\nltk_data...\n",
      "[nltk_data]   Package wordnet is already up-to-date!\n",
      "[nltk_data] Downloading package omw-1.4 to\n",
      "[nltk_data]     C:\\Users\\yaros\\AppData\\Roaming\\nltk_data...\n",
      "[nltk_data]   Package omw-1.4 is already up-to-date!\n",
      "[nltk_data] Downloading package punkt to\n",
      "[nltk_data]     C:\\Users\\yaros\\AppData\\Roaming\\nltk_data...\n",
      "[nltk_data]   Package punkt is already up-to-date!\n"
     ]
    },
    {
     "data": {
      "text/plain": [
       "True"
      ]
     },
     "execution_count": 4,
     "metadata": {},
     "output_type": "execute_result"
    }
   ],
   "source": [
    "nltk.download('wordnet')\n",
    "nltk.download('omw-1.4')\n",
    "nltk.download('punkt')"
   ]
  },
  {
   "cell_type": "markdown",
   "id": "e3981ac3",
   "metadata": {},
   "source": [
    "Создадим лемматайзер"
   ]
  },
  {
   "cell_type": "code",
   "execution_count": 5,
   "id": "dc4ce101",
   "metadata": {},
   "outputs": [],
   "source": [
    "lemmatizer = WordNetLemmatizer()"
   ]
  },
  {
   "cell_type": "markdown",
   "id": "59a5947c",
   "metadata": {},
   "source": [
    "Напишем функции для очистки текста"
   ]
  },
  {
   "cell_type": "code",
   "execution_count": 6,
   "id": "6ee63be2",
   "metadata": {},
   "outputs": [],
   "source": [
    "def clear_text(text: str) -> str:\n",
    "    new_text = re.sub(r'[^a-zA-Z0-9]', ' ', text)    \n",
    "    new_text = new_text.split()\n",
    "    new_text = new_text\n",
    "    return ' '.join(new_text).lower()"
   ]
  },
  {
   "cell_type": "markdown",
   "id": "248bb316",
   "metadata": {},
   "source": [
    "Создадим функцию для лемматизации"
   ]
  },
  {
   "cell_type": "code",
   "execution_count": 7,
   "id": "f3b7cf93",
   "metadata": {},
   "outputs": [],
   "source": [
    "def lemmatize(text: str) -> str:\n",
    "    text_list = nltk.word_tokenize(text)\n",
    "    lemm_list = []    \n",
    "    for word in text_list:\n",
    "        lemm_list.append(lemmatizer.lemmatize(word))    \n",
    "    lemm_text = \" \".join(lemm_list)        \n",
    "    return lemm_text"
   ]
  },
  {
   "cell_type": "markdown",
   "id": "b816dcd8",
   "metadata": {},
   "source": [
    "Создадим функцию, которая на вход будет принимать датасет, столбец с текстом и проводить лемматизацию в столбец lemm_text. Поскольку операцию может быть достаточно долгой, то будем проводить её по батчам"
   ]
  },
  {
   "cell_type": "code",
   "execution_count": 8,
   "id": "9f0defc4",
   "metadata": {},
   "outputs": [],
   "source": [
    "def lemmatize_df(df: pd.DataFrame, \n",
    "                 text_column: str, \n",
    "                 batch_size: int = 1000) -> pd.DataFrame:\n",
    "    df = df.copy(deep=True)\n",
    "    df = df.reset_index(drop=True)\n",
    "    column_name = f'lemm_{text_column}'\n",
    "    df[column_name] = ''\n",
    "    for i in notebook.tqdm(range(df.shape[0] // batch_size + 1)):\n",
    "        n = i * batch_size\n",
    "        df.loc[n:n + batch_size - 1, column_name] = df.loc[n:n + batch_size - 1, text_column].apply(clear_text) \n",
    "        df.loc[n:n + batch_size - 1, column_name] = df.loc[n:n + batch_size - 1, column_name].apply(lemmatize) \n",
    "    return df[column_name].values"
   ]
  },
  {
   "cell_type": "markdown",
   "id": "8e43c94d",
   "metadata": {},
   "source": [
    "Напишем ряд функций, которые также будем использовать при объединении датасета."
   ]
  },
  {
   "cell_type": "markdown",
   "id": "8a93fd7a",
   "metadata": {},
   "source": [
    "Напишем функцию для обработки текстовых данных, в том числе и для лемматизации"
   ]
  },
  {
   "cell_type": "code",
   "execution_count": 9,
   "id": "ae2ddf44",
   "metadata": {},
   "outputs": [],
   "source": [
    "def preproc_text(df: pd.DataFrame) -> pd.DataFrame:  \n",
    "    # заполним пропуски в translate_text меткой unknown предврительно добавим столбец с меткой\n",
    "    df['missing_text'] = df['translate_text'].isna().astype('int8')\n",
    "    df['missing_title'] = df['translate_title'].isna().astype('int8')\n",
    "    \n",
    "    df.loc[~df['translate_text'].isna(), 'lemm_text'] = lemmatize_df(df.loc[~df['translate_text'].isna()], 'translate_text')    \n",
    "    df['lemm_text'] =  df['lemm_text'].fillna('unknown') \n",
    "    \n",
    "    df.loc[~df['translate_title'].isna(), 'lemm_title'] = lemmatize_df(df.loc[~df['translate_title'].isna()], 'translate_title')    \n",
    "    df['lemm_title'] =  df['lemm_title'].fillna('unknown') \n",
    "    # удалим старые столбцы    \n",
    "    df = df.drop(['translate_title', 'translate_text'], axis = 1)     \n",
    "    \n",
    "    # на лемматизации могли полностью уйти некоторые тексты и заголовки, поэтому добавим таким соответствующую метку\n",
    "    df.loc[df['lemm_text']=='', 'missing_text'] = 1\n",
    "    df.loc[df['lemm_title']=='', 'missing_title'] = 1\n",
    "    df.loc[df['lemm_text']=='', 'lemm_text'] = 'non_lemm' \n",
    "    df.loc[df['lemm_title']=='', 'lemm_title'] = 'non_lemm'\n",
    "    \n",
    "    return df"
   ]
  },
  {
   "cell_type": "markdown",
   "id": "524cebd2",
   "metadata": {},
   "source": [
    "Создадим функцию, которая восстанавливает язык из первоначальных и полученных данных."
   ]
  },
  {
   "cell_type": "code",
   "execution_count": 10,
   "id": "8155793d",
   "metadata": {},
   "outputs": [],
   "source": [
    "def preproc_language(df: pd.DataFrame) -> pd.DataFrame:  \n",
    "    # заполним пропуски в языке сначала на основе языка текста, если его нет, то по языку заголовка\n",
    "    df.loc[df['language'].isna(), 'language'] = df.loc[df['language'].isna(), 'lyric_language']\n",
    "    df.loc[df['language'].isna(), 'language'] = df.loc[df['language'].isna(), 'title_language']\n",
    "    df.loc[df['language'].isna(), 'language'] = 'unknown'\n",
    "    # удалим использованные столбцы с языками    \n",
    "    df = df.drop(['lyric_language', 'title_language'], axis = 1)    \n",
    "    return df"
   ]
  },
  {
   "cell_type": "markdown",
   "id": "f42b6ab4",
   "metadata": {},
   "source": [
    "Напишем функцию для полуения признаков из isrc"
   ]
  },
  {
   "cell_type": "code",
   "execution_count": 11,
   "id": "ed6f28f6",
   "metadata": {},
   "outputs": [],
   "source": [
    "def get_features_isrc(df: pd.DataFrame) -> pd.DataFrame:  \n",
    "    df = df.copy(deep = True)\n",
    "    # вытягиваем признаки из isrc делае предварительно стодбец с меткой отсутсвия данного параметра\n",
    "    df['missing_isrc'] = df['isrc'].isna().astype('int8') \n",
    "    df['isrc'] = df['isrc'].str.replace('-', '') # уберём дефисы\n",
    "    df['isrc'] = df['isrc'].str.replace(' ', '') # предусмотрим возможность убрать пробелы\n",
    "    # получим год создания записи в виде строки\n",
    "    df.loc[~df['isrc'].isna(), 'cat_year_isrc'] = (df.loc[~df['isrc'].isna(), 'isrc']\n",
    "                                                               .str[5:7].apply(lambda x: '19' +  x if int(x) > 23 \n",
    "                                                                               else '20' + x))\n",
    "    # преобразуем в числовой признак\n",
    "    df.loc[~df['cat_year_isrc'].isna(),'num_year'] = df.loc[~df['cat_year_isrc'].isna(), 'cat_year_isrc']\n",
    "    # для строк с пропусками вытянем год из dttm\n",
    "    df.loc[df['cat_year_isrc'].isna(),'num_year'] = df.loc[df['cat_year_isrc'].isna(), 'dttm'].dt.year\n",
    "    df['num_year'] = df['num_year'].astype('int')\n",
    "    \n",
    "    # извлекаем код страны\n",
    "    df['country_of_track'] = df['isrc'].str[:2]\n",
    "    # извлекаем код регистранта\n",
    "    df['reg_code'] = df['isrc'].str[2:5]\n",
    "    df[['cat_year_isrc', 'country_of_track', 'reg_code']] = df[['cat_year_isrc', \n",
    "                                                                'country_of_track', \n",
    "                                                                'reg_code']].fillna('unknown')\n",
    "    # удалим столбец isrcc    \n",
    "    df = df.drop('isrc', axis = 1)   \n",
    "    \n",
    "    return df"
   ]
  },
  {
   "cell_type": "markdown",
   "id": "e173fbdf",
   "metadata": {},
   "source": [
    "Напишем функцию для получения жанров"
   ]
  },
  {
   "cell_type": "code",
   "execution_count": 12,
   "id": "aacecaa4",
   "metadata": {},
   "outputs": [],
   "source": [
    "def preproc_genres(df: pd.DataFrame) -> pd.DataFrame:  \n",
    "    df = df.copy(deep = True) \n",
    "    # создадим словарь с количеством вхождений жанров, отсортируем его и возьмём топ 15 популярных жанров\n",
    "    dict_genres = dict()\n",
    "    for genres in df['genres'].values:\n",
    "        for genre in genres:\n",
    "            if genre not in dict_genres.keys():\n",
    "                dict_genres[genre] = 0\n",
    "            dict_genres[genre] += 1\n",
    "    dict_genres = sorted(dict_genres.items(), key=lambda item: item[1], reverse=True)\n",
    "    top_15_genres = [x[0] for x in dict_genres [:15]]\n",
    "\n",
    "    # закодируем их\n",
    "    for genre in top_15_genres:\n",
    "        df[f'genre_{genre}'] = df['genres'].apply(lambda x: 1 if genre in x else 0)\n",
    "\n",
    "    # обработаем треки без жанра   \n",
    "    mask = df['genres'].isin([[]])\n",
    "    df['unknown_genre'] = mask.astype('int8')\n",
    "\n",
    "    # обработаем невошедшие треки\n",
    "    df['genre_other'] = 0\n",
    "    df.loc[~mask, 'genre_other'] = (df.loc[~mask, 'genres']\n",
    "                                          .apply(lambda x: max([1 if i not in top_15_genres else 0 for i in x])))\n",
    "\n",
    "    # сделаем группировку по крпуным жанрам\n",
    "    for group_genre in ['ROCK', 'RAP', 'POP', 'FOLK', 'RUS']:\n",
    "        column = f'genre_group_{group_genre}'\n",
    "        df[column] = 0\n",
    "        df.loc[~mask, column] = (df.loc[~mask, 'genres']\n",
    "                                          .apply(lambda x: max([1 if group_genre in i else 0 for i in x])))\n",
    "    df = df.drop('genres', axis = 1)\n",
    "    return df"
   ]
  },
  {
   "cell_type": "markdown",
   "id": "a41ebf58",
   "metadata": {},
   "source": [
    "Напишем функцию, которая на вход будет принимать пути к нашим датасетам, проводить чистку данных и возвращать объединённый датасет. "
   ]
  },
  {
   "cell_type": "code",
   "execution_count": 13,
   "id": "76830adc",
   "metadata": {},
   "outputs": [],
   "source": [
    "def get_united_df(path_covers: str, path_lyrics: str, path_title: str, path_meta: str) -> pd.DataFrame:\n",
    "    df_covers = pd.read_json(path_covers, lines=True)\n",
    "    df_lyrics = pd.read_csv(path_lyrics)[['track_id', 'language', 'translate_text']]\n",
    "    df_meta = pd.read_json(path_meta, lines=True, convert_dates=['dttm'])\n",
    "    df_title = pd.read_csv(PATH_TRANSLETE_TITLE)[['track_id', 'title_language', 'translate_title']]\n",
    "        \n",
    "    # удалим дубликаты треков в df_lyric (по track_id)\n",
    "    df_lyrics = df_lyrics.rename(columns={'language': 'lyric_language'})\n",
    "    df_lyrics = df_lyrics.drop_duplicates(subset='track_id')\n",
    "    \n",
    "    # из df_meta удалим строку с пропуском и убираем треки с 0 длительностью\n",
    "    df_meta = df_meta.dropna(subset='track_id')\n",
    "    df_meta = df_meta.drop('title', axis = 1)\n",
    "    df_meta = df_meta[df_meta['duration']!=0]\n",
    "    \n",
    "    # объединяем через left, чтобы не потерять данные\n",
    "    df_union = (df_meta.merge(df_covers, on = 'track_id', how = 'left')\n",
    "                     .merge(df_lyrics, on = 'track_id', how = 'left')\n",
    "                     .merge(df_title, on = 'track_id', how = 'left'))\n",
    "    \n",
    "    df_union = preproc_text(df_union)    \n",
    "    df_union = preproc_language(df_union)\n",
    "    df_union = get_features_isrc(df_union)\n",
    "    df_union = preproc_genres(df_union)\n",
    "    \n",
    "    return df_union"
   ]
  },
  {
   "cell_type": "code",
   "execution_count": 14,
   "id": "05230208",
   "metadata": {},
   "outputs": [
    {
     "data": {
      "application/vnd.jupyter.widget-view+json": {
       "model_id": "8327763d3e3648edbab78b564360e1a0",
       "version_major": 2,
       "version_minor": 0
      },
      "text/plain": [
       "  0%|          | 0/11 [00:00<?, ?it/s]"
      ]
     },
     "metadata": {},
     "output_type": "display_data"
    },
    {
     "data": {
      "application/vnd.jupyter.widget-view+json": {
       "model_id": "28f70a22bafb4300bfaf34cffd565341",
       "version_major": 2,
       "version_minor": 0
      },
      "text/plain": [
       "  0%|          | 0/72 [00:00<?, ?it/s]"
      ]
     },
     "metadata": {},
     "output_type": "display_data"
    },
    {
     "data": {
      "text/plain": [
       "(71399, 37)"
      ]
     },
     "execution_count": 14,
     "metadata": {},
     "output_type": "execute_result"
    }
   ],
   "source": [
    "df_union = get_united_df(PATH_COVERS, PATH_TRANSLETE_LYRICS, PATH_TRANSLETE_TITLE, PATH_META)\n",
    "df_union.shape"
   ]
  },
  {
   "cell_type": "markdown",
   "id": "561bad4d",
   "metadata": {},
   "source": [
    "Выведем первые 5 строк датасета и информацию по нему"
   ]
  },
  {
   "cell_type": "code",
   "execution_count": 15,
   "id": "f4a14593",
   "metadata": {},
   "outputs": [
    {
     "data": {
      "text/html": [
       "<div>\n",
       "<style scoped>\n",
       "    .dataframe tbody tr th:only-of-type {\n",
       "        vertical-align: middle;\n",
       "    }\n",
       "\n",
       "    .dataframe tbody tr th {\n",
       "        vertical-align: top;\n",
       "    }\n",
       "\n",
       "    .dataframe thead th {\n",
       "        text-align: right;\n",
       "    }\n",
       "</style>\n",
       "<table border=\"1\" class=\"dataframe\">\n",
       "  <thead>\n",
       "    <tr style=\"text-align: right;\">\n",
       "      <th></th>\n",
       "      <th>track_id</th>\n",
       "      <th>dttm</th>\n",
       "      <th>language</th>\n",
       "      <th>duration</th>\n",
       "      <th>original_track_id</th>\n",
       "      <th>track_remake_type</th>\n",
       "      <th>missing_text</th>\n",
       "      <th>missing_title</th>\n",
       "      <th>lemm_text</th>\n",
       "      <th>lemm_title</th>\n",
       "      <th>...</th>\n",
       "      <th>genre_SPIRITUAL</th>\n",
       "      <th>genre_RUSPOP</th>\n",
       "      <th>genre_JAZZ</th>\n",
       "      <th>unknown_genre</th>\n",
       "      <th>genre_other</th>\n",
       "      <th>genre_group_ROCK</th>\n",
       "      <th>genre_group_RAP</th>\n",
       "      <th>genre_group_POP</th>\n",
       "      <th>genre_group_FOLK</th>\n",
       "      <th>genre_group_RUS</th>\n",
       "    </tr>\n",
       "  </thead>\n",
       "  <tbody>\n",
       "    <tr>\n",
       "      <th>0</th>\n",
       "      <td>c3b9d6a354ca008aa4518329aaa21380</td>\n",
       "      <td>2021-12-16 21:00:00</td>\n",
       "      <td>EN</td>\n",
       "      <td>161120.0</td>\n",
       "      <td>None</td>\n",
       "      <td>COVER</td>\n",
       "      <td>0</td>\n",
       "      <td>0</td>\n",
       "      <td>no more champagne and the firework are through...</td>\n",
       "      <td>happy new year</td>\n",
       "      <td>...</td>\n",
       "      <td>0</td>\n",
       "      <td>0</td>\n",
       "      <td>0</td>\n",
       "      <td>0</td>\n",
       "      <td>0</td>\n",
       "      <td>0</td>\n",
       "      <td>0</td>\n",
       "      <td>0</td>\n",
       "      <td>0</td>\n",
       "      <td>0</td>\n",
       "    </tr>\n",
       "    <tr>\n",
       "      <th>1</th>\n",
       "      <td>c57e3d13bbbf5322584a7e92e6f1f7ff</td>\n",
       "      <td>2021-11-24 14:00:33</td>\n",
       "      <td>EN</td>\n",
       "      <td>362260.0</td>\n",
       "      <td>None</td>\n",
       "      <td>COVER</td>\n",
       "      <td>0</td>\n",
       "      <td>0</td>\n",
       "      <td>ooh ooh ooh ooh every time you come around you...</td>\n",
       "      <td>bad habit</td>\n",
       "      <td>...</td>\n",
       "      <td>0</td>\n",
       "      <td>0</td>\n",
       "      <td>0</td>\n",
       "      <td>0</td>\n",
       "      <td>0</td>\n",
       "      <td>0</td>\n",
       "      <td>0</td>\n",
       "      <td>0</td>\n",
       "      <td>0</td>\n",
       "      <td>0</td>\n",
       "    </tr>\n",
       "    <tr>\n",
       "      <th>2</th>\n",
       "      <td>955f2aafe8717908c140bf122ba4172d</td>\n",
       "      <td>2021-11-24 15:37:03</td>\n",
       "      <td>ES</td>\n",
       "      <td>260000.0</td>\n",
       "      <td>None</td>\n",
       "      <td>COVER</td>\n",
       "      <td>1</td>\n",
       "      <td>0</td>\n",
       "      <td>unknown</td>\n",
       "      <td>for this crazy vanity</td>\n",
       "      <td>...</td>\n",
       "      <td>0</td>\n",
       "      <td>0</td>\n",
       "      <td>0</td>\n",
       "      <td>0</td>\n",
       "      <td>0</td>\n",
       "      <td>0</td>\n",
       "      <td>0</td>\n",
       "      <td>0</td>\n",
       "      <td>1</td>\n",
       "      <td>0</td>\n",
       "    </tr>\n",
       "    <tr>\n",
       "      <th>3</th>\n",
       "      <td>fae5a077c9956045955dde02143bd8ff</td>\n",
       "      <td>2021-11-24 15:37:03</td>\n",
       "      <td>ES</td>\n",
       "      <td>190000.0</td>\n",
       "      <td>None</td>\n",
       "      <td>COVER</td>\n",
       "      <td>1</td>\n",
       "      <td>0</td>\n",
       "      <td>unknown</td>\n",
       "      <td>a thousand tear</td>\n",
       "      <td>...</td>\n",
       "      <td>0</td>\n",
       "      <td>0</td>\n",
       "      <td>0</td>\n",
       "      <td>0</td>\n",
       "      <td>0</td>\n",
       "      <td>0</td>\n",
       "      <td>0</td>\n",
       "      <td>0</td>\n",
       "      <td>1</td>\n",
       "      <td>0</td>\n",
       "    </tr>\n",
       "    <tr>\n",
       "      <th>4</th>\n",
       "      <td>6bede082154d34fc18d9a6744bc95bf5</td>\n",
       "      <td>2021-11-24 15:37:03</td>\n",
       "      <td>ES</td>\n",
       "      <td>203000.0</td>\n",
       "      <td>None</td>\n",
       "      <td>COVER</td>\n",
       "      <td>1</td>\n",
       "      <td>0</td>\n",
       "      <td>unknown</td>\n",
       "      <td>sex smoke and alcohol</td>\n",
       "      <td>...</td>\n",
       "      <td>0</td>\n",
       "      <td>0</td>\n",
       "      <td>0</td>\n",
       "      <td>0</td>\n",
       "      <td>0</td>\n",
       "      <td>0</td>\n",
       "      <td>0</td>\n",
       "      <td>0</td>\n",
       "      <td>1</td>\n",
       "      <td>0</td>\n",
       "    </tr>\n",
       "  </tbody>\n",
       "</table>\n",
       "<p>5 rows × 37 columns</p>\n",
       "</div>"
      ],
      "text/plain": [
       "                           track_id                dttm language  duration  \\\n",
       "0  c3b9d6a354ca008aa4518329aaa21380 2021-12-16 21:00:00       EN  161120.0   \n",
       "1  c57e3d13bbbf5322584a7e92e6f1f7ff 2021-11-24 14:00:33       EN  362260.0   \n",
       "2  955f2aafe8717908c140bf122ba4172d 2021-11-24 15:37:03       ES  260000.0   \n",
       "3  fae5a077c9956045955dde02143bd8ff 2021-11-24 15:37:03       ES  190000.0   \n",
       "4  6bede082154d34fc18d9a6744bc95bf5 2021-11-24 15:37:03       ES  203000.0   \n",
       "\n",
       "  original_track_id track_remake_type  missing_text  missing_title  \\\n",
       "0              None             COVER             0              0   \n",
       "1              None             COVER             0              0   \n",
       "2              None             COVER             1              0   \n",
       "3              None             COVER             1              0   \n",
       "4              None             COVER             1              0   \n",
       "\n",
       "                                           lemm_text             lemm_title  \\\n",
       "0  no more champagne and the firework are through...         happy new year   \n",
       "1  ooh ooh ooh ooh every time you come around you...              bad habit   \n",
       "2                                            unknown  for this crazy vanity   \n",
       "3                                            unknown        a thousand tear   \n",
       "4                                            unknown  sex smoke and alcohol   \n",
       "\n",
       "   ...  genre_SPIRITUAL genre_RUSPOP  genre_JAZZ unknown_genre genre_other  \\\n",
       "0  ...                0            0           0             0           0   \n",
       "1  ...                0            0           0             0           0   \n",
       "2  ...                0            0           0             0           0   \n",
       "3  ...                0            0           0             0           0   \n",
       "4  ...                0            0           0             0           0   \n",
       "\n",
       "   genre_group_ROCK  genre_group_RAP  genre_group_POP  genre_group_FOLK  \\\n",
       "0                 0                0                0                 0   \n",
       "1                 0                0                0                 0   \n",
       "2                 0                0                0                 1   \n",
       "3                 0                0                0                 1   \n",
       "4                 0                0                0                 1   \n",
       "\n",
       "   genre_group_RUS  \n",
       "0                0  \n",
       "1                0  \n",
       "2                0  \n",
       "3                0  \n",
       "4                0  \n",
       "\n",
       "[5 rows x 37 columns]"
      ]
     },
     "execution_count": 15,
     "metadata": {},
     "output_type": "execute_result"
    }
   ],
   "source": [
    "df_union.head()"
   ]
  },
  {
   "cell_type": "code",
   "execution_count": 16,
   "id": "37bc6fb8",
   "metadata": {},
   "outputs": [
    {
     "name": "stdout",
     "output_type": "stream",
     "text": [
      "<class 'pandas.core.frame.DataFrame'>\n",
      "RangeIndex: 71399 entries, 0 to 71398\n",
      "Data columns (total 37 columns):\n",
      " #   Column                Non-Null Count  Dtype         \n",
      "---  ------                --------------  -----         \n",
      " 0   track_id              71399 non-null  object        \n",
      " 1   dttm                  71399 non-null  datetime64[ns]\n",
      " 2   language              71399 non-null  object        \n",
      " 3   duration              71399 non-null  float64       \n",
      " 4   original_track_id     4820 non-null   object        \n",
      " 5   track_remake_type     71228 non-null  object        \n",
      " 6   missing_text          71399 non-null  int8          \n",
      " 7   missing_title         71399 non-null  int8          \n",
      " 8   lemm_text             71399 non-null  object        \n",
      " 9   lemm_title            71399 non-null  object        \n",
      " 10  missing_isrc          71399 non-null  int8          \n",
      " 11  cat_year_isrc         71399 non-null  object        \n",
      " 12  num_year              71399 non-null  int32         \n",
      " 13  country_of_track      71399 non-null  object        \n",
      " 14  reg_code              71399 non-null  object        \n",
      " 15  genre_FOLK            71399 non-null  int64         \n",
      " 16  genre_LATINFOLK       71399 non-null  int64         \n",
      " 17  genre_POP             71399 non-null  int64         \n",
      " 18  genre_ALLROCK         71399 non-null  int64         \n",
      " 19  genre_ROCK            71399 non-null  int64         \n",
      " 20  genre_ALTERNATIVE     71399 non-null  int64         \n",
      " 21  genre_ELECTRONICS     71399 non-null  int64         \n",
      " 22  genre_SOUNDTRACK      71399 non-null  int64         \n",
      " 23  genre_RAP             71399 non-null  int64         \n",
      " 24  genre_DANCE           71399 non-null  int64         \n",
      " 25  genre_METAL           71399 non-null  int64         \n",
      " 26  genre_CLASSICALMUSIC  71399 non-null  int64         \n",
      " 27  genre_SPIRITUAL       71399 non-null  int64         \n",
      " 28  genre_RUSPOP          71399 non-null  int64         \n",
      " 29  genre_JAZZ            71399 non-null  int64         \n",
      " 30  unknown_genre         71399 non-null  int8          \n",
      " 31  genre_other           71399 non-null  int64         \n",
      " 32  genre_group_ROCK      71399 non-null  int64         \n",
      " 33  genre_group_RAP       71399 non-null  int64         \n",
      " 34  genre_group_POP       71399 non-null  int64         \n",
      " 35  genre_group_FOLK      71399 non-null  int64         \n",
      " 36  genre_group_RUS       71399 non-null  int64         \n",
      "dtypes: datetime64[ns](1), float64(1), int32(1), int64(21), int8(4), object(9)\n",
      "memory usage: 18.0+ MB\n"
     ]
    }
   ],
   "source": [
    "df_union.info()"
   ]
  },
  {
   "cell_type": "markdown",
   "id": "2a34f2b8",
   "metadata": {},
   "source": [
    "У нас формирован первичный датасет для дальнейших задач, в нём есть пропуски, но одни из них не критичны для решения 1 задачи, другие для второй. Поэтому дальнейшую обработку будем вести отдельно для каждой задачи. \n",
    "\n",
    "Сохраним получившийся датасет."
   ]
  },
  {
   "cell_type": "code",
   "execution_count": 17,
   "id": "be66cc86",
   "metadata": {},
   "outputs": [],
   "source": [
    "df_union.to_csv(PATH_SAVE_UNITED_DF, index=False)"
   ]
  },
  {
   "cell_type": "markdown",
   "id": "b8655386",
   "metadata": {},
   "source": [
    "## Обработка датасета для задачи классификации треков по признаку кавер-оригинал (1 задача)"
   ]
  },
  {
   "cell_type": "markdown",
   "id": "392516fb",
   "metadata": {},
   "source": [
    "Для решения данной задачи нам потребуется видоизменить датасет: Удалить столбцы с id, датой добавления в базу, текстом, преобразовать track_remake_type. Также попробуем вытащить допонительные признаки из названия трека."
   ]
  },
  {
   "cell_type": "markdown",
   "id": "30cde31d",
   "metadata": {},
   "source": [
    "Удалим лишние столбцы"
   ]
  },
  {
   "cell_type": "code",
   "execution_count": 18,
   "id": "43ada81b",
   "metadata": {},
   "outputs": [],
   "source": [
    "df_task_1 = df_union.drop(['track_id', 'dttm', 'original_track_id', 'lemm_text'], axis=1)"
   ]
  },
  {
   "cell_type": "markdown",
   "id": "33c1c8a6",
   "metadata": {},
   "source": [
    "В некоторых треках могут встречаться слова указывающие на принадлежность к каверам (remix, cover) "
   ]
  },
  {
   "cell_type": "code",
   "execution_count": 19,
   "id": "d7c3a3ad",
   "metadata": {},
   "outputs": [],
   "source": [
    "df_task_1['cover_word'] = ((df_task_1['lemm_title'].str.count('remix') > 0) |\n",
    "                          (df_task_1['lemm_title'].str.count('cover') > 0)).astype('int8')\n",
    "df_task_1 = df_task_1.drop('lemm_title', axis=1)"
   ]
  },
  {
   "cell_type": "markdown",
   "id": "39b2d598",
   "metadata": {},
   "source": [
    "На этапе EDA было установлено, что треки длиной меньше 89000 и больше 565000, как правило относятся к каверам. Поэтому добавим признак, который будет явно это указывать."
   ]
  },
  {
   "cell_type": "code",
   "execution_count": 20,
   "id": "b2222356",
   "metadata": {},
   "outputs": [],
   "source": [
    "df_task_1['duration_flag'] = ((df_task_1['duration'] < 89000) |\n",
    "                              (df_task_1['duration'] > 565000)).astype('int8')"
   ]
  },
  {
   "cell_type": "markdown",
   "id": "cd432b82",
   "metadata": {},
   "source": [
    "Поскольку у нас в целевом признаке стоят пропуски, то удалим такие строки"
   ]
  },
  {
   "cell_type": "code",
   "execution_count": 21,
   "id": "aef310e1",
   "metadata": {},
   "outputs": [],
   "source": [
    "df_task_1 = df_task_1.dropna(subset='track_remake_type')"
   ]
  },
  {
   "cell_type": "markdown",
   "id": "2c50e2e0",
   "metadata": {},
   "source": [
    "Добавим столбец target. Примем его равным 1, если в track_remake_type стоит ORIGINAL"
   ]
  },
  {
   "cell_type": "code",
   "execution_count": 22,
   "id": "21b9f593",
   "metadata": {},
   "outputs": [],
   "source": [
    "df_task_1['target'] = (df_task_1['track_remake_type'] == 'ORIGINAL').astype('int8')\n",
    "df_task_1 = df_task_1.drop('track_remake_type', axis=1)"
   ]
  },
  {
   "cell_type": "markdown",
   "id": "6b4c0e49",
   "metadata": {},
   "source": [
    "Разделим датсет на обучающую и тестовую выборки"
   ]
  },
  {
   "cell_type": "code",
   "execution_count": 23,
   "id": "fb33c967",
   "metadata": {},
   "outputs": [],
   "source": [
    "df_task_1_train, df_task_1_test = train_test_split(df_task_1,\n",
    "                                                   random_state=RANDOM_STATE,\n",
    "                                                   test_size=0.2,\n",
    "                                                   stratify=df_task_1['target'])"
   ]
  },
  {
   "cell_type": "markdown",
   "id": "8809eb29",
   "metadata": {},
   "source": [
    "Сохраним полученные датасеты"
   ]
  },
  {
   "cell_type": "code",
   "execution_count": 24,
   "id": "752f6844",
   "metadata": {},
   "outputs": [],
   "source": [
    "df_task_1_train.to_csv(PATH_SAVE_TRAIN_TASK1, index=False)\n",
    "df_task_1_test.to_csv(PATH_SAVE_TEST_TASK1, index=False)"
   ]
  },
  {
   "cell_type": "markdown",
   "id": "1c241156",
   "metadata": {},
   "source": [
    "Выберем track_id для тестового датасета. Они нам понадобятся при оценке работы алгоритма для 3 модели и сохраним его."
   ]
  },
  {
   "cell_type": "code",
   "execution_count": 25,
   "id": "60ac8b51",
   "metadata": {},
   "outputs": [],
   "source": [
    "df_task_1_test_track_id = df_union.loc[df_task_1_test.index][['track_id']]"
   ]
  },
  {
   "cell_type": "code",
   "execution_count": 26,
   "id": "3af45416",
   "metadata": {},
   "outputs": [],
   "source": [
    "df_task_1_test_track_id.to_csv(PATH_SAVE_TEST_TASK1_TRACK_ID, index=False)"
   ]
  },
  {
   "cell_type": "markdown",
   "id": "98a9120c",
   "metadata": {},
   "source": [
    "## Обработка датасета для задачи нахождения групп каверов / оригиналов (2 задача)"
   ]
  },
  {
   "cell_type": "markdown",
   "id": "f5acd923",
   "metadata": {},
   "source": [
    "Данный подраздел будет посвящён созданию датасета для решения второй задачи, а также векторизации текста для данной задачи. Чтобы решить эту задачу необходимо наличие столбца original_track_id, чтобы понять какие треки являются каверами, для каких треков. А также наличие текста как такового."
   ]
  },
  {
   "cell_type": "code",
   "execution_count": 27,
   "id": "3f82cab1",
   "metadata": {},
   "outputs": [],
   "source": [
    "df_task_2 = df_union.dropna(subset='original_track_id')\n",
    "df_task_2 = df_task_2[df_task_2['missing_text'] == 0]"
   ]
  },
  {
   "cell_type": "markdown",
   "id": "99de0ada",
   "metadata": {},
   "source": [
    "Для решения данной задачи нам не нужна дата заливки в базу и track_remake_type. Первый столбец удалим, а второй оставим, поскольку он нам может помочь оценивать модель и сами данные."
   ]
  },
  {
   "cell_type": "code",
   "execution_count": 28,
   "id": "96f8ca8e",
   "metadata": {},
   "outputs": [],
   "source": [
    "df_task_2 = df_task_2.drop('dttm', axis = 1)"
   ]
  },
  {
   "cell_type": "markdown",
   "id": "49967be9",
   "metadata": {},
   "source": [
    "выведем информацию о датасете и первые 5 строк"
   ]
  },
  {
   "cell_type": "code",
   "execution_count": 29,
   "id": "720fbc9f",
   "metadata": {},
   "outputs": [
    {
     "name": "stdout",
     "output_type": "stream",
     "text": [
      "<class 'pandas.core.frame.DataFrame'>\n",
      "Index: 3032 entries, 114 to 71398\n",
      "Data columns (total 36 columns):\n",
      " #   Column                Non-Null Count  Dtype  \n",
      "---  ------                --------------  -----  \n",
      " 0   track_id              3032 non-null   object \n",
      " 1   language              3032 non-null   object \n",
      " 2   duration              3032 non-null   float64\n",
      " 3   original_track_id     3032 non-null   object \n",
      " 4   track_remake_type     3032 non-null   object \n",
      " 5   missing_text          3032 non-null   int8   \n",
      " 6   missing_title         3032 non-null   int8   \n",
      " 7   lemm_text             3032 non-null   object \n",
      " 8   lemm_title            3032 non-null   object \n",
      " 9   missing_isrc          3032 non-null   int8   \n",
      " 10  cat_year_isrc         3032 non-null   object \n",
      " 11  num_year              3032 non-null   int32  \n",
      " 12  country_of_track      3032 non-null   object \n",
      " 13  reg_code              3032 non-null   object \n",
      " 14  genre_FOLK            3032 non-null   int64  \n",
      " 15  genre_LATINFOLK       3032 non-null   int64  \n",
      " 16  genre_POP             3032 non-null   int64  \n",
      " 17  genre_ALLROCK         3032 non-null   int64  \n",
      " 18  genre_ROCK            3032 non-null   int64  \n",
      " 19  genre_ALTERNATIVE     3032 non-null   int64  \n",
      " 20  genre_ELECTRONICS     3032 non-null   int64  \n",
      " 21  genre_SOUNDTRACK      3032 non-null   int64  \n",
      " 22  genre_RAP             3032 non-null   int64  \n",
      " 23  genre_DANCE           3032 non-null   int64  \n",
      " 24  genre_METAL           3032 non-null   int64  \n",
      " 25  genre_CLASSICALMUSIC  3032 non-null   int64  \n",
      " 26  genre_SPIRITUAL       3032 non-null   int64  \n",
      " 27  genre_RUSPOP          3032 non-null   int64  \n",
      " 28  genre_JAZZ            3032 non-null   int64  \n",
      " 29  unknown_genre         3032 non-null   int8   \n",
      " 30  genre_other           3032 non-null   int64  \n",
      " 31  genre_group_ROCK      3032 non-null   int64  \n",
      " 32  genre_group_RAP       3032 non-null   int64  \n",
      " 33  genre_group_POP       3032 non-null   int64  \n",
      " 34  genre_group_FOLK      3032 non-null   int64  \n",
      " 35  genre_group_RUS       3032 non-null   int64  \n",
      "dtypes: float64(1), int32(1), int64(21), int8(4), object(9)\n",
      "memory usage: 781.7+ KB\n"
     ]
    }
   ],
   "source": [
    "df_task_2.info()"
   ]
  },
  {
   "cell_type": "code",
   "execution_count": 30,
   "id": "320c960b",
   "metadata": {},
   "outputs": [
    {
     "data": {
      "text/html": [
       "<div>\n",
       "<style scoped>\n",
       "    .dataframe tbody tr th:only-of-type {\n",
       "        vertical-align: middle;\n",
       "    }\n",
       "\n",
       "    .dataframe tbody tr th {\n",
       "        vertical-align: top;\n",
       "    }\n",
       "\n",
       "    .dataframe thead th {\n",
       "        text-align: right;\n",
       "    }\n",
       "</style>\n",
       "<table border=\"1\" class=\"dataframe\">\n",
       "  <thead>\n",
       "    <tr style=\"text-align: right;\">\n",
       "      <th></th>\n",
       "      <th>track_id</th>\n",
       "      <th>language</th>\n",
       "      <th>duration</th>\n",
       "      <th>original_track_id</th>\n",
       "      <th>track_remake_type</th>\n",
       "      <th>missing_text</th>\n",
       "      <th>missing_title</th>\n",
       "      <th>lemm_text</th>\n",
       "      <th>lemm_title</th>\n",
       "      <th>missing_isrc</th>\n",
       "      <th>...</th>\n",
       "      <th>genre_SPIRITUAL</th>\n",
       "      <th>genre_RUSPOP</th>\n",
       "      <th>genre_JAZZ</th>\n",
       "      <th>unknown_genre</th>\n",
       "      <th>genre_other</th>\n",
       "      <th>genre_group_ROCK</th>\n",
       "      <th>genre_group_RAP</th>\n",
       "      <th>genre_group_POP</th>\n",
       "      <th>genre_group_FOLK</th>\n",
       "      <th>genre_group_RUS</th>\n",
       "    </tr>\n",
       "  </thead>\n",
       "  <tbody>\n",
       "    <tr>\n",
       "      <th>114</th>\n",
       "      <td>b3f815190f0b9f5dccd5ab1240bc6984</td>\n",
       "      <td>RU</td>\n",
       "      <td>134040.0</td>\n",
       "      <td>b3f815190f0b9f5dccd5ab1240bc6984</td>\n",
       "      <td>ORIGINAL</td>\n",
       "      <td>0</td>\n",
       "      <td>0</td>\n",
       "      <td>and in summer cross on white white snow and we...</td>\n",
       "      <td>in summer cross</td>\n",
       "      <td>0</td>\n",
       "      <td>...</td>\n",
       "      <td>0</td>\n",
       "      <td>1</td>\n",
       "      <td>0</td>\n",
       "      <td>0</td>\n",
       "      <td>0</td>\n",
       "      <td>0</td>\n",
       "      <td>0</td>\n",
       "      <td>1</td>\n",
       "      <td>0</td>\n",
       "      <td>1</td>\n",
       "    </tr>\n",
       "    <tr>\n",
       "      <th>150</th>\n",
       "      <td>672374243edf80a61cbade5433ee4f3d</td>\n",
       "      <td>EN</td>\n",
       "      <td>114350.0</td>\n",
       "      <td>672374243edf80a61cbade5433ee4f3d</td>\n",
       "      <td>ORIGINAL</td>\n",
       "      <td>0</td>\n",
       "      <td>0</td>\n",
       "      <td>start your day right have your caf latte with ...</td>\n",
       "      <td>ocean avenue</td>\n",
       "      <td>0</td>\n",
       "      <td>...</td>\n",
       "      <td>0</td>\n",
       "      <td>0</td>\n",
       "      <td>0</td>\n",
       "      <td>0</td>\n",
       "      <td>0</td>\n",
       "      <td>0</td>\n",
       "      <td>0</td>\n",
       "      <td>0</td>\n",
       "      <td>0</td>\n",
       "      <td>0</td>\n",
       "    </tr>\n",
       "    <tr>\n",
       "      <th>151</th>\n",
       "      <td>f21c0bc4ef5a4173e243dd130eb022e4</td>\n",
       "      <td>EN</td>\n",
       "      <td>114390.0</td>\n",
       "      <td>f21c0bc4ef5a4173e243dd130eb022e4</td>\n",
       "      <td>ORIGINAL</td>\n",
       "      <td>0</td>\n",
       "      <td>0</td>\n",
       "      <td>everything you do make me come alive make me c...</td>\n",
       "      <td>never say goodbye</td>\n",
       "      <td>0</td>\n",
       "      <td>...</td>\n",
       "      <td>0</td>\n",
       "      <td>0</td>\n",
       "      <td>0</td>\n",
       "      <td>0</td>\n",
       "      <td>0</td>\n",
       "      <td>0</td>\n",
       "      <td>0</td>\n",
       "      <td>0</td>\n",
       "      <td>0</td>\n",
       "      <td>0</td>\n",
       "    </tr>\n",
       "    <tr>\n",
       "      <th>152</th>\n",
       "      <td>5178dac1aa69d6ab29975a02f73ec870</td>\n",
       "      <td>EN</td>\n",
       "      <td>100570.0</td>\n",
       "      <td>5178dac1aa69d6ab29975a02f73ec870</td>\n",
       "      <td>ORIGINAL</td>\n",
       "      <td>0</td>\n",
       "      <td>0</td>\n",
       "      <td>when i m with you i m feeling like the sky s m...</td>\n",
       "      <td>malibu</td>\n",
       "      <td>0</td>\n",
       "      <td>...</td>\n",
       "      <td>0</td>\n",
       "      <td>0</td>\n",
       "      <td>0</td>\n",
       "      <td>0</td>\n",
       "      <td>0</td>\n",
       "      <td>0</td>\n",
       "      <td>0</td>\n",
       "      <td>0</td>\n",
       "      <td>0</td>\n",
       "      <td>0</td>\n",
       "    </tr>\n",
       "    <tr>\n",
       "      <th>159</th>\n",
       "      <td>c65204658f95b49542cdf18f82925432</td>\n",
       "      <td>RU</td>\n",
       "      <td>145010.0</td>\n",
       "      <td>c65204658f95b49542cdf18f82925432</td>\n",
       "      <td>ORIGINAL</td>\n",
       "      <td>0</td>\n",
       "      <td>0</td>\n",
       "      <td>i m so high on love catch catch i get so high ...</td>\n",
       "      <td>i m getting high</td>\n",
       "      <td>0</td>\n",
       "      <td>...</td>\n",
       "      <td>0</td>\n",
       "      <td>1</td>\n",
       "      <td>0</td>\n",
       "      <td>0</td>\n",
       "      <td>0</td>\n",
       "      <td>0</td>\n",
       "      <td>0</td>\n",
       "      <td>1</td>\n",
       "      <td>0</td>\n",
       "      <td>1</td>\n",
       "    </tr>\n",
       "  </tbody>\n",
       "</table>\n",
       "<p>5 rows × 36 columns</p>\n",
       "</div>"
      ],
      "text/plain": [
       "                             track_id language  duration  \\\n",
       "114  b3f815190f0b9f5dccd5ab1240bc6984       RU  134040.0   \n",
       "150  672374243edf80a61cbade5433ee4f3d       EN  114350.0   \n",
       "151  f21c0bc4ef5a4173e243dd130eb022e4       EN  114390.0   \n",
       "152  5178dac1aa69d6ab29975a02f73ec870       EN  100570.0   \n",
       "159  c65204658f95b49542cdf18f82925432       RU  145010.0   \n",
       "\n",
       "                    original_track_id track_remake_type  missing_text  \\\n",
       "114  b3f815190f0b9f5dccd5ab1240bc6984          ORIGINAL             0   \n",
       "150  672374243edf80a61cbade5433ee4f3d          ORIGINAL             0   \n",
       "151  f21c0bc4ef5a4173e243dd130eb022e4          ORIGINAL             0   \n",
       "152  5178dac1aa69d6ab29975a02f73ec870          ORIGINAL             0   \n",
       "159  c65204658f95b49542cdf18f82925432          ORIGINAL             0   \n",
       "\n",
       "     missing_title                                          lemm_text  \\\n",
       "114              0  and in summer cross on white white snow and we...   \n",
       "150              0  start your day right have your caf latte with ...   \n",
       "151              0  everything you do make me come alive make me c...   \n",
       "152              0  when i m with you i m feeling like the sky s m...   \n",
       "159              0  i m so high on love catch catch i get so high ...   \n",
       "\n",
       "            lemm_title  missing_isrc  ... genre_SPIRITUAL  genre_RUSPOP  \\\n",
       "114    in summer cross             0  ...               0             1   \n",
       "150       ocean avenue             0  ...               0             0   \n",
       "151  never say goodbye             0  ...               0             0   \n",
       "152             malibu             0  ...               0             0   \n",
       "159   i m getting high             0  ...               0             1   \n",
       "\n",
       "    genre_JAZZ unknown_genre  genre_other  genre_group_ROCK  genre_group_RAP  \\\n",
       "114          0             0            0                 0                0   \n",
       "150          0             0            0                 0                0   \n",
       "151          0             0            0                 0                0   \n",
       "152          0             0            0                 0                0   \n",
       "159          0             0            0                 0                0   \n",
       "\n",
       "     genre_group_POP  genre_group_FOLK  genre_group_RUS  \n",
       "114                1                 0                1  \n",
       "150                0                 0                0  \n",
       "151                0                 0                0  \n",
       "152                0                 0                0  \n",
       "159                1                 0                1  \n",
       "\n",
       "[5 rows x 36 columns]"
      ]
     },
     "execution_count": 30,
     "metadata": {},
     "output_type": "execute_result"
    }
   ],
   "source": [
    "df_task_2.head()"
   ]
  },
  {
   "cell_type": "markdown",
   "id": "34efc448",
   "metadata": {},
   "source": [
    "У нас нет пропусков, однако индексы идут в разнобой, поэтому сбросим их"
   ]
  },
  {
   "cell_type": "code",
   "execution_count": 31,
   "id": "7211b158",
   "metadata": {},
   "outputs": [],
   "source": [
    "df_task_2 = df_task_2.reset_index(drop=True)"
   ]
  },
  {
   "cell_type": "markdown",
   "id": "8ee43fba",
   "metadata": {},
   "source": [
    "Теперь нам нужно создать столбец в котором будут указаны все каверы / оригиналы для конкретного original_track_id и посчитать их количество"
   ]
  },
  {
   "cell_type": "code",
   "execution_count": 32,
   "id": "b92797b5",
   "metadata": {},
   "outputs": [],
   "source": [
    "def make_covers_column(df: pd.DataFrame, count_cover=True) -> pd.DataFrame:\n",
    "    df_new = df.copy(deep=True)\n",
    "    df_group = df.groupby('original_track_id', as_index= False ).agg({'track_id': ' '. join})\n",
    "    df_group = df_group.rename(columns = {'track_id': 'cover_list'})\n",
    "    df_group['cover_list'] = df_group['cover_list'].str.split()\n",
    "    \n",
    "    # присоединим список с датасетом и удалим из списка сам трек\n",
    "    df_new = df_new.merge(df_group, on = 'original_track_id', how='inner')\n",
    "    df_new['cover_list'] = df_new.apply(lambda x: list(set(x['cover_list']) ^ {x['track_id']}), axis=1)\n",
    "    \n",
    "    if count_cover:\n",
    "        df_new['cover_count'] = df_new['cover_list'].apply(lambda x: len(x))\n",
    "\n",
    "    #преобразуем в строку, поскольку планируем сохранять датасет в csv\n",
    "    df_new['cover_list'] = df_new['cover_list'].apply(lambda x: ' '.join(x))\n",
    "    return df_new"
   ]
  },
  {
   "cell_type": "code",
   "execution_count": 33,
   "id": "bfa1982f",
   "metadata": {},
   "outputs": [
    {
     "data": {
      "text/html": [
       "<div>\n",
       "<style scoped>\n",
       "    .dataframe tbody tr th:only-of-type {\n",
       "        vertical-align: middle;\n",
       "    }\n",
       "\n",
       "    .dataframe tbody tr th {\n",
       "        vertical-align: top;\n",
       "    }\n",
       "\n",
       "    .dataframe thead th {\n",
       "        text-align: right;\n",
       "    }\n",
       "</style>\n",
       "<table border=\"1\" class=\"dataframe\">\n",
       "  <thead>\n",
       "    <tr style=\"text-align: right;\">\n",
       "      <th></th>\n",
       "      <th>track_id</th>\n",
       "      <th>language</th>\n",
       "      <th>duration</th>\n",
       "      <th>original_track_id</th>\n",
       "      <th>track_remake_type</th>\n",
       "      <th>missing_text</th>\n",
       "      <th>missing_title</th>\n",
       "      <th>lemm_text</th>\n",
       "      <th>lemm_title</th>\n",
       "      <th>missing_isrc</th>\n",
       "      <th>...</th>\n",
       "      <th>genre_JAZZ</th>\n",
       "      <th>unknown_genre</th>\n",
       "      <th>genre_other</th>\n",
       "      <th>genre_group_ROCK</th>\n",
       "      <th>genre_group_RAP</th>\n",
       "      <th>genre_group_POP</th>\n",
       "      <th>genre_group_FOLK</th>\n",
       "      <th>genre_group_RUS</th>\n",
       "      <th>cover_list</th>\n",
       "      <th>cover_count</th>\n",
       "    </tr>\n",
       "  </thead>\n",
       "  <tbody>\n",
       "    <tr>\n",
       "      <th>0</th>\n",
       "      <td>b3f815190f0b9f5dccd5ab1240bc6984</td>\n",
       "      <td>RU</td>\n",
       "      <td>134040.0</td>\n",
       "      <td>b3f815190f0b9f5dccd5ab1240bc6984</td>\n",
       "      <td>ORIGINAL</td>\n",
       "      <td>0</td>\n",
       "      <td>0</td>\n",
       "      <td>and in summer cross on white white snow and we...</td>\n",
       "      <td>in summer cross</td>\n",
       "      <td>0</td>\n",
       "      <td>...</td>\n",
       "      <td>0</td>\n",
       "      <td>0</td>\n",
       "      <td>0</td>\n",
       "      <td>0</td>\n",
       "      <td>0</td>\n",
       "      <td>1</td>\n",
       "      <td>0</td>\n",
       "      <td>1</td>\n",
       "      <td></td>\n",
       "      <td>0</td>\n",
       "    </tr>\n",
       "    <tr>\n",
       "      <th>1</th>\n",
       "      <td>672374243edf80a61cbade5433ee4f3d</td>\n",
       "      <td>EN</td>\n",
       "      <td>114350.0</td>\n",
       "      <td>672374243edf80a61cbade5433ee4f3d</td>\n",
       "      <td>ORIGINAL</td>\n",
       "      <td>0</td>\n",
       "      <td>0</td>\n",
       "      <td>start your day right have your caf latte with ...</td>\n",
       "      <td>ocean avenue</td>\n",
       "      <td>0</td>\n",
       "      <td>...</td>\n",
       "      <td>0</td>\n",
       "      <td>0</td>\n",
       "      <td>0</td>\n",
       "      <td>0</td>\n",
       "      <td>0</td>\n",
       "      <td>0</td>\n",
       "      <td>0</td>\n",
       "      <td>0</td>\n",
       "      <td></td>\n",
       "      <td>0</td>\n",
       "    </tr>\n",
       "    <tr>\n",
       "      <th>2</th>\n",
       "      <td>f21c0bc4ef5a4173e243dd130eb022e4</td>\n",
       "      <td>EN</td>\n",
       "      <td>114390.0</td>\n",
       "      <td>f21c0bc4ef5a4173e243dd130eb022e4</td>\n",
       "      <td>ORIGINAL</td>\n",
       "      <td>0</td>\n",
       "      <td>0</td>\n",
       "      <td>everything you do make me come alive make me c...</td>\n",
       "      <td>never say goodbye</td>\n",
       "      <td>0</td>\n",
       "      <td>...</td>\n",
       "      <td>0</td>\n",
       "      <td>0</td>\n",
       "      <td>0</td>\n",
       "      <td>0</td>\n",
       "      <td>0</td>\n",
       "      <td>0</td>\n",
       "      <td>0</td>\n",
       "      <td>0</td>\n",
       "      <td></td>\n",
       "      <td>0</td>\n",
       "    </tr>\n",
       "    <tr>\n",
       "      <th>3</th>\n",
       "      <td>5178dac1aa69d6ab29975a02f73ec870</td>\n",
       "      <td>EN</td>\n",
       "      <td>100570.0</td>\n",
       "      <td>5178dac1aa69d6ab29975a02f73ec870</td>\n",
       "      <td>ORIGINAL</td>\n",
       "      <td>0</td>\n",
       "      <td>0</td>\n",
       "      <td>when i m with you i m feeling like the sky s m...</td>\n",
       "      <td>malibu</td>\n",
       "      <td>0</td>\n",
       "      <td>...</td>\n",
       "      <td>0</td>\n",
       "      <td>0</td>\n",
       "      <td>0</td>\n",
       "      <td>0</td>\n",
       "      <td>0</td>\n",
       "      <td>0</td>\n",
       "      <td>0</td>\n",
       "      <td>0</td>\n",
       "      <td></td>\n",
       "      <td>0</td>\n",
       "    </tr>\n",
       "    <tr>\n",
       "      <th>4</th>\n",
       "      <td>c65204658f95b49542cdf18f82925432</td>\n",
       "      <td>RU</td>\n",
       "      <td>145010.0</td>\n",
       "      <td>c65204658f95b49542cdf18f82925432</td>\n",
       "      <td>ORIGINAL</td>\n",
       "      <td>0</td>\n",
       "      <td>0</td>\n",
       "      <td>i m so high on love catch catch i get so high ...</td>\n",
       "      <td>i m getting high</td>\n",
       "      <td>0</td>\n",
       "      <td>...</td>\n",
       "      <td>0</td>\n",
       "      <td>0</td>\n",
       "      <td>0</td>\n",
       "      <td>0</td>\n",
       "      <td>0</td>\n",
       "      <td>1</td>\n",
       "      <td>0</td>\n",
       "      <td>1</td>\n",
       "      <td></td>\n",
       "      <td>0</td>\n",
       "    </tr>\n",
       "  </tbody>\n",
       "</table>\n",
       "<p>5 rows × 38 columns</p>\n",
       "</div>"
      ],
      "text/plain": [
       "                           track_id language  duration  \\\n",
       "0  b3f815190f0b9f5dccd5ab1240bc6984       RU  134040.0   \n",
       "1  672374243edf80a61cbade5433ee4f3d       EN  114350.0   \n",
       "2  f21c0bc4ef5a4173e243dd130eb022e4       EN  114390.0   \n",
       "3  5178dac1aa69d6ab29975a02f73ec870       EN  100570.0   \n",
       "4  c65204658f95b49542cdf18f82925432       RU  145010.0   \n",
       "\n",
       "                  original_track_id track_remake_type  missing_text  \\\n",
       "0  b3f815190f0b9f5dccd5ab1240bc6984          ORIGINAL             0   \n",
       "1  672374243edf80a61cbade5433ee4f3d          ORIGINAL             0   \n",
       "2  f21c0bc4ef5a4173e243dd130eb022e4          ORIGINAL             0   \n",
       "3  5178dac1aa69d6ab29975a02f73ec870          ORIGINAL             0   \n",
       "4  c65204658f95b49542cdf18f82925432          ORIGINAL             0   \n",
       "\n",
       "   missing_title                                          lemm_text  \\\n",
       "0              0  and in summer cross on white white snow and we...   \n",
       "1              0  start your day right have your caf latte with ...   \n",
       "2              0  everything you do make me come alive make me c...   \n",
       "3              0  when i m with you i m feeling like the sky s m...   \n",
       "4              0  i m so high on love catch catch i get so high ...   \n",
       "\n",
       "          lemm_title  missing_isrc  ... genre_JAZZ  unknown_genre genre_other  \\\n",
       "0    in summer cross             0  ...          0              0           0   \n",
       "1       ocean avenue             0  ...          0              0           0   \n",
       "2  never say goodbye             0  ...          0              0           0   \n",
       "3             malibu             0  ...          0              0           0   \n",
       "4   i m getting high             0  ...          0              0           0   \n",
       "\n",
       "  genre_group_ROCK  genre_group_RAP  genre_group_POP  genre_group_FOLK  \\\n",
       "0                0                0                1                 0   \n",
       "1                0                0                0                 0   \n",
       "2                0                0                0                 0   \n",
       "3                0                0                0                 0   \n",
       "4                0                0                1                 0   \n",
       "\n",
       "   genre_group_RUS  cover_list  cover_count  \n",
       "0                1                        0  \n",
       "1                0                        0  \n",
       "2                0                        0  \n",
       "3                0                        0  \n",
       "4                1                        0  \n",
       "\n",
       "[5 rows x 38 columns]"
      ]
     },
     "execution_count": 33,
     "metadata": {},
     "output_type": "execute_result"
    }
   ],
   "source": [
    "df_task_2 = make_covers_column(df_task_2)\n",
    "df_task_2.head()"
   ]
  },
  {
   "cell_type": "markdown",
   "id": "6d9b16a0",
   "metadata": {},
   "source": [
    "Чтобы корректно разделить выборку, добавим столбец для стратификации, для этого выделим группы по количеству каверов у песни. Для этого построим гистограмму"
   ]
  },
  {
   "cell_type": "code",
   "execution_count": 34,
   "id": "bcf3bee7",
   "metadata": {},
   "outputs": [
    {
     "data": {
      "image/png": "[encoded data removed]",
      "text/plain": [
       "<Figure size 640x480 with 1 Axes>"
      ]
     },
     "metadata": {},
     "output_type": "display_data"
    }
   ],
   "source": [
    "plt.title('Распределение треков от количества каверов в датасете для обучения индекса faiss')\n",
    "plt.hist(df_task_2['cover_count'], bins=25)\n",
    "plt.xlabel('Количество каверов')\n",
    "plt.ylabel('Количество треков')\n",
    "plt.show()"
   ]
  },
  {
   "cell_type": "markdown",
   "id": "69c91cb2",
   "metadata": {},
   "source": [
    "Выделим следующие группы:\n",
    "* количество каверов равное 0\n",
    "* количество каверов от 1 до 10\n",
    "* количество каверов от 10 до 20\n",
    "* количество каверов больше 20"
   ]
  },
  {
   "cell_type": "code",
   "execution_count": 35,
   "id": "62c0b740",
   "metadata": {},
   "outputs": [],
   "source": [
    "df_task_2.loc[df_task_2['cover_count']==0, 'group_count_cover'] = 'group_1'\n",
    "df_task_2.loc[(df_task_2['cover_count']>0) &\n",
    "             (df_task_2['cover_count']<=10), 'group_count_cover'] = 'group_2'\n",
    "df_task_2.loc[(df_task_2['cover_count']>10) &\n",
    "             (df_task_2['cover_count']<=20), 'group_count_cover'] = 'group_3'\n",
    "df_task_2.loc[df_task_2['cover_count']>20, 'group_count_cover'] = 'group_4'"
   ]
  },
  {
   "cell_type": "markdown",
   "id": "7964975e",
   "metadata": {},
   "source": [
    "Удалим ненужный столбец cover_count"
   ]
  },
  {
   "cell_type": "code",
   "execution_count": 36,
   "id": "03476b69",
   "metadata": {},
   "outputs": [],
   "source": [
    "df_task_2 = df_task_2.drop('cover_count', axis=1)"
   ]
  },
  {
   "cell_type": "markdown",
   "id": "4e64d3b1",
   "metadata": {},
   "source": [
    "Разделим датасет на тренировочную, тестовую и валидационную выборки."
   ]
  },
  {
   "cell_type": "code",
   "execution_count": 37,
   "id": "c684e75f",
   "metadata": {},
   "outputs": [],
   "source": [
    "df_train, df_test = train_test_split(df_task_2,\n",
    "                                     random_state=RANDOM_STATE,\n",
    "                                     test_size=0.3,\n",
    "                                     stratify=df_task_2['group_count_cover'])"
   ]
  },
  {
   "cell_type": "code",
   "execution_count": 38,
   "id": "621b539d",
   "metadata": {},
   "outputs": [
    {
     "data": {
      "text/plain": [
       "((2122, 38), (910, 38))"
      ]
     },
     "execution_count": 38,
     "metadata": {},
     "output_type": "execute_result"
    }
   ],
   "source": [
    "df_train.shape, df_test.shape"
   ]
  },
  {
   "cell_type": "code",
   "execution_count": 39,
   "id": "3a532d17",
   "metadata": {},
   "outputs": [],
   "source": [
    "df_test, df_valid = train_test_split(df_test,\n",
    "                                     random_state=RANDOM_STATE,\n",
    "                                     test_size=0.5,\n",
    "                                     stratify=df_test['group_count_cover'])"
   ]
  },
  {
   "cell_type": "code",
   "execution_count": 40,
   "id": "75c223d3",
   "metadata": {},
   "outputs": [
    {
     "data": {
      "text/plain": [
       "((455, 38), (455, 38))"
      ]
     },
     "execution_count": 40,
     "metadata": {},
     "output_type": "execute_result"
    }
   ],
   "source": [
    "df_test.shape, df_valid.shape"
   ]
  },
  {
   "cell_type": "markdown",
   "id": "eb512cd4",
   "metadata": {},
   "source": [
    "Теперь удалим созданные столбцы и пересоздадим их заново (тренировочная выборка не должна ничего знать о тестовой и валидационной, а для тестовой и валидационной выборки нас будут интересовать количество каверов из трейна). "
   ]
  },
  {
   "cell_type": "code",
   "execution_count": 41,
   "id": "0b7a8d9a",
   "metadata": {},
   "outputs": [],
   "source": [
    "df_train = df_train.drop(['cover_list', 'group_count_cover'], axis=1)"
   ]
  },
  {
   "cell_type": "markdown",
   "id": "301a8be2",
   "metadata": {},
   "source": [
    "Для тестовой и валидационной выборки удалим только столбец с группами, и найдём пересечение со списком track_id из трейновой выборки"
   ]
  },
  {
   "cell_type": "code",
   "execution_count": 42,
   "id": "8bdee7ed",
   "metadata": {},
   "outputs": [],
   "source": [
    "df_test = df_test.drop(['group_count_cover'], axis=1)\n",
    "df_valid = df_valid.drop(['group_count_cover'], axis=1)"
   ]
  },
  {
   "cell_type": "markdown",
   "id": "49c4f0f5",
   "metadata": {},
   "source": [
    "Получим список каверов для трэйна "
   ]
  },
  {
   "cell_type": "code",
   "execution_count": 43,
   "id": "8f4bdfca",
   "metadata": {},
   "outputs": [],
   "source": [
    "df_train = make_covers_column(df_train, False)"
   ]
  },
  {
   "cell_type": "markdown",
   "id": "5eecbfbb",
   "metadata": {},
   "source": [
    "Получим множество track_id в трэйновом датасете"
   ]
  },
  {
   "cell_type": "code",
   "execution_count": 44,
   "id": "ba29a9ea",
   "metadata": {},
   "outputs": [],
   "source": [
    "set_train_track = set(df_train['track_id'].values)"
   ]
  },
  {
   "cell_type": "markdown",
   "id": "c54afc70",
   "metadata": {},
   "source": [
    "Найдём пересечения данного множества со списками значений в cover_list"
   ]
  },
  {
   "cell_type": "code",
   "execution_count": 45,
   "id": "3e49e193",
   "metadata": {},
   "outputs": [],
   "source": [
    "df_test['cover_list'] = df_test.apply(lambda x: ' '.join(set(x['cover_list'].split()) & set_train_track), axis=1)\n",
    "df_valid['cover_list'] = df_valid.apply(lambda x: ' '.join(set(x['cover_list'].split()) & set_train_track), axis=1)"
   ]
  },
  {
   "cell_type": "markdown",
   "id": "0fabefee",
   "metadata": {},
   "source": [
    "Сохраним данные датасеты, они потребуется на обучении модели (поскольку там будем подбирать параметры модели)"
   ]
  },
  {
   "cell_type": "code",
   "execution_count": 46,
   "id": "94d824d0",
   "metadata": {},
   "outputs": [],
   "source": [
    "df_train.to_csv(PATH_SAVE_TRAIN_FAISS, index=False)\n",
    "df_test.to_csv(PATH_SAVE_TEST_FAISS, index=False)\n",
    "df_valid.to_csv(PATH_SAVE_VALID_FAISS, index=False)\n",
    "df_task_2.to_csv(PATH_SAVE_ALL_FAISS, index=False)"
   ]
  },
  {
   "cell_type": "markdown",
   "id": "71bb94b0",
   "metadata": {},
   "source": [
    "## Создание корпусов текста"
   ]
  },
  {
   "cell_type": "markdown",
   "id": "3e33f043",
   "metadata": {},
   "source": [
    "Для обработки текста мы планируем воспользоваться TfIdf, на предыдущих этапах мы уже получили лемматизированный текст."
   ]
  },
  {
   "cell_type": "markdown",
   "id": "d5dd01c6",
   "metadata": {},
   "source": [
    "Создадим корпусы для обучения"
   ]
  },
  {
   "cell_type": "code",
   "execution_count": 47,
   "id": "fd815693",
   "metadata": {},
   "outputs": [],
   "source": [
    "corpus_train = df_train['lemm_text']\n",
    "corpus_test = df_test['lemm_text']\n",
    "corpus_valid = df_valid['lemm_text']"
   ]
  },
  {
   "cell_type": "markdown",
   "id": "2014ee71",
   "metadata": {},
   "source": [
    "Загрузим стоп слова для английского языка"
   ]
  },
  {
   "cell_type": "code",
   "execution_count": 48,
   "id": "ace026e5",
   "metadata": {},
   "outputs": [
    {
     "name": "stderr",
     "output_type": "stream",
     "text": [
      "[nltk_data] Downloading package stopwords to\n",
      "[nltk_data]     C:\\Users\\yaros\\AppData\\Roaming\\nltk_data...\n",
      "[nltk_data]   Package stopwords is already up-to-date!\n"
     ]
    }
   ],
   "source": [
    "nltk.download('stopwords')\n",
    "stopwords = nltk_stopwords.words('english')"
   ]
  },
  {
   "cell_type": "markdown",
   "id": "a79fe281",
   "metadata": {},
   "source": [
    "Обучим TfIdf и векторизуем наши корпуса. Пока будем передавать только стоп слова, но на этапе моделинга, попробуем подобрать оптимальные параметры для векторизтора"
   ]
  },
  {
   "cell_type": "code",
   "execution_count": 49,
   "id": "b63dad6e",
   "metadata": {},
   "outputs": [],
   "source": [
    "tf_idf = TfidfVectorizer(stop_words=stopwords)"
   ]
  },
  {
   "cell_type": "code",
   "execution_count": 50,
   "id": "034b0ffa",
   "metadata": {},
   "outputs": [
    {
     "name": "stdout",
     "output_type": "stream",
     "text": [
      "CPU times: total: 359 ms\n",
      "Wall time: 359 ms\n"
     ]
    }
   ],
   "source": [
    "%%time\n",
    "corpus_train = tf_idf.fit_transform(corpus_train)\n",
    "corpus_test = tf_idf.transform(corpus_test)\n",
    "corpus_valid = tf_idf.transform(corpus_valid)"
   ]
  },
  {
   "cell_type": "markdown",
   "id": "1b75df82",
   "metadata": {},
   "source": [
    "Выведем размеры получившихся корпусов"
   ]
  },
  {
   "cell_type": "code",
   "execution_count": 51,
   "id": "c575e80b",
   "metadata": {},
   "outputs": [
    {
     "data": {
      "text/plain": [
       "((2122, 11868), (455, 11868), (455, 11868))"
      ]
     },
     "execution_count": 51,
     "metadata": {},
     "output_type": "execute_result"
    }
   ],
   "source": [
    "corpus_train.shape, corpus_test.shape, corpus_valid.shape"
   ]
  },
  {
   "cell_type": "code",
   "execution_count": 52,
   "id": "130897d2",
   "metadata": {},
   "outputs": [
    {
     "data": {
      "text/plain": [
       "scipy.sparse._csr.csr_matrix"
      ]
     },
     "execution_count": 52,
     "metadata": {},
     "output_type": "execute_result"
    }
   ],
   "source": [
    "type(corpus_train)"
   ]
  },
  {
   "cell_type": "markdown",
   "id": "184e0534",
   "metadata": {},
   "source": [
    "Сохраним обученный TfidfVectorizer"
   ]
  },
  {
   "cell_type": "code",
   "execution_count": 53,
   "id": "c0c386d6",
   "metadata": {},
   "outputs": [],
   "source": [
    "pickle.dump(tf_idf, open(PATH_SAVE_TFIDFVECTORIZER, \"wb\"))"
   ]
  },
  {
   "cell_type": "markdown",
   "id": "b90a09f4",
   "metadata": {},
   "source": [
    "Сохраним получившиеся корпуса. Поскольку это разреженные матрицы,  тонапишем функцию, которая будет их сохранять."
   ]
  },
  {
   "cell_type": "code",
   "execution_count": 54,
   "id": "b1cb3cfe",
   "metadata": {},
   "outputs": [],
   "source": [
    "def save_sparse_csr(filename: str, array: scipy.sparse):\n",
    "    np.savez(filename, data=array.data, indices=array.indices,\n",
    "             indptr=array.indptr, shape=array.shape)"
   ]
  },
  {
   "cell_type": "code",
   "execution_count": 55,
   "id": "726ec6f1",
   "metadata": {},
   "outputs": [],
   "source": [
    "save_sparse_csr(PATH_SAVE_TRAIN_CORPUS, corpus_train)\n",
    "save_sparse_csr(PATH_SAVE_TEST_CORPUS, corpus_test)\n",
    "save_sparse_csr(PATH_SAVE_VALID_CORPUS, corpus_valid)"
   ]
  },
  {
   "cell_type": "markdown",
   "id": "cd312f22",
   "metadata": {},
   "source": [
    "## Выводы"
   ]
  },
  {
   "cell_type": "markdown",
   "id": "1b459541",
   "metadata": {},
   "source": [
    "В данном разделе был проведён препроцессинг данных в ходе которого:\n",
    "1. Создан датасет для задачи классификации кавер / оригинал\n",
    "    * удалены столбцы с id, датой добавления в базу, текстом;\n",
    "    * получен признак наличия в названии маркеров кавера (remix, cover);\n",
    "    * добавлен столбец с отмечающий короткие и длинные треки (там где преимущественно находятся каверы);\n",
    "    * целевой признак track_remake_type преобразован в target и закодирован по принципу ORIGINAL == 1\n",
    "2. Сформирован датасет для задачи кластеризации:\n",
    "    * Использовались в основном сырые данные, кроме датасета с текстами, поскольку они дополнительно отдельно переводились на английский язык. Поскольку данная задача веьма трудозатратная, её выделили в отдельный ноутбук;\n",
    "    * Данные были очищены, убраны все пропуски, поскольку для обучения модели кластеризации необходимо знать конкретные каверы или оригиналы для треков;\n",
    "    * Добавлен целевой столбец, содержащий список каверов (оригиналов) для трека;\n",
    "    * Данные были разделены на тренировочную, тестовую и валидационные выборки для стратификации был создан временный столбец с группировкой по количеству каверов;         \n",
    "3. Проведена векторизация текстов:\n",
    "    * Текст был очищен от лишних символов и проведена лемматизация при помощи библиотекии nltk;\n",
    "    * Обработанные датасеты были сохранены для дальнейшего использования на этапе моделинга;\n",
    "    * Была проведена векторизация текстов при помощи TfidfVectorizer, на данном этапе в качестве параметров передавались только стоп слова.\n",
    "    * Обученный TfidfVectorizer и векторизованные корпуса были так же сохранены для дальнейшего использования на этапе моделинга."
   ]
  },
  {
   "cell_type": "code",
   "execution_count": null,
   "id": "4ceaca14",
   "metadata": {},
   "outputs": [],
   "source": []
  }
 ],
 "metadata": {
  "kernelspec": {
   "display_name": "Python 3 (ipykernel)",
   "language": "python",
   "name": "python3"
  },
  "language_info": {
   "codemirror_mode": {
    "name": "ipython",
    "version": 3
   },
   "file_extension": ".py",
   "mimetype": "text/x-python",
   "name": "python",
   "nbconvert_exporter": "python",
   "pygments_lexer": "ipython3",
   "version": "3.10.11"
  },
  "toc": {
   "base_numbering": 1,
   "nav_menu": {},
   "number_sections": true,
   "sideBar": true,
   "skip_h1_title": false,
   "title_cell": "Table of Contents",
   "title_sidebar": "Contents",
   "toc_cell": false,
   "toc_position": {},
   "toc_section_display": true,
   "toc_window_display": false
  }
 },
 "nbformat": 4,
 "nbformat_minor": 5
}

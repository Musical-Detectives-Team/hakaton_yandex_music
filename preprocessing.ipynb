{
 "cells": [
  {
   "cell_type": "markdown",
   "id": "da42bf38",
   "metadata": {},
   "source": [
    "# Preprocessing"
   ]
  },
  {
   "cell_type": "markdown",
   "id": "4f9e11ad",
   "metadata": {},
   "source": [
    "Импортируем библиотеки и прописываем пути, устанавливаем random_state."
   ]
  },
  {
   "cell_type": "code",
   "execution_count": 1,
   "id": "fad77bf3",
   "metadata": {},
   "outputs": [],
   "source": [
    "import pandas as pd\n",
    "import numpy as np\n",
    "import scipy\n",
    "import re\n",
    "\n",
    "from tqdm import tqdm\n",
    "from tqdm import notebook \n",
    "\n",
    "from sklearn.model_selection import train_test_split\n",
    "from sklearn.feature_extraction.text import TfidfVectorizer \n",
    "import pickle\n",
    "\n",
    "import nltk\n",
    "from nltk.corpus import stopwords as nltk_stopwords\n",
    "from nltk.stem import WordNetLemmatizer "
   ]
  },
  {
   "cell_type": "code",
   "execution_count": 2,
   "id": "04e02a66",
   "metadata": {},
   "outputs": [],
   "source": [
    "tqdm.pandas()"
   ]
  },
  {
   "cell_type": "code",
   "execution_count": 3,
   "id": "63b778e2",
   "metadata": {},
   "outputs": [],
   "source": [
    "PATH_COVERS = 'data/raw/covers.json'\n",
    "PATH_TRANSLETE_LYRICS = 'data/preprocessing/translated_lyrics.csv'\n",
    "PATH_META = 'data/raw/meta.json'\n",
    "\n",
    "PATH_SAVE_TRAIN_FAISS = 'data/preprocessing/train_faiss.csv'\n",
    "PATH_SAVE_TEST_FAISS = 'data/preprocessing/test_faiss.csv'\n",
    "PATH_SAVE_VALID_FAISS = 'data/preprocessing/valid_faiss.csv'\n",
    "\n",
    "PATH_SAVE_TFIDFVECTORIZER = 'models/tfidf.pkl'\n",
    "\n",
    "PATH_SAVE_TRAIN_CORPUS = 'data/preprocessing/train_corpus.npz'\n",
    "PATH_SAVE_TEST_CORPUS = 'data/preprocessing/test_corpus.npz'\n",
    "PATH_SAVE_VALID_CORPUS = 'data/preprocessing/valid_corpus.npz'\n",
    "\n",
    "RANDOM_STATE = 54321"
   ]
  },
  {
   "cell_type": "markdown",
   "id": "a41ebf58",
   "metadata": {},
   "source": [
    "Напишем функцию, которая на вход будет принимать пути к нашим датасетам, проводить чистку данных и возвращать объединённый датасет. "
   ]
  },
  {
   "cell_type": "code",
   "execution_count": 4,
   "id": "2d0b505a",
   "metadata": {},
   "outputs": [],
   "source": [
    "def get_united_df(path_covers: str, psth_lyrics: str, path_meta: str) -> pd.DataFrame:\n",
    "    df_covers = pd.read_json(PATH_COVERS, lines=True)\n",
    "    df_lyrics = pd.read_csv(psth_lyrics)[['track_id', 'language', 'translate_text']]\n",
    "    df_meta = pd.read_json(PATH_META, lines=True, convert_dates=['dttm'])\n",
    "    \n",
    "    # проведём чистку датасетов переименуем с языком столбец в df_lyrics\n",
    "    df_covers = df_covers.dropna()\n",
    "    df_lyrics = df_lyrics.drop_duplicates(subset='track_id')\n",
    "    df_meta = df_meta[df_meta['duration']!=0]\n",
    "    df_meta = df_meta.drop_duplicates(subset='isrc')\n",
    "    \n",
    "    df_lyrics = df_lyrics.rename(columns={'language': 'lyric_language'})\n",
    "    \n",
    "    df_union = (df_covers.merge(df_lyrics, on = 'track_id', how = 'inner')\n",
    "                     .merge(df_meta, on = 'track_id', how = 'inner'))\n",
    "    \n",
    "    # в столбцах с пропусками в языках, возьмём данные из языка текста\n",
    "    df_union.loc[df_union['language'].isna(), 'language'] = df_union.loc[df_union['language'].isna(), 'lyric_language']\n",
    "    df_union = df_union.drop('lyric_language', axis=1)\n",
    "    \n",
    "    return df_union.dropna()"
   ]
  },
  {
   "cell_type": "code",
   "execution_count": 5,
   "id": "05230208",
   "metadata": {},
   "outputs": [
    {
     "data": {
      "text/plain": [
       "(2978, 10)"
      ]
     },
     "execution_count": 5,
     "metadata": {},
     "output_type": "execute_result"
    }
   ],
   "source": [
    "df_union = get_united_df(PATH_COVERS, PATH_TRANSLETE_LYRICS, PATH_META)\n",
    "df_union.shape"
   ]
  },
  {
   "cell_type": "markdown",
   "id": "2a34f2b8",
   "metadata": {},
   "source": [
    "У нас получился датасет из 2986 строк, в котором есть все требуемые данные."
   ]
  },
  {
   "cell_type": "markdown",
   "id": "8ee43fba",
   "metadata": {},
   "source": [
    "Теперь нам нужно создать столбец в котором будут указаны все каверы / оригиналы для конкретного original_track_id и посчитать их количество"
   ]
  },
  {
   "cell_type": "code",
   "execution_count": 6,
   "id": "b92797b5",
   "metadata": {},
   "outputs": [],
   "source": [
    "def make_covers_column(df: pd.DataFrame, count_cover=True) -> pd.DataFrame:\n",
    "    df_new = df.copy(deep=True)\n",
    "    df_group = df.groupby('original_track_id', as_index= False ).agg({'track_id': ' '. join})\n",
    "    df_group = df_group.rename(columns = {'track_id': 'cover_list'})\n",
    "    df_group['cover_list'] = df_group['cover_list'].str.split()\n",
    "    \n",
    "    # присоединим список с датасетом и удалим из списка сам трек\n",
    "    df_new = df_new.merge(df_group, on = 'original_track_id', how='inner')\n",
    "    df_new['cover_list'] = df_new.apply(lambda x: list(set(x['cover_list']) ^ {x['track_id']}), axis=1)\n",
    "    \n",
    "    if count_cover:\n",
    "        df_new['cover_count'] = df_new['cover_list'].apply(lambda x: len(x))\n",
    "\n",
    "    #преобразуем в строку, поскольку планируем сохранять датасет в csv\n",
    "    df_new['cover_list'] = df_new['cover_list'].apply(lambda x: ' '.join(x))\n",
    "    return df_new"
   ]
  },
  {
   "cell_type": "code",
   "execution_count": 7,
   "id": "bfa1982f",
   "metadata": {},
   "outputs": [
    {
     "data": {
      "text/html": [
       "<div>\n",
       "<style scoped>\n",
       "    .dataframe tbody tr th:only-of-type {\n",
       "        vertical-align: middle;\n",
       "    }\n",
       "\n",
       "    .dataframe tbody tr th {\n",
       "        vertical-align: top;\n",
       "    }\n",
       "\n",
       "    .dataframe thead th {\n",
       "        text-align: right;\n",
       "    }\n",
       "</style>\n",
       "<table border=\"1\" class=\"dataframe\">\n",
       "  <thead>\n",
       "    <tr style=\"text-align: right;\">\n",
       "      <th></th>\n",
       "      <th>original_track_id</th>\n",
       "      <th>track_id</th>\n",
       "      <th>track_remake_type</th>\n",
       "      <th>translate_text</th>\n",
       "      <th>dttm</th>\n",
       "      <th>title</th>\n",
       "      <th>language</th>\n",
       "      <th>isrc</th>\n",
       "      <th>genres</th>\n",
       "      <th>duration</th>\n",
       "      <th>cover_list</th>\n",
       "      <th>cover_count</th>\n",
       "    </tr>\n",
       "  </thead>\n",
       "  <tbody>\n",
       "    <tr>\n",
       "      <th>0</th>\n",
       "      <td>eeb69a3cb92300456b6a5f4162093851</td>\n",
       "      <td>eeb69a3cb92300456b6a5f4162093851</td>\n",
       "      <td>ORIGINAL</td>\n",
       "      <td>Left a good job in the city\\nWorkin' for the m...</td>\n",
       "      <td>2009-11-11 21:00:00</td>\n",
       "      <td>Proud Mary</td>\n",
       "      <td>EN</td>\n",
       "      <td>USFI86900049</td>\n",
       "      <td>[ROCK, ALLROCK]</td>\n",
       "      <td>187220.0</td>\n",
       "      <td>a1969006135564d52455fdeb509f1a4e 08dd2a07ac97c...</td>\n",
       "      <td>14</td>\n",
       "    </tr>\n",
       "    <tr>\n",
       "      <th>1</th>\n",
       "      <td>eeb69a3cb92300456b6a5f4162093851</td>\n",
       "      <td>14cd5aac84c43bf6830c8276c05ee2f8</td>\n",
       "      <td>COVER</td>\n",
       "      <td>Left a good job down in the city\\nWorkin' for ...</td>\n",
       "      <td>2010-01-31 21:00:00</td>\n",
       "      <td>Proud Mary</td>\n",
       "      <td>EN</td>\n",
       "      <td>FRZ040600166</td>\n",
       "      <td>[ROCK, ALLROCK]</td>\n",
       "      <td>395460.0</td>\n",
       "      <td>a1969006135564d52455fdeb509f1a4e 08dd2a07ac97c...</td>\n",
       "      <td>14</td>\n",
       "    </tr>\n",
       "    <tr>\n",
       "      <th>2</th>\n",
       "      <td>eeb69a3cb92300456b6a5f4162093851</td>\n",
       "      <td>c99604698f81b2454389e8e3b6d3520b</td>\n",
       "      <td>COVER</td>\n",
       "      <td>You know, every now and then I think you might...</td>\n",
       "      <td>2014-04-16 20:00:00</td>\n",
       "      <td>Proud Mary</td>\n",
       "      <td>EN</td>\n",
       "      <td>GBAYE9300862</td>\n",
       "      <td>[POP, RNB]</td>\n",
       "      <td>327390.0</td>\n",
       "      <td>a1969006135564d52455fdeb509f1a4e 08dd2a07ac97c...</td>\n",
       "      <td>14</td>\n",
       "    </tr>\n",
       "    <tr>\n",
       "      <th>3</th>\n",
       "      <td>eeb69a3cb92300456b6a5f4162093851</td>\n",
       "      <td>70ce45ec4414b7993d98718995456668</td>\n",
       "      <td>COVER</td>\n",
       "      <td>Y' know, Every now and then\\nI think You might...</td>\n",
       "      <td>2012-12-29 22:56:50</td>\n",
       "      <td>Proud Mary</td>\n",
       "      <td>EN</td>\n",
       "      <td>FR6V81426499</td>\n",
       "      <td>[ELECTRONICS, LOUNGE]</td>\n",
       "      <td>190030.0</td>\n",
       "      <td>a1969006135564d52455fdeb509f1a4e 08dd2a07ac97c...</td>\n",
       "      <td>14</td>\n",
       "    </tr>\n",
       "    <tr>\n",
       "      <th>4</th>\n",
       "      <td>eeb69a3cb92300456b6a5f4162093851</td>\n",
       "      <td>e58d2c71ff16648513a9c727281fb474</td>\n",
       "      <td>COVER</td>\n",
       "      <td>Left a good job in the city\\nWorkin' for the m...</td>\n",
       "      <td>2013-11-16 06:24:08</td>\n",
       "      <td>Proud Mary</td>\n",
       "      <td>EN</td>\n",
       "      <td>FR6V80083191</td>\n",
       "      <td>[ALLROCK, RNR]</td>\n",
       "      <td>155350.0</td>\n",
       "      <td>a1969006135564d52455fdeb509f1a4e 08dd2a07ac97c...</td>\n",
       "      <td>14</td>\n",
       "    </tr>\n",
       "  </tbody>\n",
       "</table>\n",
       "</div>"
      ],
      "text/plain": [
       "                  original_track_id                          track_id  \\\n",
       "0  eeb69a3cb92300456b6a5f4162093851  eeb69a3cb92300456b6a5f4162093851   \n",
       "1  eeb69a3cb92300456b6a5f4162093851  14cd5aac84c43bf6830c8276c05ee2f8   \n",
       "2  eeb69a3cb92300456b6a5f4162093851  c99604698f81b2454389e8e3b6d3520b   \n",
       "3  eeb69a3cb92300456b6a5f4162093851  70ce45ec4414b7993d98718995456668   \n",
       "4  eeb69a3cb92300456b6a5f4162093851  e58d2c71ff16648513a9c727281fb474   \n",
       "\n",
       "  track_remake_type                                     translate_text  \\\n",
       "0          ORIGINAL  Left a good job in the city\\nWorkin' for the m...   \n",
       "1             COVER  Left a good job down in the city\\nWorkin' for ...   \n",
       "2             COVER  You know, every now and then I think you might...   \n",
       "3             COVER  Y' know, Every now and then\\nI think You might...   \n",
       "4             COVER  Left a good job in the city\\nWorkin' for the m...   \n",
       "\n",
       "                 dttm       title language          isrc  \\\n",
       "0 2009-11-11 21:00:00  Proud Mary       EN  USFI86900049   \n",
       "1 2010-01-31 21:00:00  Proud Mary       EN  FRZ040600166   \n",
       "2 2014-04-16 20:00:00  Proud Mary       EN  GBAYE9300862   \n",
       "3 2012-12-29 22:56:50  Proud Mary       EN  FR6V81426499   \n",
       "4 2013-11-16 06:24:08  Proud Mary       EN  FR6V80083191   \n",
       "\n",
       "                  genres  duration  \\\n",
       "0        [ROCK, ALLROCK]  187220.0   \n",
       "1        [ROCK, ALLROCK]  395460.0   \n",
       "2             [POP, RNB]  327390.0   \n",
       "3  [ELECTRONICS, LOUNGE]  190030.0   \n",
       "4         [ALLROCK, RNR]  155350.0   \n",
       "\n",
       "                                          cover_list  cover_count  \n",
       "0  a1969006135564d52455fdeb509f1a4e 08dd2a07ac97c...           14  \n",
       "1  a1969006135564d52455fdeb509f1a4e 08dd2a07ac97c...           14  \n",
       "2  a1969006135564d52455fdeb509f1a4e 08dd2a07ac97c...           14  \n",
       "3  a1969006135564d52455fdeb509f1a4e 08dd2a07ac97c...           14  \n",
       "4  a1969006135564d52455fdeb509f1a4e 08dd2a07ac97c...           14  "
      ]
     },
     "execution_count": 7,
     "metadata": {},
     "output_type": "execute_result"
    }
   ],
   "source": [
    "df_union = make_covers_column(df_union)\n",
    "df_union.head()"
   ]
  },
  {
   "cell_type": "markdown",
   "id": "6d9b16a0",
   "metadata": {},
   "source": [
    "Чтобы корректно разделить выборку, добавим столбец для стратификации, для этого выделим группы по количеству каверов у песни. Для этого построим гистограмму"
   ]
  },
  {
   "cell_type": "code",
   "execution_count": 8,
   "id": "bcf3bee7",
   "metadata": {},
   "outputs": [
    {
     "data": {
      "text/plain": [
       "<Axes: >"
      ]
     },
     "execution_count": 8,
     "metadata": {},
     "output_type": "execute_result"
    },
    {
     "data": {
      "image/png": "[encoded data removed]",
      "text/plain": [
       "<Figure size 640x480 with 1 Axes>"
      ]
     },
     "metadata": {},
     "output_type": "display_data"
    }
   ],
   "source": [
    "df_union['cover_count'].hist(bins=25)"
   ]
  },
  {
   "cell_type": "markdown",
   "id": "69c91cb2",
   "metadata": {},
   "source": [
    "Выделим следующие группы:\n",
    "* количество каверов равное 0\n",
    "* количество каверов от 1 до 5\n",
    "* количество каверов от 5 до 15\n",
    "* количество каверов больше 15"
   ]
  },
  {
   "cell_type": "code",
   "execution_count": 9,
   "id": "62c0b740",
   "metadata": {},
   "outputs": [],
   "source": [
    "df_union.loc[df_union['cover_count']==0, 'group_count_cover'] = 'group_1'\n",
    "df_union.loc[(df_union['cover_count']>0) &\n",
    "             (df_union['cover_count']<=5), 'group_count_cover'] = 'group_2'\n",
    "df_union.loc[(df_union['cover_count']>5) &\n",
    "             (df_union['cover_count']<=15), 'group_count_cover'] = 'group_3'\n",
    "df_union.loc[df_union['cover_count']>15, 'group_count_cover'] = 'group_4'"
   ]
  },
  {
   "cell_type": "markdown",
   "id": "7964975e",
   "metadata": {},
   "source": [
    "Удалим ненужный столбец cover_count"
   ]
  },
  {
   "cell_type": "code",
   "execution_count": 10,
   "id": "03476b69",
   "metadata": {},
   "outputs": [],
   "source": [
    "df_union = df_union.drop('cover_count', axis=1)"
   ]
  },
  {
   "cell_type": "markdown",
   "id": "4e64d3b1",
   "metadata": {},
   "source": [
    "Разделим датасет на тренировочную, тестовую и валидационную выборки."
   ]
  },
  {
   "cell_type": "code",
   "execution_count": 11,
   "id": "c684e75f",
   "metadata": {},
   "outputs": [],
   "source": [
    "df_train, df_test = train_test_split(df_union,\n",
    "                                     random_state=RANDOM_STATE,\n",
    "                                     test_size=0.3,\n",
    "                                     stratify=df_union['group_count_cover'])"
   ]
  },
  {
   "cell_type": "code",
   "execution_count": 12,
   "id": "621b539d",
   "metadata": {},
   "outputs": [
    {
     "data": {
      "text/plain": [
       "((2084, 12), (894, 12))"
      ]
     },
     "execution_count": 12,
     "metadata": {},
     "output_type": "execute_result"
    }
   ],
   "source": [
    "df_train.shape, df_test.shape"
   ]
  },
  {
   "cell_type": "code",
   "execution_count": 13,
   "id": "3a532d17",
   "metadata": {},
   "outputs": [],
   "source": [
    "df_test, df_valid = train_test_split(df_test,\n",
    "                                     random_state=RANDOM_STATE,\n",
    "                                     test_size=0.5,\n",
    "                                     stratify=df_test['group_count_cover'])"
   ]
  },
  {
   "cell_type": "code",
   "execution_count": 14,
   "id": "75c223d3",
   "metadata": {},
   "outputs": [
    {
     "data": {
      "text/plain": [
       "((447, 12), (447, 12))"
      ]
     },
     "execution_count": 14,
     "metadata": {},
     "output_type": "execute_result"
    }
   ],
   "source": [
    "df_test.shape, df_valid.shape"
   ]
  },
  {
   "cell_type": "markdown",
   "id": "eb512cd4",
   "metadata": {},
   "source": [
    "Теперь удалим созданные столбцы и пересоздадим их заново (тренировочная выборка не должна ничего знать о тестовой и валидационной, а для тестовой и валидационной выборки нас будут интересовать количество каверов из трейна). "
   ]
  },
  {
   "cell_type": "code",
   "execution_count": 15,
   "id": "0b7a8d9a",
   "metadata": {},
   "outputs": [],
   "source": [
    "df_train = df_train.drop(['cover_list', 'group_count_cover'], axis=1)"
   ]
  },
  {
   "cell_type": "markdown",
   "id": "301a8be2",
   "metadata": {},
   "source": [
    "Для тестовой и валиадционной выборки удалим только столбец с группами, и найдём пересечение со списком track_id из трейновой выборки"
   ]
  },
  {
   "cell_type": "code",
   "execution_count": 16,
   "id": "8bdee7ed",
   "metadata": {},
   "outputs": [],
   "source": [
    "df_test = df_test.drop(['group_count_cover'], axis=1)\n",
    "df_valid = df_valid.drop(['group_count_cover'], axis=1)"
   ]
  },
  {
   "cell_type": "markdown",
   "id": "49c4f0f5",
   "metadata": {},
   "source": [
    "Получим список каверов для трэйна "
   ]
  },
  {
   "cell_type": "code",
   "execution_count": 17,
   "id": "8f4bdfca",
   "metadata": {},
   "outputs": [],
   "source": [
    "df_train = make_covers_column(df_train, False)"
   ]
  },
  {
   "cell_type": "markdown",
   "id": "5eecbfbb",
   "metadata": {},
   "source": [
    "Получим множество track_id в трэйновом датасете"
   ]
  },
  {
   "cell_type": "code",
   "execution_count": 18,
   "id": "ba29a9ea",
   "metadata": {},
   "outputs": [],
   "source": [
    "set_train_track = set(df_train['track_id'].values)"
   ]
  },
  {
   "cell_type": "markdown",
   "id": "c54afc70",
   "metadata": {},
   "source": [
    "Найдём пересечения данного множества со списками значений в cover_list"
   ]
  },
  {
   "cell_type": "code",
   "execution_count": 19,
   "id": "3e49e193",
   "metadata": {},
   "outputs": [],
   "source": [
    "df_test['cover_list'] = df_test.apply(lambda x: ' '.join(set(x['cover_list'].split()) & set_train_track), axis=1)\n",
    "df_valid['cover_list'] = df_valid.apply(lambda x: ' '.join(set(x['cover_list'].split()) & set_train_track), axis=1)"
   ]
  },
  {
   "cell_type": "markdown",
   "id": "71bb94b0",
   "metadata": {},
   "source": [
    "## Создание корпусов текста"
   ]
  },
  {
   "cell_type": "markdown",
   "id": "3e33f043",
   "metadata": {},
   "source": [
    "Для обработки текста мы планируем воспользоваться TfIdf, но первоначально нам потребуется почистить текст. Для этого воспользуемся библиотекой nltk предварительно загрузив необходимые данные"
   ]
  },
  {
   "cell_type": "code",
   "execution_count": 20,
   "id": "9cdad4dd",
   "metadata": {},
   "outputs": [
    {
     "name": "stderr",
     "output_type": "stream",
     "text": [
      "[nltk_data] Downloading package wordnet to\n",
      "[nltk_data]     C:\\Users\\yaros\\AppData\\Roaming\\nltk_data...\n",
      "[nltk_data]   Package wordnet is already up-to-date!\n"
     ]
    },
    {
     "data": {
      "text/plain": [
       "True"
      ]
     },
     "execution_count": 20,
     "metadata": {},
     "output_type": "execute_result"
    }
   ],
   "source": [
    "nltk.download('wordnet')"
   ]
  },
  {
   "cell_type": "code",
   "execution_count": 21,
   "id": "0546236b",
   "metadata": {},
   "outputs": [
    {
     "name": "stderr",
     "output_type": "stream",
     "text": [
      "[nltk_data] Downloading package omw-1.4 to\n",
      "[nltk_data]     C:\\Users\\yaros\\AppData\\Roaming\\nltk_data...\n",
      "[nltk_data]   Package omw-1.4 is already up-to-date!\n"
     ]
    },
    {
     "data": {
      "text/plain": [
       "True"
      ]
     },
     "execution_count": 21,
     "metadata": {},
     "output_type": "execute_result"
    }
   ],
   "source": [
    "nltk.download('omw-1.4')"
   ]
  },
  {
   "cell_type": "code",
   "execution_count": 22,
   "id": "437c318c",
   "metadata": {},
   "outputs": [
    {
     "name": "stderr",
     "output_type": "stream",
     "text": [
      "[nltk_data] Downloading package punkt to\n",
      "[nltk_data]     C:\\Users\\yaros\\AppData\\Roaming\\nltk_data...\n",
      "[nltk_data]   Package punkt is already up-to-date!\n"
     ]
    },
    {
     "data": {
      "text/plain": [
       "True"
      ]
     },
     "execution_count": 22,
     "metadata": {},
     "output_type": "execute_result"
    }
   ],
   "source": [
    "nltk.download('punkt')"
   ]
  },
  {
   "cell_type": "code",
   "execution_count": 23,
   "id": "bd78468d",
   "metadata": {},
   "outputs": [],
   "source": [
    "lemmatizer = WordNetLemmatizer()"
   ]
  },
  {
   "cell_type": "markdown",
   "id": "d1652174",
   "metadata": {},
   "source": [
    "Создадим функцию, чтобы почистить текст и оставить только латиницу."
   ]
  },
  {
   "cell_type": "code",
   "execution_count": 24,
   "id": "611424f6",
   "metadata": {},
   "outputs": [],
   "source": [
    "def clear_text(text: str) -> str:\n",
    "    new_text = re.sub(r'[^a-zA-Z]', ' ', text)    \n",
    "    new_text = new_text.split()\n",
    "    new_text = new_text\n",
    "    return ' '.join(new_text).lower()"
   ]
  },
  {
   "cell_type": "markdown",
   "id": "90e45cf4",
   "metadata": {},
   "source": [
    "Создадим функцию для лематизации текста."
   ]
  },
  {
   "cell_type": "code",
   "execution_count": 25,
   "id": "2254c0bb",
   "metadata": {},
   "outputs": [],
   "source": [
    "def lemmatize(text: str) -> str:\n",
    "    text_list = nltk.word_tokenize(text)\n",
    "    lemm_list = []    \n",
    "    for word in text_list:\n",
    "        lemm_list.append(lemmatizer.lemmatize(word))    \n",
    "    lemm_text = \" \".join(lemm_list)        \n",
    "    return lemm_text"
   ]
  },
  {
   "cell_type": "markdown",
   "id": "5e53c1e2",
   "metadata": {},
   "source": [
    "Создадим функцию, которая на вход будет принимать датасет, столбец с текстом и проводить лематизацию в столбец lemm_text. Поскольку операцию может быть достаточно долгой, то будем проводить её по батчам"
   ]
  },
  {
   "cell_type": "code",
   "execution_count": 26,
   "id": "5b31a0f1",
   "metadata": {},
   "outputs": [],
   "source": [
    "def lemmatize_df(df: pd.DataFrame, \n",
    "                 text_column: str, \n",
    "                 batch_size: int = 200) -> pd.DataFrame:\n",
    "    df = df.copy(deep=True)\n",
    "    df = df.reset_index(drop=True)\n",
    "    df['lemm_text'] = ''\n",
    "    for i in notebook.tqdm(range(df.shape[0] // batch_size + 1)):\n",
    "        n = i * batch_size\n",
    "        df.loc[n:n + batch_size - 1, 'lemm_text'] = df.loc[n:n + batch_size - 1, text_column].apply(clear_text) \n",
    "        df.loc[n:n + batch_size - 1, 'lemm_text'] = df.loc[n:n + batch_size - 1, 'lemm_text'].apply(lemmatize) \n",
    "    return df"
   ]
  },
  {
   "cell_type": "markdown",
   "id": "77cdd6f7",
   "metadata": {},
   "source": [
    "Преобразуем наши датасеты и выведем первые 5 строк датасета трейн"
   ]
  },
  {
   "cell_type": "code",
   "execution_count": 27,
   "id": "87fce0c7",
   "metadata": {},
   "outputs": [
    {
     "data": {
      "application/vnd.jupyter.widget-view+json": {
       "model_id": "94c9603c13e34ffca07cffa3d15c96df",
       "version_major": 2,
       "version_minor": 0
      },
      "text/plain": [
       "  0%|          | 0/11 [00:00<?, ?it/s]"
      ]
     },
     "metadata": {},
     "output_type": "display_data"
    },
    {
     "data": {
      "application/vnd.jupyter.widget-view+json": {
       "model_id": "e7755b9d903b48baaa695b374626f149",
       "version_major": 2,
       "version_minor": 0
      },
      "text/plain": [
       "  0%|          | 0/3 [00:00<?, ?it/s]"
      ]
     },
     "metadata": {},
     "output_type": "display_data"
    },
    {
     "data": {
      "application/vnd.jupyter.widget-view+json": {
       "model_id": "af2f8e7882264150bc8498e6d2aa74a4",
       "version_major": 2,
       "version_minor": 0
      },
      "text/plain": [
       "  0%|          | 0/3 [00:00<?, ?it/s]"
      ]
     },
     "metadata": {},
     "output_type": "display_data"
    }
   ],
   "source": [
    "df_train = lemmatize_df(df_train, 'translate_text')\n",
    "df_test = lemmatize_df(df_test, 'translate_text')\n",
    "df_valid = lemmatize_df(df_valid, 'translate_text')"
   ]
  },
  {
   "cell_type": "code",
   "execution_count": 28,
   "id": "c30ff33c",
   "metadata": {},
   "outputs": [
    {
     "data": {
      "text/html": [
       "<div>\n",
       "<style scoped>\n",
       "    .dataframe tbody tr th:only-of-type {\n",
       "        vertical-align: middle;\n",
       "    }\n",
       "\n",
       "    .dataframe tbody tr th {\n",
       "        vertical-align: top;\n",
       "    }\n",
       "\n",
       "    .dataframe thead th {\n",
       "        text-align: right;\n",
       "    }\n",
       "</style>\n",
       "<table border=\"1\" class=\"dataframe\">\n",
       "  <thead>\n",
       "    <tr style=\"text-align: right;\">\n",
       "      <th></th>\n",
       "      <th>original_track_id</th>\n",
       "      <th>track_id</th>\n",
       "      <th>track_remake_type</th>\n",
       "      <th>translate_text</th>\n",
       "      <th>dttm</th>\n",
       "      <th>title</th>\n",
       "      <th>language</th>\n",
       "      <th>isrc</th>\n",
       "      <th>genres</th>\n",
       "      <th>duration</th>\n",
       "      <th>cover_list</th>\n",
       "      <th>lemm_text</th>\n",
       "    </tr>\n",
       "  </thead>\n",
       "  <tbody>\n",
       "    <tr>\n",
       "      <th>0</th>\n",
       "      <td>27437b2445da6f9fadddd19fbace60db</td>\n",
       "      <td>27437b2445da6f9fadddd19fbace60db</td>\n",
       "      <td>ORIGINAL</td>\n",
       "      <td>If someone had asked me then\\nWhere will I be ...</td>\n",
       "      <td>2019-02-08 21:00:00</td>\n",
       "      <td>Стань</td>\n",
       "      <td>RU</td>\n",
       "      <td>TCABR1318588</td>\n",
       "      <td>[RUSRAP, RAP]</td>\n",
       "      <td>188240.0</td>\n",
       "      <td></td>\n",
       "      <td>if someone had asked me then where will i be i...</td>\n",
       "    </tr>\n",
       "    <tr>\n",
       "      <th>1</th>\n",
       "      <td>7eaab09b5716cff21b7af54ceacd160d</td>\n",
       "      <td>7eaab09b5716cff21b7af54ceacd160d</td>\n",
       "      <td>ORIGINAL</td>\n",
       "      <td>Laudate omnes gentes laudate\\nMagnificat en se...</td>\n",
       "      <td>2014-06-18 20:00:00</td>\n",
       "      <td>Happy Nation</td>\n",
       "      <td>EN</td>\n",
       "      <td>SEVJH0803407</td>\n",
       "      <td>[POP]</td>\n",
       "      <td>255410.0</td>\n",
       "      <td></td>\n",
       "      <td>laudate omnes gens laudate magnificat en secul...</td>\n",
       "    </tr>\n",
       "    <tr>\n",
       "      <th>2</th>\n",
       "      <td>8a43257f07dd1fcfa6cfb92d0b7cb703</td>\n",
       "      <td>61e4a3c418dec3f70d381d55bfda2f20</td>\n",
       "      <td>COVER</td>\n",
       "      <td>Baby, I'm wasted\\nAll I wanna do is drive home...</td>\n",
       "      <td>2021-09-05 16:36:11</td>\n",
       "      <td>Faded</td>\n",
       "      <td>EN</td>\n",
       "      <td>QZMEQ2003486</td>\n",
       "      <td>[ELECTRONICS]</td>\n",
       "      <td>151680.0</td>\n",
       "      <td></td>\n",
       "      <td>baby i m wasted all i wan na do is drive home ...</td>\n",
       "    </tr>\n",
       "    <tr>\n",
       "      <th>3</th>\n",
       "      <td>43f4ccc81208af9ed8b646ddb3c89a31</td>\n",
       "      <td>43f4ccc81208af9ed8b646ddb3c89a31</td>\n",
       "      <td>ORIGINAL</td>\n",
       "      <td>Every centimeter, every edge of the soul and b...</td>\n",
       "      <td>2021-03-26 17:17:51</td>\n",
       "      <td>Ты так красива</td>\n",
       "      <td>RU</td>\n",
       "      <td>RUA1D2111316</td>\n",
       "      <td>[POP]</td>\n",
       "      <td>173380.0</td>\n",
       "      <td></td>\n",
       "      <td>every centimeter every edge of the soul and bo...</td>\n",
       "    </tr>\n",
       "    <tr>\n",
       "      <th>4</th>\n",
       "      <td>d08c0e55237999b588c50a7d8f282984</td>\n",
       "      <td>d08c0e55237999b588c50a7d8f282984</td>\n",
       "      <td>ORIGINAL</td>\n",
       "      <td>One, two, one, two, three\\nOh, yeah, yeah\\nOh,...</td>\n",
       "      <td>2012-12-10 20:00:00</td>\n",
       "      <td>Locked out of Heaven</td>\n",
       "      <td>EN</td>\n",
       "      <td>USAT21203287</td>\n",
       "      <td>[POP]</td>\n",
       "      <td>233470.0</td>\n",
       "      <td></td>\n",
       "      <td>one two one two three oh yeah yeah oh yeah yea...</td>\n",
       "    </tr>\n",
       "  </tbody>\n",
       "</table>\n",
       "</div>"
      ],
      "text/plain": [
       "                  original_track_id                          track_id  \\\n",
       "0  27437b2445da6f9fadddd19fbace60db  27437b2445da6f9fadddd19fbace60db   \n",
       "1  7eaab09b5716cff21b7af54ceacd160d  7eaab09b5716cff21b7af54ceacd160d   \n",
       "2  8a43257f07dd1fcfa6cfb92d0b7cb703  61e4a3c418dec3f70d381d55bfda2f20   \n",
       "3  43f4ccc81208af9ed8b646ddb3c89a31  43f4ccc81208af9ed8b646ddb3c89a31   \n",
       "4  d08c0e55237999b588c50a7d8f282984  d08c0e55237999b588c50a7d8f282984   \n",
       "\n",
       "  track_remake_type                                     translate_text  \\\n",
       "0          ORIGINAL  If someone had asked me then\\nWhere will I be ...   \n",
       "1          ORIGINAL  Laudate omnes gentes laudate\\nMagnificat en se...   \n",
       "2             COVER  Baby, I'm wasted\\nAll I wanna do is drive home...   \n",
       "3          ORIGINAL  Every centimeter, every edge of the soul and b...   \n",
       "4          ORIGINAL  One, two, one, two, three\\nOh, yeah, yeah\\nOh,...   \n",
       "\n",
       "                 dttm                 title language          isrc  \\\n",
       "0 2019-02-08 21:00:00                 Стань       RU  TCABR1318588   \n",
       "1 2014-06-18 20:00:00          Happy Nation       EN  SEVJH0803407   \n",
       "2 2021-09-05 16:36:11                 Faded       EN  QZMEQ2003486   \n",
       "3 2021-03-26 17:17:51        Ты так красива       RU  RUA1D2111316   \n",
       "4 2012-12-10 20:00:00  Locked out of Heaven       EN  USAT21203287   \n",
       "\n",
       "          genres  duration cover_list  \\\n",
       "0  [RUSRAP, RAP]  188240.0              \n",
       "1          [POP]  255410.0              \n",
       "2  [ELECTRONICS]  151680.0              \n",
       "3          [POP]  173380.0              \n",
       "4          [POP]  233470.0              \n",
       "\n",
       "                                           lemm_text  \n",
       "0  if someone had asked me then where will i be i...  \n",
       "1  laudate omnes gens laudate magnificat en secul...  \n",
       "2  baby i m wasted all i wan na do is drive home ...  \n",
       "3  every centimeter every edge of the soul and bo...  \n",
       "4  one two one two three oh yeah yeah oh yeah yea...  "
      ]
     },
     "execution_count": 28,
     "metadata": {},
     "output_type": "execute_result"
    }
   ],
   "source": [
    "df_train.head()"
   ]
  },
  {
   "cell_type": "markdown",
   "id": "0fabefee",
   "metadata": {},
   "source": [
    "Сохраним данные датасеты, он потребуется на обучении модели (поскольку там будем подбирать параметры модели)"
   ]
  },
  {
   "cell_type": "code",
   "execution_count": 29,
   "id": "94d824d0",
   "metadata": {},
   "outputs": [],
   "source": [
    "df_train.to_csv(PATH_SAVE_TRAIN_FAISS, index=False)\n",
    "df_test.to_csv(PATH_SAVE_TEST_FAISS, index=False)\n",
    "df_valid.to_csv(PATH_SAVE_VALID_FAISS, index=False)"
   ]
  },
  {
   "cell_type": "markdown",
   "id": "d5dd01c6",
   "metadata": {},
   "source": [
    "Создадим корпусы для обучения"
   ]
  },
  {
   "cell_type": "code",
   "execution_count": 30,
   "id": "fd815693",
   "metadata": {},
   "outputs": [],
   "source": [
    "corpus_train = df_train['lemm_text']\n",
    "corpus_test = df_test['lemm_text']\n",
    "corpus_valid = df_valid['lemm_text']"
   ]
  },
  {
   "cell_type": "markdown",
   "id": "2014ee71",
   "metadata": {},
   "source": [
    "Загрузим стоп слова для английского языка"
   ]
  },
  {
   "cell_type": "code",
   "execution_count": 31,
   "id": "ace026e5",
   "metadata": {},
   "outputs": [
    {
     "name": "stderr",
     "output_type": "stream",
     "text": [
      "[nltk_data] Downloading package stopwords to\n",
      "[nltk_data]     C:\\Users\\yaros\\AppData\\Roaming\\nltk_data...\n",
      "[nltk_data]   Package stopwords is already up-to-date!\n"
     ]
    }
   ],
   "source": [
    "nltk.download('stopwords')\n",
    "stopwords = nltk_stopwords.words('english')"
   ]
  },
  {
   "cell_type": "markdown",
   "id": "a79fe281",
   "metadata": {},
   "source": [
    "Обучим TfIdf и векторизуем наши корпуса. Пока будем передавать только стоп слова, но на этапе моделинга, попробуем подобрать оптимальные параметры для векторизтора"
   ]
  },
  {
   "cell_type": "code",
   "execution_count": 32,
   "id": "b63dad6e",
   "metadata": {},
   "outputs": [],
   "source": [
    "tf_idf = TfidfVectorizer(stop_words=stopwords)"
   ]
  },
  {
   "cell_type": "code",
   "execution_count": 33,
   "id": "034b0ffa",
   "metadata": {},
   "outputs": [
    {
     "name": "stdout",
     "output_type": "stream",
     "text": [
      "CPU times: total: 359 ms\n",
      "Wall time: 350 ms\n"
     ]
    }
   ],
   "source": [
    "%%time\n",
    "corpus_train = tf_idf.fit_transform(corpus_train)\n",
    "corpus_test = tf_idf.transform(corpus_test)\n",
    "corpus_valid = tf_idf.transform(corpus_valid)"
   ]
  },
  {
   "cell_type": "markdown",
   "id": "1b75df82",
   "metadata": {},
   "source": [
    "Выведем размеры получившихся корпусов"
   ]
  },
  {
   "cell_type": "code",
   "execution_count": 34,
   "id": "c575e80b",
   "metadata": {},
   "outputs": [
    {
     "data": {
      "text/plain": [
       "((2084, 11651), (447, 11651), (447, 11651))"
      ]
     },
     "execution_count": 34,
     "metadata": {},
     "output_type": "execute_result"
    }
   ],
   "source": [
    "corpus_train.shape, corpus_test.shape, corpus_valid.shape"
   ]
  },
  {
   "cell_type": "code",
   "execution_count": 35,
   "id": "130897d2",
   "metadata": {},
   "outputs": [
    {
     "data": {
      "text/plain": [
       "scipy.sparse._csr.csr_matrix"
      ]
     },
     "execution_count": 35,
     "metadata": {},
     "output_type": "execute_result"
    }
   ],
   "source": [
    "type(corpus_train)"
   ]
  },
  {
   "cell_type": "markdown",
   "id": "184e0534",
   "metadata": {},
   "source": [
    "Сохраним обученный TfidfVectorizer"
   ]
  },
  {
   "cell_type": "code",
   "execution_count": 36,
   "id": "c0c386d6",
   "metadata": {},
   "outputs": [],
   "source": [
    "pickle.dump(tf_idf, open(PATH_SAVE_TFIDFVECTORIZER, \"wb\"))"
   ]
  },
  {
   "cell_type": "markdown",
   "id": "b90a09f4",
   "metadata": {},
   "source": [
    "Сохраним получившиеся корпуса. Поскольку это разреженные матрицы,  тонапишем функцию, которая будт их сохранять."
   ]
  },
  {
   "cell_type": "code",
   "execution_count": 37,
   "id": "b1cb3cfe",
   "metadata": {},
   "outputs": [],
   "source": [
    "def save_sparse_csr(filename: str, array: scipy.sparse):\n",
    "    np.savez(filename, data=array.data, indices=array.indices,\n",
    "             indptr=array.indptr, shape=array.shape)"
   ]
  },
  {
   "cell_type": "code",
   "execution_count": 38,
   "id": "726ec6f1",
   "metadata": {},
   "outputs": [],
   "source": [
    "save_sparse_csr(PATH_SAVE_TRAIN_CORPUS, corpus_train)\n",
    "save_sparse_csr(PATH_SAVE_TEST_CORPUS, corpus_test)\n",
    "save_sparse_csr(PATH_SAVE_VALID_CORPUS, corpus_valid)"
   ]
  },
  {
   "cell_type": "markdown",
   "id": "cd312f22",
   "metadata": {},
   "source": [
    "## Выводы"
   ]
  },
  {
   "cell_type": "markdown",
   "id": "1b459541",
   "metadata": {},
   "source": [
    "В данном разделе был проведён препроцессинг данных в ходе которого:\n",
    "\n",
    "1. Сформирован датасет для задачи кластеризации:\n",
    "    * Использовались в основном сырые данные, кроме датасета с текстами, поскольку они дополнительно отдельно переводились на английский язык. Поскольку данная задача веьма трудозатратная, её выделили в отдельный ноутбук;\n",
    "    * Данные были очищены, убраны все пропуски, поскольку для обучения модели кластеризации необходимо знать конкретные каверы или оригиналы для треков;\n",
    "    * Добавлен целевой столбец, содержащий список каверов (оригиналов) для трека;\n",
    "    * Данные были разделены на тренировочную, тестовую и валидационные выборки для стратификации был создан временный столбец с группировкой по количеству каверов; \n",
    "        \n",
    "2. Проведена векторизация текстов:\n",
    "    * Текст был очищен от лишних символов и проведена лематизация при помощи библиотекии nltk;\n",
    "    * Обработанные датасеты были сохранены для дальнейшего использования на этапе моделинга;\n",
    "    * Была проведена векторизация текстов при помощи TfidfVectorizer, на данном этапе в качестве параметров передавались только стоп слова.\n",
    "    * Обученный TfidfVectorizer и векторизованные корпуса были так же сохранены для дальнейшего использования на этапе моделинга."
   ]
  },
  {
   "cell_type": "code",
   "execution_count": null,
   "id": "4ceaca14",
   "metadata": {},
   "outputs": [],
   "source": []
  }
 ],
 "metadata": {
  "kernelspec": {
   "display_name": "Python 3 (ipykernel)",
   "language": "python",
   "name": "python3"
  },
  "language_info": {
   "codemirror_mode": {
    "name": "ipython",
    "version": 3
   },
   "file_extension": ".py",
   "mimetype": "text/x-python",
   "name": "python",
   "nbconvert_exporter": "python",
   "pygments_lexer": "ipython3",
   "version": "3.10.11"
  },
  "toc": {
   "base_numbering": 1,
   "nav_menu": {},
   "number_sections": true,
   "sideBar": true,
   "skip_h1_title": false,
   "title_cell": "Table of Contents",
   "title_sidebar": "Contents",
   "toc_cell": false,
   "toc_position": {},
   "toc_section_display": true,
   "toc_window_display": false
  }
 },
 "nbformat": 4,
 "nbformat_minor": 5
}

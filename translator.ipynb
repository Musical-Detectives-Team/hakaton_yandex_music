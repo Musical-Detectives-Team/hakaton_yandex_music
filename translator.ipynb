{
 "cells": [
  {
   "cell_type": "markdown",
   "id": "93ce9e01",
   "metadata": {},
   "source": [
    "# Translator"
   ]
  },
  {
   "cell_type": "markdown",
   "id": "3b1591e1",
   "metadata": {},
   "source": [
    "Данная тетрадка предназначена для перевода текста. В качестве переводчика будет использоваться Yandex Translator. Настройку подключения производили через YandexCloud. Для доступа используется сервисный аккаунт с API ключом. Запросы отправляются к веб сервису при помощи модуля request. Подробнее о настройке можно почитать [здесь](https://cloud.yandex.ru/docs/translate/quickstart)."
   ]
  },
  {
   "cell_type": "code",
   "execution_count": 1,
   "id": "154e9316",
   "metadata": {},
   "outputs": [],
   "source": [
    "import pandas as pd\n",
    "import numpy as np\n",
    "from tqdm import tqdm\n",
    "\n",
    "import os\n",
    "from dotenv import load_dotenv\n",
    "\n",
    "import requests\n",
    "import time\n",
    "import json\n",
    "\n",
    "import logging\n",
    "from datetime import datetime"
   ]
  },
  {
   "cell_type": "code",
   "execution_count": 2,
   "id": "686f41c2",
   "metadata": {},
   "outputs": [],
   "source": [
    "PATH_LYRICS = 'data/raw/lyrics.json'\n",
    "PATH_META = 'data/raw/meta.json'\n",
    "PATH_TO_SAVE_LYRICS = 'data/preprocessing/translated_lyrics.csv'\n",
    "PATH_TO_SAVE_TITLE = 'data/preprocessing/translated_title.csv'"
   ]
  },
  {
   "cell_type": "markdown",
   "id": "192a5b1d",
   "metadata": {},
   "source": [
    "Для запросов в файле .env необходимо задать переменную YANDEX_API_KEY и присвоить ей значение API ключа полученного на YandexCloud."
   ]
  },
  {
   "cell_type": "code",
   "execution_count": 3,
   "id": "ff89ed30",
   "metadata": {},
   "outputs": [],
   "source": [
    "load_dotenv('.env')\n",
    "api_key = os.getenv('YANDEX_API_KEY')"
   ]
  },
  {
   "cell_type": "markdown",
   "id": "4794e4a3",
   "metadata": {},
   "source": [
    "Напишем функцию для перевода текста."
   ]
  },
  {
   "cell_type": "code",
   "execution_count": 4,
   "id": "cbc56f52",
   "metadata": {},
   "outputs": [],
   "source": [
    "def translate_text(texts: str, target_language: str, api_key: str) -> str:\n",
    "    body = {\n",
    "        \"targetLanguageCode\": target_language,\n",
    "        \"texts\": texts\n",
    "    }\n",
    "\n",
    "    headers = {\n",
    "        \"Content-Type\": \"application/json\",\n",
    "        \"Authorization\": f\"Api-Key {api_key}\"\n",
    "    }\n",
    "\n",
    "    response = requests.post('https://translate.api.cloud.yandex.net/translate/v2/translate',\n",
    "        json = body,\n",
    "        headers = headers\n",
    "    )\n",
    "\n",
    "    text = json.loads(response.text)['translations'][0]['text']\n",
    "    return text"
   ]
  },
  {
   "cell_type": "markdown",
   "id": "7615eebc",
   "metadata": {},
   "source": [
    "Напишем функцию для получения языка текста, если он отсутствует (он потребуется, чтобы не переводить и так переведённые тексты плюс в дальнейшем может выступить дополнительным признаком)."
   ]
  },
  {
   "cell_type": "code",
   "execution_count": 5,
   "id": "8c39ff1c",
   "metadata": {},
   "outputs": [],
   "source": [
    "def detect_language_text(text: str, api_key: str) -> str:\n",
    "    body = {\n",
    "        \"text\": text[:999] #лимит на длину символов не более 1000\n",
    "    }\n",
    "\n",
    "    headers = {\n",
    "        \"Content-Type\": \"application/json\",\n",
    "        \"Authorization\": f\"Api-Key {api_key}\"\n",
    "    }\n",
    "\n",
    "    response = requests.post('https://translate.api.cloud.yandex.net/translate/v2/detect',\n",
    "        json = body,\n",
    "        headers = headers\n",
    "    )\n",
    "\n",
    "    language = json.loads(response.text)['languageCode']\n",
    "    return language.upper()"
   ]
  },
  {
   "cell_type": "markdown",
   "id": "8fa5f1be",
   "metadata": {},
   "source": [
    "Создадим функцию, которая будет переводить датафрейм. При этом необходимо учесть, что у переводчика есть квота обрабатываемых запросов в секунду и количество обрабатываемых символов в час, поэтому данные ситуации необходимо обработать. Так же есть общий лимит на количество переводимой информации, поэтому предусмотрим выход из функции, с возвращением обработанной информации. Для отслеживания прогресса будем использовать логирование с помощью модуля logging"
   ]
  },
  {
   "cell_type": "code",
   "execution_count": 25,
   "id": "2367d335",
   "metadata": {},
   "outputs": [],
   "source": [
    "def translate_df(df: pd.DataFrame, \n",
    "                 text_columns: str, \n",
    "                 target_language: str, \n",
    "                 api_key: str, \n",
    "                 verbose: int = 500) -> pd.DataFrame:\n",
    "    log = logging.getLogger()\n",
    "    log.setLevel(logging.INFO)\n",
    "    logging.info(f\"{datetime.now().time()} начат перевод датасета\")\n",
    "    \n",
    "    df = df.copy(deep=True).reset_index(drop=True)\n",
    "    df['translate_text'] = ''\n",
    "    \n",
    "    for i in range(df.shape[0]):\n",
    "        texts = df.loc[i, text_columns]\n",
    "        \n",
    "        if df.loc[i, 'language'] is None or df.loc[i, 'language']  is np.NaN:\n",
    "            try:\n",
    "                language = detect_language_text(texts, api_key)\n",
    "            except:\n",
    "                # если превысили квоту запросов в секунду, ждём 1,1 секунды\n",
    "                time.sleep(1.1)\n",
    "                try:\n",
    "                    language = detect_language_text(texts, api_key)\n",
    "                except:\n",
    "                    language = None\n",
    "            df.loc[i,'language'] = language\n",
    "            \n",
    "        if df.loc[i, 'language'] is not None and df.loc[i,'language'].lower() == target_language:            \n",
    "            translated_text = texts\n",
    "            \n",
    "        else:\n",
    "            if texts is None:\n",
    "                translated_text = texts\n",
    "            else:\n",
    "                try:\n",
    "                    translated_text = translate_text(texts, target_language, api_key)\n",
    "                except:\n",
    "                    # если превысили квоту запросов в секунду, ждём 1,1 секунды\n",
    "                    time.sleep(2)\n",
    "                    try:\n",
    "                        translated_text = translate_text(texts, target_language, api_key)\n",
    "                    except:\n",
    "                        # если превысили квоту запросов в час, ждём 1 час и 1 минуту\n",
    "                        logging.info(f'''{datetime.now().time()} обработано {i} строки, превышено количество запросов в час,\n",
    "                                      начато ожидание''')\n",
    "                        time.sleep(3660)\n",
    "                        try:\n",
    "                            translated_text = translate_text(texts, target_language, api_key)\n",
    "                        except:\n",
    "                            # если превысили общую квоту запросов\n",
    "                            logging.info(f'''{datetime.now().time()} обработано {i} строки, превышено количество запросов \n",
    "                            обработка датасета прекращена''')\n",
    "                            return df        \n",
    "        df.loc[i, 'translate_text'] = translated_text\n",
    "        \n",
    "        if verbose is not None:\n",
    "            if i % verbose == 0:\n",
    "                logging.info(f\"{datetime.now().time()} обработано {i + 1} строк\")\n",
    "        \n",
    "    logging.info(f\"{datetime.now().time()} обработано датасета завершена\")\n",
    "    return df"
   ]
  },
  {
   "cell_type": "markdown",
   "id": "908d7ce1",
   "metadata": {},
   "source": [
    "## Перевод текстов песен"
   ]
  },
  {
   "cell_type": "code",
   "execution_count": 7,
   "id": "9fb8ee97",
   "metadata": {},
   "outputs": [],
   "source": [
    "df_lyrics = pd.read_json(PATH_LYRICS, lines=True)\n",
    "df_meta = pd.read_json(PATH_META, lines=True, convert_dates=['dttm'])[['track_id', 'language']]\n",
    "df_union = df_meta.merge(df_lyrics, on = 'track_id', how = 'inner')"
   ]
  },
  {
   "cell_type": "code",
   "execution_count": 9,
   "id": "bac2b76b",
   "metadata": {
    "scrolled": true
   },
   "outputs": [
    {
     "name": "stderr",
     "output_type": "stream",
     "text": [
      "INFO:root:01:29:48.618686 начат перевод датасета\n",
      "INFO:root:01:29:48.626686 обработано 1 строк\n",
      "INFO:root:01:36:46.785832 обработано 501 строк\n",
      "INFO:root:01:46:37.089815 обработано 1001 строк\n",
      "INFO:root:01:57:17.046477 обработано 1501 строк\n",
      "INFO:root:02:04:04.300459 обработано 2001 строк\n",
      "INFO:root:02:11:09.127583 обработано 2501 строк\n",
      "INFO:root:02:17:42.224014 обработано 3001 строк\n",
      "INFO:root:02:23:28.278499 обработано 3501 строк\n",
      "INFO:root:02:30:28.842817 обработано 4001 строк\n",
      "INFO:root:02:39:36.872441 обработано 4501 строк\n",
      "INFO:root:02:45:50.468707 обработано 5001 строк\n",
      "INFO:root:02:47:12.030429 обработано 5501 строк\n",
      "INFO:root:02:49:22.282235 обработано 6001 строк\n",
      "INFO:root:02:49:59.038923 обработано 6501 строк\n",
      "INFO:root:02:51:45.163543 обработано 7001 строк\n",
      "INFO:root:02:54:26.194776 обработано 7501 строк\n",
      "INFO:root:02:57:17.139227 обработано 8001 строк\n",
      "INFO:root:03:01:04.387603 обработано 8501 строк\n",
      "INFO:root:03:05:34.924808 обработано 9001 строк\n",
      "INFO:root:03:10:55.048511 обработано 9486 строки, превышено количество запросов в час,\n",
      "                                  начато ожидание\n",
      "INFO:root:04:11:55.100539 обработано 9486 строки, превышено количество запросов \n",
      "                        обработка датасета прекращена\n"
     ]
    }
   ],
   "source": [
    "new_df = translate_df(df_union, 'text', 'en', api_key)"
   ]
  },
  {
   "cell_type": "code",
   "execution_count": 10,
   "id": "566c6a74",
   "metadata": {},
   "outputs": [],
   "source": [
    "new_df.to_csv(PATH_TO_SAVE_LYRICS, index=False)"
   ]
  },
  {
   "cell_type": "markdown",
   "id": "9d2accf0",
   "metadata": {},
   "source": [
    "В этот момент закончились средства на аккаунте. Пополнили их и продолжли"
   ]
  },
  {
   "cell_type": "code",
   "execution_count": 41,
   "id": "64ccd302",
   "metadata": {},
   "outputs": [],
   "source": [
    "new_df = pd.read_csv(PATH_TO_SAVE_LYRICS)"
   ]
  },
  {
   "cell_type": "code",
   "execution_count": 42,
   "id": "04ad4001",
   "metadata": {},
   "outputs": [],
   "source": [
    "df_to_translate = new_df[new_df['translate_text'].isna()].reset_index(drop=True)"
   ]
  },
  {
   "cell_type": "code",
   "execution_count": 10,
   "id": "d8d086f6",
   "metadata": {},
   "outputs": [
    {
     "name": "stderr",
     "output_type": "stream",
     "text": [
      "INFO:root:10:49:19.222063 начат перевод датасета\n",
      "INFO:root:10:49:20.213480 обработано 1 строк\n",
      "INFO:root:10:53:34.499393 обработано 501 строк\n",
      "INFO:root:10:57:58.252885 обработано 1001 строк\n",
      "INFO:root:11:00:27.850707 обработано 1501 строк\n",
      "INFO:root:11:03:43.490748 обработано датасета завершена\n"
     ]
    }
   ],
   "source": [
    "df_translated = translate_df(df_to_translate, 'text', 'en', api_key)"
   ]
  },
  {
   "cell_type": "markdown",
   "id": "a6cb7dba",
   "metadata": {},
   "source": [
    "Переименуем столбцы language и translate_text в новом датасете, чтобы не было пролем при мёрже"
   ]
  },
  {
   "cell_type": "code",
   "execution_count": 43,
   "id": "0646f107",
   "metadata": {},
   "outputs": [],
   "source": [
    "df_translated = df_translated.rename(columns={'language': 'new_language',\n",
    "                                             'translate_text': 'new_translate_text'})"
   ]
  },
  {
   "cell_type": "markdown",
   "id": "053b18f5",
   "metadata": {},
   "source": [
    "Смержим два датасета и заполним пропуски в строках, где text равен NaN"
   ]
  },
  {
   "cell_type": "code",
   "execution_count": 45,
   "id": "8844002b",
   "metadata": {},
   "outputs": [],
   "source": [
    "new_df = new_df.merge(df_translated, on = ['track_id', 'lyricId', 'text'], how='left')"
   ]
  },
  {
   "cell_type": "code",
   "execution_count": 46,
   "id": "84283543",
   "metadata": {},
   "outputs": [],
   "source": [
    "new_df.loc[new_df['translate_text'].isna(), 'language'] = new_df.loc[new_df['translate_text'].isna(), 'new_language']\n",
    "new_df.loc[new_df['translate_text'].isna(), 'translate_text'] = new_df.loc[new_df['translate_text'].isna(), 'new_translate_text']"
   ]
  },
  {
   "cell_type": "markdown",
   "id": "bfd14759",
   "metadata": {},
   "source": [
    "Удалим лишние столбцы и выведем последние 5 строк, чтобы убедиться, что всё отработало корректно"
   ]
  },
  {
   "cell_type": "code",
   "execution_count": 48,
   "id": "22c9d83e",
   "metadata": {},
   "outputs": [],
   "source": [
    "new_df = new_df.drop(['new_language', 'new_translate_text'], axis=1)"
   ]
  },
  {
   "cell_type": "code",
   "execution_count": 51,
   "id": "8d2833aa",
   "metadata": {},
   "outputs": [
    {
     "data": {
      "text/html": [
       "<div>\n",
       "<style scoped>\n",
       "    .dataframe tbody tr th:only-of-type {\n",
       "        vertical-align: middle;\n",
       "    }\n",
       "\n",
       "    .dataframe tbody tr th {\n",
       "        vertical-align: top;\n",
       "    }\n",
       "\n",
       "    .dataframe thead th {\n",
       "        text-align: right;\n",
       "    }\n",
       "</style>\n",
       "<table border=\"1\" class=\"dataframe\">\n",
       "  <thead>\n",
       "    <tr style=\"text-align: right;\">\n",
       "      <th></th>\n",
       "      <th>track_id</th>\n",
       "      <th>language</th>\n",
       "      <th>lyricId</th>\n",
       "      <th>text</th>\n",
       "      <th>translate_text</th>\n",
       "    </tr>\n",
       "  </thead>\n",
       "  <tbody>\n",
       "    <tr>\n",
       "      <th>11409</th>\n",
       "      <td>b58ca1bfa08279d4b8bce744262cdf22</td>\n",
       "      <td>RU</td>\n",
       "      <td>3ab73ba22fdf32722fdc80cb3e7d92c5</td>\n",
       "      <td>Если бы не ты, кто б меня спасал?\\nКто бы успо...</td>\n",
       "      <td>If it wasn't for you, who would save me?\\nWho ...</td>\n",
       "    </tr>\n",
       "    <tr>\n",
       "      <th>11410</th>\n",
       "      <td>a73b42b709b63cb642422696b38f8f19</td>\n",
       "      <td>EN</td>\n",
       "      <td>871d37f7d03ad7a786d74d09254b1d31</td>\n",
       "      <td>I heard he sang a good song\\nI heard he had a ...</td>\n",
       "      <td>I heard he sang a good song\\nI heard he had a ...</td>\n",
       "    </tr>\n",
       "    <tr>\n",
       "      <th>11411</th>\n",
       "      <td>a95d976c7342f213a2d50a8c9d6c32a8</td>\n",
       "      <td>EN</td>\n",
       "      <td>c89aaa11054fc3edddc6c694410c93e4</td>\n",
       "      <td>Beyond the horizon of the place we lived when ...</td>\n",
       "      <td>Beyond the horizon of the place we lived when ...</td>\n",
       "    </tr>\n",
       "    <tr>\n",
       "      <th>11412</th>\n",
       "      <td>495babc700c0c6b5b8549d49f163d3cb</td>\n",
       "      <td>EN</td>\n",
       "      <td>ac58c9835f8bafbd2dd129e6f6eebbb6</td>\n",
       "      <td>Guess it's true I'm not good at a one night st...</td>\n",
       "      <td>Guess it's true I'm not good at a one night st...</td>\n",
       "    </tr>\n",
       "    <tr>\n",
       "      <th>11413</th>\n",
       "      <td>5731fc0a34c663a0c0082c712df15266</td>\n",
       "      <td>RU</td>\n",
       "      <td>00cdce64d0559ea65ec245d05735e2b0</td>\n",
       "      <td>Собери по осколкам моё разбитое сердце\\nСбита ...</td>\n",
       "      <td>Pick up the pieces of my broken heart\\nI'm con...</td>\n",
       "    </tr>\n",
       "  </tbody>\n",
       "</table>\n",
       "</div>"
      ],
      "text/plain": [
       "                               track_id language  \\\n",
       "11409  b58ca1bfa08279d4b8bce744262cdf22       RU   \n",
       "11410  a73b42b709b63cb642422696b38f8f19       EN   \n",
       "11411  a95d976c7342f213a2d50a8c9d6c32a8       EN   \n",
       "11412  495babc700c0c6b5b8549d49f163d3cb       EN   \n",
       "11413  5731fc0a34c663a0c0082c712df15266       RU   \n",
       "\n",
       "                                lyricId  \\\n",
       "11409  3ab73ba22fdf32722fdc80cb3e7d92c5   \n",
       "11410  871d37f7d03ad7a786d74d09254b1d31   \n",
       "11411  c89aaa11054fc3edddc6c694410c93e4   \n",
       "11412  ac58c9835f8bafbd2dd129e6f6eebbb6   \n",
       "11413  00cdce64d0559ea65ec245d05735e2b0   \n",
       "\n",
       "                                                    text  \\\n",
       "11409  Если бы не ты, кто б меня спасал?\\nКто бы успо...   \n",
       "11410  I heard he sang a good song\\nI heard he had a ...   \n",
       "11411  Beyond the horizon of the place we lived when ...   \n",
       "11412  Guess it's true I'm not good at a one night st...   \n",
       "11413  Собери по осколкам моё разбитое сердце\\nСбита ...   \n",
       "\n",
       "                                          translate_text  \n",
       "11409  If it wasn't for you, who would save me?\\nWho ...  \n",
       "11410  I heard he sang a good song\\nI heard he had a ...  \n",
       "11411  Beyond the horizon of the place we lived when ...  \n",
       "11412  Guess it's true I'm not good at a one night st...  \n",
       "11413  Pick up the pieces of my broken heart\\nI'm con...  "
      ]
     },
     "execution_count": 51,
     "metadata": {},
     "output_type": "execute_result"
    }
   ],
   "source": [
    "new_df.tail(5)"
   ]
  },
  {
   "cell_type": "markdown",
   "id": "7cb1dea9",
   "metadata": {},
   "source": [
    "Выведем информацию по полученному датасету"
   ]
  },
  {
   "cell_type": "code",
   "execution_count": 54,
   "id": "28884ed8",
   "metadata": {},
   "outputs": [
    {
     "name": "stdout",
     "output_type": "stream",
     "text": [
      "<class 'pandas.core.frame.DataFrame'>\n",
      "RangeIndex: 11414 entries, 0 to 11413\n",
      "Data columns (total 5 columns):\n",
      " #   Column          Non-Null Count  Dtype \n",
      "---  ------          --------------  ----- \n",
      " 0   track_id        11414 non-null  object\n",
      " 1   language        11359 non-null  object\n",
      " 2   lyricId         11414 non-null  object\n",
      " 3   text            11414 non-null  object\n",
      " 4   translate_text  11414 non-null  object\n",
      "dtypes: object(5)\n",
      "memory usage: 446.0+ KB\n"
     ]
    }
   ],
   "source": [
    "new_df.info()"
   ]
  },
  {
   "cell_type": "markdown",
   "id": "1b73fb5c",
   "metadata": {},
   "source": [
    "Есть небольшое количество пропусков в столбце с языком, но их уже осталось незначительное количество"
   ]
  },
  {
   "cell_type": "code",
   "execution_count": 53,
   "id": "97b8cc46",
   "metadata": {},
   "outputs": [],
   "source": [
    "new_df.to_csv(PATH_TO_SAVE_LYRICS, index=False)"
   ]
  },
  {
   "cell_type": "markdown",
   "id": "d0066b3b",
   "metadata": {},
   "source": [
    "## Перевод заголовков"
   ]
  },
  {
   "cell_type": "markdown",
   "id": "df542db7",
   "metadata": {},
   "source": [
    "На этапе моделинга оказалось, что заголовки тоже могут оказаться сильным признаком, поэтому переведём дополнительно заголовки песен и определим для них язык (если такое возможно). Откроем датасет с заголовками."
   ]
  },
  {
   "cell_type": "code",
   "execution_count": 20,
   "id": "a293c58d",
   "metadata": {},
   "outputs": [],
   "source": [
    "df_meta = pd.read_json(PATH_META, lines=True, convert_dates=['dttm'])[['track_id', 'language', 'title']]"
   ]
  },
  {
   "cell_type": "markdown",
   "id": "c57716a3",
   "metadata": {},
   "source": [
    "Переведём заголовки"
   ]
  },
  {
   "cell_type": "code",
   "execution_count": 8,
   "id": "a46278b7",
   "metadata": {},
   "outputs": [
    {
     "name": "stderr",
     "output_type": "stream",
     "text": [
      "INFO:root:19:15:24.716869 начат перевод датасета\n",
      "INFO:root:19:15:24.728381 обработано 1 строк\n",
      "INFO:root:19:18:53.655826 обработано 501 строк\n",
      "INFO:root:19:21:18.676445 обработано 1001 строк\n",
      "INFO:root:19:24:37.761239 обработано 1501 строк\n",
      "INFO:root:19:27:32.059534 обработано 2001 строк\n",
      "INFO:root:19:31:10.432916 обработано 2501 строк\n",
      "INFO:root:19:34:46.671787 обработано 3001 строк\n",
      "INFO:root:19:38:25.867208 обработано 3501 строк\n",
      "INFO:root:19:41:43.499858 обработано 4001 строк\n",
      "INFO:root:19:45:27.167053 обработано 4501 строк\n",
      "INFO:root:19:49:21.019756 обработано 5001 строк\n",
      "INFO:root:19:52:47.662543 обработано 5501 строк\n",
      "INFO:root:19:56:15.403141 обработано 6001 строк\n",
      "INFO:root:20:00:05.803003 обработано 6501 строк\n",
      "INFO:root:20:03:22.733352 обработано 7001 строк\n",
      "INFO:root:20:06:29.669834 обработано 7501 строк\n",
      "INFO:root:20:10:13.749991 обработано 8001 строк\n",
      "INFO:root:20:13:45.526251 обработано 8501 строк\n",
      "INFO:root:20:17:55.227205 обработано 9001 строк\n",
      "INFO:root:20:22:05.117822 обработано 9501 строк\n",
      "INFO:root:20:26:31.618525 обработано 10001 строк\n",
      "INFO:root:20:30:48.260990 обработано 10501 строк\n",
      "INFO:root:20:35:24.998260 обработано 11001 строк\n",
      "INFO:root:20:39:46.831971 обработано 11501 строк\n",
      "INFO:root:20:44:08.609444 обработано 12001 строк\n",
      "INFO:root:20:48:18.200142 обработано 12501 строк\n",
      "INFO:root:20:52:58.610860 обработано 13001 строк\n",
      "INFO:root:20:57:17.679078 обработано 13501 строк\n",
      "INFO:root:21:01:32.628404 обработано 14001 строк\n",
      "INFO:root:21:05:54.516319 обработано 14501 строк\n",
      "INFO:root:21:09:20.299130 обработано 15001 строк\n",
      "INFO:root:21:11:41.581003 обработано 15501 строк\n",
      "INFO:root:21:14:32.801486 обработано 16001 строк\n",
      "INFO:root:21:17:41.418682 обработано 16501 строк\n",
      "INFO:root:21:20:53.587719 обработано 17001 строк\n",
      "INFO:root:21:23:10.228165 обработано 17501 строк\n",
      "INFO:root:21:26:14.153764 обработано 18001 строк\n",
      "INFO:root:21:29:18.547842 обработано 18501 строк\n",
      "INFO:root:21:32:17.540324 обработано 19001 строк\n",
      "INFO:root:21:35:04.804920 обработано 19501 строк\n",
      "INFO:root:21:37:34.202620 обработано 20001 строк\n",
      "INFO:root:21:40:31.585461 обработано 20501 строк\n",
      "INFO:root:21:43:46.203474 обработано 21001 строк\n",
      "INFO:root:21:47:13.780799 обработано 21501 строк\n",
      "INFO:root:21:50:49.119075 обработано 22001 строк\n",
      "INFO:root:21:55:17.052869 обработано 22501 строк\n",
      "INFO:root:21:58:27.361825 обработано 23001 строк\n",
      "INFO:root:22:02:06.595408 обработано 23501 строк\n",
      "INFO:root:22:04:51.478568 обработано 24001 строк\n",
      "INFO:root:22:07:55.128978 обработано 24501 строк\n",
      "INFO:root:22:10:53.545509 обработано 25001 строк\n",
      "INFO:root:22:14:17.337107 обработано 25501 строк\n",
      "INFO:root:22:18:09.797088 обработано 26001 строк\n",
      "INFO:root:22:21:44.569000 обработано 26501 строк\n",
      "INFO:root:22:26:25.820000 обработано 27001 строк\n",
      "INFO:root:22:30:14.938419 обработано 27501 строк\n",
      "INFO:root:22:34:10.173695 обработано 28001 строк\n",
      "INFO:root:22:37:19.445642 обработано 28501 строк\n",
      "INFO:root:22:40:31.691326 обработано 29001 строк\n",
      "INFO:root:22:44:41.146578 обработано 29501 строк\n",
      "INFO:root:22:48:36.020019 обработано 30001 строк\n",
      "INFO:root:22:51:57.728997 обработано 30501 строк\n",
      "INFO:root:22:55:22.829688 обработано 31001 строк\n",
      "INFO:root:22:59:25.053868 обработано 31501 строк\n",
      "INFO:root:23:02:38.157326 обработано 32001 строк\n",
      "INFO:root:23:06:28.738722 обработано 32501 строк\n",
      "INFO:root:23:10:43.960888 обработано 33001 строк\n",
      "INFO:root:23:14:19.036637 обработано 33501 строк\n",
      "INFO:root:23:18:16.445357 обработано 34001 строк\n",
      "INFO:root:23:22:23.146542 обработано 34501 строк\n",
      "INFO:root:23:25:28.559054 обработано 35001 строк\n",
      "INFO:root:23:29:06.746157 обработано 35501 строк\n",
      "INFO:root:23:33:02.909831 обработано 36001 строк\n",
      "INFO:root:23:37:56.813100 обработано 36501 строк\n",
      "INFO:root:23:42:01.423543 обработано 37001 строк\n",
      "INFO:root:23:46:06.310759 обработано 37501 строк\n",
      "INFO:root:23:48:54.782743 обработано 38001 строк\n",
      "INFO:root:23:52:19.433778 обработано 38501 строк\n",
      "INFO:root:23:56:03.870187 обработано 39001 строк\n",
      "INFO:root:00:00:05.660959 обработано 39501 строк\n",
      "INFO:root:00:04:22.017616 обработано 40001 строк\n",
      "INFO:root:00:07:04.163587 обработано 40501 строк\n",
      "INFO:root:00:10:02.029017 обработано 41001 строк\n",
      "INFO:root:00:13:18.801704 обработано 41501 строк\n",
      "INFO:root:00:14:53.000277 обработано 42001 строк\n",
      "INFO:root:00:16:30.496422 обработано 42501 строк\n",
      "INFO:root:00:17:48.530475 обработано 43001 строк\n",
      "INFO:root:00:18:07.739426 обработано 43501 строк\n",
      "INFO:root:00:19:18.522398 обработано 44001 строк\n",
      "INFO:root:00:20:14.762516 обработано 44434 строки, превышено количество запросов в час,\n",
      "                                  начато ожидание\n",
      "INFO:root:01:21:14.879895 обработано 44434 строки, превышено количество запросов \n",
      "                        обработка датасета прекращена\n"
     ]
    }
   ],
   "source": [
    "new_df = translate_df(df_meta, 'title', 'en', api_key)"
   ]
  },
  {
   "cell_type": "markdown",
   "id": "dd41668c",
   "metadata": {},
   "source": [
    "Обработка текста прервалась, посмотрим в чём может быть проблема"
   ]
  },
  {
   "cell_type": "code",
   "execution_count": 26,
   "id": "11d174c1",
   "metadata": {},
   "outputs": [
    {
     "data": {
      "text/html": [
       "<div>\n",
       "<style scoped>\n",
       "    .dataframe tbody tr th:only-of-type {\n",
       "        vertical-align: middle;\n",
       "    }\n",
       "\n",
       "    .dataframe tbody tr th {\n",
       "        vertical-align: top;\n",
       "    }\n",
       "\n",
       "    .dataframe thead th {\n",
       "        text-align: right;\n",
       "    }\n",
       "</style>\n",
       "<table border=\"1\" class=\"dataframe\">\n",
       "  <thead>\n",
       "    <tr style=\"text-align: right;\">\n",
       "      <th></th>\n",
       "      <th>track_id</th>\n",
       "      <th>language</th>\n",
       "      <th>title</th>\n",
       "    </tr>\n",
       "  </thead>\n",
       "  <tbody>\n",
       "    <tr>\n",
       "      <th>44434</th>\n",
       "      <td>None</td>\n",
       "      <td>None</td>\n",
       "      <td>None</td>\n",
       "    </tr>\n",
       "    <tr>\n",
       "      <th>44435</th>\n",
       "      <td>eeb69a3cb92300456b6a5f4162093851</td>\n",
       "      <td>EN</td>\n",
       "      <td>Proud Mary</td>\n",
       "    </tr>\n",
       "    <tr>\n",
       "      <th>44436</th>\n",
       "      <td>fe7ee8fc1959cc7214fa21c4840dff0a</td>\n",
       "      <td>EN</td>\n",
       "      <td>Fortunate Son</td>\n",
       "    </tr>\n",
       "    <tr>\n",
       "      <th>44437</th>\n",
       "      <td>cd89fef7ffdd490db800357f47722b20</td>\n",
       "      <td>ES</td>\n",
       "      <td>La Camisa Negra</td>\n",
       "    </tr>\n",
       "    <tr>\n",
       "      <th>44438</th>\n",
       "      <td>995665640dc319973d3173a74a03860c</td>\n",
       "      <td>EN</td>\n",
       "      <td>The Way I Are</td>\n",
       "    </tr>\n",
       "  </tbody>\n",
       "</table>\n",
       "</div>"
      ],
      "text/plain": [
       "                               track_id language            title\n",
       "44434                              None     None             None\n",
       "44435  eeb69a3cb92300456b6a5f4162093851       EN       Proud Mary\n",
       "44436  fe7ee8fc1959cc7214fa21c4840dff0a       EN    Fortunate Son\n",
       "44437  cd89fef7ffdd490db800357f47722b20       ES  La Camisa Negra\n",
       "44438  995665640dc319973d3173a74a03860c       EN    The Way I Are"
      ]
     },
     "execution_count": 26,
     "metadata": {},
     "output_type": "execute_result"
    }
   ],
   "source": [
    "df_meta[44434:].head()"
   ]
  },
  {
   "cell_type": "markdown",
   "id": "efcaef38",
   "metadata": {},
   "source": [
    "Проблема заключается в том, что есть строка без данных и это приводит к ошибке, проверим сколько таких строк в базе."
   ]
  },
  {
   "cell_type": "code",
   "execution_count": 24,
   "id": "55745f07",
   "metadata": {},
   "outputs": [
    {
     "data": {
      "text/plain": [
       "1"
      ]
     },
     "execution_count": 24,
     "metadata": {},
     "output_type": "execute_result"
    }
   ],
   "source": [
    "df_meta[44434:]['title'].isna().sum()"
   ]
  },
  {
   "cell_type": "markdown",
   "id": "e123afae",
   "metadata": {},
   "source": [
    "Такая строка всего одна, тем не менее добавим обработку данного исключения и переведём остатка текста."
   ]
  },
  {
   "cell_type": "code",
   "execution_count": 27,
   "id": "09762ac9",
   "metadata": {},
   "outputs": [
    {
     "name": "stderr",
     "output_type": "stream",
     "text": [
      "INFO:root:03:59:43.819963 начат перевод датасета\n",
      "INFO:root:03:59:44.940914 обработано 1 строк\n",
      "INFO:root:04:00:02.687094 обработано 501 строк\n",
      "INFO:root:04:01:23.815799 обработано 1001 строк\n",
      "INFO:root:04:03:09.670130 обработано 1501 строк\n",
      "INFO:root:04:04:05.981773 обработано 2001 строк\n",
      "INFO:root:04:05:54.353915 обработано 2501 строк\n",
      "INFO:root:04:07:53.570744 обработано 3001 строк\n",
      "INFO:root:04:09:53.456206 обработано 3501 строк\n",
      "INFO:root:04:11:45.534363 обработано 4001 строк\n",
      "INFO:root:04:13:15.411467 обработано 4501 строк\n",
      "INFO:root:04:15:53.353064 обработано 5001 строк\n",
      "INFO:root:04:17:25.700579 обработано 5501 строк\n",
      "INFO:root:04:18:50.416794 обработано 6001 строк\n",
      "INFO:root:04:20:03.863742 обработано 6501 строк\n",
      "INFO:root:04:21:17.935778 обработано 7001 строк\n",
      "INFO:root:04:21:57.403352 обработано 7501 строк\n",
      "INFO:root:04:22:59.349806 обработано 8001 строк\n",
      "INFO:root:04:23:59.122433 обработано 8501 строк\n",
      "INFO:root:04:25:02.162762 обработано 9001 строк\n",
      "INFO:root:04:27:10.075380 обработано 9501 строк\n",
      "INFO:root:04:29:35.804219 обработано 10001 строк\n",
      "INFO:root:04:32:04.811033 обработано 10501 строк\n",
      "INFO:root:04:34:55.000664 обработано 11001 строк\n",
      "INFO:root:04:37:59.941201 обработано 11501 строк\n",
      "INFO:root:04:41:00.927853 обработано 12001 строк\n",
      "INFO:root:04:44:10.165396 обработано 12501 строк\n",
      "INFO:root:04:47:15.353709 обработано 13001 строк\n",
      "INFO:root:04:49:48.607577 обработано 13501 строк\n",
      "INFO:root:04:52:37.035528 обработано 14001 строк\n",
      "INFO:root:04:55:21.180419 обработано 14501 строк\n",
      "INFO:root:04:57:47.769383 обработано 15001 строк\n",
      "INFO:root:05:00:46.997394 обработано 15501 строк\n",
      "INFO:root:05:03:35.108328 обработано 16001 строк\n",
      "INFO:root:05:05:54.108647 обработано 16501 строк\n",
      "INFO:root:05:08:14.266719 обработано 17001 строк\n",
      "INFO:root:05:11:34.142020 обработано 17501 строк\n",
      "INFO:root:05:14:56.890320 обработано 18001 строк\n",
      "INFO:root:05:18:03.486756 обработано 18501 строк\n",
      "INFO:root:05:21:11.949254 обработано 19001 строк\n",
      "INFO:root:05:24:16.425615 обработано 19501 строк\n",
      "INFO:root:05:27:30.374880 обработано 20001 строк\n",
      "INFO:root:05:30:00.324208 обработано 20501 строк\n",
      "INFO:root:05:32:30.398610 обработано 21001 строк\n",
      "INFO:root:05:35:17.879544 обработано 21501 строк\n",
      "INFO:root:05:37:03.147163 обработано 22001 строк\n",
      "INFO:root:05:38:07.891307 обработано 22501 строк\n",
      "INFO:root:05:39:10.601957 обработано 23001 строк\n",
      "INFO:root:05:40:54.585451 обработано 23501 строк\n",
      "INFO:root:05:42:41.576492 обработано 24001 строк\n",
      "INFO:root:05:44:26.949899 обработано 24501 строк\n",
      "INFO:root:05:46:43.728814 обработано 25001 строк\n",
      "INFO:root:05:48:45.938504 обработано 25501 строк\n",
      "INFO:root:05:50:28.161467 обработано 26001 строк\n",
      "INFO:root:05:52:21.798051 обработано 26501 строк\n",
      "INFO:root:05:54:23.735987 обработано 27001 строк\n",
      "INFO:root:05:55:42.414669 обработано датасета завершена\n"
     ]
    }
   ],
   "source": [
    "new_df2 = translate_df(df_meta[44434:], 'title', 'en', api_key)"
   ]
  },
  {
   "cell_type": "markdown",
   "id": "331abce0",
   "metadata": {},
   "source": [
    "Объединим две части датасета"
   ]
  },
  {
   "cell_type": "code",
   "execution_count": 46,
   "id": "c6c2b5bc",
   "metadata": {},
   "outputs": [],
   "source": [
    "new_df = pd.read_csv(PATH_TO_SAVE_TITLE)"
   ]
  },
  {
   "cell_type": "code",
   "execution_count": 47,
   "id": "74f6575c",
   "metadata": {},
   "outputs": [],
   "source": [
    "new_df = pd.concat([new_df[:44434], new_df2], axis = 0).reset_index(drop=True)"
   ]
  },
  {
   "cell_type": "markdown",
   "id": "619fae9d",
   "metadata": {},
   "source": [
    "Переименуем столбцы"
   ]
  },
  {
   "cell_type": "code",
   "execution_count": 49,
   "id": "719bf827",
   "metadata": {},
   "outputs": [],
   "source": [
    "new_df = new_df.rename(columns={'language': 'title_language',\n",
    "                                'translate_text': 'translate_title'})"
   ]
  },
  {
   "cell_type": "markdown",
   "id": "2e575700",
   "metadata": {},
   "source": [
    "Посмотрим на полученный результат"
   ]
  },
  {
   "cell_type": "code",
   "execution_count": 50,
   "id": "4ef66dc4",
   "metadata": {},
   "outputs": [
    {
     "name": "stdout",
     "output_type": "stream",
     "text": [
      "<class 'pandas.core.frame.DataFrame'>\n",
      "RangeIndex: 71769 entries, 0 to 71768\n",
      "Data columns (total 4 columns):\n",
      " #   Column           Non-Null Count  Dtype \n",
      "---  ------           --------------  ----- \n",
      " 0   track_id         71768 non-null  object\n",
      " 1   title_language   71689 non-null  object\n",
      " 2   title            71768 non-null  object\n",
      " 3   translate_title  71768 non-null  object\n",
      "dtypes: object(4)\n",
      "memory usage: 2.2+ MB\n"
     ]
    }
   ],
   "source": [
    "new_df.info()"
   ]
  },
  {
   "cell_type": "markdown",
   "id": "95411624",
   "metadata": {},
   "source": [
    "Сохраним полученный датасет"
   ]
  },
  {
   "cell_type": "code",
   "execution_count": 51,
   "id": "acbff38f",
   "metadata": {},
   "outputs": [],
   "source": [
    "new_df.to_csv(PATH_TO_SAVE_TITLE, index=False)"
   ]
  },
  {
   "cell_type": "markdown",
   "id": "6d4f80c7",
   "metadata": {},
   "source": [
    "## Выводы "
   ]
  },
  {
   "cell_type": "markdown",
   "id": "10774b38",
   "metadata": {},
   "source": [
    "В данном разделе были решены 2 задачи:\n",
    "1. Все тексты были переведены на английский язык, что значительно упростит задачу очистки текстов и их векторизацию\n",
    "2. Почти для всех тестов был определён язык на котором они написаны, а это может стать сильным признаком для модели машинного обучения.\n",
    "\n",
    "Для решения данных задач использовался Yandex Translator, с которым мы работали через API запросы ри помощи модуля request."
   ]
  },
  {
   "cell_type": "code",
   "execution_count": null,
   "id": "df45f3a5",
   "metadata": {},
   "outputs": [],
   "source": []
  }
 ],
 "metadata": {
  "kernelspec": {
   "display_name": "Python 3 (ipykernel)",
   "language": "python",
   "name": "python3"
  },
  "language_info": {
   "codemirror_mode": {
    "name": "ipython",
    "version": 3
   },
   "file_extension": ".py",
   "mimetype": "text/x-python",
   "name": "python",
   "nbconvert_exporter": "python",
   "pygments_lexer": "ipython3",
   "version": "3.10.11"
  }
 },
 "nbformat": 4,
 "nbformat_minor": 5
}

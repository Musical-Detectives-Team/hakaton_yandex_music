{
 "cells": [
  {
   "cell_type": "markdown",
   "id": "93ce9e01",
   "metadata": {},
   "source": [
    "# Translator"
   ]
  },
  {
   "cell_type": "markdown",
   "id": "3b1591e1",
   "metadata": {},
   "source": [
    "Данная тетрадка предназначена для перевода текста. В качестве переводчика будет использоваться Yandex Translator. Настройку производили через YandexCloud. Для доступа используется сервисный аккаунт с API ключом. Запросы отправляются к веб сервису при помощи модуля request. Подробнее о настройке можно почитать [здесь](https://cloud.yandex.ru/docs/translate/quickstart)."
   ]
  },
  {
   "cell_type": "code",
   "execution_count": 1,
   "id": "154e9316",
   "metadata": {},
   "outputs": [],
   "source": [
    "import pandas as pd\n",
    "import numpy as np\n",
    "from tqdm import tqdm\n",
    "\n",
    "import os\n",
    "from dotenv import load_dotenv\n",
    "\n",
    "import requests\n",
    "import time\n",
    "import json\n",
    "\n",
    "import logging\n",
    "from datetime import datetime"
   ]
  },
  {
   "cell_type": "code",
   "execution_count": 2,
   "id": "686f41c2",
   "metadata": {},
   "outputs": [],
   "source": [
    "PATH_LYRICS = 'data/raw/lyrics.json'\n",
    "PATH_META = 'data/raw/meta.json'\n",
    "PATH_TO_SAVE = 'data/preprocessing/translated_lyrics.csv'"
   ]
  },
  {
   "cell_type": "markdown",
   "id": "192a5b1d",
   "metadata": {},
   "source": [
    "Для запросов в файле .env необходимо задать переменную YANDEX_API_KEY и присвоить ей значение API ключа полученного на YandexCloud."
   ]
  },
  {
   "cell_type": "code",
   "execution_count": 3,
   "id": "ff89ed30",
   "metadata": {},
   "outputs": [],
   "source": [
    "load_dotenv('.env')\n",
    "api_key = os.getenv('YANDEX_API_KEY')"
   ]
  },
  {
   "cell_type": "markdown",
   "id": "4794e4a3",
   "metadata": {},
   "source": [
    "Напишем функцию для перевода текста."
   ]
  },
  {
   "cell_type": "code",
   "execution_count": 4,
   "id": "cbc56f52",
   "metadata": {},
   "outputs": [],
   "source": [
    "def translate_text(texts: str, target_language: str, api_key: str) -> str:\n",
    "    body = {\n",
    "        \"targetLanguageCode\": target_language,\n",
    "        \"texts\": texts\n",
    "    }\n",
    "\n",
    "    headers = {\n",
    "        \"Content-Type\": \"application/json\",\n",
    "        \"Authorization\": f\"Api-Key {api_key}\"\n",
    "    }\n",
    "\n",
    "    response = requests.post('https://translate.api.cloud.yandex.net/translate/v2/translate',\n",
    "        json = body,\n",
    "        headers = headers\n",
    "    )\n",
    "\n",
    "    text = json.loads(response.text)['translations'][0]['text']\n",
    "    return text"
   ]
  },
  {
   "cell_type": "markdown",
   "id": "7615eebc",
   "metadata": {},
   "source": [
    "Напишем функцию для получения языка текста, если он отсутствует (он потребуется, чтобы не переводить и так переведённые тексты плюс в дальнейшем может выступить дополнительным признаком)."
   ]
  },
  {
   "cell_type": "code",
   "execution_count": 5,
   "id": "8c39ff1c",
   "metadata": {},
   "outputs": [],
   "source": [
    "def detect_language_text(text: str, api_key: str) -> str:\n",
    "    body = {\n",
    "        \"text\": text[:999] #лимит на длину символов не более 1000\n",
    "    }\n",
    "\n",
    "    headers = {\n",
    "        \"Content-Type\": \"application/json\",\n",
    "        \"Authorization\": f\"Api-Key {api_key}\"\n",
    "    }\n",
    "\n",
    "    response = requests.post('https://translate.api.cloud.yandex.net/translate/v2/detect',\n",
    "        json = body,\n",
    "        headers = headers\n",
    "    )\n",
    "\n",
    "    language = json.loads(response.text)['languageCode']\n",
    "    return language.upper()"
   ]
  },
  {
   "cell_type": "markdown",
   "id": "8fa5f1be",
   "metadata": {},
   "source": [
    "Создадим функцию, которая будет переводить датафрейм. При этом необходимо учесть, что у переводчика есть квота обрабатываемых запросов в секунду и количество обрабатываемых символов в час, поэтому данные ситуации необходимо обработать. Так же есть общий лимит на количество переводимой информации, поэтому предусмотрим выход из функции, с возвращением обработанной информации. Для отслеживания прогресса будем использовать логирование с помощью модуля logging"
   ]
  },
  {
   "cell_type": "code",
   "execution_count": 6,
   "id": "2367d335",
   "metadata": {},
   "outputs": [],
   "source": [
    "def translate_df(df: pd.DataFrame, \n",
    "                 text_columns: str, \n",
    "                 target_language: str, \n",
    "                 api_key: str, \n",
    "                 verbose: int = 500) -> pd.DataFrame:\n",
    "    log = logging.getLogger()\n",
    "    log.setLevel(logging.INFO)\n",
    "    logging.info(f\"{datetime.now().time()} начат перевод датасета\")\n",
    "    \n",
    "    df = df.copy(deep=True).reset_index(drop=True)\n",
    "    df['translate_text'] = ''\n",
    "    \n",
    "    for i in range(df.shape[0]):\n",
    "        texts = df.loc[i, text_columns]\n",
    "        \n",
    "        if df.loc[i, 'language'] is None or df.loc[i, 'language']  is np.NaN:\n",
    "            try:\n",
    "                language = detect_language_text(texts, api_key)\n",
    "            except:\n",
    "                # если превысили квоту запросов в секунду, ждём 1,1 секунды\n",
    "                time.sleep(1.1)\n",
    "                try:\n",
    "                    language = detect_language_text(texts, api_key)\n",
    "                except:\n",
    "                    language = None\n",
    "            df.loc[i,'language'] = language\n",
    "            \n",
    "        if df.loc[i, 'language'] is not None and df.loc[i,'language'].lower() == target_language:            \n",
    "            translated_text = texts\n",
    "            \n",
    "        else:\n",
    "            try:\n",
    "                translated_text = translate_text(texts, target_language, api_key)\n",
    "            except:\n",
    "                # если превысили квоту запросов в секунду, ждём 1,1 секунды\n",
    "                time.sleep(2)\n",
    "                try:\n",
    "                    translated_text = translate_text(texts, target_language, api_key)\n",
    "                except:\n",
    "                    # если превысили квоту запросов в час, ждём 1 час и 1 минуту\n",
    "                    logging.info(f'''{datetime.now().time()} обработано {i} строки, превышено количество запросов в час,\n",
    "                                  начато ожидание''')\n",
    "                    time.sleep(3660)\n",
    "                    try:\n",
    "                        translated_text = translate_text(texts, target_language, api_key)\n",
    "                    except:\n",
    "                        # если превысили общую квоту запросов\n",
    "                        logging.info(f'''{datetime.now().time()} обработано {i} строки, превышено количество запросов \n",
    "                        обработка датасета прекращена''')\n",
    "                        return df        \n",
    "        df.loc[i, 'translate_text'] = translated_text\n",
    "        \n",
    "        if verbose is not None:\n",
    "            if i % verbose == 0:\n",
    "                logging.info(f\"{datetime.now().time()} обработано {i + 1} строк\")\n",
    "        \n",
    "    logging.info(f\"{datetime.now().time()} обработано датасета завершена\")\n",
    "    return df"
   ]
  },
  {
   "cell_type": "code",
   "execution_count": 7,
   "id": "9fb8ee97",
   "metadata": {},
   "outputs": [],
   "source": [
    "df_lyrics = pd.read_json(PATH_LYRICS, lines=True)\n",
    "df_meta = pd.read_json(PATH_META, lines=True, convert_dates=['dttm'])[['track_id', 'language']]\n",
    "df_union = df_meta.merge(df_lyrics, on = 'track_id', how = 'inner')"
   ]
  },
  {
   "cell_type": "code",
   "execution_count": 9,
   "id": "bac2b76b",
   "metadata": {
    "scrolled": true
   },
   "outputs": [
    {
     "name": "stderr",
     "output_type": "stream",
     "text": [
      "INFO:root:01:29:48.618686 начат перевод датасета\n",
      "INFO:root:01:29:48.626686 обработано 1 строк\n",
      "INFO:root:01:36:46.785832 обработано 501 строк\n",
      "INFO:root:01:46:37.089815 обработано 1001 строк\n",
      "INFO:root:01:57:17.046477 обработано 1501 строк\n",
      "INFO:root:02:04:04.300459 обработано 2001 строк\n",
      "INFO:root:02:11:09.127583 обработано 2501 строк\n",
      "INFO:root:02:17:42.224014 обработано 3001 строк\n",
      "INFO:root:02:23:28.278499 обработано 3501 строк\n",
      "INFO:root:02:30:28.842817 обработано 4001 строк\n",
      "INFO:root:02:39:36.872441 обработано 4501 строк\n",
      "INFO:root:02:45:50.468707 обработано 5001 строк\n",
      "INFO:root:02:47:12.030429 обработано 5501 строк\n",
      "INFO:root:02:49:22.282235 обработано 6001 строк\n",
      "INFO:root:02:49:59.038923 обработано 6501 строк\n",
      "INFO:root:02:51:45.163543 обработано 7001 строк\n",
      "INFO:root:02:54:26.194776 обработано 7501 строк\n",
      "INFO:root:02:57:17.139227 обработано 8001 строк\n",
      "INFO:root:03:01:04.387603 обработано 8501 строк\n",
      "INFO:root:03:05:34.924808 обработано 9001 строк\n",
      "INFO:root:03:10:55.048511 обработано 9486 строки, превышено количество запросов в час,\n",
      "                                  начато ожидание\n",
      "INFO:root:04:11:55.100539 обработано 9486 строки, превышено количество запросов \n",
      "                        обработка датасета прекращена\n"
     ]
    }
   ],
   "source": [
    "new_df = translate_df(df_union, 'text', 'en', api_key)"
   ]
  },
  {
   "cell_type": "code",
   "execution_count": 10,
   "id": "566c6a74",
   "metadata": {},
   "outputs": [],
   "source": [
    "new_df.to_csv(PATH_TO_SAVE, index=False)"
   ]
  },
  {
   "cell_type": "markdown",
   "id": "9d2accf0",
   "metadata": {},
   "source": [
    "В этот момент закончились средства на аккаунте. Пополнили их и продолжли"
   ]
  },
  {
   "cell_type": "code",
   "execution_count": 41,
   "id": "64ccd302",
   "metadata": {},
   "outputs": [],
   "source": [
    "new_df = pd.read_csv(PATH_TO_SAVE)"
   ]
  },
  {
   "cell_type": "code",
   "execution_count": 42,
   "id": "04ad4001",
   "metadata": {},
   "outputs": [],
   "source": [
    "df_to_translate = new_df[new_df['translate_text'].isna()].reset_index(drop=True)"
   ]
  },
  {
   "cell_type": "code",
   "execution_count": 10,
   "id": "d8d086f6",
   "metadata": {},
   "outputs": [
    {
     "name": "stderr",
     "output_type": "stream",
     "text": [
      "INFO:root:10:49:19.222063 начат перевод датасета\n",
      "INFO:root:10:49:20.213480 обработано 1 строк\n",
      "INFO:root:10:53:34.499393 обработано 501 строк\n",
      "INFO:root:10:57:58.252885 обработано 1001 строк\n",
      "INFO:root:11:00:27.850707 обработано 1501 строк\n",
      "INFO:root:11:03:43.490748 обработано датасета завершена\n"
     ]
    }
   ],
   "source": [
    "df_translated = translate_df(df_to_translate, 'text', 'en', api_key)"
   ]
  },
  {
   "cell_type": "markdown",
   "id": "a6cb7dba",
   "metadata": {},
   "source": [
    "Переименуем столбцы language и translate_text в новом датасете, чтобы не было пролем при мёрже"
   ]
  },
  {
   "cell_type": "code",
   "execution_count": 43,
   "id": "0646f107",
   "metadata": {},
   "outputs": [],
   "source": [
    "df_translated = df_translated.rename(columns={'language': 'new_language',\n",
    "                                             'translate_text': 'new_translate_text'})"
   ]
  },
  {
   "cell_type": "markdown",
   "id": "053b18f5",
   "metadata": {},
   "source": [
    "Смержим два датасета и заполним пропуски в строках, где text равен NaN"
   ]
  },
  {
   "cell_type": "code",
   "execution_count": 45,
   "id": "8844002b",
   "metadata": {},
   "outputs": [],
   "source": [
    "new_df = new_df.merge(df_translated, on = ['track_id', 'lyricId', 'text'], how='left')"
   ]
  },
  {
   "cell_type": "code",
   "execution_count": 46,
   "id": "84283543",
   "metadata": {},
   "outputs": [],
   "source": [
    "new_df.loc[new_df['translate_text'].isna(), 'language'] = new_df.loc[new_df['translate_text'].isna(), 'new_language']\n",
    "new_df.loc[new_df['translate_text'].isna(), 'translate_text'] = new_df.loc[new_df['translate_text'].isna(), 'new_translate_text']"
   ]
  },
  {
   "cell_type": "markdown",
   "id": "bfd14759",
   "metadata": {},
   "source": [
    "Удалим лишние столбцы и выведем последние 5 строк, чтобы убедиться, что всё отработало корректно"
   ]
  },
  {
   "cell_type": "code",
   "execution_count": 48,
   "id": "22c9d83e",
   "metadata": {},
   "outputs": [],
   "source": [
    "new_df = new_df.drop(['new_language', 'new_translate_text'], axis=1)"
   ]
  },
  {
   "cell_type": "code",
   "execution_count": 51,
   "id": "8d2833aa",
   "metadata": {},
   "outputs": [
    {
     "data": {
      "text/html": [
       "<div>\n",
       "<style scoped>\n",
       "    .dataframe tbody tr th:only-of-type {\n",
       "        vertical-align: middle;\n",
       "    }\n",
       "\n",
       "    .dataframe tbody tr th {\n",
       "        vertical-align: top;\n",
       "    }\n",
       "\n",
       "    .dataframe thead th {\n",
       "        text-align: right;\n",
       "    }\n",
       "</style>\n",
       "<table border=\"1\" class=\"dataframe\">\n",
       "  <thead>\n",
       "    <tr style=\"text-align: right;\">\n",
       "      <th></th>\n",
       "      <th>track_id</th>\n",
       "      <th>language</th>\n",
       "      <th>lyricId</th>\n",
       "      <th>text</th>\n",
       "      <th>translate_text</th>\n",
       "    </tr>\n",
       "  </thead>\n",
       "  <tbody>\n",
       "    <tr>\n",
       "      <th>11409</th>\n",
       "      <td>b58ca1bfa08279d4b8bce744262cdf22</td>\n",
       "      <td>RU</td>\n",
       "      <td>3ab73ba22fdf32722fdc80cb3e7d92c5</td>\n",
       "      <td>Если бы не ты, кто б меня спасал?\\nКто бы успо...</td>\n",
       "      <td>If it wasn't for you, who would save me?\\nWho ...</td>\n",
       "    </tr>\n",
       "    <tr>\n",
       "      <th>11410</th>\n",
       "      <td>a73b42b709b63cb642422696b38f8f19</td>\n",
       "      <td>EN</td>\n",
       "      <td>871d37f7d03ad7a786d74d09254b1d31</td>\n",
       "      <td>I heard he sang a good song\\nI heard he had a ...</td>\n",
       "      <td>I heard he sang a good song\\nI heard he had a ...</td>\n",
       "    </tr>\n",
       "    <tr>\n",
       "      <th>11411</th>\n",
       "      <td>a95d976c7342f213a2d50a8c9d6c32a8</td>\n",
       "      <td>EN</td>\n",
       "      <td>c89aaa11054fc3edddc6c694410c93e4</td>\n",
       "      <td>Beyond the horizon of the place we lived when ...</td>\n",
       "      <td>Beyond the horizon of the place we lived when ...</td>\n",
       "    </tr>\n",
       "    <tr>\n",
       "      <th>11412</th>\n",
       "      <td>495babc700c0c6b5b8549d49f163d3cb</td>\n",
       "      <td>EN</td>\n",
       "      <td>ac58c9835f8bafbd2dd129e6f6eebbb6</td>\n",
       "      <td>Guess it's true I'm not good at a one night st...</td>\n",
       "      <td>Guess it's true I'm not good at a one night st...</td>\n",
       "    </tr>\n",
       "    <tr>\n",
       "      <th>11413</th>\n",
       "      <td>5731fc0a34c663a0c0082c712df15266</td>\n",
       "      <td>RU</td>\n",
       "      <td>00cdce64d0559ea65ec245d05735e2b0</td>\n",
       "      <td>Собери по осколкам моё разбитое сердце\\nСбита ...</td>\n",
       "      <td>Pick up the pieces of my broken heart\\nI'm con...</td>\n",
       "    </tr>\n",
       "  </tbody>\n",
       "</table>\n",
       "</div>"
      ],
      "text/plain": [
       "                               track_id language  \\\n",
       "11409  b58ca1bfa08279d4b8bce744262cdf22       RU   \n",
       "11410  a73b42b709b63cb642422696b38f8f19       EN   \n",
       "11411  a95d976c7342f213a2d50a8c9d6c32a8       EN   \n",
       "11412  495babc700c0c6b5b8549d49f163d3cb       EN   \n",
       "11413  5731fc0a34c663a0c0082c712df15266       RU   \n",
       "\n",
       "                                lyricId  \\\n",
       "11409  3ab73ba22fdf32722fdc80cb3e7d92c5   \n",
       "11410  871d37f7d03ad7a786d74d09254b1d31   \n",
       "11411  c89aaa11054fc3edddc6c694410c93e4   \n",
       "11412  ac58c9835f8bafbd2dd129e6f6eebbb6   \n",
       "11413  00cdce64d0559ea65ec245d05735e2b0   \n",
       "\n",
       "                                                    text  \\\n",
       "11409  Если бы не ты, кто б меня спасал?\\nКто бы успо...   \n",
       "11410  I heard he sang a good song\\nI heard he had a ...   \n",
       "11411  Beyond the horizon of the place we lived when ...   \n",
       "11412  Guess it's true I'm not good at a one night st...   \n",
       "11413  Собери по осколкам моё разбитое сердце\\nСбита ...   \n",
       "\n",
       "                                          translate_text  \n",
       "11409  If it wasn't for you, who would save me?\\nWho ...  \n",
       "11410  I heard he sang a good song\\nI heard he had a ...  \n",
       "11411  Beyond the horizon of the place we lived when ...  \n",
       "11412  Guess it's true I'm not good at a one night st...  \n",
       "11413  Pick up the pieces of my broken heart\\nI'm con...  "
      ]
     },
     "execution_count": 51,
     "metadata": {},
     "output_type": "execute_result"
    }
   ],
   "source": [
    "new_df.tail(5)"
   ]
  },
  {
   "cell_type": "markdown",
   "id": "7cb1dea9",
   "metadata": {},
   "source": [
    "Выведем информацию по полученному датасету"
   ]
  },
  {
   "cell_type": "code",
   "execution_count": 54,
   "id": "28884ed8",
   "metadata": {},
   "outputs": [
    {
     "name": "stdout",
     "output_type": "stream",
     "text": [
      "<class 'pandas.core.frame.DataFrame'>\n",
      "RangeIndex: 11414 entries, 0 to 11413\n",
      "Data columns (total 5 columns):\n",
      " #   Column          Non-Null Count  Dtype \n",
      "---  ------          --------------  ----- \n",
      " 0   track_id        11414 non-null  object\n",
      " 1   language        11359 non-null  object\n",
      " 2   lyricId         11414 non-null  object\n",
      " 3   text            11414 non-null  object\n",
      " 4   translate_text  11414 non-null  object\n",
      "dtypes: object(5)\n",
      "memory usage: 446.0+ KB\n"
     ]
    }
   ],
   "source": [
    "new_df.info()"
   ]
  },
  {
   "cell_type": "markdown",
   "id": "1b73fb5c",
   "metadata": {},
   "source": [
    "Есть небольшое количество пропусков в столбце с языком, но их уже осталось незначительное количество"
   ]
  },
  {
   "cell_type": "code",
   "execution_count": 53,
   "id": "97b8cc46",
   "metadata": {},
   "outputs": [],
   "source": [
    "new_df.to_csv(PATH_TO_SAVE, index=False)"
   ]
  },
  {
   "cell_type": "markdown",
   "id": "6d4f80c7",
   "metadata": {},
   "source": [
    "## Выводы "
   ]
  },
  {
   "cell_type": "markdown",
   "id": "10774b38",
   "metadata": {},
   "source": [
    "В данном разделе были решены 2 задачи:\n",
    "1. Все тексты были переведены на английский язык, что значительно упростит задачу очистки текстов и их векторизацию\n",
    "2. Почти для всех тестов был определён язык на котором они написаны, а это может стать сильным признаком для модели машинного обучения.\n",
    "\n",
    "Для решения данных задач использовался Yandex Translator, с которым мы работали через API запросы ри помощи модуля request."
   ]
  },
  {
   "cell_type": "code",
   "execution_count": null,
   "id": "df45f3a5",
   "metadata": {},
   "outputs": [],
   "source": []
  }
 ],
 "metadata": {
  "kernelspec": {
   "display_name": "Python 3 (ipykernel)",
   "language": "python",
   "name": "python3"
  },
  "language_info": {
   "codemirror_mode": {
    "name": "ipython",
    "version": 3
   },
   "file_extension": ".py",
   "mimetype": "text/x-python",
   "name": "python",
   "nbconvert_exporter": "python",
   "pygments_lexer": "ipython3",
   "version": "3.10.11"
  }
 },
 "nbformat": 4,
 "nbformat_minor": 5
}

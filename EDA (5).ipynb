{
 "cells": [
  {
   "cell_type": "markdown",
   "id": "cc9eab43",
   "metadata": {},
   "source": [
    "# Обнаружение каверов музыкальных треков\n",
    "\n",
    "## Задача\n",
    "\n",
    "Обнаружение треков каверов - важная продуктовая задача, которая может значительно улучшить качество рекомендаций музыкального сервиса и повысить счастье наших пользователей. Если мы умеем с высокой точностью классифицировать каверы и связывать их между собой, то можно предложить пользователю новые возможности для управления потоком треков. Например:\n",
    "\n",
    "- по желанию пользователя можем полностью исключить каверы из рекомендаций;\n",
    "- показать все каверы на любимый трек пользователя;\n",
    "- контролировать долю каверов в ленте пользователя.\n",
    "\n",
    "## Цель\n",
    "В этом хакатоне нам предлагается разработать решение, которое:\n",
    "\n",
    "- может классифицировать треки по признаку кавер-некавер;\n",
    "- связывать (группировать) каверы и исходный трек;\n",
    "- находит исходный трек в цепочке каверов.\n",
    "\n",
    "Нам требуется разработать ML-модель для сопоставления текстов музыкальных произведений и для поиска каверов (вариации обработки оригинала с элементами новой аранжировки) по их текстам. \n",
    "\n",
    "Для решения этой задачи мы можем использовать любые открытые источники данных и собирать необходимую вам информацию, соблюдая правила использования сервисов, которые эту информацию предоставляют.\n",
    "\n",
    "Данные предоставлены заказчиком в трех файлах: covers.json, meta.json, lyrics.json.\n",
    "\n",
    "### Разметка каверов\n",
    "\n",
    "Файл covers.json содержит разметку каверов, сделанную редакторами сервиса:\n",
    "\n",
    "- track_id - уникальный идентификатор трека;\n",
    "- track_remake_type - метка, присвоенная редакторами. Может принимать значения ORIGINAL и COVER;\n",
    "- original_track_id - уникальный идентификатор исходного трека.\n",
    "\n",
    "Обратите внимание, что не для всех каверов известны идентификаторы исходных треков!!!\n",
    "\n",
    "### Метаинформация\n",
    "Файл meta.json \n",
    "- track_id - уникальный идентификатор трека;\n",
    "- dttm - первая дата появления информации о треке;\n",
    "- title - название трека;\n",
    "- language - язык исполнения;\n",
    "- isrc - международный уникальный идентификатор трека;\n",
    "- genres - жанры;\n",
    "- duration - длительность трека;\n",
    "\n",
    "### Текст песен\n",
    "Файл lyrics.json\n",
    "- track_id - уникальный идентификатор трека;\n",
    "- lyricId - уникальный идентификатор текста;\n",
    "- text - текст трека.\n",
    "\n",
    "**Исследование пройдет в 7 этапов:**\n",
    "\n",
    "* загрузка и первичное ознакомление с данными,\n",
    "* предварительная обработка,\n",
    "* полноценный разведочный анализ,\n",
    "* разработка новых синтетических признаков,\n",
    "* проверка на мультиколлинеарность,\n",
    "* отбор финального набора обучающих признаков,\n",
    "* выбор и обучение моделей,\n",
    "* итоговая оценка качества предсказания лучшей модели,\n",
    "* анализ важности ее признаков.\n",
    "* общий вывод"
   ]
  },
  {
   "cell_type": "markdown",
   "id": "dc025bb7-6d08-4cd1-b12e-38f7bd48d54f",
   "metadata": {},
   "source": [
    "## Загрузка и первичное ознакомление с данными"
   ]
  },
  {
   "cell_type": "markdown",
   "id": "c3381f23-8cfa-4145-bacb-807ac2cece50",
   "metadata": {},
   "source": [
    "Импортируем необходимые для анализа данных библиотеки. Введем константу RANDOM_STATE = 54321."
   ]
  },
  {
   "cell_type": "code",
   "execution_count": 1,
   "id": "4e757b17",
   "metadata": {},
   "outputs": [],
   "source": [
    "import json\n",
    "import os\n",
    "\n",
    "import warnings\n",
    "import time\n",
    "\n",
    "import numpy as np\n",
    "import pandas as pd\n",
    "import seaborn as sns\n",
    "import matplotlib.pyplot as plt\n",
    "import re\n",
    "\n",
    "from sklearn.dummy import DummyClassifier\n",
    "from catboost import CatBoostClassifier\n",
    "\n",
    "from sklearn.pipeline import Pipeline\n",
    "from sklearn.pipeline import make_pipeline\n",
    "\n",
    "from sklearn.model_selection import (\n",
    "    train_test_split,\n",
    "    GridSearchCV,\n",
    "    KFold,\n",
    "    RandomizedSearchCV\n",
    ")\n",
    "from sklearn.metrics import (\n",
    "    accuracy_score,\n",
    "    precision_score, \n",
    "    recall_score, \n",
    "    f1_score, \n",
    "    roc_auc_score,\n",
    "    roc_curve, \n",
    "    precision_recall_curve,\n",
    "    confusion_matrix,\n",
    "    ConfusionMatrixDisplay\n",
    ")\n",
    "RANDOM_STATE = 54321\n",
    "from tqdm.notebook import tqdm\n",
    "tqdm.pandas()\n",
    "\n",
    "warnings.filterwarnings(\"ignore\")"
   ]
  },
  {
   "cell_type": "markdown",
   "id": "652add74-0c16-4bdc-a629-e36c96451cd8",
   "metadata": {},
   "source": [
    "Считаем данные из json-файлов в датафреймы и сохраним в переменные. Пропишем пути."
   ]
  },
  {
   "cell_type": "code",
   "execution_count": 2,
   "id": "78c01f8a-8a26-4e56-b4ab-d2ffdc4e064d",
   "metadata": {},
   "outputs": [],
   "source": [
    "path_covers = 'C:\\\\Users\\\\fudou\\\\Untitled Folder 1\\\\covers.json'\n",
    "path_meta = 'C:\\\\Users\\\\fudou\\\\Untitled Folder 1\\\\/meta.json'\n",
    "path_lyrics = 'C:\\\\Users\\\\fudou\\\\Untitled Folder 1\\\\/lyrics.json'"
   ]
  },
  {
   "cell_type": "code",
   "execution_count": 3,
   "id": "a1884cc3-f45a-4ecf-be8b-664e079aee7b",
   "metadata": {},
   "outputs": [],
   "source": [
    "# выберем стиль для оформления графиков\n",
    "plt.style.use('fivethirtyeight')"
   ]
  },
  {
   "cell_type": "markdown",
   "id": "99135d7d-8547-4295-a8a9-6e68fa93c7fa",
   "metadata": {},
   "source": [
    "## Первичный обзор данных"
   ]
  },
  {
   "cell_type": "code",
   "execution_count": 4,
   "id": "f6a155eb",
   "metadata": {},
   "outputs": [
    {
     "data": {
      "text/html": [
       "<div>\n",
       "<style scoped>\n",
       "    .dataframe tbody tr th:only-of-type {\n",
       "        vertical-align: middle;\n",
       "    }\n",
       "\n",
       "    .dataframe tbody tr th {\n",
       "        vertical-align: top;\n",
       "    }\n",
       "\n",
       "    .dataframe thead th {\n",
       "        text-align: right;\n",
       "    }\n",
       "</style>\n",
       "<table border=\"1\" class=\"dataframe\">\n",
       "  <thead>\n",
       "    <tr style=\"text-align: right;\">\n",
       "      <th></th>\n",
       "      <th>original_track_id</th>\n",
       "      <th>track_id</th>\n",
       "      <th>track_remake_type</th>\n",
       "    </tr>\n",
       "  </thead>\n",
       "  <tbody>\n",
       "    <tr>\n",
       "      <th>34339</th>\n",
       "      <td>None</td>\n",
       "      <td>96506580fbfa6ab407b2905b243f03ce</td>\n",
       "      <td>COVER</td>\n",
       "    </tr>\n",
       "    <tr>\n",
       "      <th>12927</th>\n",
       "      <td>c2e8a9d46a97f1e7c78603f5b277f5f1</td>\n",
       "      <td>c2e8a9d46a97f1e7c78603f5b277f5f1</td>\n",
       "      <td>ORIGINAL</td>\n",
       "    </tr>\n",
       "    <tr>\n",
       "      <th>47278</th>\n",
       "      <td>None</td>\n",
       "      <td>9f84a3ff93027d1de939256e3b737543</td>\n",
       "      <td>COVER</td>\n",
       "    </tr>\n",
       "  </tbody>\n",
       "</table>\n",
       "</div>"
      ],
      "text/plain": [
       "                      original_track_id                          track_id  \\\n",
       "34339                              None  96506580fbfa6ab407b2905b243f03ce   \n",
       "12927  c2e8a9d46a97f1e7c78603f5b277f5f1  c2e8a9d46a97f1e7c78603f5b277f5f1   \n",
       "47278                              None  9f84a3ff93027d1de939256e3b737543   \n",
       "\n",
       "      track_remake_type  \n",
       "34339             COVER  \n",
       "12927          ORIGINAL  \n",
       "47278             COVER  "
      ]
     },
     "execution_count": 4,
     "metadata": {},
     "output_type": "execute_result"
    }
   ],
   "source": [
    "# разметка каверов\n",
    "df_covers = pd.read_json(path_covers, lines=True)\n",
    "# посмотрим 3 случайные строки\n",
    "df_covers.sample(3)"
   ]
  },
  {
   "cell_type": "markdown",
   "id": "4cf34a3f-6777-4f80-8a06-40c15f49243a",
   "metadata": {},
   "source": [
    "В датасете метаинфомация есть столбец с dttm - первая дата появления информации о треке. При чтении файла JSON, pandas изначально интерпретирует все значения столбца 'dttm' как строки (строковый тип данных), поэтому сразу конвертируем строковый тип данных в тип данных даты (datetime)."
   ]
  },
  {
   "cell_type": "code",
   "execution_count": 5,
   "id": "9381be02",
   "metadata": {},
   "outputs": [
    {
     "data": {
      "text/html": [
       "<div>\n",
       "<style scoped>\n",
       "    .dataframe tbody tr th:only-of-type {\n",
       "        vertical-align: middle;\n",
       "    }\n",
       "\n",
       "    .dataframe tbody tr th {\n",
       "        vertical-align: top;\n",
       "    }\n",
       "\n",
       "    .dataframe thead th {\n",
       "        text-align: right;\n",
       "    }\n",
       "</style>\n",
       "<table border=\"1\" class=\"dataframe\">\n",
       "  <thead>\n",
       "    <tr style=\"text-align: right;\">\n",
       "      <th></th>\n",
       "      <th>track_id</th>\n",
       "      <th>dttm</th>\n",
       "      <th>title</th>\n",
       "      <th>language</th>\n",
       "      <th>isrc</th>\n",
       "      <th>genres</th>\n",
       "      <th>duration</th>\n",
       "    </tr>\n",
       "  </thead>\n",
       "  <tbody>\n",
       "    <tr>\n",
       "      <th>68877</th>\n",
       "      <td>8bd715ccd5c608745119cb594a512eb9</td>\n",
       "      <td>2019-02-14 21:00:00</td>\n",
       "      <td>Big In Japan</td>\n",
       "      <td>EN</td>\n",
       "      <td>USUM71901131</td>\n",
       "      <td>[DANCE]</td>\n",
       "      <td>246400.0</td>\n",
       "    </tr>\n",
       "    <tr>\n",
       "      <th>28078</th>\n",
       "      <td>62d34761419c3ab3763b0d846d01fe32</td>\n",
       "      <td>2021-07-17 22:32:44</td>\n",
       "      <td>Deixar Acontecer</td>\n",
       "      <td>None</td>\n",
       "      <td>QZMZ92110564</td>\n",
       "      <td>[FOLK, LATINFOLK]</td>\n",
       "      <td>209370.0</td>\n",
       "    </tr>\n",
       "    <tr>\n",
       "      <th>10213</th>\n",
       "      <td>7d1ab5d86a419f62e6c81236ae387611</td>\n",
       "      <td>2022-05-11 13:23:27</td>\n",
       "      <td>Pérola</td>\n",
       "      <td>None</td>\n",
       "      <td>QZHZ62206846</td>\n",
       "      <td>[FOLK, LATINFOLK]</td>\n",
       "      <td>194060.0</td>\n",
       "    </tr>\n",
       "  </tbody>\n",
       "</table>\n",
       "</div>"
      ],
      "text/plain": [
       "                               track_id                dttm             title  \\\n",
       "68877  8bd715ccd5c608745119cb594a512eb9 2019-02-14 21:00:00      Big In Japan   \n",
       "28078  62d34761419c3ab3763b0d846d01fe32 2021-07-17 22:32:44  Deixar Acontecer   \n",
       "10213  7d1ab5d86a419f62e6c81236ae387611 2022-05-11 13:23:27            Pérola   \n",
       "\n",
       "      language          isrc             genres  duration  \n",
       "68877       EN  USUM71901131            [DANCE]  246400.0  \n",
       "28078     None  QZMZ92110564  [FOLK, LATINFOLK]  209370.0  \n",
       "10213     None  QZHZ62206846  [FOLK, LATINFOLK]  194060.0  "
      ]
     },
     "execution_count": 5,
     "metadata": {},
     "output_type": "execute_result"
    }
   ],
   "source": [
    "# метаинформация\n",
    "df_meta = pd.read_json(path_meta, lines=True, convert_dates=['dttm'])\n",
    "df_meta.sample(3)"
   ]
  },
  {
   "cell_type": "code",
   "execution_count": 6,
   "id": "6d70ac13-a38f-4110-874a-5360e69985ec",
   "metadata": {},
   "outputs": [
    {
     "data": {
      "text/html": [
       "<div>\n",
       "<style scoped>\n",
       "    .dataframe tbody tr th:only-of-type {\n",
       "        vertical-align: middle;\n",
       "    }\n",
       "\n",
       "    .dataframe tbody tr th {\n",
       "        vertical-align: top;\n",
       "    }\n",
       "\n",
       "    .dataframe thead th {\n",
       "        text-align: right;\n",
       "    }\n",
       "</style>\n",
       "<table border=\"1\" class=\"dataframe\">\n",
       "  <thead>\n",
       "    <tr style=\"text-align: right;\">\n",
       "      <th></th>\n",
       "      <th>lyricId</th>\n",
       "      <th>text</th>\n",
       "      <th>track_id</th>\n",
       "    </tr>\n",
       "  </thead>\n",
       "  <tbody>\n",
       "    <tr>\n",
       "      <th>4343</th>\n",
       "      <td>0e5f661ad424e9d7d5c5cbea73df2b51</td>\n",
       "      <td>Moon river wider than a mile\\nI'm crossing you...</td>\n",
       "      <td>f5ff9110d8f82184e011b8509fa0126a</td>\n",
       "    </tr>\n",
       "    <tr>\n",
       "      <th>9041</th>\n",
       "      <td>1e619374a9ab9c0b73f8cd91a619d6e1</td>\n",
       "      <td>A man conceived a moment's answer to the dream...</td>\n",
       "      <td>96c9cab7304b4d4e9f54022854be578b</td>\n",
       "    </tr>\n",
       "    <tr>\n",
       "      <th>2475</th>\n",
       "      <td>6b4637a126fd1de29517a6ec852e27a0</td>\n",
       "      <td>Do you think you're better off alone?\\nDo you ...</td>\n",
       "      <td>58f33dd789ce333ea15ba09166909cc0</td>\n",
       "    </tr>\n",
       "  </tbody>\n",
       "</table>\n",
       "</div>"
      ],
      "text/plain": [
       "                               lyricId  \\\n",
       "4343  0e5f661ad424e9d7d5c5cbea73df2b51   \n",
       "9041  1e619374a9ab9c0b73f8cd91a619d6e1   \n",
       "2475  6b4637a126fd1de29517a6ec852e27a0   \n",
       "\n",
       "                                                   text  \\\n",
       "4343  Moon river wider than a mile\\nI'm crossing you...   \n",
       "9041  A man conceived a moment's answer to the dream...   \n",
       "2475  Do you think you're better off alone?\\nDo you ...   \n",
       "\n",
       "                              track_id  \n",
       "4343  f5ff9110d8f82184e011b8509fa0126a  \n",
       "9041  96c9cab7304b4d4e9f54022854be578b  \n",
       "2475  58f33dd789ce333ea15ba09166909cc0  "
      ]
     },
     "execution_count": 6,
     "metadata": {},
     "output_type": "execute_result"
    }
   ],
   "source": [
    "# тексты трека\n",
    "df_lyrics = pd.read_json(path_lyrics, lines=True)\n",
    "df_lyrics.sample(3)"
   ]
  },
  {
   "cell_type": "code",
   "execution_count": 7,
   "id": "8a086587",
   "metadata": {},
   "outputs": [],
   "source": [
    "# напишем функцию для вывода основной информации о датасетe\n",
    "def main_info(data):\n",
    "    print(f'Выведем первые 5 строк датафрейма')\n",
    "    display(data.head())\n",
    "    print()\n",
    "\n",
    "    print(f'Основная информация о датафрейме')\n",
    "    print()\n",
    "    display(data.info())\n",
    "    print()\n",
    "\n",
    "    print(f'Числовое описание данных')\n",
    "    display(data.describe().style.background_gradient())\n",
    "    print()\n",
    "\n",
    "    print(f'Количество строк-дубликатов')\n",
    "    display(data.duplicated().sum())\n",
    "    print()\n",
    "\n",
    "    print(f'Количество пропусков в процентном соотношении')\n",
    "    display(pd.DataFrame(round(data.isna().mean()*100,1)).style.background_gradient())\n",
    "    print()\n"
   ]
  },
  {
   "cell_type": "markdown",
   "id": "de7d0dc0-f83e-4575-87f4-b71442aac289",
   "metadata": {},
   "source": [
    "**Обзор датасета разметки каверов**"
   ]
  },
  {
   "cell_type": "code",
   "execution_count": 8,
   "id": "fb0ade27-7ee3-49aa-a86d-3e1f6ef8a79d",
   "metadata": {},
   "outputs": [
    {
     "name": "stdout",
     "output_type": "stream",
     "text": [
      "Выведем первые 5 строк датафрейма\n"
     ]
    },
    {
     "data": {
      "text/html": [
       "<div>\n",
       "<style scoped>\n",
       "    .dataframe tbody tr th:only-of-type {\n",
       "        vertical-align: middle;\n",
       "    }\n",
       "\n",
       "    .dataframe tbody tr th {\n",
       "        vertical-align: top;\n",
       "    }\n",
       "\n",
       "    .dataframe thead th {\n",
       "        text-align: right;\n",
       "    }\n",
       "</style>\n",
       "<table border=\"1\" class=\"dataframe\">\n",
       "  <thead>\n",
       "    <tr style=\"text-align: right;\">\n",
       "      <th></th>\n",
       "      <th>original_track_id</th>\n",
       "      <th>track_id</th>\n",
       "      <th>track_remake_type</th>\n",
       "    </tr>\n",
       "  </thead>\n",
       "  <tbody>\n",
       "    <tr>\n",
       "      <th>0</th>\n",
       "      <td>eeb69a3cb92300456b6a5f4162093851</td>\n",
       "      <td>eeb69a3cb92300456b6a5f4162093851</td>\n",
       "      <td>ORIGINAL</td>\n",
       "    </tr>\n",
       "    <tr>\n",
       "      <th>1</th>\n",
       "      <td>fe7ee8fc1959cc7214fa21c4840dff0a</td>\n",
       "      <td>fe7ee8fc1959cc7214fa21c4840dff0a</td>\n",
       "      <td>ORIGINAL</td>\n",
       "    </tr>\n",
       "    <tr>\n",
       "      <th>2</th>\n",
       "      <td>cd89fef7ffdd490db800357f47722b20</td>\n",
       "      <td>cd89fef7ffdd490db800357f47722b20</td>\n",
       "      <td>ORIGINAL</td>\n",
       "    </tr>\n",
       "    <tr>\n",
       "      <th>3</th>\n",
       "      <td>995665640dc319973d3173a74a03860c</td>\n",
       "      <td>995665640dc319973d3173a74a03860c</td>\n",
       "      <td>ORIGINAL</td>\n",
       "    </tr>\n",
       "    <tr>\n",
       "      <th>4</th>\n",
       "      <td>None</td>\n",
       "      <td>d6288499d0083cc34e60a077b7c4b3e1</td>\n",
       "      <td>COVER</td>\n",
       "    </tr>\n",
       "  </tbody>\n",
       "</table>\n",
       "</div>"
      ],
      "text/plain": [
       "                  original_track_id                          track_id  \\\n",
       "0  eeb69a3cb92300456b6a5f4162093851  eeb69a3cb92300456b6a5f4162093851   \n",
       "1  fe7ee8fc1959cc7214fa21c4840dff0a  fe7ee8fc1959cc7214fa21c4840dff0a   \n",
       "2  cd89fef7ffdd490db800357f47722b20  cd89fef7ffdd490db800357f47722b20   \n",
       "3  995665640dc319973d3173a74a03860c  995665640dc319973d3173a74a03860c   \n",
       "4                              None  d6288499d0083cc34e60a077b7c4b3e1   \n",
       "\n",
       "  track_remake_type  \n",
       "0          ORIGINAL  \n",
       "1          ORIGINAL  \n",
       "2          ORIGINAL  \n",
       "3          ORIGINAL  \n",
       "4             COVER  "
      ]
     },
     "metadata": {},
     "output_type": "display_data"
    },
    {
     "name": "stdout",
     "output_type": "stream",
     "text": [
      "\n",
      "Основная информация о датафрейме\n",
      "\n",
      "<class 'pandas.core.frame.DataFrame'>\n",
      "RangeIndex: 71597 entries, 0 to 71596\n",
      "Data columns (total 3 columns):\n",
      " #   Column             Non-Null Count  Dtype \n",
      "---  ------             --------------  ----- \n",
      " 0   original_track_id  4821 non-null   object\n",
      " 1   track_id           71597 non-null  object\n",
      " 2   track_remake_type  71597 non-null  object\n",
      "dtypes: object(3)\n",
      "memory usage: 1.6+ MB\n"
     ]
    },
    {
     "data": {
      "text/plain": [
       "None"
      ]
     },
     "metadata": {},
     "output_type": "display_data"
    },
    {
     "name": "stdout",
     "output_type": "stream",
     "text": [
      "\n",
      "Числовое описание данных\n"
     ]
    },
    {
     "data": {
      "text/html": [
       "<style  type=\"text/css\" >\n",
       "</style><table id=\"T_6a9bd_\" ><thead>    <tr>        <th class=\"blank level0\" ></th>        <th class=\"col_heading level0 col0\" >original_track_id</th>        <th class=\"col_heading level0 col1\" >track_id</th>        <th class=\"col_heading level0 col2\" >track_remake_type</th>    </tr></thead><tbody>\n",
       "                <tr>\n",
       "                        <th id=\"T_6a9bd_level0_row0\" class=\"row_heading level0 row0\" >count</th>\n",
       "                        <td id=\"T_6a9bd_row0_col0\" class=\"data row0 col0\" >4821</td>\n",
       "                        <td id=\"T_6a9bd_row0_col1\" class=\"data row0 col1\" >71597</td>\n",
       "                        <td id=\"T_6a9bd_row0_col2\" class=\"data row0 col2\" >71597</td>\n",
       "            </tr>\n",
       "            <tr>\n",
       "                        <th id=\"T_6a9bd_level0_row1\" class=\"row_heading level0 row1\" >unique</th>\n",
       "                        <td id=\"T_6a9bd_row1_col0\" class=\"data row1 col0\" >4468</td>\n",
       "                        <td id=\"T_6a9bd_row1_col1\" class=\"data row1 col1\" >71597</td>\n",
       "                        <td id=\"T_6a9bd_row1_col2\" class=\"data row1 col2\" >2</td>\n",
       "            </tr>\n",
       "            <tr>\n",
       "                        <th id=\"T_6a9bd_level0_row2\" class=\"row_heading level0 row2\" >top</th>\n",
       "                        <td id=\"T_6a9bd_row2_col0\" class=\"data row2 col0\" >f3e5e9db509f9b6f6d93b9c38e4e1324</td>\n",
       "                        <td id=\"T_6a9bd_row2_col1\" class=\"data row2 col1\" >3d8ef0f569ffb447499412e571f86e65</td>\n",
       "                        <td id=\"T_6a9bd_row2_col2\" class=\"data row2 col2\" >COVER</td>\n",
       "            </tr>\n",
       "            <tr>\n",
       "                        <th id=\"T_6a9bd_level0_row3\" class=\"row_heading level0 row3\" >freq</th>\n",
       "                        <td id=\"T_6a9bd_row3_col0\" class=\"data row3 col0\" >38</td>\n",
       "                        <td id=\"T_6a9bd_row3_col1\" class=\"data row3 col1\" >1</td>\n",
       "                        <td id=\"T_6a9bd_row3_col2\" class=\"data row3 col2\" >67304</td>\n",
       "            </tr>\n",
       "    </tbody></table>"
      ],
      "text/plain": [
       "<pandas.io.formats.style.Styler at 0x29f83ae2700>"
      ]
     },
     "metadata": {},
     "output_type": "display_data"
    },
    {
     "name": "stdout",
     "output_type": "stream",
     "text": [
      "\n",
      "Количество строк-дубликатов\n"
     ]
    },
    {
     "data": {
      "text/plain": [
       "0"
      ]
     },
     "metadata": {},
     "output_type": "display_data"
    },
    {
     "name": "stdout",
     "output_type": "stream",
     "text": [
      "\n",
      "Количество пропусков в процентном соотношении\n"
     ]
    },
    {
     "data": {
      "text/html": [
       "<style  type=\"text/css\" >\n",
       "#T_734d1_row0_col0{\n",
       "            background-color:  #023858;\n",
       "            color:  #f1f1f1;\n",
       "        }#T_734d1_row1_col0,#T_734d1_row2_col0{\n",
       "            background-color:  #fff7fb;\n",
       "            color:  #000000;\n",
       "        }</style><table id=\"T_734d1_\" ><thead>    <tr>        <th class=\"blank level0\" ></th>        <th class=\"col_heading level0 col0\" >0</th>    </tr></thead><tbody>\n",
       "                <tr>\n",
       "                        <th id=\"T_734d1_level0_row0\" class=\"row_heading level0 row0\" >original_track_id</th>\n",
       "                        <td id=\"T_734d1_row0_col0\" class=\"data row0 col0\" >93.300000</td>\n",
       "            </tr>\n",
       "            <tr>\n",
       "                        <th id=\"T_734d1_level0_row1\" class=\"row_heading level0 row1\" >track_id</th>\n",
       "                        <td id=\"T_734d1_row1_col0\" class=\"data row1 col0\" >0.000000</td>\n",
       "            </tr>\n",
       "            <tr>\n",
       "                        <th id=\"T_734d1_level0_row2\" class=\"row_heading level0 row2\" >track_remake_type</th>\n",
       "                        <td id=\"T_734d1_row2_col0\" class=\"data row2 col0\" >0.000000</td>\n",
       "            </tr>\n",
       "    </tbody></table>"
      ],
      "text/plain": [
       "<pandas.io.formats.style.Styler at 0x29f83ae2700>"
      ]
     },
     "metadata": {},
     "output_type": "display_data"
    },
    {
     "name": "stdout",
     "output_type": "stream",
     "text": [
      "\n"
     ]
    }
   ],
   "source": [
    "# посмотрим датасет c каверами\n",
    "main_info(df_covers)"
   ]
  },
  {
   "cell_type": "code",
   "execution_count": 10,
   "id": "306adb5b-f0d4-48e6-8b92-a8beb3185df4",
   "metadata": {},
   "outputs": [
    {
     "data": {
      "text/plain": [
       "0"
      ]
     },
     "execution_count": 10,
     "metadata": {},
     "output_type": "execute_result"
    }
   ],
   "source": [
    "# проверим дубликаты по `track_id`\n",
    "df_covers['track_id'].duplicated().sum()"
   ]
  },
  {
   "cell_type": "code",
   "execution_count": 11,
   "id": "7b4d5b69-4c37-4868-9121-da8cef467708",
   "metadata": {},
   "outputs": [
    {
     "data": {
      "text/plain": [
       "67128"
      ]
     },
     "execution_count": 11,
     "metadata": {},
     "output_type": "execute_result"
    }
   ],
   "source": [
    "# проверим дубликаты по `original_track_id`\n",
    "df_covers['original_track_id'].duplicated().sum()"
   ]
  },
  {
   "cell_type": "markdown",
   "id": "2d841873-ece3-4c62-9b39-6125abc2fb18",
   "metadata": {},
   "source": [
    "Посмотрим, сколько строк с разметкой COVER имеют ненулевой столбец original_track_id."
   ]
  },
  {
   "cell_type": "code",
   "execution_count": 12,
   "id": "02d81203-cdea-4ad5-b5b9-5855eefda7a9",
   "metadata": {},
   "outputs": [
    {
     "data": {
      "text/plain": [
       "528"
      ]
     },
     "execution_count": 12,
     "metadata": {},
     "output_type": "execute_result"
    }
   ],
   "source": [
    "df = df_covers[df_covers['track_remake_type']=='COVER']\n",
    "df[~df['original_track_id'].isna()].shape[0]"
   ]
  },
  {
   "cell_type": "markdown",
   "id": "0668f62e-e353-4cbb-8812-5a2c4a69d5af",
   "metadata": {},
   "source": [
    "Получили 528 строк-каверов у которых есть ссылка на оригинал. Остальные (66776) без разметки."
   ]
  },
  {
   "cell_type": "markdown",
   "id": "059409be-d918-4a39-aa00-c427f46e0fa7",
   "metadata": {},
   "source": [
    "Также рассмотрим ситуацию когда от одного оригинала делается несколько каверов."
   ]
  },
  {
   "cell_type": "code",
   "execution_count": 14,
   "id": "9b4ce66c-c78e-4689-89b3-75da2735ceb1",
   "metadata": {
    "scrolled": true
   },
   "outputs": [
    {
     "data": {
      "text/html": [
       "<div>\n",
       "<style scoped>\n",
       "    .dataframe tbody tr th:only-of-type {\n",
       "        vertical-align: middle;\n",
       "    }\n",
       "\n",
       "    .dataframe tbody tr th {\n",
       "        vertical-align: top;\n",
       "    }\n",
       "\n",
       "    .dataframe thead th {\n",
       "        text-align: right;\n",
       "    }\n",
       "</style>\n",
       "<table border=\"1\" class=\"dataframe\">\n",
       "  <thead>\n",
       "    <tr style=\"text-align: right;\">\n",
       "      <th></th>\n",
       "      <th>track_id</th>\n",
       "    </tr>\n",
       "  </thead>\n",
       "  <tbody>\n",
       "    <tr>\n",
       "      <th>count</th>\n",
       "      <td>20.000000</td>\n",
       "    </tr>\n",
       "    <tr>\n",
       "      <th>mean</th>\n",
       "      <td>16.250000</td>\n",
       "    </tr>\n",
       "    <tr>\n",
       "      <th>std</th>\n",
       "      <td>11.433446</td>\n",
       "    </tr>\n",
       "    <tr>\n",
       "      <th>min</th>\n",
       "      <td>3.000000</td>\n",
       "    </tr>\n",
       "    <tr>\n",
       "      <th>25%</th>\n",
       "      <td>3.750000</td>\n",
       "    </tr>\n",
       "    <tr>\n",
       "      <th>50%</th>\n",
       "      <td>15.500000</td>\n",
       "    </tr>\n",
       "    <tr>\n",
       "      <th>75%</th>\n",
       "      <td>25.000000</td>\n",
       "    </tr>\n",
       "    <tr>\n",
       "      <th>max</th>\n",
       "      <td>38.000000</td>\n",
       "    </tr>\n",
       "  </tbody>\n",
       "</table>\n",
       "</div>"
      ],
      "text/plain": [
       "        track_id\n",
       "count  20.000000\n",
       "mean   16.250000\n",
       "std    11.433446\n",
       "min     3.000000\n",
       "25%     3.750000\n",
       "50%    15.500000\n",
       "75%    25.000000\n",
       "max    38.000000"
      ]
     },
     "execution_count": 14,
     "metadata": {},
     "output_type": "execute_result"
    }
   ],
   "source": [
    "df_group = df_covers.groupby('original_track_id')['track_id'].agg('count').reset_index()\n",
    "df_group = df_group.sort_values('track_id')\n",
    "# посмотрим топ количества каверов на 1 оригинал трека\n",
    "df_group = df_group.tail(20)\n",
    "df_group.describe()"
   ]
  },
  {
   "cell_type": "code",
   "execution_count": null,
   "id": "42f20a6e-d744-4131-ab37-bc7d0521e6c5",
   "metadata": {},
   "outputs": [],
   "source": [
    "plt.figure(figsize=(7,5))\n",
    "sns.barplot(x =df_group['track_id'],y =df_group['original_track_id']);\n",
    "plt.title ('Топ каверов на оригинал');\n",
    "plt.xlabel ('Количество каверов');\n",
    "plt.ylabel ('original_track_id');\n",
    "plt.show()"
   ]
  },
  {
   "cell_type": "markdown",
   "id": "ae244cad-9084-4f67-9745-e43f9c781461",
   "metadata": {},
   "source": [
    "Максимальное количество каверов составляет 38 штук, далее идет на убывание. В среднем треки имеют около 16 каверов."
   ]
  },
  {
   "cell_type": "markdown",
   "id": "61d4f0fc-3b53-4210-b6dd-ac1b7169b54f",
   "metadata": {},
   "source": [
    "**Вывод** \n",
    "\n",
    "Датасет с разметкой каверов содержит 71597 объектов и 3 столбца.       \n",
    "\n",
    "Столбец `original_track_id`: обнаружено **93 %** пропусков (это подтверждается данными от заказчика о том, что не для всех каверов известны идентификаторы исходных треков. При этом 4468 значения являются уникальными из 4821 имеющихся данных.    \n",
    "Столбец `track_id` - все уникальны,пропусков нет.   \n",
    "Столбец `track_remake_type` - имеется 2 значения: COVER и ORIGINAL. Наблюдается дисбаланс, каверов 67304. \n",
    "\n",
    "Строки с полными дубликатами отсутствуют. "
   ]
  },
  {
   "cell_type": "markdown",
   "id": "7871f9fc-02a3-494d-9a06-8686ef9f0fa8",
   "metadata": {},
   "source": [
    "**Обзор датасета 'Метаинформация'** Доделать анализ по столбцам!+ графики"
   ]
  },
  {
   "cell_type": "code",
   "execution_count": 15,
   "id": "dd9bc825-4d76-4c95-9a56-88bb806a1dc6",
   "metadata": {},
   "outputs": [
    {
     "data": {
      "text/html": [
       "<div>\n",
       "<style scoped>\n",
       "    .dataframe tbody tr th:only-of-type {\n",
       "        vertical-align: middle;\n",
       "    }\n",
       "\n",
       "    .dataframe tbody tr th {\n",
       "        vertical-align: top;\n",
       "    }\n",
       "\n",
       "    .dataframe thead th {\n",
       "        text-align: right;\n",
       "    }\n",
       "</style>\n",
       "<table border=\"1\" class=\"dataframe\">\n",
       "  <thead>\n",
       "    <tr style=\"text-align: right;\">\n",
       "      <th></th>\n",
       "      <th>track_id</th>\n",
       "      <th>dttm</th>\n",
       "      <th>title</th>\n",
       "      <th>language</th>\n",
       "      <th>isrc</th>\n",
       "      <th>genres</th>\n",
       "      <th>duration</th>\n",
       "    </tr>\n",
       "  </thead>\n",
       "  <tbody>\n",
       "    <tr>\n",
       "      <th>0</th>\n",
       "      <td>c3b9d6a354ca008aa4518329aaa21380</td>\n",
       "      <td>2021-12-16 21:00:00</td>\n",
       "      <td>Happy New Year</td>\n",
       "      <td>EN</td>\n",
       "      <td>RUB422103970</td>\n",
       "      <td>[DANCE]</td>\n",
       "      <td>161120.0</td>\n",
       "    </tr>\n",
       "    <tr>\n",
       "      <th>1</th>\n",
       "      <td>c57e3d13bbbf5322584a7e92e6f1f7ff</td>\n",
       "      <td>2021-11-24 14:00:33</td>\n",
       "      <td>Bad Habits</td>\n",
       "      <td>EN</td>\n",
       "      <td>QZN882178276</td>\n",
       "      <td>[ELECTRONICS]</td>\n",
       "      <td>362260.0</td>\n",
       "    </tr>\n",
       "    <tr>\n",
       "      <th>2</th>\n",
       "      <td>955f2aafe8717908c140bf122ba4172d</td>\n",
       "      <td>2021-11-24 15:37:03</td>\n",
       "      <td>Por Esa Loca Vanidad</td>\n",
       "      <td>None</td>\n",
       "      <td>QZNJZ2122549</td>\n",
       "      <td>[FOLK, LATINFOLK]</td>\n",
       "      <td>260000.0</td>\n",
       "    </tr>\n",
       "    <tr>\n",
       "      <th>3</th>\n",
       "      <td>fae5a077c9956045955dde02143bd8ff</td>\n",
       "      <td>2021-11-24 15:37:03</td>\n",
       "      <td>Mil Lagrimas</td>\n",
       "      <td>None</td>\n",
       "      <td>QZNJZ2166033</td>\n",
       "      <td>[FOLK, LATINFOLK]</td>\n",
       "      <td>190000.0</td>\n",
       "    </tr>\n",
       "    <tr>\n",
       "      <th>4</th>\n",
       "      <td>6bede082154d34fc18d9a6744bc95bf5</td>\n",
       "      <td>2021-11-24 15:37:03</td>\n",
       "      <td>Sexo Humo y Alcohol</td>\n",
       "      <td>None</td>\n",
       "      <td>QZNJZ2122551</td>\n",
       "      <td>[FOLK, LATINFOLK]</td>\n",
       "      <td>203000.0</td>\n",
       "    </tr>\n",
       "  </tbody>\n",
       "</table>\n",
       "</div>"
      ],
      "text/plain": [
       "                           track_id                dttm                 title  \\\n",
       "0  c3b9d6a354ca008aa4518329aaa21380 2021-12-16 21:00:00        Happy New Year   \n",
       "1  c57e3d13bbbf5322584a7e92e6f1f7ff 2021-11-24 14:00:33            Bad Habits   \n",
       "2  955f2aafe8717908c140bf122ba4172d 2021-11-24 15:37:03  Por Esa Loca Vanidad   \n",
       "3  fae5a077c9956045955dde02143bd8ff 2021-11-24 15:37:03          Mil Lagrimas   \n",
       "4  6bede082154d34fc18d9a6744bc95bf5 2021-11-24 15:37:03   Sexo Humo y Alcohol   \n",
       "\n",
       "  language          isrc             genres  duration  \n",
       "0       EN  RUB422103970            [DANCE]  161120.0  \n",
       "1       EN  QZN882178276      [ELECTRONICS]  362260.0  \n",
       "2     None  QZNJZ2122549  [FOLK, LATINFOLK]  260000.0  \n",
       "3     None  QZNJZ2166033  [FOLK, LATINFOLK]  190000.0  \n",
       "4     None  QZNJZ2122551  [FOLK, LATINFOLK]  203000.0  "
      ]
     },
     "execution_count": 15,
     "metadata": {},
     "output_type": "execute_result"
    }
   ],
   "source": [
    "df_meta.head()"
   ]
  },
  {
   "cell_type": "code",
   "execution_count": 16,
   "id": "6b8f5577-3d20-4f2f-b165-c82081f60b03",
   "metadata": {},
   "outputs": [
    {
     "name": "stdout",
     "output_type": "stream",
     "text": [
      "<class 'pandas.core.frame.DataFrame'>\n",
      "RangeIndex: 71769 entries, 0 to 71768\n",
      "Data columns (total 7 columns):\n",
      " #   Column    Non-Null Count  Dtype         \n",
      "---  ------    --------------  -----         \n",
      " 0   track_id  71768 non-null  object        \n",
      " 1   dttm      71768 non-null  datetime64[ns]\n",
      " 2   title     71768 non-null  object        \n",
      " 3   language  21969 non-null  object        \n",
      " 4   isrc      71455 non-null  object        \n",
      " 5   genres    71768 non-null  object        \n",
      " 6   duration  71768 non-null  float64       \n",
      "dtypes: datetime64[ns](1), float64(1), object(5)\n",
      "memory usage: 3.8+ MB\n"
     ]
    }
   ],
   "source": [
    "# посмотрим датасет c метаинформацией\n",
    "df_meta.info()"
   ]
  },
  {
   "cell_type": "code",
   "execution_count": 17,
   "id": "2a444331-f761-4216-a288-ca79f151cce7",
   "metadata": {},
   "outputs": [
    {
     "name": "stdout",
     "output_type": "stream",
     "text": [
      "Количество пропусков в процентном соотношении\n"
     ]
    },
    {
     "data": {
      "text/html": [
       "<style  type=\"text/css\" >\n",
       "#T_fe65e_row0_col0,#T_fe65e_row1_col0,#T_fe65e_row2_col0,#T_fe65e_row5_col0,#T_fe65e_row6_col0{\n",
       "            background-color:  #fff7fb;\n",
       "            color:  #000000;\n",
       "        }#T_fe65e_row3_col0{\n",
       "            background-color:  #023858;\n",
       "            color:  #f1f1f1;\n",
       "        }#T_fe65e_row4_col0{\n",
       "            background-color:  #fef6fb;\n",
       "            color:  #000000;\n",
       "        }</style><table id=\"T_fe65e_\" ><thead>    <tr>        <th class=\"blank level0\" ></th>        <th class=\"col_heading level0 col0\" >0</th>    </tr></thead><tbody>\n",
       "                <tr>\n",
       "                        <th id=\"T_fe65e_level0_row0\" class=\"row_heading level0 row0\" >track_id</th>\n",
       "                        <td id=\"T_fe65e_row0_col0\" class=\"data row0 col0\" >0.000000</td>\n",
       "            </tr>\n",
       "            <tr>\n",
       "                        <th id=\"T_fe65e_level0_row1\" class=\"row_heading level0 row1\" >dttm</th>\n",
       "                        <td id=\"T_fe65e_row1_col0\" class=\"data row1 col0\" >0.000000</td>\n",
       "            </tr>\n",
       "            <tr>\n",
       "                        <th id=\"T_fe65e_level0_row2\" class=\"row_heading level0 row2\" >title</th>\n",
       "                        <td id=\"T_fe65e_row2_col0\" class=\"data row2 col0\" >0.000000</td>\n",
       "            </tr>\n",
       "            <tr>\n",
       "                        <th id=\"T_fe65e_level0_row3\" class=\"row_heading level0 row3\" >language</th>\n",
       "                        <td id=\"T_fe65e_row3_col0\" class=\"data row3 col0\" >69.400000</td>\n",
       "            </tr>\n",
       "            <tr>\n",
       "                        <th id=\"T_fe65e_level0_row4\" class=\"row_heading level0 row4\" >isrc</th>\n",
       "                        <td id=\"T_fe65e_row4_col0\" class=\"data row4 col0\" >0.400000</td>\n",
       "            </tr>\n",
       "            <tr>\n",
       "                        <th id=\"T_fe65e_level0_row5\" class=\"row_heading level0 row5\" >genres</th>\n",
       "                        <td id=\"T_fe65e_row5_col0\" class=\"data row5 col0\" >0.000000</td>\n",
       "            </tr>\n",
       "            <tr>\n",
       "                        <th id=\"T_fe65e_level0_row6\" class=\"row_heading level0 row6\" >duration</th>\n",
       "                        <td id=\"T_fe65e_row6_col0\" class=\"data row6 col0\" >0.000000</td>\n",
       "            </tr>\n",
       "    </tbody></table>"
      ],
      "text/plain": [
       "<pandas.io.formats.style.Styler at 0x29f83eddc40>"
      ]
     },
     "metadata": {},
     "output_type": "display_data"
    }
   ],
   "source": [
    "print(f'Количество пропусков в процентном соотношении')\n",
    "display(pd.DataFrame(round(df_meta.isna().mean()*100,1)).style.background_gradient())\n"
   ]
  },
  {
   "cell_type": "markdown",
   "id": "53506be4-2baa-48ce-a496-9c348f38a82e",
   "metadata": {},
   "source": [
    "**Вывод** Дописать после обзора!  \n",
    "\n",
    "Датасет с метаинфромацией содержит 71768 объектов и 7 столбцов, пропуски присутствуют в 2х столбцах:language и isrc (международный id трека).   "
   ]
  },
  {
   "cell_type": "markdown",
   "id": "19984a0f-3256-4e07-add0-740cf85d347f",
   "metadata": {},
   "source": [
    "**Обзор датасета 'Тексты песен'** Доделать анализ"
   ]
  },
  {
   "cell_type": "code",
   "execution_count": 18,
   "id": "b9a5e67e-52fb-4eee-8b1f-00ac691f96cb",
   "metadata": {},
   "outputs": [
    {
     "name": "stdout",
     "output_type": "stream",
     "text": [
      "Выведем первые 5 строк датафрейма\n"
     ]
    },
    {
     "data": {
      "text/html": [
       "<div>\n",
       "<style scoped>\n",
       "    .dataframe tbody tr th:only-of-type {\n",
       "        vertical-align: middle;\n",
       "    }\n",
       "\n",
       "    .dataframe tbody tr th {\n",
       "        vertical-align: top;\n",
       "    }\n",
       "\n",
       "    .dataframe thead th {\n",
       "        text-align: right;\n",
       "    }\n",
       "</style>\n",
       "<table border=\"1\" class=\"dataframe\">\n",
       "  <thead>\n",
       "    <tr style=\"text-align: right;\">\n",
       "      <th></th>\n",
       "      <th>lyricId</th>\n",
       "      <th>text</th>\n",
       "      <th>track_id</th>\n",
       "    </tr>\n",
       "  </thead>\n",
       "  <tbody>\n",
       "    <tr>\n",
       "      <th>0</th>\n",
       "      <td>a951f9504e89759e9d23039b7b17ec14</td>\n",
       "      <td>Живу сейчас обломами, обломками не той любви\\n...</td>\n",
       "      <td>1c4b1230f937e4c548ff732523214dcd</td>\n",
       "    </tr>\n",
       "    <tr>\n",
       "      <th>1</th>\n",
       "      <td>0c749bc3f01eb8e6cf986fa14ccfc585</td>\n",
       "      <td>Tell me your fable\\nA fable\\nTell me your fabl...</td>\n",
       "      <td>0faea89b0d7d6235b5b74def72511bd8</td>\n",
       "    </tr>\n",
       "    <tr>\n",
       "      <th>2</th>\n",
       "      <td>e2c8830fbc86e5964478243099eec23a</td>\n",
       "      <td>You're ashamed about all your fears and doubts...</td>\n",
       "      <td>9c6dc41d5ccd9968d07f055da5d8f741</td>\n",
       "    </tr>\n",
       "    <tr>\n",
       "      <th>3</th>\n",
       "      <td>e2c8830fbc86e5964478243099eec23a</td>\n",
       "      <td>You're ashamed about all your fears and doubts...</td>\n",
       "      <td>bfd04a73e9cffdf0e282c92219a86ea1</td>\n",
       "    </tr>\n",
       "    <tr>\n",
       "      <th>4</th>\n",
       "      <td>7624653ca8522ba93470843c74961b7d</td>\n",
       "      <td>You showed him all the best of you,\\nBut I'm a...</td>\n",
       "      <td>8d70930d09cd239c948408d1317d8659</td>\n",
       "    </tr>\n",
       "  </tbody>\n",
       "</table>\n",
       "</div>"
      ],
      "text/plain": [
       "                            lyricId  \\\n",
       "0  a951f9504e89759e9d23039b7b17ec14   \n",
       "1  0c749bc3f01eb8e6cf986fa14ccfc585   \n",
       "2  e2c8830fbc86e5964478243099eec23a   \n",
       "3  e2c8830fbc86e5964478243099eec23a   \n",
       "4  7624653ca8522ba93470843c74961b7d   \n",
       "\n",
       "                                                text  \\\n",
       "0  Живу сейчас обломами, обломками не той любви\\n...   \n",
       "1  Tell me your fable\\nA fable\\nTell me your fabl...   \n",
       "2  You're ashamed about all your fears and doubts...   \n",
       "3  You're ashamed about all your fears and doubts...   \n",
       "4  You showed him all the best of you,\\nBut I'm a...   \n",
       "\n",
       "                           track_id  \n",
       "0  1c4b1230f937e4c548ff732523214dcd  \n",
       "1  0faea89b0d7d6235b5b74def72511bd8  \n",
       "2  9c6dc41d5ccd9968d07f055da5d8f741  \n",
       "3  bfd04a73e9cffdf0e282c92219a86ea1  \n",
       "4  8d70930d09cd239c948408d1317d8659  "
      ]
     },
     "metadata": {},
     "output_type": "display_data"
    },
    {
     "name": "stdout",
     "output_type": "stream",
     "text": [
      "\n",
      "Основная информация о датафрейме\n",
      "\n",
      "<class 'pandas.core.frame.DataFrame'>\n",
      "RangeIndex: 11414 entries, 0 to 11413\n",
      "Data columns (total 3 columns):\n",
      " #   Column    Non-Null Count  Dtype \n",
      "---  ------    --------------  ----- \n",
      " 0   lyricId   11414 non-null  object\n",
      " 1   text      11414 non-null  object\n",
      " 2   track_id  11414 non-null  object\n",
      "dtypes: object(3)\n",
      "memory usage: 267.6+ KB\n"
     ]
    },
    {
     "data": {
      "text/plain": [
       "None"
      ]
     },
     "metadata": {},
     "output_type": "display_data"
    },
    {
     "name": "stdout",
     "output_type": "stream",
     "text": [
      "\n",
      "Числовое описание данных\n"
     ]
    },
    {
     "data": {
      "text/html": [
       "<style  type=\"text/css\" >\n",
       "</style><table id=\"T_096e1_\" ><thead>    <tr>        <th class=\"blank level0\" ></th>        <th class=\"col_heading level0 col0\" >lyricId</th>        <th class=\"col_heading level0 col1\" >text</th>        <th class=\"col_heading level0 col2\" >track_id</th>    </tr></thead><tbody>\n",
       "                <tr>\n",
       "                        <th id=\"T_096e1_level0_row0\" class=\"row_heading level0 row0\" >count</th>\n",
       "                        <td id=\"T_096e1_row0_col0\" class=\"data row0 col0\" >11414</td>\n",
       "                        <td id=\"T_096e1_row0_col1\" class=\"data row0 col1\" >11414</td>\n",
       "                        <td id=\"T_096e1_row0_col2\" class=\"data row0 col2\" >11414</td>\n",
       "            </tr>\n",
       "            <tr>\n",
       "                        <th id=\"T_096e1_level0_row1\" class=\"row_heading level0 row1\" >unique</th>\n",
       "                        <td id=\"T_096e1_row1_col0\" class=\"data row1 col0\" >10915</td>\n",
       "                        <td id=\"T_096e1_row1_col1\" class=\"data row1 col1\" >10644</td>\n",
       "                        <td id=\"T_096e1_row1_col2\" class=\"data row1 col2\" >10277</td>\n",
       "            </tr>\n",
       "            <tr>\n",
       "                        <th id=\"T_096e1_level0_row2\" class=\"row_heading level0 row2\" >top</th>\n",
       "                        <td id=\"T_096e1_row2_col0\" class=\"data row2 col0\" >28fbafaf626c497d0d4d933b4f0d3f5b</td>\n",
       "                        <td id=\"T_096e1_row2_col1\" class=\"data row2 col1\" >Twenty-five years and my life is still\n",
       "I'm trying to get up that great big hill of hope\n",
       "For a destination\n",
       "And so I wake in the morning\n",
       "And I step outside\n",
       "And I take a deep breath and I get real high\n",
       "And I scream at the top of my lungs\n",
       "What's going on?\n",
       "And I say, hey hey hey hey, hey hey hey hey\n",
       "I said hey, what's going on?\n",
       "And I say, hey hey, hey hey\n",
       "What's going on?\n",
       "What's going on?\n",
       "And I say, hey hey, hey hey, hey hey, hey hey, hey hey, hey hey\n",
       "What's going on?</td>\n",
       "                        <td id=\"T_096e1_row2_col2\" class=\"data row2 col2\" >b891000882f4a612190142861b5c038b</td>\n",
       "            </tr>\n",
       "            <tr>\n",
       "                        <th id=\"T_096e1_level0_row3\" class=\"row_heading level0 row3\" >freq</th>\n",
       "                        <td id=\"T_096e1_row3_col0\" class=\"data row3 col0\" >9</td>\n",
       "                        <td id=\"T_096e1_row3_col1\" class=\"data row3 col1\" >15</td>\n",
       "                        <td id=\"T_096e1_row3_col2\" class=\"data row3 col2\" >24</td>\n",
       "            </tr>\n",
       "    </tbody></table>"
      ],
      "text/plain": [
       "<pandas.io.formats.style.Styler at 0x29f85487d30>"
      ]
     },
     "metadata": {},
     "output_type": "display_data"
    },
    {
     "name": "stdout",
     "output_type": "stream",
     "text": [
      "\n",
      "Количество строк-дубликатов\n"
     ]
    },
    {
     "data": {
      "text/plain": [
       "0"
      ]
     },
     "metadata": {},
     "output_type": "display_data"
    },
    {
     "name": "stdout",
     "output_type": "stream",
     "text": [
      "\n",
      "Количество пропусков в процентном соотношении\n"
     ]
    },
    {
     "data": {
      "text/html": [
       "<style  type=\"text/css\" >\n",
       "#T_a6fe6_row0_col0,#T_a6fe6_row1_col0,#T_a6fe6_row2_col0{\n",
       "            background-color:  #fff7fb;\n",
       "            color:  #000000;\n",
       "        }</style><table id=\"T_a6fe6_\" ><thead>    <tr>        <th class=\"blank level0\" ></th>        <th class=\"col_heading level0 col0\" >0</th>    </tr></thead><tbody>\n",
       "                <tr>\n",
       "                        <th id=\"T_a6fe6_level0_row0\" class=\"row_heading level0 row0\" >lyricId</th>\n",
       "                        <td id=\"T_a6fe6_row0_col0\" class=\"data row0 col0\" >0.000000</td>\n",
       "            </tr>\n",
       "            <tr>\n",
       "                        <th id=\"T_a6fe6_level0_row1\" class=\"row_heading level0 row1\" >text</th>\n",
       "                        <td id=\"T_a6fe6_row1_col0\" class=\"data row1 col0\" >0.000000</td>\n",
       "            </tr>\n",
       "            <tr>\n",
       "                        <th id=\"T_a6fe6_level0_row2\" class=\"row_heading level0 row2\" >track_id</th>\n",
       "                        <td id=\"T_a6fe6_row2_col0\" class=\"data row2 col0\" >0.000000</td>\n",
       "            </tr>\n",
       "    </tbody></table>"
      ],
      "text/plain": [
       "<pandas.io.formats.style.Styler at 0x29f8d27b070>"
      ]
     },
     "metadata": {},
     "output_type": "display_data"
    },
    {
     "name": "stdout",
     "output_type": "stream",
     "text": [
      "\n"
     ]
    }
   ],
   "source": [
    "# посмотрим датасет c текстами\n",
    "main_info(df_lyrics)"
   ]
  },
  {
   "cell_type": "markdown",
   "id": "055de0ed-1e03-485b-95aa-39db6b862510",
   "metadata": {},
   "source": [
    "**Вывод** Дописать после анализа\n",
    "\n",
    "Датасет с текстами песен содержит около 99% уникальных значений текстов и 95% уникальных значений lyricId.         \n",
    "Названия колонок соответствуют первоначальному описанию данных. \n",
    "Сразу видим, что есть одинаковые на первый взгляд тексты песен, при этом track_id у них разный, а lyricId одинаковый.\t             \n",
    "\n",
    "Типы данных соответствуют содержанию.            \n",
    "Полных строк дубликатов в тексте песен нет. Но при ближайшем рассмотрении по столбцам, дубликаты видны."
   ]
  },
  {
   "cell_type": "markdown",
   "id": "412cd230-568c-449a-af97-f77d70f0d28a",
   "metadata": {},
   "source": [
    "### Исследовательский анализ данных\n",
    "Рассмотрим подробно имеющиеся столбцы"
   ]
  },
  {
   "cell_type": "code",
   "execution_count": 19,
   "id": "ac13377e-ee6d-44d3-9cd2-8f2daaf9c1c6",
   "metadata": {},
   "outputs": [
    {
     "data": {
      "text/html": [
       "<div>\n",
       "<style scoped>\n",
       "    .dataframe tbody tr th:only-of-type {\n",
       "        vertical-align: middle;\n",
       "    }\n",
       "\n",
       "    .dataframe tbody tr th {\n",
       "        vertical-align: top;\n",
       "    }\n",
       "\n",
       "    .dataframe thead th {\n",
       "        text-align: right;\n",
       "    }\n",
       "</style>\n",
       "<table border=\"1\" class=\"dataframe\">\n",
       "  <thead>\n",
       "    <tr style=\"text-align: right;\">\n",
       "      <th></th>\n",
       "      <th>track_id</th>\n",
       "      <th>dttm</th>\n",
       "      <th>title</th>\n",
       "      <th>language</th>\n",
       "      <th>isrc</th>\n",
       "      <th>genres</th>\n",
       "      <th>duration</th>\n",
       "    </tr>\n",
       "  </thead>\n",
       "  <tbody>\n",
       "    <tr>\n",
       "      <th>27012</th>\n",
       "      <td>be0233f57dbb59079929ac646b0b9d5c</td>\n",
       "      <td>2021-07-06 16:38:30</td>\n",
       "      <td>Zivot da stane ne sme</td>\n",
       "      <td>None</td>\n",
       "      <td>ATAJ12100470</td>\n",
       "      <td>[FOLK]</td>\n",
       "      <td>151190.0</td>\n",
       "    </tr>\n",
       "    <tr>\n",
       "      <th>26955</th>\n",
       "      <td>8aff9d28865aaf1fa44e46b82cba0f63</td>\n",
       "      <td>2021-07-06 15:38:37</td>\n",
       "      <td>Burma</td>\n",
       "      <td>None</td>\n",
       "      <td>ATAJ12100470</td>\n",
       "      <td>[FOLK]</td>\n",
       "      <td>179300.0</td>\n",
       "    </tr>\n",
       "    <tr>\n",
       "      <th>51052</th>\n",
       "      <td>196a0973d73122891a426f8334105ce7</td>\n",
       "      <td>2019-03-29 21:00:00</td>\n",
       "      <td>Inní mér syngur vitleysingur</td>\n",
       "      <td>EN</td>\n",
       "      <td>ATN261668711</td>\n",
       "      <td>[FOLKMETAL, METAL]</td>\n",
       "      <td>237010.0</td>\n",
       "    </tr>\n",
       "    <tr>\n",
       "      <th>66395</th>\n",
       "      <td>425761c88ebc69e89c748eb537671953</td>\n",
       "      <td>2018-04-28 19:08:26</td>\n",
       "      <td>Inni Mer Syngur Vitleysingur</td>\n",
       "      <td>None</td>\n",
       "      <td>ATN261668711</td>\n",
       "      <td>[FOLKMETAL, METAL]</td>\n",
       "      <td>237010.0</td>\n",
       "    </tr>\n",
       "    <tr>\n",
       "      <th>51053</th>\n",
       "      <td>aa4a1d4d44890cbc7aae285842bd3ce2</td>\n",
       "      <td>2019-03-29 21:00:00</td>\n",
       "      <td>Nattfödd</td>\n",
       "      <td>EN</td>\n",
       "      <td>ATN261668712</td>\n",
       "      <td>[FOLKMETAL, METAL]</td>\n",
       "      <td>255320.0</td>\n",
       "    </tr>\n",
       "    <tr>\n",
       "      <th>...</th>\n",
       "      <td>...</td>\n",
       "      <td>...</td>\n",
       "      <td>...</td>\n",
       "      <td>...</td>\n",
       "      <td>...</td>\n",
       "      <td>...</td>\n",
       "      <td>...</td>\n",
       "    </tr>\n",
       "    <tr>\n",
       "      <th>42673</th>\n",
       "      <td>9ca51834e2b6a7266ebcb10cf9a00409</td>\n",
       "      <td>2014-09-23 12:08:24</td>\n",
       "      <td>How Far We've Come</td>\n",
       "      <td>None</td>\n",
       "      <td>USTCF1018560</td>\n",
       "      <td>[ROCK, ALLROCK]</td>\n",
       "      <td>200820.0</td>\n",
       "    </tr>\n",
       "    <tr>\n",
       "      <th>42671</th>\n",
       "      <td>2e04e2ca902c24028b3a7bcded51deeb</td>\n",
       "      <td>2014-09-23 12:08:24</td>\n",
       "      <td>Angel</td>\n",
       "      <td>None</td>\n",
       "      <td>USTCF1018563</td>\n",
       "      <td>[ROCK, ALLROCK]</td>\n",
       "      <td>261490.0</td>\n",
       "    </tr>\n",
       "    <tr>\n",
       "      <th>67314</th>\n",
       "      <td>7eb1ce7b0e7ce4c053c1c9af0ebd9634</td>\n",
       "      <td>2018-11-08 18:31:51</td>\n",
       "      <td>Angel (2009)</td>\n",
       "      <td>EN</td>\n",
       "      <td>USTCF1018563</td>\n",
       "      <td>[ROCK, ALLROCK]</td>\n",
       "      <td>261450.0</td>\n",
       "    </tr>\n",
       "    <tr>\n",
       "      <th>67315</th>\n",
       "      <td>90117fc7a8a5ef80c4d3e1e6e39b4f06</td>\n",
       "      <td>2018-11-08 18:31:51</td>\n",
       "      <td>Breathe (2009)</td>\n",
       "      <td>EN</td>\n",
       "      <td>USTCF1018565</td>\n",
       "      <td>[ROCK, ALLROCK]</td>\n",
       "      <td>221970.0</td>\n",
       "    </tr>\n",
       "    <tr>\n",
       "      <th>42675</th>\n",
       "      <td>734cfd17d9b91ed5e6040aeef988d8cc</td>\n",
       "      <td>2014-09-23 12:08:24</td>\n",
       "      <td>Breathe</td>\n",
       "      <td>None</td>\n",
       "      <td>USTCF1018565</td>\n",
       "      <td>[ROCK, ALLROCK]</td>\n",
       "      <td>222010.0</td>\n",
       "    </tr>\n",
       "  </tbody>\n",
       "</table>\n",
       "<p>292 rows × 7 columns</p>\n",
       "</div>"
      ],
      "text/plain": [
       "                               track_id                dttm  \\\n",
       "27012  be0233f57dbb59079929ac646b0b9d5c 2021-07-06 16:38:30   \n",
       "26955  8aff9d28865aaf1fa44e46b82cba0f63 2021-07-06 15:38:37   \n",
       "51052  196a0973d73122891a426f8334105ce7 2019-03-29 21:00:00   \n",
       "66395  425761c88ebc69e89c748eb537671953 2018-04-28 19:08:26   \n",
       "51053  aa4a1d4d44890cbc7aae285842bd3ce2 2019-03-29 21:00:00   \n",
       "...                                 ...                 ...   \n",
       "42673  9ca51834e2b6a7266ebcb10cf9a00409 2014-09-23 12:08:24   \n",
       "42671  2e04e2ca902c24028b3a7bcded51deeb 2014-09-23 12:08:24   \n",
       "67314  7eb1ce7b0e7ce4c053c1c9af0ebd9634 2018-11-08 18:31:51   \n",
       "67315  90117fc7a8a5ef80c4d3e1e6e39b4f06 2018-11-08 18:31:51   \n",
       "42675  734cfd17d9b91ed5e6040aeef988d8cc 2014-09-23 12:08:24   \n",
       "\n",
       "                              title language          isrc  \\\n",
       "27012         Zivot da stane ne sme     None  ATAJ12100470   \n",
       "26955                         Burma     None  ATAJ12100470   \n",
       "51052  Inní mér syngur vitleysingur       EN  ATN261668711   \n",
       "66395  Inni Mer Syngur Vitleysingur     None  ATN261668711   \n",
       "51053                      Nattfödd       EN  ATN261668712   \n",
       "...                             ...      ...           ...   \n",
       "42673            How Far We've Come     None  USTCF1018560   \n",
       "42671                         Angel     None  USTCF1018563   \n",
       "67314                  Angel (2009)       EN  USTCF1018563   \n",
       "67315                Breathe (2009)       EN  USTCF1018565   \n",
       "42675                       Breathe     None  USTCF1018565   \n",
       "\n",
       "                   genres  duration  \n",
       "27012              [FOLK]  151190.0  \n",
       "26955              [FOLK]  179300.0  \n",
       "51052  [FOLKMETAL, METAL]  237010.0  \n",
       "66395  [FOLKMETAL, METAL]  237010.0  \n",
       "51053  [FOLKMETAL, METAL]  255320.0  \n",
       "...                   ...       ...  \n",
       "42673     [ROCK, ALLROCK]  200820.0  \n",
       "42671     [ROCK, ALLROCK]  261490.0  \n",
       "67314     [ROCK, ALLROCK]  261450.0  \n",
       "67315     [ROCK, ALLROCK]  221970.0  \n",
       "42675     [ROCK, ALLROCK]  222010.0  \n",
       "\n",
       "[292 rows x 7 columns]"
      ]
     },
     "execution_count": 19,
     "metadata": {},
     "output_type": "execute_result"
    }
   ],
   "source": [
    "# все дубликаты без пропусков с длительностью больше 0\n",
    "df_meta[df_meta['isrc'].duplicated(keep=False) & df_meta['isrc'].notna() & df_meta['duration'] > 0].sort_values(by='isrc')"
   ]
  },
  {
   "cell_type": "code",
   "execution_count": 20,
   "id": "a622e480-62cc-4331-a1ad-362e5300f799",
   "metadata": {
    "scrolled": true
   },
   "outputs": [
    {
     "data": {
      "text/html": [
       "<div>\n",
       "<style scoped>\n",
       "    .dataframe tbody tr th:only-of-type {\n",
       "        vertical-align: middle;\n",
       "    }\n",
       "\n",
       "    .dataframe tbody tr th {\n",
       "        vertical-align: top;\n",
       "    }\n",
       "\n",
       "    .dataframe thead th {\n",
       "        text-align: right;\n",
       "    }\n",
       "</style>\n",
       "<table border=\"1\" class=\"dataframe\">\n",
       "  <thead>\n",
       "    <tr style=\"text-align: right;\">\n",
       "      <th></th>\n",
       "      <th>lyricId</th>\n",
       "      <th>text</th>\n",
       "      <th>track_id</th>\n",
       "    </tr>\n",
       "  </thead>\n",
       "  <tbody>\n",
       "    <tr>\n",
       "      <th>10676</th>\n",
       "      <td>745f700051961898c65ffdafd9793584</td>\n",
       "      <td>Hearts go astray\\nLeaving hurt when they go\\nI...</td>\n",
       "      <td>0021519c8533f1116591948bbb349aef</td>\n",
       "    </tr>\n",
       "    <tr>\n",
       "      <th>10681</th>\n",
       "      <td>039236cf5355b4a81a7d5e689dbbf00a</td>\n",
       "      <td>Hearts go astray\\nLeaving hurt when they go\\nI...</td>\n",
       "      <td>0021519c8533f1116591948bbb349aef</td>\n",
       "    </tr>\n",
       "    <tr>\n",
       "      <th>3951</th>\n",
       "      <td>28a44505928aa595b7aa8077739338d6</td>\n",
       "      <td>[JUDAS PRIEST (Tipton/Halford)]\\n\\nBehold 'tis...</td>\n",
       "      <td>0027101f608c9be2f149f5a44a18c54d</td>\n",
       "    </tr>\n",
       "    <tr>\n",
       "      <th>4164</th>\n",
       "      <td>331799cafa438af8e3addb797662a695</td>\n",
       "      <td>Туземцы крайне опасны\\nТуземцы пьют залихватск...</td>\n",
       "      <td>018397ef8f12c6130512d443d130d1c3</td>\n",
       "    </tr>\n",
       "    <tr>\n",
       "      <th>8772</th>\n",
       "      <td>699ec896dc3d4fe20a321c09738dc5ca</td>\n",
       "      <td>You lift my heart up when the rest of me is do...</td>\n",
       "      <td>01f62991106226d56f919ab6c138540a</td>\n",
       "    </tr>\n",
       "    <tr>\n",
       "      <th>...</th>\n",
       "      <td>...</td>\n",
       "      <td>...</td>\n",
       "      <td>...</td>\n",
       "    </tr>\n",
       "    <tr>\n",
       "      <th>3059</th>\n",
       "      <td>befa76b6d2f52cb4e4299395c3247e64</td>\n",
       "      <td>Eu juro, eu não te amo, eu só bebi demais, amo...</td>\n",
       "      <td>fefb76ffa5cb3c2f9194de659169859d</td>\n",
       "    </tr>\n",
       "    <tr>\n",
       "      <th>7556</th>\n",
       "      <td>6ba951bfe34b90ab611f63c67caa708f</td>\n",
       "      <td>This night is cold in the kingdom\\nI can feel ...</td>\n",
       "      <td>ff032309afbd44985497077e1f041e97</td>\n",
       "    </tr>\n",
       "    <tr>\n",
       "      <th>11179</th>\n",
       "      <td>510522402a7ade334dbaf1f4d31cebdb</td>\n",
       "      <td>Electro latino\\nYa no sonríe más, se arregla t...</td>\n",
       "      <td>ff28aa02ce71177c7f58f4ebe04eb840</td>\n",
       "    </tr>\n",
       "    <tr>\n",
       "      <th>5990</th>\n",
       "      <td>72729c256481dbe52c3b0f4a61f027df</td>\n",
       "      <td>Left the car at the petrol station\\nStanding t...</td>\n",
       "      <td>ffab3ab6b6f90f7fa46b398053b9e664</td>\n",
       "    </tr>\n",
       "    <tr>\n",
       "      <th>8539</th>\n",
       "      <td>748ffc10cc43b1a7e5524ad11fb9a182</td>\n",
       "      <td>Tonight\\nBe no darkness tonight\\nHold tight\\nL...</td>\n",
       "      <td>ffff9a22aa441db772206280ffb8b52e</td>\n",
       "    </tr>\n",
       "  </tbody>\n",
       "</table>\n",
       "<p>873 rows × 3 columns</p>\n",
       "</div>"
      ],
      "text/plain": [
       "                                lyricId  \\\n",
       "10676  745f700051961898c65ffdafd9793584   \n",
       "10681  039236cf5355b4a81a7d5e689dbbf00a   \n",
       "3951   28a44505928aa595b7aa8077739338d6   \n",
       "4164   331799cafa438af8e3addb797662a695   \n",
       "8772   699ec896dc3d4fe20a321c09738dc5ca   \n",
       "...                                 ...   \n",
       "3059   befa76b6d2f52cb4e4299395c3247e64   \n",
       "7556   6ba951bfe34b90ab611f63c67caa708f   \n",
       "11179  510522402a7ade334dbaf1f4d31cebdb   \n",
       "5990   72729c256481dbe52c3b0f4a61f027df   \n",
       "8539   748ffc10cc43b1a7e5524ad11fb9a182   \n",
       "\n",
       "                                                    text  \\\n",
       "10676  Hearts go astray\\nLeaving hurt when they go\\nI...   \n",
       "10681  Hearts go astray\\nLeaving hurt when they go\\nI...   \n",
       "3951   [JUDAS PRIEST (Tipton/Halford)]\\n\\nBehold 'tis...   \n",
       "4164   Туземцы крайне опасны\\nТуземцы пьют залихватск...   \n",
       "8772   You lift my heart up when the rest of me is do...   \n",
       "...                                                  ...   \n",
       "3059   Eu juro, eu não te amo, eu só bebi demais, amo...   \n",
       "7556   This night is cold in the kingdom\\nI can feel ...   \n",
       "11179  Electro latino\\nYa no sonríe más, se arregla t...   \n",
       "5990   Left the car at the petrol station\\nStanding t...   \n",
       "8539   Tonight\\nBe no darkness tonight\\nHold tight\\nL...   \n",
       "\n",
       "                               track_id  \n",
       "10676  0021519c8533f1116591948bbb349aef  \n",
       "10681  0021519c8533f1116591948bbb349aef  \n",
       "3951   0027101f608c9be2f149f5a44a18c54d  \n",
       "4164   018397ef8f12c6130512d443d130d1c3  \n",
       "8772   01f62991106226d56f919ab6c138540a  \n",
       "...                                 ...  \n",
       "3059   fefb76ffa5cb3c2f9194de659169859d  \n",
       "7556   ff032309afbd44985497077e1f041e97  \n",
       "11179  ff28aa02ce71177c7f58f4ebe04eb840  \n",
       "5990   ffab3ab6b6f90f7fa46b398053b9e664  \n",
       "8539   ffff9a22aa441db772206280ffb8b52e  \n",
       "\n",
       "[873 rows x 3 columns]"
      ]
     },
     "execution_count": 20,
     "metadata": {},
     "output_type": "execute_result"
    }
   ],
   "source": [
    "# все дубликаты без пропусков в lyricId\t\n",
    "df_lyrics[df_lyrics['lyricId'].duplicated(keep=False) & df_lyrics['track_id'].notna() & df_lyrics['text'].notna()].sort_values(by='track_id')"
   ]
  },
  {
   "cell_type": "markdown",
   "id": "3579e89e-0319-4ce7-8cba-e2ef52319947",
   "metadata": {},
   "source": [
    "Обнаружили, что одному isrc может соответствовать несколько уникальных track_id. Это может быть вызвано дублем загрузки или несколько источников текста."
   ]
  },
  {
   "cell_type": "markdown",
   "id": "493b7f45-ecba-4d18-83df-013f4d2c8777",
   "metadata": {},
   "source": [
    "**Объединение датасетов**   \n",
    "\n",
    "Все датасеты содержат общий столбец `track_id`.Объединим датафреймы по столбцу `track id`, при этом удалим все дубликаты в этом столбце."
   ]
  },
  {
   "cell_type": "markdown",
   "id": "b42f5daf-32c6-4c6c-bc87-ea48de24ebc5",
   "metadata": {},
   "source": [
    "**Внимание!** Нужно оставлять дубликат в котором меньше всего пропусков в других признаках."
   ]
  },
  {
   "cell_type": "code",
   "execution_count": 21,
   "id": "c0be17d6-2d3d-4190-a401-446a150d1b95",
   "metadata": {},
   "outputs": [],
   "source": [
    "# объединяем и оставляем тот дубликат, в коором меньше пропусков\n",
    "df_union = df_covers.merge(df_lyrics, on='track_id', how='inner').merge(df_meta, on='track_id', how='inner')\n",
    "\n",
    "df_duplicated = df_union.duplicated(subset='track_id', keep=False)\n",
    "df_duplicates_counts = df_union[df_duplicated].isnull().sum(axis=1)\n",
    "\n",
    "df_union = df_union[~df_duplicated | (df_duplicates_counts == df_duplicates_counts.min())]\n"
   ]
  },
  {
   "cell_type": "code",
   "execution_count": null,
   "id": "065f327f-8cc5-45b3-ae00-95123c7a9fc6",
   "metadata": {},
   "outputs": [],
   "source": [
    "# объединим датафреймы по столбцу `track id`\n",
    "#df_merged = pd.merge(df_covers, df_meta, on='track_id',how='left')\n",
    "\n",
    "# выведем объединенный датафрейма\n",
    "#df_merged.head()"
   ]
  },
  {
   "cell_type": "code",
   "execution_count": null,
   "id": "a98f0abe-1de1-4fa2-a473-c511c9a9c23a",
   "metadata": {},
   "outputs": [],
   "source": [
    "#df_union = pd.merge(df_merged, df_lyrics, on='track_id',how='left')"
   ]
  },
  {
   "cell_type": "code",
   "execution_count": 22,
   "id": "d80a1e7c-b79e-4dc8-a315-301ac85f1012",
   "metadata": {
    "scrolled": true
   },
   "outputs": [
    {
     "name": "stdout",
     "output_type": "stream",
     "text": [
      "<class 'pandas.core.frame.DataFrame'>\n",
      "Int64Index: 10229 entries, 0 to 11096\n",
      "Data columns (total 11 columns):\n",
      " #   Column             Non-Null Count  Dtype         \n",
      "---  ------             --------------  -----         \n",
      " 0   original_track_id  3417 non-null   object        \n",
      " 1   track_id           10229 non-null  object        \n",
      " 2   track_remake_type  10229 non-null  object        \n",
      " 3   lyricId            10229 non-null  object        \n",
      " 4   text               10229 non-null  object        \n",
      " 5   dttm               10229 non-null  datetime64[ns]\n",
      " 6   title              10229 non-null  object        \n",
      " 7   language           6553 non-null   object        \n",
      " 8   isrc               10183 non-null  object        \n",
      " 9   genres             10229 non-null  object        \n",
      " 10  duration           10229 non-null  float64       \n",
      "dtypes: datetime64[ns](1), float64(1), object(9)\n",
      "memory usage: 959.0+ KB\n"
     ]
    }
   ],
   "source": [
    "df_union.info()"
   ]
  },
  {
   "cell_type": "code",
   "execution_count": null,
   "id": "2ed7a26e-3fd7-4b89-8a4d-1df96bb4b833",
   "metadata": {},
   "outputs": [],
   "source": [
    "# проверим размер итоговой таблицы\n",
    "df_union.shape"
   ]
  },
  {
   "cell_type": "markdown",
   "id": "f535c6ed-17b8-418c-8422-6b1981986edb",
   "metadata": {},
   "source": [
    "**Получилось чуть больше значений чем у Алексея**"
   ]
  },
  {
   "cell_type": "markdown",
   "id": "9120896d-16f9-4ecb-b656-77a841a8cb4c",
   "metadata": {},
   "source": [
    "Посмотреть дубликаты по всему датасету не представляется возможным. Посмотрим отдельно по столбцам."
   ]
  },
  {
   "cell_type": "code",
   "execution_count": 23,
   "id": "95d6a477-d2dd-434e-ab32-386b612bbb0d",
   "metadata": {},
   "outputs": [
    {
     "data": {
      "text/plain": [
       "454"
      ]
     },
     "execution_count": 23,
     "metadata": {},
     "output_type": "execute_result"
    }
   ],
   "source": [
    "# проверим дубликаты по `track_id`\n",
    "df_union['track_id'].duplicated().sum()"
   ]
  },
  {
   "cell_type": "markdown",
   "id": "570e600a-16b0-421e-b1df-01f56a3afd6a",
   "metadata": {},
   "source": [
    "Было 974 при предыдущем объединении когда все дубликаты оставались."
   ]
  },
  {
   "cell_type": "code",
   "execution_count": null,
   "id": "cf01fb5a-f701-4466-b965-81ac59f6dae0",
   "metadata": {},
   "outputs": [],
   "source": [
    "df_union['track_id'].drop_duplicates(inplace=True)\n"
   ]
  },
  {
   "cell_type": "code",
   "execution_count": null,
   "id": "2919dfe2-1899-4dc1-8e2c-83cfd1238d82",
   "metadata": {},
   "outputs": [],
   "source": [
    "df_union['track_id'].duplicated().sum()"
   ]
  },
  {
   "cell_type": "code",
   "execution_count": null,
   "id": "945cf99a-eab0-4da5-81c3-df0f4a40cd71",
   "metadata": {},
   "outputs": [],
   "source": [
    "df_union['title'].duplicated().sum()"
   ]
  },
  {
   "cell_type": "markdown",
   "id": "b98db1a7-9e61-4432-9706-5492e66fdb59",
   "metadata": {},
   "source": [
    "После объединения всех датафреймов в 1 мы получили больше информации об имеющихся у нас треках."
   ]
  },
  {
   "cell_type": "code",
   "execution_count": null,
   "id": "9f1d250e-f2ae-449f-8f38-b1ca172079ef",
   "metadata": {},
   "outputs": [],
   "source": [
    "df_group = df_union.groupby('original_track_id')['track_id'].agg('count').reset_index()\n",
    "df_group = df_group.sort_values('track_id')\n",
    "df_group = df_group.tail(20)"
   ]
  },
  {
   "cell_type": "code",
   "execution_count": null,
   "id": "9195343f-aa6b-4cf6-9eb5-c42ffc107a2f",
   "metadata": {},
   "outputs": [],
   "source": [
    "plt.title('Топ 10 количество каверов для оригинального трека')\n",
    "plt.barh(df_group['original_track_id'], df_group['track_id'])\n",
    "plt.xlabel('Количество треков')\n",
    "plt.ylabel('id оригинального трека')\n",
    "plt.show()"
   ]
  },
  {
   "cell_type": "code",
   "execution_count": null,
   "id": "c0c05fcc-70d9-4095-a28c-c0a6bef8f446",
   "metadata": {},
   "outputs": [],
   "source": []
  },
  {
   "cell_type": "code",
   "execution_count": null,
   "id": "8d460bf5-50bf-4631-b5af-9a5b4fc64bec",
   "metadata": {},
   "outputs": [],
   "source": [
    "grouped_data = df_union.groupby(['track_remake_type'])['original_track_id'].value_counts()\n",
    "\n",
    "grouped_data.head()"
   ]
  },
  {
   "cell_type": "code",
   "execution_count": null,
   "id": "ff692cb3-435e-49ea-828a-c1c0834411f6",
   "metadata": {},
   "outputs": [],
   "source": [
    "# cгруппировали данные по количеству названий песен для категории кавер-оригинал\n",
    "grouped_data1 = df_union.groupby(['track_remake_type'])['title'].value_counts()\n",
    "grouped_data1 "
   ]
  },
  {
   "cell_type": "code",
   "execution_count": null,
   "id": "adb322d1-2a2a-4aa2-a5c8-14ce191eba66",
   "metadata": {},
   "outputs": [],
   "source": [
    "grouped_data2 = df_union.groupby(['track_remake_type'])['track_id'].value_counts()\n",
    "grouped_data2 "
   ]
  },
  {
   "cell_type": "code",
   "execution_count": null,
   "id": "7a1591f5-347d-41a3-a247-57d6e47878d1",
   "metadata": {},
   "outputs": [],
   "source": [
    "# cгруппировали данные по количеству песен в определенную дату\n",
    "grouped_data3 = df_union.groupby(['track_remake_type'])['dttm'].value_counts()\n",
    "grouped_data3 "
   ]
  },
  {
   "cell_type": "code",
   "execution_count": null,
   "id": "28ae2572-c09a-4e2b-a2e2-6d817628f9da",
   "metadata": {},
   "outputs": [],
   "source": [
    "# cгруппировали данные по количеству названий песен для категории кавер-оригинал\n",
    "grouped_data3 = df_union.groupby(['dttm'])['track_remake_type'].value_counts()\n",
    "grouped_data3 "
   ]
  },
  {
   "cell_type": "code",
   "execution_count": null,
   "id": "ad700aca-c17f-483b-8e13-1e68988fb9ac",
   "metadata": {},
   "outputs": [],
   "source": []
  },
  {
   "cell_type": "markdown",
   "id": "bd2c7236-8e44-4d2c-8f1a-564968387551",
   "metadata": {},
   "source": [
    "Мысли вслух\n",
    "\n",
    "Перед нами стоит задача бинарной классификации. Явного таргета у нас нет, поэтому нам следует сгенерировать новый бинарный признак по столбцу track_remake_type. Следовательно, создадим новый столбец, где '1' - COVER, а '0' - ORIGINAL. После этого удалить столбец 'track_remake_type'."
   ]
  },
  {
   "cell_type": "code",
   "execution_count": 24,
   "id": "76086ee5-051f-4756-b703-9cebbe843b3f",
   "metadata": {},
   "outputs": [],
   "source": [
    "df_union['target'] = np.where(df_union['track_remake_type']== 'ORIGINAL',0,1)"
   ]
  },
  {
   "cell_type": "code",
   "execution_count": 25,
   "id": "5aea33f7-c87f-4a05-a951-72e5305efaff",
   "metadata": {},
   "outputs": [
    {
     "name": "stdout",
     "output_type": "stream",
     "text": [
      "<class 'pandas.core.frame.DataFrame'>\n",
      "Int64Index: 10229 entries, 0 to 11096\n",
      "Data columns (total 12 columns):\n",
      " #   Column             Non-Null Count  Dtype         \n",
      "---  ------             --------------  -----         \n",
      " 0   original_track_id  3417 non-null   object        \n",
      " 1   track_id           10229 non-null  object        \n",
      " 2   track_remake_type  10229 non-null  object        \n",
      " 3   lyricId            10229 non-null  object        \n",
      " 4   text               10229 non-null  object        \n",
      " 5   dttm               10229 non-null  datetime64[ns]\n",
      " 6   title              10229 non-null  object        \n",
      " 7   language           6553 non-null   object        \n",
      " 8   isrc               10183 non-null  object        \n",
      " 9   genres             10229 non-null  object        \n",
      " 10  duration           10229 non-null  float64       \n",
      " 11  target             10229 non-null  int32         \n",
      "dtypes: datetime64[ns](1), float64(1), int32(1), object(9)\n",
      "memory usage: 998.9+ KB\n"
     ]
    }
   ],
   "source": [
    "df_union.info()"
   ]
  },
  {
   "cell_type": "code",
   "execution_count": 26,
   "id": "a23fd312-969f-4dea-93b5-99a3dbb13ef1",
   "metadata": {},
   "outputs": [
    {
     "data": {
      "text/plain": [
       "original_track_id    6812\n",
       "track_id                0\n",
       "track_remake_type       0\n",
       "lyricId                 0\n",
       "text                    0\n",
       "dttm                    0\n",
       "title                   0\n",
       "language             3676\n",
       "isrc                   46\n",
       "genres                  0\n",
       "duration                0\n",
       "target                  0\n",
       "dtype: int64"
      ]
     },
     "execution_count": 26,
     "metadata": {},
     "output_type": "execute_result"
    }
   ],
   "source": [
    "# посмотрим пропуски\n",
    "df_union.isna().sum() "
   ]
  },
  {
   "cell_type": "code",
   "execution_count": null,
   "id": "534c3c7b-30bf-4713-b8ed-e03980b07c99",
   "metadata": {},
   "outputs": [],
   "source": []
  },
  {
   "cell_type": "code",
   "execution_count": null,
   "id": "517c8540-6f8c-444a-9f2c-70da5caf768f",
   "metadata": {},
   "outputs": [],
   "source": [
    "df_union['isrc'].duplicated().sum()"
   ]
  },
  {
   "cell_type": "code",
   "execution_count": null,
   "id": "7c823f77-63ed-47b0-957e-620d5691ef54",
   "metadata": {},
   "outputs": [],
   "source": [
    "# проверим дубликаты по 'original_track_id'\n",
    "df_union['original_track_id'].duplicated().sum()"
   ]
  },
  {
   "cell_type": "code",
   "execution_count": null,
   "id": "5aeb1870-bc29-4589-8f36-05f173de4740",
   "metadata": {},
   "outputs": [],
   "source": [
    "# посмотрим период за который у нас есть данные \n",
    "max_date = df_union['dttm'].max()\n",
    "min_date = df_union['dttm'].min()\n",
    "print(f'Данные представлены за период c {min_date} по {max_date}')"
   ]
  },
  {
   "cell_type": "markdown",
   "id": "21cdbacc-9b49-4760-91c4-a27f9103591c",
   "metadata": {},
   "source": [
    "**Подготовка признаков для обучения Baseline модели**"
   ]
  },
  {
   "cell_type": "markdown",
   "id": "37fe2065-8bf2-4794-86d3-9144f90e399d",
   "metadata": {},
   "source": [
    "**Изучим, что такое ISRC**    \n",
    "ISRC – уникальный код, который однозначно и навсегда определяет музыкальную или видеозапись.\r\n",
    "\r\n",
    "Именно запись, не песню в целом. Разным версиям одной песни или видео (ремиксы, вырезки и т. д.) должны быть присвоены различные уникальные кодыКод можно присваивать записи как сразу после ее написания, так и «задним числом» – через любой промежуток времени после ее публикации.\r",
    "– ISRC является самым простым и оперативным способом идентификации владельца прав на музыкальное или видео произведение в случае, если после присвоения кода владелец прав не менялся.\r\n",
    "\r\n",
    "– В большинстве случаев, с помощью кода можно определить год и страну написания записи.\n",
    ".\r\n",
    "\n",
    "ISRC RU — B94 — 13 — 00137 (ISRC RUB941300137)\n",
    "ISRC RU B94 13 00137\n",
    "Идентификатор кода Код страны (2 буквы)RU = Россия Код регистранта(3 символа)B94 = Концертно-продюсерский центр Год присваивания кода(2 цифры)13 = 2013 Номер записи(5 цифр). "
   ]
  },
  {
   "cell_type": "code",
   "execution_count": 27,
   "id": "d95b8da3-cc57-43a5-b593-af183cd12645",
   "metadata": {},
   "outputs": [
    {
     "data": {
      "text/plain": [
       "0        69\n",
       "1        69\n",
       "2        69\n",
       "3        04\n",
       "4        07\n",
       "         ..\n",
       "11092    23\n",
       "11093    00\n",
       "11094    23\n",
       "11095    23\n",
       "11096    00\n",
       "Name: year_of_track, Length: 10229, dtype: object"
      ]
     },
     "execution_count": 27,
     "metadata": {},
     "output_type": "execute_result"
    }
   ],
   "source": [
    "# Извлекаем год из столбца isrc\n",
    "df_union['year_of_track'] = df_union['isrc'].str[5:7]\n",
    "df_union['year_of_track']"
   ]
  },
  {
   "cell_type": "code",
   "execution_count": 28,
   "id": "2c8af9b4-7f49-4524-9599-d132683b184e",
   "metadata": {},
   "outputs": [
    {
     "ename": "TypeError",
     "evalue": "'<=' not supported between instances of 'str' and 'float'",
     "output_type": "error",
     "traceback": [
      "\u001b[1;31m---------------------------------------------------------------------------\u001b[0m",
      "\u001b[1;31mTypeError\u001b[0m                                 Traceback (most recent call last)",
      "Cell \u001b[1;32mIn[28], line 1\u001b[0m\n\u001b[1;32m----> 1\u001b[0m df_union[\u001b[43mdf_union\u001b[49m\u001b[43m[\u001b[49m\u001b[38;5;124;43m'\u001b[39;49m\u001b[38;5;124;43myear_of_track\u001b[39;49m\u001b[38;5;124;43m'\u001b[39;49m\u001b[43m]\u001b[49m\u001b[38;5;241;43m.\u001b[39;49m\u001b[43mmin\u001b[49m\u001b[43m(\u001b[49m\u001b[43m)\u001b[49m]\n",
      "File \u001b[1;32m~\\anaconda3\\envs\\ds_practicum_env\\lib\\site-packages\\pandas\\core\\generic.py:11213\u001b[0m, in \u001b[0;36mNDFrame._add_numeric_operations.<locals>.min\u001b[1;34m(self, axis, skipna, level, numeric_only, **kwargs)\u001b[0m\n\u001b[0;32m  11200\u001b[0m \u001b[38;5;129m@doc\u001b[39m(\n\u001b[0;32m  11201\u001b[0m     _num_doc,\n\u001b[0;32m  11202\u001b[0m     desc\u001b[38;5;241m=\u001b[39m\u001b[38;5;124m\"\u001b[39m\u001b[38;5;124mReturn the minimum of the values over the requested axis.\u001b[39m\u001b[38;5;130;01m\\n\u001b[39;00m\u001b[38;5;130;01m\\n\u001b[39;00m\u001b[38;5;124m\"\u001b[39m\n\u001b[1;32m   (...)\u001b[0m\n\u001b[0;32m  11211\u001b[0m )\n\u001b[0;32m  11212\u001b[0m \u001b[38;5;28;01mdef\u001b[39;00m \u001b[38;5;21mmin\u001b[39m(\u001b[38;5;28mself\u001b[39m, axis\u001b[38;5;241m=\u001b[39m\u001b[38;5;28;01mNone\u001b[39;00m, skipna\u001b[38;5;241m=\u001b[39m\u001b[38;5;28;01mNone\u001b[39;00m, level\u001b[38;5;241m=\u001b[39m\u001b[38;5;28;01mNone\u001b[39;00m, numeric_only\u001b[38;5;241m=\u001b[39m\u001b[38;5;28;01mNone\u001b[39;00m, \u001b[38;5;241m*\u001b[39m\u001b[38;5;241m*\u001b[39mkwargs):\n\u001b[1;32m> 11213\u001b[0m     \u001b[38;5;28;01mreturn\u001b[39;00m NDFrame\u001b[38;5;241m.\u001b[39mmin(\u001b[38;5;28mself\u001b[39m, axis, skipna, level, numeric_only, \u001b[38;5;241m*\u001b[39m\u001b[38;5;241m*\u001b[39mkwargs)\n",
      "File \u001b[1;32m~\\anaconda3\\envs\\ds_practicum_env\\lib\\site-packages\\pandas\\core\\generic.py:10716\u001b[0m, in \u001b[0;36mNDFrame.min\u001b[1;34m(self, axis, skipna, level, numeric_only, **kwargs)\u001b[0m\n\u001b[0;32m  10715\u001b[0m \u001b[38;5;28;01mdef\u001b[39;00m \u001b[38;5;21mmin\u001b[39m(\u001b[38;5;28mself\u001b[39m, axis\u001b[38;5;241m=\u001b[39m\u001b[38;5;28;01mNone\u001b[39;00m, skipna\u001b[38;5;241m=\u001b[39m\u001b[38;5;28;01mNone\u001b[39;00m, level\u001b[38;5;241m=\u001b[39m\u001b[38;5;28;01mNone\u001b[39;00m, numeric_only\u001b[38;5;241m=\u001b[39m\u001b[38;5;28;01mNone\u001b[39;00m, \u001b[38;5;241m*\u001b[39m\u001b[38;5;241m*\u001b[39mkwargs):\n\u001b[1;32m> 10716\u001b[0m     \u001b[38;5;28;01mreturn\u001b[39;00m \u001b[38;5;28mself\u001b[39m\u001b[38;5;241m.\u001b[39m_stat_function(\n\u001b[0;32m  10717\u001b[0m         \u001b[38;5;124m\"\u001b[39m\u001b[38;5;124mmin\u001b[39m\u001b[38;5;124m\"\u001b[39m, nanops\u001b[38;5;241m.\u001b[39mnanmin, axis, skipna, level, numeric_only, \u001b[38;5;241m*\u001b[39m\u001b[38;5;241m*\u001b[39mkwargs\n\u001b[0;32m  10718\u001b[0m     )\n",
      "File \u001b[1;32m~\\anaconda3\\envs\\ds_practicum_env\\lib\\site-packages\\pandas\\core\\generic.py:10711\u001b[0m, in \u001b[0;36mNDFrame._stat_function\u001b[1;34m(self, name, func, axis, skipna, level, numeric_only, **kwargs)\u001b[0m\n\u001b[0;32m  10709\u001b[0m \u001b[38;5;28;01mif\u001b[39;00m level \u001b[38;5;129;01mis\u001b[39;00m \u001b[38;5;129;01mnot\u001b[39;00m \u001b[38;5;28;01mNone\u001b[39;00m:\n\u001b[0;32m  10710\u001b[0m     \u001b[38;5;28;01mreturn\u001b[39;00m \u001b[38;5;28mself\u001b[39m\u001b[38;5;241m.\u001b[39m_agg_by_level(name, axis\u001b[38;5;241m=\u001b[39maxis, level\u001b[38;5;241m=\u001b[39mlevel, skipna\u001b[38;5;241m=\u001b[39mskipna)\n\u001b[1;32m> 10711\u001b[0m \u001b[38;5;28;01mreturn\u001b[39;00m \u001b[38;5;28;43mself\u001b[39;49m\u001b[38;5;241;43m.\u001b[39;49m\u001b[43m_reduce\u001b[49m\u001b[43m(\u001b[49m\n\u001b[0;32m  10712\u001b[0m \u001b[43m    \u001b[49m\u001b[43mfunc\u001b[49m\u001b[43m,\u001b[49m\u001b[43m \u001b[49m\u001b[43mname\u001b[49m\u001b[38;5;241;43m=\u001b[39;49m\u001b[43mname\u001b[49m\u001b[43m,\u001b[49m\u001b[43m \u001b[49m\u001b[43maxis\u001b[49m\u001b[38;5;241;43m=\u001b[39;49m\u001b[43maxis\u001b[49m\u001b[43m,\u001b[49m\u001b[43m \u001b[49m\u001b[43mskipna\u001b[49m\u001b[38;5;241;43m=\u001b[39;49m\u001b[43mskipna\u001b[49m\u001b[43m,\u001b[49m\u001b[43m \u001b[49m\u001b[43mnumeric_only\u001b[49m\u001b[38;5;241;43m=\u001b[39;49m\u001b[43mnumeric_only\u001b[49m\n\u001b[0;32m  10713\u001b[0m \u001b[43m\u001b[49m\u001b[43m)\u001b[49m\n",
      "File \u001b[1;32m~\\anaconda3\\envs\\ds_practicum_env\\lib\\site-packages\\pandas\\core\\series.py:4182\u001b[0m, in \u001b[0;36mSeries._reduce\u001b[1;34m(self, op, name, axis, skipna, numeric_only, filter_type, **kwds)\u001b[0m\n\u001b[0;32m   4178\u001b[0m     \u001b[38;5;28;01mraise\u001b[39;00m \u001b[38;5;167;01mNotImplementedError\u001b[39;00m(\n\u001b[0;32m   4179\u001b[0m         \u001b[38;5;124mf\u001b[39m\u001b[38;5;124m\"\u001b[39m\u001b[38;5;124mSeries.\u001b[39m\u001b[38;5;132;01m{\u001b[39;00mname\u001b[38;5;132;01m}\u001b[39;00m\u001b[38;5;124m does not implement numeric_only.\u001b[39m\u001b[38;5;124m\"\u001b[39m\n\u001b[0;32m   4180\u001b[0m     )\n\u001b[0;32m   4181\u001b[0m \u001b[38;5;28;01mwith\u001b[39;00m np\u001b[38;5;241m.\u001b[39merrstate(\u001b[38;5;28mall\u001b[39m\u001b[38;5;241m=\u001b[39m\u001b[38;5;124m\"\u001b[39m\u001b[38;5;124mignore\u001b[39m\u001b[38;5;124m\"\u001b[39m):\n\u001b[1;32m-> 4182\u001b[0m     \u001b[38;5;28;01mreturn\u001b[39;00m op(delegate, skipna\u001b[38;5;241m=\u001b[39mskipna, \u001b[38;5;241m*\u001b[39m\u001b[38;5;241m*\u001b[39mkwds)\n",
      "File \u001b[1;32m~\\anaconda3\\envs\\ds_practicum_env\\lib\\site-packages\\pandas\\core\\nanops.py:135\u001b[0m, in \u001b[0;36mbottleneck_switch.__call__.<locals>.f\u001b[1;34m(values, axis, skipna, **kwds)\u001b[0m\n\u001b[0;32m    133\u001b[0m         result \u001b[38;5;241m=\u001b[39m alt(values, axis\u001b[38;5;241m=\u001b[39maxis, skipna\u001b[38;5;241m=\u001b[39mskipna, \u001b[38;5;241m*\u001b[39m\u001b[38;5;241m*\u001b[39mkwds)\n\u001b[0;32m    134\u001b[0m \u001b[38;5;28;01melse\u001b[39;00m:\n\u001b[1;32m--> 135\u001b[0m     result \u001b[38;5;241m=\u001b[39m alt(values, axis\u001b[38;5;241m=\u001b[39maxis, skipna\u001b[38;5;241m=\u001b[39mskipna, \u001b[38;5;241m*\u001b[39m\u001b[38;5;241m*\u001b[39mkwds)\n\u001b[0;32m    137\u001b[0m \u001b[38;5;28;01mreturn\u001b[39;00m result\n",
      "File \u001b[1;32m~\\anaconda3\\envs\\ds_practicum_env\\lib\\site-packages\\pandas\\core\\nanops.py:394\u001b[0m, in \u001b[0;36m_datetimelike_compat.<locals>.new_func\u001b[1;34m(values, axis, skipna, mask, **kwargs)\u001b[0m\n\u001b[0;32m    391\u001b[0m \u001b[38;5;28;01mif\u001b[39;00m datetimelike \u001b[38;5;129;01mand\u001b[39;00m mask \u001b[38;5;129;01mis\u001b[39;00m \u001b[38;5;28;01mNone\u001b[39;00m:\n\u001b[0;32m    392\u001b[0m     mask \u001b[38;5;241m=\u001b[39m isna(values)\n\u001b[1;32m--> 394\u001b[0m result \u001b[38;5;241m=\u001b[39m func(values, axis\u001b[38;5;241m=\u001b[39maxis, skipna\u001b[38;5;241m=\u001b[39mskipna, mask\u001b[38;5;241m=\u001b[39mmask, \u001b[38;5;241m*\u001b[39m\u001b[38;5;241m*\u001b[39mkwargs)\n\u001b[0;32m    396\u001b[0m \u001b[38;5;28;01mif\u001b[39;00m datetimelike:\n\u001b[0;32m    397\u001b[0m     result \u001b[38;5;241m=\u001b[39m _wrap_results(result, orig_values\u001b[38;5;241m.\u001b[39mdtype, fill_value\u001b[38;5;241m=\u001b[39miNaT)\n",
      "File \u001b[1;32m~\\anaconda3\\envs\\ds_practicum_env\\lib\\site-packages\\pandas\\core\\nanops.py:977\u001b[0m, in \u001b[0;36m_nanminmax.<locals>.reduction\u001b[1;34m(values, axis, skipna, mask)\u001b[0m\n\u001b[0;32m    975\u001b[0m         result \u001b[38;5;241m=\u001b[39m np\u001b[38;5;241m.\u001b[39mnan\n\u001b[0;32m    976\u001b[0m \u001b[38;5;28;01melse\u001b[39;00m:\n\u001b[1;32m--> 977\u001b[0m     result \u001b[38;5;241m=\u001b[39m \u001b[38;5;28;43mgetattr\u001b[39;49m\u001b[43m(\u001b[49m\u001b[43mvalues\u001b[49m\u001b[43m,\u001b[49m\u001b[43m \u001b[49m\u001b[43mmeth\u001b[49m\u001b[43m)\u001b[49m\u001b[43m(\u001b[49m\u001b[43maxis\u001b[49m\u001b[43m)\u001b[49m\n\u001b[0;32m    979\u001b[0m result \u001b[38;5;241m=\u001b[39m _maybe_null_out(result, axis, mask, values\u001b[38;5;241m.\u001b[39mshape)\n\u001b[0;32m    980\u001b[0m \u001b[38;5;28;01mreturn\u001b[39;00m result\n",
      "File \u001b[1;32m~\\anaconda3\\envs\\ds_practicum_env\\lib\\site-packages\\numpy\\core\\_methods.py:43\u001b[0m, in \u001b[0;36m_amin\u001b[1;34m(a, axis, out, keepdims, initial, where)\u001b[0m\n\u001b[0;32m     41\u001b[0m \u001b[38;5;28;01mdef\u001b[39;00m \u001b[38;5;21m_amin\u001b[39m(a, axis\u001b[38;5;241m=\u001b[39m\u001b[38;5;28;01mNone\u001b[39;00m, out\u001b[38;5;241m=\u001b[39m\u001b[38;5;28;01mNone\u001b[39;00m, keepdims\u001b[38;5;241m=\u001b[39m\u001b[38;5;28;01mFalse\u001b[39;00m,\n\u001b[0;32m     42\u001b[0m           initial\u001b[38;5;241m=\u001b[39m_NoValue, where\u001b[38;5;241m=\u001b[39m\u001b[38;5;28;01mTrue\u001b[39;00m):\n\u001b[1;32m---> 43\u001b[0m     \u001b[38;5;28;01mreturn\u001b[39;00m \u001b[43mumr_minimum\u001b[49m\u001b[43m(\u001b[49m\u001b[43ma\u001b[49m\u001b[43m,\u001b[49m\u001b[43m \u001b[49m\u001b[43maxis\u001b[49m\u001b[43m,\u001b[49m\u001b[43m \u001b[49m\u001b[38;5;28;43;01mNone\u001b[39;49;00m\u001b[43m,\u001b[49m\u001b[43m \u001b[49m\u001b[43mout\u001b[49m\u001b[43m,\u001b[49m\u001b[43m \u001b[49m\u001b[43mkeepdims\u001b[49m\u001b[43m,\u001b[49m\u001b[43m \u001b[49m\u001b[43minitial\u001b[49m\u001b[43m,\u001b[49m\u001b[43m \u001b[49m\u001b[43mwhere\u001b[49m\u001b[43m)\u001b[49m\n",
      "\u001b[1;31mTypeError\u001b[0m: '<=' not supported between instances of 'str' and 'float'"
     ]
    }
   ],
   "source": [
    "df_union[df_union['year_of_track'].min()]"
   ]
  },
  {
   "cell_type": "code",
   "execution_count": 29,
   "id": "8f530572-da4e-4c52-8f2e-dba29f61bf9e",
   "metadata": {},
   "outputs": [
    {
     "data": {
      "text/plain": [
       "0        69\n",
       "1        69\n",
       "2        69\n",
       "3        04\n",
       "4        07\n",
       "         ..\n",
       "11092    23\n",
       "11093    00\n",
       "11094    23\n",
       "11095    23\n",
       "11096    00\n",
       "Name: year_of_track, Length: 10229, dtype: object"
      ]
     },
     "execution_count": 29,
     "metadata": {},
     "output_type": "execute_result"
    }
   ],
   "source": [
    "df_union['year_of_track']"
   ]
  },
  {
   "cell_type": "markdown",
   "id": "cd378a51-916b-4fbc-a590-b0c457341cb5",
   "metadata": {},
   "source": [
    "Напишем функцию, которая преобразовывает столбец с годом в 4-х значный, исходя из имеющихся сведений об isrc."
   ]
  },
  {
   "cell_type": "code",
   "execution_count": 30,
   "id": "a8bf8be5-f04c-47fd-acb3-9fceb23be31b",
   "metadata": {},
   "outputs": [],
   "source": [
    "def transform_year(year):\n",
    "    if year is None:\n",
    "        return '-'\n",
    "    elif year.isdigit() and int(year) >= 0 and int(year) <= 23:\n",
    "        return '20' + year\n",
    "    else:\n",
    "        return '19' + year\n",
    "\n",
    "df_union['year_of_track'] = df_union['year_of_track'].apply(transform_year)"
   ]
  },
  {
   "cell_type": "code",
   "execution_count": 31,
   "id": "3d9fb524-3975-47c5-90f0-59007a5215dd",
   "metadata": {},
   "outputs": [
    {
     "data": {
      "text/plain": [
       "0        1969\n",
       "1        1969\n",
       "2        1969\n",
       "3        2004\n",
       "4        2007\n",
       "         ... \n",
       "11092    2023\n",
       "11093    2000\n",
       "11094    2023\n",
       "11095    2023\n",
       "11096    2000\n",
       "Name: year_of_track, Length: 10229, dtype: object"
      ]
     },
     "execution_count": 31,
     "metadata": {},
     "output_type": "execute_result"
    }
   ],
   "source": [
    "df_union['year_of_track']"
   ]
  },
  {
   "cell_type": "code",
   "execution_count": 32,
   "id": "24ab8278-a339-47d6-8d42-92beed04d114",
   "metadata": {},
   "outputs": [
    {
     "data": {
      "text/html": [
       "<div>\n",
       "<style scoped>\n",
       "    .dataframe tbody tr th:only-of-type {\n",
       "        vertical-align: middle;\n",
       "    }\n",
       "\n",
       "    .dataframe tbody tr th {\n",
       "        vertical-align: top;\n",
       "    }\n",
       "\n",
       "    .dataframe thead th {\n",
       "        text-align: right;\n",
       "    }\n",
       "</style>\n",
       "<table border=\"1\" class=\"dataframe\">\n",
       "  <thead>\n",
       "    <tr style=\"text-align: right;\">\n",
       "      <th></th>\n",
       "      <th>original_track_id</th>\n",
       "      <th>track_id</th>\n",
       "      <th>track_remake_type</th>\n",
       "      <th>lyricId</th>\n",
       "      <th>text</th>\n",
       "      <th>dttm</th>\n",
       "      <th>title</th>\n",
       "      <th>language</th>\n",
       "      <th>isrc</th>\n",
       "      <th>genres</th>\n",
       "      <th>duration</th>\n",
       "      <th>target</th>\n",
       "      <th>year_of_track</th>\n",
       "    </tr>\n",
       "  </thead>\n",
       "  <tbody>\n",
       "    <tr>\n",
       "      <th>0</th>\n",
       "      <td>eeb69a3cb92300456b6a5f4162093851</td>\n",
       "      <td>eeb69a3cb92300456b6a5f4162093851</td>\n",
       "      <td>ORIGINAL</td>\n",
       "      <td>260f21d9f48e8de874a6e844159ddf28</td>\n",
       "      <td>Left a good job in the city\\nWorkin' for the m...</td>\n",
       "      <td>2009-11-11 21:00:00</td>\n",
       "      <td>Proud Mary</td>\n",
       "      <td>EN</td>\n",
       "      <td>USFI86900049</td>\n",
       "      <td>[ROCK, ALLROCK]</td>\n",
       "      <td>187220.0</td>\n",
       "      <td>0</td>\n",
       "      <td>1969</td>\n",
       "    </tr>\n",
       "    <tr>\n",
       "      <th>1</th>\n",
       "      <td>eeb69a3cb92300456b6a5f4162093851</td>\n",
       "      <td>eeb69a3cb92300456b6a5f4162093851</td>\n",
       "      <td>ORIGINAL</td>\n",
       "      <td>f3331cf99637ee24559242d13d8cf259</td>\n",
       "      <td>Left a good job in the city\\nWorkin' for the m...</td>\n",
       "      <td>2009-11-11 21:00:00</td>\n",
       "      <td>Proud Mary</td>\n",
       "      <td>EN</td>\n",
       "      <td>USFI86900049</td>\n",
       "      <td>[ROCK, ALLROCK]</td>\n",
       "      <td>187220.0</td>\n",
       "      <td>0</td>\n",
       "      <td>1969</td>\n",
       "    </tr>\n",
       "    <tr>\n",
       "      <th>2</th>\n",
       "      <td>fe7ee8fc1959cc7214fa21c4840dff0a</td>\n",
       "      <td>fe7ee8fc1959cc7214fa21c4840dff0a</td>\n",
       "      <td>ORIGINAL</td>\n",
       "      <td>2498827bd11eca5846270487e4960080</td>\n",
       "      <td>Some folks are born made to wave the flag\\nOoh...</td>\n",
       "      <td>2009-11-11 21:00:00</td>\n",
       "      <td>Fortunate Son</td>\n",
       "      <td>EN</td>\n",
       "      <td>USFI86900065</td>\n",
       "      <td>[ROCK, ALLROCK]</td>\n",
       "      <td>137780.0</td>\n",
       "      <td>0</td>\n",
       "      <td>1969</td>\n",
       "    </tr>\n",
       "    <tr>\n",
       "      <th>3</th>\n",
       "      <td>cd89fef7ffdd490db800357f47722b20</td>\n",
       "      <td>cd89fef7ffdd490db800357f47722b20</td>\n",
       "      <td>ORIGINAL</td>\n",
       "      <td>5237001311d4062bf2b80de30652bf58</td>\n",
       "      <td>Uno por pobre y feo, hombre\\nPero antoja'o, ay...</td>\n",
       "      <td>2009-09-21 20:00:00</td>\n",
       "      <td>La Camisa Negra</td>\n",
       "      <td>ES</td>\n",
       "      <td>USUL10400965</td>\n",
       "      <td>[POP, FOLK, LATINFOLK]</td>\n",
       "      <td>216840.0</td>\n",
       "      <td>0</td>\n",
       "      <td>2004</td>\n",
       "    </tr>\n",
       "    <tr>\n",
       "      <th>4</th>\n",
       "      <td>995665640dc319973d3173a74a03860c</td>\n",
       "      <td>995665640dc319973d3173a74a03860c</td>\n",
       "      <td>ORIGINAL</td>\n",
       "      <td>e5b1b57090b728e8d98d2b4d9b781bf4</td>\n",
       "      <td>Yeah!... yeah!... remember the time, baby... y...</td>\n",
       "      <td>2009-11-16 21:00:00</td>\n",
       "      <td>The Way I Are</td>\n",
       "      <td>EN</td>\n",
       "      <td>USUM70722806</td>\n",
       "      <td>[FOREIGNRAP, RAP]</td>\n",
       "      <td>179660.0</td>\n",
       "      <td>0</td>\n",
       "      <td>2007</td>\n",
       "    </tr>\n",
       "  </tbody>\n",
       "</table>\n",
       "</div>"
      ],
      "text/plain": [
       "                  original_track_id                          track_id  \\\n",
       "0  eeb69a3cb92300456b6a5f4162093851  eeb69a3cb92300456b6a5f4162093851   \n",
       "1  eeb69a3cb92300456b6a5f4162093851  eeb69a3cb92300456b6a5f4162093851   \n",
       "2  fe7ee8fc1959cc7214fa21c4840dff0a  fe7ee8fc1959cc7214fa21c4840dff0a   \n",
       "3  cd89fef7ffdd490db800357f47722b20  cd89fef7ffdd490db800357f47722b20   \n",
       "4  995665640dc319973d3173a74a03860c  995665640dc319973d3173a74a03860c   \n",
       "\n",
       "  track_remake_type                           lyricId  \\\n",
       "0          ORIGINAL  260f21d9f48e8de874a6e844159ddf28   \n",
       "1          ORIGINAL  f3331cf99637ee24559242d13d8cf259   \n",
       "2          ORIGINAL  2498827bd11eca5846270487e4960080   \n",
       "3          ORIGINAL  5237001311d4062bf2b80de30652bf58   \n",
       "4          ORIGINAL  e5b1b57090b728e8d98d2b4d9b781bf4   \n",
       "\n",
       "                                                text                dttm  \\\n",
       "0  Left a good job in the city\\nWorkin' for the m... 2009-11-11 21:00:00   \n",
       "1  Left a good job in the city\\nWorkin' for the m... 2009-11-11 21:00:00   \n",
       "2  Some folks are born made to wave the flag\\nOoh... 2009-11-11 21:00:00   \n",
       "3  Uno por pobre y feo, hombre\\nPero antoja'o, ay... 2009-09-21 20:00:00   \n",
       "4  Yeah!... yeah!... remember the time, baby... y... 2009-11-16 21:00:00   \n",
       "\n",
       "             title language          isrc                  genres  duration  \\\n",
       "0       Proud Mary       EN  USFI86900049         [ROCK, ALLROCK]  187220.0   \n",
       "1       Proud Mary       EN  USFI86900049         [ROCK, ALLROCK]  187220.0   \n",
       "2    Fortunate Son       EN  USFI86900065         [ROCK, ALLROCK]  137780.0   \n",
       "3  La Camisa Negra       ES  USUL10400965  [POP, FOLK, LATINFOLK]  216840.0   \n",
       "4    The Way I Are       EN  USUM70722806       [FOREIGNRAP, RAP]  179660.0   \n",
       "\n",
       "   target year_of_track  \n",
       "0       0          1969  \n",
       "1       0          1969  \n",
       "2       0          1969  \n",
       "3       0          2004  \n",
       "4       0          2007  "
      ]
     },
     "execution_count": 32,
     "metadata": {},
     "output_type": "execute_result"
    }
   ],
   "source": [
    "df_union.head()"
   ]
  },
  {
   "cell_type": "code",
   "execution_count": 35,
   "id": "480f15c1-b04f-4644-a1e8-4d027ee186d8",
   "metadata": {},
   "outputs": [
    {
     "data": {
      "text/plain": [
       "0        US\n",
       "1        US\n",
       "2        US\n",
       "3        US\n",
       "4        US\n",
       "         ..\n",
       "11092    RU\n",
       "11093    SM\n",
       "11094    RU\n",
       "11095    RU\n",
       "11096    SM\n",
       "Name: country_of_track, Length: 10229, dtype: object"
      ]
     },
     "execution_count": 35,
     "metadata": {},
     "output_type": "execute_result"
    }
   ],
   "source": [
    "# Извлекаем страну из столбца isrc\n",
    "df_union['country_of_track'] = df_union['isrc'].str[0:2]\n",
    "df_union['country_of_track'] "
   ]
  },
  {
   "cell_type": "code",
   "execution_count": 37,
   "id": "1d310623-eb4c-4f22-afda-329fec533122",
   "metadata": {},
   "outputs": [
    {
     "data": {
      "text/plain": [
       "0        I86\n",
       "1        I86\n",
       "2        I86\n",
       "3        L10\n",
       "4        M70\n",
       "        ... \n",
       "11092    1D2\n",
       "11093    US0\n",
       "11094    GV2\n",
       "11095    GV2\n",
       "11096    US0\n",
       "Name: reg_code, Length: 10229, dtype: object"
      ]
     },
     "execution_count": 37,
     "metadata": {},
     "output_type": "execute_result"
    }
   ],
   "source": [
    "# Извлекаем код регистранта из столбца isrc\n",
    "df_union['reg_code'] = df_union['isrc'].str[3:6]\n",
    "df_union['reg_code'] "
   ]
  },
  {
   "cell_type": "code",
   "execution_count": 38,
   "id": "4684e020-2915-4474-a40a-1172e52e5301",
   "metadata": {},
   "outputs": [
    {
     "data": {
      "text/plain": [
       "array([2009, 2010, 2011, 2012, 2013, 2014, 2015, 2016, 2017, 2018, 2019,\n",
       "       2020, 2021, 2022, 2023], dtype=int64)"
      ]
     },
     "execution_count": 38,
     "metadata": {},
     "output_type": "execute_result"
    }
   ],
   "source": [
    "# получим информацию о годах появления информации о треке\n",
    "df_union['dttm'].dt.year.sort_values().unique()"
   ]
  },
  {
   "cell_type": "code",
   "execution_count": 39,
   "id": "9dde65f8-27a4-4ff8-a934-3bcc6bd0c0b4",
   "metadata": {},
   "outputs": [],
   "source": [
    "df_union['year_of_entry'] = pd.to_datetime(df_union['dttm'], utc=True).dt.year"
   ]
  },
  {
   "cell_type": "code",
   "execution_count": 40,
   "id": "acb668aa-7d2b-4c2a-beb0-ce6369931e15",
   "metadata": {},
   "outputs": [],
   "source": [
    "df_union = df_union.fillna('-')"
   ]
  },
  {
   "cell_type": "code",
   "execution_count": null,
   "id": "7c949247-b96d-442c-add6-cbd0a436c44a",
   "metadata": {},
   "outputs": [],
   "source": []
  },
  {
   "cell_type": "code",
   "execution_count": null,
   "id": "2d7ee083-89c4-433e-b1a8-bd526ef58393",
   "metadata": {},
   "outputs": [],
   "source": []
  },
  {
   "cell_type": "code",
   "execution_count": null,
   "id": "1bda318b-42d3-4dec-b708-96fd9fb72ed5",
   "metadata": {},
   "outputs": [],
   "source": [
    "# cгруппировали данные по количеству названий песен для категории кавер-оригинал\n",
    "grouped_data4 = df_union.groupby(['lyricId'])['track_id'].value_counts()\n",
    "grouped_data4 "
   ]
  },
  {
   "cell_type": "code",
   "execution_count": null,
   "id": "98326cca-9355-484a-8256-a128b97fab57",
   "metadata": {},
   "outputs": [],
   "source": []
  },
  {
   "cell_type": "code",
   "execution_count": null,
   "id": "0b461443-5b4c-4223-b58a-259e5fb5c44a",
   "metadata": {},
   "outputs": [],
   "source": [
    "def clear_text(correct_simb: str, text: str) -> str:\n",
    "    new_text = re.sub(correct_simb,' ', text)    \n",
    "    new_text = new_text.split()\n",
    "    return ' '.join(new_text)"
   ]
  },
  {
   "cell_type": "code",
   "execution_count": null,
   "id": "2cf5a650-b951-468b-a380-4f6f92b67e24",
   "metadata": {},
   "outputs": [],
   "source": [
    "df_union['clear_text'] = df_union['text'].apply(lambda x: clear_text(r'[^а-яА-Я]', x))"
   ]
  },
  {
   "cell_type": "code",
   "execution_count": null,
   "id": "3b18bded-3729-41ca-88a4-5903bc40ca72",
   "metadata": {},
   "outputs": [],
   "source": []
  },
  {
   "cell_type": "markdown",
   "id": "aa418dde-2acb-4dab-9035-93a7f438459f",
   "metadata": {},
   "source": [
    "Подготовка признаков для обучения Baseline модели"
   ]
  },
  {
   "cell_type": "code",
   "execution_count": null,
   "id": "0a3a2e70-dd4f-4ab0-b1aa-80989187a8dc",
   "metadata": {},
   "outputs": [],
   "source": [
    "import sys\n",
    "#!{sys.executable} -m pip install spacy\n",
    "\n",
    "#!{sys.executable} -m spacy download en\n",
    "import spacy"
   ]
  },
  {
   "cell_type": "markdown",
   "id": "2554f092-d96d-430b-9505-daa7cb8478c3",
   "metadata": {},
   "source": [
    "Создадим новый столбец lemm_text с обработанным текстом, который будет нашим основным признаком для модели."
   ]
  },
  {
   "cell_type": "code",
   "execution_count": null,
   "id": "1c5e92ff-03bf-4049-ab5b-dfa9377793ee",
   "metadata": {},
   "outputs": [],
   "source": [
    "# загрузим объект nlp\n",
    "disabled_pipes = ['parser','ner']\n",
    "nlp = spacy.load(\"en_core_web_sm\",disable=disabled_pipes)\n",
    "\n",
    "# напишем функцию\n",
    "def lemmatize(text):\n",
    "    text = text.lower()\n",
    "    text = nlp(text)\n",
    "    lemm_text = \" \".join([token.lemma_ for token in text])\n",
    "    clear_text = re.sub(r'[^a-zA-Z ]', ' ', lemm_text)\n",
    "    return  \" \".join(clear_text.split())          "
   ]
  },
  {
   "cell_type": "code",
   "execution_count": null,
   "id": "5c0da726-89c7-48c9-8bf8-8d0d47724a0d",
   "metadata": {},
   "outputs": [],
   "source": [
    "# для русского и английского языка\n",
    "def lemmatize(text):\n",
    "    text = text.lower()\n",
    "    \n",
    "    # Проверка языка текста и выбор соответствующей модели\n",
    "    if detect(text) == 'ru':\n",
    "        nlp = spacy.load(\"ru_core_news_sm\", disable=disabled_pipes)\n",
    "    else:\n",
    "        nlp = spacy.load(\"en_core_web_sm\", disable=disabled_pipes)\n",
    "\n",
    "    text = nlp(text)\n",
    "    lemm_text = \" \".join([token.lemma_ for token in text])\n",
    "    clear_text = re.sub(r'[^a-zA-Zа-яА-Я ]', ' ', lemm_text)\n",
    "    return \" \".join(clear_text.split())"
   ]
  },
  {
   "cell_type": "code",
   "execution_count": null,
   "id": "c88a626e-5b76-412f-994b-a3bb00ada402",
   "metadata": {},
   "outputs": [],
   "source": [
    "#tqdm.pandas(\"lemmatize\")\n",
    "df_union['lemm_text'] = df_union['text'].progress_apply(lemmatize) \n"
   ]
  },
  {
   "cell_type": "code",
   "execution_count": null,
   "id": "45fb70a0-96a7-4628-a324-0d90a68490ad",
   "metadata": {
    "scrolled": true
   },
   "outputs": [],
   "source": [
    "# проверим работу функции на произвольной строке\n",
    "print(\"Исходный текст:\", df_union['text'][47])\n",
    "print(\"Очищенный и лемматизированный текст:\", lemmatize(df_union['text'][47]))"
   ]
  },
  {
   "cell_type": "code",
   "execution_count": null,
   "id": "1d948e22-0047-4772-94a5-97be854f3dfb",
   "metadata": {},
   "outputs": [],
   "source": [
    "nltk.download('stopwords') \n",
    "stopwords = set(nltk_stopwords.words('english'))"
   ]
  },
  {
   "cell_type": "code",
   "execution_count": null,
   "id": "8a06885d-a9ee-41c1-a9f5-3e59091afb83",
   "metadata": {},
   "outputs": [],
   "source": []
  },
  {
   "cell_type": "code",
   "execution_count": 41,
   "id": "8d165888-c31a-4d41-834b-3db7ca59adea",
   "metadata": {},
   "outputs": [],
   "source": [
    "df_union = df_union.drop(['original_track_id','track_id','dttm','lyricId','track_remake_type','text','genres','isrc'], axis=1)"
   ]
  },
  {
   "cell_type": "code",
   "execution_count": null,
   "id": "837a1f32-4c86-4646-a26e-7d32d2f4d439",
   "metadata": {},
   "outputs": [],
   "source": []
  },
  {
   "cell_type": "code",
   "execution_count": 42,
   "id": "1713d8f1-3298-465a-915d-cb68683a3fdb",
   "metadata": {},
   "outputs": [
    {
     "data": {
      "text/plain": [
       "(10229, 8)"
      ]
     },
     "execution_count": 42,
     "metadata": {},
     "output_type": "execute_result"
    }
   ],
   "source": [
    "df_union.shape"
   ]
  },
  {
   "cell_type": "code",
   "execution_count": null,
   "id": "b1b0c4d7-117d-434a-a0aa-59d54e0b4a30",
   "metadata": {},
   "outputs": [],
   "source": []
  },
  {
   "cell_type": "markdown",
   "id": "6a27694e-9e48-4ec9-b2a8-7ec94ac06a0b",
   "metadata": {},
   "source": [
    "Препроцессинг, проверить функцию"
   ]
  },
  {
   "cell_type": "code",
   "execution_count": null,
   "id": "b9ddb2ce-83b0-40e1-b912-39cc2c0597e1",
   "metadata": {},
   "outputs": [],
   "source": [
    "def openfile(path):\n",
    "    try:\n",
    "        df = pd.read_csv(path)\n",
    "    except:\n",
    "        print('Файл по указанному пути не найден')\n",
    "        exit()\n",
    "    columns = ['original', 'track', 'target', 'temp']\n",
    "    for col in columns:\n",
    "        if col not in df.columns:\n",
    "            print(f'Столбец {col} не найден в файле')\n",
    "            exit()\n",
    "    \n",
    "    if df['original'].isna().all():\n",
    "        print('Делаем прогноз')\n",
    "    else:\n",
    "        if df['original'].equals(df['track']):\n",
    "            print('Оригинал')\n",
    "    \n",
    "    return df"
   ]
  },
  {
   "cell_type": "markdown",
   "id": "022f21d1-cbde-4f49-8601-246083a4e2ec",
   "metadata": {},
   "source": [
    "## Выбор и обучение моделей\n",
    "\n",
    "Подготовка призанков для обучения моделей."
   ]
  },
  {
   "cell_type": "code",
   "execution_count": 43,
   "id": "02d07f43-d82b-4daa-adc6-38292b5d9972",
   "metadata": {},
   "outputs": [],
   "source": [
    "# cоздадим переменные для признаков и целевого признака\n",
    "X = df_union.drop('target', axis=1)\n",
    "y = df_union['target']"
   ]
  },
  {
   "cell_type": "markdown",
   "id": "d0bbf4a0-3716-4682-a74c-3564bf287021",
   "metadata": {},
   "source": [
    "Далее разобьем данные на выборки. Разделим исходные данные на обучающую и тестовую выборки. Данные разобьем на 2 части, в соотношении 75:25. Добавим аргумент stratify, он позволит сохранить изначальное распределение таргетов во всех новых датасетах. Существующий дисбаланс никуда не денется, но в каждом датасете он будет одинаковым."
   ]
  },
  {
   "cell_type": "code",
   "execution_count": 44,
   "id": "cf6aa8d6-096a-401d-9f7c-6e6271a329bf",
   "metadata": {},
   "outputs": [],
   "source": [
    "X_train, X_test, y_train, y_test = train_test_split(\n",
    "    X, y, test_size=0.25, random_state=RANDOM_STATE,stratify = y\n",
    ")"
   ]
  },
  {
   "cell_type": "code",
   "execution_count": null,
   "id": "fe38ec29-127d-46a0-afaf-ed53d690d0b7",
   "metadata": {},
   "outputs": [],
   "source": [
    "# выведем на экран размеры таблиц, которые хранятся в 4-х переменных \n",
    "X_train.shape,y_train.shape,X_test.shape,y_test.shape"
   ]
  },
  {
   "cell_type": "markdown",
   "id": "a209c3c3-2d0d-4997-b5c7-4d7551990f54",
   "metadata": {},
   "source": [
    "### Обучение моделей\n",
    "\n",
    "\n",
    "Модель CatBoostClassifier"
   ]
  },
  {
   "cell_type": "code",
   "execution_count": 45,
   "id": "86b0c1ad-70e5-4d64-b667-43d55097ea3c",
   "metadata": {},
   "outputs": [
    {
     "data": {
      "text/plain": [
       "['duration', 'year_of_entry']"
      ]
     },
     "execution_count": 45,
     "metadata": {},
     "output_type": "execute_result"
    }
   ],
   "source": [
    "#численные признаки\n",
    "num_cols = X_train.select_dtypes(exclude='object').columns.to_list()\n",
    "num_cols"
   ]
  },
  {
   "cell_type": "code",
   "execution_count": 46,
   "id": "353eff6e-4aab-462c-8f5a-e744fb1144cf",
   "metadata": {},
   "outputs": [
    {
     "data": {
      "text/plain": [
       "['title', 'language', 'year_of_track', 'country_of_track', 'reg_code']"
      ]
     },
     "execution_count": 46,
     "metadata": {},
     "output_type": "execute_result"
    }
   ],
   "source": [
    "# создадим переменную с категориальными признаками для передачи в модель\n",
    "cat_features = X_train.select_dtypes(include='object').columns.to_list()\n",
    "cat_features"
   ]
  },
  {
   "cell_type": "code",
   "execution_count": 47,
   "id": "fb5cfacd-104e-44f3-b4ba-8f1fa174a178",
   "metadata": {},
   "outputs": [],
   "source": [
    "pipeline_catboost = Pipeline([\n",
    "    ('cb', CatBoostClassifier(cat_features=cat_features,random_state=RANDOM_STATE))\n",
    "])\n",
    "\n",
    "parameters_catboost = {\n",
    "    'cb__iterations': [100],\n",
    "    'cb__depth': [3,6,9],\n",
    "    'cb__learning_rate': [0.01, 0.15]\n",
    "}"
   ]
  },
  {
   "cell_type": "code",
   "execution_count": 48,
   "id": "2bf55ede-48fd-4d6f-a04b-fd1b29749970",
   "metadata": {},
   "outputs": [],
   "source": [
    "gs_model_cb = GridSearchCV(\n",
    "    estimator = pipeline_catboost,\n",
    "    param_grid=parameters_catboost, \n",
    "    scoring='roc_auc',\n",
    "    cv=KFold(n_splits=5, shuffle=True, random_state=RANDOM_STATE),\n",
    "    n_jobs=-1)"
   ]
  },
  {
   "cell_type": "code",
   "execution_count": 49,
   "id": "538d9fe8-dab9-4879-af86-bab4e27e7b57",
   "metadata": {},
   "outputs": [
    {
     "name": "stdout",
     "output_type": "stream",
     "text": [
      "0:\tlearn: 0.6260487\ttotal: 215ms\tremaining: 21.2s\n",
      "1:\tlearn: 0.5733382\ttotal: 250ms\tremaining: 12.2s\n",
      "2:\tlearn: 0.5271427\ttotal: 300ms\tremaining: 9.69s\n",
      "3:\tlearn: 0.4902944\ttotal: 357ms\tremaining: 8.56s\n",
      "4:\tlearn: 0.4592713\ttotal: 416ms\tremaining: 7.91s\n",
      "5:\tlearn: 0.4350567\ttotal: 468ms\tremaining: 7.33s\n",
      "6:\tlearn: 0.4146985\ttotal: 534ms\tremaining: 7.09s\n",
      "7:\tlearn: 0.3982076\ttotal: 584ms\tremaining: 6.72s\n",
      "8:\tlearn: 0.3842617\ttotal: 657ms\tremaining: 6.64s\n",
      "9:\tlearn: 0.3720179\ttotal: 707ms\tremaining: 6.37s\n",
      "10:\tlearn: 0.3619302\ttotal: 757ms\tremaining: 6.13s\n",
      "11:\tlearn: 0.3532262\ttotal: 808ms\tremaining: 5.93s\n",
      "12:\tlearn: 0.3455049\ttotal: 863ms\tremaining: 5.77s\n",
      "13:\tlearn: 0.3387207\ttotal: 930ms\tremaining: 5.71s\n",
      "14:\tlearn: 0.3334205\ttotal: 982ms\tremaining: 5.56s\n",
      "15:\tlearn: 0.3284325\ttotal: 1.03s\tremaining: 5.43s\n",
      "16:\tlearn: 0.3243737\ttotal: 1.08s\tremaining: 5.3s\n",
      "17:\tlearn: 0.3205035\ttotal: 1.14s\tremaining: 5.2s\n",
      "18:\tlearn: 0.3148917\ttotal: 1.21s\tremaining: 5.17s\n",
      "19:\tlearn: 0.3095943\ttotal: 1.27s\tremaining: 5.09s\n",
      "20:\tlearn: 0.3057190\ttotal: 1.32s\tremaining: 4.98s\n",
      "21:\tlearn: 0.3016398\ttotal: 1.39s\tremaining: 4.92s\n",
      "22:\tlearn: 0.2986111\ttotal: 1.44s\tremaining: 4.83s\n",
      "23:\tlearn: 0.2952080\ttotal: 1.51s\tremaining: 4.78s\n",
      "24:\tlearn: 0.2925123\ttotal: 1.56s\tremaining: 4.7s\n",
      "25:\tlearn: 0.2905056\ttotal: 1.62s\tremaining: 4.62s\n",
      "26:\tlearn: 0.2883463\ttotal: 1.68s\tremaining: 4.55s\n",
      "27:\tlearn: 0.2860346\ttotal: 1.73s\tremaining: 4.45s\n",
      "28:\tlearn: 0.2840938\ttotal: 1.78s\tremaining: 4.37s\n",
      "29:\tlearn: 0.2821533\ttotal: 1.85s\tremaining: 4.31s\n",
      "30:\tlearn: 0.2798451\ttotal: 1.9s\tremaining: 4.22s\n",
      "31:\tlearn: 0.2784909\ttotal: 1.95s\tremaining: 4.15s\n",
      "32:\tlearn: 0.2768275\ttotal: 2.01s\tremaining: 4.08s\n",
      "33:\tlearn: 0.2758785\ttotal: 2.07s\tremaining: 4.02s\n",
      "34:\tlearn: 0.2744045\ttotal: 2.13s\tremaining: 3.95s\n",
      "35:\tlearn: 0.2728470\ttotal: 2.17s\tremaining: 3.86s\n",
      "36:\tlearn: 0.2710459\ttotal: 2.22s\tremaining: 3.79s\n",
      "37:\tlearn: 0.2697689\ttotal: 2.28s\tremaining: 3.72s\n",
      "38:\tlearn: 0.2682445\ttotal: 2.33s\tremaining: 3.65s\n",
      "39:\tlearn: 0.2672339\ttotal: 2.39s\tremaining: 3.58s\n",
      "40:\tlearn: 0.2662443\ttotal: 2.44s\tremaining: 3.51s\n",
      "41:\tlearn: 0.2649834\ttotal: 2.48s\tremaining: 3.43s\n",
      "42:\tlearn: 0.2643567\ttotal: 2.53s\tremaining: 3.36s\n",
      "43:\tlearn: 0.2633803\ttotal: 2.58s\tremaining: 3.28s\n",
      "44:\tlearn: 0.2626709\ttotal: 2.62s\tremaining: 3.2s\n",
      "45:\tlearn: 0.2620008\ttotal: 2.66s\tremaining: 3.13s\n",
      "46:\tlearn: 0.2613560\ttotal: 2.71s\tremaining: 3.05s\n",
      "47:\tlearn: 0.2601526\ttotal: 2.76s\tremaining: 2.99s\n",
      "48:\tlearn: 0.2593351\ttotal: 2.81s\tremaining: 2.93s\n",
      "49:\tlearn: 0.2583036\ttotal: 2.87s\tremaining: 2.87s\n",
      "50:\tlearn: 0.2571158\ttotal: 2.93s\tremaining: 2.81s\n",
      "51:\tlearn: 0.2560283\ttotal: 2.99s\tremaining: 2.76s\n",
      "52:\tlearn: 0.2554986\ttotal: 3.05s\tremaining: 2.7s\n",
      "53:\tlearn: 0.2545420\ttotal: 3.1s\tremaining: 2.64s\n",
      "54:\tlearn: 0.2528376\ttotal: 3.16s\tremaining: 2.59s\n",
      "55:\tlearn: 0.2516586\ttotal: 3.22s\tremaining: 2.53s\n",
      "56:\tlearn: 0.2512161\ttotal: 3.27s\tremaining: 2.47s\n",
      "57:\tlearn: 0.2502719\ttotal: 3.31s\tremaining: 2.4s\n",
      "58:\tlearn: 0.2497580\ttotal: 3.36s\tremaining: 2.33s\n",
      "59:\tlearn: 0.2488047\ttotal: 3.4s\tremaining: 2.27s\n",
      "60:\tlearn: 0.2480960\ttotal: 3.45s\tremaining: 2.21s\n",
      "61:\tlearn: 0.2475824\ttotal: 3.5s\tremaining: 2.14s\n",
      "62:\tlearn: 0.2470476\ttotal: 3.54s\tremaining: 2.08s\n",
      "63:\tlearn: 0.2462709\ttotal: 3.58s\tremaining: 2.02s\n",
      "64:\tlearn: 0.2460009\ttotal: 3.64s\tremaining: 1.96s\n",
      "65:\tlearn: 0.2453300\ttotal: 3.71s\tremaining: 1.91s\n",
      "66:\tlearn: 0.2443798\ttotal: 3.76s\tremaining: 1.85s\n",
      "67:\tlearn: 0.2440485\ttotal: 3.82s\tremaining: 1.8s\n",
      "68:\tlearn: 0.2437028\ttotal: 3.87s\tremaining: 1.74s\n",
      "69:\tlearn: 0.2430645\ttotal: 3.92s\tremaining: 1.68s\n",
      "70:\tlearn: 0.2426718\ttotal: 3.97s\tremaining: 1.62s\n",
      "71:\tlearn: 0.2422082\ttotal: 4.03s\tremaining: 1.57s\n",
      "72:\tlearn: 0.2417590\ttotal: 4.07s\tremaining: 1.51s\n",
      "73:\tlearn: 0.2412715\ttotal: 4.12s\tremaining: 1.45s\n",
      "74:\tlearn: 0.2409603\ttotal: 4.16s\tremaining: 1.39s\n",
      "75:\tlearn: 0.2404209\ttotal: 4.2s\tremaining: 1.32s\n",
      "76:\tlearn: 0.2398305\ttotal: 4.24s\tremaining: 1.27s\n",
      "77:\tlearn: 0.2392020\ttotal: 4.29s\tremaining: 1.21s\n",
      "78:\tlearn: 0.2386285\ttotal: 4.33s\tremaining: 1.15s\n",
      "79:\tlearn: 0.2380503\ttotal: 4.37s\tremaining: 1.09s\n",
      "80:\tlearn: 0.2378106\ttotal: 4.41s\tremaining: 1.03s\n",
      "81:\tlearn: 0.2373309\ttotal: 4.46s\tremaining: 978ms\n",
      "82:\tlearn: 0.2366892\ttotal: 4.5s\tremaining: 922ms\n",
      "83:\tlearn: 0.2360392\ttotal: 4.55s\tremaining: 866ms\n",
      "84:\tlearn: 0.2355914\ttotal: 4.59s\tremaining: 810ms\n",
      "85:\tlearn: 0.2352961\ttotal: 4.65s\tremaining: 756ms\n",
      "86:\tlearn: 0.2348251\ttotal: 4.7s\tremaining: 702ms\n",
      "87:\tlearn: 0.2346325\ttotal: 4.74s\tremaining: 647ms\n",
      "88:\tlearn: 0.2342017\ttotal: 4.79s\tremaining: 591ms\n",
      "89:\tlearn: 0.2340618\ttotal: 4.83s\tremaining: 536ms\n",
      "90:\tlearn: 0.2337076\ttotal: 4.87s\tremaining: 482ms\n",
      "91:\tlearn: 0.2333684\ttotal: 4.92s\tremaining: 428ms\n",
      "92:\tlearn: 0.2328780\ttotal: 4.96s\tremaining: 373ms\n",
      "93:\tlearn: 0.2323818\ttotal: 5s\tremaining: 319ms\n",
      "94:\tlearn: 0.2321575\ttotal: 5.05s\tremaining: 266ms\n",
      "95:\tlearn: 0.2318083\ttotal: 5.09s\tremaining: 212ms\n",
      "96:\tlearn: 0.2316313\ttotal: 5.13s\tremaining: 159ms\n",
      "97:\tlearn: 0.2310048\ttotal: 5.17s\tremaining: 106ms\n",
      "98:\tlearn: 0.2309570\ttotal: 5.23s\tremaining: 52.8ms\n",
      "99:\tlearn: 0.2307821\ttotal: 5.27s\tremaining: 0us\n",
      "CPU times: total: 3.78 s\n",
      "Wall time: 1min 6s\n"
     ]
    },
    {
     "data": {
      "text/plain": [
       "GridSearchCV(cv=KFold(n_splits=5, random_state=54321, shuffle=True),\n",
       "             estimator=Pipeline(steps=[('cb',\n",
       "                                        <catboost.core.CatBoostClassifier object at 0x0000029F8F534FA0>)]),\n",
       "             n_jobs=-1,\n",
       "             param_grid={'cb__depth': [3, 6, 9], 'cb__iterations': [100],\n",
       "                         'cb__learning_rate': [0.01, 0.15]},\n",
       "             scoring='roc_auc')"
      ]
     },
     "execution_count": 49,
     "metadata": {},
     "output_type": "execute_result"
    }
   ],
   "source": [
    "%%time\n",
    "gs_model_cb.fit(X_train, y_train)"
   ]
  },
  {
   "cell_type": "code",
   "execution_count": 50,
   "id": "825c19af-d326-4fcb-8337-eb8c624e1576",
   "metadata": {},
   "outputs": [
    {
     "name": "stdout",
     "output_type": "stream",
     "text": [
      "Best params CatBoostClassifier: {'cb__depth': 9, 'cb__iterations': 100, 'cb__learning_rate': 0.15}\n",
      "ROC-AUC CatBoostClassifier: 0.9491375242712646\n"
     ]
    }
   ],
   "source": [
    "# выведем лучшие значения гиперпараметров, полученные на GridSearch\n",
    "best_model_cb = gs_model_cb.best_estimator_\n",
    "\n",
    "gs_model_cb_best_score = gs_model_cb.best_score_\n",
    "gs_model_cb_best_params = gs_model_cb.best_params_\n",
    "\n",
    "print(f'Best params CatBoostClassifier: {gs_model_cb_best_params}')\n",
    "print(f'ROC-AUC CatBoostClassifier: {gs_model_cb_best_score}')"
   ]
  },
  {
   "cell_type": "code",
   "execution_count": 51,
   "id": "68107339-a206-4db1-b095-266cf7286f7f",
   "metadata": {},
   "outputs": [
    {
     "data": {
      "image/png": "[encoded data removed]",
      "text/plain": [
       "<Figure size 1000x700 with 1 Axes>"
      ]
     },
     "metadata": {},
     "output_type": "display_data"
    }
   ],
   "source": [
    "# построим гистограмму значимости признаков для модели CatBoost\n",
    "# значения отсортированные по возрастанию влияния\n",
    "\n",
    "plt.figure(figsize = (10,7))\n",
    "importances = pd.Series(best_model_cb.named_steps['cb'].feature_importances_,index=best_model_cb['cb'].feature_names_).sort_values()\n",
    "\n",
    "# график\n",
    "importances.plot.barh(grid=True, title='Важность признаков');"
   ]
  },
  {
   "cell_type": "code",
   "execution_count": 52,
   "id": "bf27c30a-b0e0-4464-a2c6-2c802d840aed",
   "metadata": {},
   "outputs": [],
   "source": [
    "predict_test = best_model_cb.predict(X_test)"
   ]
  },
  {
   "cell_type": "code",
   "execution_count": 53,
   "id": "edd04b2f-46e7-4776-85f6-f28d6a3e6c11",
   "metadata": {},
   "outputs": [
    {
     "data": {
      "image/png": "[encoded data removed]",
      "text/plain": [
       "<Figure size 640x480 with 1 Axes>"
      ]
     },
     "metadata": {},
     "output_type": "display_data"
    }
   ],
   "source": [
    "probabilities_test = best_model_cb.predict_proba(X_test)\n",
    "probabilities_one_test = probabilities_test[:, 1]\n",
    "\n",
    "fpr, tpr, thresholds = roc_curve(y_test, probabilities_one_test)\n",
    "plt.figure()\n",
    "plt.plot(fpr, tpr)\n",
    "plt.xlim([0.0, 1.0])\n",
    "plt.ylim([0.0, 1.0])\n",
    "plt.xlabel('False Positive Rate')\n",
    "plt.ylabel('True Positive Rate')\n",
    "plt.title('ROC-кривая')\n",
    "plt.show() "
   ]
  },
  {
   "cell_type": "code",
   "execution_count": 54,
   "id": "46ada07f-0f8f-4dad-a690-b7b63b26accb",
   "metadata": {},
   "outputs": [
    {
     "name": "stdout",
     "output_type": "stream",
     "text": [
      "Accuracy: 0.9007036747458952\n",
      "Полнота: 0.9403567447045708\n",
      "Точность: 0.9198473282442748\n",
      "F1-мера: 0.9299889746416758\n",
      "AUC-ROC:0.9518103538846767\n"
     ]
    }
   ],
   "source": [
    "# рассчитаем дополнительные метрики\n",
    "print(f'Accuracy: {accuracy_score(y_test, predict_test)}')    \n",
    "print(f'Полнота: {recall_score(y_test, predict_test)}')     \n",
    "print(f'Точность: {precision_score(y_test, predict_test)}')  \n",
    "print(f'F1-мера: {f1_score(y_test,predict_test)}')          \n",
    "print(f'AUC-ROC:{roc_auc_score(y_test,probabilities_one_test)}')"
   ]
  },
  {
   "cell_type": "code",
   "execution_count": null,
   "id": "53b59211-7cfe-4158-bbe9-fea773aa56d8",
   "metadata": {},
   "outputs": [],
   "source": []
  },
  {
   "cell_type": "markdown",
   "id": "dc77d560-2326-4c79-9e0f-70cbb8b4247d",
   "metadata": {},
   "source": [
    "**Метрики при удаленных столбцах**\n",
    "df_union = df_union.drop(['original_track_id','track_id','dttm','lyricId','track_remake_type','text','genres'], axis=1)\n",
    "Accuracy: 0.9010946051602815   \n",
    "Полнота: 0.9498327759197325   \n",
    "Точность: 0.9126941617568292   \n",
    "F1-мера: 0.9308931985796232   \n",
    "AUC-ROC:0.9553569344002988   \n",
    "Dummy:0.7010819971320558"
   ]
  },
  {
   "cell_type": "markdown",
   "id": "26fdfd57-6cef-4a4b-8d75-a438292461ff",
   "metadata": {},
   "source": [
    "**Метрики при удаленных столбцах**\n",
    "df_union = df_union.drop(['original_track_id','track_id','dttm','lyricId','track_remake_type','text','genres','isrc'], axis=1)\n",
    "Accuracy: 0.9007036747458952   \n",
    "Полнота: 0.9403567447045708   \n",
    "Точность: 0.9198473282442748   \n",
    "F1-мера: 0.9299889746416758   \n",
    "AUC-ROC:0.9518103538846767   "
   ]
  },
  {
   "cell_type": "code",
   "execution_count": null,
   "id": "cb5d7e43-efa7-4880-a8d7-8a51a5fb2917",
   "metadata": {},
   "outputs": [],
   "source": []
  },
  {
   "cell_type": "code",
   "execution_count": null,
   "id": "ebe30056-3b14-4d06-be7a-185415479904",
   "metadata": {},
   "outputs": [],
   "source": []
  },
  {
   "cell_type": "code",
   "execution_count": 55,
   "id": "a5c99428-2167-4beb-b247-eeaeccdfabcf",
   "metadata": {},
   "outputs": [
    {
     "name": "stdout",
     "output_type": "stream",
     "text": [
      "Dummy:0.7010819971320558\n"
     ]
    }
   ],
   "source": [
    "dummy_model = DummyClassifier(strategy='constant', constant=1)\n",
    "dummy_model.fit(X_train,y_train)\n",
    "print(f'Dummy:{dummy_model.score(X_train,y_train)}')"
   ]
  },
  {
   "cell_type": "code",
   "execution_count": null,
   "id": "c3c259cd-16ac-41ba-838d-f526c15b4216",
   "metadata": {},
   "outputs": [],
   "source": []
  },
  {
   "cell_type": "code",
   "execution_count": null,
   "id": "b0bf19bd-4f81-472c-b889-2281e953dc46",
   "metadata": {},
   "outputs": [],
   "source": []
  }
 ],
 "metadata": {
  "kernelspec": {
   "display_name": "Python 3 (ipykernel)",
   "language": "python",
   "name": "python3"
  },
  "language_info": {
   "codemirror_mode": {
    "name": "ipython",
    "version": 3
   },
   "file_extension": ".py",
   "mimetype": "text/x-python",
   "name": "python",
   "nbconvert_exporter": "python",
   "pygments_lexer": "ipython3",
   "version": "3.9.18"
  }
 },
 "nbformat": 4,
 "nbformat_minor": 5
}

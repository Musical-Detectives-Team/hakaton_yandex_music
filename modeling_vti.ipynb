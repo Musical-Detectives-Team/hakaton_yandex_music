{
 "cells": [
  {
   "cell_type": "markdown",
   "id": "95417828-0cde-4740-9180-cb2ee227732b",
   "metadata": {},
   "source": [
    "# Modeling"
   ]
  },
  {
   "cell_type": "markdown",
   "id": "ef98ef38-a7ec-4f79-9637-eb96650b4af5",
   "metadata": {},
   "source": [
    "Данный ноутбук посвящён вопросам моделинга\n",
    "\n",
    "Как всегда импортируем библиотеки и прописываем пути к файлам"
   ]
  },
  {
   "cell_type": "code",
   "execution_count": 1,
   "id": "26306b5d-aa5f-4b49-a0d1-7e395c10858d",
   "metadata": {},
   "outputs": [
    {
     "name": "stderr",
     "output_type": "stream",
     "text": [
      "C:\\Users\\fudou\\anaconda3\\envs\\ds_practicum_env\\lib\\site-packages\\scipy\\__init__.py:146: UserWarning: A NumPy version >=1.17.3 and <1.25.0 is required for this version of SciPy (detected version 1.26.1\n",
      "  warnings.warn(f\"A NumPy version >={np_minversion} and <{np_maxversion}\"\n"
     ]
    }
   ],
   "source": [
    "import pandas as pd\n",
    "import numpy as np\n",
    "import matplotlib.pyplot as plt\n",
    "import scipy\n",
    "from statistics import mean\n",
    "\n",
    "from tqdm import tqdm\n",
    "import copy\n",
    "\n",
    "import nltk\n",
    "from nltk.corpus import stopwords as nltk_stopwords\n",
    "\n",
    "from sklearn.feature_extraction.text import TfidfVectorizer \n",
    "from sklearn.metrics import f1_score\n",
    "from sklearn.model_selection import cross_val_score, StratifiedKFold, GridSearchCV\n",
    "from sklearn.utils.class_weight import compute_class_weight\n",
    "from sklearn.dummy import DummyClassifier\n",
    "from catboost import CatBoostClassifier\n",
    "\n",
    "from sklearn.model_selection import (\n",
    "    train_test_split,\n",
    "    GridSearchCV,\n",
    ")\n",
    "from sklearn.metrics import (\n",
    "    accuracy_score,\n",
    "    precision_score, \n",
    "    recall_score, \n",
    "    f1_score, \n",
    "    roc_auc_score,\n",
    "    roc_curve, \n",
    "    precision_recall_curve,\n",
    ")\n",
    "\n",
    "from catboost import Pool\n",
    "#import faiss\n",
    "#from faiss import write_index\n",
    "\n",
    "#import picklegj\n",
    "#import pep8\n",
    "\n",
    "from typing import Dict, List, Tuple, Callable\n",
    "RANDOM_STATE = 54321"
   ]
  },
  {
   "cell_type": "code",
   "execution_count": 2,
   "id": "a0bfea50-538a-458e-b20c-a17a519f16e2",
   "metadata": {},
   "outputs": [],
   "source": [
    "PATH_UNITED_DF = 'Untitled Folder 1\\\\united_df.csv'"
   ]
  },
  {
   "cell_type": "markdown",
   "id": "45018155-3a00-4328-b15c-452321a78fa4",
   "metadata": {},
   "source": [
    "Загрузим датасет для обучения и решения первой задачи."
   ]
  },
  {
   "cell_type": "code",
   "execution_count": 3,
   "id": "d65aa400-6535-4d09-ad8a-74c6c13e4059",
   "metadata": {},
   "outputs": [],
   "source": [
    "df_union = pd.read_csv(PATH_UNITED_DF)"
   ]
  },
  {
   "cell_type": "code",
   "execution_count": 4,
   "id": "323b6144-8d30-42b0-aec9-28591049ecd3",
   "metadata": {},
   "outputs": [
    {
     "name": "stdout",
     "output_type": "stream",
     "text": [
      "<class 'pandas.core.frame.DataFrame'>\n",
      "RangeIndex: 71399 entries, 0 to 71398\n",
      "Data columns (total 37 columns):\n",
      " #   Column                Non-Null Count  Dtype  \n",
      "---  ------                --------------  -----  \n",
      " 0   track_id              71399 non-null  object \n",
      " 1   dttm                  71399 non-null  object \n",
      " 2   language              71399 non-null  object \n",
      " 3   duration              71399 non-null  float64\n",
      " 4   original_track_id     4820 non-null   object \n",
      " 5   track_remake_type     71228 non-null  object \n",
      " 6   missing_text          71399 non-null  int64  \n",
      " 7   missing_title         71399 non-null  int64  \n",
      " 8   lemm_text             71399 non-null  object \n",
      " 9   lemm_title            71399 non-null  object \n",
      " 10  missing_isrc          71399 non-null  int64  \n",
      " 11  cat_year_isrc         71399 non-null  object \n",
      " 12  num_year              71399 non-null  int64  \n",
      " 13  country_of_track      71399 non-null  object \n",
      " 14  reg_code              71399 non-null  object \n",
      " 15  genre_FOLK            71399 non-null  int64  \n",
      " 16  genre_LATINFOLK       71399 non-null  int64  \n",
      " 17  genre_POP             71399 non-null  int64  \n",
      " 18  genre_ALLROCK         71399 non-null  int64  \n",
      " 19  genre_ROCK            71399 non-null  int64  \n",
      " 20  genre_ALTERNATIVE     71399 non-null  int64  \n",
      " 21  genre_ELECTRONICS     71399 non-null  int64  \n",
      " 22  genre_SOUNDTRACK      71399 non-null  int64  \n",
      " 23  genre_RAP             71399 non-null  int64  \n",
      " 24  genre_DANCE           71399 non-null  int64  \n",
      " 25  genre_METAL           71399 non-null  int64  \n",
      " 26  genre_CLASSICALMUSIC  71399 non-null  int64  \n",
      " 27  genre_SPIRITUAL       71399 non-null  int64  \n",
      " 28  genre_RUSPOP          71399 non-null  int64  \n",
      " 29  genre_JAZZ            71399 non-null  int64  \n",
      " 30  uncnown_genre         71399 non-null  int64  \n",
      " 31  genre_other           71399 non-null  int64  \n",
      " 32  genre_group_ROCK      71399 non-null  int64  \n",
      " 33  genre_group_RAP       71399 non-null  int64  \n",
      " 34  genre_group_POP       71399 non-null  int64  \n",
      " 35  genre_group_FOLK      71399 non-null  int64  \n",
      " 36  genre_group_RUS       71399 non-null  int64  \n",
      "dtypes: float64(1), int64(26), object(10)\n",
      "memory usage: 20.2+ MB\n"
     ]
    }
   ],
   "source": [
    "df_union.info()"
   ]
  },
  {
   "cell_type": "code",
   "execution_count": 5,
   "id": "b505e075-f7fd-44c8-8cb6-2252ecc39ed9",
   "metadata": {},
   "outputs": [
    {
     "data": {
      "text/plain": [
       "(71399, 37)"
      ]
     },
     "execution_count": 5,
     "metadata": {},
     "output_type": "execute_result"
    }
   ],
   "source": [
    "# проверим размер итоговой таблицы\n",
    "df_union.shape"
   ]
  },
  {
   "cell_type": "code",
   "execution_count": 6,
   "id": "e85aed8d-f601-422d-a786-612e7fc9cebe",
   "metadata": {},
   "outputs": [
    {
     "data": {
      "text/plain": [
       "0"
      ]
     },
     "execution_count": 6,
     "metadata": {},
     "output_type": "execute_result"
    }
   ],
   "source": [
    "# проверим дубликаты по `track_id`\n",
    "df_union['track_id'].duplicated().sum()"
   ]
  },
  {
   "cell_type": "markdown",
   "id": "91508580-b248-4c9d-be83-8f35f29e22de",
   "metadata": {},
   "source": [
    "Перед нами стоит задача бинарной классификации. Явного таргета у нас нет, поэтому нам следует сгенерировать новый бинарный признак по столбцу track_remake_type. Следовательно, создадим новый столбец, где '0' - COVER, а '1' - ORIGINAL. После этого удалить столбец 'track_remake_type'."
   ]
  },
  {
   "cell_type": "code",
   "execution_count": 7,
   "id": "74acc5f7-119d-4f89-95d8-7a17567dae73",
   "metadata": {},
   "outputs": [],
   "source": [
    "df_union['target'] = np.where(df_union['track_remake_type']== 'ORIGINAL',1,0)"
   ]
  },
  {
   "cell_type": "code",
   "execution_count": 8,
   "id": "bd80db97-dca3-4525-b837-576b9e2d7c06",
   "metadata": {},
   "outputs": [
    {
     "data": {
      "text/plain": [
       "track_id                    0\n",
       "dttm                        0\n",
       "language                    0\n",
       "duration                    0\n",
       "original_track_id       66579\n",
       "track_remake_type         171\n",
       "missing_text                0\n",
       "missing_title               0\n",
       "lemm_text                   0\n",
       "lemm_title                  0\n",
       "missing_isrc                0\n",
       "cat_year_isrc               0\n",
       "num_year                    0\n",
       "country_of_track            0\n",
       "reg_code                    0\n",
       "genre_FOLK                  0\n",
       "genre_LATINFOLK             0\n",
       "genre_POP                   0\n",
       "genre_ALLROCK               0\n",
       "genre_ROCK                  0\n",
       "genre_ALTERNATIVE           0\n",
       "genre_ELECTRONICS           0\n",
       "genre_SOUNDTRACK            0\n",
       "genre_RAP                   0\n",
       "genre_DANCE                 0\n",
       "genre_METAL                 0\n",
       "genre_CLASSICALMUSIC        0\n",
       "genre_SPIRITUAL             0\n",
       "genre_RUSPOP                0\n",
       "genre_JAZZ                  0\n",
       "uncnown_genre               0\n",
       "genre_other                 0\n",
       "genre_group_ROCK            0\n",
       "genre_group_RAP             0\n",
       "genre_group_POP             0\n",
       "genre_group_FOLK            0\n",
       "genre_group_RUS             0\n",
       "target                      0\n",
       "dtype: int64"
      ]
     },
     "execution_count": 8,
     "metadata": {},
     "output_type": "execute_result"
    }
   ],
   "source": [
    "# посмотрим пропуски\n",
    "df_union.isna().sum()"
   ]
  },
  {
   "cell_type": "markdown",
   "id": "ecbf63dc-b231-4601-8f7a-dbdf84b73251",
   "metadata": {},
   "source": [
    "## Выбор и обучение моделей\n",
    "\n",
    "Cначала обучим модель, которая будет классифицировать кавер/оригинал.\n",
    "Для решения первой задачи была выбрана модель CatBoostClassifier.\n",
    "Подготовка признаков для обучения моделей."
   ]
  },
  {
   "cell_type": "code",
   "execution_count": 9,
   "id": "160869c8-4d2a-4a92-a247-b817091a79fe",
   "metadata": {},
   "outputs": [
    {
     "name": "stdout",
     "output_type": "stream",
     "text": [
      "Feature names:\n",
      "track_id, dttm, language, duration, original_track_id, track_remake_type, missing_text, missing_title, lemm_text, lemm_title, missing_isrc, cat_year_isrc, num_year, country_of_track, reg_code, genre_FOLK, genre_LATINFOLK, genre_POP, genre_ALLROCK, genre_ROCK, genre_ALTERNATIVE, genre_ELECTRONICS, genre_SOUNDTRACK, genre_RAP, genre_DANCE, genre_METAL, genre_CLASSICALMUSIC, genre_SPIRITUAL, genre_RUSPOP, genre_JAZZ, uncnown_genre, genre_other, genre_group_ROCK, genre_group_RAP, genre_group_POP, genre_group_FOLK, genre_group_RUS, target\n"
     ]
    }
   ],
   "source": [
    "# получим названия столбцов\n",
    "print('Feature names:\\n' + ', '.join(list(df_union)))"
   ]
  },
  {
   "cell_type": "code",
   "execution_count": 10,
   "id": "eeb58084-b6ed-4db7-9013-5e22c911fdd0",
   "metadata": {},
   "outputs": [],
   "source": [
    "# удалим неинформативные столбцы\n",
    "df_union = df_union.drop(['original_track_id','track_id','track_remake_type'], axis=1)"
   ]
  },
  {
   "cell_type": "code",
   "execution_count": 11,
   "id": "998a6ba7-29cc-4cdc-9b5f-15129cfcb4dd",
   "metadata": {},
   "outputs": [],
   "source": [
    "# cоздадим переменные для признаков и целевого признака\n",
    "X = df_union.drop('target', axis=1)\n",
    "y = df_union['target']"
   ]
  },
  {
   "cell_type": "markdown",
   "id": "3611f032-ef92-46fd-94f9-b8fbeb7d11fa",
   "metadata": {},
   "source": [
    "Далее разобьем данные на выборки. Разделим исходные данные на обучающую и тестовую выборки. Данные разобьем на 2 части, в соотношении 80:10. Добавим аргумент stratify, он позволит сохранить изначальное распределение таргетов во всех новых датасетах. Существующий дисбаланс никуда не денется, но в каждом датасете он будет одинаковым."
   ]
  },
  {
   "cell_type": "code",
   "execution_count": 12,
   "id": "f9744e59-52e7-4233-902e-f8f07b664e0e",
   "metadata": {},
   "outputs": [],
   "source": [
    "X_train, X_test, y_train, y_test = train_test_split(\n",
    "    X, y, test_size=0.1, random_state=RANDOM_STATE,stratify = y\n",
    ")"
   ]
  },
  {
   "cell_type": "code",
   "execution_count": 13,
   "id": "92058711-011a-4cd1-8031-7b098687f111",
   "metadata": {},
   "outputs": [
    {
     "data": {
      "text/plain": [
       "((64259, 34), (64259,), (7140, 34), (7140,))"
      ]
     },
     "execution_count": 13,
     "metadata": {},
     "output_type": "execute_result"
    }
   ],
   "source": [
    "# выведем на экран размеры таблиц, которые хранятся в 4-х переменных \n",
    "X_train.shape,y_train.shape,X_test.shape,y_test.shape"
   ]
  },
  {
   "cell_type": "markdown",
   "id": "385bb447-fc54-42b9-914d-79240c40f432",
   "metadata": {},
   "source": [
    "**Построим Baseline модель для последующей проверки наших моделей на адекватность**"
   ]
  },
  {
   "cell_type": "code",
   "execution_count": 14,
   "id": "8607e871-f1fc-480a-b58b-480cd9cdaa5c",
   "metadata": {},
   "outputs": [
    {
     "name": "stdout",
     "output_type": "stream",
     "text": [
      "Dummy:0.9398839073125943\n"
     ]
    }
   ],
   "source": [
    "dummy_model = DummyClassifier(strategy='constant', constant=0)\n",
    "dummy_model.fit(X_train,y_train)\n",
    "print(f'Dummy:{dummy_model.score(X_train,y_train)}')"
   ]
  },
  {
   "cell_type": "code",
   "execution_count": 15,
   "id": "17904885-e417-435a-8457-226f52cb6e8f",
   "metadata": {},
   "outputs": [],
   "source": [
    "# численные признаки\n",
    "#num_cols = X_train.select_dtypes(exclude='object').columns.to_list()\n",
    "num_cols =  ['duration','num_year']"
   ]
  },
  {
   "cell_type": "code",
   "execution_count": 16,
   "id": "6241c93b-ecad-4996-b655-95c673273416",
   "metadata": {},
   "outputs": [],
   "source": [
    "cat_features = ['language','country_of_track','reg_code','cat_year_isrc','missing_text','missing_title',\n",
    "             'missing_isrc','genre_FOLK',\n",
    " 'genre_LATINFOLK',\n",
    " 'genre_POP',\n",
    " 'genre_ALLROCK',\n",
    " 'genre_ROCK',\n",
    " 'genre_ALTERNATIVE',\n",
    " 'genre_ELECTRONICS',\n",
    " 'genre_SOUNDTRACK',\n",
    " 'genre_RAP',\n",
    " 'genre_DANCE',\n",
    " 'genre_METAL',\n",
    " 'genre_CLASSICALMUSIC',\n",
    " 'genre_SPIRITUAL',\n",
    " 'genre_RUSPOP',\n",
    " 'genre_JAZZ',\n",
    " 'uncnown_genre',\n",
    " 'genre_other',\n",
    " 'genre_group_ROCK',\n",
    " 'genre_group_RAP',\n",
    " 'genre_group_POP',\n",
    " 'genre_group_FOLK',\n",
    " 'genre_group_RUS']\n",
    "text_features = ['lemm_title','lemm_text']"
   ]
  },
  {
   "cell_type": "code",
   "execution_count": 17,
   "id": "da9ae2ee-9751-4a26-a328-c924dde7f0a1",
   "metadata": {},
   "outputs": [],
   "source": [
    "def fit_catboost(X_train, X_test, y_train, y_test, catboost_params={}, verbose=100):\n",
    "    learn_pool = Pool(\n",
    "        X_train, \n",
    "        y_train, \n",
    "        cat_features=cat_features,\n",
    "        text_features=text_features,\n",
    "        feature_names=list(X_train)\n",
    "    )\n",
    "    test_pool = Pool(\n",
    "        X_test, \n",
    "        y_test, \n",
    "        cat_features=cat_features,\n",
    "        text_features=text_features,\n",
    "        feature_names=list(X_train)\n",
    "    )\n",
    "    \n",
    "    catboost_default_params = {\n",
    "        'iterations': 1000,\n",
    "        'learning_rate': 0.03,\n",
    "        'eval_metric': 'AUC',\n",
    "       \n",
    "    }\n",
    "    \n",
    "    catboost_default_params.update(catboost_params)\n",
    "    \n",
    "    model = CatBoostClassifier(**catboost_default_params)\n",
    "    model.fit(learn_pool, eval_set=test_pool, verbose=verbose)\n",
    "\n",
    "    return model"
   ]
  },
  {
   "cell_type": "code",
   "execution_count": 18,
   "id": "426f3723-e0c9-4987-aacc-47987591401d",
   "metadata": {},
   "outputs": [
    {
     "name": "stdout",
     "output_type": "stream",
     "text": [
      "Unexpected exception formatting exception. Falling back to standard exception\n"
     ]
    },
    {
     "name": "stderr",
     "output_type": "stream",
     "text": [
      "Traceback (most recent call last):\n",
      "  File \"C:\\Users\\fudou\\anaconda3\\envs\\ds_practicum_env\\lib\\site-packages\\IPython\\core\\interactiveshell.py\", line 3526, in run_code\n",
      "    exec(code_obj, self.user_global_ns, self.user_ns)\n",
      "  File \"C:\\Users\\fudou\\AppData\\Local\\Temp\\ipykernel_13796\\391265733.py\", line 1, in <module>\n",
      "    model = fit_catboost(X_train, X_test, y_train, y_test)\n",
      "  File \"C:\\Users\\fudou\\AppData\\Local\\Temp\\ipykernel_13796\\3040684956.py\", line 2, in fit_catboost\n",
      "    learn_pool = Pool(\n",
      "  File \"C:\\Users\\fudou\\anaconda3\\envs\\ds_practicum_env\\lib\\site-packages\\catboost\\core.py\", line 628, in __init__\n",
      "    self._init(data, label, cat_features, text_features, embedding_features, pairs, weight, group_id, group_weight, subgroup_id, pairs_weight, baseline, timestamp, feature_names, thread_count)\n",
      "  File \"C:\\Users\\fudou\\anaconda3\\envs\\ds_practicum_env\\lib\\site-packages\\catboost\\core.py\", line 1171, in _init\n",
      "    self._init_pool(data, label, cat_features, text_features, embedding_features, pairs, weight, group_id, group_weight, subgroup_id, pairs_weight, baseline, timestamp, feature_names, thread_count)\n",
      "  File \"_catboost.pyx\", line 3755, in _catboost._PoolBase._init_pool\n",
      "  File \"_catboost.pyx\", line 3803, in _catboost._PoolBase._init_pool\n",
      "  File \"_catboost.pyx\", line 3638, in _catboost._PoolBase._init_features_order_layout_pool\n",
      "  File \"_catboost.pyx\", line 2607, in _catboost._set_features_order_data_pd_data_frame\n",
      "  File \"C:\\Users\\fudou\\anaconda3\\envs\\ds_practicum_env\\lib\\site-packages\\pandas\\core\\generic.py\", line 6204, in __getattr__\n",
      "    return object.__getattribute__(self, name)\n",
      "AttributeError: 'DataFrame' object has no attribute 'iteritems'\n",
      "\n",
      "During handling of the above exception, another exception occurred:\n",
      "\n",
      "Traceback (most recent call last):\n",
      "  File \"C:\\Users\\fudou\\anaconda3\\envs\\ds_practicum_env\\lib\\site-packages\\IPython\\core\\interactiveshell.py\", line 2120, in showtraceback\n",
      "    stb = self.InteractiveTB.structured_traceback(\n",
      "  File \"C:\\Users\\fudou\\anaconda3\\envs\\ds_practicum_env\\lib\\site-packages\\IPython\\core\\ultratb.py\", line 1435, in structured_traceback\n",
      "    return FormattedTB.structured_traceback(\n",
      "  File \"C:\\Users\\fudou\\anaconda3\\envs\\ds_practicum_env\\lib\\site-packages\\IPython\\core\\ultratb.py\", line 1326, in structured_traceback\n",
      "    return VerboseTB.structured_traceback(\n",
      "  File \"C:\\Users\\fudou\\anaconda3\\envs\\ds_practicum_env\\lib\\site-packages\\IPython\\core\\ultratb.py\", line 1173, in structured_traceback\n",
      "    formatted_exception = self.format_exception_as_a_whole(etype, evalue, etb, number_of_lines_of_context,\n",
      "  File \"C:\\Users\\fudou\\anaconda3\\envs\\ds_practicum_env\\lib\\site-packages\\IPython\\core\\ultratb.py\", line 1063, in format_exception_as_a_whole\n",
      "    self.get_records(etb, number_of_lines_of_context, tb_offset) if etb else []\n",
      "  File \"C:\\Users\\fudou\\anaconda3\\envs\\ds_practicum_env\\lib\\site-packages\\IPython\\core\\ultratb.py\", line 1155, in get_records\n",
      "    FrameInfo(\n",
      "  File \"C:\\Users\\fudou\\anaconda3\\envs\\ds_practicum_env\\lib\\site-packages\\IPython\\core\\ultratb.py\", line 780, in __init__\n",
      "    ix = inspect.getsourcelines(frame)\n",
      "  File \"C:\\Users\\fudou\\anaconda3\\envs\\ds_practicum_env\\lib\\inspect.py\", line 1006, in getsourcelines\n",
      "    lines, lnum = findsource(object)\n",
      "  File \"C:\\Users\\fudou\\anaconda3\\envs\\ds_practicum_env\\lib\\inspect.py\", line 827, in findsource\n",
      "    raise OSError('source code not available')\n",
      "OSError: source code not available\n"
     ]
    }
   ],
   "source": [
    "model = fit_catboost(X_train, X_test, y_train, y_test)"
   ]
  },
  {
   "cell_type": "markdown",
   "id": "56d101c4-647d-443e-8851-52cd451ced97",
   "metadata": {},
   "source": [
    "**class_weight='balanced' добавить**"
   ]
  },
  {
   "cell_type": "code",
   "execution_count": null,
   "id": "6b6b6ed4-af6f-4ac4-8710-45389718cb1c",
   "metadata": {},
   "outputs": [],
   "source": [
    "# Получение важности признаков и построение графика\n",
    "def get_feature_importance(model, feature_names):\n",
    "    feature_importance_df = pd.DataFrame(\n",
    "        {'feature': feature_names, 'importance': model.feature_importances_}\n",
    "    )\n",
    "    feature_importance_df = feature_importance_df.sort_values(\n",
    "        by='importance', ascending=False\n",
    "    ).reset_index(drop=True)\n",
    "    \n",
    "    # График\n",
    "    plt.figure(figsize=(10, 7))\n",
    "    importances = pd.Series(model.feature_importances_, index=feature_names).sort_values()\n",
    "    importances.plot.barh(grid=True, title='Важность признаков')\n",
    "    plt.show()\n",
    "    \n",
    "    return feature_importance_df\n",
    "\n",
    "# Получение важности признаков и построение графика\n",
    "feature_importance = get_feature_importance(model, list(X_train))\n",
    "\n",
    "print(feature_importance)"
   ]
  },
  {
   "cell_type": "markdown",
   "id": "ffc10cf7-4890-407c-86f7-b7c801c38651",
   "metadata": {},
   "source": [
    "Определять качество модели будем на кроссвалидации, для разделения на фолды будем использовать StratifiedKFold.\n",
    "Код не проверен."
   ]
  },
  {
   "cell_type": "code",
   "execution_count": null,
   "id": "7be02242-2085-4867-a4b1-344798ea0469",
   "metadata": {},
   "outputs": [],
   "source": [
    "skf = StratifiedKFold(n_splits=4)\n",
    "folds = skf.split(X_train, y_train)"
   ]
  },
  {
   "cell_type": "code",
   "execution_count": null,
   "id": "6cda1dcc-7bc3-424d-aa91-69954056da99",
   "metadata": {},
   "outputs": [],
   "source": [
    "%%time\n",
    "cvs = cross_val_score(cat_model, X_train, y_train, cv=folds, scoring='f1')\n",
    "print(f'Метрика f1 на кроссвалидации {cvs}')\n",
    "print(f'Среднее значение f1 на всём датасете {mean(cvs)}')"
   ]
  },
  {
   "cell_type": "code",
   "execution_count": null,
   "id": "1049a147-7349-4df1-8f38-18f9e94ec24f",
   "metadata": {},
   "outputs": [],
   "source": [
    "# рассчитаем дополнительные метрики\n",
    "print(f'Accuracy: {accuracy_score(y_test, predict_test)}')    \n",
    "print(f'Полнота: {recall_score(y_test, predict_test)}')     \n",
    "print(f'Точность: {precision_score(y_test, predict_test)}')  \n",
    "print(f'F1-мера: {f1_score(y_test,predict_test)}')          \n",
    "print(f'AUC-ROC:{roc_auc_score(y_test,probabilities_one_test)}')"
   ]
  }
 ],
 "metadata": {
  "kernelspec": {
   "display_name": "Python 3 (ipykernel)",
   "language": "python",
   "name": "python3"
  },
  "language_info": {
   "codemirror_mode": {
    "name": "ipython",
    "version": 3
   },
   "file_extension": ".py",
   "mimetype": "text/x-python",
   "name": "python",
   "nbconvert_exporter": "python",
   "pygments_lexer": "ipython3",
   "version": "3.9.18"
  }
 },
 "nbformat": 4,
 "nbformat_minor": 5
}

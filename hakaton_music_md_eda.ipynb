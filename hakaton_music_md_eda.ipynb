{
 "cells": [
  {
   "cell_type": "markdown",
   "id": "9f3f53f9",
   "metadata": {
    "toc": true
   },
   "source": [
    "<h1>Table of Contents<span class=\"tocSkip\"></span></h1>\n",
    "<div class=\"toc\"><ul class=\"toc-item\"><li><span><a href=\"#Введение\" data-toc-modified-id=\"Введение-1\"><span class=\"toc-item-num\">1&nbsp;&nbsp;</span>Введение</a></span></li><li><span><a href=\"#Библиотеки-и-настройки\" data-toc-modified-id=\"Библиотеки-и-настройки-2\"><span class=\"toc-item-num\">2&nbsp;&nbsp;</span>Библиотеки и настройки</a></span><ul class=\"toc-item\"><li><span><a href=\"#Библиотеки\" data-toc-modified-id=\"Библиотеки-2.1\"><span class=\"toc-item-num\">2.1&nbsp;&nbsp;</span>Библиотеки</a></span></li><li><span><a href=\"#Настройки\" data-toc-modified-id=\"Настройки-2.2\"><span class=\"toc-item-num\">2.2&nbsp;&nbsp;</span>Настройки</a></span></li></ul></li><li><span><a href=\"#Первичный-анализ-данных\" data-toc-modified-id=\"Первичный-анализ-данных-3\"><span class=\"toc-item-num\">3&nbsp;&nbsp;</span>Первичный анализ данных</a></span><ul class=\"toc-item\"><li><span><a href=\"#Загрузка-данных\" data-toc-modified-id=\"Загрузка-данных-3.1\"><span class=\"toc-item-num\">3.1&nbsp;&nbsp;</span>Загрузка данных</a></span></li><li><span><a href=\"#Анализ-covers\" data-toc-modified-id=\"Анализ-covers-3.2\"><span class=\"toc-item-num\">3.2&nbsp;&nbsp;</span>Анализ covers</a></span></li></ul></li><li><span><a href=\"#Предобработка-данных\" data-toc-modified-id=\"Предобработка-данных-4\"><span class=\"toc-item-num\">4&nbsp;&nbsp;</span>Предобработка данных</a></span></li><li><span><a href=\"#Формализация-задачи,-Гипотезы\" data-toc-modified-id=\"Формализация-задачи,-Гипотезы-5\"><span class=\"toc-item-num\">5&nbsp;&nbsp;</span>Формализация задачи, Гипотезы</a></span></li><li><span><a href=\"#Модели\" data-toc-modified-id=\"Модели-6\"><span class=\"toc-item-num\">6&nbsp;&nbsp;</span>Модели</a></span></li><li><span><a href=\"#Вывод\" data-toc-modified-id=\"Вывод-7\"><span class=\"toc-item-num\">7&nbsp;&nbsp;</span>Вывод</a></span></li></ul></div>"
   ]
  },
  {
   "cell_type": "markdown",
   "id": "61f1069f",
   "metadata": {},
   "source": [
    "## Введение"
   ]
  },
  {
   "cell_type": "markdown",
   "id": "8f02184a",
   "metadata": {},
   "source": [
    "**Данные:**\n",
    "\n",
    "**Разметка каверов**\n",
    "\n",
    "Файл covers.json содержит разметку каверов, сделанную редакторами сервиса:\n",
    "\n",
    "- track_id - уникальный идентификатор трека;\n",
    "- track_remake_type - метка, присвоенная редакторами. Может принимать значения ORIGINAL и COVER;\n",
    "- original_track_id - уникальный идентификатор исходного трека.\n",
    "\n",
    "💡 Обратите внимание, что не для всех каверов известны идентификаторы исходных треков!!!\n",
    "\n",
    "**Метаинформация**\n",
    "\n",
    "- track_id - уникальный идентификатор трека;\n",
    "- dttm - первая дата появления информации о треке;\n",
    "- title - название трека;\n",
    "- language - язык исполнения;\n",
    "- isrc - международный уникальный идентификатор трека;\n",
    "- genres - жанры;\n",
    "- duration - длительность трека;\n",
    "\n",
    "**Текст песен**\n",
    "\n",
    "- track_id - уникальный идентификатор трека;\n",
    "- lyricId - уникальный идентификатор текста;\n",
    "- text - текст трека."
   ]
  },
  {
   "cell_type": "markdown",
   "id": "35593d6f",
   "metadata": {},
   "source": [
    "## Библиотеки и настройки"
   ]
  },
  {
   "cell_type": "markdown",
   "id": "791312da",
   "metadata": {},
   "source": [
    "### Библиотеки"
   ]
  },
  {
   "cell_type": "code",
   "execution_count": 28,
   "id": "f3a5f0e6",
   "metadata": {
    "ExecuteTime": {
     "end_time": "2023-10-25T10:20:52.855684Z",
     "start_time": "2023-10-25T10:20:49.501722Z"
    }
   },
   "outputs": [
    {
     "name": "stdout",
     "output_type": "stream",
     "text": [
      "Requirement already satisfied: pillow in /home/tomasha1980/anaconda3/envs/ds_practicum_env/lib/python3.9/site-packages (8.4.0)\n",
      "Collecting pillow\n",
      "  Obtaining dependency information for pillow from https://files.pythonhosted.org/packages/5c/dc/acccca38a87272cb2eed372f112595439418dfb6119770b04dc06d3b78bd/Pillow-10.1.0-cp39-cp39-manylinux_2_28_x86_64.whl.metadata\n",
      "  Downloading Pillow-10.1.0-cp39-cp39-manylinux_2_28_x86_64.whl.metadata (9.5 kB)\n",
      "Downloading Pillow-10.1.0-cp39-cp39-manylinux_2_28_x86_64.whl (3.6 MB)\n",
      "\u001b[2K   \u001b[38;2;114;156;31m━━━━━━━━━━━━━━━━━━━━━━━━━━━━━━━━━━━━━━━━\u001b[0m \u001b[32m3.6/3.6 MB\u001b[0m \u001b[31m8.4 MB/s\u001b[0m eta \u001b[36m0:00:00\u001b[0m0m eta \u001b[36m0:00:01\u001b[0m0:01\u001b[0m:01\u001b[0m\n",
      "\u001b[?25h\u001b[33mWARNING: Error parsing requirements for jupyter-highlight-selected-word: [Errno 2] Нет такого файла или каталога: '/home/tomasha1980/anaconda3/envs/ds_practicum_env/lib/python3.9/site-packages/jupyter_highlight_selected_word-0.2.0.dist-info/METADATA'\u001b[0m\u001b[33m\n",
      "\u001b[0mInstalling collected packages: pillow\n",
      "  Attempting uninstall: pillow\n",
      "    Found existing installation: Pillow 8.4.0\n",
      "    Uninstalling Pillow-8.4.0:\n",
      "      Successfully uninstalled Pillow-8.4.0\n",
      "Successfully installed pillow-10.1.0\n"
     ]
    }
   ],
   "source": [
    "!pip install --upgrade pillow"
   ]
  },
  {
   "cell_type": "code",
   "execution_count": 29,
   "id": "8e05cb52",
   "metadata": {
    "ExecuteTime": {
     "end_time": "2023-10-25T10:20:59.034603Z",
     "start_time": "2023-10-25T10:20:57.135491Z"
    }
   },
   "outputs": [
    {
     "name": "stdout",
     "output_type": "stream",
     "text": [
      "Requirement already satisfied: ydata_profiling in /home/tomasha1980/anaconda3/envs/ds_practicum_env/lib/python3.9/site-packages (4.6.1)\n",
      "Requirement already satisfied: scipy<1.12,>=1.4.1 in /home/tomasha1980/anaconda3/envs/ds_practicum_env/lib/python3.9/site-packages (from ydata_profiling) (1.8.0)\n",
      "Requirement already satisfied: pandas!=1.4.0,<2.1,>1.1 in /home/tomasha1980/anaconda3/envs/ds_practicum_env/lib/python3.9/site-packages (from ydata_profiling) (2.0.3)\n",
      "Requirement already satisfied: matplotlib<=3.7.3,>=3.2 in /home/tomasha1980/anaconda3/envs/ds_practicum_env/lib/python3.9/site-packages (from ydata_profiling) (3.3.4)\n",
      "Requirement already satisfied: pydantic>=2 in /home/tomasha1980/anaconda3/envs/ds_practicum_env/lib/python3.9/site-packages (from ydata_profiling) (2.4.2)\n",
      "Requirement already satisfied: PyYAML<6.1,>=5.0.0 in /home/tomasha1980/anaconda3/envs/ds_practicum_env/lib/python3.9/site-packages (from ydata_profiling) (6.0)\n",
      "Requirement already satisfied: jinja2<3.2,>=2.11.1 in /home/tomasha1980/anaconda3/envs/ds_practicum_env/lib/python3.9/site-packages (from ydata_profiling) (3.1.2)\n",
      "Requirement already satisfied: visions[type_image_path]==0.7.5 in /home/tomasha1980/anaconda3/envs/ds_practicum_env/lib/python3.9/site-packages (from ydata_profiling) (0.7.5)\n",
      "Requirement already satisfied: numpy<1.26,>=1.16.0 in /home/tomasha1980/anaconda3/envs/ds_practicum_env/lib/python3.9/site-packages (from ydata_profiling) (1.24.4)\n",
      "Requirement already satisfied: htmlmin==0.1.12 in /home/tomasha1980/anaconda3/envs/ds_practicum_env/lib/python3.9/site-packages (from ydata_profiling) (0.1.12)\n",
      "Requirement already satisfied: phik<0.13,>=0.11.1 in /home/tomasha1980/anaconda3/envs/ds_practicum_env/lib/python3.9/site-packages (from ydata_profiling) (0.12.3)\n",
      "Requirement already satisfied: requests<3,>=2.24.0 in /home/tomasha1980/anaconda3/envs/ds_practicum_env/lib/python3.9/site-packages (from ydata_profiling) (2.31.0)\n",
      "Requirement already satisfied: tqdm<5,>=4.48.2 in /home/tomasha1980/anaconda3/envs/ds_practicum_env/lib/python3.9/site-packages (from ydata_profiling) (4.66.1)\n",
      "Requirement already satisfied: seaborn<0.13,>=0.10.1 in /home/tomasha1980/anaconda3/envs/ds_practicum_env/lib/python3.9/site-packages (from ydata_profiling) (0.11.1)\n",
      "Requirement already satisfied: multimethod<2,>=1.4 in /home/tomasha1980/anaconda3/envs/ds_practicum_env/lib/python3.9/site-packages (from ydata_profiling) (1.10)\n",
      "Requirement already satisfied: statsmodels<1,>=0.13.2 in /home/tomasha1980/anaconda3/envs/ds_practicum_env/lib/python3.9/site-packages (from ydata_profiling) (0.13.2)\n",
      "Requirement already satisfied: typeguard<5,>=4.1.2 in /home/tomasha1980/anaconda3/envs/ds_practicum_env/lib/python3.9/site-packages (from ydata_profiling) (4.1.5)\n",
      "Requirement already satisfied: imagehash==4.3.1 in /home/tomasha1980/anaconda3/envs/ds_practicum_env/lib/python3.9/site-packages (from ydata_profiling) (4.3.1)\n",
      "Requirement already satisfied: wordcloud>=1.9.1 in /home/tomasha1980/anaconda3/envs/ds_practicum_env/lib/python3.9/site-packages (from ydata_profiling) (1.9.2)\n",
      "Requirement already satisfied: dacite>=1.8 in /home/tomasha1980/anaconda3/envs/ds_practicum_env/lib/python3.9/site-packages (from ydata_profiling) (1.8.1)\n",
      "Requirement already satisfied: numba<0.59.0,>=0.56.0 in /home/tomasha1980/anaconda3/envs/ds_practicum_env/lib/python3.9/site-packages (from ydata_profiling) (0.58.1)\n",
      "Requirement already satisfied: PyWavelets in /home/tomasha1980/anaconda3/envs/ds_practicum_env/lib/python3.9/site-packages (from imagehash==4.3.1->ydata_profiling) (1.4.1)\n",
      "Requirement already satisfied: pillow in /home/tomasha1980/anaconda3/envs/ds_practicum_env/lib/python3.9/site-packages (from imagehash==4.3.1->ydata_profiling) (10.1.0)\n",
      "Requirement already satisfied: attrs>=19.3.0 in /home/tomasha1980/anaconda3/envs/ds_practicum_env/lib/python3.9/site-packages (from visions[type_image_path]==0.7.5->ydata_profiling) (23.1.0)\n",
      "Requirement already satisfied: networkx>=2.4 in /home/tomasha1980/anaconda3/envs/ds_practicum_env/lib/python3.9/site-packages (from visions[type_image_path]==0.7.5->ydata_profiling) (3.2)\n",
      "Requirement already satisfied: tangled-up-in-unicode>=0.0.4 in /home/tomasha1980/anaconda3/envs/ds_practicum_env/lib/python3.9/site-packages (from visions[type_image_path]==0.7.5->ydata_profiling) (0.2.0)\n",
      "Requirement already satisfied: MarkupSafe>=2.0 in /home/tomasha1980/anaconda3/envs/ds_practicum_env/lib/python3.9/site-packages (from jinja2<3.2,>=2.11.1->ydata_profiling) (2.1.1)\n",
      "Requirement already satisfied: cycler>=0.10 in /home/tomasha1980/anaconda3/envs/ds_practicum_env/lib/python3.9/site-packages (from matplotlib<=3.7.3,>=3.2->ydata_profiling) (0.12.0)\n",
      "Requirement already satisfied: kiwisolver>=1.0.1 in /home/tomasha1980/anaconda3/envs/ds_practicum_env/lib/python3.9/site-packages (from matplotlib<=3.7.3,>=3.2->ydata_profiling) (1.4.5)\n",
      "Requirement already satisfied: pyparsing!=2.0.4,!=2.1.2,!=2.1.6,>=2.0.3 in /home/tomasha1980/anaconda3/envs/ds_practicum_env/lib/python3.9/site-packages (from matplotlib<=3.7.3,>=3.2->ydata_profiling) (3.1.1)\n",
      "Requirement already satisfied: python-dateutil>=2.1 in /home/tomasha1980/anaconda3/envs/ds_practicum_env/lib/python3.9/site-packages (from matplotlib<=3.7.3,>=3.2->ydata_profiling) (2.8.2)\n",
      "Requirement already satisfied: llvmlite<0.42,>=0.41.0dev0 in /home/tomasha1980/anaconda3/envs/ds_practicum_env/lib/python3.9/site-packages (from numba<0.59.0,>=0.56.0->ydata_profiling) (0.41.1)\n",
      "Requirement already satisfied: pytz>=2020.1 in /home/tomasha1980/anaconda3/envs/ds_practicum_env/lib/python3.9/site-packages (from pandas!=1.4.0,<2.1,>1.1->ydata_profiling) (2023.3.post1)\n",
      "Requirement already satisfied: tzdata>=2022.1 in /home/tomasha1980/anaconda3/envs/ds_practicum_env/lib/python3.9/site-packages (from pandas!=1.4.0,<2.1,>1.1->ydata_profiling) (2023.3)\n",
      "Requirement already satisfied: joblib>=0.14.1 in /home/tomasha1980/anaconda3/envs/ds_practicum_env/lib/python3.9/site-packages (from phik<0.13,>=0.11.1->ydata_profiling) (1.3.2)\n",
      "Requirement already satisfied: annotated-types>=0.4.0 in /home/tomasha1980/anaconda3/envs/ds_practicum_env/lib/python3.9/site-packages (from pydantic>=2->ydata_profiling) (0.6.0)\n",
      "Requirement already satisfied: pydantic-core==2.10.1 in /home/tomasha1980/anaconda3/envs/ds_practicum_env/lib/python3.9/site-packages (from pydantic>=2->ydata_profiling) (2.10.1)\n",
      "Requirement already satisfied: typing-extensions>=4.6.1 in /home/tomasha1980/anaconda3/envs/ds_practicum_env/lib/python3.9/site-packages (from pydantic>=2->ydata_profiling) (4.7.1)\n",
      "Requirement already satisfied: charset-normalizer<4,>=2 in /home/tomasha1980/anaconda3/envs/ds_practicum_env/lib/python3.9/site-packages (from requests<3,>=2.24.0->ydata_profiling) (2.0.4)\n",
      "Requirement already satisfied: idna<4,>=2.5 in /home/tomasha1980/anaconda3/envs/ds_practicum_env/lib/python3.9/site-packages (from requests<3,>=2.24.0->ydata_profiling) (3.4)\n",
      "Requirement already satisfied: urllib3<3,>=1.21.1 in /home/tomasha1980/anaconda3/envs/ds_practicum_env/lib/python3.9/site-packages (from requests<3,>=2.24.0->ydata_profiling) (2.0.3)\n",
      "Requirement already satisfied: certifi>=2017.4.17 in /home/tomasha1980/anaconda3/envs/ds_practicum_env/lib/python3.9/site-packages (from requests<3,>=2.24.0->ydata_profiling) (2023.7.22)\n",
      "Requirement already satisfied: patsy>=0.5.2 in /home/tomasha1980/anaconda3/envs/ds_practicum_env/lib/python3.9/site-packages (from statsmodels<1,>=0.13.2->ydata_profiling) (0.5.3)\n",
      "Requirement already satisfied: packaging>=21.3 in /home/tomasha1980/anaconda3/envs/ds_practicum_env/lib/python3.9/site-packages (from statsmodels<1,>=0.13.2->ydata_profiling) (23.1)\n",
      "Requirement already satisfied: importlib-metadata>=3.6 in /home/tomasha1980/anaconda3/envs/ds_practicum_env/lib/python3.9/site-packages (from typeguard<5,>=4.1.2->ydata_profiling) (6.0.0)\n",
      "Requirement already satisfied: zipp>=0.5 in /home/tomasha1980/anaconda3/envs/ds_practicum_env/lib/python3.9/site-packages (from importlib-metadata>=3.6->typeguard<5,>=4.1.2->ydata_profiling) (3.11.0)\n",
      "Requirement already satisfied: six in /home/tomasha1980/anaconda3/envs/ds_practicum_env/lib/python3.9/site-packages (from patsy>=0.5.2->statsmodels<1,>=0.13.2->ydata_profiling) (1.16.0)\n"
     ]
    },
    {
     "name": "stdout",
     "output_type": "stream",
     "text": [
      "\u001b[33mWARNING: Error parsing requirements for jupyter-highlight-selected-word: [Errno 2] Нет такого файла или каталога: '/home/tomasha1980/anaconda3/envs/ds_practicum_env/lib/python3.9/site-packages/jupyter_highlight_selected_word-0.2.0.dist-info/METADATA'\u001b[0m\u001b[33m\r\n",
      "\u001b[0m"
     ]
    }
   ],
   "source": [
    "!pip install ydata_profiling -U"
   ]
  },
  {
   "cell_type": "code",
   "execution_count": 32,
   "id": "a9e07f28",
   "metadata": {
    "ExecuteTime": {
     "end_time": "2023-10-25T10:26:43.688246Z",
     "start_time": "2023-10-25T10:26:38.972572Z"
    }
   },
   "outputs": [
    {
     "name": "stdout",
     "output_type": "stream",
     "text": [
      "Collecting ipywidgets\n",
      "  Obtaining dependency information for ipywidgets from https://files.pythonhosted.org/packages/4a/0e/57ed498fafbc60419a9332d872e929879ceba2d73cb11d284d7112472b3e/ipywidgets-8.1.1-py3-none-any.whl.metadata\n",
      "  Downloading ipywidgets-8.1.1-py3-none-any.whl.metadata (2.4 kB)\n",
      "Collecting comm>=0.1.3 (from ipywidgets)\n",
      "  Obtaining dependency information for comm>=0.1.3 from https://files.pythonhosted.org/packages/fe/47/0133ac1b7dc476ed77710715e98077119b3d9bae56b13f6f9055e7da1c53/comm-0.1.4-py3-none-any.whl.metadata\n",
      "  Downloading comm-0.1.4-py3-none-any.whl.metadata (4.2 kB)\n",
      "Requirement already satisfied: ipython>=6.1.0 in /home/tomasha1980/anaconda3/envs/ds_practicum_env/lib/python3.9/site-packages (from ipywidgets) (8.16.0)\n",
      "Requirement already satisfied: traitlets>=4.3.1 in /home/tomasha1980/anaconda3/envs/ds_practicum_env/lib/python3.9/site-packages (from ipywidgets) (5.7.1)\n",
      "Collecting widgetsnbextension~=4.0.9 (from ipywidgets)\n",
      "  Obtaining dependency information for widgetsnbextension~=4.0.9 from https://files.pythonhosted.org/packages/29/03/107d96077c4befed191f7ad1a12c7b52a8f9d2778a5836d59f9855c105f6/widgetsnbextension-4.0.9-py3-none-any.whl.metadata\n",
      "  Downloading widgetsnbextension-4.0.9-py3-none-any.whl.metadata (1.6 kB)\n",
      "Collecting jupyterlab-widgets~=3.0.9 (from ipywidgets)\n",
      "  Obtaining dependency information for jupyterlab-widgets~=3.0.9 from https://files.pythonhosted.org/packages/e8/05/0ebab152288693b5ec7b339aab857362947031143b282853b4c2dd4b5b40/jupyterlab_widgets-3.0.9-py3-none-any.whl.metadata\n",
      "  Downloading jupyterlab_widgets-3.0.9-py3-none-any.whl.metadata (4.1 kB)\n",
      "Requirement already satisfied: backcall in /home/tomasha1980/anaconda3/envs/ds_practicum_env/lib/python3.9/site-packages (from ipython>=6.1.0->ipywidgets) (0.2.0)\n",
      "Requirement already satisfied: decorator in /home/tomasha1980/anaconda3/envs/ds_practicum_env/lib/python3.9/site-packages (from ipython>=6.1.0->ipywidgets) (5.1.1)\n",
      "Requirement already satisfied: jedi>=0.16 in /home/tomasha1980/anaconda3/envs/ds_practicum_env/lib/python3.9/site-packages (from ipython>=6.1.0->ipywidgets) (0.18.1)\n",
      "Requirement already satisfied: matplotlib-inline in /home/tomasha1980/anaconda3/envs/ds_practicum_env/lib/python3.9/site-packages (from ipython>=6.1.0->ipywidgets) (0.1.6)\n",
      "Requirement already satisfied: pickleshare in /home/tomasha1980/anaconda3/envs/ds_practicum_env/lib/python3.9/site-packages (from ipython>=6.1.0->ipywidgets) (0.7.5)\n",
      "Requirement already satisfied: prompt-toolkit!=3.0.37,<3.1.0,>=3.0.30 in /home/tomasha1980/anaconda3/envs/ds_practicum_env/lib/python3.9/site-packages (from ipython>=6.1.0->ipywidgets) (3.0.36)\n",
      "Requirement already satisfied: pygments>=2.4.0 in /home/tomasha1980/anaconda3/envs/ds_practicum_env/lib/python3.9/site-packages (from ipython>=6.1.0->ipywidgets) (2.15.1)\n",
      "Requirement already satisfied: stack-data in /home/tomasha1980/anaconda3/envs/ds_practicum_env/lib/python3.9/site-packages (from ipython>=6.1.0->ipywidgets) (0.2.0)\n",
      "Requirement already satisfied: typing-extensions in /home/tomasha1980/anaconda3/envs/ds_practicum_env/lib/python3.9/site-packages (from ipython>=6.1.0->ipywidgets) (4.7.1)\n",
      "Requirement already satisfied: exceptiongroup in /home/tomasha1980/anaconda3/envs/ds_practicum_env/lib/python3.9/site-packages (from ipython>=6.1.0->ipywidgets) (1.0.4)\n",
      "Requirement already satisfied: pexpect>4.3 in /home/tomasha1980/anaconda3/envs/ds_practicum_env/lib/python3.9/site-packages (from ipython>=6.1.0->ipywidgets) (4.8.0)\n",
      "Requirement already satisfied: parso<0.9.0,>=0.8.0 in /home/tomasha1980/anaconda3/envs/ds_practicum_env/lib/python3.9/site-packages (from jedi>=0.16->ipython>=6.1.0->ipywidgets) (0.8.3)\n",
      "Requirement already satisfied: ptyprocess>=0.5 in /home/tomasha1980/anaconda3/envs/ds_practicum_env/lib/python3.9/site-packages (from pexpect>4.3->ipython>=6.1.0->ipywidgets) (0.7.0)\n",
      "Requirement already satisfied: wcwidth in /home/tomasha1980/anaconda3/envs/ds_practicum_env/lib/python3.9/site-packages (from prompt-toolkit!=3.0.37,<3.1.0,>=3.0.30->ipython>=6.1.0->ipywidgets) (0.2.5)\n",
      "Requirement already satisfied: executing in /home/tomasha1980/anaconda3/envs/ds_practicum_env/lib/python3.9/site-packages (from stack-data->ipython>=6.1.0->ipywidgets) (0.8.3)\n",
      "Requirement already satisfied: asttokens in /home/tomasha1980/anaconda3/envs/ds_practicum_env/lib/python3.9/site-packages (from stack-data->ipython>=6.1.0->ipywidgets) (2.0.5)\n",
      "Requirement already satisfied: pure-eval in /home/tomasha1980/anaconda3/envs/ds_practicum_env/lib/python3.9/site-packages (from stack-data->ipython>=6.1.0->ipywidgets) (0.2.2)\n",
      "Requirement already satisfied: six in /home/tomasha1980/anaconda3/envs/ds_practicum_env/lib/python3.9/site-packages (from asttokens->stack-data->ipython>=6.1.0->ipywidgets) (1.16.0)\n",
      "Downloading ipywidgets-8.1.1-py3-none-any.whl (139 kB)\n",
      "\u001b[2K   \u001b[38;2;114;156;31m━━━━━━━━━━━━━━━━━━━━━━━━━━━━━━━━━━━━━━━━\u001b[0m \u001b[32m139.4/139.4 kB\u001b[0m \u001b[31m1.0 MB/s\u001b[0m eta \u001b[36m0:00:00\u001b[0m MB/s\u001b[0m eta \u001b[36m0:00:01\u001b[0m01\u001b[0m\n",
      "\u001b[?25hDownloading comm-0.1.4-py3-none-any.whl (6.6 kB)\n",
      "Downloading jupyterlab_widgets-3.0.9-py3-none-any.whl (214 kB)\n",
      "\u001b[2K   \u001b[38;2;114;156;31m━━━━━━━━━━━━━━━━━━━━━━━━━━━━━━━━━━━━━━━━\u001b[0m \u001b[32m214.9/214.9 kB\u001b[0m \u001b[31m2.5 MB/s\u001b[0m eta \u001b[36m0:00:00\u001b[0m MB/s\u001b[0m eta \u001b[36m0:00:01\u001b[0m\n",
      "\u001b[?25hDownloading widgetsnbextension-4.0.9-py3-none-any.whl (2.3 MB)\n",
      "\u001b[2K   \u001b[38;2;114;156;31m━━━━━━━━━━━━━━━━━━━━━━━━━━━━━━━━━━━━━━━━\u001b[0m \u001b[32m2.3/2.3 MB\u001b[0m \u001b[31m9.6 MB/s\u001b[0m eta \u001b[36m0:00:00\u001b[0m0m eta \u001b[36m0:00:01\u001b[0m0:01\u001b[0m:01\u001b[0m\n",
      "\u001b[?25h\u001b[33mWARNING: Error parsing requirements for jupyter-highlight-selected-word: [Errno 2] Нет такого файла или каталога: '/home/tomasha1980/anaconda3/envs/ds_practicum_env/lib/python3.9/site-packages/jupyter_highlight_selected_word-0.2.0.dist-info/METADATA'\u001b[0m\u001b[33m\n",
      "\u001b[0mInstalling collected packages: widgetsnbextension, jupyterlab-widgets, comm, ipywidgets\n",
      "  Attempting uninstall: comm\n",
      "    Found existing installation: comm 0.1.2\n",
      "    Uninstalling comm-0.1.2:\n",
      "      Successfully uninstalled comm-0.1.2\n",
      "\u001b[31mERROR: pip's dependency resolver does not currently take into account all the packages that are installed. This behaviour is the source of the following dependency conflicts.\n",
      "jupyterlab 4.0.6 requires async-lru>=1.0.0, which is not installed.\n",
      "jupyterlab 4.0.6 requires jupyter-lsp>=2.0.0, which is not installed.\n",
      "jupyterlab 4.0.6 requires notebook-shim>=0.2, which is not installed.\n",
      "jupyterlab 4.0.6 requires tomli; python_version < \"3.11\", which is not installed.\n",
      "jupyterlab 4.0.6 requires jupyter-server<3,>=2.4.0, but you have jupyter-server 1.23.4 which is incompatible.\u001b[0m\u001b[31m\n",
      "\u001b[0mSuccessfully installed comm-0.1.4 ipywidgets-8.1.1 jupyterlab-widgets-3.0.9 widgetsnbextension-4.0.9\n"
     ]
    }
   ],
   "source": [
    "!pip install ipywidgets"
   ]
  },
  {
   "cell_type": "code",
   "execution_count": 30,
   "id": "0f6958f4",
   "metadata": {
    "ExecuteTime": {
     "end_time": "2023-10-25T10:21:03.063574Z",
     "start_time": "2023-10-25T10:21:03.057025Z"
    }
   },
   "outputs": [],
   "source": [
    "import pandas as pd \n",
    "\n",
    "# для анализа данных\n",
    "from ydata_profiling import ProfileReport\n",
    "\n",
    "import numpy as np\n",
    "\n",
    "# для графиков\n",
    "import matplotlib.pyplot as plt\n",
    "import seaborn as sns\n",
    "\n",
    "#для загрузки данных и с сервера и локально\n",
    "import os\n",
    "# для скрытия ошибок\n",
    "import warnings\n",
    "from IPython.display import display\n",
    "# для условно рандомных состояний\n",
    "# from numpy.random import RandomState\n",
    "# # регулярные выражения\n",
    "# import re\n",
    "# #Лемматизатор\n",
    "# import spacy\n",
    "# # модель для лемматизации английского языка\n",
    "# import en_core_web_sm\n",
    "\n",
    "# # разбиение на выборки\n",
    "# from sklearn.model_selection import train_test_split\n",
    "\n",
    "# # расчитаем TF-IDF\n",
    "# from sklearn.feature_extraction.text import TfidfVectorizer\n",
    "# from nltk.corpus import stopwords\n",
    "# import nltk\n",
    "\n",
    "# # Логистическая регрессия\n",
    "# from sklearn.linear_model import LogisticRegression\n",
    "# # # Дерево Решений классификатор\n",
    "# # from sklearn.tree import DecisionTreeClassifier\n",
    "# # # Случайный лес классификатор\n",
    "# # from sklearn.ensemble import RandomForestClassifier\n",
    "# # Ridge регрессия\n",
    "# from sklearn.linear_model import RidgeClassifier\n",
    "# # для создания конвеера/ трудопровода\n",
    "# from sklearn.pipeline import Pipeline, make_pipeline\n",
    "# # для маштабирования признаков\n",
    "# from sklearn.preprocessing import StandardScaler\n",
    "# # заполнение пропусков\n",
    "# from sklearn.impute import SimpleImputer\n",
    "# # перемешивание данных\n",
    "# from sklearn.utils import shuffle\n",
    "\n",
    "# # F1 метрика\n",
    "# from sklearn.metrics import f1_score\n",
    "\n",
    "# # для подбора параметров моделей\n",
    "# from sklearn.model_selection import GridSearchCV\n",
    "\n",
    "# # оптимизация параметров моделей\n",
    "# import optuna\n",
    "\n",
    "# import lightgbm as lgb"
   ]
  },
  {
   "cell_type": "markdown",
   "id": "cacbe564",
   "metadata": {},
   "source": [
    "### Настройки"
   ]
  },
  {
   "cell_type": "code",
   "execution_count": 4,
   "id": "4ae49697",
   "metadata": {
    "ExecuteTime": {
     "end_time": "2023-10-25T09:16:33.930500Z",
     "start_time": "2023-10-25T09:16:33.926738Z"
    }
   },
   "outputs": [],
   "source": [
    "# для скрытия ошибок\n",
    "warnings.filterwarnings(\"ignore\")\n",
    "\n",
    "# для увеличения окна вывода \n",
    "pd.options.display.max_rows = 100\n",
    "# максимальная вместимость ячейки для отображения\n",
    "pd.set_option('display.max_colwidth', None)\n",
    "# четыре знака после запятой\n",
    "pd.set_option('display.float_format', '{:.4f}'.format)\n",
    "\n",
    "# для задания размера графиков по умолчанию\n",
    "plt.rcParams[\"figure.figsize\"] = (7, 5)\n",
    "\n",
    "# для псевдорандомных значений\n",
    "np.random.seed(seed=54321)\n",
    "np.random.RandomState(seed=54321)\n",
    "RS=54321\n",
    "\n",
    "# # загрузим английские стоп слова\n",
    "# nltk.download('stopwords')\n",
    "# stop_words = set(stopwords.words('english'))"
   ]
  },
  {
   "cell_type": "markdown",
   "id": "5ecfe578",
   "metadata": {},
   "source": [
    "## Первичный анализ данных"
   ]
  },
  {
   "cell_type": "markdown",
   "id": "441b3880",
   "metadata": {},
   "source": [
    "### Загрузка данных"
   ]
  },
  {
   "cell_type": "code",
   "execution_count": 37,
   "id": "e9b8b3ee",
   "metadata": {
    "ExecuteTime": {
     "end_time": "2023-10-25T10:47:36.240716Z",
     "start_time": "2023-10-25T10:47:36.109819Z"
    }
   },
   "outputs": [
    {
     "data": {
      "text/html": [
       "<div>\n",
       "<style scoped>\n",
       "    .dataframe tbody tr th:only-of-type {\n",
       "        vertical-align: middle;\n",
       "    }\n",
       "\n",
       "    .dataframe tbody tr th {\n",
       "        vertical-align: top;\n",
       "    }\n",
       "\n",
       "    .dataframe thead th {\n",
       "        text-align: right;\n",
       "    }\n",
       "</style>\n",
       "<table border=\"1\" class=\"dataframe\">\n",
       "  <thead>\n",
       "    <tr style=\"text-align: right;\">\n",
       "      <th></th>\n",
       "      <th>original_track_id</th>\n",
       "      <th>track_id</th>\n",
       "      <th>track_remake_type</th>\n",
       "    </tr>\n",
       "  </thead>\n",
       "  <tbody>\n",
       "    <tr>\n",
       "      <th>0</th>\n",
       "      <td>eeb69a3cb92300456b6a5f4162093851</td>\n",
       "      <td>eeb69a3cb92300456b6a5f4162093851</td>\n",
       "      <td>ORIGINAL</td>\n",
       "    </tr>\n",
       "    <tr>\n",
       "      <th>1</th>\n",
       "      <td>fe7ee8fc1959cc7214fa21c4840dff0a</td>\n",
       "      <td>fe7ee8fc1959cc7214fa21c4840dff0a</td>\n",
       "      <td>ORIGINAL</td>\n",
       "    </tr>\n",
       "    <tr>\n",
       "      <th>2</th>\n",
       "      <td>cd89fef7ffdd490db800357f47722b20</td>\n",
       "      <td>cd89fef7ffdd490db800357f47722b20</td>\n",
       "      <td>ORIGINAL</td>\n",
       "    </tr>\n",
       "    <tr>\n",
       "      <th>3</th>\n",
       "      <td>995665640dc319973d3173a74a03860c</td>\n",
       "      <td>995665640dc319973d3173a74a03860c</td>\n",
       "      <td>ORIGINAL</td>\n",
       "    </tr>\n",
       "    <tr>\n",
       "      <th>4</th>\n",
       "      <td>None</td>\n",
       "      <td>d6288499d0083cc34e60a077b7c4b3e1</td>\n",
       "      <td>COVER</td>\n",
       "    </tr>\n",
       "  </tbody>\n",
       "</table>\n",
       "</div>"
      ],
      "text/plain": [
       "                  original_track_id                          track_id  \\\n",
       "0  eeb69a3cb92300456b6a5f4162093851  eeb69a3cb92300456b6a5f4162093851   \n",
       "1  fe7ee8fc1959cc7214fa21c4840dff0a  fe7ee8fc1959cc7214fa21c4840dff0a   \n",
       "2  cd89fef7ffdd490db800357f47722b20  cd89fef7ffdd490db800357f47722b20   \n",
       "3  995665640dc319973d3173a74a03860c  995665640dc319973d3173a74a03860c   \n",
       "4                              None  d6288499d0083cc34e60a077b7c4b3e1   \n",
       "\n",
       "  track_remake_type  \n",
       "0          ORIGINAL  \n",
       "1          ORIGINAL  \n",
       "2          ORIGINAL  \n",
       "3          ORIGINAL  \n",
       "4             COVER  "
      ]
     },
     "execution_count": 37,
     "metadata": {},
     "output_type": "execute_result"
    }
   ],
   "source": [
    "path_covers = 'data/raw/covers.json'\n",
    "\n",
    "df_covers = pd.read_json(path_covers, lines=True)\n",
    "df_covers.head()"
   ]
  },
  {
   "cell_type": "code",
   "execution_count": 38,
   "id": "1f928acb",
   "metadata": {
    "ExecuteTime": {
     "end_time": "2023-10-25T10:47:43.925234Z",
     "start_time": "2023-10-25T10:47:43.794045Z"
    }
   },
   "outputs": [
    {
     "data": {
      "text/html": [
       "<div>\n",
       "<style scoped>\n",
       "    .dataframe tbody tr th:only-of-type {\n",
       "        vertical-align: middle;\n",
       "    }\n",
       "\n",
       "    .dataframe tbody tr th {\n",
       "        vertical-align: top;\n",
       "    }\n",
       "\n",
       "    .dataframe thead th {\n",
       "        text-align: right;\n",
       "    }\n",
       "</style>\n",
       "<table border=\"1\" class=\"dataframe\">\n",
       "  <thead>\n",
       "    <tr style=\"text-align: right;\">\n",
       "      <th></th>\n",
       "      <th>lyricId</th>\n",
       "      <th>text</th>\n",
       "      <th>track_id</th>\n",
       "    </tr>\n",
       "  </thead>\n",
       "  <tbody>\n",
       "    <tr>\n",
       "      <th>0</th>\n",
       "      <td>a951f9504e89759e9d23039b7b17ec14</td>\n",
       "      <td>Живу сейчас обломами, обломками не той любви\\nПопытками не то любить, что нужно\\nТеряю смысл, ну и пусть, невыносимой стала грусть\\nИ в комнате, что с потолком мне чужда\\n\\nЯ б уплыла в океан, сшила б красный сарафан, и... И...\\nЯ б забыла, что ты есть, я б не лезла в эту сеть\\nЯ бы, я бы, я бы, я бы не была бы здесь\\n\\nВолосы пропахли дымом, вечер был довольно длинным...\\n\\nЖиву сейчас попытками, попытками не пытками\\nНайти себя и что-нибудь родное\\nИщу я что-то, где-то там, пью чёрный кофе по утрам\\nИ не пойму - да что ж это такое?\\n\\nЯ б уплыла в океан, сшила б красный сарафан, и... И...\\nЯ б забыла что ты есть, я б не лезла в эту сеть\\nЯ бы, я бы, я бы, я бы не была бы здесь\\n\\nЯ б уплыла в океан, сшила б красный сарафан, и... И...\\nЯ б забыла что ты есть, я б не лезла в эту сеть\\nЯ бы, я бы, я бы, я бы не была бы здесь\\n\\nВолосы пропахли дымом, вечер был довольно длинным...</td>\n",
       "      <td>1c4b1230f937e4c548ff732523214dcd</td>\n",
       "    </tr>\n",
       "  </tbody>\n",
       "</table>\n",
       "</div>"
      ],
      "text/plain": [
       "                            lyricId  \\\n",
       "0  a951f9504e89759e9d23039b7b17ec14   \n",
       "\n",
       "                                                                                                                                                                                                                                                                                                                                                                                                                                                                                                                                                                                                                                                                                                                                                                                                                                                                                                                          text  \\\n",
       "0  Живу сейчас обломами, обломками не той любви\\nПопытками не то любить, что нужно\\nТеряю смысл, ну и пусть, невыносимой стала грусть\\nИ в комнате, что с потолком мне чужда\\n\\nЯ б уплыла в океан, сшила б красный сарафан, и... И...\\nЯ б забыла, что ты есть, я б не лезла в эту сеть\\nЯ бы, я бы, я бы, я бы не была бы здесь\\n\\nВолосы пропахли дымом, вечер был довольно длинным...\\n\\nЖиву сейчас попытками, попытками не пытками\\nНайти себя и что-нибудь родное\\nИщу я что-то, где-то там, пью чёрный кофе по утрам\\nИ не пойму - да что ж это такое?\\n\\nЯ б уплыла в океан, сшила б красный сарафан, и... И...\\nЯ б забыла что ты есть, я б не лезла в эту сеть\\nЯ бы, я бы, я бы, я бы не была бы здесь\\n\\nЯ б уплыла в океан, сшила б красный сарафан, и... И...\\nЯ б забыла что ты есть, я б не лезла в эту сеть\\nЯ бы, я бы, я бы, я бы не была бы здесь\\n\\nВолосы пропахли дымом, вечер был довольно длинным...   \n",
       "\n",
       "                           track_id  \n",
       "0  1c4b1230f937e4c548ff732523214dcd  "
      ]
     },
     "execution_count": 38,
     "metadata": {},
     "output_type": "execute_result"
    }
   ],
   "source": [
    "path_lyrics = 'data/raw/lyrics.json'\n",
    "\n",
    "df_lyrics = pd.read_json(path_lyrics, lines=True)\n",
    "df_lyrics.head(1)"
   ]
  },
  {
   "cell_type": "code",
   "execution_count": 39,
   "id": "8bd77e2d",
   "metadata": {
    "ExecuteTime": {
     "end_time": "2023-10-25T10:47:50.597741Z",
     "start_time": "2023-10-25T10:47:49.794658Z"
    },
    "scrolled": true
   },
   "outputs": [
    {
     "data": {
      "text/html": [
       "<div>\n",
       "<style scoped>\n",
       "    .dataframe tbody tr th:only-of-type {\n",
       "        vertical-align: middle;\n",
       "    }\n",
       "\n",
       "    .dataframe tbody tr th {\n",
       "        vertical-align: top;\n",
       "    }\n",
       "\n",
       "    .dataframe thead th {\n",
       "        text-align: right;\n",
       "    }\n",
       "</style>\n",
       "<table border=\"1\" class=\"dataframe\">\n",
       "  <thead>\n",
       "    <tr style=\"text-align: right;\">\n",
       "      <th></th>\n",
       "      <th>track_id</th>\n",
       "      <th>dttm</th>\n",
       "      <th>title</th>\n",
       "      <th>language</th>\n",
       "      <th>isrc</th>\n",
       "      <th>genres</th>\n",
       "      <th>duration</th>\n",
       "    </tr>\n",
       "  </thead>\n",
       "  <tbody>\n",
       "    <tr>\n",
       "      <th>0</th>\n",
       "      <td>c3b9d6a354ca008aa4518329aaa21380</td>\n",
       "      <td>2021-12-16 21:00:00</td>\n",
       "      <td>Happy New Year</td>\n",
       "      <td>EN</td>\n",
       "      <td>RUB422103970</td>\n",
       "      <td>[DANCE]</td>\n",
       "      <td>161120.0000</td>\n",
       "    </tr>\n",
       "    <tr>\n",
       "      <th>1</th>\n",
       "      <td>c57e3d13bbbf5322584a7e92e6f1f7ff</td>\n",
       "      <td>2021-11-24 14:00:33</td>\n",
       "      <td>Bad Habits</td>\n",
       "      <td>EN</td>\n",
       "      <td>QZN882178276</td>\n",
       "      <td>[ELECTRONICS]</td>\n",
       "      <td>362260.0000</td>\n",
       "    </tr>\n",
       "    <tr>\n",
       "      <th>2</th>\n",
       "      <td>955f2aafe8717908c140bf122ba4172d</td>\n",
       "      <td>2021-11-24 15:37:03</td>\n",
       "      <td>Por Esa Loca Vanidad</td>\n",
       "      <td>None</td>\n",
       "      <td>QZNJZ2122549</td>\n",
       "      <td>[FOLK, LATINFOLK]</td>\n",
       "      <td>260000.0000</td>\n",
       "    </tr>\n",
       "    <tr>\n",
       "      <th>3</th>\n",
       "      <td>fae5a077c9956045955dde02143bd8ff</td>\n",
       "      <td>2021-11-24 15:37:03</td>\n",
       "      <td>Mil Lagrimas</td>\n",
       "      <td>None</td>\n",
       "      <td>QZNJZ2166033</td>\n",
       "      <td>[FOLK, LATINFOLK]</td>\n",
       "      <td>190000.0000</td>\n",
       "    </tr>\n",
       "    <tr>\n",
       "      <th>4</th>\n",
       "      <td>6bede082154d34fc18d9a6744bc95bf5</td>\n",
       "      <td>2021-11-24 15:37:03</td>\n",
       "      <td>Sexo Humo y Alcohol</td>\n",
       "      <td>None</td>\n",
       "      <td>QZNJZ2122551</td>\n",
       "      <td>[FOLK, LATINFOLK]</td>\n",
       "      <td>203000.0000</td>\n",
       "    </tr>\n",
       "  </tbody>\n",
       "</table>\n",
       "</div>"
      ],
      "text/plain": [
       "                           track_id                dttm                 title  \\\n",
       "0  c3b9d6a354ca008aa4518329aaa21380 2021-12-16 21:00:00        Happy New Year   \n",
       "1  c57e3d13bbbf5322584a7e92e6f1f7ff 2021-11-24 14:00:33            Bad Habits   \n",
       "2  955f2aafe8717908c140bf122ba4172d 2021-11-24 15:37:03  Por Esa Loca Vanidad   \n",
       "3  fae5a077c9956045955dde02143bd8ff 2021-11-24 15:37:03          Mil Lagrimas   \n",
       "4  6bede082154d34fc18d9a6744bc95bf5 2021-11-24 15:37:03   Sexo Humo y Alcohol   \n",
       "\n",
       "  language          isrc             genres    duration  \n",
       "0       EN  RUB422103970            [DANCE] 161120.0000  \n",
       "1       EN  QZN882178276      [ELECTRONICS] 362260.0000  \n",
       "2     None  QZNJZ2122549  [FOLK, LATINFOLK] 260000.0000  \n",
       "3     None  QZNJZ2166033  [FOLK, LATINFOLK] 190000.0000  \n",
       "4     None  QZNJZ2122551  [FOLK, LATINFOLK] 203000.0000  "
      ]
     },
     "execution_count": 39,
     "metadata": {},
     "output_type": "execute_result"
    }
   ],
   "source": [
    "path_meta = 'data/raw/meta.json'\n",
    "\n",
    "df_meta = pd.read_json(path_meta, lines=True, convert_dates=['dttm'])\n",
    "df_meta.head()"
   ]
  },
  {
   "cell_type": "markdown",
   "id": "14c81089",
   "metadata": {},
   "source": [
    "### Анализ covers"
   ]
  },
  {
   "cell_type": "code",
   "execution_count": 23,
   "id": "c1981da1",
   "metadata": {
    "ExecuteTime": {
     "end_time": "2023-10-25T10:07:10.127173Z",
     "start_time": "2023-10-25T10:07:10.068678Z"
    }
   },
   "outputs": [
    {
     "name": "stdout",
     "output_type": "stream",
     "text": [
      "<class 'pandas.core.frame.DataFrame'>\n",
      "RangeIndex: 71597 entries, 0 to 71596\n",
      "Data columns (total 3 columns):\n",
      " #   Column             Non-Null Count  Dtype \n",
      "---  ------             --------------  ----- \n",
      " 0   original_track_id  4821 non-null   object\n",
      " 1   track_id           71597 non-null  object\n",
      " 2   track_remake_type  71597 non-null  object\n",
      "dtypes: object(3)\n",
      "memory usage: 1.6+ MB\n"
     ]
    }
   ],
   "source": [
    "df_covers.info()"
   ]
  },
  {
   "cell_type": "markdown",
   "id": "dfb19866",
   "metadata": {},
   "source": [
    "У нас 71597 объектов. Пропуски есть "
   ]
  },
  {
   "cell_type": "code",
   "execution_count": 34,
   "id": "f7f66802",
   "metadata": {
    "ExecuteTime": {
     "end_time": "2023-10-25T10:29:39.577197Z",
     "start_time": "2023-10-25T10:29:38.740879Z"
    },
    "scrolled": true
   },
   "outputs": [
    {
     "name": "stderr",
     "output_type": "stream",
     "text": [
      "Summarize dataset:  50%|█████     | 6/12 [00:00<00:00,  8.25it/s, Missing diagram bar]               \n"
     ]
    },
    {
     "name": "stdout",
     "output_type": "stream",
     "text": [
      "Unexpected exception formatting exception. Falling back to standard exception\n"
     ]
    },
    {
     "name": "stderr",
     "output_type": "stream",
     "text": [
      "Traceback (most recent call last):\n",
      "  File \"/home/tomasha1980/anaconda3/envs/ds_practicum_env/lib/python3.9/site-packages/IPython/core/interactiveshell.py\", line 3526, in run_code\n",
      "    exec(code_obj, self.user_global_ns, self.user_ns)\n",
      "  File \"/tmp/ipykernel_8784/2425245578.py\", line 3, in <module>\n",
      "    profile_df_covers.to_widgets()\n",
      "  File \"/home/tomasha1980/anaconda3/envs/ds_practicum_env/lib/python3.9/site-packages/ydata_profiling/profile_report.py\", line 516, in to_widgets\n",
      "    display(self.widgets)\n",
      "  File \"/home/tomasha1980/anaconda3/envs/ds_practicum_env/lib/python3.9/site-packages/ydata_profiling/profile_report.py\", line 289, in widgets\n",
      "    isinstance(self.description_set.table[\"n\"], list)\n",
      "  File \"/home/tomasha1980/anaconda3/envs/ds_practicum_env/lib/python3.9/site-packages/ydata_profiling/profile_report.py\", line 253, in description_set\n",
      "    self._description_set = describe_df(\n",
      "  File \"/home/tomasha1980/anaconda3/envs/ds_practicum_env/lib/python3.9/site-packages/ydata_profiling/model/describe.py\", line 137, in describe\n",
      "    missing = {\n",
      "  File \"/home/tomasha1980/anaconda3/envs/ds_practicum_env/lib/python3.9/site-packages/ydata_profiling/model/describe.py\", line 138, in <dictcomp>\n",
      "    name: progress(get_missing_diagram, pbar, f\"Missing diagram {name}\")(\n",
      "  File \"/home/tomasha1980/anaconda3/envs/ds_practicum_env/lib/python3.9/site-packages/ydata_profiling/utils/progress_bar.py\", line 11, in inner\n",
      "    ret = fn(*args, **kwargs)\n",
      "  File \"/home/tomasha1980/anaconda3/envs/ds_practicum_env/lib/python3.9/site-packages/ydata_profiling/model/missing.py\", line 112, in get_missing_diagram\n",
      "    result = handle_missing(settings[\"name\"], settings[\"function\"])(config, df)\n",
      "  File \"/home/tomasha1980/anaconda3/envs/ds_practicum_env/lib/python3.9/site-packages/ydata_profiling/model/missing.py\", line 88, in inner\n",
      "    return fn(*args, *kwargs)\n",
      "  File \"/home/tomasha1980/anaconda3/envs/ds_practicum_env/lib/python3.9/site-packages/multimethod/__init__.py\", line 328, in __call__\n",
      "    return func(*args, **kwargs)\n",
      "  File \"/home/tomasha1980/anaconda3/envs/ds_practicum_env/lib/python3.9/site-packages/ydata_profiling/model/pandas/missing_pandas.py\", line 16, in pandas_missing_bar\n",
      "    return plot_missing_bar(\n",
      "  File \"/home/tomasha1980/anaconda3/envs/ds_practicum_env/lib/python3.9/contextlib.py\", line 78, in inner\n",
      "    with self._recreate_cm():\n",
      "  File \"/home/tomasha1980/anaconda3/envs/ds_practicum_env/lib/python3.9/contextlib.py\", line 119, in __enter__\n",
      "    return next(self.gen)\n",
      "  File \"/home/tomasha1980/anaconda3/envs/ds_practicum_env/lib/python3.9/site-packages/ydata_profiling/visualisation/context.py\", line 83, in manage_matplotlib_context\n",
      "    deregister_matplotlib_converters()  # revert to original unit registries\n",
      "  File \"/home/tomasha1980/anaconda3/envs/ds_practicum_env/lib/python3.9/site-packages/pandas/plotting/_misc.py\", line 151, in deregister\n",
      "    <AxesSubplot: xlabel='B', ylabel='C'>,\n",
      "  File \"/home/tomasha1980/anaconda3/envs/ds_practicum_env/lib/python3.9/site-packages/pandas/plotting/_core.py\", line 1947, in _get_plot_backend\n",
      "  File \"/home/tomasha1980/anaconda3/envs/ds_practicum_env/lib/python3.9/site-packages/pandas/plotting/_core.py\", line 1877, in _load_backend\n",
      "ImportError: matplotlib is required for plotting when the default backend \"matplotlib\" is selected.\n",
      "\n",
      "During handling of the above exception, another exception occurred:\n",
      "\n",
      "Traceback (most recent call last):\n",
      "  File \"/home/tomasha1980/anaconda3/envs/ds_practicum_env/lib/python3.9/site-packages/IPython/core/interactiveshell.py\", line 2120, in showtraceback\n",
      "    stb = self.InteractiveTB.structured_traceback(\n",
      "  File \"/home/tomasha1980/anaconda3/envs/ds_practicum_env/lib/python3.9/site-packages/IPython/core/ultratb.py\", line 1435, in structured_traceback\n",
      "    return FormattedTB.structured_traceback(\n",
      "  File \"/home/tomasha1980/anaconda3/envs/ds_practicum_env/lib/python3.9/site-packages/IPython/core/ultratb.py\", line 1326, in structured_traceback\n",
      "    return VerboseTB.structured_traceback(\n",
      "  File \"/home/tomasha1980/anaconda3/envs/ds_practicum_env/lib/python3.9/site-packages/IPython/core/ultratb.py\", line 1173, in structured_traceback\n",
      "    formatted_exception = self.format_exception_as_a_whole(etype, evalue, etb, number_of_lines_of_context,\n",
      "  File \"/home/tomasha1980/anaconda3/envs/ds_practicum_env/lib/python3.9/site-packages/IPython/core/ultratb.py\", line 1088, in format_exception_as_a_whole\n",
      "    frames.append(self.format_record(record))\n",
      "  File \"/home/tomasha1980/anaconda3/envs/ds_practicum_env/lib/python3.9/site-packages/IPython/core/ultratb.py\", line 970, in format_record\n",
      "    frame_info.lines, Colors, self.has_colors, lvals\n",
      "  File \"/home/tomasha1980/anaconda3/envs/ds_practicum_env/lib/python3.9/site-packages/IPython/core/ultratb.py\", line 792, in lines\n",
      "    return self._sd.lines\n",
      "  File \"/home/tomasha1980/anaconda3/envs/ds_practicum_env/lib/python3.9/site-packages/stack_data/utils.py\", line 145, in cached_property_wrapper\n",
      "    value = obj.__dict__[self.func.__name__] = self.func(obj)\n",
      "  File \"/home/tomasha1980/anaconda3/envs/ds_practicum_env/lib/python3.9/site-packages/stack_data/core.py\", line 698, in lines\n",
      "    pieces = self.included_pieces\n",
      "  File \"/home/tomasha1980/anaconda3/envs/ds_practicum_env/lib/python3.9/site-packages/stack_data/utils.py\", line 145, in cached_property_wrapper\n",
      "    value = obj.__dict__[self.func.__name__] = self.func(obj)\n",
      "  File \"/home/tomasha1980/anaconda3/envs/ds_practicum_env/lib/python3.9/site-packages/stack_data/core.py\", line 649, in included_pieces\n",
      "    pos = scope_pieces.index(self.executing_piece)\n",
      "  File \"/home/tomasha1980/anaconda3/envs/ds_practicum_env/lib/python3.9/site-packages/stack_data/utils.py\", line 145, in cached_property_wrapper\n",
      "    value = obj.__dict__[self.func.__name__] = self.func(obj)\n",
      "  File \"/home/tomasha1980/anaconda3/envs/ds_practicum_env/lib/python3.9/site-packages/stack_data/core.py\", line 628, in executing_piece\n",
      "    return only(\n",
      "  File \"/home/tomasha1980/anaconda3/envs/ds_practicum_env/lib/python3.9/site-packages/executing/executing.py\", line 164, in only\n",
      "    raise NotOneValueFound('Expected one value, found 0')\n",
      "executing.executing.NotOneValueFound: Expected one value, found 0\n"
     ]
    }
   ],
   "source": [
    "# profile_df_covers = ProfileReport(df_covers)\n",
    "# profile_df_covers.to_notebook_iframe()\n",
    "# # profile_df_covers.to_widgets()"
   ]
  },
  {
   "cell_type": "code",
   "execution_count": 36,
   "id": "746f24fc",
   "metadata": {
    "ExecuteTime": {
     "end_time": "2023-10-25T10:34:44.219435Z",
     "start_time": "2023-10-25T10:34:44.191240Z"
    }
   },
   "outputs": [
    {
     "data": {
      "text/plain": [
       "0"
      ]
     },
     "execution_count": 36,
     "metadata": {},
     "output_type": "execute_result"
    }
   ],
   "source": [
    "df_covers.duplicated().sum()"
   ]
  },
  {
   "cell_type": "markdown",
   "id": "768a53c9",
   "metadata": {},
   "source": [
    "Дубликатов строк нет."
   ]
  },
  {
   "cell_type": "markdown",
   "id": "cb3ccbf7",
   "metadata": {},
   "source": [
    "## Предобработка данных"
   ]
  },
  {
   "cell_type": "markdown",
   "id": "a9e6c0f2",
   "metadata": {},
   "source": [
    "## Формализация задачи, Гипотезы"
   ]
  },
  {
   "cell_type": "markdown",
   "id": "acbd2664",
   "metadata": {},
   "source": [
    "## Модели"
   ]
  },
  {
   "cell_type": "markdown",
   "id": "2f100db4",
   "metadata": {},
   "source": [
    "## Вывод"
   ]
  }
 ],
 "metadata": {
  "kernelspec": {
   "display_name": "Python 3 (ipykernel)",
   "language": "python",
   "name": "python3"
  },
  "language_info": {
   "codemirror_mode": {
    "name": "ipython",
    "version": 3
   },
   "file_extension": ".py",
   "mimetype": "text/x-python",
   "name": "python",
   "nbconvert_exporter": "python",
   "pygments_lexer": "ipython3",
   "version": "3.9.18"
  },
  "toc": {
   "base_numbering": 1,
   "nav_menu": {},
   "number_sections": true,
   "sideBar": true,
   "skip_h1_title": true,
   "title_cell": "Table of Contents",
   "title_sidebar": "Contents",
   "toc_cell": true,
   "toc_position": {
    "height": "calc(100% - 180px)",
    "left": "10px",
    "top": "150px",
    "width": "364px"
   },
   "toc_section_display": true,
   "toc_window_display": true
  }
 },
 "nbformat": 4,
 "nbformat_minor": 5
}

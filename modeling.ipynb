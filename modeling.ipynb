{
 "cells": [
  {
   "cell_type": "markdown",
   "id": "0c508ae8",
   "metadata": {},
   "source": [
    "# Modeling"
   ]
  },
  {
   "cell_type": "markdown",
   "id": "82c0b17e",
   "metadata": {},
   "source": [
    "Данный ноутбук посвящён вопросам моделинга"
   ]
  },
  {
   "cell_type": "markdown",
   "id": "572e9f8b",
   "metadata": {},
   "source": [
    "Как всегда импортируем библиотеки и прописываем пути к файлам"
   ]
  },
  {
   "cell_type": "code",
   "execution_count": 1,
   "id": "2c4e4f40",
   "metadata": {},
   "outputs": [],
   "source": [
    "import pandas as pd\n",
    "import numpy as np\n",
    "import matplotlib.pyplot as plt\n",
    "import scipy\n",
    "from statistics import mean\n",
    "\n",
    "from tqdm import tqdm\n",
    "import copy\n",
    "\n",
    "import nltk\n",
    "from nltk.corpus import stopwords as nltk_stopwords\n",
    "\n",
    "from sklearn.feature_extraction.text import TfidfVectorizer \n",
    "from sklearn.metrics import f1_score\n",
    "from sklearn.model_selection import cross_val_score, StratifiedKFold\n",
    "from sklearn.utils.class_weight import compute_class_weight\n",
    "from catboost import CatBoostClassifier\n",
    "\n",
    "import faiss\n",
    "from faiss import write_index\n",
    "\n",
    "import pickle\n",
    "\n",
    "from typing import Dict, List, Tuple, Callable"
   ]
  },
  {
   "cell_type": "code",
   "execution_count": 2,
   "id": "cb745b0f",
   "metadata": {},
   "outputs": [],
   "source": [
    "PATH_TRAIN_FAISS = 'data/preprocessing/train_faiss.csv'\n",
    "PATH_TEST_FAISS = 'data/preprocessing/test_faiss.csv'\n",
    "PATH_VALID_FAISS = 'data/preprocessing/valid_faiss.csv'\n",
    "\n",
    "PATH_TFIDFVECTORIZER = 'models/tfidf.pkl'\n",
    "\n",
    "PATH_TRAIN_CORPUS = 'data/preprocessing/train_corpus.npz'\n",
    "PATH_TEST_CORPUS = 'data/preprocessing/test_corpus.npz'\n",
    "PATH_VALID_CORPUS = 'data/preprocessing/valid_corpus.npz'\n",
    "\n",
    "RANDOM_STATE = 54321"
   ]
  },
  {
   "cell_type": "markdown",
   "id": "f1033134",
   "metadata": {},
   "source": [
    "Загрузим датасеты для обучения"
   ]
  },
  {
   "cell_type": "code",
   "execution_count": 3,
   "id": "ad6f3e67",
   "metadata": {},
   "outputs": [],
   "source": [
    "df_train = pd.read_csv(PATH_TRAIN_FAISS)\n",
    "df_test = pd.read_csv(PATH_TEST_FAISS)\n",
    "df_valid = pd.read_csv(PATH_VALID_FAISS)"
   ]
  },
  {
   "cell_type": "markdown",
   "id": "8aef298f",
   "metadata": {},
   "source": [
    "Для того открыть векторизованные корпуса создадим функцию, которая прочитает разряженные матрицы"
   ]
  },
  {
   "cell_type": "code",
   "execution_count": 4,
   "id": "0371fad9",
   "metadata": {},
   "outputs": [],
   "source": [
    "def load_sparse_csr(filename: str):\n",
    "    loader = np.load(filename)\n",
    "    return scipy.sparse.csr_matrix((loader['data'],\n",
    "                                    loader['indices'],\n",
    "                                    loader['indptr']),\n",
    "                                   shape=loader['shape'])"
   ]
  },
  {
   "cell_type": "markdown",
   "id": "4b7c1594",
   "metadata": {},
   "source": [
    "Загрузим векторизованные корпуса"
   ]
  },
  {
   "cell_type": "code",
   "execution_count": 5,
   "id": "4896bfbe",
   "metadata": {},
   "outputs": [],
   "source": [
    "corpus_train = load_sparse_csr(PATH_TRAIN_CORPUS)\n",
    "corpus_test = load_sparse_csr(PATH_TEST_CORPUS)\n",
    "corpus_valid = load_sparse_csr(PATH_VALID_CORPUS)"
   ]
  },
  {
   "cell_type": "markdown",
   "id": "1a38c8f9",
   "metadata": {},
   "source": [
    "## Модель для нахождения k претендентов на кавер."
   ]
  },
  {
   "cell_type": "markdown",
   "id": "aa2624e3",
   "metadata": {},
   "source": [
    "Для решения задачи группировки треков будем использовать faiss данная библиотека работает немного быстрее классического варианта K-ближайших, а также имеет возможность дальнейшей оптимизации. Чтобы оценивать качество работы данной модели, а также подбирать гиперпарамтеры воспользуемся метрикой **𝑅𝑒𝑐𝑎𝑙𝑙@𝑘** (полнота на k элементах), поскольку для данного этапа нам необходимо сделать модель, которая будет отбирать максимально подходящие треки для данного трека.\n",
    "\n",
    "Её можно рассчитать по формуле:"
   ]
  },
  {
   "cell_type": "markdown",
   "id": "2782b729",
   "metadata": {},
   "source": [
    "$$ Recall@k =  {\\sum найденных \\space в \\space топk \\space матчей \\over \\sum матчей} $$"
   ]
  },
  {
   "cell_type": "markdown",
   "id": "9da3846a",
   "metadata": {},
   "source": [
    "Созадим функцию для её рассчёта:"
   ]
  },
  {
   "cell_type": "code",
   "execution_count": 6,
   "id": "1fc392db",
   "metadata": {},
   "outputs": [],
   "source": [
    "def score_recall_k(y_true: pd.Series, y_pred: pd.Series) -> float:\n",
    "    metrick_list = []\n",
    "    for i, y_p in enumerate(y_pred):\n",
    "        # проверим есть ли для данного трека вообще каверы, tсли есть, то посчитаем количество вхождений\n",
    "        if y_true[i] is not np.nan:\n",
    "            for y_t in y_true[i].split():\n",
    "                metrick_list.append(1 if y_t in y_p else 0)\n",
    "    return mean(metrick_list)    "
   ]
  },
  {
   "cell_type": "markdown",
   "id": "95ec20f4",
   "metadata": {},
   "source": [
    "Создадим словарь с track_id тренировочного датасета, поскольку фаис будет возвращать индекс строки, а проверять нам потребуется track_id"
   ]
  },
  {
   "cell_type": "code",
   "execution_count": 7,
   "id": "36f688bd",
   "metadata": {},
   "outputs": [],
   "source": [
    "id_base_dict = dict(df_train['track_id'])"
   ]
  },
  {
   "cell_type": "markdown",
   "id": "f6c92b49",
   "metadata": {},
   "source": [
    "Получим цели обучения (списки с track_id каверов)"
   ]
  },
  {
   "cell_type": "code",
   "execution_count": 8,
   "id": "e546d9f2",
   "metadata": {},
   "outputs": [],
   "source": [
    "y_train = df_train['cover_list']\n",
    "y_test = df_test['cover_list']\n",
    "y_valid = df_valid['cover_list']"
   ]
  },
  {
   "cell_type": "markdown",
   "id": "cb2f570f",
   "metadata": {},
   "source": [
    "Напишем функцию для тренировки faiss"
   ]
  },
  {
   "cell_type": "code",
   "execution_count": 9,
   "id": "a4a1ca04",
   "metadata": {},
   "outputs": [],
   "source": [
    "def faiss_fit(corpus_train: scipy.sparse, \n",
    "              n_list: int = 1, \n",
    "              random_state: int = 54321) -> faiss.IndexIVFFlat:\n",
    "    x_train = copy.deepcopy(corpus_train)\n",
    "    d = x_train.shape[1] \n",
    "    nb = x_train.shape[0] \n",
    "    np.random.seed(random_state) \n",
    "\n",
    "    xb = x_train.toarray()\n",
    "\n",
    "    nlist = n_list\n",
    "    quantizer = faiss.IndexFlatIP(d)  \n",
    "    index = faiss.IndexIVFFlat(quantizer, d, nlist)\n",
    "    assert not index.is_trained\n",
    "    index.train(xb)\n",
    "    assert index.is_trained\n",
    "    index.add(xb)\n",
    "    \n",
    "    return index"
   ]
  },
  {
   "cell_type": "markdown",
   "id": "a2cae1a9",
   "metadata": {},
   "source": [
    "Создадим функцию для предсказаний"
   ]
  },
  {
   "cell_type": "code",
   "execution_count": 10,
   "id": "e7a7c898",
   "metadata": {},
   "outputs": [],
   "source": [
    "def faiss_predict(index: faiss.IndexIVFFlat, \n",
    "                  corpus_test: scipy.sparse, \n",
    "                  id_base_dict: Dict, \n",
    "                  k: int = 10) -> pd.Series:\n",
    "    x_test = copy.deepcopy(corpus_test)\n",
    "    xq_x_test = x_test.toarray()\n",
    "    \n",
    "    D, I = index.search(xq_x_test, k)\n",
    "    predicted_list = []\n",
    "    distance_list = []\n",
    "    \n",
    "    # перебираем все ответы и проверяем, чтобы они не были равны 1 и не равнялись\n",
    "    for i, candidates in enumerate(I):\n",
    "        cand_list = []\n",
    "        dist_list = []\n",
    "        for j, candidate in enumerate(candidates):\n",
    "            if candidate != -1 and id_base_dict[candidate] != id_base_dict[i]:\n",
    "                cand_list.append(id_base_dict[candidate])\n",
    "                dist_list.append(D[i][j])\n",
    "                \n",
    "        predicted_list.append(cand_list)\n",
    "        distance_list.append(dist_list)      \n",
    "\n",
    "    return pd.Series(predicted_list), pd.Series(distance_list)"
   ]
  },
  {
   "cell_type": "markdown",
   "id": "62a91a52",
   "metadata": {},
   "source": [
    "Обучим индекс."
   ]
  },
  {
   "cell_type": "code",
   "execution_count": 11,
   "id": "fbea8118",
   "metadata": {},
   "outputs": [],
   "source": [
    "f_index = faiss_fit(corpus_train, random_state=RANDOM_STATE)"
   ]
  },
  {
   "cell_type": "markdown",
   "id": "ae77a56d",
   "metadata": {},
   "source": [
    "Проверим качество модели на трейне"
   ]
  },
  {
   "cell_type": "code",
   "execution_count": 12,
   "id": "b39fec21",
   "metadata": {},
   "outputs": [
    {
     "data": {
      "text/plain": [
       "0.5926640926640927"
      ]
     },
     "execution_count": 12,
     "metadata": {},
     "output_type": "execute_result"
    }
   ],
   "source": [
    "y_train_pred, dist_train_pred= faiss_predict(f_index, corpus_train, id_base_dict, 10)\n",
    "score_recall_k(y_train, y_train_pred)"
   ]
  },
  {
   "cell_type": "markdown",
   "id": "a0376fdf",
   "metadata": {},
   "source": [
    "Попробуем улучшить качество модели. Для начала поработаем с TfIdf будем экспериментировать н-граммами и максимальным количеством признаков."
   ]
  },
  {
   "cell_type": "markdown",
   "id": "ec98235b",
   "metadata": {},
   "source": [
    "### Подбор параметров TfidfVectorizer"
   ]
  },
  {
   "cell_type": "code",
   "execution_count": 13,
   "id": "134ed30d",
   "metadata": {},
   "outputs": [
    {
     "name": "stderr",
     "output_type": "stream",
     "text": [
      "[nltk_data] Downloading package stopwords to\n",
      "[nltk_data]     C:\\Users\\yaros\\AppData\\Roaming\\nltk_data...\n",
      "[nltk_data]   Package stopwords is already up-to-date!\n"
     ]
    }
   ],
   "source": [
    "nltk.download('stopwords')\n",
    "stopwords = nltk_stopwords.words('english')"
   ]
  },
  {
   "cell_type": "markdown",
   "id": "6aeb9d2e",
   "metadata": {},
   "source": [
    "Создадим функцию, которая на вход будет принимать датасет, стоп слова, и параметры для TfIdf, а возвращать датасет с информацией об изменение метрики в зависимости от этих параметров"
   ]
  },
  {
   "cell_type": "code",
   "execution_count": 14,
   "id": "c4fe2835",
   "metadata": {},
   "outputs": [],
   "source": [
    "def feature_selection_tf_idf(df: pd.DataFrame, \n",
    "                             id_base_dict,\n",
    "                             y_train: pd.Series,\n",
    "                             stopwords: nltk_stopwords.words,\n",
    "                             min_ngram: int = 1,\n",
    "                             max_ngram: int = 6,\n",
    "                             min_features: int = 500,\n",
    "                             max_features: int = 15500,\n",
    "                             count_steps_features: int = 20,\n",
    "                             random_state: int = 54321):\n",
    "    score_df = pd.DataFrame(columns = ['n_gram', 'max_features', 'metric'])\n",
    "    new_df = df.copy(deep=True)\n",
    "    new_df['lemm_text'] = new_df['lemm_text'].fillna('')\n",
    "    # определяем размер шага для признаков\n",
    "    step_features = (max_features - min_features) // 20\n",
    "    step_features = step_features if (max_features - min_features) % 20 == 0 else step_features + 1\n",
    "    \n",
    "    for n_gram in tqdm(range(min_ngram, max_ngram)):\n",
    "        for count_features in range (min_features, max_features, step_features):\n",
    "            tf_idf = TfidfVectorizer(stop_words=stopwords, ngram_range=(1, n_gram), max_features = count_features)\n",
    "            corpus_train = tf_idf.fit_transform(new_df['lemm_text'])\n",
    "            \n",
    "            f_index = faiss_fit(corpus_train, random_state = random_state)\n",
    "            y_train_pred, dist_train_pred= faiss_predict(f_index, corpus_train, id_base_dict, 10)\n",
    "            metric = score_recall_k(y_train, y_train_pred)\n",
    "            \n",
    "            score_df.loc[len(score_df.index )] = [n_gram, count_features, metric]\n",
    "            \n",
    "    return score_df"
   ]
  },
  {
   "cell_type": "code",
   "execution_count": 15,
   "id": "55c2015d",
   "metadata": {},
   "outputs": [
    {
     "name": "stderr",
     "output_type": "stream",
     "text": [
      "100%|████████████████████████████████████████████████████████████████████████████████████| 5/5 [05:43<00:00, 68.67s/it]\n"
     ]
    }
   ],
   "source": [
    "df_score = feature_selection_tf_idf(df_train, id_base_dict, y_train, stopwords)"
   ]
  },
  {
   "cell_type": "markdown",
   "id": "aa3add0f",
   "metadata": {},
   "source": [
    "Посмотрим на получившийся датасет"
   ]
  },
  {
   "cell_type": "code",
   "execution_count": 16,
   "id": "e42be308",
   "metadata": {},
   "outputs": [
    {
     "data": {
      "text/html": [
       "<div>\n",
       "<style scoped>\n",
       "    .dataframe tbody tr th:only-of-type {\n",
       "        vertical-align: middle;\n",
       "    }\n",
       "\n",
       "    .dataframe tbody tr th {\n",
       "        vertical-align: top;\n",
       "    }\n",
       "\n",
       "    .dataframe thead th {\n",
       "        text-align: right;\n",
       "    }\n",
       "</style>\n",
       "<table border=\"1\" class=\"dataframe\">\n",
       "  <thead>\n",
       "    <tr style=\"text-align: right;\">\n",
       "      <th></th>\n",
       "      <th>n_gram</th>\n",
       "      <th>max_features</th>\n",
       "      <th>metric</th>\n",
       "    </tr>\n",
       "  </thead>\n",
       "  <tbody>\n",
       "    <tr>\n",
       "      <th>0</th>\n",
       "      <td>1.0</td>\n",
       "      <td>500.0</td>\n",
       "      <td>0.603604</td>\n",
       "    </tr>\n",
       "    <tr>\n",
       "      <th>1</th>\n",
       "      <td>1.0</td>\n",
       "      <td>1250.0</td>\n",
       "      <td>0.592664</td>\n",
       "    </tr>\n",
       "    <tr>\n",
       "      <th>2</th>\n",
       "      <td>1.0</td>\n",
       "      <td>2000.0</td>\n",
       "      <td>0.585586</td>\n",
       "    </tr>\n",
       "    <tr>\n",
       "      <th>3</th>\n",
       "      <td>1.0</td>\n",
       "      <td>2750.0</td>\n",
       "      <td>0.585586</td>\n",
       "    </tr>\n",
       "    <tr>\n",
       "      <th>4</th>\n",
       "      <td>1.0</td>\n",
       "      <td>3500.0</td>\n",
       "      <td>0.590734</td>\n",
       "    </tr>\n",
       "  </tbody>\n",
       "</table>\n",
       "</div>"
      ],
      "text/plain": [
       "   n_gram  max_features    metric\n",
       "0     1.0         500.0  0.603604\n",
       "1     1.0        1250.0  0.592664\n",
       "2     1.0        2000.0  0.585586\n",
       "3     1.0        2750.0  0.585586\n",
       "4     1.0        3500.0  0.590734"
      ]
     },
     "execution_count": 16,
     "metadata": {},
     "output_type": "execute_result"
    }
   ],
   "source": [
    "df_score.head()"
   ]
  },
  {
   "cell_type": "markdown",
   "id": "921b351b",
   "metadata": {},
   "source": [
    "Создадим функцию, которая будет строить график по этому датасету"
   ]
  },
  {
   "cell_type": "code",
   "execution_count": 17,
   "id": "d872be13",
   "metadata": {},
   "outputs": [],
   "source": [
    "def draw_plot(df: pd.DataFrame):\n",
    "    plt.figure(figsize = (10, 6))\n",
    "    plt.title('Зависимость качества модели faiss от параметра max_features и количества n-gram векторизатора TfidfVectorizer')\n",
    "    for n_gram in df['n_gram'].unique():\n",
    "        df_for_plot = df[df['n_gram'] == n_gram]\n",
    "        plt.plot(df_for_plot['max_features'], df_for_plot['metric'], label = f'n_gram {n_gram}')\n",
    "    plt.xlabel('max_features')\n",
    "    plt.ylabel('Recall@10')\n",
    "    plt.legend()\n",
    "    plt.grid()\n",
    "    plt.show()"
   ]
  },
  {
   "cell_type": "code",
   "execution_count": 18,
   "id": "af0e8b87",
   "metadata": {},
   "outputs": [
    {
     "data": {
      "image/png": "[encoded data removed]",
      "text/plain": [
       "<Figure size 1000x600 with 1 Axes>"
      ]
     },
     "metadata": {},
     "output_type": "display_data"
    }
   ],
   "source": [
    "draw_plot(df_score)"
   ]
  },
  {
   "cell_type": "markdown",
   "id": "c28ce945",
   "metadata": {},
   "source": [
    "Лучшие метрики получаются в районе max_features = 500 рассмотрим диапазон от 20 до 2000 более подробно"
   ]
  },
  {
   "cell_type": "code",
   "execution_count": 19,
   "id": "9cae903b",
   "metadata": {},
   "outputs": [
    {
     "name": "stderr",
     "output_type": "stream",
     "text": [
      "100%|████████████████████████████████████████████████████████████████████████████████████| 5/5 [02:08<00:00, 25.74s/it]\n"
     ]
    }
   ],
   "source": [
    "df_score = feature_selection_tf_idf(df_train, \n",
    "                                    id_base_dict,\n",
    "                                    y_train, \n",
    "                                    stopwords, \n",
    "                                    min_features = 20, \n",
    "                                    max_features = 2000,\n",
    "                                    count_steps_features=1000)"
   ]
  },
  {
   "cell_type": "code",
   "execution_count": 20,
   "id": "4cfd762e",
   "metadata": {},
   "outputs": [
    {
     "data": {
      "image/png": "[encoded data removed]",
      "text/plain": [
       "<Figure size 1000x600 with 1 Axes>"
      ]
     },
     "metadata": {},
     "output_type": "display_data"
    }
   ],
   "source": [
    "draw_plot(df_score)"
   ]
  },
  {
   "cell_type": "markdown",
   "id": "2d694df4",
   "metadata": {},
   "source": [
    "На данном участке почти везде лидирует n_gram = (1,1), однаков районе 500 - 750 нельзя однозначно сказать, какие параметры лучше. Поэтому  расмотрим диапазон max_features от 220 до 760"
   ]
  },
  {
   "cell_type": "code",
   "execution_count": 21,
   "id": "af5c9f44",
   "metadata": {},
   "outputs": [
    {
     "name": "stderr",
     "output_type": "stream",
     "text": [
      "100%|████████████████████████████████████████████████████████████████████████████████████| 5/5 [02:01<00:00, 24.30s/it]\n"
     ]
    }
   ],
   "source": [
    "df_score = feature_selection_tf_idf(df_train, \n",
    "                                    id_base_dict,\n",
    "                                    y_train, \n",
    "                                    stopwords, \n",
    "                                    min_features = 220, \n",
    "                                    max_features = 760,\n",
    "                                    count_steps_features=10)"
   ]
  },
  {
   "cell_type": "code",
   "execution_count": 22,
   "id": "3fbec62e",
   "metadata": {},
   "outputs": [
    {
     "data": {
      "image/png": "[encoded data removed]",
      "text/plain": [
       "<Figure size 1000x600 with 1 Axes>"
      ]
     },
     "metadata": {},
     "output_type": "display_data"
    }
   ],
   "source": [
    "draw_plot(df_score)"
   ]
  },
  {
   "cell_type": "markdown",
   "id": "c7642eb3",
   "metadata": {},
   "source": [
    "На основании графиков можно сделать вывод, что лучше всего справляются n_gram = (1, 1) c max_features = 490"
   ]
  },
  {
   "cell_type": "markdown",
   "id": "71efbca3",
   "metadata": {},
   "source": [
    "Переучим TfIdf и сформируем новые корпуса для дальнейшего исследования."
   ]
  },
  {
   "cell_type": "code",
   "execution_count": 23,
   "id": "5f432c78",
   "metadata": {},
   "outputs": [],
   "source": [
    "tf_idf = TfidfVectorizer(stop_words=stopwords, ngram_range=(1, 1), max_features = 490)\n",
    "corpus_train = tf_idf.fit_transform(df_train['lemm_text'].fillna(''))\n",
    "corpus_test = tf_idf.transform(df_test['lemm_text'].fillna(''))\n",
    "corpus_valid = tf_idf.transform(df_valid['lemm_text'].fillna(''))"
   ]
  },
  {
   "cell_type": "markdown",
   "id": "7a2d7944",
   "metadata": {},
   "source": [
    "Пересохраним обученный TfIdf"
   ]
  },
  {
   "cell_type": "code",
   "execution_count": 24,
   "id": "7dae48a0",
   "metadata": {},
   "outputs": [],
   "source": [
    "pickle.dump(tf_idf, open(PATH_TFIDFVECTORIZER, \"wb\"))"
   ]
  },
  {
   "cell_type": "markdown",
   "id": "4c857829",
   "metadata": {},
   "source": [
    "### Подбор гиперпараметров для faiss"
   ]
  },
  {
   "cell_type": "markdown",
   "id": "c5f94703",
   "metadata": {},
   "source": [
    "У самого faiss есть достаточно много гиперпарамеров, но в основном они направлены на оптимизацию скорости выполнения запроса, поэтому мы будем рассматривать изменение только одного параметра, а именно возвращаемое количество соседей (k). Ожидается, что при увеличении k постепенно будет увеличиваться Recall@k, но при этом точность модели будет падать, что усложнит дальнейшее обучение модели следующего этапа. Поэтому создадим функцию, которая будет рассччитывать точность на k образцах, а f1 меру посчитаем на основании полученных данных."
   ]
  },
  {
   "cell_type": "code",
   "execution_count": 25,
   "id": "e84dabcd",
   "metadata": {},
   "outputs": [],
   "source": [
    "def score_precision_k(y_true: pd.Series, y_pred: pd.Series) -> float:\n",
    "    metrick_list = []\n",
    "    for i, y_t in enumerate(y_true):\n",
    "        for y_p in y_pred[i]:       \n",
    "            if y_t is np.nan:\n",
    "                metrick_list.append(0)\n",
    "            else:\n",
    "                metrick_list.append(1 if y_p in y_t else 0)\n",
    "    return mean(metrick_list)  "
   ]
  },
  {
   "cell_type": "markdown",
   "id": "2f12b20f",
   "metadata": {},
   "source": [
    "Напишем функцию, которая также будет возвращать датасет с метриками."
   ]
  },
  {
   "cell_type": "code",
   "execution_count": 26,
   "id": "5c348a41",
   "metadata": {},
   "outputs": [],
   "source": [
    "def feature_selection_tf_idf(corpus_train: scipy.sparse,\n",
    "                             id_base_dict: Dict,\n",
    "                             y_train: pd.Series,\n",
    "                             min_k: int = 2,\n",
    "                             max_k: int = 10,\n",
    "                             random_state: int = 54321):\n",
    "    score_df = pd.DataFrame(columns = ['k', 'recall', 'precision', 'f1'])\n",
    "    \n",
    "    for k in range(min_k, max_k):\n",
    "        f_index = faiss_fit(corpus_train, random_state = random_state)\n",
    "        y_train_pred, dist_train_pred= faiss_predict(f_index, corpus_train, id_base_dict, k=k)   \n",
    "        rec = score_recall_k(y_train, y_train_pred)\n",
    "        prec = score_precision_k(y_train, y_train_pred)\n",
    "        f1 = 2 * rec * prec / (rec + prec)\n",
    "\n",
    "        score_df.loc[len(score_df.index )] = [k, rec, prec, f1]\n",
    "                \n",
    "    return score_df"
   ]
  },
  {
   "cell_type": "code",
   "execution_count": 27,
   "id": "89a6c7be",
   "metadata": {},
   "outputs": [],
   "source": [
    "df_score = feature_selection_tf_idf(corpus_train,\n",
    "                                    id_base_dict,\n",
    "                                    y_train,\n",
    "                                    max_k=40)"
   ]
  },
  {
   "cell_type": "markdown",
   "id": "40f55609",
   "metadata": {},
   "source": [
    "Построим график изменения качества модели"
   ]
  },
  {
   "cell_type": "code",
   "execution_count": 28,
   "id": "d95e3dbb",
   "metadata": {},
   "outputs": [
    {
     "data": {
      "text/plain": [
       "<Figure size 1000x900 with 0 Axes>"
      ]
     },
     "metadata": {},
     "output_type": "display_data"
    },
    {
     "data": {
      "image/png": "[encoded data removed]",
      "text/plain": [
       "<Figure size 640x480 with 3 Axes>"
      ]
     },
     "metadata": {},
     "output_type": "display_data"
    }
   ],
   "source": [
    "plt.figure(figsize = (10, 9))\n",
    "fig, axs = plt.subplots(3)\n",
    "fig.suptitle('Зависимость качества модели faiss от количества возвращаемых объектов (k)')\n",
    "axs[0].plot(df_score['k'], df_score['recall'], label='recall', c='b')\n",
    "axs[1].plot(df_score['k'], df_score['precision'], label='precision', c='y')\n",
    "axs[2].plot(df_score['k'], df_score['f1'], label='f1', c='g')\n",
    "plt.xlabel('количество возвращаемых объектов (k)')\n",
    "fig.supylabel('metrics')\n",
    "axs[0].grid()\n",
    "axs[1].grid()\n",
    "axs[2].grid()\n",
    "axs[0].legend()\n",
    "axs[1].legend()\n",
    "axs[2].legend()\n",
    "plt.show()"
   ]
  },
  {
   "cell_type": "markdown",
   "id": "9d8f7351",
   "metadata": {},
   "source": [
    "Как и ожидалось, при увеличении количества образцов полнота увеличилась, а точность начала падать. Однако, если анализировать данные f1, то оптимальное значение лежит в районе 7 - 8 образцов (будем брать 8). Именно его и будем использовать."
   ]
  },
  {
   "cell_type": "markdown",
   "id": "c51a9248",
   "metadata": {},
   "source": [
    "### Обучение индекса с выбранными параметрами на новом корпусе, проверка качества на тестовой выборке, изучение полученных результатов"
   ]
  },
  {
   "cell_type": "markdown",
   "id": "0fa215b6",
   "metadata": {},
   "source": [
    "Заново обучим индекс и посмотрим на показания recall "
   ]
  },
  {
   "cell_type": "code",
   "execution_count": 29,
   "id": "744c07b1",
   "metadata": {},
   "outputs": [
    {
     "data": {
      "text/plain": [
       "0.49034749034749037"
      ]
     },
     "execution_count": 29,
     "metadata": {},
     "output_type": "execute_result"
    }
   ],
   "source": [
    "f_index = faiss_fit(corpus_train, random_state=RANDOM_STATE)\n",
    "y_train_pred, dist_train_pred= faiss_predict(f_index, corpus_train, id_base_dict, 8)\n",
    "score_recall_k(y_train, y_train_pred)"
   ]
  },
  {
   "cell_type": "markdown",
   "id": "2bb37758",
   "metadata": {},
   "source": [
    "Проверим качество на тестовой выборке"
   ]
  },
  {
   "cell_type": "markdown",
   "id": "a72d78da",
   "metadata": {},
   "source": [
    "Проверим качество модели на тесте"
   ]
  },
  {
   "cell_type": "code",
   "execution_count": 30,
   "id": "b0a91f49",
   "metadata": {},
   "outputs": [
    {
     "data": {
      "text/plain": [
       "0.5574712643678161"
      ]
     },
     "execution_count": 30,
     "metadata": {},
     "output_type": "execute_result"
    }
   ],
   "source": [
    "y_test_pred, dist_test_pred = faiss_predict(f_index, corpus_test, id_base_dict, 8)\n",
    "score_recall_k(y_test, y_test_pred)"
   ]
  },
  {
   "cell_type": "markdown",
   "id": "9a93aeb3",
   "metadata": {},
   "source": [
    "На тестовой выборке получили примерно сопоставимое качество модели. "
   ]
  },
  {
   "cell_type": "markdown",
   "id": "0fbe6667",
   "metadata": {},
   "source": [
    "Посмотрим как выглядят первы 5 строк нашего прогноза и какие значения расстояния выдаёт модель (изучать будет тренировочные данные)."
   ]
  },
  {
   "cell_type": "code",
   "execution_count": 31,
   "id": "d500b2d3",
   "metadata": {
    "scrolled": true
   },
   "outputs": [
    {
     "data": {
      "text/plain": [
       "0    [17030debc293153f4209ea81928fcf33, b6840c6d29f...\n",
       "1    [6c3b156b42de14fd1e222304d14ee50d, 17030debc29...\n",
       "2    [dedfeed3c63e688509d138f80fd30b2f, 15ed971fdd0...\n",
       "3    [ad368cb71bf8aa98e9629bf2a65fc446, 17030debc29...\n",
       "4    [eb94e8aab853dcb0bb936b3b6a67ccd8, 9d3c03bb794...\n",
       "dtype: object"
      ]
     },
     "execution_count": 31,
     "metadata": {},
     "output_type": "execute_result"
    }
   ],
   "source": [
    "y_train_pred[:5]"
   ]
  },
  {
   "cell_type": "code",
   "execution_count": 32,
   "id": "813860ed",
   "metadata": {},
   "outputs": [
    {
     "data": {
      "text/plain": [
       "0                  [1.0, 1.0, 1.0, 1.0, 1.0, 1.0, 1.0]\n",
       "1    [0.040872756, 1.0000001, 1.0000001, 1.0000001,...\n",
       "2    [0.5859686, 0.6376199, 0.8719157, 0.9094687, 0...\n",
       "3                  [0.0, 1.0, 1.0, 1.0, 1.0, 1.0, 1.0]\n",
       "4    [0.5222106, 0.55571604, 0.56218755, 0.62411463...\n",
       "dtype: object"
      ]
     },
     "execution_count": 32,
     "metadata": {},
     "output_type": "execute_result"
    }
   ],
   "source": [
    "dist_train_pred[:5]"
   ]
  },
  {
   "cell_type": "markdown",
   "id": "b9c61922",
   "metadata": {},
   "source": [
    "Немного смущает 0 в 3 строчке, проверим эту строку в тренировочном датасете"
   ]
  },
  {
   "cell_type": "code",
   "execution_count": 33,
   "id": "f46f83c2",
   "metadata": {},
   "outputs": [
    {
     "data": {
      "text/html": [
       "<div>\n",
       "<style scoped>\n",
       "    .dataframe tbody tr th:only-of-type {\n",
       "        vertical-align: middle;\n",
       "    }\n",
       "\n",
       "    .dataframe tbody tr th {\n",
       "        vertical-align: top;\n",
       "    }\n",
       "\n",
       "    .dataframe thead th {\n",
       "        text-align: right;\n",
       "    }\n",
       "</style>\n",
       "<table border=\"1\" class=\"dataframe\">\n",
       "  <thead>\n",
       "    <tr style=\"text-align: right;\">\n",
       "      <th></th>\n",
       "      <th>original_track_id</th>\n",
       "      <th>track_id</th>\n",
       "      <th>track_remake_type</th>\n",
       "      <th>translate_text</th>\n",
       "      <th>dttm</th>\n",
       "      <th>title</th>\n",
       "      <th>language</th>\n",
       "      <th>isrc</th>\n",
       "      <th>genres</th>\n",
       "      <th>duration</th>\n",
       "      <th>cover_list</th>\n",
       "      <th>lemm_text</th>\n",
       "    </tr>\n",
       "  </thead>\n",
       "  <tbody>\n",
       "    <tr>\n",
       "      <th>3</th>\n",
       "      <td>43f4ccc81208af9ed8b646ddb3c89a31</td>\n",
       "      <td>43f4ccc81208af9ed8b646ddb3c89a31</td>\n",
       "      <td>ORIGINAL</td>\n",
       "      <td>Every centimeter, every edge of the soul and b...</td>\n",
       "      <td>2021-03-26 17:17:51</td>\n",
       "      <td>Ты так красива</td>\n",
       "      <td>RU</td>\n",
       "      <td>RUA1D2111316</td>\n",
       "      <td>['POP']</td>\n",
       "      <td>173380.0</td>\n",
       "      <td>NaN</td>\n",
       "      <td>every centimeter every edge of the soul and bo...</td>\n",
       "    </tr>\n",
       "  </tbody>\n",
       "</table>\n",
       "</div>"
      ],
      "text/plain": [
       "                  original_track_id                          track_id  \\\n",
       "3  43f4ccc81208af9ed8b646ddb3c89a31  43f4ccc81208af9ed8b646ddb3c89a31   \n",
       "\n",
       "  track_remake_type                                     translate_text  \\\n",
       "3          ORIGINAL  Every centimeter, every edge of the soul and b...   \n",
       "\n",
       "                  dttm           title language          isrc   genres  \\\n",
       "3  2021-03-26 17:17:51  Ты так красива       RU  RUA1D2111316  ['POP']   \n",
       "\n",
       "   duration cover_list                                          lemm_text  \n",
       "3  173380.0        NaN  every centimeter every edge of the soul and bo...  "
      ]
     },
     "execution_count": 33,
     "metadata": {},
     "output_type": "execute_result"
    }
   ],
   "source": [
    "df_train.loc[3:3]"
   ]
  },
  {
   "cell_type": "markdown",
   "id": "709aafd0",
   "metadata": {},
   "source": [
    "Согласно разметке это оригинал и у него нет каверов. Выведем трек с 0 расстоянием из прогноза."
   ]
  },
  {
   "cell_type": "code",
   "execution_count": 34,
   "id": "f1493ad9",
   "metadata": {},
   "outputs": [
    {
     "data": {
      "text/html": [
       "<div>\n",
       "<style scoped>\n",
       "    .dataframe tbody tr th:only-of-type {\n",
       "        vertical-align: middle;\n",
       "    }\n",
       "\n",
       "    .dataframe tbody tr th {\n",
       "        vertical-align: top;\n",
       "    }\n",
       "\n",
       "    .dataframe thead th {\n",
       "        text-align: right;\n",
       "    }\n",
       "</style>\n",
       "<table border=\"1\" class=\"dataframe\">\n",
       "  <thead>\n",
       "    <tr style=\"text-align: right;\">\n",
       "      <th></th>\n",
       "      <th>original_track_id</th>\n",
       "      <th>track_id</th>\n",
       "      <th>track_remake_type</th>\n",
       "      <th>translate_text</th>\n",
       "      <th>dttm</th>\n",
       "      <th>title</th>\n",
       "      <th>language</th>\n",
       "      <th>isrc</th>\n",
       "      <th>genres</th>\n",
       "      <th>duration</th>\n",
       "      <th>cover_list</th>\n",
       "      <th>lemm_text</th>\n",
       "    </tr>\n",
       "  </thead>\n",
       "  <tbody>\n",
       "    <tr>\n",
       "      <th>1885</th>\n",
       "      <td>ad368cb71bf8aa98e9629bf2a65fc446</td>\n",
       "      <td>ad368cb71bf8aa98e9629bf2a65fc446</td>\n",
       "      <td>ORIGINAL</td>\n",
       "      <td>Every centimeter, every edge of the soul and b...</td>\n",
       "      <td>2022-10-25 09:41:45</td>\n",
       "      <td>Ты так красива</td>\n",
       "      <td>RU</td>\n",
       "      <td>RUA1D2293955</td>\n",
       "      <td>['POP', 'RUSPOP']</td>\n",
       "      <td>173380.0</td>\n",
       "      <td>NaN</td>\n",
       "      <td>every centimeter every edge of the soul and bo...</td>\n",
       "    </tr>\n",
       "  </tbody>\n",
       "</table>\n",
       "</div>"
      ],
      "text/plain": [
       "                     original_track_id                          track_id  \\\n",
       "1885  ad368cb71bf8aa98e9629bf2a65fc446  ad368cb71bf8aa98e9629bf2a65fc446   \n",
       "\n",
       "     track_remake_type                                     translate_text  \\\n",
       "1885          ORIGINAL  Every centimeter, every edge of the soul and b...   \n",
       "\n",
       "                     dttm           title language          isrc  \\\n",
       "1885  2022-10-25 09:41:45  Ты так красива       RU  RUA1D2293955   \n",
       "\n",
       "                 genres  duration cover_list  \\\n",
       "1885  ['POP', 'RUSPOP']  173380.0        NaN   \n",
       "\n",
       "                                              lemm_text  \n",
       "1885  every centimeter every edge of the soul and bo...  "
      ]
     },
     "execution_count": 34,
     "metadata": {},
     "output_type": "execute_result"
    }
   ],
   "source": [
    "df_train[df_train['track_id']=='ad368cb71bf8aa98e9629bf2a65fc446']"
   ]
  },
  {
   "cell_type": "markdown",
   "id": "69bf2083",
   "metadata": {},
   "source": [
    "Как видим это одна и та же песня, но у них почему то разный track_id и isrc, Но обе почему-то имеют метку оригинала (возможно имеется проблема с разметкой датасета и это нужно будет проверить."
   ]
  },
  {
   "cell_type": "markdown",
   "id": "5e0da7ae",
   "metadata": {},
   "source": [
    "Проверим как много таких даных в датасете (посчитаем количество треков с 0 растоянием и разным original_track_id"
   ]
  },
  {
   "cell_type": "code",
   "execution_count": 35,
   "id": "8293bcc1",
   "metadata": {},
   "outputs": [
    {
     "name": "stdout",
     "output_type": "stream",
     "text": [
      "Количество пар треков с 0 расстоянием и разным original_track_id 70 (3.358925143953935%)\n"
     ]
    }
   ],
   "source": [
    "count = 0\n",
    "list_bad_track = []\n",
    "for i in range(dist_train_pred.shape[0]):\n",
    "    for j in range(len(dist_train_pred[i])):\n",
    "        if dist_train_pred[i][j]==0:\n",
    "            original_track_id_1 = df_train.loc[i, 'original_track_id']\n",
    "            original_track_id_2 = (df_train\n",
    "                                   .loc[df_train['track_id']==y_train_pred[i][j], 'original_track_id']\n",
    "                                   .reset_index(drop=True)[0])\n",
    "            if original_track_id_1 != original_track_id_2:\n",
    "                count += 1\n",
    "                list_bad_track.append((df_train.loc[i, 'track_id'],\n",
    "                                       (df_train\n",
    "                                       .loc[df_train['track_id']==y_train_pred[i][j], 'track_id']\n",
    "                                       .reset_index(drop=True)[0])))\n",
    "print(f'Количество пар треков с 0 расстоянием и разным original_track_id {count} ({count / y_train_pred.shape[0] * 100}%)')"
   ]
  },
  {
   "cell_type": "markdown",
   "id": "54937e8e",
   "metadata": {},
   "source": [
    "У нас 70 таких пар. Убедимся в том, что алгоритм отработал корректно, выведем например десятую пару"
   ]
  },
  {
   "cell_type": "code",
   "execution_count": 36,
   "id": "cc0b619e",
   "metadata": {},
   "outputs": [
    {
     "data": {
      "text/html": [
       "<div>\n",
       "<style scoped>\n",
       "    .dataframe tbody tr th:only-of-type {\n",
       "        vertical-align: middle;\n",
       "    }\n",
       "\n",
       "    .dataframe tbody tr th {\n",
       "        vertical-align: top;\n",
       "    }\n",
       "\n",
       "    .dataframe thead th {\n",
       "        text-align: right;\n",
       "    }\n",
       "</style>\n",
       "<table border=\"1\" class=\"dataframe\">\n",
       "  <thead>\n",
       "    <tr style=\"text-align: right;\">\n",
       "      <th></th>\n",
       "      <th>original_track_id</th>\n",
       "      <th>track_id</th>\n",
       "      <th>track_remake_type</th>\n",
       "      <th>translate_text</th>\n",
       "      <th>dttm</th>\n",
       "      <th>title</th>\n",
       "      <th>language</th>\n",
       "      <th>isrc</th>\n",
       "      <th>genres</th>\n",
       "      <th>duration</th>\n",
       "      <th>cover_list</th>\n",
       "      <th>lemm_text</th>\n",
       "    </tr>\n",
       "  </thead>\n",
       "  <tbody>\n",
       "    <tr>\n",
       "      <th>431</th>\n",
       "      <td>dab794931ab35c33a9945be64e276500</td>\n",
       "      <td>dab794931ab35c33a9945be64e276500</td>\n",
       "      <td>ORIGINAL</td>\n",
       "      <td>Cold bones\\nYeah, that's my love\\nShe glides a...</td>\n",
       "      <td>2022-01-20 21:00:00</td>\n",
       "      <td>Where's My Love</td>\n",
       "      <td>EN</td>\n",
       "      <td>CAN111700009</td>\n",
       "      <td>['INDIE']</td>\n",
       "      <td>202100.0</td>\n",
       "      <td>NaN</td>\n",
       "      <td>cold bone yeah that s my love she glide away l...</td>\n",
       "    </tr>\n",
       "  </tbody>\n",
       "</table>\n",
       "</div>"
      ],
      "text/plain": [
       "                    original_track_id                          track_id  \\\n",
       "431  dab794931ab35c33a9945be64e276500  dab794931ab35c33a9945be64e276500   \n",
       "\n",
       "    track_remake_type                                     translate_text  \\\n",
       "431          ORIGINAL  Cold bones\\nYeah, that's my love\\nShe glides a...   \n",
       "\n",
       "                    dttm            title language          isrc     genres  \\\n",
       "431  2022-01-20 21:00:00  Where's My Love       EN  CAN111700009  ['INDIE']   \n",
       "\n",
       "     duration cover_list                                          lemm_text  \n",
       "431  202100.0        NaN  cold bone yeah that s my love she glide away l...  "
      ]
     },
     "execution_count": 36,
     "metadata": {},
     "output_type": "execute_result"
    }
   ],
   "source": [
    "df_train[df_train['track_id']==list_bad_track[10][0]]"
   ]
  },
  {
   "cell_type": "code",
   "execution_count": 37,
   "id": "4b6ceaf9",
   "metadata": {},
   "outputs": [
    {
     "data": {
      "text/html": [
       "<div>\n",
       "<style scoped>\n",
       "    .dataframe tbody tr th:only-of-type {\n",
       "        vertical-align: middle;\n",
       "    }\n",
       "\n",
       "    .dataframe tbody tr th {\n",
       "        vertical-align: top;\n",
       "    }\n",
       "\n",
       "    .dataframe thead th {\n",
       "        text-align: right;\n",
       "    }\n",
       "</style>\n",
       "<table border=\"1\" class=\"dataframe\">\n",
       "  <thead>\n",
       "    <tr style=\"text-align: right;\">\n",
       "      <th></th>\n",
       "      <th>original_track_id</th>\n",
       "      <th>track_id</th>\n",
       "      <th>track_remake_type</th>\n",
       "      <th>translate_text</th>\n",
       "      <th>dttm</th>\n",
       "      <th>title</th>\n",
       "      <th>language</th>\n",
       "      <th>isrc</th>\n",
       "      <th>genres</th>\n",
       "      <th>duration</th>\n",
       "      <th>cover_list</th>\n",
       "      <th>lemm_text</th>\n",
       "    </tr>\n",
       "  </thead>\n",
       "  <tbody>\n",
       "    <tr>\n",
       "      <th>348</th>\n",
       "      <td>4500cc1d632ca30c29eb64fd4c41cef9</td>\n",
       "      <td>4500cc1d632ca30c29eb64fd4c41cef9</td>\n",
       "      <td>ORIGINAL</td>\n",
       "      <td>Cold bones\\nYeah, that's my love\\nShe glides a...</td>\n",
       "      <td>2022-01-21 21:00:00</td>\n",
       "      <td>Where's My Love</td>\n",
       "      <td>EN</td>\n",
       "      <td>CAN111600624</td>\n",
       "      <td>['INDIE']</td>\n",
       "      <td>239880.0</td>\n",
       "      <td>NaN</td>\n",
       "      <td>cold bone yeah that s my love she glide away l...</td>\n",
       "    </tr>\n",
       "  </tbody>\n",
       "</table>\n",
       "</div>"
      ],
      "text/plain": [
       "                    original_track_id                          track_id  \\\n",
       "348  4500cc1d632ca30c29eb64fd4c41cef9  4500cc1d632ca30c29eb64fd4c41cef9   \n",
       "\n",
       "    track_remake_type                                     translate_text  \\\n",
       "348          ORIGINAL  Cold bones\\nYeah, that's my love\\nShe glides a...   \n",
       "\n",
       "                    dttm            title language          isrc     genres  \\\n",
       "348  2022-01-21 21:00:00  Where's My Love       EN  CAN111600624  ['INDIE']   \n",
       "\n",
       "     duration cover_list                                          lemm_text  \n",
       "348  239880.0        NaN  cold bone yeah that s my love she glide away l...  "
      ]
     },
     "execution_count": 37,
     "metadata": {},
     "output_type": "execute_result"
    }
   ],
   "source": [
    "df_train[df_train['track_id']==list_bad_track[10][1]]"
   ]
  },
  {
   "cell_type": "markdown",
   "id": "33cdedd9",
   "metadata": {},
   "source": [
    "Имеем схожую ситуацию, но при этом таких строк всего 70. Пока оставим эти данные как есть, а в дальнейшем, попробуем использовать их для улучшения качества модели."
   ]
  },
  {
   "cell_type": "markdown",
   "id": "06b9fd74",
   "metadata": {},
   "source": [
    "### Выводы"
   ]
  },
  {
   "cell_type": "markdown",
   "id": "92ba75ac",
   "metadata": {},
   "source": [
    "В данном разделе была разработана и обучена модель для нахождения k ближайших треков, в качестве такой модели был выбран faiss. В ходе создания модели была проделана следующая работа:\n",
    "1. Выбраны метрики качества и написаны функции для их определения;\n",
    "2. Подобраны оптимальные параметры для TfIdf текстов песен (n_gram = (1, 1), max_features = 490);\n",
    "3. Подобрано лучшее количество возвращаемых k ближайших (выбор осуществлялся на основании f1 меры, поскольку увеличение количества ближайших соседей увеличивает полноту, но просаживает точность)\n",
    "4. В первом приближении исследованы результаты модели, было обнаружено, что в датасете отобранном для тренировочных данных 70 пар треков с 0 расстоянием и разным original_track_id (примерно 3.36%)"
   ]
  },
  {
   "cell_type": "markdown",
   "id": "8bd73b02",
   "metadata": {},
   "source": [
    "## Модель принимающая решения является ли пара треков каверами"
   ]
  },
  {
   "cell_type": "markdown",
   "id": "bef98940",
   "metadata": {},
   "source": [
    "После подбора наиболее подходящих треков создадим новый датасет и поверхнего обучим модель, которая будет решать является ли эта пара треков каверами / оригиналами. Для начала создадим датасет на основании предыдущего этапа моделирования. Рассмотрим следующие варианты создания датасета:\n",
    "\n",
    "1. Добавления столбцов для обучения для каждого образца и добавления растояния между образцами;\n",
    "2. Проверка на равнество для категориальных признаков, а для  количественных как в первом варианте;\n",
    "3. Отношение для количественных признаков, а остальное как в первом варианте;\n",
    "4. Объединение 2 и 3 варианта;\n",
    "5. Объединение первых 3 вариантов (т.е. будем оставлять как первоначальные столбцы, так и сгенерированные)."
   ]
  },
  {
   "cell_type": "markdown",
   "id": "7f561a35",
   "metadata": {},
   "source": [
    "Выделим нужные категориальные и числовые столбцы"
   ]
  },
  {
   "cell_type": "code",
   "execution_count": 38,
   "id": "89048ff1",
   "metadata": {},
   "outputs": [],
   "source": [
    "cat_features = ['language', 'title']\n",
    "num_features = ['duration']"
   ]
  },
  {
   "cell_type": "markdown",
   "id": "21db93e4",
   "metadata": {},
   "source": [
    "### Проверка модели с сохранением всех прирзнаков для обоих образцов и добавлением расстояния между ними (модель 1)"
   ]
  },
  {
   "cell_type": "markdown",
   "id": "f58d2a7f",
   "metadata": {},
   "source": [
    "Напишем функцию для переименования столбцов, так как нам потребуется разделять признаки для одного и для второго образца"
   ]
  },
  {
   "cell_type": "code",
   "execution_count": 39,
   "id": "7514cd05",
   "metadata": {},
   "outputs": [],
   "source": [
    "def rename_columns(df: pd.DataFrame, ind: int) -> pd.DataFrame:\n",
    "    df = df.copy(deep = True)\n",
    "    ind = '_' + str(ind)\n",
    "    columns_dict = dict()\n",
    "    for column in df.columns:\n",
    "        columns_dict[column] = column + ind\n",
    "        \n",
    "    df = df.rename(columns = columns_dict)\n",
    "    return df"
   ]
  },
  {
   "cell_type": "markdown",
   "id": "dea12a54",
   "metadata": {},
   "source": [
    "Создадим функцию для получения значения target, которое будет показывать входит ли трек с id_1 в состав каверов для трека с id_2 или наоборот."
   ]
  },
  {
   "cell_type": "code",
   "execution_count": 40,
   "id": "b9d3b838",
   "metadata": {},
   "outputs": [],
   "source": [
    "def get_target(df: pd.DataFrame, id_1: str, id_2: str) -> int:\n",
    "    target_value = ((~df.loc[df['track_id']==id_1, 'cover_list'].isna().any() and\n",
    "                   id_2 in df.loc[df['track_id']==id_1, 'cover_list'].values[0]) or \n",
    "                   (~df.loc[df['track_id']==id_2, 'cover_list'].isna().any() and\n",
    "                   id_1 in df.loc[df['track_id']==id_2, 'cover_list'].values[0]))\n",
    "    return int(target_value)"
   ]
  },
  {
   "cell_type": "markdown",
   "id": "17f6f265",
   "metadata": {},
   "source": [
    "Напишем  функцию для создания строки датасета по 2 заданным track_id"
   ]
  },
  {
   "cell_type": "code",
   "execution_count": 41,
   "id": "c0d4566c",
   "metadata": {},
   "outputs": [],
   "source": [
    "def get_row_to_df_v1(df: pd.DataFrame, \n",
    "                     id_1: str, \n",
    "                     id_2: str, \n",
    "                     dist: float, \n",
    "                     cat_features: List[str] = [], \n",
    "                     num_features: List[str] = [], \n",
    "                     is_train: bool = True) -> pd.DataFrame:\n",
    "    all_features = num_features + cat_features\n",
    "    # получаем нудные столбцы\n",
    "    df_1 = df.loc[df['track_id'] == id_1, all_features].reset_index(drop=True)\n",
    "    df_2 = df.loc[df['track_id'] == id_2, all_features].reset_index(drop=True)\n",
    "    # переименовываем столбцы\n",
    "    df_1 = rename_columns(df_1, 1)\n",
    "    df_2 = rename_columns(df_2, 2)\n",
    "    # объединяем\n",
    "    new_df = pd.concat([df_1, df_2], axis=1)\n",
    "    # добавляем расстояние\n",
    "    new_df['dist'] = dist\n",
    "    if is_train:\n",
    "        new_df['target'] = get_target(df, id_1, id_2)\n",
    "    return new_df"
   ]
  },
  {
   "cell_type": "markdown",
   "id": "5a686382",
   "metadata": {},
   "source": [
    "Создадим функцию для генерации всего датсета, при этом сделаем так, что бы она на вход принимала функцию генерации признаков, это позволит в дальнейшем переиспользовать её."
   ]
  },
  {
   "cell_type": "code",
   "execution_count": 42,
   "id": "450883f2",
   "metadata": {},
   "outputs": [],
   "source": [
    "def get_df(df: pd.DataFrame, \n",
    "           series_pred: pd.Series, \n",
    "           series_dist: pd.Series, \n",
    "           function: Callable, \n",
    "           cat_features: List[str] = [], \n",
    "           num_features: List[str] = [],\n",
    "           is_train: bool = True) -> pd.DataFrame:\n",
    "    new_df = pd.DataFrame()\n",
    "    for i in tqdm(range(series_pred.shape[0])):\n",
    "        list_pred = series_pred[i]\n",
    "        list_dist = series_dist[i]\n",
    "        for j in range(len(list_pred)):\n",
    "            df_match = function(df, \n",
    "                                df.loc[i, 'track_id'], \n",
    "                                list_pred[j],\n",
    "                                list_dist[j],\n",
    "                                cat_features,\n",
    "                                num_features)\n",
    "            new_df = pd.concat([new_df, df_match])\n",
    "    return new_df.reset_index(drop=True)"
   ]
  },
  {
   "cell_type": "markdown",
   "id": "09dfa249",
   "metadata": {},
   "source": [
    "Сгенерируем датасет"
   ]
  },
  {
   "cell_type": "code",
   "execution_count": 43,
   "id": "8c8d8d45",
   "metadata": {},
   "outputs": [
    {
     "name": "stderr",
     "output_type": "stream",
     "text": [
      "100%|██████████████████████████████████████████████████████████████████████████████| 2084/2084 [00:50<00:00, 41.66it/s]\n"
     ]
    }
   ],
   "source": [
    "df_cat_train = get_df(df_train, y_train_pred, dist_train_pred, get_row_to_df_v1, cat_features, num_features)"
   ]
  },
  {
   "cell_type": "code",
   "execution_count": 44,
   "id": "e90475e9",
   "metadata": {},
   "outputs": [
    {
     "data": {
      "text/html": [
       "<div>\n",
       "<style scoped>\n",
       "    .dataframe tbody tr th:only-of-type {\n",
       "        vertical-align: middle;\n",
       "    }\n",
       "\n",
       "    .dataframe tbody tr th {\n",
       "        vertical-align: top;\n",
       "    }\n",
       "\n",
       "    .dataframe thead th {\n",
       "        text-align: right;\n",
       "    }\n",
       "</style>\n",
       "<table border=\"1\" class=\"dataframe\">\n",
       "  <thead>\n",
       "    <tr style=\"text-align: right;\">\n",
       "      <th></th>\n",
       "      <th>duration_1</th>\n",
       "      <th>language_1</th>\n",
       "      <th>title_1</th>\n",
       "      <th>duration_2</th>\n",
       "      <th>language_2</th>\n",
       "      <th>title_2</th>\n",
       "      <th>dist</th>\n",
       "      <th>target</th>\n",
       "    </tr>\n",
       "  </thead>\n",
       "  <tbody>\n",
       "    <tr>\n",
       "      <th>0</th>\n",
       "      <td>188240.0</td>\n",
       "      <td>RU</td>\n",
       "      <td>Стань</td>\n",
       "      <td>155950.0</td>\n",
       "      <td>FR</td>\n",
       "      <td>Free to Feel</td>\n",
       "      <td>1.0</td>\n",
       "      <td>0</td>\n",
       "    </tr>\n",
       "    <tr>\n",
       "      <th>1</th>\n",
       "      <td>188240.0</td>\n",
       "      <td>RU</td>\n",
       "      <td>Стань</td>\n",
       "      <td>163290.0</td>\n",
       "      <td>EN</td>\n",
       "      <td>Over You</td>\n",
       "      <td>1.0</td>\n",
       "      <td>0</td>\n",
       "    </tr>\n",
       "    <tr>\n",
       "      <th>2</th>\n",
       "      <td>188240.0</td>\n",
       "      <td>RU</td>\n",
       "      <td>Стань</td>\n",
       "      <td>136640.0</td>\n",
       "      <td>EN</td>\n",
       "      <td>Fenomen</td>\n",
       "      <td>1.0</td>\n",
       "      <td>0</td>\n",
       "    </tr>\n",
       "    <tr>\n",
       "      <th>3</th>\n",
       "      <td>188240.0</td>\n",
       "      <td>RU</td>\n",
       "      <td>Стань</td>\n",
       "      <td>158690.0</td>\n",
       "      <td>RU</td>\n",
       "      <td>Du heru es</td>\n",
       "      <td>1.0</td>\n",
       "      <td>0</td>\n",
       "    </tr>\n",
       "    <tr>\n",
       "      <th>4</th>\n",
       "      <td>188240.0</td>\n",
       "      <td>RU</td>\n",
       "      <td>Стань</td>\n",
       "      <td>105880.0</td>\n",
       "      <td>EN</td>\n",
       "      <td>Enigma</td>\n",
       "      <td>1.0</td>\n",
       "      <td>0</td>\n",
       "    </tr>\n",
       "  </tbody>\n",
       "</table>\n",
       "</div>"
      ],
      "text/plain": [
       "   duration_1 language_1 title_1  duration_2 language_2       title_2  dist  \\\n",
       "0    188240.0         RU   Стань    155950.0         FR  Free to Feel   1.0   \n",
       "1    188240.0         RU   Стань    163290.0         EN      Over You   1.0   \n",
       "2    188240.0         RU   Стань    136640.0         EN       Fenomen   1.0   \n",
       "3    188240.0         RU   Стань    158690.0         RU    Du heru es   1.0   \n",
       "4    188240.0         RU   Стань    105880.0         EN        Enigma   1.0   \n",
       "\n",
       "   target  \n",
       "0       0  \n",
       "1       0  \n",
       "2       0  \n",
       "3       0  \n",
       "4       0  "
      ]
     },
     "execution_count": 44,
     "metadata": {},
     "output_type": "execute_result"
    }
   ],
   "source": [
    "df_cat_train.head()"
   ]
  },
  {
   "cell_type": "markdown",
   "id": "a6f1f02f",
   "metadata": {},
   "source": [
    "Поскольку названия столбцов в датасете менялись, то нужно выбрать новые списки категориальных и числовых признаков"
   ]
  },
  {
   "cell_type": "code",
   "execution_count": 45,
   "id": "8b772435",
   "metadata": {},
   "outputs": [],
   "source": [
    "def get_features_list(df: pd.DataFrame,\n",
    "                      cat_features: List[str] = [], \n",
    "                      num_features: List[str] = []) -> Tuple[List, List]:\n",
    "    columns = df.columns\n",
    "    new_cat_features = []\n",
    "    new_num_features = []\n",
    "    for column in columns:\n",
    "        if column.split('_')[0] in cat_features:\n",
    "            new_cat_features.append(column)\n",
    "        if column.split('_')[0] in num_features:\n",
    "            new_num_features.append(column)\n",
    "    return new_cat_features, new_num_features"
   ]
  },
  {
   "cell_type": "code",
   "execution_count": 46,
   "id": "881a4fe7",
   "metadata": {},
   "outputs": [],
   "source": [
    "new_cat_features, new_num_features = get_features_list(df_cat_train, cat_features, num_features)"
   ]
  },
  {
   "cell_type": "markdown",
   "id": "3c852341",
   "metadata": {},
   "source": [
    "Посмотрим как распределён целевой признак."
   ]
  },
  {
   "cell_type": "code",
   "execution_count": 47,
   "id": "d43d28da",
   "metadata": {},
   "outputs": [
    {
     "data": {
      "text/plain": [
       "0.05223471346312037"
      ]
     },
     "execution_count": 47,
     "metadata": {},
     "output_type": "execute_result"
    }
   ],
   "source": [
    "df_cat_train['target'].mean()"
   ]
  },
  {
   "cell_type": "markdown",
   "id": "a8c576e4",
   "metadata": {},
   "source": [
    "Выделим признаки и цели обучения"
   ]
  },
  {
   "cell_type": "code",
   "execution_count": 48,
   "id": "9e89323e",
   "metadata": {},
   "outputs": [],
   "source": [
    "X_train = df_cat_train.drop('target', axis=1)\n",
    "y_train = df_cat_train['target']"
   ]
  },
  {
   "cell_type": "markdown",
   "id": "a9c7703b",
   "metadata": {},
   "source": [
    "Как видим у нас всего около 5% матчей, поэтому при обучении необходимо указать модели на дисбаланс классов. Как отмечалось ранее для обучения будем использовать CatBoostClassifier. Поскольку у нас задача свелась к задачи классификации, то в качестве метрики будем использовать f1 меру."
   ]
  },
  {
   "cell_type": "code",
   "execution_count": 49,
   "id": "295d4846",
   "metadata": {},
   "outputs": [],
   "source": [
    "cat_model = CatBoostClassifier(random_state=RANDOM_STATE, \n",
    "                               cat_features=new_cat_features,\n",
    "                               verbose=False)"
   ]
  },
  {
   "cell_type": "markdown",
   "id": "9572e440",
   "metadata": {},
   "source": [
    "Определять качество модели будем на кроссвалидации, поскольку у нас крайне мало целевых значений, то для разделения на фолды будем использовать StratifiedKFold"
   ]
  },
  {
   "cell_type": "code",
   "execution_count": 50,
   "id": "403c5b18",
   "metadata": {},
   "outputs": [],
   "source": [
    "skf = StratifiedKFold(n_splits=4)\n",
    "folds = skf.split(X_train, y_train)"
   ]
  },
  {
   "cell_type": "code",
   "execution_count": 51,
   "id": "cd23a107",
   "metadata": {},
   "outputs": [
    {
     "name": "stdout",
     "output_type": "stream",
     "text": [
      "Метрика f1 на кроссвалидации [0.60049628 0.7124183  0.67820069 0.24770642]\n",
      "Среднее значение f1 на всём датасете 0.5597054231572747\n",
      "CPU times: total: 8min 57s\n",
      "Wall time: 1min 15s\n"
     ]
    }
   ],
   "source": [
    "%%time\n",
    "cvs = cross_val_score(cat_model, X_train, y_train, cv=folds, scoring='f1')\n",
    "print(f'Метрика f1 на кроссвалидации {cvs}')\n",
    "print(f'Среднее значение f1 на всём датасете {mean(cvs)}')"
   ]
  },
  {
   "cell_type": "markdown",
   "id": "6d9fd6d8",
   "metadata": {},
   "source": [
    "Проверим нашу гипотезу, что в данных сильный дисбаланс классов и передача весов, поможет улучшить качество модели."
   ]
  },
  {
   "cell_type": "code",
   "execution_count": 52,
   "id": "076f1cc1",
   "metadata": {},
   "outputs": [],
   "source": [
    "classes = np.unique(y_train)\n",
    "weights = compute_class_weight(class_weight='balanced', classes=classes, y=y_train)\n",
    "class_weights = dict(zip(classes, weights))"
   ]
  },
  {
   "cell_type": "code",
   "execution_count": 53,
   "id": "faf5fd34",
   "metadata": {},
   "outputs": [],
   "source": [
    "cat_model = CatBoostClassifier(random_state=RANDOM_STATE, \n",
    "                               cat_features=new_cat_features,\n",
    "                               verbose=False,\n",
    "                               class_weights=class_weights)"
   ]
  },
  {
   "cell_type": "code",
   "execution_count": 54,
   "id": "e0748315",
   "metadata": {},
   "outputs": [
    {
     "name": "stdout",
     "output_type": "stream",
     "text": [
      "Метрика f1 на кроссвалидации [0.66236559 0.70779221 0.68493151 0.27149321]\n",
      "Среднее значение f1 на всём датасете 0.581645629677264\n",
      "CPU times: total: 8min 25s\n",
      "Wall time: 1min 11s\n"
     ]
    }
   ],
   "source": [
    "%%time\n",
    "skf = StratifiedKFold(n_splits=4)\n",
    "folds = skf.split(X_train, y_train)\n",
    "\n",
    "cvs = cross_val_score(cat_model, X_train, y_train, cv=folds, scoring='f1')\n",
    "print(f'Метрика f1 на кроссвалидации {cvs}')\n",
    "print(f'Среднее значение f1 на всём датасете {mean(cvs)}')"
   ]
  },
  {
   "cell_type": "markdown",
   "id": "bc7ab1d6",
   "metadata": {},
   "source": [
    "Действительно, сбалансированные веса позволяют улучшить качество модели."
   ]
  },
  {
   "cell_type": "markdown",
   "id": "f4e884f1",
   "metadata": {},
   "source": [
    "### Проверка модели с сохранением числовых прирзнаков для обоих образцов и сравнением на равенство категориальных признаков (плюс сохранение дистанции)  (модель 2)"
   ]
  },
  {
   "cell_type": "markdown",
   "id": "22810cdf",
   "metadata": {},
   "source": [
    "Создадим функцию, для реализации второй стратегии при которой проверяется равенство категориальных признаков"
   ]
  },
  {
   "cell_type": "code",
   "execution_count": 55,
   "id": "4f756ec0",
   "metadata": {},
   "outputs": [],
   "source": [
    "def get_row_to_df_v2(df: pd.DataFrame, \n",
    "                     id_1: str, \n",
    "                     id_2: str, \n",
    "                     dist: float, \n",
    "                     cat_features: List[str] = [], \n",
    "                     num_features: List[str] = [], \n",
    "                     is_train: bool = True) -> pd.DataFrame:\n",
    "    # сравниваем категориальные столбцы\n",
    "    new_df = pd.DataFrame()\n",
    "    for column in cat_features:\n",
    "        new_df[column] =pd.Series(df.loc[df['track_id'] == id_1, column].reset_index(drop=True)[0] \n",
    "                                  == df.loc[df['track_id'] == id_2, column].reset_index(drop=True)[0])\n",
    "    # для числовых столбцов воспользуемся функцией написаной ранее\n",
    "    num_df = get_row_to_df_v1(df, \n",
    "                              id_1, \n",
    "                              id_2,\n",
    "                              dist,\n",
    "                              num_features = num_features)    \n",
    "    new_df = pd.concat([new_df ,num_df], axis=1)\n",
    "    return new_df"
   ]
  },
  {
   "cell_type": "markdown",
   "id": "68770c8b",
   "metadata": {},
   "source": [
    "Получим датасет"
   ]
  },
  {
   "cell_type": "code",
   "execution_count": 56,
   "id": "c079d7bb",
   "metadata": {},
   "outputs": [
    {
     "name": "stderr",
     "output_type": "stream",
     "text": [
      "100%|██████████████████████████████████████████████████████████████████████████████| 2084/2084 [01:20<00:00, 25.93it/s]\n"
     ]
    }
   ],
   "source": [
    "df_cat_train = get_df(df_train, y_train_pred, dist_train_pred, get_row_to_df_v2, cat_features, num_features)"
   ]
  },
  {
   "cell_type": "markdown",
   "id": "bea25d9c",
   "metadata": {},
   "source": [
    "Выведем список первых 5 строк и убедимся, что всё отработало корректно (отношение 0 и 1 в таргете должно остаться прежним)"
   ]
  },
  {
   "cell_type": "code",
   "execution_count": 57,
   "id": "0110ed23",
   "metadata": {},
   "outputs": [
    {
     "data": {
      "text/html": [
       "<div>\n",
       "<style scoped>\n",
       "    .dataframe tbody tr th:only-of-type {\n",
       "        vertical-align: middle;\n",
       "    }\n",
       "\n",
       "    .dataframe tbody tr th {\n",
       "        vertical-align: top;\n",
       "    }\n",
       "\n",
       "    .dataframe thead th {\n",
       "        text-align: right;\n",
       "    }\n",
       "</style>\n",
       "<table border=\"1\" class=\"dataframe\">\n",
       "  <thead>\n",
       "    <tr style=\"text-align: right;\">\n",
       "      <th></th>\n",
       "      <th>language</th>\n",
       "      <th>title</th>\n",
       "      <th>duration_1</th>\n",
       "      <th>duration_2</th>\n",
       "      <th>dist</th>\n",
       "      <th>target</th>\n",
       "    </tr>\n",
       "  </thead>\n",
       "  <tbody>\n",
       "    <tr>\n",
       "      <th>0</th>\n",
       "      <td>False</td>\n",
       "      <td>False</td>\n",
       "      <td>188240.0</td>\n",
       "      <td>155950.0</td>\n",
       "      <td>1.0</td>\n",
       "      <td>0</td>\n",
       "    </tr>\n",
       "    <tr>\n",
       "      <th>1</th>\n",
       "      <td>False</td>\n",
       "      <td>False</td>\n",
       "      <td>188240.0</td>\n",
       "      <td>163290.0</td>\n",
       "      <td>1.0</td>\n",
       "      <td>0</td>\n",
       "    </tr>\n",
       "    <tr>\n",
       "      <th>2</th>\n",
       "      <td>False</td>\n",
       "      <td>False</td>\n",
       "      <td>188240.0</td>\n",
       "      <td>136640.0</td>\n",
       "      <td>1.0</td>\n",
       "      <td>0</td>\n",
       "    </tr>\n",
       "    <tr>\n",
       "      <th>3</th>\n",
       "      <td>True</td>\n",
       "      <td>False</td>\n",
       "      <td>188240.0</td>\n",
       "      <td>158690.0</td>\n",
       "      <td>1.0</td>\n",
       "      <td>0</td>\n",
       "    </tr>\n",
       "    <tr>\n",
       "      <th>4</th>\n",
       "      <td>False</td>\n",
       "      <td>False</td>\n",
       "      <td>188240.0</td>\n",
       "      <td>105880.0</td>\n",
       "      <td>1.0</td>\n",
       "      <td>0</td>\n",
       "    </tr>\n",
       "  </tbody>\n",
       "</table>\n",
       "</div>"
      ],
      "text/plain": [
       "   language  title  duration_1  duration_2  dist  target\n",
       "0     False  False    188240.0    155950.0   1.0       0\n",
       "1     False  False    188240.0    163290.0   1.0       0\n",
       "2     False  False    188240.0    136640.0   1.0       0\n",
       "3      True  False    188240.0    158690.0   1.0       0\n",
       "4     False  False    188240.0    105880.0   1.0       0"
      ]
     },
     "execution_count": 57,
     "metadata": {},
     "output_type": "execute_result"
    }
   ],
   "source": [
    "df_cat_train.head()"
   ]
  },
  {
   "cell_type": "code",
   "execution_count": 58,
   "id": "d900c005",
   "metadata": {},
   "outputs": [
    {
     "data": {
      "text/plain": [
       "0.05223471346312037"
      ]
     },
     "execution_count": 58,
     "metadata": {},
     "output_type": "execute_result"
    }
   ],
   "source": [
    "df_cat_train['target'].mean()"
   ]
  },
  {
   "cell_type": "markdown",
   "id": "3cf31888",
   "metadata": {},
   "source": [
    "Создадим и обучим модель (сразу будем обучать модель со сбалансированными весами)"
   ]
  },
  {
   "cell_type": "code",
   "execution_count": 59,
   "id": "5bee58c3",
   "metadata": {},
   "outputs": [],
   "source": [
    "X_train = df_cat_train.drop('target', axis=1)\n",
    "y_train = df_cat_train['target']\n",
    "\n",
    "skf = StratifiedKFold(n_splits=4)\n",
    "folds = skf.split(X_train, y_train)\n",
    "\n",
    "classes = np.unique(y_train)\n",
    "weights = compute_class_weight(class_weight='balanced', classes=classes, y=y_train)\n",
    "class_weights = dict(zip(classes, weights))\n",
    "\n",
    "cat_model = CatBoostClassifier(random_state=RANDOM_STATE, \n",
    "                               cat_features=cat_features,\n",
    "                               verbose=False,\n",
    "                               class_weights=class_weights)"
   ]
  },
  {
   "cell_type": "code",
   "execution_count": 60,
   "id": "6bfa331a",
   "metadata": {},
   "outputs": [
    {
     "name": "stdout",
     "output_type": "stream",
     "text": [
      "Метрика f1 на кроссвалидации [0.750499   0.87262873 0.9182058  0.81767956]\n",
      "Среднее значение f1 на всём датасете 0.8397532727609153\n",
      "CPU times: total: 3min 8s\n",
      "Wall time: 20.6 s\n"
     ]
    }
   ],
   "source": [
    "%%time\n",
    "cvs = cross_val_score(cat_model, X_train, y_train, cv=folds, scoring='f1')\n",
    "print(f'Метрика f1 на кроссвалидации {cvs}')\n",
    "print(f'Среднее значение f1 на всём датасете {mean(cvs)}')"
   ]
  },
  {
   "cell_type": "markdown",
   "id": "c7231c35",
   "metadata": {},
   "source": [
    "Качество модели стало значительно лучше, по сравнения с первым вариантом модели"
   ]
  },
  {
   "cell_type": "markdown",
   "id": "723ff2e9",
   "metadata": {},
   "source": [
    "### Проверка модели с сохранением категориальных прирзнаков для обоих образцов и получения отношения для числовых признаков (плюс сохранение дистанции) (модель 3)"
   ]
  },
  {
   "cell_type": "markdown",
   "id": "19775d72",
   "metadata": {},
   "source": [
    "Создадим функцию, для реализации третей стратегии при этом будем смотреть не просто отношение числовых признаков, а абсолютную разницу от единице (чем ближе будет значение к 0, тем меньше разница между числовыми признаками)"
   ]
  },
  {
   "cell_type": "code",
   "execution_count": 61,
   "id": "e96f4382",
   "metadata": {},
   "outputs": [],
   "source": [
    "def get_row_to_df_v3(df: pd.DataFrame, \n",
    "                     id_1: str, \n",
    "                     id_2: str, \n",
    "                     dist: float, \n",
    "                     cat_features: List[str] = [], \n",
    "                     num_features: List[str] = [], \n",
    "                     is_train: bool = True) -> pd.DataFrame:\n",
    "    # находим отношение для числовых признаков\n",
    "    new_df = pd.DataFrame()\n",
    "    for column in num_features:\n",
    "        new_df[column] = pd.Series(abs(1 - df.loc[df['track_id'] == id_1, column].reset_index(drop=True)[0] \n",
    "                                  / df.loc[df['track_id'] == id_2, column].reset_index(drop=True)[0]))\n",
    "    # для категориальных столбцов воспользуемся написанной ранее функцией\n",
    "    cat_df = get_row_to_df_v1(df, \n",
    "                              id_1, \n",
    "                              id_2,\n",
    "                              dist,\n",
    "                              cat_features = cat_features)    \n",
    "    new_df = pd.concat([new_df ,cat_df], axis=1)\n",
    "    return new_df"
   ]
  },
  {
   "cell_type": "markdown",
   "id": "e7e0540f",
   "metadata": {},
   "source": [
    "Получим датасет"
   ]
  },
  {
   "cell_type": "code",
   "execution_count": 62,
   "id": "54d65bcc",
   "metadata": {},
   "outputs": [
    {
     "name": "stderr",
     "output_type": "stream",
     "text": [
      "100%|██████████████████████████████████████████████████████████████████████████████| 2084/2084 [01:08<00:00, 30.59it/s]\n"
     ]
    }
   ],
   "source": [
    "df_cat_train = get_df(df_train, y_train_pred, dist_train_pred, get_row_to_df_v3, cat_features, num_features)"
   ]
  },
  {
   "cell_type": "markdown",
   "id": "14929391",
   "metadata": {},
   "source": [
    "Выведем список первых 5 строк и убедимся, что отношение 0 и 1 в таргете должно остаться прежним"
   ]
  },
  {
   "cell_type": "code",
   "execution_count": 63,
   "id": "425e97eb",
   "metadata": {},
   "outputs": [
    {
     "data": {
      "text/html": [
       "<div>\n",
       "<style scoped>\n",
       "    .dataframe tbody tr th:only-of-type {\n",
       "        vertical-align: middle;\n",
       "    }\n",
       "\n",
       "    .dataframe tbody tr th {\n",
       "        vertical-align: top;\n",
       "    }\n",
       "\n",
       "    .dataframe thead th {\n",
       "        text-align: right;\n",
       "    }\n",
       "</style>\n",
       "<table border=\"1\" class=\"dataframe\">\n",
       "  <thead>\n",
       "    <tr style=\"text-align: right;\">\n",
       "      <th></th>\n",
       "      <th>duration</th>\n",
       "      <th>language_1</th>\n",
       "      <th>title_1</th>\n",
       "      <th>language_2</th>\n",
       "      <th>title_2</th>\n",
       "      <th>dist</th>\n",
       "      <th>target</th>\n",
       "    </tr>\n",
       "  </thead>\n",
       "  <tbody>\n",
       "    <tr>\n",
       "      <th>0</th>\n",
       "      <td>0.207054</td>\n",
       "      <td>RU</td>\n",
       "      <td>Стань</td>\n",
       "      <td>FR</td>\n",
       "      <td>Free to Feel</td>\n",
       "      <td>1.0</td>\n",
       "      <td>0</td>\n",
       "    </tr>\n",
       "    <tr>\n",
       "      <th>1</th>\n",
       "      <td>0.152796</td>\n",
       "      <td>RU</td>\n",
       "      <td>Стань</td>\n",
       "      <td>EN</td>\n",
       "      <td>Over You</td>\n",
       "      <td>1.0</td>\n",
       "      <td>0</td>\n",
       "    </tr>\n",
       "    <tr>\n",
       "      <th>2</th>\n",
       "      <td>0.377635</td>\n",
       "      <td>RU</td>\n",
       "      <td>Стань</td>\n",
       "      <td>EN</td>\n",
       "      <td>Fenomen</td>\n",
       "      <td>1.0</td>\n",
       "      <td>0</td>\n",
       "    </tr>\n",
       "    <tr>\n",
       "      <th>3</th>\n",
       "      <td>0.186212</td>\n",
       "      <td>RU</td>\n",
       "      <td>Стань</td>\n",
       "      <td>RU</td>\n",
       "      <td>Du heru es</td>\n",
       "      <td>1.0</td>\n",
       "      <td>0</td>\n",
       "    </tr>\n",
       "    <tr>\n",
       "      <th>4</th>\n",
       "      <td>0.777862</td>\n",
       "      <td>RU</td>\n",
       "      <td>Стань</td>\n",
       "      <td>EN</td>\n",
       "      <td>Enigma</td>\n",
       "      <td>1.0</td>\n",
       "      <td>0</td>\n",
       "    </tr>\n",
       "  </tbody>\n",
       "</table>\n",
       "</div>"
      ],
      "text/plain": [
       "   duration language_1 title_1 language_2       title_2  dist  target\n",
       "0  0.207054         RU   Стань         FR  Free to Feel   1.0       0\n",
       "1  0.152796         RU   Стань         EN      Over You   1.0       0\n",
       "2  0.377635         RU   Стань         EN       Fenomen   1.0       0\n",
       "3  0.186212         RU   Стань         RU    Du heru es   1.0       0\n",
       "4  0.777862         RU   Стань         EN        Enigma   1.0       0"
      ]
     },
     "execution_count": 63,
     "metadata": {},
     "output_type": "execute_result"
    }
   ],
   "source": [
    "df_cat_train.head()"
   ]
  },
  {
   "cell_type": "code",
   "execution_count": 64,
   "id": "c996955d",
   "metadata": {},
   "outputs": [
    {
     "data": {
      "text/plain": [
       "0.05223471346312037"
      ]
     },
     "execution_count": 64,
     "metadata": {},
     "output_type": "execute_result"
    }
   ],
   "source": [
    "df_cat_train['target'].mean()"
   ]
  },
  {
   "cell_type": "markdown",
   "id": "346c7147",
   "metadata": {},
   "source": [
    "Всё отработало корректно, обучим модель и посмотрим н аей качество"
   ]
  },
  {
   "cell_type": "code",
   "execution_count": 65,
   "id": "835eb4a7",
   "metadata": {},
   "outputs": [],
   "source": [
    "X_train = df_cat_train.drop('target', axis=1)\n",
    "y_train = df_cat_train['target']\n",
    "\n",
    "skf = StratifiedKFold(n_splits=4)\n",
    "folds = skf.split(X_train, y_train)\n",
    "\n",
    "classes = np.unique(y_train)\n",
    "weights = compute_class_weight(class_weight='balanced', classes=classes, y=y_train)\n",
    "class_weights = dict(zip(classes, weights))\n",
    "\n",
    "cat_model = CatBoostClassifier(random_state=RANDOM_STATE, \n",
    "                               cat_features=new_cat_features,\n",
    "                               verbose=False,\n",
    "                               class_weights=class_weights)"
   ]
  },
  {
   "cell_type": "code",
   "execution_count": 66,
   "id": "258d5f67",
   "metadata": {},
   "outputs": [
    {
     "name": "stdout",
     "output_type": "stream",
     "text": [
      "Метрика f1 на кроссвалидации [0.13483146 0.70779221 0.68493151 0.25454545]\n",
      "Среднее значение f1 на всём датасете 0.4455251574652837\n",
      "CPU times: total: 8min 45s\n",
      "Wall time: 1min 12s\n"
     ]
    }
   ],
   "source": [
    "%%time\n",
    "cvs = cross_val_score(cat_model, X_train, y_train, cv=folds, scoring='f1')\n",
    "print(f'Метрика f1 на кроссвалидации {cvs}')\n",
    "print(f'Среднее значение f1 на всём датасете {mean(cvs)}')"
   ]
  },
  {
   "cell_type": "markdown",
   "id": "4626128a",
   "metadata": {},
   "source": [
    "Качество модели оказалось хуже чем у других моделей."
   ]
  },
  {
   "cell_type": "markdown",
   "id": "a09d17c3",
   "metadata": {},
   "source": [
    "### Проверка модели с получениум отношения для числовых признаков и сравнением на равенство категориальных признаков (плюс сохранение дистанции) (модель 4)"
   ]
  },
  {
   "cell_type": "markdown",
   "id": "7dd92ce7",
   "metadata": {},
   "source": [
    "Создадим функцию, для реализации четвёртой стратегии: мы будем сравнивать как категориальные признаки, так и смотреть на соотношение числовх признаков"
   ]
  },
  {
   "cell_type": "code",
   "execution_count": 67,
   "id": "1b4b6e5c",
   "metadata": {},
   "outputs": [],
   "source": [
    "def get_row_to_df_v4(df: pd.DataFrame, \n",
    "                     id_1: str, \n",
    "                     id_2: str, \n",
    "                     dist: float, \n",
    "                     cat_features: List[str] = [], \n",
    "                     num_features: List[str] = [], \n",
    "                     is_train: bool = True) -> pd.DataFrame:\n",
    "    # сравниваем категориальные столбцы\n",
    "    cat_df = pd.DataFrame()\n",
    "    for column in cat_features:\n",
    "        cat_df[column] =pd.Series(df.loc[df['track_id'] == id_1, column].reset_index(drop=True)[0] \n",
    "                                  == df.loc[df['track_id'] == id_2, column].reset_index(drop=True)[0])  \n",
    "        \n",
    "    # находим отношение для числовых признаков\n",
    "    num_df = pd.DataFrame()\n",
    "    for column in num_features:\n",
    "        num_df[column] = pd.Series(abs(1 - df.loc[df['track_id'] == id_1, column].reset_index(drop=True)[0] \n",
    "                                  / df.loc[df['track_id'] == id_2, column].reset_index(drop=True)[0]))\n",
    "    # для получения таргета и дистанции воспользуемся функцией\n",
    "    new_df = get_row_to_df_v1(df, \n",
    "                              id_1, \n",
    "                              id_2,\n",
    "                              dist)    \n",
    "    new_df = pd.concat([num_df ,cat_df, new_df], axis=1)\n",
    "    return new_df"
   ]
  },
  {
   "cell_type": "code",
   "execution_count": 68,
   "id": "8187bb2c",
   "metadata": {},
   "outputs": [
    {
     "name": "stderr",
     "output_type": "stream",
     "text": [
      "100%|██████████████████████████████████████████████████████████████████████████████| 2084/2084 [01:29<00:00, 23.27it/s]\n"
     ]
    }
   ],
   "source": [
    "df_cat_train = get_df(df_train, y_train_pred, dist_train_pred, get_row_to_df_v4, cat_features, num_features)"
   ]
  },
  {
   "cell_type": "markdown",
   "id": "6bb29a17",
   "metadata": {},
   "source": [
    "Проверим получившийся датасет"
   ]
  },
  {
   "cell_type": "code",
   "execution_count": 69,
   "id": "0865f8a7",
   "metadata": {},
   "outputs": [
    {
     "data": {
      "text/html": [
       "<div>\n",
       "<style scoped>\n",
       "    .dataframe tbody tr th:only-of-type {\n",
       "        vertical-align: middle;\n",
       "    }\n",
       "\n",
       "    .dataframe tbody tr th {\n",
       "        vertical-align: top;\n",
       "    }\n",
       "\n",
       "    .dataframe thead th {\n",
       "        text-align: right;\n",
       "    }\n",
       "</style>\n",
       "<table border=\"1\" class=\"dataframe\">\n",
       "  <thead>\n",
       "    <tr style=\"text-align: right;\">\n",
       "      <th></th>\n",
       "      <th>duration</th>\n",
       "      <th>language</th>\n",
       "      <th>title</th>\n",
       "      <th>dist</th>\n",
       "      <th>target</th>\n",
       "    </tr>\n",
       "  </thead>\n",
       "  <tbody>\n",
       "    <tr>\n",
       "      <th>0</th>\n",
       "      <td>0.207054</td>\n",
       "      <td>False</td>\n",
       "      <td>False</td>\n",
       "      <td>1.0</td>\n",
       "      <td>0</td>\n",
       "    </tr>\n",
       "    <tr>\n",
       "      <th>1</th>\n",
       "      <td>0.152796</td>\n",
       "      <td>False</td>\n",
       "      <td>False</td>\n",
       "      <td>1.0</td>\n",
       "      <td>0</td>\n",
       "    </tr>\n",
       "    <tr>\n",
       "      <th>2</th>\n",
       "      <td>0.377635</td>\n",
       "      <td>False</td>\n",
       "      <td>False</td>\n",
       "      <td>1.0</td>\n",
       "      <td>0</td>\n",
       "    </tr>\n",
       "    <tr>\n",
       "      <th>3</th>\n",
       "      <td>0.186212</td>\n",
       "      <td>True</td>\n",
       "      <td>False</td>\n",
       "      <td>1.0</td>\n",
       "      <td>0</td>\n",
       "    </tr>\n",
       "    <tr>\n",
       "      <th>4</th>\n",
       "      <td>0.777862</td>\n",
       "      <td>False</td>\n",
       "      <td>False</td>\n",
       "      <td>1.0</td>\n",
       "      <td>0</td>\n",
       "    </tr>\n",
       "  </tbody>\n",
       "</table>\n",
       "</div>"
      ],
      "text/plain": [
       "   duration  language  title  dist  target\n",
       "0  0.207054     False  False   1.0       0\n",
       "1  0.152796     False  False   1.0       0\n",
       "2  0.377635     False  False   1.0       0\n",
       "3  0.186212      True  False   1.0       0\n",
       "4  0.777862     False  False   1.0       0"
      ]
     },
     "execution_count": 69,
     "metadata": {},
     "output_type": "execute_result"
    }
   ],
   "source": [
    "df_cat_train.head()"
   ]
  },
  {
   "cell_type": "code",
   "execution_count": 70,
   "id": "4d594327",
   "metadata": {},
   "outputs": [
    {
     "data": {
      "text/plain": [
       "0.05223471346312037"
      ]
     },
     "execution_count": 70,
     "metadata": {},
     "output_type": "execute_result"
    }
   ],
   "source": [
    "df_cat_train['target'].mean()"
   ]
  },
  {
   "cell_type": "markdown",
   "id": "04bb3f43",
   "metadata": {},
   "source": [
    "Всё нормально, обучим модель и посмотрим на её качество"
   ]
  },
  {
   "cell_type": "code",
   "execution_count": 71,
   "id": "22f00364",
   "metadata": {},
   "outputs": [],
   "source": [
    "X_train = df_cat_train.drop('target', axis=1)\n",
    "y_train = df_cat_train['target']\n",
    "\n",
    "skf = StratifiedKFold(n_splits=4)\n",
    "folds = skf.split(X_train, y_train)\n",
    "\n",
    "classes = np.unique(y_train)\n",
    "weights = compute_class_weight(class_weight='balanced', classes=classes, y=y_train)\n",
    "class_weights = dict(zip(classes, weights))\n",
    "\n",
    "cat_model = CatBoostClassifier(random_state=RANDOM_STATE, \n",
    "                               cat_features=cat_features,\n",
    "                               verbose=False,\n",
    "                               class_weights=class_weights)"
   ]
  },
  {
   "cell_type": "code",
   "execution_count": 72,
   "id": "b769282f",
   "metadata": {},
   "outputs": [
    {
     "name": "stdout",
     "output_type": "stream",
     "text": [
      "Метрика f1 на кроссвалидации [0.65543071 0.78772379 0.80272109 0.69041096]\n",
      "Среднее значение f1 на всём датасете 0.7340716360290528\n",
      "CPU times: total: 3min 12s\n",
      "Wall time: 21.8 s\n"
     ]
    }
   ],
   "source": [
    "%%time\n",
    "cvs = cross_val_score(cat_model, X_train, y_train, cv=folds, scoring='f1')\n",
    "print(f'Метрика f1 на кроссвалидации {cvs}')\n",
    "print(f'Среднее значение f1 на всём датасете {mean(cvs)}')"
   ]
  },
  {
   "cell_type": "markdown",
   "id": "b95bb1d5",
   "metadata": {},
   "source": [
    "Качество модели лучше чем у 1 и 3 моделей, но хуже чем у второй."
   ]
  },
  {
   "cell_type": "markdown",
   "id": "97f128e6",
   "metadata": {},
   "source": [
    "### Проверка модели с получениум отношения для числовых признаков и сравнением на равенство категориальных признаков, а также использованием первоначальных признаков (плюс сохранение дистанции) (модель 5)"
   ]
  },
  {
   "cell_type": "markdown",
   "id": "4ad15f75",
   "metadata": {},
   "source": [
    "Создадим функцию, которая объединит в себе идеи 1, 2 и 3 модели"
   ]
  },
  {
   "cell_type": "code",
   "execution_count": 73,
   "id": "ee33f0ae",
   "metadata": {},
   "outputs": [],
   "source": [
    "def get_row_to_df_v5(df: pd.DataFrame, \n",
    "                     id_1: str, \n",
    "                     id_2: str, \n",
    "                     dist: float, \n",
    "                     cat_features: List[str] = [], \n",
    "                     num_features: List[str] = [], \n",
    "                     is_train: bool = True) -> pd.DataFrame:\n",
    "    # сравниваем категориальные столбцы\n",
    "    cat_df = pd.DataFrame()\n",
    "    for column in cat_features:\n",
    "        cat_df[column] =pd.Series(df.loc[df['track_id'] == id_1, column].reset_index(drop=True)[0] \n",
    "                                  == df.loc[df['track_id'] == id_2, column].reset_index(drop=True)[0])  \n",
    "        \n",
    "    # находим отношение для числовых признаков\n",
    "    num_df = pd.DataFrame()\n",
    "    for column in num_features:\n",
    "        num_df[column] = pd.Series(abs(1 - df.loc[df['track_id'] == id_1, column].reset_index(drop=True)[0] \n",
    "                                  / df.loc[df['track_id'] == id_2, column].reset_index(drop=True)[0]))\n",
    "    # для получения таргета и дистанции воспользуемся функцией\n",
    "    new_df = get_row_to_df_v1(df, \n",
    "                              id_1, \n",
    "                              id_2,\n",
    "                              dist,\n",
    "                              cat_features = cat_features,\n",
    "                              num_features = num_features)    \n",
    "    new_df = pd.concat([num_df ,cat_df, new_df], axis=1)\n",
    "    return new_df"
   ]
  },
  {
   "cell_type": "code",
   "execution_count": 74,
   "id": "2a8f525e",
   "metadata": {},
   "outputs": [
    {
     "name": "stderr",
     "output_type": "stream",
     "text": [
      "100%|██████████████████████████████████████████████████████████████████████████████| 2084/2084 [01:41<00:00, 20.53it/s]\n"
     ]
    }
   ],
   "source": [
    "df_cat_train = get_df(df_train, y_train_pred, dist_train_pred, get_row_to_df_v5, cat_features, num_features)"
   ]
  },
  {
   "cell_type": "markdown",
   "id": "74b26381",
   "metadata": {},
   "source": [
    "Как всегда проверим, что получилось на выходе"
   ]
  },
  {
   "cell_type": "code",
   "execution_count": 75,
   "id": "3a443d35",
   "metadata": {},
   "outputs": [
    {
     "data": {
      "text/html": [
       "<div>\n",
       "<style scoped>\n",
       "    .dataframe tbody tr th:only-of-type {\n",
       "        vertical-align: middle;\n",
       "    }\n",
       "\n",
       "    .dataframe tbody tr th {\n",
       "        vertical-align: top;\n",
       "    }\n",
       "\n",
       "    .dataframe thead th {\n",
       "        text-align: right;\n",
       "    }\n",
       "</style>\n",
       "<table border=\"1\" class=\"dataframe\">\n",
       "  <thead>\n",
       "    <tr style=\"text-align: right;\">\n",
       "      <th></th>\n",
       "      <th>duration</th>\n",
       "      <th>language</th>\n",
       "      <th>title</th>\n",
       "      <th>duration_1</th>\n",
       "      <th>language_1</th>\n",
       "      <th>title_1</th>\n",
       "      <th>duration_2</th>\n",
       "      <th>language_2</th>\n",
       "      <th>title_2</th>\n",
       "      <th>dist</th>\n",
       "      <th>target</th>\n",
       "    </tr>\n",
       "  </thead>\n",
       "  <tbody>\n",
       "    <tr>\n",
       "      <th>0</th>\n",
       "      <td>0.207054</td>\n",
       "      <td>False</td>\n",
       "      <td>False</td>\n",
       "      <td>188240.0</td>\n",
       "      <td>RU</td>\n",
       "      <td>Стань</td>\n",
       "      <td>155950.0</td>\n",
       "      <td>FR</td>\n",
       "      <td>Free to Feel</td>\n",
       "      <td>1.0</td>\n",
       "      <td>0</td>\n",
       "    </tr>\n",
       "    <tr>\n",
       "      <th>1</th>\n",
       "      <td>0.152796</td>\n",
       "      <td>False</td>\n",
       "      <td>False</td>\n",
       "      <td>188240.0</td>\n",
       "      <td>RU</td>\n",
       "      <td>Стань</td>\n",
       "      <td>163290.0</td>\n",
       "      <td>EN</td>\n",
       "      <td>Over You</td>\n",
       "      <td>1.0</td>\n",
       "      <td>0</td>\n",
       "    </tr>\n",
       "    <tr>\n",
       "      <th>2</th>\n",
       "      <td>0.377635</td>\n",
       "      <td>False</td>\n",
       "      <td>False</td>\n",
       "      <td>188240.0</td>\n",
       "      <td>RU</td>\n",
       "      <td>Стань</td>\n",
       "      <td>136640.0</td>\n",
       "      <td>EN</td>\n",
       "      <td>Fenomen</td>\n",
       "      <td>1.0</td>\n",
       "      <td>0</td>\n",
       "    </tr>\n",
       "    <tr>\n",
       "      <th>3</th>\n",
       "      <td>0.186212</td>\n",
       "      <td>True</td>\n",
       "      <td>False</td>\n",
       "      <td>188240.0</td>\n",
       "      <td>RU</td>\n",
       "      <td>Стань</td>\n",
       "      <td>158690.0</td>\n",
       "      <td>RU</td>\n",
       "      <td>Du heru es</td>\n",
       "      <td>1.0</td>\n",
       "      <td>0</td>\n",
       "    </tr>\n",
       "    <tr>\n",
       "      <th>4</th>\n",
       "      <td>0.777862</td>\n",
       "      <td>False</td>\n",
       "      <td>False</td>\n",
       "      <td>188240.0</td>\n",
       "      <td>RU</td>\n",
       "      <td>Стань</td>\n",
       "      <td>105880.0</td>\n",
       "      <td>EN</td>\n",
       "      <td>Enigma</td>\n",
       "      <td>1.0</td>\n",
       "      <td>0</td>\n",
       "    </tr>\n",
       "  </tbody>\n",
       "</table>\n",
       "</div>"
      ],
      "text/plain": [
       "   duration  language  title  duration_1 language_1 title_1  duration_2  \\\n",
       "0  0.207054     False  False    188240.0         RU   Стань    155950.0   \n",
       "1  0.152796     False  False    188240.0         RU   Стань    163290.0   \n",
       "2  0.377635     False  False    188240.0         RU   Стань    136640.0   \n",
       "3  0.186212      True  False    188240.0         RU   Стань    158690.0   \n",
       "4  0.777862     False  False    188240.0         RU   Стань    105880.0   \n",
       "\n",
       "  language_2       title_2  dist  target  \n",
       "0         FR  Free to Feel   1.0       0  \n",
       "1         EN      Over You   1.0       0  \n",
       "2         EN       Fenomen   1.0       0  \n",
       "3         RU    Du heru es   1.0       0  \n",
       "4         EN        Enigma   1.0       0  "
      ]
     },
     "execution_count": 75,
     "metadata": {},
     "output_type": "execute_result"
    }
   ],
   "source": [
    "df_cat_train.head()"
   ]
  },
  {
   "cell_type": "code",
   "execution_count": 76,
   "id": "ec61d871",
   "metadata": {},
   "outputs": [
    {
     "data": {
      "text/plain": [
       "0.05223471346312037"
      ]
     },
     "execution_count": 76,
     "metadata": {},
     "output_type": "execute_result"
    }
   ],
   "source": [
    "df_cat_train['target'].mean()"
   ]
  },
  {
   "cell_type": "markdown",
   "id": "89dfeb63",
   "metadata": {},
   "source": [
    "Получим новые варианты категориальных и числовых столбцов"
   ]
  },
  {
   "cell_type": "code",
   "execution_count": 77,
   "id": "5dc0c872",
   "metadata": {},
   "outputs": [],
   "source": [
    "new_cat_features, new_num_features = get_features_list(df_cat_train, cat_features, num_features)"
   ]
  },
  {
   "cell_type": "markdown",
   "id": "31894994",
   "metadata": {},
   "source": [
    "Обучим модель и проверим качество"
   ]
  },
  {
   "cell_type": "code",
   "execution_count": 78,
   "id": "eb5ede71",
   "metadata": {},
   "outputs": [],
   "source": [
    "X_train = df_cat_train.drop('target', axis=1)\n",
    "y_train = df_cat_train['target']\n",
    "\n",
    "skf = StratifiedKFold(n_splits=4)\n",
    "folds = skf.split(X_train, y_train)\n",
    "\n",
    "classes = np.unique(y_train)\n",
    "weights = compute_class_weight(class_weight='balanced', classes=classes, y=y_train)\n",
    "class_weights = dict(zip(classes, weights))\n",
    "\n",
    "cat_model = CatBoostClassifier(random_state=RANDOM_STATE, \n",
    "                               cat_features=new_cat_features,\n",
    "                               verbose=False,\n",
    "                               class_weights=class_weights)"
   ]
  },
  {
   "cell_type": "code",
   "execution_count": 79,
   "id": "b69f7062",
   "metadata": {},
   "outputs": [
    {
     "name": "stdout",
     "output_type": "stream",
     "text": [
      "Метрика f1 на кроссвалидации [0.72457627 0.70779221 0.68493151 0.24770642]\n",
      "Среднее значение f1 на всём датасете 0.591251601961578\n",
      "CPU times: total: 8min 55s\n",
      "Wall time: 1min 14s\n"
     ]
    }
   ],
   "source": [
    "%%time\n",
    "cvs = cross_val_score(cat_model, X_train, y_train, cv=folds, scoring='f1')\n",
    "print(f'Метрика f1 на кроссвалидации {cvs}')\n",
    "print(f'Среднее значение f1 на всём датасете {mean(cvs)}')"
   ]
  },
  {
   "cell_type": "markdown",
   "id": "203b85cd",
   "metadata": {},
   "source": [
    "Модель оказалась немного лучше 1 модели, но уступает остальным в качестве."
   ]
  },
  {
   "cell_type": "code",
   "execution_count": null,
   "id": "da19fa95",
   "metadata": {},
   "outputs": [],
   "source": []
  },
  {
   "cell_type": "code",
   "execution_count": null,
   "id": "8409cd82",
   "metadata": {},
   "outputs": [],
   "source": []
  },
  {
   "cell_type": "code",
   "execution_count": null,
   "id": "305aa5a7",
   "metadata": {},
   "outputs": [],
   "source": []
  },
  {
   "cell_type": "markdown",
   "id": "2a6d15be",
   "metadata": {},
   "source": [
    "### Выводы"
   ]
  },
  {
   "cell_type": "code",
   "execution_count": null,
   "id": "b83643d5",
   "metadata": {},
   "outputs": [],
   "source": []
  }
 ],
 "metadata": {
  "kernelspec": {
   "display_name": "Python 3 (ipykernel)",
   "language": "python",
   "name": "python3"
  },
  "language_info": {
   "codemirror_mode": {
    "name": "ipython",
    "version": 3
   },
   "file_extension": ".py",
   "mimetype": "text/x-python",
   "name": "python",
   "nbconvert_exporter": "python",
   "pygments_lexer": "ipython3",
   "version": "3.10.11"
  }
 },
 "nbformat": 4,
 "nbformat_minor": 5
}

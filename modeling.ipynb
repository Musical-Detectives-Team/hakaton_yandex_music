{
 "cells": [
  {
   "cell_type": "markdown",
   "id": "0c508ae8",
   "metadata": {},
   "source": [
    "# Modeling"
   ]
  },
  {
   "cell_type": "markdown",
   "id": "82c0b17e",
   "metadata": {},
   "source": [
    "Данный ноутбук посвящён вопросам моделинга"
   ]
  },
  {
   "cell_type": "markdown",
   "id": "572e9f8b",
   "metadata": {},
   "source": [
    "Как всегда импортируем библиотеки и прописываем пути к файлам"
   ]
  },
  {
   "cell_type": "code",
   "execution_count": 1,
   "id": "2c4e4f40",
   "metadata": {},
   "outputs": [],
   "source": [
    "import pandas as pd\n",
    "import numpy as np\n",
    "import matplotlib.pyplot as plt\n",
    "import scipy\n",
    "from statistics import mean\n",
    "\n",
    "from tqdm import tqdm\n",
    "import copy\n",
    "\n",
    "from sklearn.feature_extraction.text import TfidfVectorizer \n",
    "from sklearn.metrics import f1_score\n",
    "from sklearn.model_selection import cross_val_score, StratifiedKFold\n",
    "from sklearn.utils.class_weight import compute_class_weight\n",
    "from catboost import CatBoostClassifier\n",
    "\n",
    "import faiss\n",
    "from faiss import write_index\n",
    "\n",
    "import pickle\n",
    "\n",
    "from typing import Dict, List, Tuple, Callable"
   ]
  },
  {
   "cell_type": "code",
   "execution_count": 2,
   "id": "cb745b0f",
   "metadata": {},
   "outputs": [],
   "source": [
    "PATH_TRAIN_FAISS = 'data/preprocessing/train_faiss.csv'\n",
    "PATH_TEST_FAISS = 'data/preprocessing/test_faiss.csv'\n",
    "PATH_VALID_FAISS = 'data/preprocessing/valid_faiss.csv'\n",
    "\n",
    "PATH_TFIDFVECTORIZER = 'models/tfidf.pkl'\n",
    "\n",
    "PATH_TRAIN_CORPUS = 'data/preprocessing/train_corpus.npz'\n",
    "PATH_TEST_CORPUS = 'data/preprocessing/test_corpus.npz'\n",
    "PATH_VALID_CORPUS = 'data/preprocessing/valid_corpus.npz'\n",
    "\n",
    "RANDOM_STATE = 54321"
   ]
  },
  {
   "cell_type": "markdown",
   "id": "f1033134",
   "metadata": {},
   "source": [
    "Загрузим датасеты для обучения"
   ]
  },
  {
   "cell_type": "code",
   "execution_count": 3,
   "id": "ad6f3e67",
   "metadata": {},
   "outputs": [],
   "source": [
    "df_train = pd.read_csv(PATH_TRAIN_FAISS)\n",
    "df_test = pd.read_csv(PATH_TEST_FAISS)\n",
    "df_valid = pd.read_csv(PATH_VALID_FAISS)"
   ]
  },
  {
   "cell_type": "markdown",
   "id": "8aef298f",
   "metadata": {},
   "source": [
    "Для того открыть векторизованные корпуса создадим функцию, которая прочитает разряженные матрицы"
   ]
  },
  {
   "cell_type": "code",
   "execution_count": 4,
   "id": "0371fad9",
   "metadata": {},
   "outputs": [],
   "source": [
    "def load_sparse_csr(filename: str):\n",
    "    loader = np.load(filename)\n",
    "    return scipy.sparse.csr_matrix((loader['data'],\n",
    "                                    loader['indices'],\n",
    "                                    loader['indptr']),\n",
    "                                   shape=loader['shape'])"
   ]
  },
  {
   "cell_type": "markdown",
   "id": "4b7c1594",
   "metadata": {},
   "source": [
    "Загрузим векторизованные корпуса"
   ]
  },
  {
   "cell_type": "code",
   "execution_count": 5,
   "id": "4896bfbe",
   "metadata": {},
   "outputs": [],
   "source": [
    "corpus_train = load_sparse_csr(PATH_TRAIN_CORPUS)\n",
    "corpus_test = load_sparse_csr(PATH_TEST_CORPUS)\n",
    "corpus_valid = load_sparse_csr(PATH_VALID_CORPUS)"
   ]
  },
  {
   "cell_type": "markdown",
   "id": "1a38c8f9",
   "metadata": {},
   "source": [
    "## Модель для нахождения k претендентов на кавер."
   ]
  },
  {
   "cell_type": "markdown",
   "id": "aa2624e3",
   "metadata": {},
   "source": [
    "Для решения задачи группировки треков будем использовать faiss данная библиотека работает немного быстрее классического варианта K-ближайших, а также имеет возможность дальнейшей оптимизации. Чтобы оценивать качество работы данной модели, а также подбирать гиперпарамтеры воспользуемся метрикой **𝑅𝑒𝑐𝑎𝑙𝑙@𝑘** (полнота на k элементах), поскольку для данного этапа нам необходимо сделать модель, которая будет отбирать максимально подходящие треки для данного трека.\n",
    "\n",
    "Её можно рассчитать по формуле:"
   ]
  },
  {
   "cell_type": "markdown",
   "id": "2782b729",
   "metadata": {},
   "source": [
    "$$ Recall@k =  {\\sum найденных \\space в \\space топk \\space матчей \\over \\sum матчей} $$"
   ]
  },
  {
   "cell_type": "markdown",
   "id": "9da3846a",
   "metadata": {},
   "source": [
    "Созадим функцию для её рассчёта:"
   ]
  },
  {
   "cell_type": "code",
   "execution_count": 6,
   "id": "1fc392db",
   "metadata": {},
   "outputs": [],
   "source": [
    "def score_recall_k(y_true: pd.Series, y_pred: pd.Series) -> float:\n",
    "    metrick_list = []\n",
    "    for i, y_p in enumerate(y_pred):\n",
    "        # проверим есть ли для данного трека вообще каверы, усли есть, то\n",
    "        if y_true[i] is not np.nan:\n",
    "            for y_t in y_true[i].split():\n",
    "                metrick_list.append(1 if y_t in y_p else 0)\n",
    "    return mean(metrick_list)    "
   ]
  },
  {
   "cell_type": "markdown",
   "id": "95ec20f4",
   "metadata": {},
   "source": [
    "Создадим словарь с track_id тренировочного датасета, поскольку фаис будет возвращать индекс строки, а проверять нам потребуется track_id"
   ]
  },
  {
   "cell_type": "code",
   "execution_count": 7,
   "id": "36f688bd",
   "metadata": {},
   "outputs": [],
   "source": [
    "id_base_dict = dict(df_train['track_id'])"
   ]
  },
  {
   "cell_type": "markdown",
   "id": "f6c92b49",
   "metadata": {},
   "source": [
    "Получим цели обучения (списки с track_id каверов)"
   ]
  },
  {
   "cell_type": "code",
   "execution_count": 8,
   "id": "e546d9f2",
   "metadata": {},
   "outputs": [],
   "source": [
    "y_train = df_train['cover_list']\n",
    "y_test = df_test['cover_list']\n",
    "y_valid = df_valid['cover_list']"
   ]
  },
  {
   "cell_type": "markdown",
   "id": "cb2f570f",
   "metadata": {},
   "source": [
    "Напишем функцию для тренировки faiss"
   ]
  },
  {
   "cell_type": "code",
   "execution_count": 9,
   "id": "a4a1ca04",
   "metadata": {},
   "outputs": [],
   "source": [
    "def faiss_fit(corpus_train: scipy.sparse, \n",
    "              n_list: int = 1, \n",
    "              random_state: int = 54321) -> faiss.IndexIVFFlat:\n",
    "    x_train = copy.deepcopy(corpus_train)\n",
    "    d = x_train.shape[1] \n",
    "    nb = x_train.shape[0] \n",
    "    np.random.seed(random_state) \n",
    "\n",
    "    xb = x_train.toarray()\n",
    "\n",
    "    nlist = n_list\n",
    "    quantizer = faiss.IndexFlatIP(d)  \n",
    "    index = faiss.IndexIVFFlat(quantizer, d, nlist)\n",
    "    assert not index.is_trained\n",
    "    index.train(xb)\n",
    "    assert index.is_trained\n",
    "    index.add(xb)\n",
    "    \n",
    "    return index"
   ]
  },
  {
   "cell_type": "markdown",
   "id": "a2cae1a9",
   "metadata": {},
   "source": [
    "Создадим функцию для предсказаний"
   ]
  },
  {
   "cell_type": "code",
   "execution_count": 10,
   "id": "e7a7c898",
   "metadata": {},
   "outputs": [],
   "source": [
    "def faiss_predict(index: faiss.IndexIVFFlat, \n",
    "                  corpus_test: scipy.sparse, \n",
    "                  id_base_dict: Dict, \n",
    "                  k: int = 10) -> pd.Series:\n",
    "    x_test = copy.deepcopy(corpus_test)\n",
    "    xq_x_test = x_test.toarray()\n",
    "    \n",
    "    D, I = index.search(xq_x_test, k)\n",
    "    predicted_list = []\n",
    "    distance_list = []\n",
    "    \n",
    "    # перебираем все ответы и проверяем, чтобы они не были равны 1 и не равнялись\n",
    "    for i, candidates in enumerate(I):\n",
    "        cand_list = []\n",
    "        dist_list = []\n",
    "        for j, candidate in enumerate(candidates):\n",
    "            if candidate != -1 and id_base_dict[candidate] != id_base_dict[i]:\n",
    "                cand_list.append(id_base_dict[candidate])\n",
    "                dist_list.append(D[i][j])\n",
    "                \n",
    "        predicted_list.append(cand_list)\n",
    "        distance_list.append(dist_list)      \n",
    "\n",
    "    return pd.Series(predicted_list), pd.Series(distance_list)"
   ]
  },
  {
   "cell_type": "markdown",
   "id": "62a91a52",
   "metadata": {},
   "source": [
    "Обучим индекс."
   ]
  },
  {
   "cell_type": "code",
   "execution_count": 11,
   "id": "fbea8118",
   "metadata": {},
   "outputs": [],
   "source": [
    "f_index = faiss_fit(corpus_train, random_state=RANDOM_STATE)"
   ]
  },
  {
   "cell_type": "markdown",
   "id": "ae77a56d",
   "metadata": {},
   "source": [
    "Проверим качество модели на трейне"
   ]
  },
  {
   "cell_type": "code",
   "execution_count": 12,
   "id": "b39fec21",
   "metadata": {},
   "outputs": [
    {
     "data": {
      "text/plain": [
       "0.5926640926640927"
      ]
     },
     "execution_count": 12,
     "metadata": {},
     "output_type": "execute_result"
    }
   ],
   "source": [
    "y_train_pred, dist_train_pred= faiss_predict(f_index, corpus_train, id_base_dict, 10)\n",
    "score_recall_k(y_train, y_train_pred)"
   ]
  },
  {
   "cell_type": "markdown",
   "id": "a72d78da",
   "metadata": {},
   "source": [
    "Проверим качество модели на тесте"
   ]
  },
  {
   "cell_type": "code",
   "execution_count": 13,
   "id": "b0a91f49",
   "metadata": {},
   "outputs": [
    {
     "data": {
      "text/plain": [
       "0.6379310344827587"
      ]
     },
     "execution_count": 13,
     "metadata": {},
     "output_type": "execute_result"
    }
   ],
   "source": [
    "y_test_pred, dist_test_pred = faiss_predict(f_index, corpus_test, id_base_dict)\n",
    "score_recall_k(y_test, y_test_pred)"
   ]
  },
  {
   "cell_type": "markdown",
   "id": "0fbe6667",
   "metadata": {},
   "source": [
    "Выведем для проверки ответ с растояниями для тренировочных данных и ответ с прогнозами"
   ]
  },
  {
   "cell_type": "code",
   "execution_count": 14,
   "id": "813860ed",
   "metadata": {},
   "outputs": [
    {
     "data": {
      "text/plain": [
       "0       [1.0000001, 1.0000001, 1.0000001, 1.0000001, 1...\n",
       "1       [0.09070368, 1.0, 1.0, 1.0, 1.0, 1.0, 1.610105...\n",
       "2       [1.0, 1.0, 1.0, 1.0, 1.0, 1.258445, 1.2794225,...\n",
       "3       [0.0, 0.99999994, 0.99999994, 0.99999994, 0.99...\n",
       "4       [0.7140198, 0.8448281, 0.9239682, 0.9946976, 0...\n",
       "                              ...                        \n",
       "2079    [1.0, 1.0, 1.0, 1.0, 1.0, 1.6491057, 1.7004969...\n",
       "2080    [1.0, 1.0, 1.0, 1.0, 1.0, 1.4479406, 1.4942803...\n",
       "2081    [1.0, 1.0, 1.0, 1.0, 1.0, 1.2022555, 1.3501427...\n",
       "2082    [0.99999994, 0.99999994, 0.99999994, 0.9999999...\n",
       "2083    [1.0000001, 1.0000001, 1.0000001, 1.0000001, 1...\n",
       "Length: 2084, dtype: object"
      ]
     },
     "execution_count": 14,
     "metadata": {},
     "output_type": "execute_result"
    }
   ],
   "source": [
    "dist_train_pred"
   ]
  },
  {
   "cell_type": "code",
   "execution_count": 15,
   "id": "d500b2d3",
   "metadata": {
    "scrolled": true
   },
   "outputs": [
    {
     "data": {
      "text/plain": [
       "0       [b6840c6d29fadc71fa2d129dadbd066a, 991dd9b0990...\n",
       "1       [6c3b156b42de14fd1e222304d14ee50d, b6840c6d29f...\n",
       "2       [b6840c6d29fadc71fa2d129dadbd066a, 991dd9b0990...\n",
       "3       [ad368cb71bf8aa98e9629bf2a65fc446, b6840c6d29f...\n",
       "4       [3551cfbcef2af752fe8642e564ae4b5c, d724c8db511...\n",
       "                              ...                        \n",
       "2079    [b6840c6d29fadc71fa2d129dadbd066a, 991dd9b0990...\n",
       "2080    [b6840c6d29fadc71fa2d129dadbd066a, 991dd9b0990...\n",
       "2081    [b6840c6d29fadc71fa2d129dadbd066a, 991dd9b0990...\n",
       "2082    [b6840c6d29fadc71fa2d129dadbd066a, 991dd9b0990...\n",
       "2083    [b6840c6d29fadc71fa2d129dadbd066a, 991dd9b0990...\n",
       "Length: 2084, dtype: object"
      ]
     },
     "execution_count": 15,
     "metadata": {},
     "output_type": "execute_result"
    }
   ],
   "source": [
    "y_train_pred"
   ]
  },
  {
   "cell_type": "markdown",
   "id": "b9c61922",
   "metadata": {},
   "source": [
    "Немного смущает 0 в 3 строчке, проверим эту строку в тренировочном датасете"
   ]
  },
  {
   "cell_type": "code",
   "execution_count": 16,
   "id": "f46f83c2",
   "metadata": {},
   "outputs": [
    {
     "data": {
      "text/html": [
       "<div>\n",
       "<style scoped>\n",
       "    .dataframe tbody tr th:only-of-type {\n",
       "        vertical-align: middle;\n",
       "    }\n",
       "\n",
       "    .dataframe tbody tr th {\n",
       "        vertical-align: top;\n",
       "    }\n",
       "\n",
       "    .dataframe thead th {\n",
       "        text-align: right;\n",
       "    }\n",
       "</style>\n",
       "<table border=\"1\" class=\"dataframe\">\n",
       "  <thead>\n",
       "    <tr style=\"text-align: right;\">\n",
       "      <th></th>\n",
       "      <th>original_track_id</th>\n",
       "      <th>track_id</th>\n",
       "      <th>track_remake_type</th>\n",
       "      <th>translate_text</th>\n",
       "      <th>dttm</th>\n",
       "      <th>title</th>\n",
       "      <th>language</th>\n",
       "      <th>isrc</th>\n",
       "      <th>genres</th>\n",
       "      <th>duration</th>\n",
       "      <th>cover_list</th>\n",
       "      <th>lemm_text</th>\n",
       "    </tr>\n",
       "  </thead>\n",
       "  <tbody>\n",
       "    <tr>\n",
       "      <th>3</th>\n",
       "      <td>43f4ccc81208af9ed8b646ddb3c89a31</td>\n",
       "      <td>43f4ccc81208af9ed8b646ddb3c89a31</td>\n",
       "      <td>ORIGINAL</td>\n",
       "      <td>Every centimeter, every edge of the soul and b...</td>\n",
       "      <td>2021-03-26 17:17:51</td>\n",
       "      <td>Ты так красива</td>\n",
       "      <td>RU</td>\n",
       "      <td>RUA1D2111316</td>\n",
       "      <td>['POP']</td>\n",
       "      <td>173380.0</td>\n",
       "      <td>NaN</td>\n",
       "      <td>every centimeter every edge of the soul and bo...</td>\n",
       "    </tr>\n",
       "  </tbody>\n",
       "</table>\n",
       "</div>"
      ],
      "text/plain": [
       "                  original_track_id                          track_id  \\\n",
       "3  43f4ccc81208af9ed8b646ddb3c89a31  43f4ccc81208af9ed8b646ddb3c89a31   \n",
       "\n",
       "  track_remake_type                                     translate_text  \\\n",
       "3          ORIGINAL  Every centimeter, every edge of the soul and b...   \n",
       "\n",
       "                  dttm           title language          isrc   genres  \\\n",
       "3  2021-03-26 17:17:51  Ты так красива       RU  RUA1D2111316  ['POP']   \n",
       "\n",
       "   duration cover_list                                          lemm_text  \n",
       "3  173380.0        NaN  every centimeter every edge of the soul and bo...  "
      ]
     },
     "execution_count": 16,
     "metadata": {},
     "output_type": "execute_result"
    }
   ],
   "source": [
    "df_train.loc[3:3]"
   ]
  },
  {
   "cell_type": "markdown",
   "id": "709aafd0",
   "metadata": {},
   "source": [
    "Согласно разметке это оригинал и у него нет каверов. Выведем трек с 0 расстоянием из прогноза."
   ]
  },
  {
   "cell_type": "code",
   "execution_count": 17,
   "id": "f1493ad9",
   "metadata": {},
   "outputs": [
    {
     "data": {
      "text/html": [
       "<div>\n",
       "<style scoped>\n",
       "    .dataframe tbody tr th:only-of-type {\n",
       "        vertical-align: middle;\n",
       "    }\n",
       "\n",
       "    .dataframe tbody tr th {\n",
       "        vertical-align: top;\n",
       "    }\n",
       "\n",
       "    .dataframe thead th {\n",
       "        text-align: right;\n",
       "    }\n",
       "</style>\n",
       "<table border=\"1\" class=\"dataframe\">\n",
       "  <thead>\n",
       "    <tr style=\"text-align: right;\">\n",
       "      <th></th>\n",
       "      <th>original_track_id</th>\n",
       "      <th>track_id</th>\n",
       "      <th>track_remake_type</th>\n",
       "      <th>translate_text</th>\n",
       "      <th>dttm</th>\n",
       "      <th>title</th>\n",
       "      <th>language</th>\n",
       "      <th>isrc</th>\n",
       "      <th>genres</th>\n",
       "      <th>duration</th>\n",
       "      <th>cover_list</th>\n",
       "      <th>lemm_text</th>\n",
       "    </tr>\n",
       "  </thead>\n",
       "  <tbody>\n",
       "    <tr>\n",
       "      <th>1885</th>\n",
       "      <td>ad368cb71bf8aa98e9629bf2a65fc446</td>\n",
       "      <td>ad368cb71bf8aa98e9629bf2a65fc446</td>\n",
       "      <td>ORIGINAL</td>\n",
       "      <td>Every centimeter, every edge of the soul and b...</td>\n",
       "      <td>2022-10-25 09:41:45</td>\n",
       "      <td>Ты так красива</td>\n",
       "      <td>RU</td>\n",
       "      <td>RUA1D2293955</td>\n",
       "      <td>['POP', 'RUSPOP']</td>\n",
       "      <td>173380.0</td>\n",
       "      <td>NaN</td>\n",
       "      <td>every centimeter every edge of the soul and bo...</td>\n",
       "    </tr>\n",
       "  </tbody>\n",
       "</table>\n",
       "</div>"
      ],
      "text/plain": [
       "                     original_track_id                          track_id  \\\n",
       "1885  ad368cb71bf8aa98e9629bf2a65fc446  ad368cb71bf8aa98e9629bf2a65fc446   \n",
       "\n",
       "     track_remake_type                                     translate_text  \\\n",
       "1885          ORIGINAL  Every centimeter, every edge of the soul and b...   \n",
       "\n",
       "                     dttm           title language          isrc  \\\n",
       "1885  2022-10-25 09:41:45  Ты так красива       RU  RUA1D2293955   \n",
       "\n",
       "                 genres  duration cover_list  \\\n",
       "1885  ['POP', 'RUSPOP']  173380.0        NaN   \n",
       "\n",
       "                                              lemm_text  \n",
       "1885  every centimeter every edge of the soul and bo...  "
      ]
     },
     "execution_count": 17,
     "metadata": {},
     "output_type": "execute_result"
    }
   ],
   "source": [
    "df_train[df_train['track_id']=='ad368cb71bf8aa98e9629bf2a65fc446']"
   ]
  },
  {
   "cell_type": "markdown",
   "id": "69bf2083",
   "metadata": {},
   "source": [
    "Как видим это одна и та же песня, но у них почему то разный track_id и isrc, Но обе почему-то имеют метку оригинала (возможно имеется проблема с разметкой датасета и это нужно будет проверить."
   ]
  },
  {
   "cell_type": "markdown",
   "id": "8bd73b02",
   "metadata": {},
   "source": [
    "## Модель принимающая решения является ли пара треков каверами"
   ]
  },
  {
   "cell_type": "markdown",
   "id": "bef98940",
   "metadata": {},
   "source": [
    "После подбора наиболее подходящих треков создадим новый датасет и поверхнего обучим модель, которая будет решать является ли эта пара треков каверами / оригиналами. Для начала создадим датасет на основании предыдущего этапа моделирования. Рассмотрим следующие варианты создания датасета:\n",
    "\n",
    "1. Добавления столбцов для обучения для каждого образца и добавления растояния между образцами;\n",
    "2. Проверка на равнество для категориальных признаков, а для  количественных как в первом варианте;\n",
    "3. Отношение для количественных признаков, а остальное как в первом варианте;\n",
    "4. Объединение 2 и 3 варианта;\n",
    "5. Объединение первых 3 вариантов (т.е. будем оставлять как первоначальные столбцы, так и сгенерированные)."
   ]
  },
  {
   "cell_type": "markdown",
   "id": "7f561a35",
   "metadata": {},
   "source": [
    "Выделим нужные категориальные и числовые столбцы"
   ]
  },
  {
   "cell_type": "code",
   "execution_count": 18,
   "id": "89048ff1",
   "metadata": {},
   "outputs": [],
   "source": [
    "cat_features = ['language', 'title']\n",
    "num_features = ['duration']"
   ]
  },
  {
   "cell_type": "markdown",
   "id": "db22c0a9",
   "metadata": {},
   "source": [
    "### Проверка модели с сохранением всех прирзнаков для обоих образцов и добавлением расстояния между ними (модель 1)"
   ]
  },
  {
   "cell_type": "markdown",
   "id": "f58d2a7f",
   "metadata": {},
   "source": [
    "Напишем функцию для переименования столбцов, так как нам потребуется разделять признаки для одного и для второго образца"
   ]
  },
  {
   "cell_type": "code",
   "execution_count": 19,
   "id": "7514cd05",
   "metadata": {},
   "outputs": [],
   "source": [
    "def rename_columns(df: pd.DataFrame, ind: int) -> pd.DataFrame:\n",
    "    df = df.copy(deep = True)\n",
    "    ind = '_' + str(ind)\n",
    "    columns_dict = dict()\n",
    "    for column in df.columns:\n",
    "        columns_dict[column] = column + ind\n",
    "        \n",
    "    df = df.rename(columns = columns_dict)\n",
    "    return df"
   ]
  },
  {
   "cell_type": "markdown",
   "id": "27544856",
   "metadata": {},
   "source": [
    "Создадим функцию для получения значения target, которое будет показывать входит ли трек с id_1 в состав каверов для трека с id_2 или наоборот."
   ]
  },
  {
   "cell_type": "code",
   "execution_count": 20,
   "id": "50509f58",
   "metadata": {},
   "outputs": [],
   "source": [
    "def get_target(df: pd.DataFrame, id_1: str, id_2: str) -> int:\n",
    "    target_value = ((~df.loc[df['track_id']==id_1, 'cover_list'].isna().any() and\n",
    "                   id_2 in df.loc[df['track_id']==id_1, 'cover_list'].values[0]) or \n",
    "                   (~df.loc[df['track_id']==id_2, 'cover_list'].isna().any() and\n",
    "                   id_1 in df.loc[df['track_id']==id_2, 'cover_list'].values[0]))\n",
    "    return int(target_value)"
   ]
  },
  {
   "cell_type": "markdown",
   "id": "17f6f265",
   "metadata": {},
   "source": [
    "Напишем  функцию для создания строки датасета по 2 заданным track_id"
   ]
  },
  {
   "cell_type": "code",
   "execution_count": 21,
   "id": "c0d4566c",
   "metadata": {},
   "outputs": [],
   "source": [
    "def get_row_to_df_v1(df: pd.DataFrame, \n",
    "                     id_1: str, \n",
    "                     id_2: str, \n",
    "                     dist: float, \n",
    "                     cat_features: List[str] = [], \n",
    "                     num_features: List[str] = [], \n",
    "                     is_train: bool = True) -> pd.DataFrame:\n",
    "    all_features = num_features + cat_features\n",
    "    # получаем нудные столбцы\n",
    "    df_1 = df.loc[df['track_id'] == id_1, all_features].reset_index(drop=True)\n",
    "    df_2 = df.loc[df['track_id'] == id_2, all_features].reset_index(drop=True)\n",
    "    # переименовываем столбцы\n",
    "    df_1 = rename_columns(df_1, 1)\n",
    "    df_2 = rename_columns(df_2, 2)\n",
    "    # объединяем\n",
    "    new_df = pd.concat([df_1, df_2], axis=1)\n",
    "    # добавляем расстояние\n",
    "    new_df['dist'] = dist\n",
    "    if is_train:\n",
    "        new_df['target'] = get_target(df, id_1, id_2)\n",
    "    return new_df"
   ]
  },
  {
   "cell_type": "markdown",
   "id": "5a686382",
   "metadata": {},
   "source": [
    "Создадим функцию для генерации всего датсета, при этом сделаем так, что бы она на вход принимала функцию генерации признаков, это позволит в дальнейшем переиспользовать её."
   ]
  },
  {
   "cell_type": "code",
   "execution_count": 22,
   "id": "450883f2",
   "metadata": {},
   "outputs": [],
   "source": [
    "def get_df(df: pd.DataFrame, \n",
    "           series_pred: pd.Series, \n",
    "           series_dist: pd.Series, \n",
    "           function: Callable, \n",
    "           cat_features: List[str] = [], \n",
    "           num_features: List[str] = [],\n",
    "           is_train: bool = True) -> pd.DataFrame:\n",
    "    new_df = pd.DataFrame()\n",
    "    for i in tqdm(range(series_pred.shape[0])):\n",
    "        list_pred = series_pred[i]\n",
    "        list_dist = series_dist[i]\n",
    "        for j in range(len(list_pred)):\n",
    "            df_match = function(df, \n",
    "                                df.loc[i, 'track_id'], \n",
    "                                list_pred[j],\n",
    "                                list_dist[j],\n",
    "                                cat_features,\n",
    "                                num_features)\n",
    "            new_df = pd.concat([new_df, df_match])\n",
    "    return new_df.reset_index(drop=True)"
   ]
  },
  {
   "cell_type": "markdown",
   "id": "09dfa249",
   "metadata": {},
   "source": [
    "Сгенерируем датасет"
   ]
  },
  {
   "cell_type": "code",
   "execution_count": 23,
   "id": "8c8d8d45",
   "metadata": {},
   "outputs": [
    {
     "name": "stderr",
     "output_type": "stream",
     "text": [
      "100%|██████████████████████████████████████████████████████████████████████████████| 2084/2084 [01:04<00:00, 32.12it/s]\n"
     ]
    }
   ],
   "source": [
    "df_cat_train = get_df(df_train, y_train_pred, dist_train_pred, get_row_to_df_v1, cat_features, num_features)"
   ]
  },
  {
   "cell_type": "code",
   "execution_count": 24,
   "id": "e90475e9",
   "metadata": {},
   "outputs": [
    {
     "data": {
      "text/html": [
       "<div>\n",
       "<style scoped>\n",
       "    .dataframe tbody tr th:only-of-type {\n",
       "        vertical-align: middle;\n",
       "    }\n",
       "\n",
       "    .dataframe tbody tr th {\n",
       "        vertical-align: top;\n",
       "    }\n",
       "\n",
       "    .dataframe thead th {\n",
       "        text-align: right;\n",
       "    }\n",
       "</style>\n",
       "<table border=\"1\" class=\"dataframe\">\n",
       "  <thead>\n",
       "    <tr style=\"text-align: right;\">\n",
       "      <th></th>\n",
       "      <th>duration_1</th>\n",
       "      <th>language_1</th>\n",
       "      <th>title_1</th>\n",
       "      <th>duration_2</th>\n",
       "      <th>language_2</th>\n",
       "      <th>title_2</th>\n",
       "      <th>dist</th>\n",
       "      <th>target</th>\n",
       "    </tr>\n",
       "  </thead>\n",
       "  <tbody>\n",
       "    <tr>\n",
       "      <th>0</th>\n",
       "      <td>188240.0</td>\n",
       "      <td>RU</td>\n",
       "      <td>Стань</td>\n",
       "      <td>163290.0</td>\n",
       "      <td>EN</td>\n",
       "      <td>Over You</td>\n",
       "      <td>1.0</td>\n",
       "      <td>0</td>\n",
       "    </tr>\n",
       "    <tr>\n",
       "      <th>1</th>\n",
       "      <td>188240.0</td>\n",
       "      <td>RU</td>\n",
       "      <td>Стань</td>\n",
       "      <td>136640.0</td>\n",
       "      <td>EN</td>\n",
       "      <td>Fenomen</td>\n",
       "      <td>1.0</td>\n",
       "      <td>0</td>\n",
       "    </tr>\n",
       "    <tr>\n",
       "      <th>2</th>\n",
       "      <td>188240.0</td>\n",
       "      <td>RU</td>\n",
       "      <td>Стань</td>\n",
       "      <td>105880.0</td>\n",
       "      <td>EN</td>\n",
       "      <td>Enigma</td>\n",
       "      <td>1.0</td>\n",
       "      <td>0</td>\n",
       "    </tr>\n",
       "    <tr>\n",
       "      <th>3</th>\n",
       "      <td>188240.0</td>\n",
       "      <td>RU</td>\n",
       "      <td>Стань</td>\n",
       "      <td>108720.0</td>\n",
       "      <td>EN</td>\n",
       "      <td>escape</td>\n",
       "      <td>1.0</td>\n",
       "      <td>0</td>\n",
       "    </tr>\n",
       "    <tr>\n",
       "      <th>4</th>\n",
       "      <td>188240.0</td>\n",
       "      <td>RU</td>\n",
       "      <td>Стань</td>\n",
       "      <td>231500.0</td>\n",
       "      <td>EN</td>\n",
       "      <td>Baby mama</td>\n",
       "      <td>1.0</td>\n",
       "      <td>0</td>\n",
       "    </tr>\n",
       "  </tbody>\n",
       "</table>\n",
       "</div>"
      ],
      "text/plain": [
       "   duration_1 language_1 title_1  duration_2 language_2    title_2  dist  \\\n",
       "0    188240.0         RU   Стань    163290.0         EN   Over You   1.0   \n",
       "1    188240.0         RU   Стань    136640.0         EN    Fenomen   1.0   \n",
       "2    188240.0         RU   Стань    105880.0         EN     Enigma   1.0   \n",
       "3    188240.0         RU   Стань    108720.0         EN     escape   1.0   \n",
       "4    188240.0         RU   Стань    231500.0         EN  Baby mama   1.0   \n",
       "\n",
       "   target  \n",
       "0       0  \n",
       "1       0  \n",
       "2       0  \n",
       "3       0  \n",
       "4       0  "
      ]
     },
     "execution_count": 24,
     "metadata": {},
     "output_type": "execute_result"
    }
   ],
   "source": [
    "df_cat_train.head()"
   ]
  },
  {
   "cell_type": "markdown",
   "id": "a6f1f02f",
   "metadata": {},
   "source": [
    "Поскольку названия столбцов в датасете менялись, то нужно выбрать новые списки категориальных и числовых признаков"
   ]
  },
  {
   "cell_type": "code",
   "execution_count": 25,
   "id": "8b772435",
   "metadata": {},
   "outputs": [],
   "source": [
    "def get_features_list(df: pd.DataFrame,\n",
    "                      cat_features: List[str] = [], \n",
    "                      num_features: List[str] = []) -> Tuple[List, List]:\n",
    "    columns = df.columns\n",
    "    new_cat_features = []\n",
    "    new_num_features = []\n",
    "    for column in columns:\n",
    "        if column.split('_')[0] in cat_features:\n",
    "            new_cat_features.append(column)\n",
    "        if column.split('_')[0] in num_features:\n",
    "            new_num_features.append(column)\n",
    "    return new_cat_features, new_num_features"
   ]
  },
  {
   "cell_type": "code",
   "execution_count": 26,
   "id": "881a4fe7",
   "metadata": {},
   "outputs": [],
   "source": [
    "new_cat_features, new_num_features = get_features_list(df_cat_train, cat_features, num_features)"
   ]
  },
  {
   "cell_type": "markdown",
   "id": "3c852341",
   "metadata": {},
   "source": [
    "Посмотрим как распределён целевой признак."
   ]
  },
  {
   "cell_type": "code",
   "execution_count": 27,
   "id": "d43d28da",
   "metadata": {},
   "outputs": [
    {
     "data": {
      "text/plain": [
       "0.049104286628278954"
      ]
     },
     "execution_count": 27,
     "metadata": {},
     "output_type": "execute_result"
    }
   ],
   "source": [
    "df_cat_train['target'].mean()"
   ]
  },
  {
   "cell_type": "markdown",
   "id": "a8c576e4",
   "metadata": {},
   "source": [
    "Выделим признаки и цели обучения"
   ]
  },
  {
   "cell_type": "code",
   "execution_count": 28,
   "id": "9e89323e",
   "metadata": {},
   "outputs": [],
   "source": [
    "X_train = df_cat_train.drop('target', axis=1)\n",
    "y_train = df_cat_train['target']"
   ]
  },
  {
   "cell_type": "markdown",
   "id": "a9c7703b",
   "metadata": {},
   "source": [
    "Как видим у нас всего около 5% матчей, поэтому при обучении необходимо указать модели на дисбаланс классов. Как отмечалось ранее для обучения будем использовать CatBoostClassifier. Поскольку у нас задача свелась к задачи классификации, то в качестве метрики будем использовать f1 меру."
   ]
  },
  {
   "cell_type": "code",
   "execution_count": 29,
   "id": "295d4846",
   "metadata": {},
   "outputs": [],
   "source": [
    "cat_model = CatBoostClassifier(random_state=RANDOM_STATE, \n",
    "                               cat_features=new_cat_features,\n",
    "                               verbose=False)"
   ]
  },
  {
   "cell_type": "markdown",
   "id": "9572e440",
   "metadata": {},
   "source": [
    "Определять качество модели будем на кроссвалидации, поскольку у нас крайне мало целевых значений, то для разделения на фолды будем использовать StratifiedKFold"
   ]
  },
  {
   "cell_type": "code",
   "execution_count": 30,
   "id": "403c5b18",
   "metadata": {},
   "outputs": [],
   "source": [
    "skf = StratifiedKFold(n_splits=4)\n",
    "folds = skf.split(X_train, y_train)"
   ]
  },
  {
   "cell_type": "code",
   "execution_count": 31,
   "id": "cd23a107",
   "metadata": {},
   "outputs": [
    {
     "name": "stdout",
     "output_type": "stream",
     "text": [
      "Метрика f1 на кроссвалидации [0.63063063 0.79254079 0.22393822 0.3115942 ]\n",
      "Среднее значение f1 на всём датасете 0.4896759625020494\n",
      "CPU times: total: 10min 13s\n",
      "Wall time: 1min 21s\n"
     ]
    }
   ],
   "source": [
    "%%time\n",
    "cvs = cross_val_score(cat_model, X_train, y_train, cv=folds, scoring='f1')\n",
    "print(f'Метрика f1 на кроссвалидации {cvs}')\n",
    "print(f'Среднее значение f1 на всём датасете {mean(cvs)}')"
   ]
  },
  {
   "cell_type": "markdown",
   "id": "6d9fd6d8",
   "metadata": {},
   "source": [
    "Проверим нашу гипотезу, что в данных сильный дисбаланс классов и передача весов, поможет улучшить качество модели."
   ]
  },
  {
   "cell_type": "code",
   "execution_count": 32,
   "id": "076f1cc1",
   "metadata": {},
   "outputs": [],
   "source": [
    "classes = np.unique(y_train)\n",
    "weights = compute_class_weight(class_weight='balanced', classes=classes, y=y_train)\n",
    "class_weights = dict(zip(classes, weights))"
   ]
  },
  {
   "cell_type": "code",
   "execution_count": 33,
   "id": "faf5fd34",
   "metadata": {},
   "outputs": [],
   "source": [
    "cat_model = CatBoostClassifier(random_state=RANDOM_STATE, \n",
    "                               cat_features=new_cat_features,\n",
    "                               verbose=False,\n",
    "                               class_weights=class_weights)"
   ]
  },
  {
   "cell_type": "code",
   "execution_count": 34,
   "id": "e0748315",
   "metadata": {},
   "outputs": [
    {
     "name": "stdout",
     "output_type": "stream",
     "text": [
      "Метрика f1 на кроссвалидации [0.68501529 0.87784679 0.56615385 0.32374101]\n",
      "Среднее значение f1 на всём датасете 0.6131892336895594\n",
      "CPU times: total: 8min 57s\n",
      "Wall time: 1min 13s\n"
     ]
    }
   ],
   "source": [
    "%%time\n",
    "skf = StratifiedKFold(n_splits=4)\n",
    "folds = skf.split(X_train, y_train)\n",
    "\n",
    "cvs = cross_val_score(cat_model, X_train, y_train, cv=folds, scoring='f1')\n",
    "print(f'Метрика f1 на кроссвалидации {cvs}')\n",
    "print(f'Среднее значение f1 на всём датасете {mean(cvs)}')"
   ]
  },
  {
   "cell_type": "markdown",
   "id": "bc7ab1d6",
   "metadata": {},
   "source": [
    "Действительно, сбалансированные веса позволяют улучшить качество модели."
   ]
  },
  {
   "cell_type": "markdown",
   "id": "57fba7c7",
   "metadata": {},
   "source": [
    "### Проверка модели с сохранением числовых прирзнаков для обоих образцов и сравнением на равенство категориальных признаков (плюс сохранение дистанции)  (модель 2)"
   ]
  },
  {
   "cell_type": "markdown",
   "id": "4ecaf6a5",
   "metadata": {},
   "source": [
    "Создадим функцию, для реализации второй стратегии при которой проверяется равенство категориальных признаков"
   ]
  },
  {
   "cell_type": "code",
   "execution_count": 35,
   "id": "b8f76b66",
   "metadata": {},
   "outputs": [],
   "source": [
    "def get_row_to_df_v2(df: pd.DataFrame, \n",
    "                     id_1: str, \n",
    "                     id_2: str, \n",
    "                     dist: float, \n",
    "                     cat_features: List[str] = [], \n",
    "                     num_features: List[str] = [], \n",
    "                     is_train: bool = True) -> pd.DataFrame:\n",
    "    # сравниваем категориальные столбцы\n",
    "    new_df = pd.DataFrame()\n",
    "    for column in cat_features:\n",
    "        new_df[column] =pd.Series(df.loc[df['track_id'] == id_1, column].reset_index(drop=True)[0] \n",
    "                                  == df.loc[df['track_id'] == id_2, column].reset_index(drop=True)[0])\n",
    "    # для числовых столбцов воспользуемся функцией написаной ранее\n",
    "    num_df = get_row_to_df_v1(df, \n",
    "                              id_1, \n",
    "                              id_2,\n",
    "                              dist,\n",
    "                              num_features = num_features)    \n",
    "    new_df = pd.concat([new_df ,num_df], axis=1)\n",
    "    return new_df"
   ]
  },
  {
   "cell_type": "markdown",
   "id": "e607985f",
   "metadata": {},
   "source": [
    "Получим датасет"
   ]
  },
  {
   "cell_type": "code",
   "execution_count": 36,
   "id": "6e089cf5",
   "metadata": {},
   "outputs": [
    {
     "name": "stderr",
     "output_type": "stream",
     "text": [
      "100%|██████████████████████████████████████████████████████████████████████████████| 2084/2084 [01:43<00:00, 20.06it/s]\n"
     ]
    }
   ],
   "source": [
    "df_cat_train = get_df(df_train, y_train_pred, dist_train_pred, get_row_to_df_v2, cat_features, num_features)"
   ]
  },
  {
   "cell_type": "markdown",
   "id": "de8f56a7",
   "metadata": {},
   "source": [
    "Выведем список первых 5 строк и убедимся, что всё отработало корректно (отношение 0 и 1 в таргете должно остаться прежним)"
   ]
  },
  {
   "cell_type": "code",
   "execution_count": 37,
   "id": "1ac04199",
   "metadata": {},
   "outputs": [
    {
     "data": {
      "text/html": [
       "<div>\n",
       "<style scoped>\n",
       "    .dataframe tbody tr th:only-of-type {\n",
       "        vertical-align: middle;\n",
       "    }\n",
       "\n",
       "    .dataframe tbody tr th {\n",
       "        vertical-align: top;\n",
       "    }\n",
       "\n",
       "    .dataframe thead th {\n",
       "        text-align: right;\n",
       "    }\n",
       "</style>\n",
       "<table border=\"1\" class=\"dataframe\">\n",
       "  <thead>\n",
       "    <tr style=\"text-align: right;\">\n",
       "      <th></th>\n",
       "      <th>language</th>\n",
       "      <th>title</th>\n",
       "      <th>duration_1</th>\n",
       "      <th>duration_2</th>\n",
       "      <th>dist</th>\n",
       "      <th>target</th>\n",
       "    </tr>\n",
       "  </thead>\n",
       "  <tbody>\n",
       "    <tr>\n",
       "      <th>0</th>\n",
       "      <td>False</td>\n",
       "      <td>False</td>\n",
       "      <td>188240.0</td>\n",
       "      <td>163290.0</td>\n",
       "      <td>1.0</td>\n",
       "      <td>0</td>\n",
       "    </tr>\n",
       "    <tr>\n",
       "      <th>1</th>\n",
       "      <td>False</td>\n",
       "      <td>False</td>\n",
       "      <td>188240.0</td>\n",
       "      <td>136640.0</td>\n",
       "      <td>1.0</td>\n",
       "      <td>0</td>\n",
       "    </tr>\n",
       "    <tr>\n",
       "      <th>2</th>\n",
       "      <td>False</td>\n",
       "      <td>False</td>\n",
       "      <td>188240.0</td>\n",
       "      <td>105880.0</td>\n",
       "      <td>1.0</td>\n",
       "      <td>0</td>\n",
       "    </tr>\n",
       "    <tr>\n",
       "      <th>3</th>\n",
       "      <td>False</td>\n",
       "      <td>False</td>\n",
       "      <td>188240.0</td>\n",
       "      <td>108720.0</td>\n",
       "      <td>1.0</td>\n",
       "      <td>0</td>\n",
       "    </tr>\n",
       "    <tr>\n",
       "      <th>4</th>\n",
       "      <td>False</td>\n",
       "      <td>False</td>\n",
       "      <td>188240.0</td>\n",
       "      <td>231500.0</td>\n",
       "      <td>1.0</td>\n",
       "      <td>0</td>\n",
       "    </tr>\n",
       "  </tbody>\n",
       "</table>\n",
       "</div>"
      ],
      "text/plain": [
       "   language  title  duration_1  duration_2  dist  target\n",
       "0     False  False    188240.0    163290.0   1.0       0\n",
       "1     False  False    188240.0    136640.0   1.0       0\n",
       "2     False  False    188240.0    105880.0   1.0       0\n",
       "3     False  False    188240.0    108720.0   1.0       0\n",
       "4     False  False    188240.0    231500.0   1.0       0"
      ]
     },
     "execution_count": 37,
     "metadata": {},
     "output_type": "execute_result"
    }
   ],
   "source": [
    "df_cat_train.head()"
   ]
  },
  {
   "cell_type": "code",
   "execution_count": 38,
   "id": "f4adcc58",
   "metadata": {},
   "outputs": [
    {
     "data": {
      "text/plain": [
       "0.049104286628278954"
      ]
     },
     "execution_count": 38,
     "metadata": {},
     "output_type": "execute_result"
    }
   ],
   "source": [
    "df_cat_train['target'].mean()"
   ]
  },
  {
   "cell_type": "markdown",
   "id": "87e0fcaf",
   "metadata": {},
   "source": [
    "Создадим и обучим модель (сразу будем обучать модель со сбалансированными весами)"
   ]
  },
  {
   "cell_type": "code",
   "execution_count": 39,
   "id": "1b1f0f00",
   "metadata": {},
   "outputs": [],
   "source": [
    "X_train = df_cat_train.drop('target', axis=1)\n",
    "y_train = df_cat_train['target']\n",
    "\n",
    "skf = StratifiedKFold(n_splits=4)\n",
    "folds = skf.split(X_train, y_train)\n",
    "\n",
    "classes = np.unique(y_train)\n",
    "weights = compute_class_weight(class_weight='balanced', classes=classes, y=y_train)\n",
    "class_weights = dict(zip(classes, weights))\n",
    "\n",
    "cat_model = CatBoostClassifier(random_state=RANDOM_STATE, \n",
    "                               cat_features=cat_features,\n",
    "                               verbose=False,\n",
    "                               class_weights=class_weights)"
   ]
  },
  {
   "cell_type": "code",
   "execution_count": 40,
   "id": "c796c36c",
   "metadata": {},
   "outputs": [
    {
     "name": "stdout",
     "output_type": "stream",
     "text": [
      "Метрика f1 на кроссвалидации [0.74193548 0.87610619 0.90187891 0.83628319]\n",
      "Среднее значение f1 на всём датасете 0.8390509447017379\n",
      "CPU times: total: 3min 22s\n",
      "Wall time: 21.3 s\n"
     ]
    }
   ],
   "source": [
    "%%time\n",
    "cvs = cross_val_score(cat_model, X_train, y_train, cv=folds, scoring='f1')\n",
    "print(f'Метрика f1 на кроссвалидации {cvs}')\n",
    "print(f'Среднее значение f1 на всём датасете {mean(cvs)}')"
   ]
  },
  {
   "cell_type": "markdown",
   "id": "29744d8d",
   "metadata": {},
   "source": [
    "Качество модели стало значительно лучше, по сравнения с первым вариантом модели"
   ]
  },
  {
   "cell_type": "markdown",
   "id": "8f4854d3",
   "metadata": {},
   "source": [
    "### Проверка модели с сохранением категориальных прирзнаков для обоих образцов и получения отношения для числовых признаков (плюс сохранение дистанции) (модель 3)"
   ]
  },
  {
   "cell_type": "markdown",
   "id": "9dc24ed9",
   "metadata": {},
   "source": [
    "Создадим функцию, для реализации третей стратегии при этом будем смотреть не просто отношение числовых признаков, а абсолютную разницу от единице (чем ближе будет значение к 0, тем меньше разница между числовыми признаками)"
   ]
  },
  {
   "cell_type": "code",
   "execution_count": 41,
   "id": "fa0c9383",
   "metadata": {},
   "outputs": [],
   "source": [
    "def get_row_to_df_v3(df: pd.DataFrame, \n",
    "                     id_1: str, \n",
    "                     id_2: str, \n",
    "                     dist: float, \n",
    "                     cat_features: List[str] = [], \n",
    "                     num_features: List[str] = [], \n",
    "                     is_train: bool = True) -> pd.DataFrame:\n",
    "    # находим отношение для числовых признаков\n",
    "    new_df = pd.DataFrame()\n",
    "    for column in num_features:\n",
    "        new_df[column] = pd.Series(abs(1 - df.loc[df['track_id'] == id_1, column].reset_index(drop=True)[0] \n",
    "                                  / df.loc[df['track_id'] == id_2, column].reset_index(drop=True)[0]))\n",
    "    # для категориальных столбцов воспользуемся написанной ранее функцией\n",
    "    cat_df = get_row_to_df_v1(df, \n",
    "                              id_1, \n",
    "                              id_2,\n",
    "                              dist,\n",
    "                              cat_features = cat_features)    \n",
    "    new_df = pd.concat([new_df ,cat_df], axis=1)\n",
    "    return new_df"
   ]
  },
  {
   "cell_type": "markdown",
   "id": "e437cebc",
   "metadata": {},
   "source": [
    "Получим датасет"
   ]
  },
  {
   "cell_type": "code",
   "execution_count": 42,
   "id": "22d2f30a",
   "metadata": {},
   "outputs": [
    {
     "name": "stderr",
     "output_type": "stream",
     "text": [
      "100%|██████████████████████████████████████████████████████████████████████████████| 2084/2084 [01:28<00:00, 23.58it/s]\n"
     ]
    }
   ],
   "source": [
    "df_cat_train = get_df(df_train, y_train_pred, dist_train_pred, get_row_to_df_v3, cat_features, num_features)"
   ]
  },
  {
   "cell_type": "markdown",
   "id": "4db4de2d",
   "metadata": {},
   "source": [
    "Выведем список первых 5 строк и убедимся, что отношение 0 и 1 в таргете должно остаться прежним"
   ]
  },
  {
   "cell_type": "code",
   "execution_count": 43,
   "id": "b8f3598b",
   "metadata": {},
   "outputs": [
    {
     "data": {
      "text/html": [
       "<div>\n",
       "<style scoped>\n",
       "    .dataframe tbody tr th:only-of-type {\n",
       "        vertical-align: middle;\n",
       "    }\n",
       "\n",
       "    .dataframe tbody tr th {\n",
       "        vertical-align: top;\n",
       "    }\n",
       "\n",
       "    .dataframe thead th {\n",
       "        text-align: right;\n",
       "    }\n",
       "</style>\n",
       "<table border=\"1\" class=\"dataframe\">\n",
       "  <thead>\n",
       "    <tr style=\"text-align: right;\">\n",
       "      <th></th>\n",
       "      <th>duration</th>\n",
       "      <th>language_1</th>\n",
       "      <th>title_1</th>\n",
       "      <th>language_2</th>\n",
       "      <th>title_2</th>\n",
       "      <th>dist</th>\n",
       "      <th>target</th>\n",
       "    </tr>\n",
       "  </thead>\n",
       "  <tbody>\n",
       "    <tr>\n",
       "      <th>0</th>\n",
       "      <td>0.152796</td>\n",
       "      <td>RU</td>\n",
       "      <td>Стань</td>\n",
       "      <td>EN</td>\n",
       "      <td>Over You</td>\n",
       "      <td>1.0</td>\n",
       "      <td>0</td>\n",
       "    </tr>\n",
       "    <tr>\n",
       "      <th>1</th>\n",
       "      <td>0.377635</td>\n",
       "      <td>RU</td>\n",
       "      <td>Стань</td>\n",
       "      <td>EN</td>\n",
       "      <td>Fenomen</td>\n",
       "      <td>1.0</td>\n",
       "      <td>0</td>\n",
       "    </tr>\n",
       "    <tr>\n",
       "      <th>2</th>\n",
       "      <td>0.777862</td>\n",
       "      <td>RU</td>\n",
       "      <td>Стань</td>\n",
       "      <td>EN</td>\n",
       "      <td>Enigma</td>\n",
       "      <td>1.0</td>\n",
       "      <td>0</td>\n",
       "    </tr>\n",
       "    <tr>\n",
       "      <th>3</th>\n",
       "      <td>0.731420</td>\n",
       "      <td>RU</td>\n",
       "      <td>Стань</td>\n",
       "      <td>EN</td>\n",
       "      <td>escape</td>\n",
       "      <td>1.0</td>\n",
       "      <td>0</td>\n",
       "    </tr>\n",
       "    <tr>\n",
       "      <th>4</th>\n",
       "      <td>0.186868</td>\n",
       "      <td>RU</td>\n",
       "      <td>Стань</td>\n",
       "      <td>EN</td>\n",
       "      <td>Baby mama</td>\n",
       "      <td>1.0</td>\n",
       "      <td>0</td>\n",
       "    </tr>\n",
       "  </tbody>\n",
       "</table>\n",
       "</div>"
      ],
      "text/plain": [
       "   duration language_1 title_1 language_2    title_2  dist  target\n",
       "0  0.152796         RU   Стань         EN   Over You   1.0       0\n",
       "1  0.377635         RU   Стань         EN    Fenomen   1.0       0\n",
       "2  0.777862         RU   Стань         EN     Enigma   1.0       0\n",
       "3  0.731420         RU   Стань         EN     escape   1.0       0\n",
       "4  0.186868         RU   Стань         EN  Baby mama   1.0       0"
      ]
     },
     "execution_count": 43,
     "metadata": {},
     "output_type": "execute_result"
    }
   ],
   "source": [
    "df_cat_train.head()"
   ]
  },
  {
   "cell_type": "code",
   "execution_count": 44,
   "id": "b693cfc0",
   "metadata": {},
   "outputs": [
    {
     "data": {
      "text/plain": [
       "0.049104286628278954"
      ]
     },
     "execution_count": 44,
     "metadata": {},
     "output_type": "execute_result"
    }
   ],
   "source": [
    "df_cat_train['target'].mean()"
   ]
  },
  {
   "cell_type": "markdown",
   "id": "14c16d63",
   "metadata": {},
   "source": [
    "Всё отработало корректно, обучим модель и посмотрим н аей качество"
   ]
  },
  {
   "cell_type": "code",
   "execution_count": 45,
   "id": "e78e9550",
   "metadata": {},
   "outputs": [],
   "source": [
    "X_train = df_cat_train.drop('target', axis=1)\n",
    "y_train = df_cat_train['target']\n",
    "\n",
    "skf = StratifiedKFold(n_splits=4)\n",
    "folds = skf.split(X_train, y_train)\n",
    "\n",
    "classes = np.unique(y_train)\n",
    "weights = compute_class_weight(class_weight='balanced', classes=classes, y=y_train)\n",
    "class_weights = dict(zip(classes, weights))\n",
    "\n",
    "cat_model = CatBoostClassifier(random_state=RANDOM_STATE, \n",
    "                               cat_features=new_cat_features,\n",
    "                               verbose=False,\n",
    "                               class_weights=class_weights)"
   ]
  },
  {
   "cell_type": "code",
   "execution_count": 46,
   "id": "cfdb4dc2",
   "metadata": {},
   "outputs": [
    {
     "name": "stdout",
     "output_type": "stream",
     "text": [
      "Метрика f1 на кроссвалидации [0.37296037 0.91235955 0.49673203 0.33093525]\n",
      "Среднее значение f1 на всём датасете 0.5282468003661307\n",
      "CPU times: total: 9min 32s\n",
      "Wall time: 1min 15s\n"
     ]
    }
   ],
   "source": [
    "%%time\n",
    "cvs = cross_val_score(cat_model, X_train, y_train, cv=folds, scoring='f1')\n",
    "print(f'Метрика f1 на кроссвалидации {cvs}')\n",
    "print(f'Среднее значение f1 на всём датасете {mean(cvs)}')"
   ]
  },
  {
   "cell_type": "markdown",
   "id": "7ae10aea",
   "metadata": {},
   "source": [
    "Качество модели в среднем оказалось хуже чем у других моделей, однако для второго фолда, качество наоборот улучшилось при этом по остальным идёт большая просадка."
   ]
  },
  {
   "cell_type": "markdown",
   "id": "47c12f45",
   "metadata": {},
   "source": [
    "### Проверка модели с получениум отношения для числовых признаков и сравнением на равенство категориальных признаков (плюс сохранение дистанции) (модель 4)"
   ]
  },
  {
   "cell_type": "markdown",
   "id": "af87c7d1",
   "metadata": {},
   "source": [
    "Создадим функцию, для реализации четвёртой стратегии: мы будем сравнивать как категориальные признаки, так и смотреть на соотношение числовх признаков"
   ]
  },
  {
   "cell_type": "code",
   "execution_count": 47,
   "id": "4bd87f68",
   "metadata": {},
   "outputs": [],
   "source": [
    "def get_row_to_df_v4(df: pd.DataFrame, \n",
    "                     id_1: str, \n",
    "                     id_2: str, \n",
    "                     dist: float, \n",
    "                     cat_features: List[str] = [], \n",
    "                     num_features: List[str] = [], \n",
    "                     is_train: bool = True) -> pd.DataFrame:\n",
    "    # сравниваем категориальные столбцы\n",
    "    cat_df = pd.DataFrame()\n",
    "    for column in cat_features:\n",
    "        cat_df[column] =pd.Series(df.loc[df['track_id'] == id_1, column].reset_index(drop=True)[0] \n",
    "                                  == df.loc[df['track_id'] == id_2, column].reset_index(drop=True)[0])  \n",
    "        \n",
    "    # находим отношение для числовых признаков\n",
    "    num_df = pd.DataFrame()\n",
    "    for column in num_features:\n",
    "        num_df[column] = pd.Series(abs(1 - df.loc[df['track_id'] == id_1, column].reset_index(drop=True)[0] \n",
    "                                  / df.loc[df['track_id'] == id_2, column].reset_index(drop=True)[0]))\n",
    "    # для получения таргета и дистанции воспользуемся функцией\n",
    "    new_df = get_row_to_df_v1(df, \n",
    "                              id_1, \n",
    "                              id_2,\n",
    "                              dist)    \n",
    "    new_df = pd.concat([num_df ,cat_df, new_df], axis=1)\n",
    "    return new_df"
   ]
  },
  {
   "cell_type": "code",
   "execution_count": 48,
   "id": "be975461",
   "metadata": {},
   "outputs": [
    {
     "name": "stderr",
     "output_type": "stream",
     "text": [
      "100%|██████████████████████████████████████████████████████████████████████████████| 2084/2084 [01:53<00:00, 18.29it/s]\n"
     ]
    }
   ],
   "source": [
    "df_cat_train = get_df(df_train, y_train_pred, dist_train_pred, get_row_to_df_v4, cat_features, num_features)"
   ]
  },
  {
   "cell_type": "markdown",
   "id": "43dd0781",
   "metadata": {},
   "source": [
    "Проверим получившийся датасет"
   ]
  },
  {
   "cell_type": "code",
   "execution_count": 49,
   "id": "a4fc224e",
   "metadata": {},
   "outputs": [
    {
     "data": {
      "text/html": [
       "<div>\n",
       "<style scoped>\n",
       "    .dataframe tbody tr th:only-of-type {\n",
       "        vertical-align: middle;\n",
       "    }\n",
       "\n",
       "    .dataframe tbody tr th {\n",
       "        vertical-align: top;\n",
       "    }\n",
       "\n",
       "    .dataframe thead th {\n",
       "        text-align: right;\n",
       "    }\n",
       "</style>\n",
       "<table border=\"1\" class=\"dataframe\">\n",
       "  <thead>\n",
       "    <tr style=\"text-align: right;\">\n",
       "      <th></th>\n",
       "      <th>duration</th>\n",
       "      <th>language</th>\n",
       "      <th>title</th>\n",
       "      <th>dist</th>\n",
       "      <th>target</th>\n",
       "    </tr>\n",
       "  </thead>\n",
       "  <tbody>\n",
       "    <tr>\n",
       "      <th>0</th>\n",
       "      <td>0.152796</td>\n",
       "      <td>False</td>\n",
       "      <td>False</td>\n",
       "      <td>1.0</td>\n",
       "      <td>0</td>\n",
       "    </tr>\n",
       "    <tr>\n",
       "      <th>1</th>\n",
       "      <td>0.377635</td>\n",
       "      <td>False</td>\n",
       "      <td>False</td>\n",
       "      <td>1.0</td>\n",
       "      <td>0</td>\n",
       "    </tr>\n",
       "    <tr>\n",
       "      <th>2</th>\n",
       "      <td>0.777862</td>\n",
       "      <td>False</td>\n",
       "      <td>False</td>\n",
       "      <td>1.0</td>\n",
       "      <td>0</td>\n",
       "    </tr>\n",
       "    <tr>\n",
       "      <th>3</th>\n",
       "      <td>0.731420</td>\n",
       "      <td>False</td>\n",
       "      <td>False</td>\n",
       "      <td>1.0</td>\n",
       "      <td>0</td>\n",
       "    </tr>\n",
       "    <tr>\n",
       "      <th>4</th>\n",
       "      <td>0.186868</td>\n",
       "      <td>False</td>\n",
       "      <td>False</td>\n",
       "      <td>1.0</td>\n",
       "      <td>0</td>\n",
       "    </tr>\n",
       "  </tbody>\n",
       "</table>\n",
       "</div>"
      ],
      "text/plain": [
       "   duration  language  title  dist  target\n",
       "0  0.152796     False  False   1.0       0\n",
       "1  0.377635     False  False   1.0       0\n",
       "2  0.777862     False  False   1.0       0\n",
       "3  0.731420     False  False   1.0       0\n",
       "4  0.186868     False  False   1.0       0"
      ]
     },
     "execution_count": 49,
     "metadata": {},
     "output_type": "execute_result"
    }
   ],
   "source": [
    "df_cat_train.head()"
   ]
  },
  {
   "cell_type": "code",
   "execution_count": 50,
   "id": "c3f253f4",
   "metadata": {},
   "outputs": [
    {
     "data": {
      "text/plain": [
       "0.049104286628278954"
      ]
     },
     "execution_count": 50,
     "metadata": {},
     "output_type": "execute_result"
    }
   ],
   "source": [
    "df_cat_train['target'].mean()"
   ]
  },
  {
   "cell_type": "markdown",
   "id": "0e569b1b",
   "metadata": {},
   "source": [
    "Всё нормально, обучим модель и посмотрим на её качество"
   ]
  },
  {
   "cell_type": "code",
   "execution_count": 51,
   "id": "28476ecf",
   "metadata": {},
   "outputs": [],
   "source": [
    "X_train = df_cat_train.drop('target', axis=1)\n",
    "y_train = df_cat_train['target']\n",
    "\n",
    "skf = StratifiedKFold(n_splits=4)\n",
    "folds = skf.split(X_train, y_train)\n",
    "\n",
    "classes = np.unique(y_train)\n",
    "weights = compute_class_weight(class_weight='balanced', classes=classes, y=y_train)\n",
    "class_weights = dict(zip(classes, weights))\n",
    "\n",
    "cat_model = CatBoostClassifier(random_state=RANDOM_STATE, \n",
    "                               cat_features=cat_features,\n",
    "                               verbose=False,\n",
    "                               class_weights=class_weights)"
   ]
  },
  {
   "cell_type": "code",
   "execution_count": 52,
   "id": "ec8f541e",
   "metadata": {},
   "outputs": [
    {
     "name": "stdout",
     "output_type": "stream",
     "text": [
      "Метрика f1 на кроссвалидации [0.66465257 0.808      0.80882353 0.72764228]\n",
      "Среднее значение f1 на всём датасете 0.7522795934525899\n",
      "CPU times: total: 3min 54s\n",
      "Wall time: 24.9 s\n"
     ]
    }
   ],
   "source": [
    "%%time\n",
    "cvs = cross_val_score(cat_model, X_train, y_train, cv=folds, scoring='f1')\n",
    "print(f'Метрика f1 на кроссвалидации {cvs}')\n",
    "print(f'Среднее значение f1 на всём датасете {mean(cvs)}')"
   ]
  },
  {
   "cell_type": "markdown",
   "id": "240ea751",
   "metadata": {},
   "source": [
    "Качество модели лучше чем у 1 и 3 моделей, но хуже чем у второй."
   ]
  },
  {
   "cell_type": "markdown",
   "id": "371cb45d",
   "metadata": {},
   "source": [
    "### Проверка модели с получениум отношения для числовых признаков и сравнением на равенство категориальных признаков, а также использованием первоначальных признаков (плюс сохранение дистанции) (модель 5)"
   ]
  },
  {
   "cell_type": "markdown",
   "id": "9b4ffd05",
   "metadata": {},
   "source": [
    "Создадим функцию, которая объединит в себе идеи 1, 2 и 3 модели"
   ]
  },
  {
   "cell_type": "code",
   "execution_count": 53,
   "id": "7a2c4f25",
   "metadata": {},
   "outputs": [],
   "source": [
    "def get_row_to_df_v5(df: pd.DataFrame, \n",
    "                     id_1: str, \n",
    "                     id_2: str, \n",
    "                     dist: float, \n",
    "                     cat_features: List[str] = [], \n",
    "                     num_features: List[str] = [], \n",
    "                     is_train: bool = True) -> pd.DataFrame:\n",
    "    # сравниваем категориальные столбцы\n",
    "    cat_df = pd.DataFrame()\n",
    "    for column in cat_features:\n",
    "        cat_df[column] =pd.Series(df.loc[df['track_id'] == id_1, column].reset_index(drop=True)[0] \n",
    "                                  == df.loc[df['track_id'] == id_2, column].reset_index(drop=True)[0])  \n",
    "        \n",
    "    # находим отношение для числовых признаков\n",
    "    num_df = pd.DataFrame()\n",
    "    for column in num_features:\n",
    "        num_df[column] = pd.Series(abs(1 - df.loc[df['track_id'] == id_1, column].reset_index(drop=True)[0] \n",
    "                                  / df.loc[df['track_id'] == id_2, column].reset_index(drop=True)[0]))\n",
    "    # для получения таргета и дистанции воспользуемся функцией\n",
    "    new_df = get_row_to_df_v1(df, \n",
    "                              id_1, \n",
    "                              id_2,\n",
    "                              dist,\n",
    "                              cat_features = cat_features,\n",
    "                              num_features = num_features)    \n",
    "    new_df = pd.concat([num_df ,cat_df, new_df], axis=1)\n",
    "    return new_df"
   ]
  },
  {
   "cell_type": "code",
   "execution_count": 54,
   "id": "cd3e31ca",
   "metadata": {},
   "outputs": [
    {
     "name": "stderr",
     "output_type": "stream",
     "text": [
      "100%|██████████████████████████████████████████████████████████████████████████████| 2084/2084 [02:10<00:00, 15.93it/s]\n"
     ]
    }
   ],
   "source": [
    "df_cat_train = get_df(df_train, y_train_pred, dist_train_pred, get_row_to_df_v5, cat_features, num_features)"
   ]
  },
  {
   "cell_type": "markdown",
   "id": "6048d2dd",
   "metadata": {},
   "source": [
    "Как всегда проверим, что получилось на выходе"
   ]
  },
  {
   "cell_type": "code",
   "execution_count": 55,
   "id": "19e07216",
   "metadata": {},
   "outputs": [
    {
     "data": {
      "text/html": [
       "<div>\n",
       "<style scoped>\n",
       "    .dataframe tbody tr th:only-of-type {\n",
       "        vertical-align: middle;\n",
       "    }\n",
       "\n",
       "    .dataframe tbody tr th {\n",
       "        vertical-align: top;\n",
       "    }\n",
       "\n",
       "    .dataframe thead th {\n",
       "        text-align: right;\n",
       "    }\n",
       "</style>\n",
       "<table border=\"1\" class=\"dataframe\">\n",
       "  <thead>\n",
       "    <tr style=\"text-align: right;\">\n",
       "      <th></th>\n",
       "      <th>duration</th>\n",
       "      <th>language</th>\n",
       "      <th>title</th>\n",
       "      <th>duration_1</th>\n",
       "      <th>language_1</th>\n",
       "      <th>title_1</th>\n",
       "      <th>duration_2</th>\n",
       "      <th>language_2</th>\n",
       "      <th>title_2</th>\n",
       "      <th>dist</th>\n",
       "      <th>target</th>\n",
       "    </tr>\n",
       "  </thead>\n",
       "  <tbody>\n",
       "    <tr>\n",
       "      <th>0</th>\n",
       "      <td>0.152796</td>\n",
       "      <td>False</td>\n",
       "      <td>False</td>\n",
       "      <td>188240.0</td>\n",
       "      <td>RU</td>\n",
       "      <td>Стань</td>\n",
       "      <td>163290.0</td>\n",
       "      <td>EN</td>\n",
       "      <td>Over You</td>\n",
       "      <td>1.0</td>\n",
       "      <td>0</td>\n",
       "    </tr>\n",
       "    <tr>\n",
       "      <th>1</th>\n",
       "      <td>0.377635</td>\n",
       "      <td>False</td>\n",
       "      <td>False</td>\n",
       "      <td>188240.0</td>\n",
       "      <td>RU</td>\n",
       "      <td>Стань</td>\n",
       "      <td>136640.0</td>\n",
       "      <td>EN</td>\n",
       "      <td>Fenomen</td>\n",
       "      <td>1.0</td>\n",
       "      <td>0</td>\n",
       "    </tr>\n",
       "    <tr>\n",
       "      <th>2</th>\n",
       "      <td>0.777862</td>\n",
       "      <td>False</td>\n",
       "      <td>False</td>\n",
       "      <td>188240.0</td>\n",
       "      <td>RU</td>\n",
       "      <td>Стань</td>\n",
       "      <td>105880.0</td>\n",
       "      <td>EN</td>\n",
       "      <td>Enigma</td>\n",
       "      <td>1.0</td>\n",
       "      <td>0</td>\n",
       "    </tr>\n",
       "    <tr>\n",
       "      <th>3</th>\n",
       "      <td>0.731420</td>\n",
       "      <td>False</td>\n",
       "      <td>False</td>\n",
       "      <td>188240.0</td>\n",
       "      <td>RU</td>\n",
       "      <td>Стань</td>\n",
       "      <td>108720.0</td>\n",
       "      <td>EN</td>\n",
       "      <td>escape</td>\n",
       "      <td>1.0</td>\n",
       "      <td>0</td>\n",
       "    </tr>\n",
       "    <tr>\n",
       "      <th>4</th>\n",
       "      <td>0.186868</td>\n",
       "      <td>False</td>\n",
       "      <td>False</td>\n",
       "      <td>188240.0</td>\n",
       "      <td>RU</td>\n",
       "      <td>Стань</td>\n",
       "      <td>231500.0</td>\n",
       "      <td>EN</td>\n",
       "      <td>Baby mama</td>\n",
       "      <td>1.0</td>\n",
       "      <td>0</td>\n",
       "    </tr>\n",
       "  </tbody>\n",
       "</table>\n",
       "</div>"
      ],
      "text/plain": [
       "   duration  language  title  duration_1 language_1 title_1  duration_2  \\\n",
       "0  0.152796     False  False    188240.0         RU   Стань    163290.0   \n",
       "1  0.377635     False  False    188240.0         RU   Стань    136640.0   \n",
       "2  0.777862     False  False    188240.0         RU   Стань    105880.0   \n",
       "3  0.731420     False  False    188240.0         RU   Стань    108720.0   \n",
       "4  0.186868     False  False    188240.0         RU   Стань    231500.0   \n",
       "\n",
       "  language_2    title_2  dist  target  \n",
       "0         EN   Over You   1.0       0  \n",
       "1         EN    Fenomen   1.0       0  \n",
       "2         EN     Enigma   1.0       0  \n",
       "3         EN     escape   1.0       0  \n",
       "4         EN  Baby mama   1.0       0  "
      ]
     },
     "execution_count": 55,
     "metadata": {},
     "output_type": "execute_result"
    }
   ],
   "source": [
    "df_cat_train.head()"
   ]
  },
  {
   "cell_type": "code",
   "execution_count": 56,
   "id": "e8534d2f",
   "metadata": {},
   "outputs": [
    {
     "data": {
      "text/plain": [
       "0.049104286628278954"
      ]
     },
     "execution_count": 56,
     "metadata": {},
     "output_type": "execute_result"
    }
   ],
   "source": [
    "df_cat_train['target'].mean()"
   ]
  },
  {
   "cell_type": "markdown",
   "id": "67e3663f",
   "metadata": {},
   "source": [
    "Получим новые варианты категориальных и числовых столбцов"
   ]
  },
  {
   "cell_type": "code",
   "execution_count": 57,
   "id": "768b2ee8",
   "metadata": {},
   "outputs": [],
   "source": [
    "new_cat_features, new_num_features = get_features_list(df_cat_train, cat_features, num_features)"
   ]
  },
  {
   "cell_type": "markdown",
   "id": "a139b217",
   "metadata": {},
   "source": [
    "Обучим модель и проверим качество"
   ]
  },
  {
   "cell_type": "code",
   "execution_count": 58,
   "id": "42e280bb",
   "metadata": {},
   "outputs": [],
   "source": [
    "X_train = df_cat_train.drop('target', axis=1)\n",
    "y_train = df_cat_train['target']\n",
    "\n",
    "skf = StratifiedKFold(n_splits=4)\n",
    "folds = skf.split(X_train, y_train)\n",
    "\n",
    "classes = np.unique(y_train)\n",
    "weights = compute_class_weight(class_weight='balanced', classes=classes, y=y_train)\n",
    "class_weights = dict(zip(classes, weights))\n",
    "\n",
    "cat_model = CatBoostClassifier(random_state=RANDOM_STATE, \n",
    "                               cat_features=new_cat_features,\n",
    "                               verbose=False,\n",
    "                               class_weights=class_weights)"
   ]
  },
  {
   "cell_type": "code",
   "execution_count": 59,
   "id": "9b79f1e5",
   "metadata": {},
   "outputs": [
    {
     "name": "stdout",
     "output_type": "stream",
     "text": [
      "Метрика f1 на кроссвалидации [0.67055394 0.89041096 0.67613636 0.33093525]\n",
      "Среднее значение f1 на всём датасете 0.6420091275497731\n",
      "CPU times: total: 9min 59s\n",
      "Wall time: 1min 21s\n"
     ]
    }
   ],
   "source": [
    "%%time\n",
    "cvs = cross_val_score(cat_model, X_train, y_train, cv=folds, scoring='f1')\n",
    "print(f'Метрика f1 на кроссвалидации {cvs}')\n",
    "print(f'Среднее значение f1 на всём датасете {mean(cvs)}')"
   ]
  },
  {
   "cell_type": "markdown",
   "id": "eec2f898",
   "metadata": {},
   "source": [
    "Модель оказалась немного лучше 1 модели, но уступает остальным в качестве."
   ]
  },
  {
   "cell_type": "code",
   "execution_count": null,
   "id": "c65a87a4",
   "metadata": {},
   "outputs": [],
   "source": []
  }
 ],
 "metadata": {
  "kernelspec": {
   "display_name": "Python 3 (ipykernel)",
   "language": "python",
   "name": "python3"
  },
  "language_info": {
   "codemirror_mode": {
    "name": "ipython",
    "version": 3
   },
   "file_extension": ".py",
   "mimetype": "text/x-python",
   "name": "python",
   "nbconvert_exporter": "python",
   "pygments_lexer": "ipython3",
   "version": "3.10.11"
  }
 },
 "nbformat": 4,
 "nbformat_minor": 5
}

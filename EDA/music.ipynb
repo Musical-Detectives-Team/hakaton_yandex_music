{
 "cells": [
  {
   "cell_type": "markdown",
   "id": "cc9eab43",
   "metadata": {},
   "source": [
    "# Обнаружение каверов музыкальных треков\n",
    "\n",
    "## Задача\n",
    "\n",
    "Обнаружение треков каверов - важная продуктовая задача, которая может значительно улучшить качество рекомендаций музыкального сервиса и повысить счастье наших пользователей. Если мы умеем с высокой точностью классифицировать каверы и связывать их между собой, то можно предложить пользователю новые возможности для управления потоком треков. Например:\n",
    "\n",
    "- по желанию пользователя можем полностью исключить каверы из рекомендаций;\n",
    "- показать все каверы на любимый трек пользователя;\n",
    "- контролировать долю каверов в ленте пользователя.\n",
    "\n",
    "## Цель\n",
    "В этом хакатоне нам предлагается разработать решение, которое:\n",
    "\n",
    "- может классифицировать треки по признаку кавер-некавер;\n",
    "- связывать (группировать) каверы и исходный трек;\n",
    "- находит исходный трек в цепочке каверов.\n",
    "\n",
    "Нам требуется разработать ML-модель для сопоставления текстов музыкальных произведений и для поиска каверов (вариации обработки оригинала с элементами новой аранжировки) по их текстам. \n",
    "\n",
    "Для решения этой задачи мы можем использовать любые открытые источники данных и собирать необходимую вам информацию, соблюдая правила использования сервисов, которые эту информацию предоставляют.\n",
    "\n",
    "Данные предоставлены заказчиком в трех файлах: covers.json, meta.json, lyrics.json.\n",
    "\n",
    "### Разметка каверов\n",
    "\n",
    "Файл covers.json содержит разметку каверов, сделанную редакторами сервиса:\n",
    "\n",
    "- track_id - уникальный идентификатор трека;\n",
    "- track_remake_type - метка, присвоенная редакторами. Может принимать значения ORIGINAL и COVER;\n",
    "- original_track_id - уникальный идентификатор исходного трека.\n",
    "\n",
    "Обратите внимание, что не для всех каверов известны идентификаторы исходных треков!!!\n",
    "\n",
    "### Метаинформация\n",
    "Файл meta.json \n",
    "- track_id - уникальный идентификатор трека;\n",
    "- dttm - первая дата появления информации о треке;\n",
    "- title - название трека;\n",
    "- language - язык исполнения;\n",
    "- isrc - международный уникальный идентификатор трека;\n",
    "- genres - жанры;\n",
    "- duration - длительность трека;\n",
    "\n",
    "### Текст песен\n",
    "Файл lyrics.json\n",
    "- track_id - уникальный идентификатор трека;\n",
    "- lyricId - уникальный идентификатор текста;\n",
    "- text - текст трека.\n",
    "\n",
    "**Исследование пройдет в 7 этапов:**\n",
    "\n",
    "* загрузка и первичное ознакомление с данными,\n",
    "* предварительная обработка,\n",
    "* полноценный разведочный анализ,\n",
    "* разработка новых синтетических признаков,\n",
    "* проверка на мультиколлинеарность,\n",
    "* отбор финального набора обучающих признаков,\n",
    "* выбор и обучение моделей,\n",
    "* итоговая оценка качества предсказания лучшей модели,\n",
    "* анализ важности ее признаков.\n",
    "* общий вывод"
   ]
  },
  {
   "cell_type": "markdown",
   "id": "dc025bb7-6d08-4cd1-b12e-38f7bd48d54f",
   "metadata": {},
   "source": [
    "## Загрузка и первичное ознакомление с данными"
   ]
  },
  {
   "cell_type": "markdown",
   "id": "c3381f23-8cfa-4145-bacb-807ac2cece50",
   "metadata": {},
   "source": [
    "Импортируем необходимые для анализа данных библиотеки.\n",
    "\n",
    "Считаем данные из json-файла в датафрейм и сохраним в переменные."
   ]
  },
  {
   "cell_type": "code",
   "execution_count": 4,
   "id": "4e757b17",
   "metadata": {},
   "outputs": [],
   "source": [
    "import json\n",
    "import os\n",
    "\n",
    "import warnings\n",
    "import time\n",
    "\n",
    "import numpy as np\n",
    "import pandas as pd\n",
    "import seaborn as sns\n",
    "import matplotlib.pyplot as plt\n",
    "\n",
    "RANDOM_STATE = 54321\n",
    "\n",
    "warnings.filterwarnings(\"ignore\")"
   ]
  },
  {
   "cell_type": "markdown",
   "id": "99135d7d-8547-4295-a8a9-6e68fa93c7fa",
   "metadata": {},
   "source": [
    "### Первичный обзор данных"
   ]
  },
  {
   "cell_type": "code",
   "execution_count": 11,
   "id": "f6a155eb",
   "metadata": {},
   "outputs": [
    {
     "data": {
      "text/html": [
       "<div>\n",
       "<style scoped>\n",
       "    .dataframe tbody tr th:only-of-type {\n",
       "        vertical-align: middle;\n",
       "    }\n",
       "\n",
       "    .dataframe tbody tr th {\n",
       "        vertical-align: top;\n",
       "    }\n",
       "\n",
       "    .dataframe thead th {\n",
       "        text-align: right;\n",
       "    }\n",
       "</style>\n",
       "<table border=\"1\" class=\"dataframe\">\n",
       "  <thead>\n",
       "    <tr style=\"text-align: right;\">\n",
       "      <th></th>\n",
       "      <th>original_track_id</th>\n",
       "      <th>track_id</th>\n",
       "      <th>track_remake_type</th>\n",
       "    </tr>\n",
       "  </thead>\n",
       "  <tbody>\n",
       "    <tr>\n",
       "      <th>52098</th>\n",
       "      <td>None</td>\n",
       "      <td>bdfa3eed7effceab71091971eb3563e8</td>\n",
       "      <td>COVER</td>\n",
       "    </tr>\n",
       "  </tbody>\n",
       "</table>\n",
       "</div>"
      ],
      "text/plain": [
       "      original_track_id                          track_id track_remake_type\n",
       "52098              None  bdfa3eed7effceab71091971eb3563e8             COVER"
      ]
     },
     "execution_count": 11,
     "metadata": {},
     "output_type": "execute_result"
    }
   ],
   "source": [
    "# разметка каверов\n",
    "path_covers = 'C:\\\\Users\\\\fudou\\\\Untitled Folder 1\\\\covers.json'\n",
    "\n",
    "df_covers = pd.read_json(path_covers, lines=True)\n",
    "df_covers.sample()"
   ]
  },
  {
   "cell_type": "code",
   "execution_count": 12,
   "id": "9381be02",
   "metadata": {},
   "outputs": [
    {
     "data": {
      "text/html": [
       "<div>\n",
       "<style scoped>\n",
       "    .dataframe tbody tr th:only-of-type {\n",
       "        vertical-align: middle;\n",
       "    }\n",
       "\n",
       "    .dataframe tbody tr th {\n",
       "        vertical-align: top;\n",
       "    }\n",
       "\n",
       "    .dataframe thead th {\n",
       "        text-align: right;\n",
       "    }\n",
       "</style>\n",
       "<table border=\"1\" class=\"dataframe\">\n",
       "  <thead>\n",
       "    <tr style=\"text-align: right;\">\n",
       "      <th></th>\n",
       "      <th>track_id</th>\n",
       "      <th>dttm</th>\n",
       "      <th>title</th>\n",
       "      <th>language</th>\n",
       "      <th>isrc</th>\n",
       "      <th>genres</th>\n",
       "      <th>duration</th>\n",
       "    </tr>\n",
       "  </thead>\n",
       "  <tbody>\n",
       "    <tr>\n",
       "      <th>48478</th>\n",
       "      <td>3cb1f33f3795cdade8b4ed28261b04e5</td>\n",
       "      <td>2012-08-25 18:26:33</td>\n",
       "      <td>You Can Win If You Want</td>\n",
       "      <td>EN</td>\n",
       "      <td>ITAA11000076</td>\n",
       "      <td>[POP]</td>\n",
       "      <td>249280.0</td>\n",
       "    </tr>\n",
       "  </tbody>\n",
       "</table>\n",
       "</div>"
      ],
      "text/plain": [
       "                               track_id                dttm  \\\n",
       "48478  3cb1f33f3795cdade8b4ed28261b04e5 2012-08-25 18:26:33   \n",
       "\n",
       "                         title language          isrc genres  duration  \n",
       "48478  You Can Win If You Want       EN  ITAA11000076  [POP]  249280.0  "
      ]
     },
     "execution_count": 12,
     "metadata": {},
     "output_type": "execute_result"
    }
   ],
   "source": [
    "# метаинформация\n",
    "path_meta = 'C:\\\\Users\\\\fudou\\\\Untitled Folder 1\\\\/meta.json'\n",
    "\n",
    "df_meta = pd.read_json(path_meta, lines=True, convert_dates=['dttm'])\n",
    "df_meta.sample()"
   ]
  },
  {
   "cell_type": "code",
   "execution_count": 10,
   "id": "6d70ac13-a38f-4110-874a-5360e69985ec",
   "metadata": {},
   "outputs": [
    {
     "data": {
      "text/html": [
       "<div>\n",
       "<style scoped>\n",
       "    .dataframe tbody tr th:only-of-type {\n",
       "        vertical-align: middle;\n",
       "    }\n",
       "\n",
       "    .dataframe tbody tr th {\n",
       "        vertical-align: top;\n",
       "    }\n",
       "\n",
       "    .dataframe thead th {\n",
       "        text-align: right;\n",
       "    }\n",
       "</style>\n",
       "<table border=\"1\" class=\"dataframe\">\n",
       "  <thead>\n",
       "    <tr style=\"text-align: right;\">\n",
       "      <th></th>\n",
       "      <th>lyricId</th>\n",
       "      <th>text</th>\n",
       "      <th>track_id</th>\n",
       "    </tr>\n",
       "  </thead>\n",
       "  <tbody>\n",
       "    <tr>\n",
       "      <th>4399</th>\n",
       "      <td>6d0b984ce3a28daf36a75a00f32098e6</td>\n",
       "      <td>The sun will come out tomorrow\\nBet your botto...</td>\n",
       "      <td>84b67225ad48c2fb3c942925c52efabc</td>\n",
       "    </tr>\n",
       "  </tbody>\n",
       "</table>\n",
       "</div>"
      ],
      "text/plain": [
       "                               lyricId  \\\n",
       "4399  6d0b984ce3a28daf36a75a00f32098e6   \n",
       "\n",
       "                                                   text  \\\n",
       "4399  The sun will come out tomorrow\\nBet your botto...   \n",
       "\n",
       "                              track_id  \n",
       "4399  84b67225ad48c2fb3c942925c52efabc  "
      ]
     },
     "execution_count": 10,
     "metadata": {},
     "output_type": "execute_result"
    }
   ],
   "source": [
    "# текст трека\n",
    "path_lyrics = 'C:\\\\Users\\\\fudou\\\\Untitled Folder 1\\\\/lyrics.json'\n",
    "\n",
    "df_lyrics = pd.read_json(path_lyrics, lines=True)\n",
    "df_lyrics.sample()"
   ]
  },
  {
   "cell_type": "code",
   "execution_count": 13,
   "id": "8a086587",
   "metadata": {},
   "outputs": [],
   "source": [
    "# напишем функцию для вывода основной информации о датасетe\n",
    "def main_info(data):\n",
    "    print(f'Выведем первые 5 строк датафрейма')\n",
    "    display(data.head())\n",
    "    print()\n",
    "\n",
    "    print(f'Основная информация о датафрейме')\n",
    "    print()\n",
    "    display(data.info())\n",
    "    print()\n",
    "\n",
    "    print(f'Числовое описание данных')\n",
    "    display(data.describe().style.background_gradient())\n",
    "    print()\n",
    "\n",
    "    print(f'Количество строк-дубликатов')\n",
    "    display(data.duplicated().sum())\n",
    "    print()\n",
    "\n",
    "    print(f'Количество пропусков в процентном соотношении')\n",
    "    display(pd.DataFrame(round(data.isna().mean()*100,1)).style.background_gradient())\n",
    "    print()\n",
    "\n",
    "    print(f'Тип признаков')\n",
    "    print(data.dtypes)\n"
   ]
  },
  {
   "cell_type": "code",
   "execution_count": 14,
   "id": "fb0ade27-7ee3-49aa-a86d-3e1f6ef8a79d",
   "metadata": {},
   "outputs": [
    {
     "name": "stdout",
     "output_type": "stream",
     "text": [
      "Выведем первые 5 строк датафрейма\n"
     ]
    },
    {
     "data": {
      "text/html": [
       "<div>\n",
       "<style scoped>\n",
       "    .dataframe tbody tr th:only-of-type {\n",
       "        vertical-align: middle;\n",
       "    }\n",
       "\n",
       "    .dataframe tbody tr th {\n",
       "        vertical-align: top;\n",
       "    }\n",
       "\n",
       "    .dataframe thead th {\n",
       "        text-align: right;\n",
       "    }\n",
       "</style>\n",
       "<table border=\"1\" class=\"dataframe\">\n",
       "  <thead>\n",
       "    <tr style=\"text-align: right;\">\n",
       "      <th></th>\n",
       "      <th>original_track_id</th>\n",
       "      <th>track_id</th>\n",
       "      <th>track_remake_type</th>\n",
       "    </tr>\n",
       "  </thead>\n",
       "  <tbody>\n",
       "    <tr>\n",
       "      <th>0</th>\n",
       "      <td>eeb69a3cb92300456b6a5f4162093851</td>\n",
       "      <td>eeb69a3cb92300456b6a5f4162093851</td>\n",
       "      <td>ORIGINAL</td>\n",
       "    </tr>\n",
       "    <tr>\n",
       "      <th>1</th>\n",
       "      <td>fe7ee8fc1959cc7214fa21c4840dff0a</td>\n",
       "      <td>fe7ee8fc1959cc7214fa21c4840dff0a</td>\n",
       "      <td>ORIGINAL</td>\n",
       "    </tr>\n",
       "    <tr>\n",
       "      <th>2</th>\n",
       "      <td>cd89fef7ffdd490db800357f47722b20</td>\n",
       "      <td>cd89fef7ffdd490db800357f47722b20</td>\n",
       "      <td>ORIGINAL</td>\n",
       "    </tr>\n",
       "    <tr>\n",
       "      <th>3</th>\n",
       "      <td>995665640dc319973d3173a74a03860c</td>\n",
       "      <td>995665640dc319973d3173a74a03860c</td>\n",
       "      <td>ORIGINAL</td>\n",
       "    </tr>\n",
       "    <tr>\n",
       "      <th>4</th>\n",
       "      <td>None</td>\n",
       "      <td>d6288499d0083cc34e60a077b7c4b3e1</td>\n",
       "      <td>COVER</td>\n",
       "    </tr>\n",
       "  </tbody>\n",
       "</table>\n",
       "</div>"
      ],
      "text/plain": [
       "                  original_track_id                          track_id  \\\n",
       "0  eeb69a3cb92300456b6a5f4162093851  eeb69a3cb92300456b6a5f4162093851   \n",
       "1  fe7ee8fc1959cc7214fa21c4840dff0a  fe7ee8fc1959cc7214fa21c4840dff0a   \n",
       "2  cd89fef7ffdd490db800357f47722b20  cd89fef7ffdd490db800357f47722b20   \n",
       "3  995665640dc319973d3173a74a03860c  995665640dc319973d3173a74a03860c   \n",
       "4                              None  d6288499d0083cc34e60a077b7c4b3e1   \n",
       "\n",
       "  track_remake_type  \n",
       "0          ORIGINAL  \n",
       "1          ORIGINAL  \n",
       "2          ORIGINAL  \n",
       "3          ORIGINAL  \n",
       "4             COVER  "
      ]
     },
     "metadata": {},
     "output_type": "display_data"
    },
    {
     "name": "stdout",
     "output_type": "stream",
     "text": [
      "\n",
      "Основная информация о датафрейме\n",
      "\n",
      "<class 'pandas.core.frame.DataFrame'>\n",
      "RangeIndex: 71597 entries, 0 to 71596\n",
      "Data columns (total 3 columns):\n",
      " #   Column             Non-Null Count  Dtype \n",
      "---  ------             --------------  ----- \n",
      " 0   original_track_id  4821 non-null   object\n",
      " 1   track_id           71597 non-null  object\n",
      " 2   track_remake_type  71597 non-null  object\n",
      "dtypes: object(3)\n",
      "memory usage: 1.6+ MB\n"
     ]
    },
    {
     "data": {
      "text/plain": [
       "None"
      ]
     },
     "metadata": {},
     "output_type": "display_data"
    },
    {
     "name": "stdout",
     "output_type": "stream",
     "text": [
      "\n",
      "Числовое описание данных\n"
     ]
    },
    {
     "data": {
      "text/html": [
       "<style  type=\"text/css\" >\n",
       "</style><table id=\"T_bf301_\" ><thead>    <tr>        <th class=\"blank level0\" ></th>        <th class=\"col_heading level0 col0\" >original_track_id</th>        <th class=\"col_heading level0 col1\" >track_id</th>        <th class=\"col_heading level0 col2\" >track_remake_type</th>    </tr></thead><tbody>\n",
       "                <tr>\n",
       "                        <th id=\"T_bf301_level0_row0\" class=\"row_heading level0 row0\" >count</th>\n",
       "                        <td id=\"T_bf301_row0_col0\" class=\"data row0 col0\" >4821</td>\n",
       "                        <td id=\"T_bf301_row0_col1\" class=\"data row0 col1\" >71597</td>\n",
       "                        <td id=\"T_bf301_row0_col2\" class=\"data row0 col2\" >71597</td>\n",
       "            </tr>\n",
       "            <tr>\n",
       "                        <th id=\"T_bf301_level0_row1\" class=\"row_heading level0 row1\" >unique</th>\n",
       "                        <td id=\"T_bf301_row1_col0\" class=\"data row1 col0\" >4468</td>\n",
       "                        <td id=\"T_bf301_row1_col1\" class=\"data row1 col1\" >71597</td>\n",
       "                        <td id=\"T_bf301_row1_col2\" class=\"data row1 col2\" >2</td>\n",
       "            </tr>\n",
       "            <tr>\n",
       "                        <th id=\"T_bf301_level0_row2\" class=\"row_heading level0 row2\" >top</th>\n",
       "                        <td id=\"T_bf301_row2_col0\" class=\"data row2 col0\" >f3e5e9db509f9b6f6d93b9c38e4e1324</td>\n",
       "                        <td id=\"T_bf301_row2_col1\" class=\"data row2 col1\" >f901cd717028d7a2253684303929ba32</td>\n",
       "                        <td id=\"T_bf301_row2_col2\" class=\"data row2 col2\" >COVER</td>\n",
       "            </tr>\n",
       "            <tr>\n",
       "                        <th id=\"T_bf301_level0_row3\" class=\"row_heading level0 row3\" >freq</th>\n",
       "                        <td id=\"T_bf301_row3_col0\" class=\"data row3 col0\" >38</td>\n",
       "                        <td id=\"T_bf301_row3_col1\" class=\"data row3 col1\" >1</td>\n",
       "                        <td id=\"T_bf301_row3_col2\" class=\"data row3 col2\" >67304</td>\n",
       "            </tr>\n",
       "    </tbody></table>"
      ],
      "text/plain": [
       "<pandas.io.formats.style.Styler at 0x1d422c9fd90>"
      ]
     },
     "metadata": {},
     "output_type": "display_data"
    },
    {
     "name": "stdout",
     "output_type": "stream",
     "text": [
      "\n",
      "Количество строк-дубликатов\n"
     ]
    },
    {
     "data": {
      "text/plain": [
       "0"
      ]
     },
     "metadata": {},
     "output_type": "display_data"
    },
    {
     "name": "stdout",
     "output_type": "stream",
     "text": [
      "\n",
      "Количество пропусков в процентном соотношении\n"
     ]
    },
    {
     "data": {
      "text/html": [
       "<style  type=\"text/css\" >\n",
       "#T_dae2c_row0_col0{\n",
       "            background-color:  #023858;\n",
       "            color:  #f1f1f1;\n",
       "        }#T_dae2c_row1_col0,#T_dae2c_row2_col0{\n",
       "            background-color:  #fff7fb;\n",
       "            color:  #000000;\n",
       "        }</style><table id=\"T_dae2c_\" ><thead>    <tr>        <th class=\"blank level0\" ></th>        <th class=\"col_heading level0 col0\" >0</th>    </tr></thead><tbody>\n",
       "                <tr>\n",
       "                        <th id=\"T_dae2c_level0_row0\" class=\"row_heading level0 row0\" >original_track_id</th>\n",
       "                        <td id=\"T_dae2c_row0_col0\" class=\"data row0 col0\" >93.300000</td>\n",
       "            </tr>\n",
       "            <tr>\n",
       "                        <th id=\"T_dae2c_level0_row1\" class=\"row_heading level0 row1\" >track_id</th>\n",
       "                        <td id=\"T_dae2c_row1_col0\" class=\"data row1 col0\" >0.000000</td>\n",
       "            </tr>\n",
       "            <tr>\n",
       "                        <th id=\"T_dae2c_level0_row2\" class=\"row_heading level0 row2\" >track_remake_type</th>\n",
       "                        <td id=\"T_dae2c_row2_col0\" class=\"data row2 col0\" >0.000000</td>\n",
       "            </tr>\n",
       "    </tbody></table>"
      ],
      "text/plain": [
       "<pandas.io.formats.style.Styler at 0x1d422c9fd90>"
      ]
     },
     "metadata": {},
     "output_type": "display_data"
    },
    {
     "name": "stdout",
     "output_type": "stream",
     "text": [
      "\n",
      "Тип признаков\n",
      "original_track_id    object\n",
      "track_id             object\n",
      "track_remake_type    object\n",
      "dtype: object\n"
     ]
    }
   ],
   "source": [
    "# посмотрим датасет c каверами\n",
    "main_info(df_covers)"
   ]
  },
  {
   "cell_type": "code",
   "execution_count": 18,
   "id": "6b8f5577-3d20-4f2f-b165-c82081f60b03",
   "metadata": {},
   "outputs": [
    {
     "name": "stdout",
     "output_type": "stream",
     "text": [
      "Выведем первые 5 строк датафрейма\n"
     ]
    },
    {
     "data": {
      "text/html": [
       "<div>\n",
       "<style scoped>\n",
       "    .dataframe tbody tr th:only-of-type {\n",
       "        vertical-align: middle;\n",
       "    }\n",
       "\n",
       "    .dataframe tbody tr th {\n",
       "        vertical-align: top;\n",
       "    }\n",
       "\n",
       "    .dataframe thead th {\n",
       "        text-align: right;\n",
       "    }\n",
       "</style>\n",
       "<table border=\"1\" class=\"dataframe\">\n",
       "  <thead>\n",
       "    <tr style=\"text-align: right;\">\n",
       "      <th></th>\n",
       "      <th>track_id</th>\n",
       "      <th>dttm</th>\n",
       "      <th>title</th>\n",
       "      <th>language</th>\n",
       "      <th>isrc</th>\n",
       "      <th>genres</th>\n",
       "      <th>duration</th>\n",
       "    </tr>\n",
       "  </thead>\n",
       "  <tbody>\n",
       "    <tr>\n",
       "      <th>0</th>\n",
       "      <td>c3b9d6a354ca008aa4518329aaa21380</td>\n",
       "      <td>2021-12-16 21:00:00</td>\n",
       "      <td>Happy New Year</td>\n",
       "      <td>EN</td>\n",
       "      <td>RUB422103970</td>\n",
       "      <td>[DANCE]</td>\n",
       "      <td>161120.0</td>\n",
       "    </tr>\n",
       "    <tr>\n",
       "      <th>1</th>\n",
       "      <td>c57e3d13bbbf5322584a7e92e6f1f7ff</td>\n",
       "      <td>2021-11-24 14:00:33</td>\n",
       "      <td>Bad Habits</td>\n",
       "      <td>EN</td>\n",
       "      <td>QZN882178276</td>\n",
       "      <td>[ELECTRONICS]</td>\n",
       "      <td>362260.0</td>\n",
       "    </tr>\n",
       "    <tr>\n",
       "      <th>2</th>\n",
       "      <td>955f2aafe8717908c140bf122ba4172d</td>\n",
       "      <td>2021-11-24 15:37:03</td>\n",
       "      <td>Por Esa Loca Vanidad</td>\n",
       "      <td>None</td>\n",
       "      <td>QZNJZ2122549</td>\n",
       "      <td>[FOLK, LATINFOLK]</td>\n",
       "      <td>260000.0</td>\n",
       "    </tr>\n",
       "    <tr>\n",
       "      <th>3</th>\n",
       "      <td>fae5a077c9956045955dde02143bd8ff</td>\n",
       "      <td>2021-11-24 15:37:03</td>\n",
       "      <td>Mil Lagrimas</td>\n",
       "      <td>None</td>\n",
       "      <td>QZNJZ2166033</td>\n",
       "      <td>[FOLK, LATINFOLK]</td>\n",
       "      <td>190000.0</td>\n",
       "    </tr>\n",
       "    <tr>\n",
       "      <th>4</th>\n",
       "      <td>6bede082154d34fc18d9a6744bc95bf5</td>\n",
       "      <td>2021-11-24 15:37:03</td>\n",
       "      <td>Sexo Humo y Alcohol</td>\n",
       "      <td>None</td>\n",
       "      <td>QZNJZ2122551</td>\n",
       "      <td>[FOLK, LATINFOLK]</td>\n",
       "      <td>203000.0</td>\n",
       "    </tr>\n",
       "  </tbody>\n",
       "</table>\n",
       "</div>"
      ],
      "text/plain": [
       "                           track_id                dttm                 title  \\\n",
       "0  c3b9d6a354ca008aa4518329aaa21380 2021-12-16 21:00:00        Happy New Year   \n",
       "1  c57e3d13bbbf5322584a7e92e6f1f7ff 2021-11-24 14:00:33            Bad Habits   \n",
       "2  955f2aafe8717908c140bf122ba4172d 2021-11-24 15:37:03  Por Esa Loca Vanidad   \n",
       "3  fae5a077c9956045955dde02143bd8ff 2021-11-24 15:37:03          Mil Lagrimas   \n",
       "4  6bede082154d34fc18d9a6744bc95bf5 2021-11-24 15:37:03   Sexo Humo y Alcohol   \n",
       "\n",
       "  language          isrc             genres  duration  \n",
       "0       EN  RUB422103970            [DANCE]  161120.0  \n",
       "1       EN  QZN882178276      [ELECTRONICS]  362260.0  \n",
       "2     None  QZNJZ2122549  [FOLK, LATINFOLK]  260000.0  \n",
       "3     None  QZNJZ2166033  [FOLK, LATINFOLK]  190000.0  \n",
       "4     None  QZNJZ2122551  [FOLK, LATINFOLK]  203000.0  "
      ]
     },
     "metadata": {},
     "output_type": "display_data"
    },
    {
     "name": "stdout",
     "output_type": "stream",
     "text": [
      "\n",
      "Основная информация о датафрейме\n",
      "\n",
      "<class 'pandas.core.frame.DataFrame'>\n",
      "RangeIndex: 71769 entries, 0 to 71768\n",
      "Data columns (total 7 columns):\n",
      " #   Column    Non-Null Count  Dtype         \n",
      "---  ------    --------------  -----         \n",
      " 0   track_id  71768 non-null  object        \n",
      " 1   dttm      71768 non-null  datetime64[ns]\n",
      " 2   title     71768 non-null  object        \n",
      " 3   language  21969 non-null  object        \n",
      " 4   isrc      71455 non-null  object        \n",
      " 5   genres    71768 non-null  object        \n",
      " 6   duration  71768 non-null  float64       \n",
      "dtypes: datetime64[ns](1), float64(1), object(5)\n",
      "memory usage: 3.8+ MB\n"
     ]
    },
    {
     "data": {
      "text/plain": [
       "None"
      ]
     },
     "metadata": {},
     "output_type": "display_data"
    },
    {
     "name": "stdout",
     "output_type": "stream",
     "text": [
      "\n",
      "Числовое описание данных\n"
     ]
    },
    {
     "data": {
      "text/html": [
       "<style  type=\"text/css\" >\n",
       "#T_e871f_row0_col0,#T_e871f_row2_col0{\n",
       "            background-color:  #fdf5fa;\n",
       "            color:  #000000;\n",
       "        }#T_e871f_row1_col0,#T_e871f_row5_col0{\n",
       "            background-color:  #faf2f8;\n",
       "            color:  #000000;\n",
       "        }#T_e871f_row3_col0{\n",
       "            background-color:  #fff7fb;\n",
       "            color:  #000000;\n",
       "        }#T_e871f_row4_col0{\n",
       "            background-color:  #fbf3f9;\n",
       "            color:  #000000;\n",
       "        }#T_e871f_row6_col0{\n",
       "            background-color:  #f8f1f8;\n",
       "            color:  #000000;\n",
       "        }#T_e871f_row7_col0{\n",
       "            background-color:  #023858;\n",
       "            color:  #f1f1f1;\n",
       "        }</style><table id=\"T_e871f_\" ><thead>    <tr>        <th class=\"blank level0\" ></th>        <th class=\"col_heading level0 col0\" >duration</th>    </tr></thead><tbody>\n",
       "                <tr>\n",
       "                        <th id=\"T_e871f_level0_row0\" class=\"row_heading level0 row0\" >count</th>\n",
       "                        <td id=\"T_e871f_row0_col0\" class=\"data row0 col0\" >71768.000000</td>\n",
       "            </tr>\n",
       "            <tr>\n",
       "                        <th id=\"T_e871f_level0_row1\" class=\"row_heading level0 row1\" >mean</th>\n",
       "                        <td id=\"T_e871f_row1_col0\" class=\"data row1 col0\" >204918.699964</td>\n",
       "            </tr>\n",
       "            <tr>\n",
       "                        <th id=\"T_e871f_level0_row2\" class=\"row_heading level0 row2\" >std</th>\n",
       "                        <td id=\"T_e871f_row2_col0\" class=\"data row2 col0\" >85598.543883</td>\n",
       "            </tr>\n",
       "            <tr>\n",
       "                        <th id=\"T_e871f_level0_row3\" class=\"row_heading level0 row3\" >min</th>\n",
       "                        <td id=\"T_e871f_row3_col0\" class=\"data row3 col0\" >0.000000</td>\n",
       "            </tr>\n",
       "            <tr>\n",
       "                        <th id=\"T_e871f_level0_row4\" class=\"row_heading level0 row4\" >25%</th>\n",
       "                        <td id=\"T_e871f_row4_col0\" class=\"data row4 col0\" >161370.000000</td>\n",
       "            </tr>\n",
       "            <tr>\n",
       "                        <th id=\"T_e871f_level0_row5\" class=\"row_heading level0 row5\" >50%</th>\n",
       "                        <td id=\"T_e871f_row5_col0\" class=\"data row5 col0\" >199395.000000</td>\n",
       "            </tr>\n",
       "            <tr>\n",
       "                        <th id=\"T_e871f_level0_row6\" class=\"row_heading level0 row6\" >75%</th>\n",
       "                        <td id=\"T_e871f_row6_col0\" class=\"data row6 col0\" >239070.000000</td>\n",
       "            </tr>\n",
       "            <tr>\n",
       "                        <th id=\"T_e871f_level0_row7\" class=\"row_heading level0 row7\" >max</th>\n",
       "                        <td id=\"T_e871f_row7_col0\" class=\"data row7 col0\" >5487300.000000</td>\n",
       "            </tr>\n",
       "    </tbody></table>"
      ],
      "text/plain": [
       "<pandas.io.formats.style.Styler at 0x1d42fda7820>"
      ]
     },
     "metadata": {},
     "output_type": "display_data"
    },
    {
     "name": "stdout",
     "output_type": "stream",
     "text": [
      "\n",
      "Количество строк-дубликатов\n"
     ]
    },
    {
     "ename": "TypeError",
     "evalue": "unhashable type: 'list'",
     "output_type": "error",
     "traceback": [
      "\u001b[1;31m---------------------------------------------------------------------------\u001b[0m",
      "\u001b[1;31mTypeError\u001b[0m                                 Traceback (most recent call last)",
      "Cell \u001b[1;32mIn[18], line 2\u001b[0m\n\u001b[0;32m      1\u001b[0m \u001b[38;5;66;03m# посмотрим датасет c метаинформацией\u001b[39;00m\n\u001b[1;32m----> 2\u001b[0m \u001b[43mmain_info\u001b[49m\u001b[43m(\u001b[49m\u001b[43mdf_meta\u001b[49m\u001b[43m)\u001b[49m\n",
      "Cell \u001b[1;32mIn[13], line 17\u001b[0m, in \u001b[0;36mmain_info\u001b[1;34m(data)\u001b[0m\n\u001b[0;32m     14\u001b[0m \u001b[38;5;28mprint\u001b[39m()\n\u001b[0;32m     16\u001b[0m \u001b[38;5;28mprint\u001b[39m(\u001b[38;5;124mf\u001b[39m\u001b[38;5;124m'\u001b[39m\u001b[38;5;124mКоличество строк-дубликатов\u001b[39m\u001b[38;5;124m'\u001b[39m)\n\u001b[1;32m---> 17\u001b[0m display(\u001b[43mdata\u001b[49m\u001b[38;5;241;43m.\u001b[39;49m\u001b[43mduplicated\u001b[49m\u001b[43m(\u001b[49m\u001b[43m)\u001b[49m\u001b[38;5;241m.\u001b[39msum())\n\u001b[0;32m     18\u001b[0m \u001b[38;5;28mprint\u001b[39m()\n\u001b[0;32m     20\u001b[0m \u001b[38;5;28mprint\u001b[39m(\u001b[38;5;124mf\u001b[39m\u001b[38;5;124m'\u001b[39m\u001b[38;5;124mКоличество пропусков в процентном соотношении\u001b[39m\u001b[38;5;124m'\u001b[39m)\n",
      "File \u001b[1;32m~\\anaconda3\\envs\\ds_practicum_env\\lib\\site-packages\\pandas\\core\\frame.py:5408\u001b[0m, in \u001b[0;36mDataFrame.duplicated\u001b[1;34m(self, subset, keep)\u001b[0m\n\u001b[0;32m   5405\u001b[0m     \u001b[38;5;28;01mraise\u001b[39;00m \u001b[38;5;167;01mKeyError\u001b[39;00m(diff)\n\u001b[0;32m   5407\u001b[0m vals \u001b[38;5;241m=\u001b[39m (col\u001b[38;5;241m.\u001b[39mvalues \u001b[38;5;28;01mfor\u001b[39;00m name, col \u001b[38;5;129;01min\u001b[39;00m \u001b[38;5;28mself\u001b[39m\u001b[38;5;241m.\u001b[39mitems() \u001b[38;5;28;01mif\u001b[39;00m name \u001b[38;5;129;01min\u001b[39;00m subset)\n\u001b[1;32m-> 5408\u001b[0m labels, shape \u001b[38;5;241m=\u001b[39m \u001b[38;5;28mmap\u001b[39m(\u001b[38;5;28mlist\u001b[39m, \u001b[38;5;28;43mzip\u001b[39;49m\u001b[43m(\u001b[49m\u001b[38;5;241;43m*\u001b[39;49m\u001b[38;5;28;43mmap\u001b[39;49m\u001b[43m(\u001b[49m\u001b[43mf\u001b[49m\u001b[43m,\u001b[49m\u001b[43m \u001b[49m\u001b[43mvals\u001b[49m\u001b[43m)\u001b[49m\u001b[43m)\u001b[49m)\n\u001b[0;32m   5410\u001b[0m ids \u001b[38;5;241m=\u001b[39m get_group_index(labels, shape, sort\u001b[38;5;241m=\u001b[39m\u001b[38;5;28;01mFalse\u001b[39;00m, xnull\u001b[38;5;241m=\u001b[39m\u001b[38;5;28;01mFalse\u001b[39;00m)\n\u001b[0;32m   5411\u001b[0m result \u001b[38;5;241m=\u001b[39m \u001b[38;5;28mself\u001b[39m\u001b[38;5;241m.\u001b[39m_constructor_sliced(duplicated_int64(ids, keep), index\u001b[38;5;241m=\u001b[39m\u001b[38;5;28mself\u001b[39m\u001b[38;5;241m.\u001b[39mindex)\n",
      "File \u001b[1;32m~\\anaconda3\\envs\\ds_practicum_env\\lib\\site-packages\\pandas\\core\\frame.py:5382\u001b[0m, in \u001b[0;36mDataFrame.duplicated.<locals>.f\u001b[1;34m(vals)\u001b[0m\n\u001b[0;32m   5381\u001b[0m \u001b[38;5;28;01mdef\u001b[39;00m \u001b[38;5;21mf\u001b[39m(vals):\n\u001b[1;32m-> 5382\u001b[0m     labels, shape \u001b[38;5;241m=\u001b[39m \u001b[43malgorithms\u001b[49m\u001b[38;5;241;43m.\u001b[39;49m\u001b[43mfactorize\u001b[49m\u001b[43m(\u001b[49m\n\u001b[0;32m   5383\u001b[0m \u001b[43m        \u001b[49m\u001b[43mvals\u001b[49m\u001b[43m,\u001b[49m\u001b[43m \u001b[49m\u001b[43msize_hint\u001b[49m\u001b[38;5;241;43m=\u001b[39;49m\u001b[38;5;28;43mmin\u001b[39;49m\u001b[43m(\u001b[49m\u001b[38;5;28;43mlen\u001b[39;49m\u001b[43m(\u001b[49m\u001b[38;5;28;43mself\u001b[39;49m\u001b[43m)\u001b[49m\u001b[43m,\u001b[49m\u001b[43m \u001b[49m\u001b[43mSIZE_HINT_LIMIT\u001b[49m\u001b[43m)\u001b[49m\n\u001b[0;32m   5384\u001b[0m \u001b[43m    \u001b[49m\u001b[43m)\u001b[49m\n\u001b[0;32m   5385\u001b[0m     \u001b[38;5;28;01mreturn\u001b[39;00m labels\u001b[38;5;241m.\u001b[39mastype(\u001b[38;5;124m\"\u001b[39m\u001b[38;5;124mi8\u001b[39m\u001b[38;5;124m\"\u001b[39m, copy\u001b[38;5;241m=\u001b[39m\u001b[38;5;28;01mFalse\u001b[39;00m), \u001b[38;5;28mlen\u001b[39m(shape)\n",
      "File \u001b[1;32m~\\anaconda3\\envs\\ds_practicum_env\\lib\\site-packages\\pandas\\core\\algorithms.py:722\u001b[0m, in \u001b[0;36mfactorize\u001b[1;34m(values, sort, na_sentinel, size_hint)\u001b[0m\n\u001b[0;32m    719\u001b[0m     \u001b[38;5;28;01melse\u001b[39;00m:\n\u001b[0;32m    720\u001b[0m         na_value \u001b[38;5;241m=\u001b[39m \u001b[38;5;28;01mNone\u001b[39;00m\n\u001b[1;32m--> 722\u001b[0m     codes, uniques \u001b[38;5;241m=\u001b[39m \u001b[43mfactorize_array\u001b[49m\u001b[43m(\u001b[49m\n\u001b[0;32m    723\u001b[0m \u001b[43m        \u001b[49m\u001b[43mvalues\u001b[49m\u001b[43m,\u001b[49m\u001b[43m \u001b[49m\u001b[43mna_sentinel\u001b[49m\u001b[38;5;241;43m=\u001b[39;49m\u001b[43mna_sentinel\u001b[49m\u001b[43m,\u001b[49m\u001b[43m \u001b[49m\u001b[43msize_hint\u001b[49m\u001b[38;5;241;43m=\u001b[39;49m\u001b[43msize_hint\u001b[49m\u001b[43m,\u001b[49m\u001b[43m \u001b[49m\u001b[43mna_value\u001b[49m\u001b[38;5;241;43m=\u001b[39;49m\u001b[43mna_value\u001b[49m\n\u001b[0;32m    724\u001b[0m \u001b[43m    \u001b[49m\u001b[43m)\u001b[49m\n\u001b[0;32m    726\u001b[0m \u001b[38;5;28;01mif\u001b[39;00m sort \u001b[38;5;129;01mand\u001b[39;00m \u001b[38;5;28mlen\u001b[39m(uniques) \u001b[38;5;241m>\u001b[39m \u001b[38;5;241m0\u001b[39m:\n\u001b[0;32m    727\u001b[0m     uniques, codes \u001b[38;5;241m=\u001b[39m safe_sort(\n\u001b[0;32m    728\u001b[0m         uniques, codes, na_sentinel\u001b[38;5;241m=\u001b[39mna_sentinel, assume_unique\u001b[38;5;241m=\u001b[39m\u001b[38;5;28;01mTrue\u001b[39;00m, verify\u001b[38;5;241m=\u001b[39m\u001b[38;5;28;01mFalse\u001b[39;00m\n\u001b[0;32m    729\u001b[0m     )\n",
      "File \u001b[1;32m~\\anaconda3\\envs\\ds_practicum_env\\lib\\site-packages\\pandas\\core\\algorithms.py:528\u001b[0m, in \u001b[0;36mfactorize_array\u001b[1;34m(values, na_sentinel, size_hint, na_value, mask)\u001b[0m\n\u001b[0;32m    525\u001b[0m hash_klass, values \u001b[38;5;241m=\u001b[39m get_data_algo(values)\n\u001b[0;32m    527\u001b[0m table \u001b[38;5;241m=\u001b[39m hash_klass(size_hint \u001b[38;5;129;01mor\u001b[39;00m \u001b[38;5;28mlen\u001b[39m(values))\n\u001b[1;32m--> 528\u001b[0m uniques, codes \u001b[38;5;241m=\u001b[39m \u001b[43mtable\u001b[49m\u001b[38;5;241;43m.\u001b[39;49m\u001b[43mfactorize\u001b[49m\u001b[43m(\u001b[49m\n\u001b[0;32m    529\u001b[0m \u001b[43m    \u001b[49m\u001b[43mvalues\u001b[49m\u001b[43m,\u001b[49m\u001b[43m \u001b[49m\u001b[43mna_sentinel\u001b[49m\u001b[38;5;241;43m=\u001b[39;49m\u001b[43mna_sentinel\u001b[49m\u001b[43m,\u001b[49m\u001b[43m \u001b[49m\u001b[43mna_value\u001b[49m\u001b[38;5;241;43m=\u001b[39;49m\u001b[43mna_value\u001b[49m\u001b[43m,\u001b[49m\u001b[43m \u001b[49m\u001b[43mmask\u001b[49m\u001b[38;5;241;43m=\u001b[39;49m\u001b[43mmask\u001b[49m\n\u001b[0;32m    530\u001b[0m \u001b[43m\u001b[49m\u001b[43m)\u001b[49m\n\u001b[0;32m    532\u001b[0m codes \u001b[38;5;241m=\u001b[39m ensure_platform_int(codes)\n\u001b[0;32m    533\u001b[0m \u001b[38;5;28;01mreturn\u001b[39;00m codes, uniques\n",
      "File \u001b[1;32mpandas\\_libs\\hashtable_class_helper.pxi:4752\u001b[0m, in \u001b[0;36mpandas._libs.hashtable.PyObjectHashTable.factorize\u001b[1;34m()\u001b[0m\n",
      "File \u001b[1;32mpandas\\_libs\\hashtable_class_helper.pxi:4666\u001b[0m, in \u001b[0;36mpandas._libs.hashtable.PyObjectHashTable._unique\u001b[1;34m()\u001b[0m\n",
      "\u001b[1;31mTypeError\u001b[0m: unhashable type: 'list'"
     ]
    }
   ],
   "source": [
    "# посмотрим датасет c метаинформацией\n",
    "main_info(df_meta)"
   ]
  },
  {
   "cell_type": "code",
   "execution_count": 17,
   "id": "b9a5e67e-52fb-4eee-8b1f-00ac691f96cb",
   "metadata": {},
   "outputs": [
    {
     "name": "stdout",
     "output_type": "stream",
     "text": [
      "Выведем первые 5 строк датафрейма\n"
     ]
    },
    {
     "data": {
      "text/html": [
       "<div>\n",
       "<style scoped>\n",
       "    .dataframe tbody tr th:only-of-type {\n",
       "        vertical-align: middle;\n",
       "    }\n",
       "\n",
       "    .dataframe tbody tr th {\n",
       "        vertical-align: top;\n",
       "    }\n",
       "\n",
       "    .dataframe thead th {\n",
       "        text-align: right;\n",
       "    }\n",
       "</style>\n",
       "<table border=\"1\" class=\"dataframe\">\n",
       "  <thead>\n",
       "    <tr style=\"text-align: right;\">\n",
       "      <th></th>\n",
       "      <th>lyricId</th>\n",
       "      <th>text</th>\n",
       "      <th>track_id</th>\n",
       "    </tr>\n",
       "  </thead>\n",
       "  <tbody>\n",
       "    <tr>\n",
       "      <th>0</th>\n",
       "      <td>a951f9504e89759e9d23039b7b17ec14</td>\n",
       "      <td>Живу сейчас обломами, обломками не той любви\\n...</td>\n",
       "      <td>1c4b1230f937e4c548ff732523214dcd</td>\n",
       "    </tr>\n",
       "    <tr>\n",
       "      <th>1</th>\n",
       "      <td>0c749bc3f01eb8e6cf986fa14ccfc585</td>\n",
       "      <td>Tell me your fable\\nA fable\\nTell me your fabl...</td>\n",
       "      <td>0faea89b0d7d6235b5b74def72511bd8</td>\n",
       "    </tr>\n",
       "    <tr>\n",
       "      <th>2</th>\n",
       "      <td>e2c8830fbc86e5964478243099eec23a</td>\n",
       "      <td>You're ashamed about all your fears and doubts...</td>\n",
       "      <td>9c6dc41d5ccd9968d07f055da5d8f741</td>\n",
       "    </tr>\n",
       "    <tr>\n",
       "      <th>3</th>\n",
       "      <td>e2c8830fbc86e5964478243099eec23a</td>\n",
       "      <td>You're ashamed about all your fears and doubts...</td>\n",
       "      <td>bfd04a73e9cffdf0e282c92219a86ea1</td>\n",
       "    </tr>\n",
       "    <tr>\n",
       "      <th>4</th>\n",
       "      <td>7624653ca8522ba93470843c74961b7d</td>\n",
       "      <td>You showed him all the best of you,\\nBut I'm a...</td>\n",
       "      <td>8d70930d09cd239c948408d1317d8659</td>\n",
       "    </tr>\n",
       "  </tbody>\n",
       "</table>\n",
       "</div>"
      ],
      "text/plain": [
       "                            lyricId  \\\n",
       "0  a951f9504e89759e9d23039b7b17ec14   \n",
       "1  0c749bc3f01eb8e6cf986fa14ccfc585   \n",
       "2  e2c8830fbc86e5964478243099eec23a   \n",
       "3  e2c8830fbc86e5964478243099eec23a   \n",
       "4  7624653ca8522ba93470843c74961b7d   \n",
       "\n",
       "                                                text  \\\n",
       "0  Живу сейчас обломами, обломками не той любви\\n...   \n",
       "1  Tell me your fable\\nA fable\\nTell me your fabl...   \n",
       "2  You're ashamed about all your fears and doubts...   \n",
       "3  You're ashamed about all your fears and doubts...   \n",
       "4  You showed him all the best of you,\\nBut I'm a...   \n",
       "\n",
       "                           track_id  \n",
       "0  1c4b1230f937e4c548ff732523214dcd  \n",
       "1  0faea89b0d7d6235b5b74def72511bd8  \n",
       "2  9c6dc41d5ccd9968d07f055da5d8f741  \n",
       "3  bfd04a73e9cffdf0e282c92219a86ea1  \n",
       "4  8d70930d09cd239c948408d1317d8659  "
      ]
     },
     "metadata": {},
     "output_type": "display_data"
    },
    {
     "name": "stdout",
     "output_type": "stream",
     "text": [
      "\n",
      "Основная информация о датафрейме\n",
      "\n",
      "<class 'pandas.core.frame.DataFrame'>\n",
      "RangeIndex: 11414 entries, 0 to 11413\n",
      "Data columns (total 3 columns):\n",
      " #   Column    Non-Null Count  Dtype \n",
      "---  ------    --------------  ----- \n",
      " 0   lyricId   11414 non-null  object\n",
      " 1   text      11414 non-null  object\n",
      " 2   track_id  11414 non-null  object\n",
      "dtypes: object(3)\n",
      "memory usage: 267.6+ KB\n"
     ]
    },
    {
     "data": {
      "text/plain": [
       "None"
      ]
     },
     "metadata": {},
     "output_type": "display_data"
    },
    {
     "name": "stdout",
     "output_type": "stream",
     "text": [
      "\n",
      "Числовое описание данных\n"
     ]
    },
    {
     "data": {
      "text/html": [
       "<style  type=\"text/css\" >\n",
       "</style><table id=\"T_3c726_\" ><thead>    <tr>        <th class=\"blank level0\" ></th>        <th class=\"col_heading level0 col0\" >lyricId</th>        <th class=\"col_heading level0 col1\" >text</th>        <th class=\"col_heading level0 col2\" >track_id</th>    </tr></thead><tbody>\n",
       "                <tr>\n",
       "                        <th id=\"T_3c726_level0_row0\" class=\"row_heading level0 row0\" >count</th>\n",
       "                        <td id=\"T_3c726_row0_col0\" class=\"data row0 col0\" >11414</td>\n",
       "                        <td id=\"T_3c726_row0_col1\" class=\"data row0 col1\" >11414</td>\n",
       "                        <td id=\"T_3c726_row0_col2\" class=\"data row0 col2\" >11414</td>\n",
       "            </tr>\n",
       "            <tr>\n",
       "                        <th id=\"T_3c726_level0_row1\" class=\"row_heading level0 row1\" >unique</th>\n",
       "                        <td id=\"T_3c726_row1_col0\" class=\"data row1 col0\" >10915</td>\n",
       "                        <td id=\"T_3c726_row1_col1\" class=\"data row1 col1\" >10644</td>\n",
       "                        <td id=\"T_3c726_row1_col2\" class=\"data row1 col2\" >10277</td>\n",
       "            </tr>\n",
       "            <tr>\n",
       "                        <th id=\"T_3c726_level0_row2\" class=\"row_heading level0 row2\" >top</th>\n",
       "                        <td id=\"T_3c726_row2_col0\" class=\"data row2 col0\" >6fe05ce48761f833737487cd7a499cd3</td>\n",
       "                        <td id=\"T_3c726_row2_col1\" class=\"data row2 col1\" >Twenty-five years and my life is still\n",
       "I'm trying to get up that great big hill of hope\n",
       "For a destination\n",
       "And so I wake in the morning\n",
       "And I step outside\n",
       "And I take a deep breath and I get real high\n",
       "And I scream at the top of my lungs\n",
       "What's going on?\n",
       "And I say, hey hey hey hey, hey hey hey hey\n",
       "I said hey, what's going on?\n",
       "And I say, hey hey, hey hey\n",
       "What's going on?\n",
       "What's going on?\n",
       "And I say, hey hey, hey hey, hey hey, hey hey, hey hey, hey hey\n",
       "What's going on?</td>\n",
       "                        <td id=\"T_3c726_row2_col2\" class=\"data row2 col2\" >b891000882f4a612190142861b5c038b</td>\n",
       "            </tr>\n",
       "            <tr>\n",
       "                        <th id=\"T_3c726_level0_row3\" class=\"row_heading level0 row3\" >freq</th>\n",
       "                        <td id=\"T_3c726_row3_col0\" class=\"data row3 col0\" >9</td>\n",
       "                        <td id=\"T_3c726_row3_col1\" class=\"data row3 col1\" >15</td>\n",
       "                        <td id=\"T_3c726_row3_col2\" class=\"data row3 col2\" >24</td>\n",
       "            </tr>\n",
       "    </tbody></table>"
      ],
      "text/plain": [
       "<pandas.io.formats.style.Styler at 0x1d422d56160>"
      ]
     },
     "metadata": {},
     "output_type": "display_data"
    },
    {
     "name": "stdout",
     "output_type": "stream",
     "text": [
      "\n",
      "Количество строк-дубликатов\n"
     ]
    },
    {
     "data": {
      "text/plain": [
       "0"
      ]
     },
     "metadata": {},
     "output_type": "display_data"
    },
    {
     "name": "stdout",
     "output_type": "stream",
     "text": [
      "\n",
      "Количество пропусков в процентном соотношении\n"
     ]
    },
    {
     "data": {
      "text/html": [
       "<style  type=\"text/css\" >\n",
       "#T_a7f4c_row0_col0,#T_a7f4c_row1_col0,#T_a7f4c_row2_col0{\n",
       "            background-color:  #fff7fb;\n",
       "            color:  #000000;\n",
       "        }</style><table id=\"T_a7f4c_\" ><thead>    <tr>        <th class=\"blank level0\" ></th>        <th class=\"col_heading level0 col0\" >0</th>    </tr></thead><tbody>\n",
       "                <tr>\n",
       "                        <th id=\"T_a7f4c_level0_row0\" class=\"row_heading level0 row0\" >lyricId</th>\n",
       "                        <td id=\"T_a7f4c_row0_col0\" class=\"data row0 col0\" >0.000000</td>\n",
       "            </tr>\n",
       "            <tr>\n",
       "                        <th id=\"T_a7f4c_level0_row1\" class=\"row_heading level0 row1\" >text</th>\n",
       "                        <td id=\"T_a7f4c_row1_col0\" class=\"data row1 col0\" >0.000000</td>\n",
       "            </tr>\n",
       "            <tr>\n",
       "                        <th id=\"T_a7f4c_level0_row2\" class=\"row_heading level0 row2\" >track_id</th>\n",
       "                        <td id=\"T_a7f4c_row2_col0\" class=\"data row2 col0\" >0.000000</td>\n",
       "            </tr>\n",
       "    </tbody></table>"
      ],
      "text/plain": [
       "<pandas.io.formats.style.Styler at 0x1d426dd6fa0>"
      ]
     },
     "metadata": {},
     "output_type": "display_data"
    },
    {
     "name": "stdout",
     "output_type": "stream",
     "text": [
      "\n",
      "Тип признаков\n",
      "lyricId     object\n",
      "text        object\n",
      "track_id    object\n",
      "dtype: object\n"
     ]
    }
   ],
   "source": [
    "# посмотрим датасет c текстами\n",
    "main_info(df_lyrics)"
   ]
  },
  {
   "cell_type": "markdown",
   "id": "a77bf222-bd94-4a62-8430-0e7829343779",
   "metadata": {},
   "source": [
    "**Вывод после первичного обзора данных**\n",
    "\n",
    "Датасет с разметкой каверов содержит 71597 объектов и 3 столбца, при этом обнаружено 93 % пропусков в столбце с original_track_id - уникальный идентификатор исходного трека. При этом 4468 значения являются уникальными из 4821 имеющихся данных об уникальных id исходных треков. \n",
    "Датасет с метаинфромацией содержит 71768 объектов и 7 столбцов, пропуски присутствуют в 2х столбцах:language и  isr (международный id трека).   5\n",
    "Датасет с текстами песен содержит около 99% уникальных значений текстов и 95% уникальных значений lyricId.\r",
    "Н\r\n",
    "названия колонои соответствуют первоначальному описанию дан.  т)Типы данных соответствуют содержанию.   cдaем наборе данных."
   ]
  },
  {
   "cell_type": "code",
   "execution_count": 47,
   "id": "065f327f-8cc5-45b3-ae00-95123c7a9fc6",
   "metadata": {},
   "outputs": [
    {
     "data": {
      "text/html": [
       "<div>\n",
       "<style scoped>\n",
       "    .dataframe tbody tr th:only-of-type {\n",
       "        vertical-align: middle;\n",
       "    }\n",
       "\n",
       "    .dataframe tbody tr th {\n",
       "        vertical-align: top;\n",
       "    }\n",
       "\n",
       "    .dataframe thead th {\n",
       "        text-align: right;\n",
       "    }\n",
       "</style>\n",
       "<table border=\"1\" class=\"dataframe\">\n",
       "  <thead>\n",
       "    <tr style=\"text-align: right;\">\n",
       "      <th></th>\n",
       "      <th>original_track_id</th>\n",
       "      <th>track_id</th>\n",
       "      <th>track_remake_type</th>\n",
       "      <th>dttm</th>\n",
       "      <th>title</th>\n",
       "      <th>language</th>\n",
       "      <th>isrc</th>\n",
       "      <th>genres</th>\n",
       "      <th>duration</th>\n",
       "    </tr>\n",
       "  </thead>\n",
       "  <tbody>\n",
       "    <tr>\n",
       "      <th>0</th>\n",
       "      <td>eeb69a3cb92300456b6a5f4162093851</td>\n",
       "      <td>eeb69a3cb92300456b6a5f4162093851</td>\n",
       "      <td>ORIGINAL</td>\n",
       "      <td>2009-11-11 21:00:00</td>\n",
       "      <td>Proud Mary</td>\n",
       "      <td>EN</td>\n",
       "      <td>USFI86900049</td>\n",
       "      <td>[ROCK, ALLROCK]</td>\n",
       "      <td>187220.0</td>\n",
       "    </tr>\n",
       "    <tr>\n",
       "      <th>1</th>\n",
       "      <td>fe7ee8fc1959cc7214fa21c4840dff0a</td>\n",
       "      <td>fe7ee8fc1959cc7214fa21c4840dff0a</td>\n",
       "      <td>ORIGINAL</td>\n",
       "      <td>2009-11-11 21:00:00</td>\n",
       "      <td>Fortunate Son</td>\n",
       "      <td>EN</td>\n",
       "      <td>USFI86900065</td>\n",
       "      <td>[ROCK, ALLROCK]</td>\n",
       "      <td>137780.0</td>\n",
       "    </tr>\n",
       "    <tr>\n",
       "      <th>2</th>\n",
       "      <td>cd89fef7ffdd490db800357f47722b20</td>\n",
       "      <td>cd89fef7ffdd490db800357f47722b20</td>\n",
       "      <td>ORIGINAL</td>\n",
       "      <td>2009-09-21 20:00:00</td>\n",
       "      <td>La Camisa Negra</td>\n",
       "      <td>ES</td>\n",
       "      <td>USUL10400965</td>\n",
       "      <td>[POP, FOLK, LATINFOLK]</td>\n",
       "      <td>216840.0</td>\n",
       "    </tr>\n",
       "    <tr>\n",
       "      <th>3</th>\n",
       "      <td>995665640dc319973d3173a74a03860c</td>\n",
       "      <td>995665640dc319973d3173a74a03860c</td>\n",
       "      <td>ORIGINAL</td>\n",
       "      <td>2009-11-16 21:00:00</td>\n",
       "      <td>The Way I Are</td>\n",
       "      <td>EN</td>\n",
       "      <td>USUM70722806</td>\n",
       "      <td>[FOREIGNRAP, RAP]</td>\n",
       "      <td>179660.0</td>\n",
       "    </tr>\n",
       "    <tr>\n",
       "      <th>4</th>\n",
       "      <td>None</td>\n",
       "      <td>d6288499d0083cc34e60a077b7c4b3e1</td>\n",
       "      <td>COVER</td>\n",
       "      <td>2009-09-17 20:00:00</td>\n",
       "      <td>Extraball</td>\n",
       "      <td>EN</td>\n",
       "      <td>FR8Q10900116</td>\n",
       "      <td>[ELECTRONICS]</td>\n",
       "      <td>212620.0</td>\n",
       "    </tr>\n",
       "  </tbody>\n",
       "</table>\n",
       "</div>"
      ],
      "text/plain": [
       "                  original_track_id                          track_id  \\\n",
       "0  eeb69a3cb92300456b6a5f4162093851  eeb69a3cb92300456b6a5f4162093851   \n",
       "1  fe7ee8fc1959cc7214fa21c4840dff0a  fe7ee8fc1959cc7214fa21c4840dff0a   \n",
       "2  cd89fef7ffdd490db800357f47722b20  cd89fef7ffdd490db800357f47722b20   \n",
       "3  995665640dc319973d3173a74a03860c  995665640dc319973d3173a74a03860c   \n",
       "4                              None  d6288499d0083cc34e60a077b7c4b3e1   \n",
       "\n",
       "  track_remake_type                dttm            title language  \\\n",
       "0          ORIGINAL 2009-11-11 21:00:00       Proud Mary       EN   \n",
       "1          ORIGINAL 2009-11-11 21:00:00    Fortunate Son       EN   \n",
       "2          ORIGINAL 2009-09-21 20:00:00  La Camisa Negra       ES   \n",
       "3          ORIGINAL 2009-11-16 21:00:00    The Way I Are       EN   \n",
       "4             COVER 2009-09-17 20:00:00        Extraball       EN   \n",
       "\n",
       "           isrc                  genres  duration  \n",
       "0  USFI86900049         [ROCK, ALLROCK]  187220.0  \n",
       "1  USFI86900065         [ROCK, ALLROCK]  137780.0  \n",
       "2  USUL10400965  [POP, FOLK, LATINFOLK]  216840.0  \n",
       "3  USUM70722806       [FOREIGNRAP, RAP]  179660.0  \n",
       "4  FR8Q10900116           [ELECTRONICS]  212620.0  "
      ]
     },
     "execution_count": 47,
     "metadata": {},
     "output_type": "execute_result"
    }
   ],
   "source": [
    "# объединим датафреймы по столбцу \"track id\"\n",
    "merged_df = pd.merge(df_covers, df_meta, on='track_id',how='left')\n",
    "\n",
    "# Вывод объединенного датафрейма\n",
    "merged_df.head()"
   ]
  },
  {
   "cell_type": "code",
   "execution_count": 49,
   "id": "a98f0abe-1de1-4fa2-a473-c511c9a9c23a",
   "metadata": {},
   "outputs": [],
   "source": [
    "merged_df1 = pd.merge(merged_df, df_lyrics, on='track_id',how='left')"
   ]
  },
  {
   "cell_type": "code",
   "execution_count": 52,
   "id": "d80a1e7c-b79e-4dc8-a315-301ac85f1012",
   "metadata": {},
   "outputs": [
    {
     "name": "stdout",
     "output_type": "stream",
     "text": [
      "<class 'pandas.core.frame.DataFrame'>\n",
      "Int64Index: 72571 entries, 0 to 72570\n",
      "Data columns (total 11 columns):\n",
      " #   Column             Non-Null Count  Dtype         \n",
      "---  ------             --------------  -----         \n",
      " 0   original_track_id  5378 non-null   object        \n",
      " 1   track_id           72571 non-null  object        \n",
      " 2   track_remake_type  72571 non-null  object        \n",
      " 3   dttm               72571 non-null  datetime64[ns]\n",
      " 4   title              72571 non-null  object        \n",
      " 5   language           22598 non-null  object        \n",
      " 6   isrc               72242 non-null  object        \n",
      " 7   genres             72571 non-null  object        \n",
      " 8   duration           72571 non-null  float64       \n",
      " 9   lyricId            11097 non-null  object        \n",
      " 10  text               11097 non-null  object        \n",
      "dtypes: datetime64[ns](1), float64(1), object(9)\n",
      "memory usage: 6.6+ MB\n"
     ]
    }
   ],
   "source": [
    "merged_df1.head()\n",
    "merged_df1.info()"
   ]
  },
  {
   "cell_type": "code",
   "execution_count": null,
   "id": "7baeb8ff-610c-4bf3-b135-bc8c1b933466",
   "metadata": {},
   "outputs": [],
   "source": []
  }
 ],
 "metadata": {
  "kernelspec": {
   "display_name": "Python 3 (ipykernel)",
   "language": "python",
   "name": "python3"
  },
  "language_info": {
   "codemirror_mode": {
    "name": "ipython",
    "version": 3
   },
   "file_extension": ".py",
   "mimetype": "text/x-python",
   "name": "python",
   "nbconvert_exporter": "python",
   "pygments_lexer": "ipython3",
   "version": "3.9.18"
  }
 },
 "nbformat": 4,
 "nbformat_minor": 5
}

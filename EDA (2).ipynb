{
 "cells": [
  {
   "cell_type": "markdown",
   "id": "cc9eab43",
   "metadata": {},
   "source": [
    "# Обнаружение каверов музыкальных треков\n",
    "\n",
    "## Задача\n",
    "\n",
    "Обнаружение треков каверов - важная продуктовая задача, которая может значительно улучшить качество рекомендаций музыкального сервиса и повысить счастье наших пользователей. Если мы умеем с высокой точностью классифицировать каверы и связывать их между собой, то можно предложить пользователю новые возможности для управления потоком треков. Например:\n",
    "\n",
    "- по желанию пользователя можем полностью исключить каверы из рекомендаций;\n",
    "- показать все каверы на любимый трек пользователя;\n",
    "- контролировать долю каверов в ленте пользователя.\n",
    "\n",
    "## Цель\n",
    "В этом хакатоне нам предлагается разработать решение, которое:\n",
    "\n",
    "- может классифицировать треки по признаку кавер-некавер;\n",
    "- связывать (группировать) каверы и исходный трек;\n",
    "- находит исходный трек в цепочке каверов.\n",
    "\n",
    "Нам требуется разработать ML-модель для сопоставления текстов музыкальных произведений и для поиска каверов (вариации обработки оригинала с элементами новой аранжировки) по их текстам. \n",
    "\n",
    "Для решения этой задачи мы можем использовать любые открытые источники данных и собирать необходимую вам информацию, соблюдая правила использования сервисов, которые эту информацию предоставляют.\n",
    "\n",
    "Данные предоставлены заказчиком в трех файлах: covers.json, meta.json, lyrics.json.\n",
    "\n",
    "### Разметка каверов\n",
    "\n",
    "Файл covers.json содержит разметку каверов, сделанную редакторами сервиса:\n",
    "\n",
    "- track_id - уникальный идентификатор трека;\n",
    "- track_remake_type - метка, присвоенная редакторами. Может принимать значения ORIGINAL и COVER;\n",
    "- original_track_id - уникальный идентификатор исходного трека.\n",
    "\n",
    "Обратите внимание, что не для всех каверов известны идентификаторы исходных треков!!!\n",
    "\n",
    "### Метаинформация\n",
    "Файл meta.json \n",
    "- track_id - уникальный идентификатор трека;\n",
    "- dttm - первая дата появления информации о треке;\n",
    "- title - название трека;\n",
    "- language - язык исполнения;\n",
    "- isrc - международный уникальный идентификатор трека;\n",
    "- genres - жанры;\n",
    "- duration - длительность трека;\n",
    "\n",
    "### Текст песен\n",
    "Файл lyrics.json\n",
    "- track_id - уникальный идентификатор трека;\n",
    "- lyricId - уникальный идентификатор текста;\n",
    "- text - текст трека.\n",
    "\n",
    "**Исследование пройдет в 7 этапов:**\n",
    "\n",
    "* загрузка и первичное ознакомление с данными,\n",
    "* предварительная обработка,\n",
    "* полноценный разведочный анализ,\n",
    "* разработка новых синтетических признаков,\n",
    "* проверка на мультиколлинеарность,\n",
    "* отбор финального набора обучающих признаков,\n",
    "* выбор и обучение моделей,\n",
    "* итоговая оценка качества предсказания лучшей модели,\n",
    "* анализ важности ее признаков.\n",
    "* общий вывод"
   ]
  },
  {
   "cell_type": "markdown",
   "id": "dc025bb7-6d08-4cd1-b12e-38f7bd48d54f",
   "metadata": {},
   "source": [
    "## Загрузка и первичное ознакомление с данными"
   ]
  },
  {
   "cell_type": "markdown",
   "id": "c3381f23-8cfa-4145-bacb-807ac2cece50",
   "metadata": {},
   "source": [
    "Импортируем необходимые для анализа данных библиотеки.\n",
    "\n",
    "Считаем данные из json-файла в датафрейм и сохраним в переменные."
   ]
  },
  {
   "cell_type": "code",
   "execution_count": 68,
   "id": "4e757b17",
   "metadata": {},
   "outputs": [],
   "source": [
    "import json\n",
    "import os\n",
    "\n",
    "import warnings\n",
    "import time\n",
    "\n",
    "import numpy as np\n",
    "import pandas as pd\n",
    "import seaborn as sns\n",
    "import matplotlib.pyplot as plt\n",
    "\n",
    "from sklearn.dummy import DummyClassifier\n",
    "from catboost import CatBoostClassifier\n",
    "\n",
    "from sklearn.pipeline import Pipeline\n",
    "from sklearn.pipeline import make_pipeline\n",
    "\n",
    "from sklearn.model_selection import (\n",
    "    train_test_split,\n",
    "    GridSearchCV,\n",
    "    KFold,\n",
    "    RandomizedSearchCV\n",
    ")\n",
    "from sklearn.metrics import (\n",
    "    accuracy_score,\n",
    "    precision_score, \n",
    "    recall_score, \n",
    "    f1_score, \n",
    "    roc_auc_score,\n",
    "    roc_curve, \n",
    "    precision_recall_curve,\n",
    "    confusion_matrix,\n",
    "    ConfusionMatrixDisplay\n",
    ")\n",
    "RANDOM_STATE = 54321\n",
    "from tqdm.notebook import tqdm\n",
    "tqdm.pandas()\n",
    "\n",
    "warnings.filterwarnings(\"ignore\")"
   ]
  },
  {
   "cell_type": "markdown",
   "id": "99135d7d-8547-4295-a8a9-6e68fa93c7fa",
   "metadata": {},
   "source": [
    "### Первичный обзор данных"
   ]
  },
  {
   "cell_type": "code",
   "execution_count": 2,
   "id": "f6a155eb",
   "metadata": {},
   "outputs": [
    {
     "data": {
      "text/html": [
       "<div>\n",
       "<style scoped>\n",
       "    .dataframe tbody tr th:only-of-type {\n",
       "        vertical-align: middle;\n",
       "    }\n",
       "\n",
       "    .dataframe tbody tr th {\n",
       "        vertical-align: top;\n",
       "    }\n",
       "\n",
       "    .dataframe thead th {\n",
       "        text-align: right;\n",
       "    }\n",
       "</style>\n",
       "<table border=\"1\" class=\"dataframe\">\n",
       "  <thead>\n",
       "    <tr style=\"text-align: right;\">\n",
       "      <th></th>\n",
       "      <th>original_track_id</th>\n",
       "      <th>track_id</th>\n",
       "      <th>track_remake_type</th>\n",
       "    </tr>\n",
       "  </thead>\n",
       "  <tbody>\n",
       "    <tr>\n",
       "      <th>40494</th>\n",
       "      <td>None</td>\n",
       "      <td>bc8da4a8cdd61089853f49e1b9a61185</td>\n",
       "      <td>COVER</td>\n",
       "    </tr>\n",
       "  </tbody>\n",
       "</table>\n",
       "</div>"
      ],
      "text/plain": [
       "      original_track_id                          track_id track_remake_type\n",
       "40494              None  bc8da4a8cdd61089853f49e1b9a61185             COVER"
      ]
     },
     "execution_count": 2,
     "metadata": {},
     "output_type": "execute_result"
    }
   ],
   "source": [
    "# разметка каверов\n",
    "path_covers = 'C:\\\\Users\\\\fudou\\\\Untitled Folder 1\\\\covers.json'\n",
    "\n",
    "df_covers = pd.read_json(path_covers, lines=True)\n",
    "df_covers.sample()"
   ]
  },
  {
   "cell_type": "code",
   "execution_count": 3,
   "id": "9381be02",
   "metadata": {},
   "outputs": [
    {
     "data": {
      "text/html": [
       "<div>\n",
       "<style scoped>\n",
       "    .dataframe tbody tr th:only-of-type {\n",
       "        vertical-align: middle;\n",
       "    }\n",
       "\n",
       "    .dataframe tbody tr th {\n",
       "        vertical-align: top;\n",
       "    }\n",
       "\n",
       "    .dataframe thead th {\n",
       "        text-align: right;\n",
       "    }\n",
       "</style>\n",
       "<table border=\"1\" class=\"dataframe\">\n",
       "  <thead>\n",
       "    <tr style=\"text-align: right;\">\n",
       "      <th></th>\n",
       "      <th>track_id</th>\n",
       "      <th>dttm</th>\n",
       "      <th>title</th>\n",
       "      <th>language</th>\n",
       "      <th>isrc</th>\n",
       "      <th>genres</th>\n",
       "      <th>duration</th>\n",
       "    </tr>\n",
       "  </thead>\n",
       "  <tbody>\n",
       "    <tr>\n",
       "      <th>38375</th>\n",
       "      <td>9d5a1a1da8b38b66f9d2f85944a24583</td>\n",
       "      <td>2021-10-28 20:15:02</td>\n",
       "      <td>Sueña</td>\n",
       "      <td>None</td>\n",
       "      <td>QZNJY2113040</td>\n",
       "      <td>[FOLK, LATINFOLK]</td>\n",
       "      <td>297710.0</td>\n",
       "    </tr>\n",
       "  </tbody>\n",
       "</table>\n",
       "</div>"
      ],
      "text/plain": [
       "                               track_id                dttm  title language  \\\n",
       "38375  9d5a1a1da8b38b66f9d2f85944a24583 2021-10-28 20:15:02  Sueña     None   \n",
       "\n",
       "               isrc             genres  duration  \n",
       "38375  QZNJY2113040  [FOLK, LATINFOLK]  297710.0  "
      ]
     },
     "execution_count": 3,
     "metadata": {},
     "output_type": "execute_result"
    }
   ],
   "source": [
    "# метаинформация\n",
    "path_meta = 'C:\\\\Users\\\\fudou\\\\Untitled Folder 1\\\\/meta.json'\n",
    "\n",
    "df_meta = pd.read_json(path_meta, lines=True, convert_dates=['dttm'])\n",
    "df_meta.sample()"
   ]
  },
  {
   "cell_type": "code",
   "execution_count": 4,
   "id": "6d70ac13-a38f-4110-874a-5360e69985ec",
   "metadata": {},
   "outputs": [
    {
     "data": {
      "text/html": [
       "<div>\n",
       "<style scoped>\n",
       "    .dataframe tbody tr th:only-of-type {\n",
       "        vertical-align: middle;\n",
       "    }\n",
       "\n",
       "    .dataframe tbody tr th {\n",
       "        vertical-align: top;\n",
       "    }\n",
       "\n",
       "    .dataframe thead th {\n",
       "        text-align: right;\n",
       "    }\n",
       "</style>\n",
       "<table border=\"1\" class=\"dataframe\">\n",
       "  <thead>\n",
       "    <tr style=\"text-align: right;\">\n",
       "      <th></th>\n",
       "      <th>lyricId</th>\n",
       "      <th>text</th>\n",
       "      <th>track_id</th>\n",
       "    </tr>\n",
       "  </thead>\n",
       "  <tbody>\n",
       "    <tr>\n",
       "      <th>856</th>\n",
       "      <td>1be58ea05c9cb500832593e7aad64549</td>\n",
       "      <td>Hey Jude, don't make it bad\\nTake a sad song a...</td>\n",
       "      <td>3e3a29eadd78fe4c243ca68bead49f36</td>\n",
       "    </tr>\n",
       "  </tbody>\n",
       "</table>\n",
       "</div>"
      ],
      "text/plain": [
       "                              lyricId  \\\n",
       "856  1be58ea05c9cb500832593e7aad64549   \n",
       "\n",
       "                                                  text  \\\n",
       "856  Hey Jude, don't make it bad\\nTake a sad song a...   \n",
       "\n",
       "                             track_id  \n",
       "856  3e3a29eadd78fe4c243ca68bead49f36  "
      ]
     },
     "execution_count": 4,
     "metadata": {},
     "output_type": "execute_result"
    }
   ],
   "source": [
    "# текст трека\n",
    "path_lyrics = 'C:\\\\Users\\\\fudou\\\\Untitled Folder 1\\\\/lyrics.json'\n",
    "\n",
    "df_lyrics = pd.read_json(path_lyrics, lines=True)\n",
    "df_lyrics.sample()"
   ]
  },
  {
   "cell_type": "code",
   "execution_count": 5,
   "id": "8a086587",
   "metadata": {},
   "outputs": [],
   "source": [
    "# напишем функцию для вывода основной информации о датасетe\n",
    "def main_info(data):\n",
    "    print(f'Выведем первые 5 строк датафрейма')\n",
    "    display(data.head())\n",
    "    print()\n",
    "\n",
    "    print(f'Основная информация о датафрейме')\n",
    "    print()\n",
    "    display(data.info())\n",
    "    print()\n",
    "\n",
    "    print(f'Числовое описание данных')\n",
    "    display(data.describe().style.background_gradient())\n",
    "    print()\n",
    "\n",
    "    print(f'Количество строк-дубликатов')\n",
    "    display(data.duplicated().sum())\n",
    "    print()\n",
    "\n",
    "    print(f'Количество пропусков в процентном соотношении')\n",
    "    display(pd.DataFrame(round(data.isna().mean()*100,1)).style.background_gradient())\n",
    "    print()\n"
   ]
  },
  {
   "cell_type": "markdown",
   "id": "de7d0dc0-f83e-4575-87f4-b71442aac289",
   "metadata": {},
   "source": [
    "**Разметка каверов**"
   ]
  },
  {
   "cell_type": "code",
   "execution_count": 6,
   "id": "fb0ade27-7ee3-49aa-a86d-3e1f6ef8a79d",
   "metadata": {},
   "outputs": [
    {
     "name": "stdout",
     "output_type": "stream",
     "text": [
      "Выведем первые 5 строк датафрейма\n"
     ]
    },
    {
     "data": {
      "text/html": [
       "<div>\n",
       "<style scoped>\n",
       "    .dataframe tbody tr th:only-of-type {\n",
       "        vertical-align: middle;\n",
       "    }\n",
       "\n",
       "    .dataframe tbody tr th {\n",
       "        vertical-align: top;\n",
       "    }\n",
       "\n",
       "    .dataframe thead th {\n",
       "        text-align: right;\n",
       "    }\n",
       "</style>\n",
       "<table border=\"1\" class=\"dataframe\">\n",
       "  <thead>\n",
       "    <tr style=\"text-align: right;\">\n",
       "      <th></th>\n",
       "      <th>original_track_id</th>\n",
       "      <th>track_id</th>\n",
       "      <th>track_remake_type</th>\n",
       "    </tr>\n",
       "  </thead>\n",
       "  <tbody>\n",
       "    <tr>\n",
       "      <th>0</th>\n",
       "      <td>eeb69a3cb92300456b6a5f4162093851</td>\n",
       "      <td>eeb69a3cb92300456b6a5f4162093851</td>\n",
       "      <td>ORIGINAL</td>\n",
       "    </tr>\n",
       "    <tr>\n",
       "      <th>1</th>\n",
       "      <td>fe7ee8fc1959cc7214fa21c4840dff0a</td>\n",
       "      <td>fe7ee8fc1959cc7214fa21c4840dff0a</td>\n",
       "      <td>ORIGINAL</td>\n",
       "    </tr>\n",
       "    <tr>\n",
       "      <th>2</th>\n",
       "      <td>cd89fef7ffdd490db800357f47722b20</td>\n",
       "      <td>cd89fef7ffdd490db800357f47722b20</td>\n",
       "      <td>ORIGINAL</td>\n",
       "    </tr>\n",
       "    <tr>\n",
       "      <th>3</th>\n",
       "      <td>995665640dc319973d3173a74a03860c</td>\n",
       "      <td>995665640dc319973d3173a74a03860c</td>\n",
       "      <td>ORIGINAL</td>\n",
       "    </tr>\n",
       "    <tr>\n",
       "      <th>4</th>\n",
       "      <td>None</td>\n",
       "      <td>d6288499d0083cc34e60a077b7c4b3e1</td>\n",
       "      <td>COVER</td>\n",
       "    </tr>\n",
       "  </tbody>\n",
       "</table>\n",
       "</div>"
      ],
      "text/plain": [
       "                  original_track_id                          track_id  \\\n",
       "0  eeb69a3cb92300456b6a5f4162093851  eeb69a3cb92300456b6a5f4162093851   \n",
       "1  fe7ee8fc1959cc7214fa21c4840dff0a  fe7ee8fc1959cc7214fa21c4840dff0a   \n",
       "2  cd89fef7ffdd490db800357f47722b20  cd89fef7ffdd490db800357f47722b20   \n",
       "3  995665640dc319973d3173a74a03860c  995665640dc319973d3173a74a03860c   \n",
       "4                              None  d6288499d0083cc34e60a077b7c4b3e1   \n",
       "\n",
       "  track_remake_type  \n",
       "0          ORIGINAL  \n",
       "1          ORIGINAL  \n",
       "2          ORIGINAL  \n",
       "3          ORIGINAL  \n",
       "4             COVER  "
      ]
     },
     "metadata": {},
     "output_type": "display_data"
    },
    {
     "name": "stdout",
     "output_type": "stream",
     "text": [
      "\n",
      "Основная информация о датафрейме\n",
      "\n",
      "<class 'pandas.core.frame.DataFrame'>\n",
      "RangeIndex: 71597 entries, 0 to 71596\n",
      "Data columns (total 3 columns):\n",
      " #   Column             Non-Null Count  Dtype \n",
      "---  ------             --------------  ----- \n",
      " 0   original_track_id  4821 non-null   object\n",
      " 1   track_id           71597 non-null  object\n",
      " 2   track_remake_type  71597 non-null  object\n",
      "dtypes: object(3)\n",
      "memory usage: 1.6+ MB\n"
     ]
    },
    {
     "data": {
      "text/plain": [
       "None"
      ]
     },
     "metadata": {},
     "output_type": "display_data"
    },
    {
     "name": "stdout",
     "output_type": "stream",
     "text": [
      "\n",
      "Числовое описание данных\n"
     ]
    },
    {
     "data": {
      "text/html": [
       "<style  type=\"text/css\" >\n",
       "</style><table id=\"T_89c79_\" ><thead>    <tr>        <th class=\"blank level0\" ></th>        <th class=\"col_heading level0 col0\" >original_track_id</th>        <th class=\"col_heading level0 col1\" >track_id</th>        <th class=\"col_heading level0 col2\" >track_remake_type</th>    </tr></thead><tbody>\n",
       "                <tr>\n",
       "                        <th id=\"T_89c79_level0_row0\" class=\"row_heading level0 row0\" >count</th>\n",
       "                        <td id=\"T_89c79_row0_col0\" class=\"data row0 col0\" >4821</td>\n",
       "                        <td id=\"T_89c79_row0_col1\" class=\"data row0 col1\" >71597</td>\n",
       "                        <td id=\"T_89c79_row0_col2\" class=\"data row0 col2\" >71597</td>\n",
       "            </tr>\n",
       "            <tr>\n",
       "                        <th id=\"T_89c79_level0_row1\" class=\"row_heading level0 row1\" >unique</th>\n",
       "                        <td id=\"T_89c79_row1_col0\" class=\"data row1 col0\" >4468</td>\n",
       "                        <td id=\"T_89c79_row1_col1\" class=\"data row1 col1\" >71597</td>\n",
       "                        <td id=\"T_89c79_row1_col2\" class=\"data row1 col2\" >2</td>\n",
       "            </tr>\n",
       "            <tr>\n",
       "                        <th id=\"T_89c79_level0_row2\" class=\"row_heading level0 row2\" >top</th>\n",
       "                        <td id=\"T_89c79_row2_col0\" class=\"data row2 col0\" >f3e5e9db509f9b6f6d93b9c38e4e1324</td>\n",
       "                        <td id=\"T_89c79_row2_col1\" class=\"data row2 col1\" >6747cf886c2cc6025e226d7130d13ea6</td>\n",
       "                        <td id=\"T_89c79_row2_col2\" class=\"data row2 col2\" >COVER</td>\n",
       "            </tr>\n",
       "            <tr>\n",
       "                        <th id=\"T_89c79_level0_row3\" class=\"row_heading level0 row3\" >freq</th>\n",
       "                        <td id=\"T_89c79_row3_col0\" class=\"data row3 col0\" >38</td>\n",
       "                        <td id=\"T_89c79_row3_col1\" class=\"data row3 col1\" >1</td>\n",
       "                        <td id=\"T_89c79_row3_col2\" class=\"data row3 col2\" >67304</td>\n",
       "            </tr>\n",
       "    </tbody></table>"
      ],
      "text/plain": [
       "<pandas.io.formats.style.Styler at 0x2b71e19fbb0>"
      ]
     },
     "metadata": {},
     "output_type": "display_data"
    },
    {
     "name": "stdout",
     "output_type": "stream",
     "text": [
      "\n",
      "Количество строк-дубликатов\n"
     ]
    },
    {
     "data": {
      "text/plain": [
       "0"
      ]
     },
     "metadata": {},
     "output_type": "display_data"
    },
    {
     "name": "stdout",
     "output_type": "stream",
     "text": [
      "\n",
      "Количество пропусков в процентном соотношении\n"
     ]
    },
    {
     "data": {
      "text/html": [
       "<style  type=\"text/css\" >\n",
       "#T_35a80_row0_col0{\n",
       "            background-color:  #023858;\n",
       "            color:  #f1f1f1;\n",
       "        }#T_35a80_row1_col0,#T_35a80_row2_col0{\n",
       "            background-color:  #fff7fb;\n",
       "            color:  #000000;\n",
       "        }</style><table id=\"T_35a80_\" ><thead>    <tr>        <th class=\"blank level0\" ></th>        <th class=\"col_heading level0 col0\" >0</th>    </tr></thead><tbody>\n",
       "                <tr>\n",
       "                        <th id=\"T_35a80_level0_row0\" class=\"row_heading level0 row0\" >original_track_id</th>\n",
       "                        <td id=\"T_35a80_row0_col0\" class=\"data row0 col0\" >93.300000</td>\n",
       "            </tr>\n",
       "            <tr>\n",
       "                        <th id=\"T_35a80_level0_row1\" class=\"row_heading level0 row1\" >track_id</th>\n",
       "                        <td id=\"T_35a80_row1_col0\" class=\"data row1 col0\" >0.000000</td>\n",
       "            </tr>\n",
       "            <tr>\n",
       "                        <th id=\"T_35a80_level0_row2\" class=\"row_heading level0 row2\" >track_remake_type</th>\n",
       "                        <td id=\"T_35a80_row2_col0\" class=\"data row2 col0\" >0.000000</td>\n",
       "            </tr>\n",
       "    </tbody></table>"
      ],
      "text/plain": [
       "<pandas.io.formats.style.Styler at 0x2b71e19fbb0>"
      ]
     },
     "metadata": {},
     "output_type": "display_data"
    },
    {
     "name": "stdout",
     "output_type": "stream",
     "text": [
      "\n"
     ]
    }
   ],
   "source": [
    "# посмотрим датасет c каверами\n",
    "main_info(df_covers)"
   ]
  },
  {
   "cell_type": "markdown",
   "id": "7871f9fc-02a3-494d-9a06-8686ef9f0fa8",
   "metadata": {},
   "source": [
    "**Обзор метаинформации**"
   ]
  },
  {
   "cell_type": "code",
   "execution_count": 7,
   "id": "dd9bc825-4d76-4c95-9a56-88bb806a1dc6",
   "metadata": {},
   "outputs": [
    {
     "data": {
      "text/html": [
       "<div>\n",
       "<style scoped>\n",
       "    .dataframe tbody tr th:only-of-type {\n",
       "        vertical-align: middle;\n",
       "    }\n",
       "\n",
       "    .dataframe tbody tr th {\n",
       "        vertical-align: top;\n",
       "    }\n",
       "\n",
       "    .dataframe thead th {\n",
       "        text-align: right;\n",
       "    }\n",
       "</style>\n",
       "<table border=\"1\" class=\"dataframe\">\n",
       "  <thead>\n",
       "    <tr style=\"text-align: right;\">\n",
       "      <th></th>\n",
       "      <th>track_id</th>\n",
       "      <th>dttm</th>\n",
       "      <th>title</th>\n",
       "      <th>language</th>\n",
       "      <th>isrc</th>\n",
       "      <th>genres</th>\n",
       "      <th>duration</th>\n",
       "    </tr>\n",
       "  </thead>\n",
       "  <tbody>\n",
       "    <tr>\n",
       "      <th>0</th>\n",
       "      <td>c3b9d6a354ca008aa4518329aaa21380</td>\n",
       "      <td>2021-12-16 21:00:00</td>\n",
       "      <td>Happy New Year</td>\n",
       "      <td>EN</td>\n",
       "      <td>RUB422103970</td>\n",
       "      <td>[DANCE]</td>\n",
       "      <td>161120.0</td>\n",
       "    </tr>\n",
       "    <tr>\n",
       "      <th>1</th>\n",
       "      <td>c57e3d13bbbf5322584a7e92e6f1f7ff</td>\n",
       "      <td>2021-11-24 14:00:33</td>\n",
       "      <td>Bad Habits</td>\n",
       "      <td>EN</td>\n",
       "      <td>QZN882178276</td>\n",
       "      <td>[ELECTRONICS]</td>\n",
       "      <td>362260.0</td>\n",
       "    </tr>\n",
       "    <tr>\n",
       "      <th>2</th>\n",
       "      <td>955f2aafe8717908c140bf122ba4172d</td>\n",
       "      <td>2021-11-24 15:37:03</td>\n",
       "      <td>Por Esa Loca Vanidad</td>\n",
       "      <td>None</td>\n",
       "      <td>QZNJZ2122549</td>\n",
       "      <td>[FOLK, LATINFOLK]</td>\n",
       "      <td>260000.0</td>\n",
       "    </tr>\n",
       "    <tr>\n",
       "      <th>3</th>\n",
       "      <td>fae5a077c9956045955dde02143bd8ff</td>\n",
       "      <td>2021-11-24 15:37:03</td>\n",
       "      <td>Mil Lagrimas</td>\n",
       "      <td>None</td>\n",
       "      <td>QZNJZ2166033</td>\n",
       "      <td>[FOLK, LATINFOLK]</td>\n",
       "      <td>190000.0</td>\n",
       "    </tr>\n",
       "    <tr>\n",
       "      <th>4</th>\n",
       "      <td>6bede082154d34fc18d9a6744bc95bf5</td>\n",
       "      <td>2021-11-24 15:37:03</td>\n",
       "      <td>Sexo Humo y Alcohol</td>\n",
       "      <td>None</td>\n",
       "      <td>QZNJZ2122551</td>\n",
       "      <td>[FOLK, LATINFOLK]</td>\n",
       "      <td>203000.0</td>\n",
       "    </tr>\n",
       "  </tbody>\n",
       "</table>\n",
       "</div>"
      ],
      "text/plain": [
       "                           track_id                dttm                 title  \\\n",
       "0  c3b9d6a354ca008aa4518329aaa21380 2021-12-16 21:00:00        Happy New Year   \n",
       "1  c57e3d13bbbf5322584a7e92e6f1f7ff 2021-11-24 14:00:33            Bad Habits   \n",
       "2  955f2aafe8717908c140bf122ba4172d 2021-11-24 15:37:03  Por Esa Loca Vanidad   \n",
       "3  fae5a077c9956045955dde02143bd8ff 2021-11-24 15:37:03          Mil Lagrimas   \n",
       "4  6bede082154d34fc18d9a6744bc95bf5 2021-11-24 15:37:03   Sexo Humo y Alcohol   \n",
       "\n",
       "  language          isrc             genres  duration  \n",
       "0       EN  RUB422103970            [DANCE]  161120.0  \n",
       "1       EN  QZN882178276      [ELECTRONICS]  362260.0  \n",
       "2     None  QZNJZ2122549  [FOLK, LATINFOLK]  260000.0  \n",
       "3     None  QZNJZ2166033  [FOLK, LATINFOLK]  190000.0  \n",
       "4     None  QZNJZ2122551  [FOLK, LATINFOLK]  203000.0  "
      ]
     },
     "execution_count": 7,
     "metadata": {},
     "output_type": "execute_result"
    }
   ],
   "source": [
    "df_meta.head()"
   ]
  },
  {
   "cell_type": "code",
   "execution_count": 8,
   "id": "6b8f5577-3d20-4f2f-b165-c82081f60b03",
   "metadata": {},
   "outputs": [
    {
     "name": "stdout",
     "output_type": "stream",
     "text": [
      "<class 'pandas.core.frame.DataFrame'>\n",
      "RangeIndex: 71769 entries, 0 to 71768\n",
      "Data columns (total 7 columns):\n",
      " #   Column    Non-Null Count  Dtype         \n",
      "---  ------    --------------  -----         \n",
      " 0   track_id  71768 non-null  object        \n",
      " 1   dttm      71768 non-null  datetime64[ns]\n",
      " 2   title     71768 non-null  object        \n",
      " 3   language  21969 non-null  object        \n",
      " 4   isrc      71455 non-null  object        \n",
      " 5   genres    71768 non-null  object        \n",
      " 6   duration  71768 non-null  float64       \n",
      "dtypes: datetime64[ns](1), float64(1), object(5)\n",
      "memory usage: 3.8+ MB\n"
     ]
    }
   ],
   "source": [
    "# посмотрим датасет c метаинформацией\n",
    "df_meta.info()"
   ]
  },
  {
   "cell_type": "code",
   "execution_count": 9,
   "id": "2a444331-f761-4216-a288-ca79f151cce7",
   "metadata": {},
   "outputs": [
    {
     "name": "stdout",
     "output_type": "stream",
     "text": [
      "Количество пропусков в процентном соотношении\n"
     ]
    },
    {
     "data": {
      "text/html": [
       "<style  type=\"text/css\" >\n",
       "#T_0c547_row0_col0,#T_0c547_row1_col0,#T_0c547_row2_col0,#T_0c547_row5_col0,#T_0c547_row6_col0{\n",
       "            background-color:  #fff7fb;\n",
       "            color:  #000000;\n",
       "        }#T_0c547_row3_col0{\n",
       "            background-color:  #023858;\n",
       "            color:  #f1f1f1;\n",
       "        }#T_0c547_row4_col0{\n",
       "            background-color:  #fef6fb;\n",
       "            color:  #000000;\n",
       "        }</style><table id=\"T_0c547_\" ><thead>    <tr>        <th class=\"blank level0\" ></th>        <th class=\"col_heading level0 col0\" >0</th>    </tr></thead><tbody>\n",
       "                <tr>\n",
       "                        <th id=\"T_0c547_level0_row0\" class=\"row_heading level0 row0\" >track_id</th>\n",
       "                        <td id=\"T_0c547_row0_col0\" class=\"data row0 col0\" >0.000000</td>\n",
       "            </tr>\n",
       "            <tr>\n",
       "                        <th id=\"T_0c547_level0_row1\" class=\"row_heading level0 row1\" >dttm</th>\n",
       "                        <td id=\"T_0c547_row1_col0\" class=\"data row1 col0\" >0.000000</td>\n",
       "            </tr>\n",
       "            <tr>\n",
       "                        <th id=\"T_0c547_level0_row2\" class=\"row_heading level0 row2\" >title</th>\n",
       "                        <td id=\"T_0c547_row2_col0\" class=\"data row2 col0\" >0.000000</td>\n",
       "            </tr>\n",
       "            <tr>\n",
       "                        <th id=\"T_0c547_level0_row3\" class=\"row_heading level0 row3\" >language</th>\n",
       "                        <td id=\"T_0c547_row3_col0\" class=\"data row3 col0\" >69.400000</td>\n",
       "            </tr>\n",
       "            <tr>\n",
       "                        <th id=\"T_0c547_level0_row4\" class=\"row_heading level0 row4\" >isrc</th>\n",
       "                        <td id=\"T_0c547_row4_col0\" class=\"data row4 col0\" >0.400000</td>\n",
       "            </tr>\n",
       "            <tr>\n",
       "                        <th id=\"T_0c547_level0_row5\" class=\"row_heading level0 row5\" >genres</th>\n",
       "                        <td id=\"T_0c547_row5_col0\" class=\"data row5 col0\" >0.000000</td>\n",
       "            </tr>\n",
       "            <tr>\n",
       "                        <th id=\"T_0c547_level0_row6\" class=\"row_heading level0 row6\" >duration</th>\n",
       "                        <td id=\"T_0c547_row6_col0\" class=\"data row6 col0\" >0.000000</td>\n",
       "            </tr>\n",
       "    </tbody></table>"
      ],
      "text/plain": [
       "<pandas.io.formats.style.Styler at 0x2b725ce4eb0>"
      ]
     },
     "metadata": {},
     "output_type": "display_data"
    }
   ],
   "source": [
    "print(f'Количество пропусков в процентном соотношении')\n",
    "display(pd.DataFrame(round(df_meta.isna().mean()*100,1)).style.background_gradient())\n"
   ]
  },
  {
   "cell_type": "markdown",
   "id": "19984a0f-3256-4e07-add0-740cf85d347f",
   "metadata": {},
   "source": [
    "**Тексты песен**"
   ]
  },
  {
   "cell_type": "code",
   "execution_count": 10,
   "id": "b9a5e67e-52fb-4eee-8b1f-00ac691f96cb",
   "metadata": {},
   "outputs": [
    {
     "name": "stdout",
     "output_type": "stream",
     "text": [
      "Выведем первые 5 строк датафрейма\n"
     ]
    },
    {
     "data": {
      "text/html": [
       "<div>\n",
       "<style scoped>\n",
       "    .dataframe tbody tr th:only-of-type {\n",
       "        vertical-align: middle;\n",
       "    }\n",
       "\n",
       "    .dataframe tbody tr th {\n",
       "        vertical-align: top;\n",
       "    }\n",
       "\n",
       "    .dataframe thead th {\n",
       "        text-align: right;\n",
       "    }\n",
       "</style>\n",
       "<table border=\"1\" class=\"dataframe\">\n",
       "  <thead>\n",
       "    <tr style=\"text-align: right;\">\n",
       "      <th></th>\n",
       "      <th>lyricId</th>\n",
       "      <th>text</th>\n",
       "      <th>track_id</th>\n",
       "    </tr>\n",
       "  </thead>\n",
       "  <tbody>\n",
       "    <tr>\n",
       "      <th>0</th>\n",
       "      <td>a951f9504e89759e9d23039b7b17ec14</td>\n",
       "      <td>Живу сейчас обломами, обломками не той любви\\n...</td>\n",
       "      <td>1c4b1230f937e4c548ff732523214dcd</td>\n",
       "    </tr>\n",
       "    <tr>\n",
       "      <th>1</th>\n",
       "      <td>0c749bc3f01eb8e6cf986fa14ccfc585</td>\n",
       "      <td>Tell me your fable\\nA fable\\nTell me your fabl...</td>\n",
       "      <td>0faea89b0d7d6235b5b74def72511bd8</td>\n",
       "    </tr>\n",
       "    <tr>\n",
       "      <th>2</th>\n",
       "      <td>e2c8830fbc86e5964478243099eec23a</td>\n",
       "      <td>You're ashamed about all your fears and doubts...</td>\n",
       "      <td>9c6dc41d5ccd9968d07f055da5d8f741</td>\n",
       "    </tr>\n",
       "    <tr>\n",
       "      <th>3</th>\n",
       "      <td>e2c8830fbc86e5964478243099eec23a</td>\n",
       "      <td>You're ashamed about all your fears and doubts...</td>\n",
       "      <td>bfd04a73e9cffdf0e282c92219a86ea1</td>\n",
       "    </tr>\n",
       "    <tr>\n",
       "      <th>4</th>\n",
       "      <td>7624653ca8522ba93470843c74961b7d</td>\n",
       "      <td>You showed him all the best of you,\\nBut I'm a...</td>\n",
       "      <td>8d70930d09cd239c948408d1317d8659</td>\n",
       "    </tr>\n",
       "  </tbody>\n",
       "</table>\n",
       "</div>"
      ],
      "text/plain": [
       "                            lyricId  \\\n",
       "0  a951f9504e89759e9d23039b7b17ec14   \n",
       "1  0c749bc3f01eb8e6cf986fa14ccfc585   \n",
       "2  e2c8830fbc86e5964478243099eec23a   \n",
       "3  e2c8830fbc86e5964478243099eec23a   \n",
       "4  7624653ca8522ba93470843c74961b7d   \n",
       "\n",
       "                                                text  \\\n",
       "0  Живу сейчас обломами, обломками не той любви\\n...   \n",
       "1  Tell me your fable\\nA fable\\nTell me your fabl...   \n",
       "2  You're ashamed about all your fears and doubts...   \n",
       "3  You're ashamed about all your fears and doubts...   \n",
       "4  You showed him all the best of you,\\nBut I'm a...   \n",
       "\n",
       "                           track_id  \n",
       "0  1c4b1230f937e4c548ff732523214dcd  \n",
       "1  0faea89b0d7d6235b5b74def72511bd8  \n",
       "2  9c6dc41d5ccd9968d07f055da5d8f741  \n",
       "3  bfd04a73e9cffdf0e282c92219a86ea1  \n",
       "4  8d70930d09cd239c948408d1317d8659  "
      ]
     },
     "metadata": {},
     "output_type": "display_data"
    },
    {
     "name": "stdout",
     "output_type": "stream",
     "text": [
      "\n",
      "Основная информация о датафрейме\n",
      "\n",
      "<class 'pandas.core.frame.DataFrame'>\n",
      "RangeIndex: 11414 entries, 0 to 11413\n",
      "Data columns (total 3 columns):\n",
      " #   Column    Non-Null Count  Dtype \n",
      "---  ------    --------------  ----- \n",
      " 0   lyricId   11414 non-null  object\n",
      " 1   text      11414 non-null  object\n",
      " 2   track_id  11414 non-null  object\n",
      "dtypes: object(3)\n",
      "memory usage: 267.6+ KB\n"
     ]
    },
    {
     "data": {
      "text/plain": [
       "None"
      ]
     },
     "metadata": {},
     "output_type": "display_data"
    },
    {
     "name": "stdout",
     "output_type": "stream",
     "text": [
      "\n",
      "Числовое описание данных\n"
     ]
    },
    {
     "data": {
      "text/html": [
       "<style  type=\"text/css\" >\n",
       "</style><table id=\"T_edd40_\" ><thead>    <tr>        <th class=\"blank level0\" ></th>        <th class=\"col_heading level0 col0\" >lyricId</th>        <th class=\"col_heading level0 col1\" >text</th>        <th class=\"col_heading level0 col2\" >track_id</th>    </tr></thead><tbody>\n",
       "                <tr>\n",
       "                        <th id=\"T_edd40_level0_row0\" class=\"row_heading level0 row0\" >count</th>\n",
       "                        <td id=\"T_edd40_row0_col0\" class=\"data row0 col0\" >11414</td>\n",
       "                        <td id=\"T_edd40_row0_col1\" class=\"data row0 col1\" >11414</td>\n",
       "                        <td id=\"T_edd40_row0_col2\" class=\"data row0 col2\" >11414</td>\n",
       "            </tr>\n",
       "            <tr>\n",
       "                        <th id=\"T_edd40_level0_row1\" class=\"row_heading level0 row1\" >unique</th>\n",
       "                        <td id=\"T_edd40_row1_col0\" class=\"data row1 col0\" >10915</td>\n",
       "                        <td id=\"T_edd40_row1_col1\" class=\"data row1 col1\" >10644</td>\n",
       "                        <td id=\"T_edd40_row1_col2\" class=\"data row1 col2\" >10277</td>\n",
       "            </tr>\n",
       "            <tr>\n",
       "                        <th id=\"T_edd40_level0_row2\" class=\"row_heading level0 row2\" >top</th>\n",
       "                        <td id=\"T_edd40_row2_col0\" class=\"data row2 col0\" >28fbafaf626c497d0d4d933b4f0d3f5b</td>\n",
       "                        <td id=\"T_edd40_row2_col1\" class=\"data row2 col1\" >Twenty-five years and my life is still\n",
       "I'm trying to get up that great big hill of hope\n",
       "For a destination\n",
       "And so I wake in the morning\n",
       "And I step outside\n",
       "And I take a deep breath and I get real high\n",
       "And I scream at the top of my lungs\n",
       "What's going on?\n",
       "And I say, hey hey hey hey, hey hey hey hey\n",
       "I said hey, what's going on?\n",
       "And I say, hey hey, hey hey\n",
       "What's going on?\n",
       "What's going on?\n",
       "And I say, hey hey, hey hey, hey hey, hey hey, hey hey, hey hey\n",
       "What's going on?</td>\n",
       "                        <td id=\"T_edd40_row2_col2\" class=\"data row2 col2\" >b891000882f4a612190142861b5c038b</td>\n",
       "            </tr>\n",
       "            <tr>\n",
       "                        <th id=\"T_edd40_level0_row3\" class=\"row_heading level0 row3\" >freq</th>\n",
       "                        <td id=\"T_edd40_row3_col0\" class=\"data row3 col0\" >9</td>\n",
       "                        <td id=\"T_edd40_row3_col1\" class=\"data row3 col1\" >15</td>\n",
       "                        <td id=\"T_edd40_row3_col2\" class=\"data row3 col2\" >24</td>\n",
       "            </tr>\n",
       "    </tbody></table>"
      ],
      "text/plain": [
       "<pandas.io.formats.style.Styler at 0x2b71e19f460>"
      ]
     },
     "metadata": {},
     "output_type": "display_data"
    },
    {
     "name": "stdout",
     "output_type": "stream",
     "text": [
      "\n",
      "Количество строк-дубликатов\n"
     ]
    },
    {
     "data": {
      "text/plain": [
       "0"
      ]
     },
     "metadata": {},
     "output_type": "display_data"
    },
    {
     "name": "stdout",
     "output_type": "stream",
     "text": [
      "\n",
      "Количество пропусков в процентном соотношении\n"
     ]
    },
    {
     "data": {
      "text/html": [
       "<style  type=\"text/css\" >\n",
       "#T_72f75_row0_col0,#T_72f75_row1_col0,#T_72f75_row2_col0{\n",
       "            background-color:  #fff7fb;\n",
       "            color:  #000000;\n",
       "        }</style><table id=\"T_72f75_\" ><thead>    <tr>        <th class=\"blank level0\" ></th>        <th class=\"col_heading level0 col0\" >0</th>    </tr></thead><tbody>\n",
       "                <tr>\n",
       "                        <th id=\"T_72f75_level0_row0\" class=\"row_heading level0 row0\" >lyricId</th>\n",
       "                        <td id=\"T_72f75_row0_col0\" class=\"data row0 col0\" >0.000000</td>\n",
       "            </tr>\n",
       "            <tr>\n",
       "                        <th id=\"T_72f75_level0_row1\" class=\"row_heading level0 row1\" >text</th>\n",
       "                        <td id=\"T_72f75_row1_col0\" class=\"data row1 col0\" >0.000000</td>\n",
       "            </tr>\n",
       "            <tr>\n",
       "                        <th id=\"T_72f75_level0_row2\" class=\"row_heading level0 row2\" >track_id</th>\n",
       "                        <td id=\"T_72f75_row2_col0\" class=\"data row2 col0\" >0.000000</td>\n",
       "            </tr>\n",
       "    </tbody></table>"
      ],
      "text/plain": [
       "<pandas.io.formats.style.Styler at 0x2b71e19fc70>"
      ]
     },
     "metadata": {},
     "output_type": "display_data"
    },
    {
     "name": "stdout",
     "output_type": "stream",
     "text": [
      "\n"
     ]
    }
   ],
   "source": [
    "# посмотрим датасет c текстами\n",
    "main_info(df_lyrics)"
   ]
  },
  {
   "cell_type": "markdown",
   "id": "a77bf222-bd94-4a62-8430-0e7829343779",
   "metadata": {},
   "source": [
    "**Вывод после первичного обзора данных**\n",
    "\n",
    "Датасет с разметкой каверов содержит 71597 объектов и 3 столбца, при этом обнаружено **93 %** пропусков в столбце с original_track_id - уникальный идентификатор исходного трека. При этом 4468 значения являются уникальными из 4821 имеющихся данных об уникальных id исходных треков.   \n",
    "\n",
    "Датасет с метаинфромацией содержит 71768 объектов и 7 столбцов, пропуски присутствуют в 2х столбцах:language и  isr (международный id трека).             5Датасет с текстами песен содержит около 99% уникальных значений текстов и 95% уникальных значений lyricId.         \r",
    "Н\r\n",
    "названия колонои соответствуют первоначальному описанию дан. Сразу видим, что есть одинаковые на первый взгляд тексты песен, при этом track_id у них разный, а lyricId одинаковый.\t             т)Типы данных соответствуют содержанию.            cПолных строк дубликатов в разметке каверов и тексте песен нет. Но при ближайшем рассмотрении по столбцам, дубликаты видны.ем наборе данных."
   ]
  },
  {
   "cell_type": "markdown",
   "id": "412cd230-568c-449a-af97-f77d70f0d28a",
   "metadata": {},
   "source": [
    "### Проведем более детальную предобработку наших данных\n",
    "Рассмотрим подробно имеющиеся столбцы"
   ]
  },
  {
   "cell_type": "code",
   "execution_count": 11,
   "id": "ac13377e-ee6d-44d3-9cd2-8f2daaf9c1c6",
   "metadata": {},
   "outputs": [
    {
     "data": {
      "text/html": [
       "<div>\n",
       "<style scoped>\n",
       "    .dataframe tbody tr th:only-of-type {\n",
       "        vertical-align: middle;\n",
       "    }\n",
       "\n",
       "    .dataframe tbody tr th {\n",
       "        vertical-align: top;\n",
       "    }\n",
       "\n",
       "    .dataframe thead th {\n",
       "        text-align: right;\n",
       "    }\n",
       "</style>\n",
       "<table border=\"1\" class=\"dataframe\">\n",
       "  <thead>\n",
       "    <tr style=\"text-align: right;\">\n",
       "      <th></th>\n",
       "      <th>track_id</th>\n",
       "      <th>dttm</th>\n",
       "      <th>title</th>\n",
       "      <th>language</th>\n",
       "      <th>isrc</th>\n",
       "      <th>genres</th>\n",
       "      <th>duration</th>\n",
       "    </tr>\n",
       "  </thead>\n",
       "  <tbody>\n",
       "    <tr>\n",
       "      <th>27012</th>\n",
       "      <td>be0233f57dbb59079929ac646b0b9d5c</td>\n",
       "      <td>2021-07-06 16:38:30</td>\n",
       "      <td>Zivot da stane ne sme</td>\n",
       "      <td>None</td>\n",
       "      <td>ATAJ12100470</td>\n",
       "      <td>[FOLK]</td>\n",
       "      <td>151190.0</td>\n",
       "    </tr>\n",
       "    <tr>\n",
       "      <th>26955</th>\n",
       "      <td>8aff9d28865aaf1fa44e46b82cba0f63</td>\n",
       "      <td>2021-07-06 15:38:37</td>\n",
       "      <td>Burma</td>\n",
       "      <td>None</td>\n",
       "      <td>ATAJ12100470</td>\n",
       "      <td>[FOLK]</td>\n",
       "      <td>179300.0</td>\n",
       "    </tr>\n",
       "    <tr>\n",
       "      <th>51052</th>\n",
       "      <td>196a0973d73122891a426f8334105ce7</td>\n",
       "      <td>2019-03-29 21:00:00</td>\n",
       "      <td>Inní mér syngur vitleysingur</td>\n",
       "      <td>EN</td>\n",
       "      <td>ATN261668711</td>\n",
       "      <td>[FOLKMETAL, METAL]</td>\n",
       "      <td>237010.0</td>\n",
       "    </tr>\n",
       "    <tr>\n",
       "      <th>66395</th>\n",
       "      <td>425761c88ebc69e89c748eb537671953</td>\n",
       "      <td>2018-04-28 19:08:26</td>\n",
       "      <td>Inni Mer Syngur Vitleysingur</td>\n",
       "      <td>None</td>\n",
       "      <td>ATN261668711</td>\n",
       "      <td>[FOLKMETAL, METAL]</td>\n",
       "      <td>237010.0</td>\n",
       "    </tr>\n",
       "    <tr>\n",
       "      <th>51053</th>\n",
       "      <td>aa4a1d4d44890cbc7aae285842bd3ce2</td>\n",
       "      <td>2019-03-29 21:00:00</td>\n",
       "      <td>Nattfödd</td>\n",
       "      <td>EN</td>\n",
       "      <td>ATN261668712</td>\n",
       "      <td>[FOLKMETAL, METAL]</td>\n",
       "      <td>255320.0</td>\n",
       "    </tr>\n",
       "    <tr>\n",
       "      <th>...</th>\n",
       "      <td>...</td>\n",
       "      <td>...</td>\n",
       "      <td>...</td>\n",
       "      <td>...</td>\n",
       "      <td>...</td>\n",
       "      <td>...</td>\n",
       "      <td>...</td>\n",
       "    </tr>\n",
       "    <tr>\n",
       "      <th>42673</th>\n",
       "      <td>9ca51834e2b6a7266ebcb10cf9a00409</td>\n",
       "      <td>2014-09-23 12:08:24</td>\n",
       "      <td>How Far We've Come</td>\n",
       "      <td>None</td>\n",
       "      <td>USTCF1018560</td>\n",
       "      <td>[ROCK, ALLROCK]</td>\n",
       "      <td>200820.0</td>\n",
       "    </tr>\n",
       "    <tr>\n",
       "      <th>42671</th>\n",
       "      <td>2e04e2ca902c24028b3a7bcded51deeb</td>\n",
       "      <td>2014-09-23 12:08:24</td>\n",
       "      <td>Angel</td>\n",
       "      <td>None</td>\n",
       "      <td>USTCF1018563</td>\n",
       "      <td>[ROCK, ALLROCK]</td>\n",
       "      <td>261490.0</td>\n",
       "    </tr>\n",
       "    <tr>\n",
       "      <th>67314</th>\n",
       "      <td>7eb1ce7b0e7ce4c053c1c9af0ebd9634</td>\n",
       "      <td>2018-11-08 18:31:51</td>\n",
       "      <td>Angel (2009)</td>\n",
       "      <td>EN</td>\n",
       "      <td>USTCF1018563</td>\n",
       "      <td>[ROCK, ALLROCK]</td>\n",
       "      <td>261450.0</td>\n",
       "    </tr>\n",
       "    <tr>\n",
       "      <th>67315</th>\n",
       "      <td>90117fc7a8a5ef80c4d3e1e6e39b4f06</td>\n",
       "      <td>2018-11-08 18:31:51</td>\n",
       "      <td>Breathe (2009)</td>\n",
       "      <td>EN</td>\n",
       "      <td>USTCF1018565</td>\n",
       "      <td>[ROCK, ALLROCK]</td>\n",
       "      <td>221970.0</td>\n",
       "    </tr>\n",
       "    <tr>\n",
       "      <th>42675</th>\n",
       "      <td>734cfd17d9b91ed5e6040aeef988d8cc</td>\n",
       "      <td>2014-09-23 12:08:24</td>\n",
       "      <td>Breathe</td>\n",
       "      <td>None</td>\n",
       "      <td>USTCF1018565</td>\n",
       "      <td>[ROCK, ALLROCK]</td>\n",
       "      <td>222010.0</td>\n",
       "    </tr>\n",
       "  </tbody>\n",
       "</table>\n",
       "<p>292 rows × 7 columns</p>\n",
       "</div>"
      ],
      "text/plain": [
       "                               track_id                dttm  \\\n",
       "27012  be0233f57dbb59079929ac646b0b9d5c 2021-07-06 16:38:30   \n",
       "26955  8aff9d28865aaf1fa44e46b82cba0f63 2021-07-06 15:38:37   \n",
       "51052  196a0973d73122891a426f8334105ce7 2019-03-29 21:00:00   \n",
       "66395  425761c88ebc69e89c748eb537671953 2018-04-28 19:08:26   \n",
       "51053  aa4a1d4d44890cbc7aae285842bd3ce2 2019-03-29 21:00:00   \n",
       "...                                 ...                 ...   \n",
       "42673  9ca51834e2b6a7266ebcb10cf9a00409 2014-09-23 12:08:24   \n",
       "42671  2e04e2ca902c24028b3a7bcded51deeb 2014-09-23 12:08:24   \n",
       "67314  7eb1ce7b0e7ce4c053c1c9af0ebd9634 2018-11-08 18:31:51   \n",
       "67315  90117fc7a8a5ef80c4d3e1e6e39b4f06 2018-11-08 18:31:51   \n",
       "42675  734cfd17d9b91ed5e6040aeef988d8cc 2014-09-23 12:08:24   \n",
       "\n",
       "                              title language          isrc  \\\n",
       "27012         Zivot da stane ne sme     None  ATAJ12100470   \n",
       "26955                         Burma     None  ATAJ12100470   \n",
       "51052  Inní mér syngur vitleysingur       EN  ATN261668711   \n",
       "66395  Inni Mer Syngur Vitleysingur     None  ATN261668711   \n",
       "51053                      Nattfödd       EN  ATN261668712   \n",
       "...                             ...      ...           ...   \n",
       "42673            How Far We've Come     None  USTCF1018560   \n",
       "42671                         Angel     None  USTCF1018563   \n",
       "67314                  Angel (2009)       EN  USTCF1018563   \n",
       "67315                Breathe (2009)       EN  USTCF1018565   \n",
       "42675                       Breathe     None  USTCF1018565   \n",
       "\n",
       "                   genres  duration  \n",
       "27012              [FOLK]  151190.0  \n",
       "26955              [FOLK]  179300.0  \n",
       "51052  [FOLKMETAL, METAL]  237010.0  \n",
       "66395  [FOLKMETAL, METAL]  237010.0  \n",
       "51053  [FOLKMETAL, METAL]  255320.0  \n",
       "...                   ...       ...  \n",
       "42673     [ROCK, ALLROCK]  200820.0  \n",
       "42671     [ROCK, ALLROCK]  261490.0  \n",
       "67314     [ROCK, ALLROCK]  261450.0  \n",
       "67315     [ROCK, ALLROCK]  221970.0  \n",
       "42675     [ROCK, ALLROCK]  222010.0  \n",
       "\n",
       "[292 rows x 7 columns]"
      ]
     },
     "execution_count": 11,
     "metadata": {},
     "output_type": "execute_result"
    }
   ],
   "source": [
    "# все дубликаты без пропусков с длительностью больше 0\n",
    "df_meta[df_meta['isrc'].duplicated(keep=False) & df_meta['isrc'].notna() & df_meta['duration'] > 0].sort_values(by='isrc')"
   ]
  },
  {
   "cell_type": "code",
   "execution_count": 12,
   "id": "a622e480-62cc-4331-a1ad-362e5300f799",
   "metadata": {
    "scrolled": true
   },
   "outputs": [
    {
     "data": {
      "text/html": [
       "<div>\n",
       "<style scoped>\n",
       "    .dataframe tbody tr th:only-of-type {\n",
       "        vertical-align: middle;\n",
       "    }\n",
       "\n",
       "    .dataframe tbody tr th {\n",
       "        vertical-align: top;\n",
       "    }\n",
       "\n",
       "    .dataframe thead th {\n",
       "        text-align: right;\n",
       "    }\n",
       "</style>\n",
       "<table border=\"1\" class=\"dataframe\">\n",
       "  <thead>\n",
       "    <tr style=\"text-align: right;\">\n",
       "      <th></th>\n",
       "      <th>lyricId</th>\n",
       "      <th>text</th>\n",
       "      <th>track_id</th>\n",
       "    </tr>\n",
       "  </thead>\n",
       "  <tbody>\n",
       "    <tr>\n",
       "      <th>10676</th>\n",
       "      <td>745f700051961898c65ffdafd9793584</td>\n",
       "      <td>Hearts go astray\\nLeaving hurt when they go\\nI...</td>\n",
       "      <td>0021519c8533f1116591948bbb349aef</td>\n",
       "    </tr>\n",
       "    <tr>\n",
       "      <th>10681</th>\n",
       "      <td>039236cf5355b4a81a7d5e689dbbf00a</td>\n",
       "      <td>Hearts go astray\\nLeaving hurt when they go\\nI...</td>\n",
       "      <td>0021519c8533f1116591948bbb349aef</td>\n",
       "    </tr>\n",
       "    <tr>\n",
       "      <th>3951</th>\n",
       "      <td>28a44505928aa595b7aa8077739338d6</td>\n",
       "      <td>[JUDAS PRIEST (Tipton/Halford)]\\n\\nBehold 'tis...</td>\n",
       "      <td>0027101f608c9be2f149f5a44a18c54d</td>\n",
       "    </tr>\n",
       "    <tr>\n",
       "      <th>4164</th>\n",
       "      <td>331799cafa438af8e3addb797662a695</td>\n",
       "      <td>Туземцы крайне опасны\\nТуземцы пьют залихватск...</td>\n",
       "      <td>018397ef8f12c6130512d443d130d1c3</td>\n",
       "    </tr>\n",
       "    <tr>\n",
       "      <th>8772</th>\n",
       "      <td>699ec896dc3d4fe20a321c09738dc5ca</td>\n",
       "      <td>You lift my heart up when the rest of me is do...</td>\n",
       "      <td>01f62991106226d56f919ab6c138540a</td>\n",
       "    </tr>\n",
       "    <tr>\n",
       "      <th>...</th>\n",
       "      <td>...</td>\n",
       "      <td>...</td>\n",
       "      <td>...</td>\n",
       "    </tr>\n",
       "    <tr>\n",
       "      <th>3059</th>\n",
       "      <td>befa76b6d2f52cb4e4299395c3247e64</td>\n",
       "      <td>Eu juro, eu não te amo, eu só bebi demais, amo...</td>\n",
       "      <td>fefb76ffa5cb3c2f9194de659169859d</td>\n",
       "    </tr>\n",
       "    <tr>\n",
       "      <th>7556</th>\n",
       "      <td>6ba951bfe34b90ab611f63c67caa708f</td>\n",
       "      <td>This night is cold in the kingdom\\nI can feel ...</td>\n",
       "      <td>ff032309afbd44985497077e1f041e97</td>\n",
       "    </tr>\n",
       "    <tr>\n",
       "      <th>11179</th>\n",
       "      <td>510522402a7ade334dbaf1f4d31cebdb</td>\n",
       "      <td>Electro latino\\nYa no sonríe más, se arregla t...</td>\n",
       "      <td>ff28aa02ce71177c7f58f4ebe04eb840</td>\n",
       "    </tr>\n",
       "    <tr>\n",
       "      <th>5990</th>\n",
       "      <td>72729c256481dbe52c3b0f4a61f027df</td>\n",
       "      <td>Left the car at the petrol station\\nStanding t...</td>\n",
       "      <td>ffab3ab6b6f90f7fa46b398053b9e664</td>\n",
       "    </tr>\n",
       "    <tr>\n",
       "      <th>8539</th>\n",
       "      <td>748ffc10cc43b1a7e5524ad11fb9a182</td>\n",
       "      <td>Tonight\\nBe no darkness tonight\\nHold tight\\nL...</td>\n",
       "      <td>ffff9a22aa441db772206280ffb8b52e</td>\n",
       "    </tr>\n",
       "  </tbody>\n",
       "</table>\n",
       "<p>873 rows × 3 columns</p>\n",
       "</div>"
      ],
      "text/plain": [
       "                                lyricId  \\\n",
       "10676  745f700051961898c65ffdafd9793584   \n",
       "10681  039236cf5355b4a81a7d5e689dbbf00a   \n",
       "3951   28a44505928aa595b7aa8077739338d6   \n",
       "4164   331799cafa438af8e3addb797662a695   \n",
       "8772   699ec896dc3d4fe20a321c09738dc5ca   \n",
       "...                                 ...   \n",
       "3059   befa76b6d2f52cb4e4299395c3247e64   \n",
       "7556   6ba951bfe34b90ab611f63c67caa708f   \n",
       "11179  510522402a7ade334dbaf1f4d31cebdb   \n",
       "5990   72729c256481dbe52c3b0f4a61f027df   \n",
       "8539   748ffc10cc43b1a7e5524ad11fb9a182   \n",
       "\n",
       "                                                    text  \\\n",
       "10676  Hearts go astray\\nLeaving hurt when they go\\nI...   \n",
       "10681  Hearts go astray\\nLeaving hurt when they go\\nI...   \n",
       "3951   [JUDAS PRIEST (Tipton/Halford)]\\n\\nBehold 'tis...   \n",
       "4164   Туземцы крайне опасны\\nТуземцы пьют залихватск...   \n",
       "8772   You lift my heart up when the rest of me is do...   \n",
       "...                                                  ...   \n",
       "3059   Eu juro, eu não te amo, eu só bebi demais, amo...   \n",
       "7556   This night is cold in the kingdom\\nI can feel ...   \n",
       "11179  Electro latino\\nYa no sonríe más, se arregla t...   \n",
       "5990   Left the car at the petrol station\\nStanding t...   \n",
       "8539   Tonight\\nBe no darkness tonight\\nHold tight\\nL...   \n",
       "\n",
       "                               track_id  \n",
       "10676  0021519c8533f1116591948bbb349aef  \n",
       "10681  0021519c8533f1116591948bbb349aef  \n",
       "3951   0027101f608c9be2f149f5a44a18c54d  \n",
       "4164   018397ef8f12c6130512d443d130d1c3  \n",
       "8772   01f62991106226d56f919ab6c138540a  \n",
       "...                                 ...  \n",
       "3059   fefb76ffa5cb3c2f9194de659169859d  \n",
       "7556   ff032309afbd44985497077e1f041e97  \n",
       "11179  ff28aa02ce71177c7f58f4ebe04eb840  \n",
       "5990   ffab3ab6b6f90f7fa46b398053b9e664  \n",
       "8539   ffff9a22aa441db772206280ffb8b52e  \n",
       "\n",
       "[873 rows x 3 columns]"
      ]
     },
     "execution_count": 12,
     "metadata": {},
     "output_type": "execute_result"
    }
   ],
   "source": [
    "# все дубликаты без пропусков в lyricId\t\n",
    "df_lyrics[df_lyrics['lyricId'].duplicated(keep=False) & df_lyrics['track_id'].notna() & df_lyrics['text'].notna()].sort_values(by='track_id')"
   ]
  },
  {
   "cell_type": "markdown",
   "id": "3579e89e-0319-4ce7-8cba-e2ef52319947",
   "metadata": {},
   "source": [
    "Обнаружили, что одному isrc может соответствовать несколько уникальных track_id. Это может быть вызвано дублем загрузки или несколько источников текста.\n",
    "\n",
    "Все датасеты содержат общий столбец `track_id`.Объединим датафреймы по столбцу `track id`."
   ]
  },
  {
   "cell_type": "code",
   "execution_count": 13,
   "id": "065f327f-8cc5-45b3-ae00-95123c7a9fc6",
   "metadata": {},
   "outputs": [
    {
     "data": {
      "text/html": [
       "<div>\n",
       "<style scoped>\n",
       "    .dataframe tbody tr th:only-of-type {\n",
       "        vertical-align: middle;\n",
       "    }\n",
       "\n",
       "    .dataframe tbody tr th {\n",
       "        vertical-align: top;\n",
       "    }\n",
       "\n",
       "    .dataframe thead th {\n",
       "        text-align: right;\n",
       "    }\n",
       "</style>\n",
       "<table border=\"1\" class=\"dataframe\">\n",
       "  <thead>\n",
       "    <tr style=\"text-align: right;\">\n",
       "      <th></th>\n",
       "      <th>original_track_id</th>\n",
       "      <th>track_id</th>\n",
       "      <th>track_remake_type</th>\n",
       "      <th>dttm</th>\n",
       "      <th>title</th>\n",
       "      <th>language</th>\n",
       "      <th>isrc</th>\n",
       "      <th>genres</th>\n",
       "      <th>duration</th>\n",
       "    </tr>\n",
       "  </thead>\n",
       "  <tbody>\n",
       "    <tr>\n",
       "      <th>0</th>\n",
       "      <td>eeb69a3cb92300456b6a5f4162093851</td>\n",
       "      <td>eeb69a3cb92300456b6a5f4162093851</td>\n",
       "      <td>ORIGINAL</td>\n",
       "      <td>2009-11-11 21:00:00</td>\n",
       "      <td>Proud Mary</td>\n",
       "      <td>EN</td>\n",
       "      <td>USFI86900049</td>\n",
       "      <td>[ROCK, ALLROCK]</td>\n",
       "      <td>187220.0</td>\n",
       "    </tr>\n",
       "    <tr>\n",
       "      <th>1</th>\n",
       "      <td>fe7ee8fc1959cc7214fa21c4840dff0a</td>\n",
       "      <td>fe7ee8fc1959cc7214fa21c4840dff0a</td>\n",
       "      <td>ORIGINAL</td>\n",
       "      <td>2009-11-11 21:00:00</td>\n",
       "      <td>Fortunate Son</td>\n",
       "      <td>EN</td>\n",
       "      <td>USFI86900065</td>\n",
       "      <td>[ROCK, ALLROCK]</td>\n",
       "      <td>137780.0</td>\n",
       "    </tr>\n",
       "    <tr>\n",
       "      <th>2</th>\n",
       "      <td>cd89fef7ffdd490db800357f47722b20</td>\n",
       "      <td>cd89fef7ffdd490db800357f47722b20</td>\n",
       "      <td>ORIGINAL</td>\n",
       "      <td>2009-09-21 20:00:00</td>\n",
       "      <td>La Camisa Negra</td>\n",
       "      <td>ES</td>\n",
       "      <td>USUL10400965</td>\n",
       "      <td>[POP, FOLK, LATINFOLK]</td>\n",
       "      <td>216840.0</td>\n",
       "    </tr>\n",
       "    <tr>\n",
       "      <th>3</th>\n",
       "      <td>995665640dc319973d3173a74a03860c</td>\n",
       "      <td>995665640dc319973d3173a74a03860c</td>\n",
       "      <td>ORIGINAL</td>\n",
       "      <td>2009-11-16 21:00:00</td>\n",
       "      <td>The Way I Are</td>\n",
       "      <td>EN</td>\n",
       "      <td>USUM70722806</td>\n",
       "      <td>[FOREIGNRAP, RAP]</td>\n",
       "      <td>179660.0</td>\n",
       "    </tr>\n",
       "    <tr>\n",
       "      <th>4</th>\n",
       "      <td>None</td>\n",
       "      <td>d6288499d0083cc34e60a077b7c4b3e1</td>\n",
       "      <td>COVER</td>\n",
       "      <td>2009-09-17 20:00:00</td>\n",
       "      <td>Extraball</td>\n",
       "      <td>EN</td>\n",
       "      <td>FR8Q10900116</td>\n",
       "      <td>[ELECTRONICS]</td>\n",
       "      <td>212620.0</td>\n",
       "    </tr>\n",
       "  </tbody>\n",
       "</table>\n",
       "</div>"
      ],
      "text/plain": [
       "                  original_track_id                          track_id  \\\n",
       "0  eeb69a3cb92300456b6a5f4162093851  eeb69a3cb92300456b6a5f4162093851   \n",
       "1  fe7ee8fc1959cc7214fa21c4840dff0a  fe7ee8fc1959cc7214fa21c4840dff0a   \n",
       "2  cd89fef7ffdd490db800357f47722b20  cd89fef7ffdd490db800357f47722b20   \n",
       "3  995665640dc319973d3173a74a03860c  995665640dc319973d3173a74a03860c   \n",
       "4                              None  d6288499d0083cc34e60a077b7c4b3e1   \n",
       "\n",
       "  track_remake_type                dttm            title language  \\\n",
       "0          ORIGINAL 2009-11-11 21:00:00       Proud Mary       EN   \n",
       "1          ORIGINAL 2009-11-11 21:00:00    Fortunate Son       EN   \n",
       "2          ORIGINAL 2009-09-21 20:00:00  La Camisa Negra       ES   \n",
       "3          ORIGINAL 2009-11-16 21:00:00    The Way I Are       EN   \n",
       "4             COVER 2009-09-17 20:00:00        Extraball       EN   \n",
       "\n",
       "           isrc                  genres  duration  \n",
       "0  USFI86900049         [ROCK, ALLROCK]  187220.0  \n",
       "1  USFI86900065         [ROCK, ALLROCK]  137780.0  \n",
       "2  USUL10400965  [POP, FOLK, LATINFOLK]  216840.0  \n",
       "3  USUM70722806       [FOREIGNRAP, RAP]  179660.0  \n",
       "4  FR8Q10900116           [ELECTRONICS]  212620.0  "
      ]
     },
     "execution_count": 13,
     "metadata": {},
     "output_type": "execute_result"
    }
   ],
   "source": [
    "# объединим датафреймы по столбцу `track id`\n",
    "df_merged = pd.merge(df_covers, df_meta, on='track_id',how='left')\n",
    "\n",
    "# выведем объединенный датафрейма\n",
    "df_merged.head()"
   ]
  },
  {
   "cell_type": "code",
   "execution_count": 14,
   "id": "a98f0abe-1de1-4fa2-a473-c511c9a9c23a",
   "metadata": {},
   "outputs": [],
   "source": [
    "df_union = pd.merge(df_merged, df_lyrics, on='track_id',how='left')"
   ]
  },
  {
   "cell_type": "code",
   "execution_count": 15,
   "id": "d80a1e7c-b79e-4dc8-a315-301ac85f1012",
   "metadata": {
    "scrolled": true
   },
   "outputs": [
    {
     "name": "stdout",
     "output_type": "stream",
     "text": [
      "<class 'pandas.core.frame.DataFrame'>\n",
      "Int64Index: 72571 entries, 0 to 72570\n",
      "Data columns (total 11 columns):\n",
      " #   Column             Non-Null Count  Dtype         \n",
      "---  ------             --------------  -----         \n",
      " 0   original_track_id  5378 non-null   object        \n",
      " 1   track_id           72571 non-null  object        \n",
      " 2   track_remake_type  72571 non-null  object        \n",
      " 3   dttm               72571 non-null  datetime64[ns]\n",
      " 4   title              72571 non-null  object        \n",
      " 5   language           22598 non-null  object        \n",
      " 6   isrc               72242 non-null  object        \n",
      " 7   genres             72571 non-null  object        \n",
      " 8   duration           72571 non-null  float64       \n",
      " 9   lyricId            11097 non-null  object        \n",
      " 10  text               11097 non-null  object        \n",
      "dtypes: datetime64[ns](1), float64(1), object(9)\n",
      "memory usage: 6.6+ MB\n"
     ]
    }
   ],
   "source": [
    "df_union.info()"
   ]
  },
  {
   "cell_type": "code",
   "execution_count": 16,
   "id": "2ed7a26e-3fd7-4b89-8a4d-1df96bb4b833",
   "metadata": {},
   "outputs": [
    {
     "data": {
      "text/plain": [
       "(72571, 11)"
      ]
     },
     "execution_count": 16,
     "metadata": {},
     "output_type": "execute_result"
    }
   ],
   "source": [
    "# проверим размер итоговой таблицы\n",
    "df_union.shape"
   ]
  },
  {
   "cell_type": "code",
   "execution_count": null,
   "id": "61c1d75a-8b32-4362-af91-77e535599de8",
   "metadata": {},
   "outputs": [],
   "source": []
  },
  {
   "cell_type": "markdown",
   "id": "9120896d-16f9-4ecb-b656-77a841a8cb4c",
   "metadata": {},
   "source": [
    "Посмотреть дубликаты по всему датасету не представляется возможным. Посмотрим отдельно по столбцам."
   ]
  },
  {
   "cell_type": "code",
   "execution_count": 17,
   "id": "95d6a477-d2dd-434e-ab32-386b612bbb0d",
   "metadata": {},
   "outputs": [
    {
     "data": {
      "text/plain": [
       "974"
      ]
     },
     "execution_count": 17,
     "metadata": {},
     "output_type": "execute_result"
    }
   ],
   "source": [
    "# проверим дубликаты по customerID\n",
    "df_union['track_id'].duplicated().sum()"
   ]
  },
  {
   "cell_type": "code",
   "execution_count": 18,
   "id": "cf01fb5a-f701-4466-b965-81ac59f6dae0",
   "metadata": {},
   "outputs": [],
   "source": [
    "df_union['track_id'].drop_duplicates(inplace=True)"
   ]
  },
  {
   "cell_type": "code",
   "execution_count": 19,
   "id": "945cf99a-eab0-4da5-81c3-df0f4a40cd71",
   "metadata": {},
   "outputs": [
    {
     "data": {
      "text/plain": [
       "27146"
      ]
     },
     "execution_count": 19,
     "metadata": {},
     "output_type": "execute_result"
    }
   ],
   "source": [
    "df_union['title'].duplicated().sum()"
   ]
  },
  {
   "cell_type": "markdown",
   "id": "b98db1a7-9e61-4432-9706-5492e66fdb59",
   "metadata": {},
   "source": [
    "После объединения всех датафреймов в 1 мы получили больше информации об имеющихся у нас треках."
   ]
  },
  {
   "cell_type": "code",
   "execution_count": 20,
   "id": "9f1d250e-f2ae-449f-8f38-b1ca172079ef",
   "metadata": {},
   "outputs": [],
   "source": [
    "df_group = df_union.groupby('original_track_id')['track_id'].agg('count').reset_index()\n",
    "df_group = df_group.sort_values('track_id')\n",
    "df_group = df_group.tail(20)"
   ]
  },
  {
   "cell_type": "code",
   "execution_count": 21,
   "id": "9195343f-aa6b-4cf6-9eb5-c42ffc107a2f",
   "metadata": {},
   "outputs": [
    {
     "data": {
      "image/png": "[encoded data removed]",
      "text/plain": [
       "<Figure size 640x480 with 1 Axes>"
      ]
     },
     "metadata": {},
     "output_type": "display_data"
    }
   ],
   "source": [
    "plt.title('Топ 10 количество каверов для оригинального трека')\n",
    "plt.barh(df_group['original_track_id'], df_group['track_id'])\n",
    "plt.xlabel('Количество треков')\n",
    "plt.ylabel('id оригинального трека')\n",
    "plt.show()"
   ]
  },
  {
   "cell_type": "code",
   "execution_count": null,
   "id": "c0c05fcc-70d9-4095-a28c-c0a6bef8f446",
   "metadata": {},
   "outputs": [],
   "source": []
  },
  {
   "cell_type": "code",
   "execution_count": 22,
   "id": "8d460bf5-50bf-4631-b5af-9a5b4fc64bec",
   "metadata": {},
   "outputs": [
    {
     "data": {
      "text/plain": [
       "track_remake_type  original_track_id               \n",
       "COVER              f3e5e9db509f9b6f6d93b9c38e4e1324    39\n",
       "                   17a163f6ab3de102b49599f5577866fc    32\n",
       "                   53a04991308c2cc9179fdd401fea83a3    32\n",
       "                   deb9b9598176a0bab1212d430b10bd04    31\n",
       "                   9050384cce6c221c39d6e25d02561612    27\n",
       "Name: original_track_id, dtype: int64"
      ]
     },
     "execution_count": 22,
     "metadata": {},
     "output_type": "execute_result"
    }
   ],
   "source": [
    "grouped_data = df_union.groupby(['track_remake_type'])['original_track_id'].value_counts()\n",
    "\n",
    "grouped_data.head()"
   ]
  },
  {
   "cell_type": "code",
   "execution_count": 23,
   "id": "ff692cb3-435e-49ea-828a-c1c0834411f6",
   "metadata": {},
   "outputs": [
    {
     "data": {
      "text/plain": [
       "track_remake_type  title                    \n",
       "COVER              Morena                       81\n",
       "                   Rolê                         72\n",
       "                   Wicked Game                  69\n",
       "                   Esquema Preferido            66\n",
       "                   Facas                        57\n",
       "                                                ..\n",
       "ORIGINAL           создавай                      1\n",
       "                   сон                           1\n",
       "                   там, где хорошо               1\n",
       "                   финиш                         1\n",
       "                   я краснею при тебе как...     1\n",
       "Name: title, Length: 46165, dtype: int64"
      ]
     },
     "execution_count": 23,
     "metadata": {},
     "output_type": "execute_result"
    }
   ],
   "source": [
    "# cгруппировали данные по количеству названий песен для категории кавер-оригинал\n",
    "grouped_data1 = df_union.groupby(['track_remake_type'])['title'].value_counts()\n",
    "grouped_data1 "
   ]
  },
  {
   "cell_type": "code",
   "execution_count": 24,
   "id": "adb322d1-2a2a-4aa2-a5c8-14ce191eba66",
   "metadata": {},
   "outputs": [
    {
     "data": {
      "text/plain": [
       "track_remake_type  track_id                        \n",
       "COVER              e8fac665a49a756598e82b8170086324    10\n",
       "                   a315487f8cf61d8bbbf1468546607062     9\n",
       "                   ecfcc3542d9219bf01cd5fdf92821b79     9\n",
       "                   17df7b240af924f49e8d8cecb1ec02a5     8\n",
       "                   8af2e460aed489e82f1099f25a14a51f     8\n",
       "                                                       ..\n",
       "ORIGINAL           ffea3e3b0cb0a8b457b1451070f05991     1\n",
       "                   ffeccd6756798d7263f5191764496fe4     1\n",
       "                   ffed644410f9ae8c0b4668dfe7c31944     1\n",
       "                   fff177e8cb2740a02ee8a5fbe77268fb     1\n",
       "                   ffff9a22aa441db772206280ffb8b52e     1\n",
       "Name: track_id, Length: 71597, dtype: int64"
      ]
     },
     "execution_count": 24,
     "metadata": {},
     "output_type": "execute_result"
    }
   ],
   "source": [
    "grouped_data2 = df_union.groupby(['track_remake_type'])['track_id'].value_counts()\n",
    "grouped_data2 "
   ]
  },
  {
   "cell_type": "code",
   "execution_count": 25,
   "id": "7a1591f5-347d-41a3-a247-57d6e47878d1",
   "metadata": {},
   "outputs": [
    {
     "data": {
      "text/plain": [
       "track_remake_type  dttm               \n",
       "COVER              2013-03-11 20:00:00    838\n",
       "                   2021-08-30 21:00:00    209\n",
       "                   2012-02-29 20:00:00    186\n",
       "                   2018-04-14 21:00:00    138\n",
       "                   2021-12-06 21:00:00    137\n",
       "                                         ... \n",
       "ORIGINAL           2023-09-19 21:00:00      1\n",
       "                   2023-09-24 21:00:00      1\n",
       "                   2023-09-26 16:30:13      1\n",
       "                   2023-10-07 21:00:00      1\n",
       "                   2023-10-08 21:00:00      1\n",
       "Name: dttm, Length: 28438, dtype: int64"
      ]
     },
     "execution_count": 25,
     "metadata": {},
     "output_type": "execute_result"
    }
   ],
   "source": [
    "# cгруппировали данные по количеству песен в определенную дату\n",
    "grouped_data3 = df_union.groupby(['track_remake_type'])['dttm'].value_counts()\n",
    "grouped_data3 "
   ]
  },
  {
   "cell_type": "code",
   "execution_count": 26,
   "id": "28ae2572-c09a-4e2b-a2e2-6d817628f9da",
   "metadata": {},
   "outputs": [
    {
     "data": {
      "text/plain": [
       "dttm                 track_remake_type\n",
       "2009-08-10 17:32:06  COVER                1\n",
       "2009-08-10 20:32:59  COVER                1\n",
       "2009-08-10 20:44:08  COVER                1\n",
       "2009-09-14 11:31:37  COVER                1\n",
       "2009-09-14 11:31:43  COVER                1\n",
       "                                         ..\n",
       "2023-10-07 21:00:00  ORIGINAL             1\n",
       "2023-10-08 21:00:00  COVER                1\n",
       "                     ORIGINAL             1\n",
       "2023-10-17 21:00:00  COVER                5\n",
       "2023-10-18 21:00:00  COVER                1\n",
       "Name: track_remake_type, Length: 28438, dtype: int64"
      ]
     },
     "execution_count": 26,
     "metadata": {},
     "output_type": "execute_result"
    }
   ],
   "source": [
    "# cгруппировали данные по количеству названий песен для категории кавер-оригинал\n",
    "grouped_data3 = df_union.groupby(['dttm'])['track_remake_type'].value_counts()\n",
    "grouped_data3 "
   ]
  },
  {
   "cell_type": "code",
   "execution_count": null,
   "id": "ad700aca-c17f-483b-8e13-1e68988fb9ac",
   "metadata": {},
   "outputs": [],
   "source": []
  },
  {
   "cell_type": "markdown",
   "id": "bd2c7236-8e44-4d2c-8f1a-564968387551",
   "metadata": {},
   "source": [
    "Мысли вслух\n",
    "\n",
    "Перед нами стоит задача бинарной классификации. Явного таргета у нас нет, поэтому нам следует сгенерировать новый бинарный признак по столбцу track_remake_type. Следовательно, создадим новый столбец, где '1' - COVER, а '0' - ORIGINAL. После этого удалить столбец 'track_remake_type'."
   ]
  },
  {
   "cell_type": "code",
   "execution_count": 27,
   "id": "76086ee5-051f-4756-b703-9cebbe843b3f",
   "metadata": {},
   "outputs": [],
   "source": [
    "df_union['target'] = np.where(df_union['track_remake_type']== 'ORIGINAL',0,1)"
   ]
  },
  {
   "cell_type": "code",
   "execution_count": 28,
   "id": "5aea33f7-c87f-4a05-a951-72e5305efaff",
   "metadata": {},
   "outputs": [
    {
     "name": "stdout",
     "output_type": "stream",
     "text": [
      "<class 'pandas.core.frame.DataFrame'>\n",
      "Int64Index: 72571 entries, 0 to 72570\n",
      "Data columns (total 12 columns):\n",
      " #   Column             Non-Null Count  Dtype         \n",
      "---  ------             --------------  -----         \n",
      " 0   original_track_id  5378 non-null   object        \n",
      " 1   track_id           72571 non-null  object        \n",
      " 2   track_remake_type  72571 non-null  object        \n",
      " 3   dttm               72571 non-null  datetime64[ns]\n",
      " 4   title              72571 non-null  object        \n",
      " 5   language           22598 non-null  object        \n",
      " 6   isrc               72242 non-null  object        \n",
      " 7   genres             72571 non-null  object        \n",
      " 8   duration           72571 non-null  float64       \n",
      " 9   lyricId            11097 non-null  object        \n",
      " 10  text               11097 non-null  object        \n",
      " 11  target             72571 non-null  int32         \n",
      "dtypes: datetime64[ns](1), float64(1), int32(1), object(9)\n",
      "memory usage: 6.9+ MB\n"
     ]
    }
   ],
   "source": [
    "df_union.info()"
   ]
  },
  {
   "cell_type": "code",
   "execution_count": 29,
   "id": "a23fd312-969f-4dea-93b5-99a3dbb13ef1",
   "metadata": {},
   "outputs": [
    {
     "data": {
      "text/plain": [
       "original_track_id    67193\n",
       "track_id                 0\n",
       "track_remake_type        0\n",
       "dttm                     0\n",
       "title                    0\n",
       "language             49973\n",
       "isrc                   329\n",
       "genres                   0\n",
       "duration                 0\n",
       "lyricId              61474\n",
       "text                 61474\n",
       "target                   0\n",
       "dtype: int64"
      ]
     },
     "execution_count": 29,
     "metadata": {},
     "output_type": "execute_result"
    }
   ],
   "source": [
    "# посмотрим пропуски\n",
    "df_union.isna().sum() "
   ]
  },
  {
   "cell_type": "code",
   "execution_count": 30,
   "id": "ad7a0189-f568-419a-9e30-a0a8fea26954",
   "metadata": {},
   "outputs": [
    {
     "data": {
      "text/plain": [
       "974"
      ]
     },
     "execution_count": 30,
     "metadata": {},
     "output_type": "execute_result"
    }
   ],
   "source": [
    "# проверим дубликаты по customerID\n",
    "df_union['track_id'].duplicated().sum()"
   ]
  },
  {
   "cell_type": "code",
   "execution_count": 31,
   "id": "517c8540-6f8c-444a-9f2c-70da5caf768f",
   "metadata": {},
   "outputs": [
    {
     "data": {
      "text/plain": [
       "1455"
      ]
     },
     "execution_count": 31,
     "metadata": {},
     "output_type": "execute_result"
    }
   ],
   "source": [
    "\n",
    "df_union['isrc'].duplicated().sum()"
   ]
  },
  {
   "cell_type": "code",
   "execution_count": 32,
   "id": "7c823f77-63ed-47b0-957e-620d5691ef54",
   "metadata": {},
   "outputs": [
    {
     "data": {
      "text/plain": [
       "68102"
      ]
     },
     "execution_count": 32,
     "metadata": {},
     "output_type": "execute_result"
    }
   ],
   "source": [
    "# проверим дубликаты по 'original_track_id'\n",
    "df_union['original_track_id'].duplicated().sum()"
   ]
  },
  {
   "cell_type": "code",
   "execution_count": 33,
   "id": "5aeb1870-bc29-4589-8f36-05f173de4740",
   "metadata": {},
   "outputs": [
    {
     "name": "stdout",
     "output_type": "stream",
     "text": [
      "Данные представлены за период c 2009-08-10 17:32:06 по 2023-10-18 21:00:00\n"
     ]
    }
   ],
   "source": [
    "# посмотрим период за который у нас есть данные \n",
    "max_date = df_union['dttm'].max()\n",
    "min_date = df_union['dttm'].min()\n",
    "print(f'Данные представлены за период c {min_date} по {max_date}')"
   ]
  },
  {
   "cell_type": "markdown",
   "id": "37fe2065-8bf2-4794-86d3-9144f90e399d",
   "metadata": {},
   "source": [
    "**Изучим, что такое ISRC**    \n",
    "ISRC – уникальный код, который однозначно и навсегда определяет музыкальную или видеозапись.\r\n",
    "\r\n",
    "Именно запись, не песню в целом. Разным версиям одной песни или видео (ремиксы, вырезки и т. д.) должны быть присвоены различные уникальные кодыКод можно присваивать записи как сразу после ее написания, так и «задним числом» – через любой промежуток времени после ее публикации.\r",
    "– ISRC является самым простым и оперативным способом идентификации владельца прав на музыкальное или видео произведение в случае, если после присвоения кода владелец прав не менялся.\r\n",
    "\r\n",
    "– В большинстве случаев, с помощью кода можно определить год и страну написания записи.\n",
    ".\r\n",
    "\n",
    "ISRC RU — B94 — 13 — 00137 (ISRC RUB941300137)\n",
    "ISRC RU B94 13 00137\n",
    "Идентификатор кода Код страны (2 буквы)RU = Россия Код регистранта(3 символа)B94 = Концертно-продюсерский центр Год присваивания кода(2 цифры)13 = 2013 Номер записи(5 цифр). "
   ]
  },
  {
   "cell_type": "code",
   "execution_count": 34,
   "id": "d95b8da3-cc57-43a5-b593-af183cd12645",
   "metadata": {},
   "outputs": [
    {
     "data": {
      "text/plain": [
       "0        69\n",
       "1        69\n",
       "2        69\n",
       "3        04\n",
       "4        07\n",
       "         ..\n",
       "72566    23\n",
       "72567    23\n",
       "72568    23\n",
       "72569    00\n",
       "72570    23\n",
       "Name: year_of_track, Length: 72571, dtype: object"
      ]
     },
     "execution_count": 34,
     "metadata": {},
     "output_type": "execute_result"
    }
   ],
   "source": [
    "# Извлекаем год из столбца isrc\n",
    "df_union['year_of_track'] = df_union['isrc'].str[5:7]\n",
    "df_union['year_of_track'] "
   ]
  },
  {
   "cell_type": "code",
   "execution_count": 35,
   "id": "24ab8278-a339-47d6-8d42-92beed04d114",
   "metadata": {},
   "outputs": [
    {
     "data": {
      "text/html": [
       "<div>\n",
       "<style scoped>\n",
       "    .dataframe tbody tr th:only-of-type {\n",
       "        vertical-align: middle;\n",
       "    }\n",
       "\n",
       "    .dataframe tbody tr th {\n",
       "        vertical-align: top;\n",
       "    }\n",
       "\n",
       "    .dataframe thead th {\n",
       "        text-align: right;\n",
       "    }\n",
       "</style>\n",
       "<table border=\"1\" class=\"dataframe\">\n",
       "  <thead>\n",
       "    <tr style=\"text-align: right;\">\n",
       "      <th></th>\n",
       "      <th>original_track_id</th>\n",
       "      <th>track_id</th>\n",
       "      <th>track_remake_type</th>\n",
       "      <th>dttm</th>\n",
       "      <th>title</th>\n",
       "      <th>language</th>\n",
       "      <th>isrc</th>\n",
       "      <th>genres</th>\n",
       "      <th>duration</th>\n",
       "      <th>lyricId</th>\n",
       "      <th>text</th>\n",
       "      <th>target</th>\n",
       "      <th>year_of_track</th>\n",
       "    </tr>\n",
       "  </thead>\n",
       "  <tbody>\n",
       "    <tr>\n",
       "      <th>0</th>\n",
       "      <td>eeb69a3cb92300456b6a5f4162093851</td>\n",
       "      <td>eeb69a3cb92300456b6a5f4162093851</td>\n",
       "      <td>ORIGINAL</td>\n",
       "      <td>2009-11-11 21:00:00</td>\n",
       "      <td>Proud Mary</td>\n",
       "      <td>EN</td>\n",
       "      <td>USFI86900049</td>\n",
       "      <td>[ROCK, ALLROCK]</td>\n",
       "      <td>187220.0</td>\n",
       "      <td>260f21d9f48e8de874a6e844159ddf28</td>\n",
       "      <td>Left a good job in the city\\nWorkin' for the m...</td>\n",
       "      <td>0</td>\n",
       "      <td>69</td>\n",
       "    </tr>\n",
       "    <tr>\n",
       "      <th>1</th>\n",
       "      <td>eeb69a3cb92300456b6a5f4162093851</td>\n",
       "      <td>eeb69a3cb92300456b6a5f4162093851</td>\n",
       "      <td>ORIGINAL</td>\n",
       "      <td>2009-11-11 21:00:00</td>\n",
       "      <td>Proud Mary</td>\n",
       "      <td>EN</td>\n",
       "      <td>USFI86900049</td>\n",
       "      <td>[ROCK, ALLROCK]</td>\n",
       "      <td>187220.0</td>\n",
       "      <td>f3331cf99637ee24559242d13d8cf259</td>\n",
       "      <td>Left a good job in the city\\nWorkin' for the m...</td>\n",
       "      <td>0</td>\n",
       "      <td>69</td>\n",
       "    </tr>\n",
       "    <tr>\n",
       "      <th>2</th>\n",
       "      <td>fe7ee8fc1959cc7214fa21c4840dff0a</td>\n",
       "      <td>fe7ee8fc1959cc7214fa21c4840dff0a</td>\n",
       "      <td>ORIGINAL</td>\n",
       "      <td>2009-11-11 21:00:00</td>\n",
       "      <td>Fortunate Son</td>\n",
       "      <td>EN</td>\n",
       "      <td>USFI86900065</td>\n",
       "      <td>[ROCK, ALLROCK]</td>\n",
       "      <td>137780.0</td>\n",
       "      <td>2498827bd11eca5846270487e4960080</td>\n",
       "      <td>Some folks are born made to wave the flag\\nOoh...</td>\n",
       "      <td>0</td>\n",
       "      <td>69</td>\n",
       "    </tr>\n",
       "    <tr>\n",
       "      <th>3</th>\n",
       "      <td>cd89fef7ffdd490db800357f47722b20</td>\n",
       "      <td>cd89fef7ffdd490db800357f47722b20</td>\n",
       "      <td>ORIGINAL</td>\n",
       "      <td>2009-09-21 20:00:00</td>\n",
       "      <td>La Camisa Negra</td>\n",
       "      <td>ES</td>\n",
       "      <td>USUL10400965</td>\n",
       "      <td>[POP, FOLK, LATINFOLK]</td>\n",
       "      <td>216840.0</td>\n",
       "      <td>5237001311d4062bf2b80de30652bf58</td>\n",
       "      <td>Uno por pobre y feo, hombre\\nPero antoja'o, ay...</td>\n",
       "      <td>0</td>\n",
       "      <td>04</td>\n",
       "    </tr>\n",
       "    <tr>\n",
       "      <th>4</th>\n",
       "      <td>995665640dc319973d3173a74a03860c</td>\n",
       "      <td>995665640dc319973d3173a74a03860c</td>\n",
       "      <td>ORIGINAL</td>\n",
       "      <td>2009-11-16 21:00:00</td>\n",
       "      <td>The Way I Are</td>\n",
       "      <td>EN</td>\n",
       "      <td>USUM70722806</td>\n",
       "      <td>[FOREIGNRAP, RAP]</td>\n",
       "      <td>179660.0</td>\n",
       "      <td>e5b1b57090b728e8d98d2b4d9b781bf4</td>\n",
       "      <td>Yeah!... yeah!... remember the time, baby... y...</td>\n",
       "      <td>0</td>\n",
       "      <td>07</td>\n",
       "    </tr>\n",
       "  </tbody>\n",
       "</table>\n",
       "</div>"
      ],
      "text/plain": [
       "                  original_track_id                          track_id  \\\n",
       "0  eeb69a3cb92300456b6a5f4162093851  eeb69a3cb92300456b6a5f4162093851   \n",
       "1  eeb69a3cb92300456b6a5f4162093851  eeb69a3cb92300456b6a5f4162093851   \n",
       "2  fe7ee8fc1959cc7214fa21c4840dff0a  fe7ee8fc1959cc7214fa21c4840dff0a   \n",
       "3  cd89fef7ffdd490db800357f47722b20  cd89fef7ffdd490db800357f47722b20   \n",
       "4  995665640dc319973d3173a74a03860c  995665640dc319973d3173a74a03860c   \n",
       "\n",
       "  track_remake_type                dttm            title language  \\\n",
       "0          ORIGINAL 2009-11-11 21:00:00       Proud Mary       EN   \n",
       "1          ORIGINAL 2009-11-11 21:00:00       Proud Mary       EN   \n",
       "2          ORIGINAL 2009-11-11 21:00:00    Fortunate Son       EN   \n",
       "3          ORIGINAL 2009-09-21 20:00:00  La Camisa Negra       ES   \n",
       "4          ORIGINAL 2009-11-16 21:00:00    The Way I Are       EN   \n",
       "\n",
       "           isrc                  genres  duration  \\\n",
       "0  USFI86900049         [ROCK, ALLROCK]  187220.0   \n",
       "1  USFI86900049         [ROCK, ALLROCK]  187220.0   \n",
       "2  USFI86900065         [ROCK, ALLROCK]  137780.0   \n",
       "3  USUL10400965  [POP, FOLK, LATINFOLK]  216840.0   \n",
       "4  USUM70722806       [FOREIGNRAP, RAP]  179660.0   \n",
       "\n",
       "                            lyricId  \\\n",
       "0  260f21d9f48e8de874a6e844159ddf28   \n",
       "1  f3331cf99637ee24559242d13d8cf259   \n",
       "2  2498827bd11eca5846270487e4960080   \n",
       "3  5237001311d4062bf2b80de30652bf58   \n",
       "4  e5b1b57090b728e8d98d2b4d9b781bf4   \n",
       "\n",
       "                                                text  target year_of_track  \n",
       "0  Left a good job in the city\\nWorkin' for the m...       0            69  \n",
       "1  Left a good job in the city\\nWorkin' for the m...       0            69  \n",
       "2  Some folks are born made to wave the flag\\nOoh...       0            69  \n",
       "3  Uno por pobre y feo, hombre\\nPero antoja'o, ay...       0            04  \n",
       "4  Yeah!... yeah!... remember the time, baby... y...       0            07  "
      ]
     },
     "execution_count": 35,
     "metadata": {},
     "output_type": "execute_result"
    }
   ],
   "source": [
    "df_union.head()"
   ]
  },
  {
   "cell_type": "code",
   "execution_count": 36,
   "id": "480f15c1-b04f-4644-a1e8-4d027ee186d8",
   "metadata": {},
   "outputs": [
    {
     "data": {
      "text/plain": [
       "0        FI\n",
       "1        FI\n",
       "2        FI\n",
       "3        UL\n",
       "4        UM\n",
       "         ..\n",
       "72566    AG\n",
       "72567    AH\n",
       "72568    AH\n",
       "72569    RU\n",
       "72570    A0\n",
       "Name: country_of_track, Length: 72571, dtype: object"
      ]
     },
     "execution_count": 36,
     "metadata": {},
     "output_type": "execute_result"
    }
   ],
   "source": [
    "# Извлекаем страну из столбца isrc\n",
    "df_union['country_of_track'] = df_union['isrc'].str[2:4]\n",
    "df_union['country_of_track'] "
   ]
  },
  {
   "cell_type": "code",
   "execution_count": 37,
   "id": "4684e020-2915-4474-a40a-1172e52e5301",
   "metadata": {},
   "outputs": [
    {
     "data": {
      "text/plain": [
       "array([2009, 2010, 2011, 2012, 2013, 2014, 2015, 2016, 2017, 2018, 2019,\n",
       "       2020, 2021, 2022, 2023], dtype=int64)"
      ]
     },
     "execution_count": 37,
     "metadata": {},
     "output_type": "execute_result"
    }
   ],
   "source": [
    "# получим информацию о годах появления информации о треке\n",
    "df_union['dttm'].dt.year.sort_values().unique()"
   ]
  },
  {
   "cell_type": "code",
   "execution_count": 38,
   "id": "9dde65f8-27a4-4ff8-a934-3bcc6bd0c0b4",
   "metadata": {},
   "outputs": [],
   "source": [
    "df_union['year_of_relize'] = pd.to_datetime(df_union['dttm'], utc=True).dt.year"
   ]
  },
  {
   "cell_type": "code",
   "execution_count": 39,
   "id": "1bda318b-42d3-4dec-b708-96fd9fb72ed5",
   "metadata": {},
   "outputs": [
    {
     "data": {
      "text/plain": [
       "lyricId                           track_id                        \n",
       "000be29f570db2ccdab76e0197274e83  004ebdf661399f4edaa3c35aef6741d2    1\n",
       "0011ebf6e2f4e8c0d9d0cd3616e06414  c3047b0018ecde22f44357ea7b159a1b    1\n",
       "00218ccd88f32b08b25fbd986f5d35b5  2449a50bbafbdb143d601d613760ca0a    1\n",
       "0021c4234474a888a4c137031e8fb44e  483c39e52db86cf9c37691383035a32a    1\n",
       "0023527d56db427ac10faae97d314863  73d281bd290358921949e3b1bac7c4ff    1\n",
       "                                                                     ..\n",
       "ffe9d9141304723987a544f613684bc3  510404d4a0c5bf41b3e30eb1bca0bcac    1\n",
       "ffe9f73b579abae57ea04b52c6c5a64e  f9749b71158c6e65c76af45b8773492c    1\n",
       "fff249858b2d160946da7b8613aa15da  7a459e7f55ee67ca271bdc7275dd7413    1\n",
       "fff827dd62e29ed99a1bbd85c07b8f84  3a067314626725cf82f451d9b77619f2    1\n",
       "fff9fde7068943183f84ab56d6b3b3fb  76296f6a4b91025100b5667d1b404dd4    1\n",
       "Name: track_id, Length: 11097, dtype: int64"
      ]
     },
     "execution_count": 39,
     "metadata": {},
     "output_type": "execute_result"
    }
   ],
   "source": [
    "# cгруппировали данные по количеству названий песен для категории кавер-оригинал\n",
    "grouped_data3 = df_union.groupby(['lyricId'])['track_id'].value_counts()\n",
    "grouped_data3 "
   ]
  },
  {
   "cell_type": "code",
   "execution_count": 40,
   "id": "01a3fcee-9b4e-4436-abb0-bb2f13134b46",
   "metadata": {},
   "outputs": [
    {
     "data": {
      "text/html": [
       "<div>\n",
       "<style scoped>\n",
       "    .dataframe tbody tr th:only-of-type {\n",
       "        vertical-align: middle;\n",
       "    }\n",
       "\n",
       "    .dataframe tbody tr th {\n",
       "        vertical-align: top;\n",
       "    }\n",
       "\n",
       "    .dataframe thead th {\n",
       "        text-align: right;\n",
       "    }\n",
       "</style>\n",
       "<table border=\"1\" class=\"dataframe\">\n",
       "  <thead>\n",
       "    <tr style=\"text-align: right;\">\n",
       "      <th></th>\n",
       "      <th>original_track_id</th>\n",
       "      <th>track_id</th>\n",
       "      <th>track_remake_type</th>\n",
       "      <th>dttm</th>\n",
       "      <th>title</th>\n",
       "      <th>language</th>\n",
       "      <th>isrc</th>\n",
       "      <th>genres</th>\n",
       "      <th>duration</th>\n",
       "      <th>lyricId</th>\n",
       "      <th>text</th>\n",
       "      <th>target</th>\n",
       "      <th>year_of_track</th>\n",
       "      <th>country_of_track</th>\n",
       "      <th>year_of_relize</th>\n",
       "    </tr>\n",
       "  </thead>\n",
       "  <tbody>\n",
       "    <tr>\n",
       "      <th>0</th>\n",
       "      <td>eeb69a3cb92300456b6a5f4162093851</td>\n",
       "      <td>eeb69a3cb92300456b6a5f4162093851</td>\n",
       "      <td>ORIGINAL</td>\n",
       "      <td>2009-11-11 21:00:00</td>\n",
       "      <td>Proud Mary</td>\n",
       "      <td>EN</td>\n",
       "      <td>USFI86900049</td>\n",
       "      <td>[ROCK, ALLROCK]</td>\n",
       "      <td>187220.0</td>\n",
       "      <td>260f21d9f48e8de874a6e844159ddf28</td>\n",
       "      <td>Left a good job in the city\\nWorkin' for the m...</td>\n",
       "      <td>0</td>\n",
       "      <td>69</td>\n",
       "      <td>FI</td>\n",
       "      <td>2009</td>\n",
       "    </tr>\n",
       "    <tr>\n",
       "      <th>1</th>\n",
       "      <td>eeb69a3cb92300456b6a5f4162093851</td>\n",
       "      <td>eeb69a3cb92300456b6a5f4162093851</td>\n",
       "      <td>ORIGINAL</td>\n",
       "      <td>2009-11-11 21:00:00</td>\n",
       "      <td>Proud Mary</td>\n",
       "      <td>EN</td>\n",
       "      <td>USFI86900049</td>\n",
       "      <td>[ROCK, ALLROCK]</td>\n",
       "      <td>187220.0</td>\n",
       "      <td>f3331cf99637ee24559242d13d8cf259</td>\n",
       "      <td>Left a good job in the city\\nWorkin' for the m...</td>\n",
       "      <td>0</td>\n",
       "      <td>69</td>\n",
       "      <td>FI</td>\n",
       "      <td>2009</td>\n",
       "    </tr>\n",
       "    <tr>\n",
       "      <th>2</th>\n",
       "      <td>fe7ee8fc1959cc7214fa21c4840dff0a</td>\n",
       "      <td>fe7ee8fc1959cc7214fa21c4840dff0a</td>\n",
       "      <td>ORIGINAL</td>\n",
       "      <td>2009-11-11 21:00:00</td>\n",
       "      <td>Fortunate Son</td>\n",
       "      <td>EN</td>\n",
       "      <td>USFI86900065</td>\n",
       "      <td>[ROCK, ALLROCK]</td>\n",
       "      <td>137780.0</td>\n",
       "      <td>2498827bd11eca5846270487e4960080</td>\n",
       "      <td>Some folks are born made to wave the flag\\nOoh...</td>\n",
       "      <td>0</td>\n",
       "      <td>69</td>\n",
       "      <td>FI</td>\n",
       "      <td>2009</td>\n",
       "    </tr>\n",
       "    <tr>\n",
       "      <th>3</th>\n",
       "      <td>cd89fef7ffdd490db800357f47722b20</td>\n",
       "      <td>cd89fef7ffdd490db800357f47722b20</td>\n",
       "      <td>ORIGINAL</td>\n",
       "      <td>2009-09-21 20:00:00</td>\n",
       "      <td>La Camisa Negra</td>\n",
       "      <td>ES</td>\n",
       "      <td>USUL10400965</td>\n",
       "      <td>[POP, FOLK, LATINFOLK]</td>\n",
       "      <td>216840.0</td>\n",
       "      <td>5237001311d4062bf2b80de30652bf58</td>\n",
       "      <td>Uno por pobre y feo, hombre\\nPero antoja'o, ay...</td>\n",
       "      <td>0</td>\n",
       "      <td>04</td>\n",
       "      <td>UL</td>\n",
       "      <td>2009</td>\n",
       "    </tr>\n",
       "    <tr>\n",
       "      <th>4</th>\n",
       "      <td>995665640dc319973d3173a74a03860c</td>\n",
       "      <td>995665640dc319973d3173a74a03860c</td>\n",
       "      <td>ORIGINAL</td>\n",
       "      <td>2009-11-16 21:00:00</td>\n",
       "      <td>The Way I Are</td>\n",
       "      <td>EN</td>\n",
       "      <td>USUM70722806</td>\n",
       "      <td>[FOREIGNRAP, RAP]</td>\n",
       "      <td>179660.0</td>\n",
       "      <td>e5b1b57090b728e8d98d2b4d9b781bf4</td>\n",
       "      <td>Yeah!... yeah!... remember the time, baby... y...</td>\n",
       "      <td>0</td>\n",
       "      <td>07</td>\n",
       "      <td>UM</td>\n",
       "      <td>2009</td>\n",
       "    </tr>\n",
       "    <tr>\n",
       "      <th>...</th>\n",
       "      <td>...</td>\n",
       "      <td>...</td>\n",
       "      <td>...</td>\n",
       "      <td>...</td>\n",
       "      <td>...</td>\n",
       "      <td>...</td>\n",
       "      <td>...</td>\n",
       "      <td>...</td>\n",
       "      <td>...</td>\n",
       "      <td>...</td>\n",
       "      <td>...</td>\n",
       "      <td>...</td>\n",
       "      <td>...</td>\n",
       "      <td>...</td>\n",
       "      <td>...</td>\n",
       "    </tr>\n",
       "    <tr>\n",
       "      <th>72566</th>\n",
       "      <td>4788e0bf61d80ef5ec9380aa8a8119d9</td>\n",
       "      <td>4788e0bf61d80ef5ec9380aa8a8119d9</td>\n",
       "      <td>ORIGINAL</td>\n",
       "      <td>2023-09-28 21:00:00</td>\n",
       "      <td>Милый, прощай</td>\n",
       "      <td>None</td>\n",
       "      <td>RUAGT2312928</td>\n",
       "      <td>[POP, RUSPOP]</td>\n",
       "      <td>178980.0</td>\n",
       "      <td>NaN</td>\n",
       "      <td>NaN</td>\n",
       "      <td>0</td>\n",
       "      <td>23</td>\n",
       "      <td>AG</td>\n",
       "      <td>2023</td>\n",
       "    </tr>\n",
       "    <tr>\n",
       "      <th>72567</th>\n",
       "      <td>None</td>\n",
       "      <td>78b2db35476f134dc3cdfbf4d77ba034</td>\n",
       "      <td>COVER</td>\n",
       "      <td>2023-10-01 13:55:45</td>\n",
       "      <td>Habits (Stay Hight)</td>\n",
       "      <td>EN</td>\n",
       "      <td>TCAHK2396284</td>\n",
       "      <td>[ELECTRONICS]</td>\n",
       "      <td>149570.0</td>\n",
       "      <td>NaN</td>\n",
       "      <td>NaN</td>\n",
       "      <td>1</td>\n",
       "      <td>23</td>\n",
       "      <td>AH</td>\n",
       "      <td>2023</td>\n",
       "    </tr>\n",
       "    <tr>\n",
       "      <th>72568</th>\n",
       "      <td>None</td>\n",
       "      <td>e720ff378efe032df56e0e656a6a92d3</td>\n",
       "      <td>COVER</td>\n",
       "      <td>2023-10-05 21:00:00</td>\n",
       "      <td>Arcade</td>\n",
       "      <td>EN</td>\n",
       "      <td>TCAHM2318975</td>\n",
       "      <td>[FOREIGNBARD, BARD]</td>\n",
       "      <td>201580.0</td>\n",
       "      <td>NaN</td>\n",
       "      <td>NaN</td>\n",
       "      <td>1</td>\n",
       "      <td>23</td>\n",
       "      <td>AH</td>\n",
       "      <td>2023</td>\n",
       "    </tr>\n",
       "    <tr>\n",
       "      <th>72569</th>\n",
       "      <td>554e33d79e258da91149c3a4985cf6a1</td>\n",
       "      <td>554e33d79e258da91149c3a4985cf6a1</td>\n",
       "      <td>ORIGINAL</td>\n",
       "      <td>2023-10-05 21:00:00</td>\n",
       "      <td>Май</td>\n",
       "      <td>None</td>\n",
       "      <td>SMRUS0076417</td>\n",
       "      <td>[RUSRAP, RAP]</td>\n",
       "      <td>156870.0</td>\n",
       "      <td>NaN</td>\n",
       "      <td>NaN</td>\n",
       "      <td>0</td>\n",
       "      <td>00</td>\n",
       "      <td>RU</td>\n",
       "      <td>2023</td>\n",
       "    </tr>\n",
       "    <tr>\n",
       "      <th>72570</th>\n",
       "      <td>7b0f6ff24137be50cf5ea5f82d789448</td>\n",
       "      <td>7b0f6ff24137be50cf5ea5f82d789448</td>\n",
       "      <td>ORIGINAL</td>\n",
       "      <td>2023-10-05 21:00:00</td>\n",
       "      <td>Не улетай</td>\n",
       "      <td>None</td>\n",
       "      <td>DGA0M2316512</td>\n",
       "      <td>[POP, RUSPOP]</td>\n",
       "      <td>148500.0</td>\n",
       "      <td>NaN</td>\n",
       "      <td>NaN</td>\n",
       "      <td>0</td>\n",
       "      <td>23</td>\n",
       "      <td>A0</td>\n",
       "      <td>2023</td>\n",
       "    </tr>\n",
       "  </tbody>\n",
       "</table>\n",
       "<p>72571 rows × 15 columns</p>\n",
       "</div>"
      ],
      "text/plain": [
       "                      original_track_id                          track_id  \\\n",
       "0      eeb69a3cb92300456b6a5f4162093851  eeb69a3cb92300456b6a5f4162093851   \n",
       "1      eeb69a3cb92300456b6a5f4162093851  eeb69a3cb92300456b6a5f4162093851   \n",
       "2      fe7ee8fc1959cc7214fa21c4840dff0a  fe7ee8fc1959cc7214fa21c4840dff0a   \n",
       "3      cd89fef7ffdd490db800357f47722b20  cd89fef7ffdd490db800357f47722b20   \n",
       "4      995665640dc319973d3173a74a03860c  995665640dc319973d3173a74a03860c   \n",
       "...                                 ...                               ...   \n",
       "72566  4788e0bf61d80ef5ec9380aa8a8119d9  4788e0bf61d80ef5ec9380aa8a8119d9   \n",
       "72567                              None  78b2db35476f134dc3cdfbf4d77ba034   \n",
       "72568                              None  e720ff378efe032df56e0e656a6a92d3   \n",
       "72569  554e33d79e258da91149c3a4985cf6a1  554e33d79e258da91149c3a4985cf6a1   \n",
       "72570  7b0f6ff24137be50cf5ea5f82d789448  7b0f6ff24137be50cf5ea5f82d789448   \n",
       "\n",
       "      track_remake_type                dttm                title language  \\\n",
       "0              ORIGINAL 2009-11-11 21:00:00           Proud Mary       EN   \n",
       "1              ORIGINAL 2009-11-11 21:00:00           Proud Mary       EN   \n",
       "2              ORIGINAL 2009-11-11 21:00:00        Fortunate Son       EN   \n",
       "3              ORIGINAL 2009-09-21 20:00:00      La Camisa Negra       ES   \n",
       "4              ORIGINAL 2009-11-16 21:00:00        The Way I Are       EN   \n",
       "...                 ...                 ...                  ...      ...   \n",
       "72566          ORIGINAL 2023-09-28 21:00:00        Милый, прощай     None   \n",
       "72567             COVER 2023-10-01 13:55:45  Habits (Stay Hight)       EN   \n",
       "72568             COVER 2023-10-05 21:00:00               Arcade       EN   \n",
       "72569          ORIGINAL 2023-10-05 21:00:00                  Май     None   \n",
       "72570          ORIGINAL 2023-10-05 21:00:00            Не улетай     None   \n",
       "\n",
       "               isrc                  genres  duration  \\\n",
       "0      USFI86900049         [ROCK, ALLROCK]  187220.0   \n",
       "1      USFI86900049         [ROCK, ALLROCK]  187220.0   \n",
       "2      USFI86900065         [ROCK, ALLROCK]  137780.0   \n",
       "3      USUL10400965  [POP, FOLK, LATINFOLK]  216840.0   \n",
       "4      USUM70722806       [FOREIGNRAP, RAP]  179660.0   \n",
       "...             ...                     ...       ...   \n",
       "72566  RUAGT2312928           [POP, RUSPOP]  178980.0   \n",
       "72567  TCAHK2396284           [ELECTRONICS]  149570.0   \n",
       "72568  TCAHM2318975     [FOREIGNBARD, BARD]  201580.0   \n",
       "72569  SMRUS0076417           [RUSRAP, RAP]  156870.0   \n",
       "72570  DGA0M2316512           [POP, RUSPOP]  148500.0   \n",
       "\n",
       "                                lyricId  \\\n",
       "0      260f21d9f48e8de874a6e844159ddf28   \n",
       "1      f3331cf99637ee24559242d13d8cf259   \n",
       "2      2498827bd11eca5846270487e4960080   \n",
       "3      5237001311d4062bf2b80de30652bf58   \n",
       "4      e5b1b57090b728e8d98d2b4d9b781bf4   \n",
       "...                                 ...   \n",
       "72566                               NaN   \n",
       "72567                               NaN   \n",
       "72568                               NaN   \n",
       "72569                               NaN   \n",
       "72570                               NaN   \n",
       "\n",
       "                                                    text  target  \\\n",
       "0      Left a good job in the city\\nWorkin' for the m...       0   \n",
       "1      Left a good job in the city\\nWorkin' for the m...       0   \n",
       "2      Some folks are born made to wave the flag\\nOoh...       0   \n",
       "3      Uno por pobre y feo, hombre\\nPero antoja'o, ay...       0   \n",
       "4      Yeah!... yeah!... remember the time, baby... y...       0   \n",
       "...                                                  ...     ...   \n",
       "72566                                                NaN       0   \n",
       "72567                                                NaN       1   \n",
       "72568                                                NaN       1   \n",
       "72569                                                NaN       0   \n",
       "72570                                                NaN       0   \n",
       "\n",
       "      year_of_track country_of_track  year_of_relize  \n",
       "0                69               FI            2009  \n",
       "1                69               FI            2009  \n",
       "2                69               FI            2009  \n",
       "3                04               UL            2009  \n",
       "4                07               UM            2009  \n",
       "...             ...              ...             ...  \n",
       "72566            23               AG            2023  \n",
       "72567            23               AH            2023  \n",
       "72568            23               AH            2023  \n",
       "72569            00               RU            2023  \n",
       "72570            23               A0            2023  \n",
       "\n",
       "[72571 rows x 15 columns]"
      ]
     },
     "execution_count": 40,
     "metadata": {},
     "output_type": "execute_result"
    }
   ],
   "source": [
    "df_union"
   ]
  },
  {
   "cell_type": "code",
   "execution_count": 41,
   "id": "3b18bded-3729-41ca-88a4-5903bc40ca72",
   "metadata": {},
   "outputs": [],
   "source": [
    "df_union = df_union.drop(['original_track_id','track_id','dttm','lyricId','track_remake_type','text'], axis= 1)"
   ]
  },
  {
   "cell_type": "code",
   "execution_count": 45,
   "id": "f4013f55-f908-4749-a9f7-c4a9852f358e",
   "metadata": {},
   "outputs": [
    {
     "ename": "KeyError",
     "evalue": "\"['genres'] not found in axis\"",
     "output_type": "error",
     "traceback": [
      "\u001b[1;31m---------------------------------------------------------------------------\u001b[0m",
      "\u001b[1;31mKeyError\u001b[0m                                  Traceback (most recent call last)",
      "Cell \u001b[1;32mIn[45], line 1\u001b[0m\n\u001b[1;32m----> 1\u001b[0m df_union \u001b[38;5;241m=\u001b[39m \u001b[43mdf_union\u001b[49m\u001b[38;5;241;43m.\u001b[39;49m\u001b[43mdrop\u001b[49m\u001b[43m(\u001b[49m\u001b[43m[\u001b[49m\u001b[38;5;124;43m'\u001b[39;49m\u001b[38;5;124;43mgenres\u001b[39;49m\u001b[38;5;124;43m'\u001b[39;49m\u001b[43m]\u001b[49m\u001b[43m,\u001b[49m\u001b[43m \u001b[49m\u001b[43maxis\u001b[49m\u001b[38;5;241;43m=\u001b[39;49m\u001b[43m \u001b[49m\u001b[38;5;241;43m1\u001b[39;49m\u001b[43m)\u001b[49m\n",
      "File \u001b[1;32m~\\anaconda3\\envs\\ds_practicum_env\\lib\\site-packages\\pandas\\core\\frame.py:4308\u001b[0m, in \u001b[0;36mDataFrame.drop\u001b[1;34m(self, labels, axis, index, columns, level, inplace, errors)\u001b[0m\n\u001b[0;32m   4178\u001b[0m \u001b[38;5;28;01mdef\u001b[39;00m \u001b[38;5;21mdrop\u001b[39m(\n\u001b[0;32m   4179\u001b[0m     \u001b[38;5;28mself\u001b[39m,\n\u001b[0;32m   4180\u001b[0m     labels\u001b[38;5;241m=\u001b[39m\u001b[38;5;28;01mNone\u001b[39;00m,\n\u001b[1;32m   (...)\u001b[0m\n\u001b[0;32m   4186\u001b[0m     errors\u001b[38;5;241m=\u001b[39m\u001b[38;5;124m\"\u001b[39m\u001b[38;5;124mraise\u001b[39m\u001b[38;5;124m\"\u001b[39m,\n\u001b[0;32m   4187\u001b[0m ):\n\u001b[0;32m   4188\u001b[0m \u001b[38;5;250m    \u001b[39m\u001b[38;5;124;03m\"\"\"\u001b[39;00m\n\u001b[0;32m   4189\u001b[0m \u001b[38;5;124;03m    Drop specified labels from rows or columns.\u001b[39;00m\n\u001b[0;32m   4190\u001b[0m \n\u001b[1;32m   (...)\u001b[0m\n\u001b[0;32m   4306\u001b[0m \u001b[38;5;124;03m            weight  1.0     0.8\u001b[39;00m\n\u001b[0;32m   4307\u001b[0m \u001b[38;5;124;03m    \"\"\"\u001b[39;00m\n\u001b[1;32m-> 4308\u001b[0m     \u001b[38;5;28;01mreturn\u001b[39;00m \u001b[38;5;28;43msuper\u001b[39;49m\u001b[43m(\u001b[49m\u001b[43m)\u001b[49m\u001b[38;5;241;43m.\u001b[39;49m\u001b[43mdrop\u001b[49m\u001b[43m(\u001b[49m\n\u001b[0;32m   4309\u001b[0m \u001b[43m        \u001b[49m\u001b[43mlabels\u001b[49m\u001b[38;5;241;43m=\u001b[39;49m\u001b[43mlabels\u001b[49m\u001b[43m,\u001b[49m\n\u001b[0;32m   4310\u001b[0m \u001b[43m        \u001b[49m\u001b[43maxis\u001b[49m\u001b[38;5;241;43m=\u001b[39;49m\u001b[43maxis\u001b[49m\u001b[43m,\u001b[49m\n\u001b[0;32m   4311\u001b[0m \u001b[43m        \u001b[49m\u001b[43mindex\u001b[49m\u001b[38;5;241;43m=\u001b[39;49m\u001b[43mindex\u001b[49m\u001b[43m,\u001b[49m\n\u001b[0;32m   4312\u001b[0m \u001b[43m        \u001b[49m\u001b[43mcolumns\u001b[49m\u001b[38;5;241;43m=\u001b[39;49m\u001b[43mcolumns\u001b[49m\u001b[43m,\u001b[49m\n\u001b[0;32m   4313\u001b[0m \u001b[43m        \u001b[49m\u001b[43mlevel\u001b[49m\u001b[38;5;241;43m=\u001b[39;49m\u001b[43mlevel\u001b[49m\u001b[43m,\u001b[49m\n\u001b[0;32m   4314\u001b[0m \u001b[43m        \u001b[49m\u001b[43minplace\u001b[49m\u001b[38;5;241;43m=\u001b[39;49m\u001b[43minplace\u001b[49m\u001b[43m,\u001b[49m\n\u001b[0;32m   4315\u001b[0m \u001b[43m        \u001b[49m\u001b[43merrors\u001b[49m\u001b[38;5;241;43m=\u001b[39;49m\u001b[43merrors\u001b[49m\u001b[43m,\u001b[49m\n\u001b[0;32m   4316\u001b[0m \u001b[43m    \u001b[49m\u001b[43m)\u001b[49m\n",
      "File \u001b[1;32m~\\anaconda3\\envs\\ds_practicum_env\\lib\\site-packages\\pandas\\core\\generic.py:4153\u001b[0m, in \u001b[0;36mNDFrame.drop\u001b[1;34m(self, labels, axis, index, columns, level, inplace, errors)\u001b[0m\n\u001b[0;32m   4151\u001b[0m \u001b[38;5;28;01mfor\u001b[39;00m axis, labels \u001b[38;5;129;01min\u001b[39;00m axes\u001b[38;5;241m.\u001b[39mitems():\n\u001b[0;32m   4152\u001b[0m     \u001b[38;5;28;01mif\u001b[39;00m labels \u001b[38;5;129;01mis\u001b[39;00m \u001b[38;5;129;01mnot\u001b[39;00m \u001b[38;5;28;01mNone\u001b[39;00m:\n\u001b[1;32m-> 4153\u001b[0m         obj \u001b[38;5;241m=\u001b[39m \u001b[43mobj\u001b[49m\u001b[38;5;241;43m.\u001b[39;49m\u001b[43m_drop_axis\u001b[49m\u001b[43m(\u001b[49m\u001b[43mlabels\u001b[49m\u001b[43m,\u001b[49m\u001b[43m \u001b[49m\u001b[43maxis\u001b[49m\u001b[43m,\u001b[49m\u001b[43m \u001b[49m\u001b[43mlevel\u001b[49m\u001b[38;5;241;43m=\u001b[39;49m\u001b[43mlevel\u001b[49m\u001b[43m,\u001b[49m\u001b[43m \u001b[49m\u001b[43merrors\u001b[49m\u001b[38;5;241;43m=\u001b[39;49m\u001b[43merrors\u001b[49m\u001b[43m)\u001b[49m\n\u001b[0;32m   4155\u001b[0m \u001b[38;5;28;01mif\u001b[39;00m inplace:\n\u001b[0;32m   4156\u001b[0m     \u001b[38;5;28mself\u001b[39m\u001b[38;5;241m.\u001b[39m_update_inplace(obj)\n",
      "File \u001b[1;32m~\\anaconda3\\envs\\ds_practicum_env\\lib\\site-packages\\pandas\\core\\generic.py:4188\u001b[0m, in \u001b[0;36mNDFrame._drop_axis\u001b[1;34m(self, labels, axis, level, errors)\u001b[0m\n\u001b[0;32m   4186\u001b[0m         new_axis \u001b[38;5;241m=\u001b[39m axis\u001b[38;5;241m.\u001b[39mdrop(labels, level\u001b[38;5;241m=\u001b[39mlevel, errors\u001b[38;5;241m=\u001b[39merrors)\n\u001b[0;32m   4187\u001b[0m     \u001b[38;5;28;01melse\u001b[39;00m:\n\u001b[1;32m-> 4188\u001b[0m         new_axis \u001b[38;5;241m=\u001b[39m \u001b[43maxis\u001b[49m\u001b[38;5;241;43m.\u001b[39;49m\u001b[43mdrop\u001b[49m\u001b[43m(\u001b[49m\u001b[43mlabels\u001b[49m\u001b[43m,\u001b[49m\u001b[43m \u001b[49m\u001b[43merrors\u001b[49m\u001b[38;5;241;43m=\u001b[39;49m\u001b[43merrors\u001b[49m\u001b[43m)\u001b[49m\n\u001b[0;32m   4189\u001b[0m     result \u001b[38;5;241m=\u001b[39m \u001b[38;5;28mself\u001b[39m\u001b[38;5;241m.\u001b[39mreindex(\u001b[38;5;241m*\u001b[39m\u001b[38;5;241m*\u001b[39m{axis_name: new_axis})\n\u001b[0;32m   4191\u001b[0m \u001b[38;5;66;03m# Case for non-unique axis\u001b[39;00m\n\u001b[0;32m   4192\u001b[0m \u001b[38;5;28;01melse\u001b[39;00m:\n",
      "File \u001b[1;32m~\\anaconda3\\envs\\ds_practicum_env\\lib\\site-packages\\pandas\\core\\indexes\\base.py:5591\u001b[0m, in \u001b[0;36mIndex.drop\u001b[1;34m(self, labels, errors)\u001b[0m\n\u001b[0;32m   5589\u001b[0m \u001b[38;5;28;01mif\u001b[39;00m mask\u001b[38;5;241m.\u001b[39many():\n\u001b[0;32m   5590\u001b[0m     \u001b[38;5;28;01mif\u001b[39;00m errors \u001b[38;5;241m!=\u001b[39m \u001b[38;5;124m\"\u001b[39m\u001b[38;5;124mignore\u001b[39m\u001b[38;5;124m\"\u001b[39m:\n\u001b[1;32m-> 5591\u001b[0m         \u001b[38;5;28;01mraise\u001b[39;00m \u001b[38;5;167;01mKeyError\u001b[39;00m(\u001b[38;5;124mf\u001b[39m\u001b[38;5;124m\"\u001b[39m\u001b[38;5;132;01m{\u001b[39;00mlabels[mask]\u001b[38;5;132;01m}\u001b[39;00m\u001b[38;5;124m not found in axis\u001b[39m\u001b[38;5;124m\"\u001b[39m)\n\u001b[0;32m   5592\u001b[0m     indexer \u001b[38;5;241m=\u001b[39m indexer[\u001b[38;5;241m~\u001b[39mmask]\n\u001b[0;32m   5593\u001b[0m \u001b[38;5;28;01mreturn\u001b[39;00m \u001b[38;5;28mself\u001b[39m\u001b[38;5;241m.\u001b[39mdelete(indexer)\n",
      "\u001b[1;31mKeyError\u001b[0m: \"['genres'] not found in axis\""
     ]
    }
   ],
   "source": [
    "df_union = df_union.drop(['genres'], axis= 1)"
   ]
  },
  {
   "cell_type": "code",
   "execution_count": 46,
   "id": "dca903cc-b415-44a2-940a-acdd901db485",
   "metadata": {},
   "outputs": [],
   "source": [
    "df_union = df_union.fillna('No')"
   ]
  },
  {
   "cell_type": "markdown",
   "id": "aa418dde-2acb-4dab-9035-93a7f438459f",
   "metadata": {},
   "source": [
    "Подготовка признаков для обучения Baseline модели"
   ]
  },
  {
   "cell_type": "code",
   "execution_count": null,
   "id": "0a3a2e70-dd4f-4ab0-b1aa-80989187a8dc",
   "metadata": {},
   "outputs": [],
   "source": [
    "import sys\n",
    "#!{sys.executable} -m pip install spacy\n",
    "\n",
    "#!{sys.executable} -m spacy download en\n",
    "import spacy"
   ]
  },
  {
   "cell_type": "markdown",
   "id": "2554f092-d96d-430b-9505-daa7cb8478c3",
   "metadata": {},
   "source": [
    "Создадим новый столбец lemm_text с обработанным текстом, который будет нашим основным признаком для модели."
   ]
  },
  {
   "cell_type": "code",
   "execution_count": null,
   "id": "1c5e92ff-03bf-4049-ab5b-dfa9377793ee",
   "metadata": {},
   "outputs": [],
   "source": [
    "# загрузим объект nlp\n",
    "disabled_pipes = ['parser','ner']\n",
    "nlp = spacy.load(\"en_core_web_sm\",disable=disabled_pipes)\n",
    "\n",
    "# напишем функцию\n",
    "def lemmatize(text):\n",
    "    text = text.lower()\n",
    "    text = nlp(text)\n",
    "    lemm_text = \" \".join([token.lemma_ for token in text])\n",
    "    clear_text = re.sub(r'[^a-zA-Z ]', ' ', lemm_text)\n",
    "    return  \" \".join(clear_text.split())          "
   ]
  },
  {
   "cell_type": "code",
   "execution_count": null,
   "id": "c88a626e-5b76-412f-994b-a3bb00ada402",
   "metadata": {},
   "outputs": [],
   "source": [
    "#tqdm.pandas(\"lemmatize\")\n",
    "df_union['lemm_text'] = df_union['text'].progress_apply(lemmatize) \n"
   ]
  },
  {
   "cell_type": "code",
   "execution_count": null,
   "id": "45fb70a0-96a7-4628-a324-0d90a68490ad",
   "metadata": {},
   "outputs": [],
   "source": [
    "# проверим работу функции на произвольной строке\n",
    "print(\"Исходный текст:\", df_union['text'][47])\n",
    "print(\"Очищенный и лемматизированный текст:\", lemmatize(df_union['text'][47]))"
   ]
  },
  {
   "cell_type": "code",
   "execution_count": null,
   "id": "8d165888-c31a-4d41-834b-3db7ca59adea",
   "metadata": {},
   "outputs": [],
   "source": []
  },
  {
   "cell_type": "markdown",
   "id": "022f21d1-cbde-4f49-8601-246083a4e2ec",
   "metadata": {},
   "source": [
    "## Выбор и обучение моделей\n",
    "\n",
    "Подготовка призанков для обучения моделей."
   ]
  },
  {
   "cell_type": "code",
   "execution_count": 47,
   "id": "02d07f43-d82b-4daa-adc6-38292b5d9972",
   "metadata": {},
   "outputs": [],
   "source": [
    "# cоздадим переменные для признаков и целевого признака\n",
    "X = df_union.drop('target', axis=1)\n",
    "y = df_union['target']"
   ]
  },
  {
   "cell_type": "markdown",
   "id": "d0bbf4a0-3716-4682-a74c-3564bf287021",
   "metadata": {},
   "source": [
    "Далее разобьем данные на выборки. Разделим исходные данные на обучающую и тестовую выборки. Данные разобьем на 2 части, в соотношении 75:25. Добавим аргумент stratify, он позволит сохранить изначальное распределение таргетов во всех новых датасетах. Существующий дисбаланс никуда не денется, но в каждом датасете он будет одинаковым."
   ]
  },
  {
   "cell_type": "code",
   "execution_count": 48,
   "id": "cf6aa8d6-096a-401d-9f7c-6e6271a329bf",
   "metadata": {},
   "outputs": [],
   "source": [
    "X_train, X_test, y_train, y_test = train_test_split(\n",
    "    X, y, test_size=0.25, random_state=RANDOM_STATE,stratify = y\n",
    ")"
   ]
  },
  {
   "cell_type": "code",
   "execution_count": 49,
   "id": "fe38ec29-127d-46a0-afaf-ed53d690d0b7",
   "metadata": {},
   "outputs": [
    {
     "data": {
      "text/plain": [
       "((54428, 7), (54428,), (18143, 7), (18143,))"
      ]
     },
     "execution_count": 49,
     "metadata": {},
     "output_type": "execute_result"
    }
   ],
   "source": [
    "# выведем на экран размеры таблиц, которые хранятся в 4-х переменных \n",
    "X_train.shape,y_train.shape,X_test.shape,y_test.shape"
   ]
  },
  {
   "cell_type": "markdown",
   "id": "a209c3c3-2d0d-4997-b5c7-4d7551990f54",
   "metadata": {},
   "source": [
    "### Обучение моделей\n",
    "\n",
    "\n",
    "Модель CatBoostClassifier"
   ]
  },
  {
   "cell_type": "code",
   "execution_count": 50,
   "id": "86b0c1ad-70e5-4d64-b667-43d55097ea3c",
   "metadata": {},
   "outputs": [
    {
     "data": {
      "text/plain": [
       "['duration', 'year_of_relize']"
      ]
     },
     "execution_count": 50,
     "metadata": {},
     "output_type": "execute_result"
    }
   ],
   "source": [
    "#численные признаки\n",
    "num_cols = X_train.select_dtypes(exclude='object').columns.to_list()\n",
    "num_cols"
   ]
  },
  {
   "cell_type": "code",
   "execution_count": 51,
   "id": "353eff6e-4aab-462c-8f5a-e744fb1144cf",
   "metadata": {},
   "outputs": [
    {
     "data": {
      "text/plain": [
       "['title', 'language', 'isrc', 'year_of_track', 'country_of_track']"
      ]
     },
     "execution_count": 51,
     "metadata": {},
     "output_type": "execute_result"
    }
   ],
   "source": [
    "# создадим переменную с категориальными признаками для передачи в модель\n",
    "cat_features = X_train.select_dtypes(include='object').columns.to_list()\n",
    "cat_features"
   ]
  },
  {
   "cell_type": "code",
   "execution_count": 56,
   "id": "fb5cfacd-104e-44f3-b4ba-8f1fa174a178",
   "metadata": {},
   "outputs": [],
   "source": [
    "pipeline_catboost = Pipeline([\n",
    "    ('cb', CatBoostClassifier(cat_features=cat_features,random_state=RANDOM_STATE))\n",
    "])\n",
    "\n",
    "parameters_catboost = {\n",
    "    'cb__iterations': [100],\n",
    "    'cb__depth': [3,6,9],\n",
    "    'cb__learning_rate': [0.01, 0.15]\n",
    "}"
   ]
  },
  {
   "cell_type": "code",
   "execution_count": 57,
   "id": "2bf55ede-48fd-4d6f-a04b-fd1b29749970",
   "metadata": {},
   "outputs": [],
   "source": [
    "gs_model_cb = GridSearchCV(\n",
    "    estimator = pipeline_catboost,\n",
    "    param_grid=parameters_catboost, \n",
    "    scoring='roc_auc',\n",
    "    cv=KFold(n_splits=5, shuffle=True, random_state=RANDOM_STATE),\n",
    "    n_jobs=-1)"
   ]
  },
  {
   "cell_type": "code",
   "execution_count": 58,
   "id": "538d9fe8-dab9-4879-af86-bab4e27e7b57",
   "metadata": {},
   "outputs": [
    {
     "name": "stdout",
     "output_type": "stream",
     "text": [
      "0:\tlearn: 0.5743181\ttotal: 222ms\tremaining: 22s\n",
      "1:\tlearn: 0.4870442\ttotal: 280ms\tremaining: 13.7s\n",
      "2:\tlearn: 0.4192059\ttotal: 350ms\tremaining: 11.3s\n",
      "3:\tlearn: 0.3654148\ttotal: 442ms\tremaining: 10.6s\n",
      "4:\tlearn: 0.3219229\ttotal: 553ms\tremaining: 10.5s\n",
      "5:\tlearn: 0.2866533\ttotal: 735ms\tremaining: 11.5s\n",
      "6:\tlearn: 0.2579822\ttotal: 802ms\tremaining: 10.7s\n",
      "7:\tlearn: 0.2338978\ttotal: 863ms\tremaining: 9.92s\n",
      "8:\tlearn: 0.2134928\ttotal: 921ms\tremaining: 9.31s\n",
      "9:\tlearn: 0.1972346\ttotal: 1.01s\tremaining: 9.06s\n",
      "10:\tlearn: 0.1834683\ttotal: 1.1s\tremaining: 8.94s\n",
      "11:\tlearn: 0.1708116\ttotal: 1.26s\tremaining: 9.27s\n",
      "12:\tlearn: 0.1609068\ttotal: 1.36s\tremaining: 9.1s\n",
      "13:\tlearn: 0.1518926\ttotal: 1.5s\tremaining: 9.2s\n",
      "14:\tlearn: 0.1446305\ttotal: 1.64s\tremaining: 9.29s\n",
      "15:\tlearn: 0.1380533\ttotal: 1.75s\tremaining: 9.21s\n",
      "16:\tlearn: 0.1319648\ttotal: 1.83s\tremaining: 8.93s\n",
      "17:\tlearn: 0.1266159\ttotal: 1.89s\tremaining: 8.61s\n",
      "18:\tlearn: 0.1226856\ttotal: 1.96s\tremaining: 8.36s\n",
      "19:\tlearn: 0.1190730\ttotal: 2.17s\tremaining: 8.69s\n",
      "20:\tlearn: 0.1156710\ttotal: 2.29s\tremaining: 8.61s\n",
      "21:\tlearn: 0.1125037\ttotal: 2.4s\tremaining: 8.51s\n",
      "22:\tlearn: 0.1099508\ttotal: 2.51s\tremaining: 8.42s\n",
      "23:\tlearn: 0.1077548\ttotal: 2.62s\tremaining: 8.29s\n",
      "24:\tlearn: 0.1057668\ttotal: 2.73s\tremaining: 8.18s\n",
      "25:\tlearn: 0.1044366\ttotal: 2.81s\tremaining: 8s\n",
      "26:\tlearn: 0.1031437\ttotal: 2.91s\tremaining: 7.88s\n",
      "27:\tlearn: 0.1014644\ttotal: 3s\tremaining: 7.72s\n",
      "28:\tlearn: 0.0997880\ttotal: 3.08s\tremaining: 7.53s\n",
      "29:\tlearn: 0.0984727\ttotal: 3.15s\tremaining: 7.34s\n",
      "30:\tlearn: 0.0977024\ttotal: 3.21s\tremaining: 7.15s\n",
      "31:\tlearn: 0.0969084\ttotal: 3.3s\tremaining: 7s\n",
      "32:\tlearn: 0.0958442\ttotal: 3.43s\tremaining: 6.96s\n",
      "33:\tlearn: 0.0950285\ttotal: 3.54s\tremaining: 6.88s\n",
      "34:\tlearn: 0.0942146\ttotal: 3.61s\tremaining: 6.7s\n",
      "35:\tlearn: 0.0938091\ttotal: 3.69s\tremaining: 6.55s\n",
      "36:\tlearn: 0.0932680\ttotal: 3.78s\tremaining: 6.43s\n",
      "37:\tlearn: 0.0925347\ttotal: 3.85s\tremaining: 6.28s\n",
      "38:\tlearn: 0.0920735\ttotal: 4s\tremaining: 6.26s\n",
      "39:\tlearn: 0.0916683\ttotal: 4.07s\tremaining: 6.1s\n",
      "40:\tlearn: 0.0911318\ttotal: 4.14s\tremaining: 5.96s\n",
      "41:\tlearn: 0.0905851\ttotal: 4.21s\tremaining: 5.82s\n",
      "42:\tlearn: 0.0903179\ttotal: 4.28s\tremaining: 5.68s\n",
      "43:\tlearn: 0.0900193\ttotal: 4.37s\tremaining: 5.56s\n",
      "44:\tlearn: 0.0897174\ttotal: 4.45s\tremaining: 5.44s\n",
      "45:\tlearn: 0.0893255\ttotal: 4.55s\tremaining: 5.34s\n",
      "46:\tlearn: 0.0890412\ttotal: 4.66s\tremaining: 5.25s\n",
      "47:\tlearn: 0.0885462\ttotal: 4.72s\tremaining: 5.12s\n",
      "48:\tlearn: 0.0880014\ttotal: 4.83s\tremaining: 5.02s\n",
      "49:\tlearn: 0.0878161\ttotal: 4.9s\tremaining: 4.9s\n",
      "50:\tlearn: 0.0876737\ttotal: 4.97s\tremaining: 4.78s\n",
      "51:\tlearn: 0.0874912\ttotal: 5.06s\tremaining: 4.67s\n",
      "52:\tlearn: 0.0873681\ttotal: 5.16s\tremaining: 4.57s\n",
      "53:\tlearn: 0.0872682\ttotal: 5.23s\tremaining: 4.45s\n",
      "54:\tlearn: 0.0870653\ttotal: 5.31s\tremaining: 4.34s\n",
      "55:\tlearn: 0.0868489\ttotal: 5.38s\tremaining: 4.23s\n",
      "56:\tlearn: 0.0863245\ttotal: 5.45s\tremaining: 4.11s\n",
      "57:\tlearn: 0.0861011\ttotal: 5.59s\tremaining: 4.05s\n",
      "58:\tlearn: 0.0859375\ttotal: 5.66s\tremaining: 3.93s\n",
      "59:\tlearn: 0.0856635\ttotal: 5.72s\tremaining: 3.82s\n",
      "60:\tlearn: 0.0855671\ttotal: 5.79s\tremaining: 3.7s\n",
      "61:\tlearn: 0.0854569\ttotal: 5.86s\tremaining: 3.59s\n",
      "62:\tlearn: 0.0853255\ttotal: 5.92s\tremaining: 3.48s\n",
      "63:\tlearn: 0.0851125\ttotal: 5.99s\tremaining: 3.37s\n",
      "64:\tlearn: 0.0849827\ttotal: 6.05s\tremaining: 3.26s\n",
      "65:\tlearn: 0.0848126\ttotal: 6.12s\tremaining: 3.15s\n",
      "66:\tlearn: 0.0846612\ttotal: 6.18s\tremaining: 3.04s\n",
      "67:\tlearn: 0.0844720\ttotal: 6.24s\tremaining: 2.94s\n",
      "68:\tlearn: 0.0843280\ttotal: 6.3s\tremaining: 2.83s\n",
      "69:\tlearn: 0.0842279\ttotal: 6.36s\tremaining: 2.73s\n",
      "70:\tlearn: 0.0841775\ttotal: 6.42s\tremaining: 2.62s\n",
      "71:\tlearn: 0.0839457\ttotal: 6.47s\tremaining: 2.52s\n",
      "72:\tlearn: 0.0837001\ttotal: 6.53s\tremaining: 2.41s\n",
      "73:\tlearn: 0.0835729\ttotal: 6.59s\tremaining: 2.32s\n",
      "74:\tlearn: 0.0833565\ttotal: 6.65s\tremaining: 2.22s\n",
      "75:\tlearn: 0.0832468\ttotal: 6.71s\tremaining: 2.12s\n",
      "76:\tlearn: 0.0831389\ttotal: 6.78s\tremaining: 2.02s\n",
      "77:\tlearn: 0.0831144\ttotal: 6.86s\tremaining: 1.93s\n",
      "78:\tlearn: 0.0828950\ttotal: 6.92s\tremaining: 1.84s\n",
      "79:\tlearn: 0.0827325\ttotal: 7.01s\tremaining: 1.75s\n",
      "80:\tlearn: 0.0824245\ttotal: 7.08s\tremaining: 1.66s\n",
      "81:\tlearn: 0.0823589\ttotal: 7.16s\tremaining: 1.57s\n",
      "82:\tlearn: 0.0823292\ttotal: 7.22s\tremaining: 1.48s\n",
      "83:\tlearn: 0.0821999\ttotal: 7.29s\tremaining: 1.39s\n",
      "84:\tlearn: 0.0819476\ttotal: 7.37s\tremaining: 1.3s\n",
      "85:\tlearn: 0.0819249\ttotal: 7.45s\tremaining: 1.21s\n",
      "86:\tlearn: 0.0818905\ttotal: 7.54s\tremaining: 1.13s\n",
      "87:\tlearn: 0.0818672\ttotal: 7.61s\tremaining: 1.04s\n",
      "88:\tlearn: 0.0816644\ttotal: 7.69s\tremaining: 951ms\n",
      "89:\tlearn: 0.0815252\ttotal: 7.76s\tremaining: 863ms\n",
      "90:\tlearn: 0.0813831\ttotal: 7.87s\tremaining: 778ms\n",
      "91:\tlearn: 0.0811671\ttotal: 7.99s\tremaining: 695ms\n",
      "92:\tlearn: 0.0810593\ttotal: 8.11s\tremaining: 611ms\n",
      "93:\tlearn: 0.0808646\ttotal: 8.22s\tremaining: 525ms\n",
      "94:\tlearn: 0.0807923\ttotal: 8.3s\tremaining: 437ms\n",
      "95:\tlearn: 0.0806778\ttotal: 8.38s\tremaining: 349ms\n",
      "96:\tlearn: 0.0806430\ttotal: 8.51s\tremaining: 263ms\n",
      "97:\tlearn: 0.0806260\ttotal: 8.63s\tremaining: 176ms\n",
      "98:\tlearn: 0.0805527\ttotal: 8.73s\tremaining: 88.2ms\n",
      "99:\tlearn: 0.0805421\ttotal: 8.79s\tremaining: 0us\n",
      "CPU times: total: 13.4 s\n",
      "Wall time: 2min 20s\n"
     ]
    },
    {
     "data": {
      "text/plain": [
       "GridSearchCV(cv=KFold(n_splits=5, random_state=54321, shuffle=True),\n",
       "             estimator=Pipeline(steps=[('cb',\n",
       "                                        <catboost.core.CatBoostClassifier object at 0x000002B722DB2FD0>)]),\n",
       "             n_jobs=-1,\n",
       "             param_grid={'cb__depth': [3, 6, 9], 'cb__iterations': [100],\n",
       "                         'cb__learning_rate': [0.01, 0.15]},\n",
       "             scoring='roc_auc')"
      ]
     },
     "execution_count": 58,
     "metadata": {},
     "output_type": "execute_result"
    }
   ],
   "source": [
    "%%time\n",
    "gs_model_cb.fit(X_train, y_train)"
   ]
  },
  {
   "cell_type": "code",
   "execution_count": 61,
   "id": "825c19af-d326-4fcb-8337-eb8c624e1576",
   "metadata": {},
   "outputs": [
    {
     "name": "stdout",
     "output_type": "stream",
     "text": [
      "Best params CatBoostClassifier: {'cb__depth': 9, 'cb__iterations': 100, 'cb__learning_rate': 0.15}\n",
      "ROC-AUC CatBoostClassifier: 0.9804098279970589\n"
     ]
    }
   ],
   "source": [
    "# выведем лучшие значения гиперпараметров, полученные на GridSearch\n",
    "\n",
    "\n",
    "best_model_cb = gs_model_cb.best_estimator_\n",
    "\n",
    "gs_model_cb_best_score = gs_model_cb.best_score_\n",
    "gs_model_cb_best_params = gs_model_cb.best_params_\n",
    "\n",
    "print(f'Best params CatBoostClassifier: {gs_model_cb_best_params}')\n",
    "print(f'ROC-AUC CatBoostClassifier: {gs_model_cb_best_score}')"
   ]
  },
  {
   "cell_type": "code",
   "execution_count": 63,
   "id": "68107339-a206-4db1-b095-266cf7286f7f",
   "metadata": {},
   "outputs": [
    {
     "data": {
      "image/png": "[encoded data removed]",
      "text/plain": [
       "<Figure size 1000x700 with 1 Axes>"
      ]
     },
     "metadata": {},
     "output_type": "display_data"
    }
   ],
   "source": [
    "# построим гистограмму значимости признаков для модели CatBoost\n",
    "# значения отсортированные по возрастанию влияния\n",
    "\n",
    "plt.figure(figsize = (10,7))\n",
    "importances = pd.Series(best_model_cb.named_steps['cb'].feature_importances_,index=best_model_cb['cb'].feature_names_).sort_values()\n",
    "\n",
    "# график\n",
    "importances.plot.barh(grid=True, title='Важность признаков');"
   ]
  },
  {
   "cell_type": "code",
   "execution_count": 65,
   "id": "bf27c30a-b0e0-4464-a2c6-2c802d840aed",
   "metadata": {},
   "outputs": [],
   "source": [
    "predict_test = best_model_cb.predict(X_test)"
   ]
  },
  {
   "cell_type": "code",
   "execution_count": 69,
   "id": "edd04b2f-46e7-4776-85f6-f28d6a3e6c11",
   "metadata": {},
   "outputs": [
    {
     "data": {
      "image/png": "[encoded data removed]",
      "text/plain": [
       "<Figure size 640x480 with 1 Axes>"
      ]
     },
     "metadata": {},
     "output_type": "display_data"
    }
   ],
   "source": [
    "probabilities_test = best_model_cb.predict_proba(X_test)\n",
    "probabilities_one_test = probabilities_test[:, 1]\n",
    "\n",
    "fpr, tpr, thresholds = roc_curve(y_test, probabilities_one_test)\n",
    "plt.figure()\n",
    "plt.plot(fpr, tpr)\n",
    "plt.xlim([0.0, 1.0])\n",
    "plt.ylim([0.0, 1.0])\n",
    "plt.xlabel('False Positive Rate')\n",
    "plt.ylabel('True Positive Rate')\n",
    "plt.title('ROC-кривая')\n",
    "plt.show() "
   ]
  },
  {
   "cell_type": "code",
   "execution_count": 70,
   "id": "46ada07f-0f8f-4dad-a690-b7b63b26accb",
   "metadata": {},
   "outputs": [
    {
     "name": "stdout",
     "output_type": "stream",
     "text": [
      "Accuracy: 0.9698506310973929\n",
      "Полнота: 0.9887859292923331\n",
      "Точность: 0.979135008766803\n",
      "F1-мера: 0.9839368043931519\n",
      "AUC-ROC:0.9829254461036021\n"
     ]
    }
   ],
   "source": [
    "# рассчитаем дополнительные метрики\n",
    "print(f'Accuracy: {accuracy_score(y_test, predict_test)}')    \n",
    "print(f'Полнота: {recall_score(y_test, predict_test)}')     \n",
    "print(f'Точность: {precision_score(y_test, predict_test)}')  \n",
    "print(f'F1-мера: {f1_score(y_test,predict_test)}')          \n",
    "print(f'AUC-ROC:{roc_auc_score(y_test,probabilities_one_test)}')"
   ]
  },
  {
   "cell_type": "code",
   "execution_count": null,
   "id": "ea68ba4c-57c8-44ce-bf8b-69bd2d16cbda",
   "metadata": {},
   "outputs": [],
   "source": []
  },
  {
   "cell_type": "markdown",
   "id": "b39ae3bb-6201-408c-b388-27cec17bac5d",
   "metadata": {},
   "source": [
    "### Обучение моделей"
   ]
  },
  {
   "cell_type": "code",
   "execution_count": null,
   "id": "ebe30056-3b14-4d06-be7a-185415479904",
   "metadata": {},
   "outputs": [],
   "source": []
  },
  {
   "cell_type": "code",
   "execution_count": null,
   "id": "c3c259cd-16ac-41ba-838d-f526c15b4216",
   "metadata": {},
   "outputs": [],
   "source": []
  },
  {
   "cell_type": "code",
   "execution_count": null,
   "id": "a5c99428-2167-4beb-b247-eeaeccdfabcf",
   "metadata": {},
   "outputs": [],
   "source": [
    "dummy_model = DummyClassifier(strategy='constant', constant=1)\n",
    "dummy_model.fit(X_train,y_train)\n",
    "dummy_model.score(X_train,y_train)"
   ]
  }
 ],
 "metadata": {
  "kernelspec": {
   "display_name": "Python 3 (ipykernel)",
   "language": "python",
   "name": "python3"
  },
  "language_info": {
   "codemirror_mode": {
    "name": "ipython",
    "version": 3
   },
   "file_extension": ".py",
   "mimetype": "text/x-python",
   "name": "python",
   "nbconvert_exporter": "python",
   "pygments_lexer": "ipython3",
   "version": "3.9.18"
  }
 },
 "nbformat": 4,
 "nbformat_minor": 5
}

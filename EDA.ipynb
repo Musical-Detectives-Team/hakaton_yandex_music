{
 "cells": [
  {
   "cell_type": "markdown",
   "id": "3641cbbd",
   "metadata": {},
   "source": [
    "# EDA"
   ]
  },
  {
   "cell_type": "markdown",
   "id": "49561a67",
   "metadata": {},
   "source": [
    "Импортируем библиотеки и прописываем пути, устанавливаем random_state."
   ]
  },
  {
   "cell_type": "code",
   "execution_count": 1,
   "id": "8568c7aa",
   "metadata": {},
   "outputs": [],
   "source": [
    "import pandas as pd\n",
    "import matplotlib.pyplot as plt"
   ]
  },
  {
   "cell_type": "code",
   "execution_count": 2,
   "id": "30d904b3",
   "metadata": {},
   "outputs": [],
   "source": [
    "PATH_COVERS = 'data/raw/covers.json'\n",
    "PATH_LYRICS = 'data/raw/lyrics.json'\n",
    "PATH_META = 'data/raw/meta.json'\n",
    "\n",
    "RANDOM_STATE = 54321"
   ]
  },
  {
   "cell_type": "markdown",
   "id": "0a61ffb3",
   "metadata": {},
   "source": [
    "## Изучение датасета covers "
   ]
  },
  {
   "cell_type": "markdown",
   "id": "df9a1b0b",
   "metadata": {},
   "source": [
    "Изучим данные в датасете covers данный датасет содержит следующие столбцы  \n",
    "- track_id - уникальный идентификатор трека;\n",
    "- track_remake_type - метка, присвоенная редакторами. Может принимать значения ORIGINAL и COVER;\n",
    "- original_track_id - уникальный идентификатор исходного трека."
   ]
  },
  {
   "cell_type": "code",
   "execution_count": 3,
   "id": "346210ee",
   "metadata": {},
   "outputs": [
    {
     "data": {
      "text/html": [
       "<div>\n",
       "<style scoped>\n",
       "    .dataframe tbody tr th:only-of-type {\n",
       "        vertical-align: middle;\n",
       "    }\n",
       "\n",
       "    .dataframe tbody tr th {\n",
       "        vertical-align: top;\n",
       "    }\n",
       "\n",
       "    .dataframe thead th {\n",
       "        text-align: right;\n",
       "    }\n",
       "</style>\n",
       "<table border=\"1\" class=\"dataframe\">\n",
       "  <thead>\n",
       "    <tr style=\"text-align: right;\">\n",
       "      <th></th>\n",
       "      <th>original_track_id</th>\n",
       "      <th>track_id</th>\n",
       "      <th>track_remake_type</th>\n",
       "    </tr>\n",
       "  </thead>\n",
       "  <tbody>\n",
       "    <tr>\n",
       "      <th>0</th>\n",
       "      <td>eeb69a3cb92300456b6a5f4162093851</td>\n",
       "      <td>eeb69a3cb92300456b6a5f4162093851</td>\n",
       "      <td>ORIGINAL</td>\n",
       "    </tr>\n",
       "    <tr>\n",
       "      <th>1</th>\n",
       "      <td>fe7ee8fc1959cc7214fa21c4840dff0a</td>\n",
       "      <td>fe7ee8fc1959cc7214fa21c4840dff0a</td>\n",
       "      <td>ORIGINAL</td>\n",
       "    </tr>\n",
       "    <tr>\n",
       "      <th>2</th>\n",
       "      <td>cd89fef7ffdd490db800357f47722b20</td>\n",
       "      <td>cd89fef7ffdd490db800357f47722b20</td>\n",
       "      <td>ORIGINAL</td>\n",
       "    </tr>\n",
       "    <tr>\n",
       "      <th>3</th>\n",
       "      <td>995665640dc319973d3173a74a03860c</td>\n",
       "      <td>995665640dc319973d3173a74a03860c</td>\n",
       "      <td>ORIGINAL</td>\n",
       "    </tr>\n",
       "    <tr>\n",
       "      <th>4</th>\n",
       "      <td>None</td>\n",
       "      <td>d6288499d0083cc34e60a077b7c4b3e1</td>\n",
       "      <td>COVER</td>\n",
       "    </tr>\n",
       "  </tbody>\n",
       "</table>\n",
       "</div>"
      ],
      "text/plain": [
       "                  original_track_id                          track_id  \\\n",
       "0  eeb69a3cb92300456b6a5f4162093851  eeb69a3cb92300456b6a5f4162093851   \n",
       "1  fe7ee8fc1959cc7214fa21c4840dff0a  fe7ee8fc1959cc7214fa21c4840dff0a   \n",
       "2  cd89fef7ffdd490db800357f47722b20  cd89fef7ffdd490db800357f47722b20   \n",
       "3  995665640dc319973d3173a74a03860c  995665640dc319973d3173a74a03860c   \n",
       "4                              None  d6288499d0083cc34e60a077b7c4b3e1   \n",
       "\n",
       "  track_remake_type  \n",
       "0          ORIGINAL  \n",
       "1          ORIGINAL  \n",
       "2          ORIGINAL  \n",
       "3          ORIGINAL  \n",
       "4             COVER  "
      ]
     },
     "execution_count": 3,
     "metadata": {},
     "output_type": "execute_result"
    }
   ],
   "source": [
    "df_covers = pd.read_json(PATH_COVERS, lines=True)\n",
    "df_covers.head()"
   ]
  },
  {
   "cell_type": "markdown",
   "id": "3e41d2e3",
   "metadata": {},
   "source": [
    "Выведем информацию по датасету"
   ]
  },
  {
   "cell_type": "code",
   "execution_count": 4,
   "id": "b33abb98",
   "metadata": {},
   "outputs": [
    {
     "data": {
      "text/plain": [
       "(71597, 3)"
      ]
     },
     "execution_count": 4,
     "metadata": {},
     "output_type": "execute_result"
    }
   ],
   "source": [
    "df_covers.shape"
   ]
  },
  {
   "cell_type": "code",
   "execution_count": 5,
   "id": "3c37f4f3",
   "metadata": {},
   "outputs": [
    {
     "name": "stdout",
     "output_type": "stream",
     "text": [
      "<class 'pandas.core.frame.DataFrame'>\n",
      "RangeIndex: 71597 entries, 0 to 71596\n",
      "Data columns (total 3 columns):\n",
      " #   Column             Non-Null Count  Dtype \n",
      "---  ------             --------------  ----- \n",
      " 0   original_track_id  4821 non-null   object\n",
      " 1   track_id           71597 non-null  object\n",
      " 2   track_remake_type  71597 non-null  object\n",
      "dtypes: object(3)\n",
      "memory usage: 1.6+ MB\n"
     ]
    }
   ],
   "source": [
    "df_covers.info()"
   ]
  },
  {
   "cell_type": "markdown",
   "id": "3b156379",
   "metadata": {},
   "source": [
    "У нас 71597 записей при этом в id оригинальных треков есть много пропусков"
   ]
  },
  {
   "cell_type": "markdown",
   "id": "2ef33956",
   "metadata": {},
   "source": [
    "Посмотрим на соотношение оригинальных и версий и каверов в полном датасете"
   ]
  },
  {
   "cell_type": "code",
   "execution_count": 6,
   "id": "ccf95600",
   "metadata": {},
   "outputs": [],
   "source": [
    "df_group = df_covers.groupby('track_remake_type')['track_id'].agg('count').reset_index()"
   ]
  },
  {
   "cell_type": "code",
   "execution_count": 7,
   "id": "391813c9",
   "metadata": {},
   "outputs": [
    {
     "data": {
      "image/png": "[encoded data removed]",
      "text/plain": [
       "<Figure size 640x480 with 1 Axes>"
      ]
     },
     "metadata": {},
     "output_type": "display_data"
    }
   ],
   "source": [
    "plt.title('Количество оригинальных и кавер треков на полном датасете')\n",
    "plt.barh(df_group['track_remake_type'], df_group['track_id'])\n",
    "plt.xlabel('Количество треков')\n",
    "plt.ylabel('Тип трека')\n",
    "plt.show()"
   ]
  },
  {
   "cell_type": "markdown",
   "id": "ea11d6e5",
   "metadata": {},
   "source": [
    "Посмотрим на соотношение оригинальных и версий и каверов в датасете без пропусков"
   ]
  },
  {
   "cell_type": "code",
   "execution_count": 8,
   "id": "b0dfce76",
   "metadata": {},
   "outputs": [],
   "source": [
    "df_group = df_covers.dropna().groupby('track_remake_type')['track_id'].agg('count').reset_index()"
   ]
  },
  {
   "cell_type": "code",
   "execution_count": 9,
   "id": "a9d4a57a",
   "metadata": {},
   "outputs": [
    {
     "data": {
      "image/png": "[encoded data removed]",
      "text/plain": [
       "<Figure size 640x480 with 1 Axes>"
      ]
     },
     "metadata": {},
     "output_type": "display_data"
    }
   ],
   "source": [
    "plt.title('Количество оригинальных и кавер треков на датасете без пропусков')\n",
    "plt.barh(df_group['track_remake_type'], df_group['track_id'])\n",
    "plt.xlabel('Количество треков')\n",
    "plt.ylabel('Тип трека')\n",
    "plt.show()"
   ]
  },
  {
   "cell_type": "markdown",
   "id": "ecf27e93",
   "metadata": {},
   "source": [
    "Посмотрим сколько треков имеют не только ссылку на оригинальный id, но и сам трек находится в выборке"
   ]
  },
  {
   "cell_type": "code",
   "execution_count": 10,
   "id": "7b15a619",
   "metadata": {},
   "outputs": [
    {
     "data": {
      "text/plain": [
       "297"
      ]
     },
     "execution_count": 10,
     "metadata": {},
     "output_type": "execute_result"
    }
   ],
   "source": [
    "df_covers_copy = df_covers.copy(deep=True)\n",
    "df = df_covers[['track_id']].merge(df_covers_copy, left_on='track_id', right_on='original_track_id')\n",
    "df[df['track_remake_type']=='COVER'].shape[0]"
   ]
  },
  {
   "cell_type": "markdown",
   "id": "47f10705",
   "metadata": {},
   "source": [
    "Всего у нас 297 таких треков, что учитывая будущую размерность векторизированных данных очень мало. Однако это единственные размеченные данные с которыми мы можем корректно работать и в дальнейшем оценивать качество нашей модели."
   ]
  },
  {
   "cell_type": "code",
   "execution_count": 11,
   "id": "fb5970f2",
   "metadata": {},
   "outputs": [
    {
     "name": "stdout",
     "output_type": "stream",
     "text": [
      "<class 'pandas.core.frame.DataFrame'>\n",
      "Index: 67304 entries, 4 to 71594\n",
      "Data columns (total 3 columns):\n",
      " #   Column             Non-Null Count  Dtype \n",
      "---  ------             --------------  ----- \n",
      " 0   original_track_id  528 non-null    object\n",
      " 1   track_id           67304 non-null  object\n",
      " 2   track_remake_type  67304 non-null  object\n",
      "dtypes: object(3)\n",
      "memory usage: 2.1+ MB\n"
     ]
    }
   ],
   "source": [
    "df_covers[df_covers['track_remake_type']=='COVER'].info()"
   ]
  },
  {
   "cell_type": "markdown",
   "id": "224951f0",
   "metadata": {},
   "source": [
    "## Изучение датасета lyrics"
   ]
  },
  {
   "cell_type": "markdown",
   "id": "ea4d0326",
   "metadata": {},
   "source": [
    "Изучим данные в датасете lyrics данный датасет содержит следующие столбцы  \n",
    "- track_id - уникальный идентификатор трека;\n",
    "- lyricId - уникальный идентификатор текста;\n",
    "- text - текст трека."
   ]
  },
  {
   "cell_type": "code",
   "execution_count": 12,
   "id": "b74e1429",
   "metadata": {},
   "outputs": [
    {
     "data": {
      "text/html": [
       "<div>\n",
       "<style scoped>\n",
       "    .dataframe tbody tr th:only-of-type {\n",
       "        vertical-align: middle;\n",
       "    }\n",
       "\n",
       "    .dataframe tbody tr th {\n",
       "        vertical-align: top;\n",
       "    }\n",
       "\n",
       "    .dataframe thead th {\n",
       "        text-align: right;\n",
       "    }\n",
       "</style>\n",
       "<table border=\"1\" class=\"dataframe\">\n",
       "  <thead>\n",
       "    <tr style=\"text-align: right;\">\n",
       "      <th></th>\n",
       "      <th>lyricId</th>\n",
       "      <th>text</th>\n",
       "      <th>track_id</th>\n",
       "    </tr>\n",
       "  </thead>\n",
       "  <tbody>\n",
       "    <tr>\n",
       "      <th>0</th>\n",
       "      <td>a951f9504e89759e9d23039b7b17ec14</td>\n",
       "      <td>Живу сейчас обломами, обломками не той любви\\n...</td>\n",
       "      <td>1c4b1230f937e4c548ff732523214dcd</td>\n",
       "    </tr>\n",
       "    <tr>\n",
       "      <th>1</th>\n",
       "      <td>0c749bc3f01eb8e6cf986fa14ccfc585</td>\n",
       "      <td>Tell me your fable\\nA fable\\nTell me your fabl...</td>\n",
       "      <td>0faea89b0d7d6235b5b74def72511bd8</td>\n",
       "    </tr>\n",
       "    <tr>\n",
       "      <th>2</th>\n",
       "      <td>e2c8830fbc86e5964478243099eec23a</td>\n",
       "      <td>You're ashamed about all your fears and doubts...</td>\n",
       "      <td>9c6dc41d5ccd9968d07f055da5d8f741</td>\n",
       "    </tr>\n",
       "    <tr>\n",
       "      <th>3</th>\n",
       "      <td>e2c8830fbc86e5964478243099eec23a</td>\n",
       "      <td>You're ashamed about all your fears and doubts...</td>\n",
       "      <td>bfd04a73e9cffdf0e282c92219a86ea1</td>\n",
       "    </tr>\n",
       "    <tr>\n",
       "      <th>4</th>\n",
       "      <td>7624653ca8522ba93470843c74961b7d</td>\n",
       "      <td>You showed him all the best of you,\\nBut I'm a...</td>\n",
       "      <td>8d70930d09cd239c948408d1317d8659</td>\n",
       "    </tr>\n",
       "  </tbody>\n",
       "</table>\n",
       "</div>"
      ],
      "text/plain": [
       "                            lyricId  \\\n",
       "0  a951f9504e89759e9d23039b7b17ec14   \n",
       "1  0c749bc3f01eb8e6cf986fa14ccfc585   \n",
       "2  e2c8830fbc86e5964478243099eec23a   \n",
       "3  e2c8830fbc86e5964478243099eec23a   \n",
       "4  7624653ca8522ba93470843c74961b7d   \n",
       "\n",
       "                                                text  \\\n",
       "0  Живу сейчас обломами, обломками не той любви\\n...   \n",
       "1  Tell me your fable\\nA fable\\nTell me your fabl...   \n",
       "2  You're ashamed about all your fears and doubts...   \n",
       "3  You're ashamed about all your fears and doubts...   \n",
       "4  You showed him all the best of you,\\nBut I'm a...   \n",
       "\n",
       "                           track_id  \n",
       "0  1c4b1230f937e4c548ff732523214dcd  \n",
       "1  0faea89b0d7d6235b5b74def72511bd8  \n",
       "2  9c6dc41d5ccd9968d07f055da5d8f741  \n",
       "3  bfd04a73e9cffdf0e282c92219a86ea1  \n",
       "4  8d70930d09cd239c948408d1317d8659  "
      ]
     },
     "execution_count": 12,
     "metadata": {},
     "output_type": "execute_result"
    }
   ],
   "source": [
    "df_lyrics = pd.read_json(PATH_LYRICS, lines=True)\n",
    "df_lyrics.head()"
   ]
  },
  {
   "cell_type": "markdown",
   "id": "310018c3",
   "metadata": {},
   "source": [
    "Выведем информацию по датасету"
   ]
  },
  {
   "cell_type": "code",
   "execution_count": 13,
   "id": "25d391cc",
   "metadata": {},
   "outputs": [
    {
     "data": {
      "text/plain": [
       "(11414, 3)"
      ]
     },
     "execution_count": 13,
     "metadata": {},
     "output_type": "execute_result"
    }
   ],
   "source": [
    "df_lyrics.shape"
   ]
  },
  {
   "cell_type": "code",
   "execution_count": 14,
   "id": "82d9d459",
   "metadata": {},
   "outputs": [
    {
     "name": "stdout",
     "output_type": "stream",
     "text": [
      "<class 'pandas.core.frame.DataFrame'>\n",
      "RangeIndex: 11414 entries, 0 to 11413\n",
      "Data columns (total 3 columns):\n",
      " #   Column    Non-Null Count  Dtype \n",
      "---  ------    --------------  ----- \n",
      " 0   lyricId   11414 non-null  object\n",
      " 1   text      11414 non-null  object\n",
      " 2   track_id  11414 non-null  object\n",
      "dtypes: object(3)\n",
      "memory usage: 267.6+ KB\n"
     ]
    }
   ],
   "source": [
    "df_lyrics.info()"
   ]
  },
  {
   "cell_type": "markdown",
   "id": "fadb28ba",
   "metadata": {},
   "source": [
    "У нас есть слова только для 11414 песен. Посмотрим количество уникальных текстов по сравнению с количеством песен."
   ]
  },
  {
   "cell_type": "code",
   "execution_count": 15,
   "id": "75bb9f2d",
   "metadata": {},
   "outputs": [
    {
     "data": {
      "image/png": "[encoded data removed]",
      "text/plain": [
       "<Figure size 640x480 with 1 Axes>"
      ]
     },
     "metadata": {},
     "output_type": "display_data"
    }
   ],
   "source": [
    "plt.title('Количество уникальных текстов и пеcен в датасете')\n",
    "plt.barh(['unique_lyricId','unique_track_id'], [len(df_lyrics['lyricId'].unique()), len(df_lyrics['track_id'].unique())])\n",
    "plt.xlabel('Количество')\n",
    "plt.ylabel('уникальный параметр')\n",
    "plt.show()"
   ]
  },
  {
   "cell_type": "code",
   "execution_count": 16,
   "id": "e2234486",
   "metadata": {},
   "outputs": [
    {
     "name": "stdout",
     "output_type": "stream",
     "text": [
      "Количество строк в датасете lyrics: 11414\n"
     ]
    }
   ],
   "source": [
    "print(f'Количество строк в датасете lyrics: {df_lyrics.shape[0]}')"
   ]
  },
  {
   "cell_type": "code",
   "execution_count": 17,
   "id": "12544e8e",
   "metadata": {},
   "outputs": [
    {
     "name": "stdout",
     "output_type": "stream",
     "text": [
      "Количество уникльных текстов: 10915\n"
     ]
    }
   ],
   "source": [
    "print(f'Количество уникльных текстов: {len(df_lyrics[\"lyricId\"].unique())}')"
   ]
  },
  {
   "cell_type": "code",
   "execution_count": 18,
   "id": "b52c7ecf",
   "metadata": {},
   "outputs": [
    {
     "name": "stdout",
     "output_type": "stream",
     "text": [
      "Количество уникльных треков: 10277\n"
     ]
    }
   ],
   "source": [
    "print(f'Количество уникльных треков: {len(df_lyrics[\"track_id\"].unique())}')"
   ]
  },
  {
   "cell_type": "markdown",
   "id": "dccb3ccf",
   "metadata": {},
   "source": [
    "Количество уникальных треков даже меньше чем количество уникальных текстов. Посмотрим на track_id, которые повторяются"
   ]
  },
  {
   "cell_type": "code",
   "execution_count": 19,
   "id": "70e411af",
   "metadata": {},
   "outputs": [],
   "source": [
    "list_duplicate_id = list(df_lyrics[df_lyrics['track_id'].duplicated()]['track_id'].values)"
   ]
  },
  {
   "cell_type": "code",
   "execution_count": 20,
   "id": "33464c5d",
   "metadata": {},
   "outputs": [
    {
     "data": {
      "text/html": [
       "<div>\n",
       "<style scoped>\n",
       "    .dataframe tbody tr th:only-of-type {\n",
       "        vertical-align: middle;\n",
       "    }\n",
       "\n",
       "    .dataframe tbody tr th {\n",
       "        vertical-align: top;\n",
       "    }\n",
       "\n",
       "    .dataframe thead th {\n",
       "        text-align: right;\n",
       "    }\n",
       "</style>\n",
       "<table border=\"1\" class=\"dataframe\">\n",
       "  <thead>\n",
       "    <tr style=\"text-align: right;\">\n",
       "      <th></th>\n",
       "      <th>lyricId</th>\n",
       "      <th>text</th>\n",
       "      <th>track_id</th>\n",
       "    </tr>\n",
       "  </thead>\n",
       "  <tbody>\n",
       "    <tr>\n",
       "      <th>10681</th>\n",
       "      <td>039236cf5355b4a81a7d5e689dbbf00a</td>\n",
       "      <td>Hearts go astray\\nLeaving hurt when they go\\nI...</td>\n",
       "      <td>0021519c8533f1116591948bbb349aef</td>\n",
       "    </tr>\n",
       "    <tr>\n",
       "      <th>10686</th>\n",
       "      <td>0abe3bb343894590423064dee2d2a114</td>\n",
       "      <td>Hearts go astray\\nLeaving hurt when they go\\nI...</td>\n",
       "      <td>0021519c8533f1116591948bbb349aef</td>\n",
       "    </tr>\n",
       "    <tr>\n",
       "      <th>10676</th>\n",
       "      <td>745f700051961898c65ffdafd9793584</td>\n",
       "      <td>Hearts go astray\\nLeaving hurt when they go\\nI...</td>\n",
       "      <td>0021519c8533f1116591948bbb349aef</td>\n",
       "    </tr>\n",
       "    <tr>\n",
       "      <th>4796</th>\n",
       "      <td>9ee5ee7522b5b6d045a2d276a040d00c</td>\n",
       "      <td>If I stay with you, if I'm choosing wrong\\nI d...</td>\n",
       "      <td>0102189356af15ad0be804eddd9bc24a</td>\n",
       "    </tr>\n",
       "    <tr>\n",
       "      <th>11306</th>\n",
       "      <td>1682f991cfa94d1440bef2aa417edec7</td>\n",
       "      <td>If I stay with you, if I'm choosing wrong\\nI d...</td>\n",
       "      <td>0102189356af15ad0be804eddd9bc24a</td>\n",
       "    </tr>\n",
       "  </tbody>\n",
       "</table>\n",
       "</div>"
      ],
      "text/plain": [
       "                                lyricId  \\\n",
       "10681  039236cf5355b4a81a7d5e689dbbf00a   \n",
       "10686  0abe3bb343894590423064dee2d2a114   \n",
       "10676  745f700051961898c65ffdafd9793584   \n",
       "4796   9ee5ee7522b5b6d045a2d276a040d00c   \n",
       "11306  1682f991cfa94d1440bef2aa417edec7   \n",
       "\n",
       "                                                    text  \\\n",
       "10681  Hearts go astray\\nLeaving hurt when they go\\nI...   \n",
       "10686  Hearts go astray\\nLeaving hurt when they go\\nI...   \n",
       "10676  Hearts go astray\\nLeaving hurt when they go\\nI...   \n",
       "4796   If I stay with you, if I'm choosing wrong\\nI d...   \n",
       "11306  If I stay with you, if I'm choosing wrong\\nI d...   \n",
       "\n",
       "                               track_id  \n",
       "10681  0021519c8533f1116591948bbb349aef  \n",
       "10686  0021519c8533f1116591948bbb349aef  \n",
       "10676  0021519c8533f1116591948bbb349aef  \n",
       "4796   0102189356af15ad0be804eddd9bc24a  \n",
       "11306  0102189356af15ad0be804eddd9bc24a  "
      ]
     },
     "execution_count": 20,
     "metadata": {},
     "output_type": "execute_result"
    }
   ],
   "source": [
    "df_lyrics[df_lyrics['track_id'].isin(list_duplicate_id)].sort_values('track_id').head()"
   ]
  },
  {
   "cell_type": "markdown",
   "id": "66f5b32d",
   "metadata": {},
   "source": [
    "Возможно в данных есть какая-то неточность в момент поступления информации и поэтому для одинаковых track_id могут получаться разные lyricId. Удалим столбец lyricId и проверим на дубликаты"
   ]
  },
  {
   "cell_type": "code",
   "execution_count": 21,
   "id": "3a733c01",
   "metadata": {},
   "outputs": [],
   "source": [
    "df_lyrics = df_lyrics.drop('lyricId', axis=1)"
   ]
  },
  {
   "cell_type": "markdown",
   "id": "efd5db53",
   "metadata": {},
   "source": [
    "Выведем количество дубликатов"
   ]
  },
  {
   "cell_type": "code",
   "execution_count": 22,
   "id": "72c86a37",
   "metadata": {},
   "outputs": [
    {
     "data": {
      "text/plain": [
       "264"
      ]
     },
     "execution_count": 22,
     "metadata": {},
     "output_type": "execute_result"
    }
   ],
   "source": [
    "df_lyrics.duplicated().sum()"
   ]
  },
  {
   "cell_type": "markdown",
   "id": "30b0cea2",
   "metadata": {},
   "source": [
    "Удалим дубликаты и проверим на повторение данных"
   ]
  },
  {
   "cell_type": "code",
   "execution_count": 23,
   "id": "a8344774",
   "metadata": {},
   "outputs": [],
   "source": [
    "df_lyrics = df_lyrics.drop_duplicates()"
   ]
  },
  {
   "cell_type": "code",
   "execution_count": 24,
   "id": "538462d6",
   "metadata": {},
   "outputs": [],
   "source": [
    "list_duplicate_id = list(df_lyrics[df_lyrics['track_id'].duplicated()]['track_id'].values)"
   ]
  },
  {
   "cell_type": "code",
   "execution_count": 25,
   "id": "61ddc599",
   "metadata": {},
   "outputs": [
    {
     "data": {
      "text/html": [
       "<div>\n",
       "<style scoped>\n",
       "    .dataframe tbody tr th:only-of-type {\n",
       "        vertical-align: middle;\n",
       "    }\n",
       "\n",
       "    .dataframe tbody tr th {\n",
       "        vertical-align: top;\n",
       "    }\n",
       "\n",
       "    .dataframe thead th {\n",
       "        text-align: right;\n",
       "    }\n",
       "</style>\n",
       "<table border=\"1\" class=\"dataframe\">\n",
       "  <thead>\n",
       "    <tr style=\"text-align: right;\">\n",
       "      <th></th>\n",
       "      <th>text</th>\n",
       "      <th>track_id</th>\n",
       "    </tr>\n",
       "  </thead>\n",
       "  <tbody>\n",
       "    <tr>\n",
       "      <th>10676</th>\n",
       "      <td>Hearts go astray\\nLeaving hurt when they go\\nI...</td>\n",
       "      <td>0021519c8533f1116591948bbb349aef</td>\n",
       "    </tr>\n",
       "    <tr>\n",
       "      <th>10681</th>\n",
       "      <td>Hearts go astray\\nLeaving hurt when they go\\nI...</td>\n",
       "      <td>0021519c8533f1116591948bbb349aef</td>\n",
       "    </tr>\n",
       "    <tr>\n",
       "      <th>4796</th>\n",
       "      <td>If I stay with you, if I'm choosing wrong\\nI d...</td>\n",
       "      <td>0102189356af15ad0be804eddd9bc24a</td>\n",
       "    </tr>\n",
       "    <tr>\n",
       "      <th>9220</th>\n",
       "      <td>If I stay with you, if I'm choosing wrong\\nI d...</td>\n",
       "      <td>0102189356af15ad0be804eddd9bc24a</td>\n",
       "    </tr>\n",
       "    <tr>\n",
       "      <th>11306</th>\n",
       "      <td>If I stay with you, if I'm choosing wrong\\nI d...</td>\n",
       "      <td>0102189356af15ad0be804eddd9bc24a</td>\n",
       "    </tr>\n",
       "  </tbody>\n",
       "</table>\n",
       "</div>"
      ],
      "text/plain": [
       "                                                    text  \\\n",
       "10676  Hearts go astray\\nLeaving hurt when they go\\nI...   \n",
       "10681  Hearts go astray\\nLeaving hurt when they go\\nI...   \n",
       "4796   If I stay with you, if I'm choosing wrong\\nI d...   \n",
       "9220   If I stay with you, if I'm choosing wrong\\nI d...   \n",
       "11306  If I stay with you, if I'm choosing wrong\\nI d...   \n",
       "\n",
       "                               track_id  \n",
       "10676  0021519c8533f1116591948bbb349aef  \n",
       "10681  0021519c8533f1116591948bbb349aef  \n",
       "4796   0102189356af15ad0be804eddd9bc24a  \n",
       "9220   0102189356af15ad0be804eddd9bc24a  \n",
       "11306  0102189356af15ad0be804eddd9bc24a  "
      ]
     },
     "execution_count": 25,
     "metadata": {},
     "output_type": "execute_result"
    }
   ],
   "source": [
    "df_lyrics[df_lyrics['track_id'].isin(list_duplicate_id)].sort_values('track_id').head()"
   ]
  },
  {
   "cell_type": "markdown",
   "id": "c93100fe",
   "metadata": {},
   "source": [
    "Тексты всё равно схожи, рассмотрим на примере первых двух строк в чём может быть проблема"
   ]
  },
  {
   "cell_type": "code",
   "execution_count": 26,
   "id": "17cbe445",
   "metadata": {},
   "outputs": [
    {
     "data": {
      "text/plain": [
       "\"Hearts go astray\\nLeaving hurt when they go\\nI went away\\nJust when you needed me so\\n\\nFilled with regret\\nI come back beggin' you\\nForgive, forget\\nWhere's the love we once knew?\\n\\nOpen up your eyes\\nThen you'll realize\\nHere I stand with my\\nEverlastin' love\\n\\nNeed you by my side\\nWanna be your bride\\nYou'll never be denied\\nEverlastin' love\\n\\nFrom the very start\\nOpen up your heart\\nBe a lastin' part of\\nEverlastin' love\\n(Real love will last forever)\\n(Real love will last forever)\\n\\nWhen life's river flows\\nNo one really knows\\nTill someone's there to show\\nThe way to lastin' love\\n\\nLike the sun that shines\\nEndlessly shines\\nYou always will be mine\\nIt's eternal love\\n\\nWhen other loves are gone\\nOurs will be strong\\nWe have our very own\\nEverlastin' love\\nLove\\n(Real love will last forever)\\nLove\\n(Real love will last forever)\\n\\nYou give me, you give me\\nYou give me, everlastin' love\\nYou give me, you give me\\nYou give me, everlastin' love\\n\\n(You give me, you give me)\\n(You give me, everlastin' love)\\nYou know you give it to me\\nEverlastin' love\\n\\nOpen up your eyes\\nThen you'll realize\\nHere I stand with my\\nEverlastin' love\\n\\nNeed you by my side\\nWanna be your bride\\nYou'll never be denied\\nEverlastin' love\\n\\nFrom the very start\\nOpen up your heart\\nBe a lasting part of\\nEverlastin' love\\nLove\\n(Real love will last forever)\\nLove, yeah\\n(Real love will last forever)\\n\\nOpen up your eyes\\nThen you'll realize\\nHere I stand with my\\nEverlastin' love\\n\\nNeed you by my side\\nWanna be your bride\\nYou'll never be denied\\nEverlastin' love, yeah\\n\\n(Everlastin' love)\\nEverlastin' love\\nEverlastin' love\\n(Everlastin' love)\\n\\nYou know you give me\\nYou know you give me\\nYou know you give it to me\\n(Everlastin' love)\\n\\nYou know you give me\\nYou know you give me\\nYou know you give it to me\\n(Everlastin' love)\\nEverlastin' love\""
      ]
     },
     "execution_count": 26,
     "metadata": {},
     "output_type": "execute_result"
    }
   ],
   "source": [
    "df_lyrics[df_lyrics['track_id'].isin(list_duplicate_id)].sort_values('track_id').iloc[0]['text']"
   ]
  },
  {
   "cell_type": "code",
   "execution_count": 27,
   "id": "0c244d12",
   "metadata": {},
   "outputs": [
    {
     "data": {
      "text/plain": [
       "\"Hearts go astray\\nLeaving hurt when they go\\nI went away\\nJust when you needed me so\\nFilled with regret\\nI come back beggin' you\\nForgive, forget\\nWhere's the love we once knew?\\nOpen up your eyes\\nThen you'll realize\\nHere I stand with my\\nEverlastin' love\\nNeed you by my side\\nWanna be your bride\\nYou'll never be denied\\nEverlastin' love\\nFrom the very start\\nOpen up your heart\\nBe a lastin' part of\\nEverlastin' love\\n(Real love will last forever)\\n(Real love will last forever)\\nWhen life's river flows\\nNo one really knows\\nTill someone's there to show\\nThe way to lastin' love\\nLike the sun that shines\\nEndlessly shines\\nYou always will be mine\\nIt's eternal love\\nWhen other loves are gone\\nOurs will be strong\\nWe have our very own\\nEverlastin' love\\nLove\\n(Real love will last forever)\\nLove\\n(Real love will last forever)\\nYou give me, you give me\\nYou give me, everlastin' love\\nYou give me, you give me\\nYou give me, everlastin' love\\n(You give me, you give me)\\n(You give me, everlastin' love)\\nYou know you give it to me\\nEverlastin' love\\nOpen up your eyes\\nThen you'll realize\\nHere I stand with my\\nEverlastin' love\\nNeed you by my side\\nWanna be your bride\\nYou'll never be denied\\nEverlastin' love\\nFrom the very start\\nOpen up your heart\\nBe a lasting part of\\nEverlastin' love\\nLove\\n(Real love will last forever)\\nLove, yeah\\n(Real love will last forever)\\nOpen up your eyes\\nThen you'll realize\\nHere I stand with my\\nEverlastin' love\\nNeed you by my side\\nWanna be your bride\\nYou'll never be denied\\nEverlastin' love, yeah\\n(Everlastin' love)\\nEverlastin' love\\nEverlastin' love\\n(Everlastin' love)\\nYou know you give me\\nYou know you give me\\nYou know you give it to me\\n(Everlastin' love)\\nYou know you give me\\nYou know you give me\\nYou know you give it to me\\n(Everlastin' love)\\nEverlastin' love\""
      ]
     },
     "execution_count": 27,
     "metadata": {},
     "output_type": "execute_result"
    }
   ],
   "source": [
    "df_lyrics[df_lyrics['track_id'].isin(list_duplicate_id)].sort_values('track_id').iloc[1]['text']"
   ]
  },
  {
   "cell_type": "markdown",
   "id": "1bf60d3f",
   "metadata": {},
   "source": [
    "Как видим разница состоит в том, что в первом тексте иногда стоит два переноса строк, а во втором один. Приведём весь текст в данном столбце к стандартному виду (сделаем все буквы маленькие, заменим символы переноса, табуляции, скобки на пробел, уберём двойные пробелы и снова проверим датасет на дубликаты)"
   ]
  },
  {
   "cell_type": "code",
   "execution_count": 28,
   "id": "2d23290f",
   "metadata": {},
   "outputs": [],
   "source": [
    "list_bad_simbol = ['\\n\\n', '\\n', '\\t\\t', '\\t', '(', ')','  ']"
   ]
  },
  {
   "cell_type": "code",
   "execution_count": 29,
   "id": "3c8a30e9",
   "metadata": {},
   "outputs": [],
   "source": [
    "for simbol in list_bad_simbol:\n",
    "    df_lyrics['text'] = df_lyrics['text'].str.replace(simbol, ' ')\n",
    "df_lyrics['text'] = df_lyrics['text'].str.lower()"
   ]
  },
  {
   "cell_type": "markdown",
   "id": "0f9973a2",
   "metadata": {},
   "source": [
    "Проверим результат"
   ]
  },
  {
   "cell_type": "code",
   "execution_count": 30,
   "id": "57be4c4b",
   "metadata": {},
   "outputs": [
    {
     "data": {
      "text/plain": [
       "\"hearts go astray leaving hurt when they go i went away just when you needed me so filled with regret i come back beggin' you forgive, forget where's the love we once knew? open up your eyes then you'll realize here i stand with my everlastin' love need you by my side wanna be your bride you'll never be denied everlastin' love from the very start open up your heart be a lastin' part of everlastin' love real love will last forever  real love will last forever when life's river flows no one really knows till someone's there to show the way to lastin' love like the sun that shines endlessly shines you always will be mine it's eternal love when other loves are gone ours will be strong we have our very own everlastin' love love real love will last forever love real love will last forever you give me, you give me you give me, everlastin' love you give me, you give me you give me, everlastin' love you give me, you give me  you give me, everlastin' love you know you give it to me everlastin' love open up your eyes then you'll realize here i stand with my everlastin' love need you by my side wanna be your bride you'll never be denied everlastin' love from the very start open up your heart be a lasting part of everlastin' love love real love will last forever love, yeah real love will last forever open up your eyes then you'll realize here i stand with my everlastin' love need you by my side wanna be your bride you'll never be denied everlastin' love, yeah everlastin' love everlastin' love everlastin' love everlastin' love you know you give me you know you give me you know you give it to me everlastin' love you know you give me you know you give me you know you give it to me everlastin' love everlastin' love\""
      ]
     },
     "execution_count": 30,
     "metadata": {},
     "output_type": "execute_result"
    }
   ],
   "source": [
    "df_lyrics[df_lyrics['track_id'].isin(list_duplicate_id)].sort_values('track_id').iloc[0]['text']"
   ]
  },
  {
   "cell_type": "markdown",
   "id": "51ecbf8e",
   "metadata": {},
   "source": [
    "Выведем количество дубликатов"
   ]
  },
  {
   "cell_type": "code",
   "execution_count": 31,
   "id": "87cfdc9a",
   "metadata": {},
   "outputs": [
    {
     "data": {
      "text/plain": [
       "22"
      ]
     },
     "execution_count": 31,
     "metadata": {},
     "output_type": "execute_result"
    }
   ],
   "source": [
    "df_lyrics.duplicated().sum()"
   ]
  },
  {
   "cell_type": "markdown",
   "id": "8999ffc7",
   "metadata": {},
   "source": [
    "Удалим дубликаты и повторно проверим результат"
   ]
  },
  {
   "cell_type": "code",
   "execution_count": 32,
   "id": "ae5dc14b",
   "metadata": {},
   "outputs": [
    {
     "data": {
      "text/html": [
       "<div>\n",
       "<style scoped>\n",
       "    .dataframe tbody tr th:only-of-type {\n",
       "        vertical-align: middle;\n",
       "    }\n",
       "\n",
       "    .dataframe tbody tr th {\n",
       "        vertical-align: top;\n",
       "    }\n",
       "\n",
       "    .dataframe thead th {\n",
       "        text-align: right;\n",
       "    }\n",
       "</style>\n",
       "<table border=\"1\" class=\"dataframe\">\n",
       "  <thead>\n",
       "    <tr style=\"text-align: right;\">\n",
       "      <th></th>\n",
       "      <th>text</th>\n",
       "      <th>track_id</th>\n",
       "    </tr>\n",
       "  </thead>\n",
       "  <tbody>\n",
       "    <tr>\n",
       "      <th>4796</th>\n",
       "      <td>if i stay with you, if i'm choosing wrong i do...</td>\n",
       "      <td>0102189356af15ad0be804eddd9bc24a</td>\n",
       "    </tr>\n",
       "    <tr>\n",
       "      <th>11306</th>\n",
       "      <td>if i stay with you, if i'm choosing wrong i do...</td>\n",
       "      <td>0102189356af15ad0be804eddd9bc24a</td>\n",
       "    </tr>\n",
       "    <tr>\n",
       "      <th>9220</th>\n",
       "      <td>if i stay with you, if i'm choosing wrong i do...</td>\n",
       "      <td>0102189356af15ad0be804eddd9bc24a</td>\n",
       "    </tr>\n",
       "    <tr>\n",
       "      <th>8330</th>\n",
       "      <td>well sometimes i go out by myself and i look a...</td>\n",
       "      <td>02db8e8e8d3c08f3a57cc6db3876f942</td>\n",
       "    </tr>\n",
       "    <tr>\n",
       "      <th>591</th>\n",
       "      <td>well sometimes i go out by myself and i look a...</td>\n",
       "      <td>02db8e8e8d3c08f3a57cc6db3876f942</td>\n",
       "    </tr>\n",
       "  </tbody>\n",
       "</table>\n",
       "</div>"
      ],
      "text/plain": [
       "                                                    text  \\\n",
       "4796   if i stay with you, if i'm choosing wrong i do...   \n",
       "11306  if i stay with you, if i'm choosing wrong i do...   \n",
       "9220   if i stay with you, if i'm choosing wrong i do...   \n",
       "8330   well sometimes i go out by myself and i look a...   \n",
       "591    well sometimes i go out by myself and i look a...   \n",
       "\n",
       "                               track_id  \n",
       "4796   0102189356af15ad0be804eddd9bc24a  \n",
       "11306  0102189356af15ad0be804eddd9bc24a  \n",
       "9220   0102189356af15ad0be804eddd9bc24a  \n",
       "8330   02db8e8e8d3c08f3a57cc6db3876f942  \n",
       "591    02db8e8e8d3c08f3a57cc6db3876f942  "
      ]
     },
     "execution_count": 32,
     "metadata": {},
     "output_type": "execute_result"
    }
   ],
   "source": [
    "df_lyrics = df_lyrics.drop_duplicates()\n",
    "list_duplicate_id = list(df_lyrics[df_lyrics['track_id'].duplicated()]['track_id'].values)\n",
    "df_lyrics[df_lyrics['track_id'].isin(list_duplicate_id)].sort_values('track_id').head()"
   ]
  },
  {
   "cell_type": "code",
   "execution_count": 33,
   "id": "5039eeff",
   "metadata": {},
   "outputs": [
    {
     "data": {
      "text/plain": [
       "\"if i stay with you, if i'm choosing wrong i don't care at all if i'm losing now, but i'm winning late that's all i want now we need some space, 'cause i feel for you and i wanna change growing up alone, it seems so short i can't explain i don't care at all i don't care at all i will be so strong, looking for a new version of myself 'cause now all i want is to be a part of my new world whatever happens in the future, trust in destiny don't try to make anything else even when you feel i don't care at all i don't care at all\""
      ]
     },
     "execution_count": 33,
     "metadata": {},
     "output_type": "execute_result"
    }
   ],
   "source": [
    "df_lyrics[df_lyrics['track_id'].isin(list_duplicate_id)].sort_values('track_id').iloc[0]['text']"
   ]
  },
  {
   "cell_type": "code",
   "execution_count": 34,
   "id": "0021e45d",
   "metadata": {},
   "outputs": [
    {
     "data": {
      "text/plain": [
       "\"if i stay with you, if i'm choosing wrong i don't care at all if i'm losing now, but i'm winning late that's all i want now we need some space 'cause i feel for you and i wanna change growing up alone, it seems so short i can't explain whatever happens in the future, trust in destiny, oh-oh, oh-oh don't try to make anything else, even when you feel i don't care at all i don't care at all lost my time, my life is going on i will be so strong, looking for a new version of myself 'cause now all i want is to be a part of my new world whatever happens in the future, trust in destiny don't try to make anything else, even when you feel i don't care at all i don't care at all why not have it all? i don't care at all lost my time, my life is going on lost my time, my life is going on lost my time, my life is going on, ooh-ooh ooh-ooh, ooh-ooh\""
      ]
     },
     "execution_count": 34,
     "metadata": {},
     "output_type": "execute_result"
    }
   ],
   "source": [
    "df_lyrics[df_lyrics['track_id'].isin(list_duplicate_id)].sort_values('track_id').iloc[1]['text']"
   ]
  },
  {
   "cell_type": "code",
   "execution_count": 35,
   "id": "85bd369a",
   "metadata": {},
   "outputs": [
    {
     "data": {
      "text/plain": [
       "\"if i stay with you, if i'm choosing wrong i don't care at all if i'm loosing now, but i'm winning late that's all i want now we need some space 'cause i feel for you and i wanna change growing up alone, it seems so short i can't explain whatever happens in the future, trust in destiny don't try to make anything else, even when you feel i don't care at all, i am lost i don't care at all lost my time, my life is going on i will be so strong, looking for a new version of myself 'cause now all i want is to be a part of my new world whatever happens in the future, trust in destiny don't try to make anything else, even when you feel i don't care at all, i am lost i don't care at all why not have it all? i am lone i don't care at all lost my time, my life is going on\""
      ]
     },
     "execution_count": 35,
     "metadata": {},
     "output_type": "execute_result"
    }
   ],
   "source": [
    "df_lyrics[df_lyrics['track_id'].isin(list_duplicate_id)].sort_values('track_id').iloc[2]['text']"
   ]
  },
  {
   "cell_type": "markdown",
   "id": "e5fad6b2",
   "metadata": {},
   "source": [
    "Получается, что в датасете есть песни с одинаковым track_id, но с разными текстами, возможно это связано с вариантами исполнения (студийная запись, концертная и т.д.). Так что единственный вариант, это очищать от дубликатов по track_id."
   ]
  },
  {
   "cell_type": "code",
   "execution_count": null,
   "id": "a8b499ac",
   "metadata": {},
   "outputs": [],
   "source": []
  },
  {
   "cell_type": "markdown",
   "id": "9e125dc4",
   "metadata": {},
   "source": [
    "## Изучение датасета meta"
   ]
  },
  {
   "cell_type": "markdown",
   "id": "62e3f265",
   "metadata": {},
   "source": [
    "Изучим данные в датасете meta данный датасет содержит следующие столбцы  \n",
    "\n",
    "- track_id - уникальный идентификатор трека;\n",
    "- dttm - первая дата появления информации о треке;\n",
    "- title - название трека;\n",
    "- language - язык исполнения;\n",
    "- isrc - международный уникальный идентификатор трека;\n",
    "- genres - жанры;\n",
    "- duration - длительность трека;"
   ]
  },
  {
   "cell_type": "code",
   "execution_count": 36,
   "id": "a1aecd0f",
   "metadata": {},
   "outputs": [
    {
     "data": {
      "text/html": [
       "<div>\n",
       "<style scoped>\n",
       "    .dataframe tbody tr th:only-of-type {\n",
       "        vertical-align: middle;\n",
       "    }\n",
       "\n",
       "    .dataframe tbody tr th {\n",
       "        vertical-align: top;\n",
       "    }\n",
       "\n",
       "    .dataframe thead th {\n",
       "        text-align: right;\n",
       "    }\n",
       "</style>\n",
       "<table border=\"1\" class=\"dataframe\">\n",
       "  <thead>\n",
       "    <tr style=\"text-align: right;\">\n",
       "      <th></th>\n",
       "      <th>track_id</th>\n",
       "      <th>dttm</th>\n",
       "      <th>title</th>\n",
       "      <th>language</th>\n",
       "      <th>isrc</th>\n",
       "      <th>genres</th>\n",
       "      <th>duration</th>\n",
       "    </tr>\n",
       "  </thead>\n",
       "  <tbody>\n",
       "    <tr>\n",
       "      <th>0</th>\n",
       "      <td>c3b9d6a354ca008aa4518329aaa21380</td>\n",
       "      <td>2021-12-16 21:00:00</td>\n",
       "      <td>Happy New Year</td>\n",
       "      <td>EN</td>\n",
       "      <td>RUB422103970</td>\n",
       "      <td>[DANCE]</td>\n",
       "      <td>161120.0</td>\n",
       "    </tr>\n",
       "    <tr>\n",
       "      <th>1</th>\n",
       "      <td>c57e3d13bbbf5322584a7e92e6f1f7ff</td>\n",
       "      <td>2021-11-24 14:00:33</td>\n",
       "      <td>Bad Habits</td>\n",
       "      <td>EN</td>\n",
       "      <td>QZN882178276</td>\n",
       "      <td>[ELECTRONICS]</td>\n",
       "      <td>362260.0</td>\n",
       "    </tr>\n",
       "    <tr>\n",
       "      <th>2</th>\n",
       "      <td>955f2aafe8717908c140bf122ba4172d</td>\n",
       "      <td>2021-11-24 15:37:03</td>\n",
       "      <td>Por Esa Loca Vanidad</td>\n",
       "      <td>None</td>\n",
       "      <td>QZNJZ2122549</td>\n",
       "      <td>[FOLK, LATINFOLK]</td>\n",
       "      <td>260000.0</td>\n",
       "    </tr>\n",
       "    <tr>\n",
       "      <th>3</th>\n",
       "      <td>fae5a077c9956045955dde02143bd8ff</td>\n",
       "      <td>2021-11-24 15:37:03</td>\n",
       "      <td>Mil Lagrimas</td>\n",
       "      <td>None</td>\n",
       "      <td>QZNJZ2166033</td>\n",
       "      <td>[FOLK, LATINFOLK]</td>\n",
       "      <td>190000.0</td>\n",
       "    </tr>\n",
       "    <tr>\n",
       "      <th>4</th>\n",
       "      <td>6bede082154d34fc18d9a6744bc95bf5</td>\n",
       "      <td>2021-11-24 15:37:03</td>\n",
       "      <td>Sexo Humo y Alcohol</td>\n",
       "      <td>None</td>\n",
       "      <td>QZNJZ2122551</td>\n",
       "      <td>[FOLK, LATINFOLK]</td>\n",
       "      <td>203000.0</td>\n",
       "    </tr>\n",
       "  </tbody>\n",
       "</table>\n",
       "</div>"
      ],
      "text/plain": [
       "                           track_id                dttm                 title  \\\n",
       "0  c3b9d6a354ca008aa4518329aaa21380 2021-12-16 21:00:00        Happy New Year   \n",
       "1  c57e3d13bbbf5322584a7e92e6f1f7ff 2021-11-24 14:00:33            Bad Habits   \n",
       "2  955f2aafe8717908c140bf122ba4172d 2021-11-24 15:37:03  Por Esa Loca Vanidad   \n",
       "3  fae5a077c9956045955dde02143bd8ff 2021-11-24 15:37:03          Mil Lagrimas   \n",
       "4  6bede082154d34fc18d9a6744bc95bf5 2021-11-24 15:37:03   Sexo Humo y Alcohol   \n",
       "\n",
       "  language          isrc             genres  duration  \n",
       "0       EN  RUB422103970            [DANCE]  161120.0  \n",
       "1       EN  QZN882178276      [ELECTRONICS]  362260.0  \n",
       "2     None  QZNJZ2122549  [FOLK, LATINFOLK]  260000.0  \n",
       "3     None  QZNJZ2166033  [FOLK, LATINFOLK]  190000.0  \n",
       "4     None  QZNJZ2122551  [FOLK, LATINFOLK]  203000.0  "
      ]
     },
     "execution_count": 36,
     "metadata": {},
     "output_type": "execute_result"
    }
   ],
   "source": [
    "df_meta = pd.read_json(PATH_META, lines=True, convert_dates=['dttm'])\n",
    "df_meta.head()"
   ]
  },
  {
   "cell_type": "markdown",
   "id": "983171e7",
   "metadata": {},
   "source": [
    "Сразу проверим дубликаты в track_id"
   ]
  },
  {
   "cell_type": "code",
   "execution_count": 40,
   "id": "e85eaee6",
   "metadata": {},
   "outputs": [
    {
     "data": {
      "text/plain": [
       "0"
      ]
     },
     "execution_count": 40,
     "metadata": {},
     "output_type": "execute_result"
    }
   ],
   "source": [
    "df_meta.duplicated(subset='track_id').sum()"
   ]
  },
  {
   "cell_type": "markdown",
   "id": "cf48c0ce",
   "metadata": {},
   "source": [
    "И в isrc"
   ]
  },
  {
   "cell_type": "code",
   "execution_count": 41,
   "id": "5ac51e84",
   "metadata": {},
   "outputs": [
    {
     "data": {
      "text/plain": [
       "485"
      ]
     },
     "execution_count": 41,
     "metadata": {},
     "output_type": "execute_result"
    }
   ],
   "source": [
    "df_meta.duplicated(subset='isrc').sum()"
   ]
  },
  {
   "cell_type": "markdown",
   "id": "03cf776d",
   "metadata": {},
   "source": [
    "Посмотрим какие треки имеют повторяющийся isrc"
   ]
  },
  {
   "cell_type": "code",
   "execution_count": 43,
   "id": "43762198",
   "metadata": {},
   "outputs": [
    {
     "data": {
      "text/html": [
       "<div>\n",
       "<style scoped>\n",
       "    .dataframe tbody tr th:only-of-type {\n",
       "        vertical-align: middle;\n",
       "    }\n",
       "\n",
       "    .dataframe tbody tr th {\n",
       "        vertical-align: top;\n",
       "    }\n",
       "\n",
       "    .dataframe thead th {\n",
       "        text-align: right;\n",
       "    }\n",
       "</style>\n",
       "<table border=\"1\" class=\"dataframe\">\n",
       "  <thead>\n",
       "    <tr style=\"text-align: right;\">\n",
       "      <th></th>\n",
       "      <th>track_id</th>\n",
       "      <th>dttm</th>\n",
       "      <th>title</th>\n",
       "      <th>language</th>\n",
       "      <th>isrc</th>\n",
       "      <th>genres</th>\n",
       "      <th>duration</th>\n",
       "    </tr>\n",
       "  </thead>\n",
       "  <tbody>\n",
       "    <tr>\n",
       "      <th>27012</th>\n",
       "      <td>be0233f57dbb59079929ac646b0b9d5c</td>\n",
       "      <td>2021-07-06 16:38:30</td>\n",
       "      <td>Zivot da stane ne sme</td>\n",
       "      <td>None</td>\n",
       "      <td>ATAJ12100470</td>\n",
       "      <td>[FOLK]</td>\n",
       "      <td>151190.0</td>\n",
       "    </tr>\n",
       "    <tr>\n",
       "      <th>26955</th>\n",
       "      <td>8aff9d28865aaf1fa44e46b82cba0f63</td>\n",
       "      <td>2021-07-06 15:38:37</td>\n",
       "      <td>Burma</td>\n",
       "      <td>None</td>\n",
       "      <td>ATAJ12100470</td>\n",
       "      <td>[FOLK]</td>\n",
       "      <td>179300.0</td>\n",
       "    </tr>\n",
       "    <tr>\n",
       "      <th>51052</th>\n",
       "      <td>196a0973d73122891a426f8334105ce7</td>\n",
       "      <td>2019-03-29 21:00:00</td>\n",
       "      <td>Inní mér syngur vitleysingur</td>\n",
       "      <td>EN</td>\n",
       "      <td>ATN261668711</td>\n",
       "      <td>[FOLKMETAL, METAL]</td>\n",
       "      <td>237010.0</td>\n",
       "    </tr>\n",
       "    <tr>\n",
       "      <th>66395</th>\n",
       "      <td>425761c88ebc69e89c748eb537671953</td>\n",
       "      <td>2018-04-28 19:08:26</td>\n",
       "      <td>Inni Mer Syngur Vitleysingur</td>\n",
       "      <td>None</td>\n",
       "      <td>ATN261668711</td>\n",
       "      <td>[FOLKMETAL, METAL]</td>\n",
       "      <td>237010.0</td>\n",
       "    </tr>\n",
       "    <tr>\n",
       "      <th>66396</th>\n",
       "      <td>466df43223bcc7e5d0973e9038890fb7</td>\n",
       "      <td>2018-04-28 19:08:26</td>\n",
       "      <td>Nattfodd</td>\n",
       "      <td>None</td>\n",
       "      <td>ATN261668712</td>\n",
       "      <td>[FOLKMETAL, METAL]</td>\n",
       "      <td>255380.0</td>\n",
       "    </tr>\n",
       "  </tbody>\n",
       "</table>\n",
       "</div>"
      ],
      "text/plain": [
       "                               track_id                dttm  \\\n",
       "27012  be0233f57dbb59079929ac646b0b9d5c 2021-07-06 16:38:30   \n",
       "26955  8aff9d28865aaf1fa44e46b82cba0f63 2021-07-06 15:38:37   \n",
       "51052  196a0973d73122891a426f8334105ce7 2019-03-29 21:00:00   \n",
       "66395  425761c88ebc69e89c748eb537671953 2018-04-28 19:08:26   \n",
       "66396  466df43223bcc7e5d0973e9038890fb7 2018-04-28 19:08:26   \n",
       "\n",
       "                              title language          isrc  \\\n",
       "27012         Zivot da stane ne sme     None  ATAJ12100470   \n",
       "26955                         Burma     None  ATAJ12100470   \n",
       "51052  Inní mér syngur vitleysingur       EN  ATN261668711   \n",
       "66395  Inni Mer Syngur Vitleysingur     None  ATN261668711   \n",
       "66396                      Nattfodd     None  ATN261668712   \n",
       "\n",
       "                   genres  duration  \n",
       "27012              [FOLK]  151190.0  \n",
       "26955              [FOLK]  179300.0  \n",
       "51052  [FOLKMETAL, METAL]  237010.0  \n",
       "66395  [FOLKMETAL, METAL]  237010.0  \n",
       "66396  [FOLKMETAL, METAL]  255380.0  "
      ]
     },
     "execution_count": 43,
     "metadata": {},
     "output_type": "execute_result"
    }
   ],
   "source": [
    "list_duplicate_isrc = list(df_meta[df_meta['isrc'].duplicated()]['isrc'].values)\n",
    "df_meta[df_meta['isrc'].isin(list_duplicate_isrc)].sort_values('isrc').head()"
   ]
  },
  {
   "cell_type": "markdown",
   "id": "4ebae6d1",
   "metadata": {},
   "source": [
    "Получились весьма неоднозначные данные. У нас есть дубликаты в уникальном идентификаторе, но при этом могут отличаться даже названия песен, может отсутствовать метка языка (это может быть связано как с тем, что это инструментальное исполнение, так и с тем, что данных по языку отсутствуют)"
   ]
  },
  {
   "cell_type": "markdown",
   "id": "fc5b1b1b",
   "metadata": {},
   "source": [
    "Построим гистограмму распространения языка."
   ]
  },
  {
   "cell_type": "code",
   "execution_count": 60,
   "id": "99ef49c8",
   "metadata": {},
   "outputs": [
    {
     "data": {
      "image/png": "[encoded data removed]",
      "text/plain": [
       "<Figure size 640x480 with 1 Axes>"
      ]
     },
     "metadata": {},
     "output_type": "display_data"
    }
   ],
   "source": [
    "df_group = df_meta['language'].value_counts(ascending=True).reset_index()\n",
    "df_group = df_group.tail(10)\n",
    "plt.title('Топ 10 языков в предоставленных данных')\n",
    "plt.barh(df_group['language'], df_group['count'])\n",
    "plt.xlabel('Количество треков')\n",
    "plt.ylabel('Язык')\n",
    "plt.show()"
   ]
  },
  {
   "cell_type": "markdown",
   "id": "dac316e3",
   "metadata": {},
   "source": [
    "Как видим наиболее часто в данных встречаются треки на английском, значительно реже на испанском, русском и итальянском."
   ]
  },
  {
   "cell_type": "markdown",
   "id": "24bd7f05",
   "metadata": {},
   "source": [
    "Выведем количество строк в которых язык не указан."
   ]
  },
  {
   "cell_type": "code",
   "execution_count": 61,
   "id": "463dc910",
   "metadata": {},
   "outputs": [
    {
     "data": {
      "text/plain": [
       "49800"
      ]
     },
     "execution_count": 61,
     "metadata": {},
     "output_type": "execute_result"
    }
   ],
   "source": [
    "df_meta['language'].isna().sum()"
   ]
  },
  {
   "cell_type": "markdown",
   "id": "aa9dc44a",
   "metadata": {},
   "source": [
    "У нас почти 50000 строк без указания языка и это как-то необходимо будет обработать"
   ]
  },
  {
   "cell_type": "code",
   "execution_count": null,
   "id": "c6967851",
   "metadata": {},
   "outputs": [],
   "source": []
  }
 ],
 "metadata": {
  "kernelspec": {
   "display_name": "Python 3 (ipykernel)",
   "language": "python",
   "name": "python3"
  },
  "language_info": {
   "codemirror_mode": {
    "name": "ipython",
    "version": 3
   },
   "file_extension": ".py",
   "mimetype": "text/x-python",
   "name": "python",
   "nbconvert_exporter": "python",
   "pygments_lexer": "ipython3",
   "version": "3.10.11"
  },
  "toc": {
   "base_numbering": 1,
   "nav_menu": {},
   "number_sections": true,
   "sideBar": true,
   "skip_h1_title": false,
   "title_cell": "Table of Contents",
   "title_sidebar": "Contents",
   "toc_cell": false,
   "toc_position": {},
   "toc_section_display": true,
   "toc_window_display": false
  }
 },
 "nbformat": 4,
 "nbformat_minor": 5
}

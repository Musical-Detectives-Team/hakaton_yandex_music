{
 "cells": [
  {
   "cell_type": "markdown",
   "id": "3641cbbd",
   "metadata": {},
   "source": [
    "# EDA"
   ]
  },
  {
   "cell_type": "markdown",
   "id": "49561a67",
   "metadata": {},
   "source": [
    "Импортируем библиотеки и прописываем пути, устанавливаем random_state."
   ]
  },
  {
   "cell_type": "code",
   "execution_count": 1,
   "id": "8568c7aa",
   "metadata": {},
   "outputs": [],
   "source": [
    "import pandas as pd\n",
    "import matplotlib.pyplot as plt"
   ]
  },
  {
   "cell_type": "code",
   "execution_count": 2,
   "id": "30d904b3",
   "metadata": {},
   "outputs": [],
   "source": [
    "PATH_COVERS = 'data/raw/covers.json'\n",
    "PATH_LYRICS = 'data/raw/lyrics.json'\n",
    "PATH_META = 'data/raw/meta.json'\n",
    "\n",
    "RANDOM_STATE = 54321"
   ]
  },
  {
   "cell_type": "markdown",
   "id": "0a61ffb3",
   "metadata": {},
   "source": [
    "## Изучение датасета covers "
   ]
  },
  {
   "cell_type": "markdown",
   "id": "df9a1b0b",
   "metadata": {},
   "source": [
    "Изучим данные в датасете covers данный датасет содержит следующие столбцы  \n",
    "- track_id - уникальный идентификатор трека;\n",
    "- track_remake_type - метка, присвоенная редакторами. Может принимать значения ORIGINAL и COVER;\n",
    "- original_track_id - уникальный идентификатор исходного трека."
   ]
  },
  {
   "cell_type": "code",
   "execution_count": 3,
   "id": "346210ee",
   "metadata": {},
   "outputs": [
    {
     "data": {
      "text/html": [
       "<div>\n",
       "<style scoped>\n",
       "    .dataframe tbody tr th:only-of-type {\n",
       "        vertical-align: middle;\n",
       "    }\n",
       "\n",
       "    .dataframe tbody tr th {\n",
       "        vertical-align: top;\n",
       "    }\n",
       "\n",
       "    .dataframe thead th {\n",
       "        text-align: right;\n",
       "    }\n",
       "</style>\n",
       "<table border=\"1\" class=\"dataframe\">\n",
       "  <thead>\n",
       "    <tr style=\"text-align: right;\">\n",
       "      <th></th>\n",
       "      <th>original_track_id</th>\n",
       "      <th>track_id</th>\n",
       "      <th>track_remake_type</th>\n",
       "    </tr>\n",
       "  </thead>\n",
       "  <tbody>\n",
       "    <tr>\n",
       "      <th>0</th>\n",
       "      <td>eeb69a3cb92300456b6a5f4162093851</td>\n",
       "      <td>eeb69a3cb92300456b6a5f4162093851</td>\n",
       "      <td>ORIGINAL</td>\n",
       "    </tr>\n",
       "    <tr>\n",
       "      <th>1</th>\n",
       "      <td>fe7ee8fc1959cc7214fa21c4840dff0a</td>\n",
       "      <td>fe7ee8fc1959cc7214fa21c4840dff0a</td>\n",
       "      <td>ORIGINAL</td>\n",
       "    </tr>\n",
       "    <tr>\n",
       "      <th>2</th>\n",
       "      <td>cd89fef7ffdd490db800357f47722b20</td>\n",
       "      <td>cd89fef7ffdd490db800357f47722b20</td>\n",
       "      <td>ORIGINAL</td>\n",
       "    </tr>\n",
       "    <tr>\n",
       "      <th>3</th>\n",
       "      <td>995665640dc319973d3173a74a03860c</td>\n",
       "      <td>995665640dc319973d3173a74a03860c</td>\n",
       "      <td>ORIGINAL</td>\n",
       "    </tr>\n",
       "    <tr>\n",
       "      <th>4</th>\n",
       "      <td>None</td>\n",
       "      <td>d6288499d0083cc34e60a077b7c4b3e1</td>\n",
       "      <td>COVER</td>\n",
       "    </tr>\n",
       "  </tbody>\n",
       "</table>\n",
       "</div>"
      ],
      "text/plain": [
       "                  original_track_id                          track_id   \n",
       "0  eeb69a3cb92300456b6a5f4162093851  eeb69a3cb92300456b6a5f4162093851  \\\n",
       "1  fe7ee8fc1959cc7214fa21c4840dff0a  fe7ee8fc1959cc7214fa21c4840dff0a   \n",
       "2  cd89fef7ffdd490db800357f47722b20  cd89fef7ffdd490db800357f47722b20   \n",
       "3  995665640dc319973d3173a74a03860c  995665640dc319973d3173a74a03860c   \n",
       "4                              None  d6288499d0083cc34e60a077b7c4b3e1   \n",
       "\n",
       "  track_remake_type  \n",
       "0          ORIGINAL  \n",
       "1          ORIGINAL  \n",
       "2          ORIGINAL  \n",
       "3          ORIGINAL  \n",
       "4             COVER  "
      ]
     },
     "execution_count": 3,
     "metadata": {},
     "output_type": "execute_result"
    }
   ],
   "source": [
    "df_covers = pd.read_json(PATH_COVERS, lines=True)\n",
    "df_covers.head()"
   ]
  },
  {
   "cell_type": "markdown",
   "id": "3e41d2e3",
   "metadata": {},
   "source": [
    "Выведем информацию по датасету"
   ]
  },
  {
   "cell_type": "code",
   "execution_count": 4,
   "id": "b33abb98",
   "metadata": {},
   "outputs": [
    {
     "data": {
      "text/plain": [
       "(71597, 3)"
      ]
     },
     "execution_count": 4,
     "metadata": {},
     "output_type": "execute_result"
    }
   ],
   "source": [
    "df_covers.shape"
   ]
  },
  {
   "cell_type": "code",
   "execution_count": 5,
   "id": "3c37f4f3",
   "metadata": {},
   "outputs": [
    {
     "name": "stdout",
     "output_type": "stream",
     "text": [
      "<class 'pandas.core.frame.DataFrame'>\n",
      "RangeIndex: 71597 entries, 0 to 71596\n",
      "Data columns (total 3 columns):\n",
      " #   Column             Non-Null Count  Dtype \n",
      "---  ------             --------------  ----- \n",
      " 0   original_track_id  4821 non-null   object\n",
      " 1   track_id           71597 non-null  object\n",
      " 2   track_remake_type  71597 non-null  object\n",
      "dtypes: object(3)\n",
      "memory usage: 1.6+ MB\n"
     ]
    }
   ],
   "source": [
    "df_covers.info()"
   ]
  },
  {
   "cell_type": "markdown",
   "id": "3b156379",
   "metadata": {},
   "source": [
    "У нас 71597 записей при этом в id оригинальных треков есть много пропусков"
   ]
  },
  {
   "cell_type": "markdown",
   "id": "2ef33956",
   "metadata": {},
   "source": [
    "Посмотрим на соотношение оригинальных и версий и каверов в полном датасете"
   ]
  },
  {
   "cell_type": "code",
   "execution_count": 6,
   "id": "ccf95600",
   "metadata": {},
   "outputs": [],
   "source": [
    "df_group = df_covers.groupby('track_remake_type')['track_id'].agg('count').reset_index()"
   ]
  },
  {
   "cell_type": "code",
   "execution_count": 7,
   "id": "391813c9",
   "metadata": {},
   "outputs": [
    {
     "data": {
      "image/png": "[encoded data removed]",
      "text/plain": [
       "<Figure size 640x480 with 1 Axes>"
      ]
     },
     "metadata": {},
     "output_type": "display_data"
    }
   ],
   "source": [
    "plt.title('Количество оригинальных и кавер треков на полном датасете')\n",
    "plt.barh(df_group['track_remake_type'], df_group['track_id'])\n",
    "plt.xlabel('Количество треков')\n",
    "plt.ylabel('Тип трека')\n",
    "plt.show()"
   ]
  },
  {
   "cell_type": "markdown",
   "id": "ea11d6e5",
   "metadata": {},
   "source": [
    "Посмотрим на соотношение оригинальных и версий и каверов в датасете без пропусков"
   ]
  },
  {
   "cell_type": "code",
   "execution_count": 8,
   "id": "b0dfce76",
   "metadata": {},
   "outputs": [],
   "source": [
    "df_group = df_covers.dropna().groupby('track_remake_type')['track_id'].agg('count').reset_index()"
   ]
  },
  {
   "cell_type": "code",
   "execution_count": 9,
   "id": "a9d4a57a",
   "metadata": {},
   "outputs": [
    {
     "data": {
      "image/png": "[encoded data removed]",
      "text/plain": [
       "<Figure size 640x480 with 1 Axes>"
      ]
     },
     "metadata": {},
     "output_type": "display_data"
    }
   ],
   "source": [
    "plt.title('Количество оригинальных и кавер треков на датасете без пропусков')\n",
    "plt.barh(df_group['track_remake_type'], df_group['track_id'])\n",
    "plt.xlabel('Количество треков')\n",
    "plt.ylabel('Тип трека')\n",
    "plt.show()"
   ]
  },
  {
   "cell_type": "markdown",
   "id": "ecf27e93",
   "metadata": {},
   "source": [
    "Посмотрим сколько треков имеют не только ссылку на оригинальный id, но и сам трек находится в выборке"
   ]
  },
  {
   "cell_type": "code",
   "execution_count": 10,
   "id": "7b15a619",
   "metadata": {},
   "outputs": [
    {
     "data": {
      "text/plain": [
       "297"
      ]
     },
     "execution_count": 10,
     "metadata": {},
     "output_type": "execute_result"
    }
   ],
   "source": [
    "df_covers_copy = df_covers.copy(deep=True)\n",
    "df = df_covers[['track_id']].merge(df_covers_copy, left_on='track_id', right_on='original_track_id')\n",
    "df[df['track_remake_type']=='COVER'].shape[0]"
   ]
  },
  {
   "cell_type": "markdown",
   "id": "47f10705",
   "metadata": {},
   "source": [
    "Всего у нас 297 таких треков, что учитывая будущую размерность векторизированных данных очень мало. Однако это единственные размеченные данные с которыми мы можем корректно работать и в дальнейшем оценивать качество нашей модели."
   ]
  },
  {
   "cell_type": "code",
   "execution_count": 11,
   "id": "fb5970f2",
   "metadata": {},
   "outputs": [
    {
     "name": "stdout",
     "output_type": "stream",
     "text": [
      "<class 'pandas.core.frame.DataFrame'>\n",
      "Index: 67304 entries, 4 to 71594\n",
      "Data columns (total 3 columns):\n",
      " #   Column             Non-Null Count  Dtype \n",
      "---  ------             --------------  ----- \n",
      " 0   original_track_id  528 non-null    object\n",
      " 1   track_id           67304 non-null  object\n",
      " 2   track_remake_type  67304 non-null  object\n",
      "dtypes: object(3)\n",
      "memory usage: 2.1+ MB\n"
     ]
    }
   ],
   "source": [
    "df_covers[df_covers['track_remake_type']=='COVER'].info()"
   ]
  },
  {
   "cell_type": "markdown",
   "id": "224951f0",
   "metadata": {},
   "source": [
    "## Изучение датасета lyrics"
   ]
  },
  {
   "cell_type": "markdown",
   "id": "ea4d0326",
   "metadata": {},
   "source": [
    "Изучим данные в датасете lyrics данный датасет содержит следующие столбцы  \n",
    "- track_id - уникальный идентификатор трека;\n",
    "- lyricId - уникальный идентификатор текста;\n",
    "- text - текст трека."
   ]
  },
  {
   "cell_type": "code",
   "execution_count": 57,
   "id": "b74e1429",
   "metadata": {},
   "outputs": [
    {
     "data": {
      "text/html": [
       "<div>\n",
       "<style scoped>\n",
       "    .dataframe tbody tr th:only-of-type {\n",
       "        vertical-align: middle;\n",
       "    }\n",
       "\n",
       "    .dataframe tbody tr th {\n",
       "        vertical-align: top;\n",
       "    }\n",
       "\n",
       "    .dataframe thead th {\n",
       "        text-align: right;\n",
       "    }\n",
       "</style>\n",
       "<table border=\"1\" class=\"dataframe\">\n",
       "  <thead>\n",
       "    <tr style=\"text-align: right;\">\n",
       "      <th></th>\n",
       "      <th>lyricId</th>\n",
       "      <th>text</th>\n",
       "      <th>track_id</th>\n",
       "    </tr>\n",
       "  </thead>\n",
       "  <tbody>\n",
       "    <tr>\n",
       "      <th>0</th>\n",
       "      <td>a951f9504e89759e9d23039b7b17ec14</td>\n",
       "      <td>Живу сейчас обломами, обломками не той любви\\n...</td>\n",
       "      <td>1c4b1230f937e4c548ff732523214dcd</td>\n",
       "    </tr>\n",
       "    <tr>\n",
       "      <th>1</th>\n",
       "      <td>0c749bc3f01eb8e6cf986fa14ccfc585</td>\n",
       "      <td>Tell me your fable\\nA fable\\nTell me your fabl...</td>\n",
       "      <td>0faea89b0d7d6235b5b74def72511bd8</td>\n",
       "    </tr>\n",
       "    <tr>\n",
       "      <th>2</th>\n",
       "      <td>e2c8830fbc86e5964478243099eec23a</td>\n",
       "      <td>You're ashamed about all your fears and doubts...</td>\n",
       "      <td>9c6dc41d5ccd9968d07f055da5d8f741</td>\n",
       "    </tr>\n",
       "    <tr>\n",
       "      <th>3</th>\n",
       "      <td>e2c8830fbc86e5964478243099eec23a</td>\n",
       "      <td>You're ashamed about all your fears and doubts...</td>\n",
       "      <td>bfd04a73e9cffdf0e282c92219a86ea1</td>\n",
       "    </tr>\n",
       "    <tr>\n",
       "      <th>4</th>\n",
       "      <td>7624653ca8522ba93470843c74961b7d</td>\n",
       "      <td>You showed him all the best of you,\\nBut I'm a...</td>\n",
       "      <td>8d70930d09cd239c948408d1317d8659</td>\n",
       "    </tr>\n",
       "  </tbody>\n",
       "</table>\n",
       "</div>"
      ],
      "text/plain": [
       "                            lyricId   \n",
       "0  a951f9504e89759e9d23039b7b17ec14  \\\n",
       "1  0c749bc3f01eb8e6cf986fa14ccfc585   \n",
       "2  e2c8830fbc86e5964478243099eec23a   \n",
       "3  e2c8830fbc86e5964478243099eec23a   \n",
       "4  7624653ca8522ba93470843c74961b7d   \n",
       "\n",
       "                                                text   \n",
       "0  Живу сейчас обломами, обломками не той любви\\n...  \\\n",
       "1  Tell me your fable\\nA fable\\nTell me your fabl...   \n",
       "2  You're ashamed about all your fears and doubts...   \n",
       "3  You're ashamed about all your fears and doubts...   \n",
       "4  You showed him all the best of you,\\nBut I'm a...   \n",
       "\n",
       "                           track_id  \n",
       "0  1c4b1230f937e4c548ff732523214dcd  \n",
       "1  0faea89b0d7d6235b5b74def72511bd8  \n",
       "2  9c6dc41d5ccd9968d07f055da5d8f741  \n",
       "3  bfd04a73e9cffdf0e282c92219a86ea1  \n",
       "4  8d70930d09cd239c948408d1317d8659  "
      ]
     },
     "execution_count": 57,
     "metadata": {},
     "output_type": "execute_result"
    }
   ],
   "source": [
    "df_lyrics = pd.read_json(PATH_LYRICS, lines=True)\n",
    "df_lyrics.head()"
   ]
  },
  {
   "cell_type": "markdown",
   "id": "310018c3",
   "metadata": {},
   "source": [
    "Выведем информацию по датасету"
   ]
  },
  {
   "cell_type": "code",
   "execution_count": 58,
   "id": "25d391cc",
   "metadata": {},
   "outputs": [
    {
     "data": {
      "text/plain": [
       "(11414, 3)"
      ]
     },
     "execution_count": 58,
     "metadata": {},
     "output_type": "execute_result"
    }
   ],
   "source": [
    "df_lyrics.shape"
   ]
  },
  {
   "cell_type": "code",
   "execution_count": 15,
   "id": "82d9d459",
   "metadata": {},
   "outputs": [
    {
     "name": "stdout",
     "output_type": "stream",
     "text": [
      "<class 'pandas.core.frame.DataFrame'>\n",
      "RangeIndex: 11414 entries, 0 to 11413\n",
      "Data columns (total 3 columns):\n",
      " #   Column    Non-Null Count  Dtype \n",
      "---  ------    --------------  ----- \n",
      " 0   lyricId   11414 non-null  object\n",
      " 1   text      11414 non-null  object\n",
      " 2   track_id  11414 non-null  object\n",
      "dtypes: object(3)\n",
      "memory usage: 267.6+ KB\n"
     ]
    }
   ],
   "source": [
    "df_lyrics.info()"
   ]
  },
  {
   "cell_type": "markdown",
   "id": "fadb28ba",
   "metadata": {},
   "source": [
    "У нас есть слова только для 11414 песен. Посмотрим количество уникальных текстов по сравнению с количеством песен."
   ]
  },
  {
   "cell_type": "code",
   "execution_count": 63,
   "id": "75bb9f2d",
   "metadata": {},
   "outputs": [
    {
     "data": {
      "image/png": "[encoded data removed]",
      "text/plain": [
       "<Figure size 640x480 with 1 Axes>"
      ]
     },
     "metadata": {},
     "output_type": "display_data"
    }
   ],
   "source": [
    "plt.title('Количество уникальных текстов и пеcен в датасете')\n",
    "plt.barh(['unique_lyricId','unique_track_id'], [len(df_lyrics['lyricId'].unique()), len(df_lyrics['track_id'].unique())])\n",
    "plt.xlabel('Количество')\n",
    "plt.ylabel('уникальный параметр')\n",
    "plt.show()"
   ]
  },
  {
   "cell_type": "code",
   "execution_count": 65,
   "id": "e2234486",
   "metadata": {},
   "outputs": [
    {
     "name": "stdout",
     "output_type": "stream",
     "text": [
      "Количество строк в датасете: 11414\n"
     ]
    }
   ],
   "source": [
    "print(f'Количество строк в датасете lyrics: {df_lyrics.shape[0]}')"
   ]
  },
  {
   "cell_type": "code",
   "execution_count": 25,
   "id": "12544e8e",
   "metadata": {},
   "outputs": [
    {
     "name": "stdout",
     "output_type": "stream",
     "text": [
      "Количество уникльных текстов: 10915\n"
     ]
    }
   ],
   "source": [
    "print(f'Количество уникльных текстов: {len(df_lyrics[\"lyricId\"].unique())}')"
   ]
  },
  {
   "cell_type": "code",
   "execution_count": 64,
   "id": "b52c7ecf",
   "metadata": {},
   "outputs": [
    {
     "name": "stdout",
     "output_type": "stream",
     "text": [
      "Количество уникльных треков: 10277\n"
     ]
    }
   ],
   "source": [
    "print(f'Количество уникльных треков: {len(df_lyrics[\"track_id\"].unique())}')"
   ]
  },
  {
   "cell_type": "markdown",
   "id": "dd5e05c0",
   "metadata": {},
   "source": [
    "Как видим количество уникальных текстов меньше количества уникальных песен примерно на 500."
   ]
  },
  {
   "cell_type": "markdown",
   "id": "957bcc71",
   "metadata": {},
   "source": [
    "Создадим список не уникальных текстов"
   ]
  },
  {
   "cell_type": "code",
   "execution_count": 39,
   "id": "1540a5d2",
   "metadata": {},
   "outputs": [],
   "source": [
    "df = df_lyrics[\"lyricId\"].value_counts().reset_index()\n",
    "df = df[df['count'] != 1]\n",
    "ununic_lirics = list(df['lyricId'].values)"
   ]
  },
  {
   "cell_type": "markdown",
   "id": "256c7171",
   "metadata": {},
   "source": [
    "Присоединим датасет df_covers к df_lyrics и посмотрим на их пересечение"
   ]
  },
  {
   "cell_type": "code",
   "execution_count": 50,
   "id": "0e54ce41",
   "metadata": {},
   "outputs": [],
   "source": [
    "df_covers_lyrics = df_covers.merge(df_lyrics, on = 'track_id', how='left')"
   ]
  },
  {
   "cell_type": "code",
   "execution_count": 51,
   "id": "8231819c",
   "metadata": {},
   "outputs": [
    {
     "data": {
      "text/plain": [
       "(72571, 5)"
      ]
     },
     "execution_count": 51,
     "metadata": {},
     "output_type": "execute_result"
    }
   ],
   "source": [
    "df_covers_lyrics.shape"
   ]
  },
  {
   "cell_type": "markdown",
   "id": "6ca4cda5",
   "metadata": {},
   "source": [
    "Посмотрим у каких треков не уникальные тексты"
   ]
  },
  {
   "cell_type": "code",
   "execution_count": 52,
   "id": "901fcb9d",
   "metadata": {},
   "outputs": [
    {
     "data": {
      "text/html": [
       "<div>\n",
       "<style scoped>\n",
       "    .dataframe tbody tr th:only-of-type {\n",
       "        vertical-align: middle;\n",
       "    }\n",
       "\n",
       "    .dataframe tbody tr th {\n",
       "        vertical-align: top;\n",
       "    }\n",
       "\n",
       "    .dataframe thead th {\n",
       "        text-align: right;\n",
       "    }\n",
       "</style>\n",
       "<table border=\"1\" class=\"dataframe\">\n",
       "  <thead>\n",
       "    <tr style=\"text-align: right;\">\n",
       "      <th></th>\n",
       "      <th>original_track_id</th>\n",
       "      <th>track_id</th>\n",
       "      <th>track_remake_type</th>\n",
       "      <th>lyricId</th>\n",
       "      <th>text</th>\n",
       "    </tr>\n",
       "  </thead>\n",
       "  <tbody>\n",
       "    <tr>\n",
       "      <th>4</th>\n",
       "      <td>995665640dc319973d3173a74a03860c</td>\n",
       "      <td>995665640dc319973d3173a74a03860c</td>\n",
       "      <td>ORIGINAL</td>\n",
       "      <td>e5b1b57090b728e8d98d2b4d9b781bf4</td>\n",
       "      <td>Yeah!... yeah!... remember the time, baby... y...</td>\n",
       "    </tr>\n",
       "    <tr>\n",
       "      <th>5</th>\n",
       "      <td>995665640dc319973d3173a74a03860c</td>\n",
       "      <td>995665640dc319973d3173a74a03860c</td>\n",
       "      <td>ORIGINAL</td>\n",
       "      <td>b6625d84706fefe8782e63bd36067bc2</td>\n",
       "      <td>In a state of emergency...\\n\\nI ain't got no m...</td>\n",
       "    </tr>\n",
       "    <tr>\n",
       "      <th>51</th>\n",
       "      <td>None</td>\n",
       "      <td>fdccddea8522e14b9d8a41551d9256fa</td>\n",
       "      <td>COVER</td>\n",
       "      <td>2eeef0aabf024b11b21d68f642c7648f</td>\n",
       "      <td>Yeah, yeah, yeah, yeah, yeah, yeah\\nOh yeah, y...</td>\n",
       "    </tr>\n",
       "    <tr>\n",
       "      <th>55</th>\n",
       "      <td>deb9b9598176a0bab1212d430b10bd04</td>\n",
       "      <td>bfa9c5c62c08a0db763e2a2284e3d1b2</td>\n",
       "      <td>COVER</td>\n",
       "      <td>29a568cf5c214ebe28a5cf8c88a1623a</td>\n",
       "      <td>Sweet dreams are made of this\\nWho am I to dis...</td>\n",
       "    </tr>\n",
       "    <tr>\n",
       "      <th>56</th>\n",
       "      <td>b785f0c8bacf5ff5809928e60934704b</td>\n",
       "      <td>b785f0c8bacf5ff5809928e60934704b</td>\n",
       "      <td>ORIGINAL</td>\n",
       "      <td>f68e7cf17a599d58853852b6155686a7</td>\n",
       "      <td>In the day, in the night\\nSay it right, say it...</td>\n",
       "    </tr>\n",
       "    <tr>\n",
       "      <th>...</th>\n",
       "      <td>...</td>\n",
       "      <td>...</td>\n",
       "      <td>...</td>\n",
       "      <td>...</td>\n",
       "      <td>...</td>\n",
       "    </tr>\n",
       "    <tr>\n",
       "      <th>71518</th>\n",
       "      <td>f45d36a20a118ee7651dfe930093ef11</td>\n",
       "      <td>f45d36a20a118ee7651dfe930093ef11</td>\n",
       "      <td>ORIGINAL</td>\n",
       "      <td>c579b8b061b724255e3a5a8d7b5bd849</td>\n",
       "      <td>Вдаль уносят мечты\\nСпит город\\nТы опять говор...</td>\n",
       "    </tr>\n",
       "    <tr>\n",
       "      <th>71543</th>\n",
       "      <td>None</td>\n",
       "      <td>63e3612b33b2a985cab7c462c184f66c</td>\n",
       "      <td>COVER</td>\n",
       "      <td>e593a047a804726e719789eb3796838d</td>\n",
       "      <td>Took a ride\\nTo the end of the line where\\nNo ...</td>\n",
       "    </tr>\n",
       "    <tr>\n",
       "      <th>71718</th>\n",
       "      <td>None</td>\n",
       "      <td>0dca178f1744f26d84b8dce21774a77c</td>\n",
       "      <td>COVER</td>\n",
       "      <td>714939b74d53d7386052ba474546b6aa</td>\n",
       "      <td>Тихо лужи покрывает лёд\\nПомнишь мы с тобою\\nЦ...</td>\n",
       "    </tr>\n",
       "    <tr>\n",
       "      <th>72083</th>\n",
       "      <td>31cdfa7557671b936755d661bcad69c4</td>\n",
       "      <td>31cdfa7557671b936755d661bcad69c4</td>\n",
       "      <td>ORIGINAL</td>\n",
       "      <td>9166e35830456fe64f461080027c71bf</td>\n",
       "      <td>Тёмный, мрачный коридор\\nЯ на цыпочках, как во...</td>\n",
       "    </tr>\n",
       "    <tr>\n",
       "      <th>72323</th>\n",
       "      <td>ab4597ffa3495d1374a5eba8d8c2d2ba</td>\n",
       "      <td>ab4597ffa3495d1374a5eba8d8c2d2ba</td>\n",
       "      <td>ORIGINAL</td>\n",
       "      <td>bfff68caa65ea7ac123fc2e13ca83459</td>\n",
       "      <td>Ты открывал ночь, всё, что могли позволить\\nМа...</td>\n",
       "    </tr>\n",
       "  </tbody>\n",
       "</table>\n",
       "<p>856 rows × 5 columns</p>\n",
       "</div>"
      ],
      "text/plain": [
       "                      original_track_id                          track_id   \n",
       "4      995665640dc319973d3173a74a03860c  995665640dc319973d3173a74a03860c  \\\n",
       "5      995665640dc319973d3173a74a03860c  995665640dc319973d3173a74a03860c   \n",
       "51                                 None  fdccddea8522e14b9d8a41551d9256fa   \n",
       "55     deb9b9598176a0bab1212d430b10bd04  bfa9c5c62c08a0db763e2a2284e3d1b2   \n",
       "56     b785f0c8bacf5ff5809928e60934704b  b785f0c8bacf5ff5809928e60934704b   \n",
       "...                                 ...                               ...   \n",
       "71518  f45d36a20a118ee7651dfe930093ef11  f45d36a20a118ee7651dfe930093ef11   \n",
       "71543                              None  63e3612b33b2a985cab7c462c184f66c   \n",
       "71718                              None  0dca178f1744f26d84b8dce21774a77c   \n",
       "72083  31cdfa7557671b936755d661bcad69c4  31cdfa7557671b936755d661bcad69c4   \n",
       "72323  ab4597ffa3495d1374a5eba8d8c2d2ba  ab4597ffa3495d1374a5eba8d8c2d2ba   \n",
       "\n",
       "      track_remake_type                           lyricId   \n",
       "4              ORIGINAL  e5b1b57090b728e8d98d2b4d9b781bf4  \\\n",
       "5              ORIGINAL  b6625d84706fefe8782e63bd36067bc2   \n",
       "51                COVER  2eeef0aabf024b11b21d68f642c7648f   \n",
       "55                COVER  29a568cf5c214ebe28a5cf8c88a1623a   \n",
       "56             ORIGINAL  f68e7cf17a599d58853852b6155686a7   \n",
       "...                 ...                               ...   \n",
       "71518          ORIGINAL  c579b8b061b724255e3a5a8d7b5bd849   \n",
       "71543             COVER  e593a047a804726e719789eb3796838d   \n",
       "71718             COVER  714939b74d53d7386052ba474546b6aa   \n",
       "72083          ORIGINAL  9166e35830456fe64f461080027c71bf   \n",
       "72323          ORIGINAL  bfff68caa65ea7ac123fc2e13ca83459   \n",
       "\n",
       "                                                    text  \n",
       "4      Yeah!... yeah!... remember the time, baby... y...  \n",
       "5      In a state of emergency...\\n\\nI ain't got no m...  \n",
       "51     Yeah, yeah, yeah, yeah, yeah, yeah\\nOh yeah, y...  \n",
       "55     Sweet dreams are made of this\\nWho am I to dis...  \n",
       "56     In the day, in the night\\nSay it right, say it...  \n",
       "...                                                  ...  \n",
       "71518  Вдаль уносят мечты\\nСпит город\\nТы опять говор...  \n",
       "71543  Took a ride\\nTo the end of the line where\\nNo ...  \n",
       "71718  Тихо лужи покрывает лёд\\nПомнишь мы с тобою\\nЦ...  \n",
       "72083  Тёмный, мрачный коридор\\nЯ на цыпочках, как во...  \n",
       "72323  Ты открывал ночь, всё, что могли позволить\\nМа...  \n",
       "\n",
       "[856 rows x 5 columns]"
      ]
     },
     "execution_count": 52,
     "metadata": {},
     "output_type": "execute_result"
    }
   ],
   "source": [
    "df_ununic = df_covers_lyrics[df_covers_lyrics['lyricId'].isin(ununic_lirics)]\n",
    "df_ununic"
   ]
  },
  {
   "cell_type": "code",
   "execution_count": 53,
   "id": "b89ba528",
   "metadata": {},
   "outputs": [
    {
     "data": {
      "text/plain": [
       "744"
      ]
     },
     "execution_count": 53,
     "metadata": {},
     "output_type": "execute_result"
    }
   ],
   "source": [
    "(df_ununic['track_remake_type'] == 'COVER').sum()"
   ]
  },
  {
   "cell_type": "code",
   "execution_count": 54,
   "id": "9b11c922",
   "metadata": {},
   "outputs": [
    {
     "data": {
      "text/plain": [
       "711"
      ]
     },
     "execution_count": 54,
     "metadata": {},
     "output_type": "execute_result"
    }
   ],
   "source": [
    "len(df_ununic['track_id'].unique())"
   ]
  },
  {
   "cell_type": "code",
   "execution_count": 62,
   "id": "85bd369a",
   "metadata": {},
   "outputs": [
    {
     "data": {
      "text/plain": [
       "10277"
      ]
     },
     "execution_count": 62,
     "metadata": {},
     "output_type": "execute_result"
    }
   ],
   "source": []
  },
  {
   "cell_type": "code",
   "execution_count": null,
   "id": "99b7dccf",
   "metadata": {},
   "outputs": [],
   "source": []
  }
 ],
 "metadata": {
  "kernelspec": {
   "display_name": "Python 3 (ipykernel)",
   "language": "python",
   "name": "python3"
  },
  "language_info": {
   "codemirror_mode": {
    "name": "ipython",
    "version": 3
   },
   "file_extension": ".py",
   "mimetype": "text/x-python",
   "name": "python",
   "nbconvert_exporter": "python",
   "pygments_lexer": "ipython3",
   "version": "3.10.0"
  },
  "toc": {
   "base_numbering": 1,
   "nav_menu": {},
   "number_sections": true,
   "sideBar": true,
   "skip_h1_title": false,
   "title_cell": "Table of Contents",
   "title_sidebar": "Contents",
   "toc_cell": false,
   "toc_position": {},
   "toc_section_display": true,
   "toc_window_display": false
  }
 },
 "nbformat": 4,
 "nbformat_minor": 5
}

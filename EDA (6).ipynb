{
 "cells": [
  {
   "cell_type": "markdown",
   "id": "cc9eab43",
   "metadata": {},
   "source": [
    "# Обнаружение каверов музыкальных треков\n",
    "\n",
    "## Задача\n",
    "\n",
    "Обнаружение треков каверов - важная продуктовая задача, которая может значительно улучшить качество рекомендаций музыкального сервиса и повысить счастье наших пользователей. Если мы умеем с высокой точностью классифицировать каверы и связывать их между собой, то можно предложить пользователю новые возможности для управления потоком треков. Например:\n",
    "\n",
    "- по желанию пользователя можем полностью исключить каверы из рекомендаций;\n",
    "- показать все каверы на любимый трек пользователя;\n",
    "- контролировать долю каверов в ленте пользователя.\n",
    "\n",
    "## Цель\n",
    "В этом хакатоне нам предлагается разработать решение, которое:\n",
    "\n",
    "- может классифицировать треки по признаку кавер-некавер;\n",
    "- связывать (группировать) каверы и исходный трек;\n",
    "- находит исходный трек в цепочке каверов.\n",
    "\n",
    "Нам требуется разработать ML-модель для сопоставления текстов музыкальных произведений и для поиска каверов (вариации обработки оригинала с элементами новой аранжировки) по их текстам. \n",
    "\n",
    "Для решения этой задачи мы можем использовать любые открытые источники данных и собирать необходимую вам информацию, соблюдая правила использования сервисов, которые эту информацию предоставляют.\n",
    "\n",
    "Данные предоставлены заказчиком в трех файлах: covers.json, meta.json, lyrics.json.\n",
    "\n",
    "### Разметка каверов\n",
    "\n",
    "Файл covers.json содержит разметку каверов, сделанную редакторами сервиса:\n",
    "\n",
    "- track_id - уникальный идентификатор трека;\n",
    "- track_remake_type - метка, присвоенная редакторами. Может принимать значения ORIGINAL и COVER;\n",
    "- original_track_id - уникальный идентификатор исходного трека.\n",
    "\n",
    "Обратите внимание, что не для всех каверов известны идентификаторы исходных треков!!!\n",
    "\n",
    "### Метаинформация\n",
    "Файл meta.json \n",
    "- track_id - уникальный идентификатор трека;\n",
    "- dttm - первая дата появления информации о треке;\n",
    "- title - название трека;\n",
    "- language - язык исполнения;\n",
    "- isrc - международный уникальный идентификатор трека;\n",
    "- genres - жанры;\n",
    "- duration - длительность трека;\n",
    "\n",
    "### Текст песен\n",
    "Файл lyrics.json\n",
    "- track_id - уникальный идентификатор трека;\n",
    "- lyricId - уникальный идентификатор текста;\n",
    "- text - текст трека.\n",
    "\n",
    "**Исследование пройдет в 7 этапов:**\n",
    "\n",
    "* загрузка и первичное ознакомление с данными,\n",
    "* предварительная обработка,\n",
    "* полноценный разведочный анализ,\n",
    "* разработка новых синтетических признаков,\n",
    "* проверка на мультиколлинеарность,\n",
    "* отбор финального набора обучающих признаков,\n",
    "* выбор и обучение моделей,\n",
    "* итоговая оценка качества предсказания лучшей модели,\n",
    "* анализ важности ее признаков.\n",
    "* общий вывод"
   ]
  },
  {
   "cell_type": "markdown",
   "id": "dc025bb7-6d08-4cd1-b12e-38f7bd48d54f",
   "metadata": {},
   "source": [
    "## Загрузка и первичное ознакомление с данными"
   ]
  },
  {
   "cell_type": "markdown",
   "id": "c3381f23-8cfa-4145-bacb-807ac2cece50",
   "metadata": {},
   "source": [
    "Импортируем необходимые для анализа данных библиотеки. Введем константу RANDOM_STATE = 54321."
   ]
  },
  {
   "cell_type": "code",
   "execution_count": 1,
   "id": "4e757b17",
   "metadata": {},
   "outputs": [],
   "source": [
    "import json\n",
    "import os\n",
    "\n",
    "import warnings\n",
    "import time\n",
    "\n",
    "import numpy as np\n",
    "import pandas as pd\n",
    "import seaborn as sns\n",
    "import matplotlib.pyplot as plt\n",
    "import re\n",
    "import nltk\n",
    "import sys\n",
    "#!{sys.executable} -m pip install spacy\n",
    "\n",
    "#!{sys.executable} -m spacy download en\n",
    "import spacy\n",
    "\n",
    "from sklearn.dummy import DummyClassifier\n",
    "from catboost import CatBoostClassifier\n",
    "from catboost import Pool\n",
    "from sklearn.pipeline import Pipeline\n",
    "from sklearn.pipeline import make_pipeline\n",
    "\n",
    "from sklearn.model_selection import (\n",
    "    train_test_split,\n",
    "    GridSearchCV,\n",
    "    KFold,\n",
    "    RandomizedSearchCV\n",
    ")\n",
    "from sklearn.metrics import (\n",
    "    accuracy_score,\n",
    "    precision_score, \n",
    "    recall_score, \n",
    "    f1_score, \n",
    "    roc_auc_score,\n",
    "    roc_curve, \n",
    "    precision_recall_curve,\n",
    "    confusion_matrix,\n",
    "    ConfusionMatrixDisplay\n",
    ")\n",
    "RANDOM_STATE = 54321\n",
    "from tqdm.notebook import tqdm\n",
    "tqdm.pandas()\n",
    "import scipy.sparse as sp\n",
    "\n",
    "\n",
    "from nltk.corpus import stopwords as nltk_stopwords\n",
    "from sklearn.feature_extraction.text import TfidfVectorizer\n",
    "\n",
    "warnings.filterwarnings(\"ignore\")"
   ]
  },
  {
   "cell_type": "markdown",
   "id": "652add74-0c16-4bdc-a629-e36c96451cd8",
   "metadata": {},
   "source": [
    "Считаем данные из json-файлов в датафреймы и сохраним в переменные. Пропишем пути."
   ]
  },
  {
   "cell_type": "code",
   "execution_count": 2,
   "id": "78c01f8a-8a26-4e56-b4ab-d2ffdc4e064d",
   "metadata": {},
   "outputs": [],
   "source": [
    "path_covers = 'C:\\\\Users\\\\fudou\\\\Untitled Folder 1\\\\covers.json'\n",
    "path_meta = 'C:\\\\Users\\\\fudou\\\\Untitled Folder 1\\\\/meta.json'\n",
    "path_lyrics = 'C:\\\\Users\\\\fudou\\\\Untitled Folder 1\\\\/lyrics.json'"
   ]
  },
  {
   "cell_type": "code",
   "execution_count": 3,
   "id": "a1884cc3-f45a-4ecf-be8b-664e079aee7b",
   "metadata": {},
   "outputs": [],
   "source": [
    "# выберем стиль для оформления графиков\n",
    "plt.style.use('fivethirtyeight')"
   ]
  },
  {
   "cell_type": "markdown",
   "id": "99135d7d-8547-4295-a8a9-6e68fa93c7fa",
   "metadata": {},
   "source": [
    "## Первичный обзор данных"
   ]
  },
  {
   "cell_type": "code",
   "execution_count": 4,
   "id": "f6a155eb",
   "metadata": {},
   "outputs": [
    {
     "data": {
      "text/html": [
       "<div>\n",
       "<style scoped>\n",
       "    .dataframe tbody tr th:only-of-type {\n",
       "        vertical-align: middle;\n",
       "    }\n",
       "\n",
       "    .dataframe tbody tr th {\n",
       "        vertical-align: top;\n",
       "    }\n",
       "\n",
       "    .dataframe thead th {\n",
       "        text-align: right;\n",
       "    }\n",
       "</style>\n",
       "<table border=\"1\" class=\"dataframe\">\n",
       "  <thead>\n",
       "    <tr style=\"text-align: right;\">\n",
       "      <th></th>\n",
       "      <th>original_track_id</th>\n",
       "      <th>track_id</th>\n",
       "      <th>track_remake_type</th>\n",
       "    </tr>\n",
       "  </thead>\n",
       "  <tbody>\n",
       "    <tr>\n",
       "      <th>40869</th>\n",
       "      <td>None</td>\n",
       "      <td>f8394887fdfde1010ea3ba2184921a5f</td>\n",
       "      <td>COVER</td>\n",
       "    </tr>\n",
       "    <tr>\n",
       "      <th>37626</th>\n",
       "      <td>None</td>\n",
       "      <td>4ddf57551696894ec0b5c8fac16ea236</td>\n",
       "      <td>COVER</td>\n",
       "    </tr>\n",
       "    <tr>\n",
       "      <th>54092</th>\n",
       "      <td>None</td>\n",
       "      <td>8f76f85c90f84c8ef401df1f2c969058</td>\n",
       "      <td>COVER</td>\n",
       "    </tr>\n",
       "  </tbody>\n",
       "</table>\n",
       "</div>"
      ],
      "text/plain": [
       "      original_track_id                          track_id track_remake_type\n",
       "40869              None  f8394887fdfde1010ea3ba2184921a5f             COVER\n",
       "37626              None  4ddf57551696894ec0b5c8fac16ea236             COVER\n",
       "54092              None  8f76f85c90f84c8ef401df1f2c969058             COVER"
      ]
     },
     "execution_count": 4,
     "metadata": {},
     "output_type": "execute_result"
    }
   ],
   "source": [
    "# разметка каверов\n",
    "df_covers = pd.read_json(path_covers, lines=True)\n",
    "# посмотрим 3 случайные строки\n",
    "df_covers.sample(3)"
   ]
  },
  {
   "cell_type": "markdown",
   "id": "4cf34a3f-6777-4f80-8a06-40c15f49243a",
   "metadata": {},
   "source": [
    "В датасете метаинфомация есть столбец с dttm - первая дата появления информации о треке. При чтении файла JSON, pandas изначально интерпретирует все значения столбца 'dttm' как строки (строковый тип данных), поэтому сразу конвертируем строковый тип данных в тип данных даты (datetime)."
   ]
  },
  {
   "cell_type": "code",
   "execution_count": 5,
   "id": "9381be02",
   "metadata": {},
   "outputs": [
    {
     "data": {
      "text/html": [
       "<div>\n",
       "<style scoped>\n",
       "    .dataframe tbody tr th:only-of-type {\n",
       "        vertical-align: middle;\n",
       "    }\n",
       "\n",
       "    .dataframe tbody tr th {\n",
       "        vertical-align: top;\n",
       "    }\n",
       "\n",
       "    .dataframe thead th {\n",
       "        text-align: right;\n",
       "    }\n",
       "</style>\n",
       "<table border=\"1\" class=\"dataframe\">\n",
       "  <thead>\n",
       "    <tr style=\"text-align: right;\">\n",
       "      <th></th>\n",
       "      <th>track_id</th>\n",
       "      <th>dttm</th>\n",
       "      <th>title</th>\n",
       "      <th>language</th>\n",
       "      <th>isrc</th>\n",
       "      <th>genres</th>\n",
       "      <th>duration</th>\n",
       "    </tr>\n",
       "  </thead>\n",
       "  <tbody>\n",
       "    <tr>\n",
       "      <th>60965</th>\n",
       "      <td>837c2bda8400cf7a1355055cd3d61345</td>\n",
       "      <td>2021-02-01 21:00:00</td>\n",
       "      <td>Jesus Of Nazareth</td>\n",
       "      <td>EN</td>\n",
       "      <td>DGA072119116</td>\n",
       "      <td>[FILMS, SOUNDTRACK]</td>\n",
       "      <td>28000.0</td>\n",
       "    </tr>\n",
       "    <tr>\n",
       "      <th>14702</th>\n",
       "      <td>0c60a58723d8256035c8136fb69e50c1</td>\n",
       "      <td>2022-08-12 01:35:26</td>\n",
       "      <td>Juliet e Chapelão (Bota, Bota)</td>\n",
       "      <td>None</td>\n",
       "      <td>QZNJY2291193</td>\n",
       "      <td>[FOLK, LATINFOLK]</td>\n",
       "      <td>135820.0</td>\n",
       "    </tr>\n",
       "    <tr>\n",
       "      <th>46454</th>\n",
       "      <td>8c8fb1c4f6cba0077274c0991eb328b5</td>\n",
       "      <td>2014-10-20 20:00:00</td>\n",
       "      <td>Santa Claus Is Coming to Town</td>\n",
       "      <td>EN</td>\n",
       "      <td>USRE11100701</td>\n",
       "      <td>[JAZZ, VOCALJAZZ]</td>\n",
       "      <td>171090.0</td>\n",
       "    </tr>\n",
       "  </tbody>\n",
       "</table>\n",
       "</div>"
      ],
      "text/plain": [
       "                               track_id                dttm  \\\n",
       "60965  837c2bda8400cf7a1355055cd3d61345 2021-02-01 21:00:00   \n",
       "14702  0c60a58723d8256035c8136fb69e50c1 2022-08-12 01:35:26   \n",
       "46454  8c8fb1c4f6cba0077274c0991eb328b5 2014-10-20 20:00:00   \n",
       "\n",
       "                                title language          isrc  \\\n",
       "60965               Jesus Of Nazareth       EN  DGA072119116   \n",
       "14702  Juliet e Chapelão (Bota, Bota)     None  QZNJY2291193   \n",
       "46454   Santa Claus Is Coming to Town       EN  USRE11100701   \n",
       "\n",
       "                    genres  duration  \n",
       "60965  [FILMS, SOUNDTRACK]   28000.0  \n",
       "14702    [FOLK, LATINFOLK]  135820.0  \n",
       "46454    [JAZZ, VOCALJAZZ]  171090.0  "
      ]
     },
     "execution_count": 5,
     "metadata": {},
     "output_type": "execute_result"
    }
   ],
   "source": [
    "# метаинформация\n",
    "df_meta = pd.read_json(path_meta, lines=True, convert_dates=['dttm'])\n",
    "df_meta.sample(3)"
   ]
  },
  {
   "cell_type": "code",
   "execution_count": 6,
   "id": "6d70ac13-a38f-4110-874a-5360e69985ec",
   "metadata": {},
   "outputs": [
    {
     "data": {
      "text/html": [
       "<div>\n",
       "<style scoped>\n",
       "    .dataframe tbody tr th:only-of-type {\n",
       "        vertical-align: middle;\n",
       "    }\n",
       "\n",
       "    .dataframe tbody tr th {\n",
       "        vertical-align: top;\n",
       "    }\n",
       "\n",
       "    .dataframe thead th {\n",
       "        text-align: right;\n",
       "    }\n",
       "</style>\n",
       "<table border=\"1\" class=\"dataframe\">\n",
       "  <thead>\n",
       "    <tr style=\"text-align: right;\">\n",
       "      <th></th>\n",
       "      <th>lyricId</th>\n",
       "      <th>text</th>\n",
       "      <th>track_id</th>\n",
       "    </tr>\n",
       "  </thead>\n",
       "  <tbody>\n",
       "    <tr>\n",
       "      <th>3766</th>\n",
       "      <td>4d70c3c5003534a36688218b1c697cc4</td>\n",
       "      <td>I've been your girlfriend\\nFor quite a while\\n...</td>\n",
       "      <td>a315487f8cf61d8bbbf1468546607062</td>\n",
       "    </tr>\n",
       "    <tr>\n",
       "      <th>5515</th>\n",
       "      <td>97c7fba3bc579b9468a2dd87ddb81ef1</td>\n",
       "      <td>Дыши со мной в унисон ещё, ещё и ещё\\nПотратим...</td>\n",
       "      <td>cb4fd8b6b3ac80ea3aeb0efa7f2a22be</td>\n",
       "    </tr>\n",
       "    <tr>\n",
       "      <th>3018</th>\n",
       "      <td>c90db9767932d87969d1a371ff68945f</td>\n",
       "      <td>I sat all alone\\nOutside of your home\\nWaiting...</td>\n",
       "      <td>e655a93554dc1c0f3b79cb87fd945f07</td>\n",
       "    </tr>\n",
       "  </tbody>\n",
       "</table>\n",
       "</div>"
      ],
      "text/plain": [
       "                               lyricId  \\\n",
       "3766  4d70c3c5003534a36688218b1c697cc4   \n",
       "5515  97c7fba3bc579b9468a2dd87ddb81ef1   \n",
       "3018  c90db9767932d87969d1a371ff68945f   \n",
       "\n",
       "                                                   text  \\\n",
       "3766  I've been your girlfriend\\nFor quite a while\\n...   \n",
       "5515  Дыши со мной в унисон ещё, ещё и ещё\\nПотратим...   \n",
       "3018  I sat all alone\\nOutside of your home\\nWaiting...   \n",
       "\n",
       "                              track_id  \n",
       "3766  a315487f8cf61d8bbbf1468546607062  \n",
       "5515  cb4fd8b6b3ac80ea3aeb0efa7f2a22be  \n",
       "3018  e655a93554dc1c0f3b79cb87fd945f07  "
      ]
     },
     "execution_count": 6,
     "metadata": {},
     "output_type": "execute_result"
    }
   ],
   "source": [
    "# тексты трека\n",
    "df_lyrics = pd.read_json(path_lyrics, lines=True)\n",
    "df_lyrics.sample(3)"
   ]
  },
  {
   "cell_type": "code",
   "execution_count": 7,
   "id": "8a086587",
   "metadata": {},
   "outputs": [],
   "source": [
    "# напишем функцию для вывода основной информации о датасетe\n",
    "def main_info(data):\n",
    "    print(f'Выведем первые 5 строк датафрейма')\n",
    "    display(data.head())\n",
    "    print()\n",
    "\n",
    "    print(f'Основная информация о датафрейме')\n",
    "    print()\n",
    "    display(data.info())\n",
    "    print()\n",
    "\n",
    "    print(f'Числовое описание данных')\n",
    "    display(data.describe().style.background_gradient())\n",
    "    print()\n",
    "\n",
    "    print(f'Количество строк-дубликатов')\n",
    "    display(data.duplicated().sum())\n",
    "    print()\n",
    "\n",
    "    print(f'Количество пропусков в процентном соотношении')\n",
    "    display(pd.DataFrame(round(data.isna().mean()*100,1)).style.background_gradient())\n",
    "    print()"
   ]
  },
  {
   "cell_type": "markdown",
   "id": "de7d0dc0-f83e-4575-87f4-b71442aac289",
   "metadata": {},
   "source": [
    "**Обзор датасета разметки каверов**"
   ]
  },
  {
   "cell_type": "code",
   "execution_count": 8,
   "id": "fb0ade27-7ee3-49aa-a86d-3e1f6ef8a79d",
   "metadata": {},
   "outputs": [
    {
     "name": "stdout",
     "output_type": "stream",
     "text": [
      "Выведем первые 5 строк датафрейма\n"
     ]
    },
    {
     "data": {
      "text/html": [
       "<div>\n",
       "<style scoped>\n",
       "    .dataframe tbody tr th:only-of-type {\n",
       "        vertical-align: middle;\n",
       "    }\n",
       "\n",
       "    .dataframe tbody tr th {\n",
       "        vertical-align: top;\n",
       "    }\n",
       "\n",
       "    .dataframe thead th {\n",
       "        text-align: right;\n",
       "    }\n",
       "</style>\n",
       "<table border=\"1\" class=\"dataframe\">\n",
       "  <thead>\n",
       "    <tr style=\"text-align: right;\">\n",
       "      <th></th>\n",
       "      <th>original_track_id</th>\n",
       "      <th>track_id</th>\n",
       "      <th>track_remake_type</th>\n",
       "    </tr>\n",
       "  </thead>\n",
       "  <tbody>\n",
       "    <tr>\n",
       "      <th>0</th>\n",
       "      <td>eeb69a3cb92300456b6a5f4162093851</td>\n",
       "      <td>eeb69a3cb92300456b6a5f4162093851</td>\n",
       "      <td>ORIGINAL</td>\n",
       "    </tr>\n",
       "    <tr>\n",
       "      <th>1</th>\n",
       "      <td>fe7ee8fc1959cc7214fa21c4840dff0a</td>\n",
       "      <td>fe7ee8fc1959cc7214fa21c4840dff0a</td>\n",
       "      <td>ORIGINAL</td>\n",
       "    </tr>\n",
       "    <tr>\n",
       "      <th>2</th>\n",
       "      <td>cd89fef7ffdd490db800357f47722b20</td>\n",
       "      <td>cd89fef7ffdd490db800357f47722b20</td>\n",
       "      <td>ORIGINAL</td>\n",
       "    </tr>\n",
       "    <tr>\n",
       "      <th>3</th>\n",
       "      <td>995665640dc319973d3173a74a03860c</td>\n",
       "      <td>995665640dc319973d3173a74a03860c</td>\n",
       "      <td>ORIGINAL</td>\n",
       "    </tr>\n",
       "    <tr>\n",
       "      <th>4</th>\n",
       "      <td>None</td>\n",
       "      <td>d6288499d0083cc34e60a077b7c4b3e1</td>\n",
       "      <td>COVER</td>\n",
       "    </tr>\n",
       "  </tbody>\n",
       "</table>\n",
       "</div>"
      ],
      "text/plain": [
       "                  original_track_id                          track_id  \\\n",
       "0  eeb69a3cb92300456b6a5f4162093851  eeb69a3cb92300456b6a5f4162093851   \n",
       "1  fe7ee8fc1959cc7214fa21c4840dff0a  fe7ee8fc1959cc7214fa21c4840dff0a   \n",
       "2  cd89fef7ffdd490db800357f47722b20  cd89fef7ffdd490db800357f47722b20   \n",
       "3  995665640dc319973d3173a74a03860c  995665640dc319973d3173a74a03860c   \n",
       "4                              None  d6288499d0083cc34e60a077b7c4b3e1   \n",
       "\n",
       "  track_remake_type  \n",
       "0          ORIGINAL  \n",
       "1          ORIGINAL  \n",
       "2          ORIGINAL  \n",
       "3          ORIGINAL  \n",
       "4             COVER  "
      ]
     },
     "metadata": {},
     "output_type": "display_data"
    },
    {
     "name": "stdout",
     "output_type": "stream",
     "text": [
      "\n",
      "Основная информация о датафрейме\n",
      "\n",
      "<class 'pandas.core.frame.DataFrame'>\n",
      "RangeIndex: 71597 entries, 0 to 71596\n",
      "Data columns (total 3 columns):\n",
      " #   Column             Non-Null Count  Dtype \n",
      "---  ------             --------------  ----- \n",
      " 0   original_track_id  4821 non-null   object\n",
      " 1   track_id           71597 non-null  object\n",
      " 2   track_remake_type  71597 non-null  object\n",
      "dtypes: object(3)\n",
      "memory usage: 1.6+ MB\n"
     ]
    },
    {
     "data": {
      "text/plain": [
       "None"
      ]
     },
     "metadata": {},
     "output_type": "display_data"
    },
    {
     "name": "stdout",
     "output_type": "stream",
     "text": [
      "\n",
      "Числовое описание данных\n"
     ]
    },
    {
     "data": {
      "text/html": [
       "<style  type=\"text/css\" >\n",
       "</style><table id=\"T_2fe57_\" ><thead>    <tr>        <th class=\"blank level0\" ></th>        <th class=\"col_heading level0 col0\" >original_track_id</th>        <th class=\"col_heading level0 col1\" >track_id</th>        <th class=\"col_heading level0 col2\" >track_remake_type</th>    </tr></thead><tbody>\n",
       "                <tr>\n",
       "                        <th id=\"T_2fe57_level0_row0\" class=\"row_heading level0 row0\" >count</th>\n",
       "                        <td id=\"T_2fe57_row0_col0\" class=\"data row0 col0\" >4821</td>\n",
       "                        <td id=\"T_2fe57_row0_col1\" class=\"data row0 col1\" >71597</td>\n",
       "                        <td id=\"T_2fe57_row0_col2\" class=\"data row0 col2\" >71597</td>\n",
       "            </tr>\n",
       "            <tr>\n",
       "                        <th id=\"T_2fe57_level0_row1\" class=\"row_heading level0 row1\" >unique</th>\n",
       "                        <td id=\"T_2fe57_row1_col0\" class=\"data row1 col0\" >4468</td>\n",
       "                        <td id=\"T_2fe57_row1_col1\" class=\"data row1 col1\" >71597</td>\n",
       "                        <td id=\"T_2fe57_row1_col2\" class=\"data row1 col2\" >2</td>\n",
       "            </tr>\n",
       "            <tr>\n",
       "                        <th id=\"T_2fe57_level0_row2\" class=\"row_heading level0 row2\" >top</th>\n",
       "                        <td id=\"T_2fe57_row2_col0\" class=\"data row2 col0\" >f3e5e9db509f9b6f6d93b9c38e4e1324</td>\n",
       "                        <td id=\"T_2fe57_row2_col1\" class=\"data row2 col1\" >a90742aed4267fbcd9c539f7e12550aa</td>\n",
       "                        <td id=\"T_2fe57_row2_col2\" class=\"data row2 col2\" >COVER</td>\n",
       "            </tr>\n",
       "            <tr>\n",
       "                        <th id=\"T_2fe57_level0_row3\" class=\"row_heading level0 row3\" >freq</th>\n",
       "                        <td id=\"T_2fe57_row3_col0\" class=\"data row3 col0\" >38</td>\n",
       "                        <td id=\"T_2fe57_row3_col1\" class=\"data row3 col1\" >1</td>\n",
       "                        <td id=\"T_2fe57_row3_col2\" class=\"data row3 col2\" >67304</td>\n",
       "            </tr>\n",
       "    </tbody></table>"
      ],
      "text/plain": [
       "<pandas.io.formats.style.Styler at 0x22e28d88dc0>"
      ]
     },
     "metadata": {},
     "output_type": "display_data"
    },
    {
     "name": "stdout",
     "output_type": "stream",
     "text": [
      "\n",
      "Количество строк-дубликатов\n"
     ]
    },
    {
     "data": {
      "text/plain": [
       "0"
      ]
     },
     "metadata": {},
     "output_type": "display_data"
    },
    {
     "name": "stdout",
     "output_type": "stream",
     "text": [
      "\n",
      "Количество пропусков в процентном соотношении\n"
     ]
    },
    {
     "data": {
      "text/html": [
       "<style  type=\"text/css\" >\n",
       "#T_b2b99_row0_col0{\n",
       "            background-color:  #023858;\n",
       "            color:  #f1f1f1;\n",
       "        }#T_b2b99_row1_col0,#T_b2b99_row2_col0{\n",
       "            background-color:  #fff7fb;\n",
       "            color:  #000000;\n",
       "        }</style><table id=\"T_b2b99_\" ><thead>    <tr>        <th class=\"blank level0\" ></th>        <th class=\"col_heading level0 col0\" >0</th>    </tr></thead><tbody>\n",
       "                <tr>\n",
       "                        <th id=\"T_b2b99_level0_row0\" class=\"row_heading level0 row0\" >original_track_id</th>\n",
       "                        <td id=\"T_b2b99_row0_col0\" class=\"data row0 col0\" >93.300000</td>\n",
       "            </tr>\n",
       "            <tr>\n",
       "                        <th id=\"T_b2b99_level0_row1\" class=\"row_heading level0 row1\" >track_id</th>\n",
       "                        <td id=\"T_b2b99_row1_col0\" class=\"data row1 col0\" >0.000000</td>\n",
       "            </tr>\n",
       "            <tr>\n",
       "                        <th id=\"T_b2b99_level0_row2\" class=\"row_heading level0 row2\" >track_remake_type</th>\n",
       "                        <td id=\"T_b2b99_row2_col0\" class=\"data row2 col0\" >0.000000</td>\n",
       "            </tr>\n",
       "    </tbody></table>"
      ],
      "text/plain": [
       "<pandas.io.formats.style.Styler at 0x22e34041e80>"
      ]
     },
     "metadata": {},
     "output_type": "display_data"
    },
    {
     "name": "stdout",
     "output_type": "stream",
     "text": [
      "\n"
     ]
    }
   ],
   "source": [
    "# посмотрим датасет c каверами\n",
    "main_info(df_covers)"
   ]
  },
  {
   "cell_type": "code",
   "execution_count": 9,
   "id": "306adb5b-f0d4-48e6-8b92-a8beb3185df4",
   "metadata": {},
   "outputs": [
    {
     "data": {
      "text/plain": [
       "0"
      ]
     },
     "execution_count": 9,
     "metadata": {},
     "output_type": "execute_result"
    }
   ],
   "source": [
    "# проверим дубликаты по `track_id`\n",
    "df_covers['track_id'].duplicated().sum()"
   ]
  },
  {
   "cell_type": "code",
   "execution_count": 10,
   "id": "7b4d5b69-4c37-4868-9121-da8cef467708",
   "metadata": {},
   "outputs": [
    {
     "data": {
      "text/plain": [
       "67128"
      ]
     },
     "execution_count": 10,
     "metadata": {},
     "output_type": "execute_result"
    }
   ],
   "source": [
    "# проверим дубликаты по `original_track_id`\n",
    "df_covers['original_track_id'].duplicated().sum()"
   ]
  },
  {
   "cell_type": "markdown",
   "id": "2d841873-ece3-4c62-9b39-6125abc2fb18",
   "metadata": {},
   "source": [
    "Посмотрим, сколько строк с разметкой COVER имеют ненулевой столбец original_track_id."
   ]
  },
  {
   "cell_type": "code",
   "execution_count": 11,
   "id": "02d81203-cdea-4ad5-b5b9-5855eefda7a9",
   "metadata": {},
   "outputs": [
    {
     "data": {
      "text/plain": [
       "528"
      ]
     },
     "execution_count": 11,
     "metadata": {},
     "output_type": "execute_result"
    }
   ],
   "source": [
    "df = df_covers[df_covers['track_remake_type']=='COVER']\n",
    "df[~df['original_track_id'].isna()].shape[0]"
   ]
  },
  {
   "cell_type": "markdown",
   "id": "0668f62e-e353-4cbb-8812-5a2c4a69d5af",
   "metadata": {},
   "source": [
    "Получили 528 строк-каверов у которых есть ссылка на оригинал. Остальные (66776) без разметки."
   ]
  },
  {
   "cell_type": "markdown",
   "id": "059409be-d918-4a39-aa00-c427f46e0fa7",
   "metadata": {},
   "source": [
    "Также рассмотрим ситуацию когда от одного оригинала делается несколько каверов."
   ]
  },
  {
   "cell_type": "code",
   "execution_count": 12,
   "id": "9b4ce66c-c78e-4689-89b3-75da2735ceb1",
   "metadata": {
    "scrolled": true
   },
   "outputs": [
    {
     "data": {
      "text/html": [
       "<div>\n",
       "<style scoped>\n",
       "    .dataframe tbody tr th:only-of-type {\n",
       "        vertical-align: middle;\n",
       "    }\n",
       "\n",
       "    .dataframe tbody tr th {\n",
       "        vertical-align: top;\n",
       "    }\n",
       "\n",
       "    .dataframe thead th {\n",
       "        text-align: right;\n",
       "    }\n",
       "</style>\n",
       "<table border=\"1\" class=\"dataframe\">\n",
       "  <thead>\n",
       "    <tr style=\"text-align: right;\">\n",
       "      <th></th>\n",
       "      <th>track_id</th>\n",
       "    </tr>\n",
       "  </thead>\n",
       "  <tbody>\n",
       "    <tr>\n",
       "      <th>count</th>\n",
       "      <td>20.000000</td>\n",
       "    </tr>\n",
       "    <tr>\n",
       "      <th>mean</th>\n",
       "      <td>16.250000</td>\n",
       "    </tr>\n",
       "    <tr>\n",
       "      <th>std</th>\n",
       "      <td>11.433446</td>\n",
       "    </tr>\n",
       "    <tr>\n",
       "      <th>min</th>\n",
       "      <td>3.000000</td>\n",
       "    </tr>\n",
       "    <tr>\n",
       "      <th>25%</th>\n",
       "      <td>3.750000</td>\n",
       "    </tr>\n",
       "    <tr>\n",
       "      <th>50%</th>\n",
       "      <td>15.500000</td>\n",
       "    </tr>\n",
       "    <tr>\n",
       "      <th>75%</th>\n",
       "      <td>25.000000</td>\n",
       "    </tr>\n",
       "    <tr>\n",
       "      <th>max</th>\n",
       "      <td>38.000000</td>\n",
       "    </tr>\n",
       "  </tbody>\n",
       "</table>\n",
       "</div>"
      ],
      "text/plain": [
       "        track_id\n",
       "count  20.000000\n",
       "mean   16.250000\n",
       "std    11.433446\n",
       "min     3.000000\n",
       "25%     3.750000\n",
       "50%    15.500000\n",
       "75%    25.000000\n",
       "max    38.000000"
      ]
     },
     "execution_count": 12,
     "metadata": {},
     "output_type": "execute_result"
    }
   ],
   "source": [
    "df_group = df_covers.groupby('original_track_id')['track_id'].agg('count').reset_index()\n",
    "df_group = df_group.sort_values('track_id')\n",
    "# посмотрим топ количества каверов на 1 оригинал трека\n",
    "df_group = df_group.tail(20)\n",
    "df_group.describe()"
   ]
  },
  {
   "cell_type": "code",
   "execution_count": 13,
   "id": "42f20a6e-d744-4131-ab37-bc7d0521e6c5",
   "metadata": {},
   "outputs": [
    {
     "data": {
      "image/png": "[encoded data removed]",
      "text/plain": [
       "<Figure size 700x500 with 1 Axes>"
      ]
     },
     "metadata": {},
     "output_type": "display_data"
    }
   ],
   "source": [
    "plt.figure(figsize=(7,5))\n",
    "sns.barplot(x =df_group['track_id'],y =df_group['original_track_id']);\n",
    "plt.title ('Топ каверов на оригинал');\n",
    "plt.xlabel ('Количество каверов');\n",
    "plt.ylabel ('original_track_id');\n",
    "plt.show()"
   ]
  },
  {
   "cell_type": "markdown",
   "id": "ae244cad-9084-4f67-9745-e43f9c781461",
   "metadata": {},
   "source": [
    "Максимальное количество каверов составляет 38 штук, далее идет на убывание. В среднем треки имеют около 16 каверов."
   ]
  },
  {
   "cell_type": "markdown",
   "id": "61d4f0fc-3b53-4210-b6dd-ac1b7169b54f",
   "metadata": {},
   "source": [
    "**Вывод** \n",
    "\n",
    "Датасет с разметкой каверов содержит 71597 объектов и 3 столбца.       \n",
    "\n",
    "Столбец `original_track_id`: обнаружено **93 %** пропусков (это подтверждается данными от заказчика о том, что не для всех каверов известны идентификаторы исходных треков. При этом 4468 значения являются уникальными из 4821 имеющихся данных.    \n",
    "Столбец `track_id` - все уникальны,пропусков нет.   \n",
    "Столбец `track_remake_type` - имеется 2 значения: COVER и ORIGINAL. Наблюдается дисбаланс, каверов 67304. \n",
    "\n",
    "Строки с полными дубликатами отсутствуют. "
   ]
  },
  {
   "cell_type": "markdown",
   "id": "7871f9fc-02a3-494d-9a06-8686ef9f0fa8",
   "metadata": {},
   "source": [
    "**Обзор датасета 'Метаинформация'** \n",
    "\n",
    "Доделать анализ по столбцам!+ графики+ что делать с жанрами\n",
    "почистить неявные дубликаты в названиях"
   ]
  },
  {
   "cell_type": "code",
   "execution_count": 14,
   "id": "dd9bc825-4d76-4c95-9a56-88bb806a1dc6",
   "metadata": {},
   "outputs": [
    {
     "data": {
      "text/html": [
       "<div>\n",
       "<style scoped>\n",
       "    .dataframe tbody tr th:only-of-type {\n",
       "        vertical-align: middle;\n",
       "    }\n",
       "\n",
       "    .dataframe tbody tr th {\n",
       "        vertical-align: top;\n",
       "    }\n",
       "\n",
       "    .dataframe thead th {\n",
       "        text-align: right;\n",
       "    }\n",
       "</style>\n",
       "<table border=\"1\" class=\"dataframe\">\n",
       "  <thead>\n",
       "    <tr style=\"text-align: right;\">\n",
       "      <th></th>\n",
       "      <th>track_id</th>\n",
       "      <th>dttm</th>\n",
       "      <th>title</th>\n",
       "      <th>language</th>\n",
       "      <th>isrc</th>\n",
       "      <th>genres</th>\n",
       "      <th>duration</th>\n",
       "    </tr>\n",
       "  </thead>\n",
       "  <tbody>\n",
       "    <tr>\n",
       "      <th>0</th>\n",
       "      <td>c3b9d6a354ca008aa4518329aaa21380</td>\n",
       "      <td>2021-12-16 21:00:00</td>\n",
       "      <td>Happy New Year</td>\n",
       "      <td>EN</td>\n",
       "      <td>RUB422103970</td>\n",
       "      <td>[DANCE]</td>\n",
       "      <td>161120.0</td>\n",
       "    </tr>\n",
       "    <tr>\n",
       "      <th>1</th>\n",
       "      <td>c57e3d13bbbf5322584a7e92e6f1f7ff</td>\n",
       "      <td>2021-11-24 14:00:33</td>\n",
       "      <td>Bad Habits</td>\n",
       "      <td>EN</td>\n",
       "      <td>QZN882178276</td>\n",
       "      <td>[ELECTRONICS]</td>\n",
       "      <td>362260.0</td>\n",
       "    </tr>\n",
       "    <tr>\n",
       "      <th>2</th>\n",
       "      <td>955f2aafe8717908c140bf122ba4172d</td>\n",
       "      <td>2021-11-24 15:37:03</td>\n",
       "      <td>Por Esa Loca Vanidad</td>\n",
       "      <td>None</td>\n",
       "      <td>QZNJZ2122549</td>\n",
       "      <td>[FOLK, LATINFOLK]</td>\n",
       "      <td>260000.0</td>\n",
       "    </tr>\n",
       "    <tr>\n",
       "      <th>3</th>\n",
       "      <td>fae5a077c9956045955dde02143bd8ff</td>\n",
       "      <td>2021-11-24 15:37:03</td>\n",
       "      <td>Mil Lagrimas</td>\n",
       "      <td>None</td>\n",
       "      <td>QZNJZ2166033</td>\n",
       "      <td>[FOLK, LATINFOLK]</td>\n",
       "      <td>190000.0</td>\n",
       "    </tr>\n",
       "    <tr>\n",
       "      <th>4</th>\n",
       "      <td>6bede082154d34fc18d9a6744bc95bf5</td>\n",
       "      <td>2021-11-24 15:37:03</td>\n",
       "      <td>Sexo Humo y Alcohol</td>\n",
       "      <td>None</td>\n",
       "      <td>QZNJZ2122551</td>\n",
       "      <td>[FOLK, LATINFOLK]</td>\n",
       "      <td>203000.0</td>\n",
       "    </tr>\n",
       "  </tbody>\n",
       "</table>\n",
       "</div>"
      ],
      "text/plain": [
       "                           track_id                dttm                 title  \\\n",
       "0  c3b9d6a354ca008aa4518329aaa21380 2021-12-16 21:00:00        Happy New Year   \n",
       "1  c57e3d13bbbf5322584a7e92e6f1f7ff 2021-11-24 14:00:33            Bad Habits   \n",
       "2  955f2aafe8717908c140bf122ba4172d 2021-11-24 15:37:03  Por Esa Loca Vanidad   \n",
       "3  fae5a077c9956045955dde02143bd8ff 2021-11-24 15:37:03          Mil Lagrimas   \n",
       "4  6bede082154d34fc18d9a6744bc95bf5 2021-11-24 15:37:03   Sexo Humo y Alcohol   \n",
       "\n",
       "  language          isrc             genres  duration  \n",
       "0       EN  RUB422103970            [DANCE]  161120.0  \n",
       "1       EN  QZN882178276      [ELECTRONICS]  362260.0  \n",
       "2     None  QZNJZ2122549  [FOLK, LATINFOLK]  260000.0  \n",
       "3     None  QZNJZ2166033  [FOLK, LATINFOLK]  190000.0  \n",
       "4     None  QZNJZ2122551  [FOLK, LATINFOLK]  203000.0  "
      ]
     },
     "execution_count": 14,
     "metadata": {},
     "output_type": "execute_result"
    }
   ],
   "source": [
    "df_meta.head()"
   ]
  },
  {
   "cell_type": "code",
   "execution_count": 15,
   "id": "6b8f5577-3d20-4f2f-b165-c82081f60b03",
   "metadata": {},
   "outputs": [
    {
     "name": "stdout",
     "output_type": "stream",
     "text": [
      "<class 'pandas.core.frame.DataFrame'>\n",
      "RangeIndex: 71769 entries, 0 to 71768\n",
      "Data columns (total 7 columns):\n",
      " #   Column    Non-Null Count  Dtype         \n",
      "---  ------    --------------  -----         \n",
      " 0   track_id  71768 non-null  object        \n",
      " 1   dttm      71768 non-null  datetime64[ns]\n",
      " 2   title     71768 non-null  object        \n",
      " 3   language  21969 non-null  object        \n",
      " 4   isrc      71455 non-null  object        \n",
      " 5   genres    71768 non-null  object        \n",
      " 6   duration  71768 non-null  float64       \n",
      "dtypes: datetime64[ns](1), float64(1), object(5)\n",
      "memory usage: 3.8+ MB\n"
     ]
    }
   ],
   "source": [
    "# посмотрим датасет c метаинформацией\n",
    "df_meta.info()"
   ]
  },
  {
   "cell_type": "code",
   "execution_count": 16,
   "id": "2a444331-f761-4216-a288-ca79f151cce7",
   "metadata": {},
   "outputs": [
    {
     "name": "stdout",
     "output_type": "stream",
     "text": [
      "Количество пропусков в процентном соотношении\n"
     ]
    },
    {
     "data": {
      "text/html": [
       "<style  type=\"text/css\" >\n",
       "#T_c95ac_row0_col0,#T_c95ac_row1_col0,#T_c95ac_row2_col0,#T_c95ac_row5_col0,#T_c95ac_row6_col0{\n",
       "            background-color:  #fff7fb;\n",
       "            color:  #000000;\n",
       "        }#T_c95ac_row3_col0{\n",
       "            background-color:  #023858;\n",
       "            color:  #f1f1f1;\n",
       "        }#T_c95ac_row4_col0{\n",
       "            background-color:  #fef6fb;\n",
       "            color:  #000000;\n",
       "        }</style><table id=\"T_c95ac_\" ><thead>    <tr>        <th class=\"blank level0\" ></th>        <th class=\"col_heading level0 col0\" >0</th>    </tr></thead><tbody>\n",
       "                <tr>\n",
       "                        <th id=\"T_c95ac_level0_row0\" class=\"row_heading level0 row0\" >track_id</th>\n",
       "                        <td id=\"T_c95ac_row0_col0\" class=\"data row0 col0\" >0.000000</td>\n",
       "            </tr>\n",
       "            <tr>\n",
       "                        <th id=\"T_c95ac_level0_row1\" class=\"row_heading level0 row1\" >dttm</th>\n",
       "                        <td id=\"T_c95ac_row1_col0\" class=\"data row1 col0\" >0.000000</td>\n",
       "            </tr>\n",
       "            <tr>\n",
       "                        <th id=\"T_c95ac_level0_row2\" class=\"row_heading level0 row2\" >title</th>\n",
       "                        <td id=\"T_c95ac_row2_col0\" class=\"data row2 col0\" >0.000000</td>\n",
       "            </tr>\n",
       "            <tr>\n",
       "                        <th id=\"T_c95ac_level0_row3\" class=\"row_heading level0 row3\" >language</th>\n",
       "                        <td id=\"T_c95ac_row3_col0\" class=\"data row3 col0\" >69.400000</td>\n",
       "            </tr>\n",
       "            <tr>\n",
       "                        <th id=\"T_c95ac_level0_row4\" class=\"row_heading level0 row4\" >isrc</th>\n",
       "                        <td id=\"T_c95ac_row4_col0\" class=\"data row4 col0\" >0.400000</td>\n",
       "            </tr>\n",
       "            <tr>\n",
       "                        <th id=\"T_c95ac_level0_row5\" class=\"row_heading level0 row5\" >genres</th>\n",
       "                        <td id=\"T_c95ac_row5_col0\" class=\"data row5 col0\" >0.000000</td>\n",
       "            </tr>\n",
       "            <tr>\n",
       "                        <th id=\"T_c95ac_level0_row6\" class=\"row_heading level0 row6\" >duration</th>\n",
       "                        <td id=\"T_c95ac_row6_col0\" class=\"data row6 col0\" >0.000000</td>\n",
       "            </tr>\n",
       "    </tbody></table>"
      ],
      "text/plain": [
       "<pandas.io.formats.style.Styler at 0x22e3217d790>"
      ]
     },
     "metadata": {},
     "output_type": "display_data"
    }
   ],
   "source": [
    "print(f'Количество пропусков в процентном соотношении')\n",
    "display(pd.DataFrame(round(df_meta.isna().mean()*100,1)).style.background_gradient())\n"
   ]
  },
  {
   "cell_type": "code",
   "execution_count": 17,
   "id": "c27a6894-3618-42a6-a233-9a7eb0ac91f8",
   "metadata": {},
   "outputs": [
    {
     "data": {
      "text/plain": [
       "0                  [DANCE]\n",
       "1            [ELECTRONICS]\n",
       "2        [FOLK, LATINFOLK]\n",
       "3        [FOLK, LATINFOLK]\n",
       "4        [FOLK, LATINFOLK]\n",
       "               ...        \n",
       "71764              [INDIE]\n",
       "71765                [POP]\n",
       "71766        [ALTERNATIVE]\n",
       "71767        [ALTERNATIVE]\n",
       "71768        [POP, RUSPOP]\n",
       "Name: genres, Length: 71769, dtype: object"
      ]
     },
     "execution_count": 17,
     "metadata": {},
     "output_type": "execute_result"
    }
   ],
   "source": [
    "df_meta['genres']"
   ]
  },
  {
   "cell_type": "code",
   "execution_count": 18,
   "id": "76d5e349-30bc-45f5-8d44-997e135b9f23",
   "metadata": {},
   "outputs": [
    {
     "name": "stdout",
     "output_type": "stream",
     "text": [
      "0                dance\n",
      "1          electronics\n",
      "2        folklatinfolk\n",
      "3        folklatinfolk\n",
      "4        folklatinfolk\n",
      "             ...      \n",
      "71764            indie\n",
      "71765              pop\n",
      "71766      alternative\n",
      "71767      alternative\n",
      "71768        popruspop\n",
      "Name: genres, Length: 71769, dtype: object\n"
     ]
    }
   ],
   "source": [
    "# функция для очистки жанров и склеивание в 1строку\n",
    "def clean_genres(df):\n",
    "    # Применение функции clean_categories к столбцу 'genres'\n",
    "    df['genres'] = df['genres'].apply(lambda x: re.sub(r'\\[|\\]', '', str(x)))\n",
    "    df['genres'] = df['genres'].apply(lambda x: re.sub(r',', '', str(x).lower()))\n",
    "    df['genres'] = df['genres'].apply(lambda x: x.replace(\"'\", \"\"))  # Удаление кавычек\n",
    "    df['genres'] = df['genres'].str.replace(' ', '').str.strip()\n",
    "    return df\n",
    "\n",
    "\n",
    "df_meta = clean_genres(df_meta)\n",
    "print(df_meta['genres'])"
   ]
  },
  {
   "cell_type": "markdown",
   "id": "53506be4-2baa-48ce-a496-9c348f38a82e",
   "metadata": {},
   "source": [
    "**Вывод** Дописать после обзора!  \n",
    "\n",
    "Датасет с метаинфромацией содержит 71768 объектов и 7 столбцов, пропуски присутствуют в 2х столбцах:language и isrc (международный id трека).   "
   ]
  },
  {
   "cell_type": "markdown",
   "id": "19984a0f-3256-4e07-add0-740cf85d347f",
   "metadata": {},
   "source": [
    "**Обзор датасета 'Тексты песен'** Доделать анализ"
   ]
  },
  {
   "cell_type": "code",
   "execution_count": 19,
   "id": "b9a5e67e-52fb-4eee-8b1f-00ac691f96cb",
   "metadata": {},
   "outputs": [
    {
     "name": "stdout",
     "output_type": "stream",
     "text": [
      "Выведем первые 5 строк датафрейма\n"
     ]
    },
    {
     "data": {
      "text/html": [
       "<div>\n",
       "<style scoped>\n",
       "    .dataframe tbody tr th:only-of-type {\n",
       "        vertical-align: middle;\n",
       "    }\n",
       "\n",
       "    .dataframe tbody tr th {\n",
       "        vertical-align: top;\n",
       "    }\n",
       "\n",
       "    .dataframe thead th {\n",
       "        text-align: right;\n",
       "    }\n",
       "</style>\n",
       "<table border=\"1\" class=\"dataframe\">\n",
       "  <thead>\n",
       "    <tr style=\"text-align: right;\">\n",
       "      <th></th>\n",
       "      <th>lyricId</th>\n",
       "      <th>text</th>\n",
       "      <th>track_id</th>\n",
       "    </tr>\n",
       "  </thead>\n",
       "  <tbody>\n",
       "    <tr>\n",
       "      <th>0</th>\n",
       "      <td>a951f9504e89759e9d23039b7b17ec14</td>\n",
       "      <td>Живу сейчас обломами, обломками не той любви\\n...</td>\n",
       "      <td>1c4b1230f937e4c548ff732523214dcd</td>\n",
       "    </tr>\n",
       "    <tr>\n",
       "      <th>1</th>\n",
       "      <td>0c749bc3f01eb8e6cf986fa14ccfc585</td>\n",
       "      <td>Tell me your fable\\nA fable\\nTell me your fabl...</td>\n",
       "      <td>0faea89b0d7d6235b5b74def72511bd8</td>\n",
       "    </tr>\n",
       "    <tr>\n",
       "      <th>2</th>\n",
       "      <td>e2c8830fbc86e5964478243099eec23a</td>\n",
       "      <td>You're ashamed about all your fears and doubts...</td>\n",
       "      <td>9c6dc41d5ccd9968d07f055da5d8f741</td>\n",
       "    </tr>\n",
       "    <tr>\n",
       "      <th>3</th>\n",
       "      <td>e2c8830fbc86e5964478243099eec23a</td>\n",
       "      <td>You're ashamed about all your fears and doubts...</td>\n",
       "      <td>bfd04a73e9cffdf0e282c92219a86ea1</td>\n",
       "    </tr>\n",
       "    <tr>\n",
       "      <th>4</th>\n",
       "      <td>7624653ca8522ba93470843c74961b7d</td>\n",
       "      <td>You showed him all the best of you,\\nBut I'm a...</td>\n",
       "      <td>8d70930d09cd239c948408d1317d8659</td>\n",
       "    </tr>\n",
       "  </tbody>\n",
       "</table>\n",
       "</div>"
      ],
      "text/plain": [
       "                            lyricId  \\\n",
       "0  a951f9504e89759e9d23039b7b17ec14   \n",
       "1  0c749bc3f01eb8e6cf986fa14ccfc585   \n",
       "2  e2c8830fbc86e5964478243099eec23a   \n",
       "3  e2c8830fbc86e5964478243099eec23a   \n",
       "4  7624653ca8522ba93470843c74961b7d   \n",
       "\n",
       "                                                text  \\\n",
       "0  Живу сейчас обломами, обломками не той любви\\n...   \n",
       "1  Tell me your fable\\nA fable\\nTell me your fabl...   \n",
       "2  You're ashamed about all your fears and doubts...   \n",
       "3  You're ashamed about all your fears and doubts...   \n",
       "4  You showed him all the best of you,\\nBut I'm a...   \n",
       "\n",
       "                           track_id  \n",
       "0  1c4b1230f937e4c548ff732523214dcd  \n",
       "1  0faea89b0d7d6235b5b74def72511bd8  \n",
       "2  9c6dc41d5ccd9968d07f055da5d8f741  \n",
       "3  bfd04a73e9cffdf0e282c92219a86ea1  \n",
       "4  8d70930d09cd239c948408d1317d8659  "
      ]
     },
     "metadata": {},
     "output_type": "display_data"
    },
    {
     "name": "stdout",
     "output_type": "stream",
     "text": [
      "\n",
      "Основная информация о датафрейме\n",
      "\n",
      "<class 'pandas.core.frame.DataFrame'>\n",
      "RangeIndex: 11414 entries, 0 to 11413\n",
      "Data columns (total 3 columns):\n",
      " #   Column    Non-Null Count  Dtype \n",
      "---  ------    --------------  ----- \n",
      " 0   lyricId   11414 non-null  object\n",
      " 1   text      11414 non-null  object\n",
      " 2   track_id  11414 non-null  object\n",
      "dtypes: object(3)\n",
      "memory usage: 267.6+ KB\n"
     ]
    },
    {
     "data": {
      "text/plain": [
       "None"
      ]
     },
     "metadata": {},
     "output_type": "display_data"
    },
    {
     "name": "stdout",
     "output_type": "stream",
     "text": [
      "\n",
      "Числовое описание данных\n"
     ]
    },
    {
     "data": {
      "text/html": [
       "<style  type=\"text/css\" >\n",
       "</style><table id=\"T_920b7_\" ><thead>    <tr>        <th class=\"blank level0\" ></th>        <th class=\"col_heading level0 col0\" >lyricId</th>        <th class=\"col_heading level0 col1\" >text</th>        <th class=\"col_heading level0 col2\" >track_id</th>    </tr></thead><tbody>\n",
       "                <tr>\n",
       "                        <th id=\"T_920b7_level0_row0\" class=\"row_heading level0 row0\" >count</th>\n",
       "                        <td id=\"T_920b7_row0_col0\" class=\"data row0 col0\" >11414</td>\n",
       "                        <td id=\"T_920b7_row0_col1\" class=\"data row0 col1\" >11414</td>\n",
       "                        <td id=\"T_920b7_row0_col2\" class=\"data row0 col2\" >11414</td>\n",
       "            </tr>\n",
       "            <tr>\n",
       "                        <th id=\"T_920b7_level0_row1\" class=\"row_heading level0 row1\" >unique</th>\n",
       "                        <td id=\"T_920b7_row1_col0\" class=\"data row1 col0\" >10915</td>\n",
       "                        <td id=\"T_920b7_row1_col1\" class=\"data row1 col1\" >10644</td>\n",
       "                        <td id=\"T_920b7_row1_col2\" class=\"data row1 col2\" >10277</td>\n",
       "            </tr>\n",
       "            <tr>\n",
       "                        <th id=\"T_920b7_level0_row2\" class=\"row_heading level0 row2\" >top</th>\n",
       "                        <td id=\"T_920b7_row2_col0\" class=\"data row2 col0\" >28fbafaf626c497d0d4d933b4f0d3f5b</td>\n",
       "                        <td id=\"T_920b7_row2_col1\" class=\"data row2 col1\" >Twenty-five years and my life is still\n",
       "I'm trying to get up that great big hill of hope\n",
       "For a destination\n",
       "And so I wake in the morning\n",
       "And I step outside\n",
       "And I take a deep breath and I get real high\n",
       "And I scream at the top of my lungs\n",
       "What's going on?\n",
       "And I say, hey hey hey hey, hey hey hey hey\n",
       "I said hey, what's going on?\n",
       "And I say, hey hey, hey hey\n",
       "What's going on?\n",
       "What's going on?\n",
       "And I say, hey hey, hey hey, hey hey, hey hey, hey hey, hey hey\n",
       "What's going on?</td>\n",
       "                        <td id=\"T_920b7_row2_col2\" class=\"data row2 col2\" >b891000882f4a612190142861b5c038b</td>\n",
       "            </tr>\n",
       "            <tr>\n",
       "                        <th id=\"T_920b7_level0_row3\" class=\"row_heading level0 row3\" >freq</th>\n",
       "                        <td id=\"T_920b7_row3_col0\" class=\"data row3 col0\" >9</td>\n",
       "                        <td id=\"T_920b7_row3_col1\" class=\"data row3 col1\" >15</td>\n",
       "                        <td id=\"T_920b7_row3_col2\" class=\"data row3 col2\" >24</td>\n",
       "            </tr>\n",
       "    </tbody></table>"
      ],
      "text/plain": [
       "<pandas.io.formats.style.Styler at 0x22e10dcd640>"
      ]
     },
     "metadata": {},
     "output_type": "display_data"
    },
    {
     "name": "stdout",
     "output_type": "stream",
     "text": [
      "\n",
      "Количество строк-дубликатов\n"
     ]
    },
    {
     "data": {
      "text/plain": [
       "0"
      ]
     },
     "metadata": {},
     "output_type": "display_data"
    },
    {
     "name": "stdout",
     "output_type": "stream",
     "text": [
      "\n",
      "Количество пропусков в процентном соотношении\n"
     ]
    },
    {
     "data": {
      "text/html": [
       "<style  type=\"text/css\" >\n",
       "#T_3c8ad_row0_col0,#T_3c8ad_row1_col0,#T_3c8ad_row2_col0{\n",
       "            background-color:  #fff7fb;\n",
       "            color:  #000000;\n",
       "        }</style><table id=\"T_3c8ad_\" ><thead>    <tr>        <th class=\"blank level0\" ></th>        <th class=\"col_heading level0 col0\" >0</th>    </tr></thead><tbody>\n",
       "                <tr>\n",
       "                        <th id=\"T_3c8ad_level0_row0\" class=\"row_heading level0 row0\" >lyricId</th>\n",
       "                        <td id=\"T_3c8ad_row0_col0\" class=\"data row0 col0\" >0.000000</td>\n",
       "            </tr>\n",
       "            <tr>\n",
       "                        <th id=\"T_3c8ad_level0_row1\" class=\"row_heading level0 row1\" >text</th>\n",
       "                        <td id=\"T_3c8ad_row1_col0\" class=\"data row1 col0\" >0.000000</td>\n",
       "            </tr>\n",
       "            <tr>\n",
       "                        <th id=\"T_3c8ad_level0_row2\" class=\"row_heading level0 row2\" >track_id</th>\n",
       "                        <td id=\"T_3c8ad_row2_col0\" class=\"data row2 col0\" >0.000000</td>\n",
       "            </tr>\n",
       "    </tbody></table>"
      ],
      "text/plain": [
       "<pandas.io.formats.style.Styler at 0x22e29eb4760>"
      ]
     },
     "metadata": {},
     "output_type": "display_data"
    },
    {
     "name": "stdout",
     "output_type": "stream",
     "text": [
      "\n"
     ]
    }
   ],
   "source": [
    "# посмотрим датасет c текстами\n",
    "main_info(df_lyrics)"
   ]
  },
  {
   "cell_type": "markdown",
   "id": "f180ed63-4bd2-4bfa-b88a-e70c00b0bc3e",
   "metadata": {},
   "source": [
    "Тексты песен на разных языках. Сделали перевод."
   ]
  },
  {
   "cell_type": "code",
   "execution_count": 20,
   "id": "6a348a75-0785-46fd-aeb0-bf7bf6cadaaa",
   "metadata": {},
   "outputs": [],
   "source": [
    "df_translated = pd.read_csv('translated_lyrics.csv')"
   ]
  },
  {
   "cell_type": "code",
   "execution_count": 21,
   "id": "c4ea1e41-1626-4d10-9e97-e7052d9fbe7b",
   "metadata": {},
   "outputs": [
    {
     "name": "stdout",
     "output_type": "stream",
     "text": [
      "Выведем первые 5 строк датафрейма\n"
     ]
    },
    {
     "data": {
      "text/html": [
       "<div>\n",
       "<style scoped>\n",
       "    .dataframe tbody tr th:only-of-type {\n",
       "        vertical-align: middle;\n",
       "    }\n",
       "\n",
       "    .dataframe tbody tr th {\n",
       "        vertical-align: top;\n",
       "    }\n",
       "\n",
       "    .dataframe thead th {\n",
       "        text-align: right;\n",
       "    }\n",
       "</style>\n",
       "<table border=\"1\" class=\"dataframe\">\n",
       "  <thead>\n",
       "    <tr style=\"text-align: right;\">\n",
       "      <th></th>\n",
       "      <th>track_id</th>\n",
       "      <th>language</th>\n",
       "      <th>lyricId</th>\n",
       "      <th>text</th>\n",
       "      <th>translate_text</th>\n",
       "    </tr>\n",
       "  </thead>\n",
       "  <tbody>\n",
       "    <tr>\n",
       "      <th>0</th>\n",
       "      <td>c3b9d6a354ca008aa4518329aaa21380</td>\n",
       "      <td>EN</td>\n",
       "      <td>36777cce0740d1e3d37a5a221c71d859</td>\n",
       "      <td>No more champagne\\nAnd the fireworks are throu...</td>\n",
       "      <td>No more champagne\\nAnd the fireworks are throu...</td>\n",
       "    </tr>\n",
       "    <tr>\n",
       "      <th>1</th>\n",
       "      <td>c57e3d13bbbf5322584a7e92e6f1f7ff</td>\n",
       "      <td>EN</td>\n",
       "      <td>8284927611c6a6fc49ff1ce7b3a88314</td>\n",
       "      <td>Ooh-ooh, ooh, ooh\\n\\nEvery time you come aroun...</td>\n",
       "      <td>Ooh-ooh, ooh, ooh\\n\\nEvery time you come aroun...</td>\n",
       "    </tr>\n",
       "    <tr>\n",
       "      <th>2</th>\n",
       "      <td>a7309d9c3374e12201f3226bc0fa7980</td>\n",
       "      <td>ES</td>\n",
       "      <td>0d2749ebc9b46feace9bd029693a720e</td>\n",
       "      <td>En el nombre del cielo os pido posada\\nPues no...</td>\n",
       "      <td>In the name of heaven I ask you inn\\nFor my be...</td>\n",
       "    </tr>\n",
       "    <tr>\n",
       "      <th>3</th>\n",
       "      <td>0c0315f45a49a35901912d0084cdf03f</td>\n",
       "      <td>PT</td>\n",
       "      <td>93768c946e484136b33ec7aa5b79be73</td>\n",
       "      <td>És inegualável\\nNa arte de amar\\nSou tão feliz...</td>\n",
       "      <td>You're unbeatable\\nIn the art of loving\\nI'm s...</td>\n",
       "    </tr>\n",
       "    <tr>\n",
       "      <th>4</th>\n",
       "      <td>94093810e71074bec5a6990c1c214165</td>\n",
       "      <td>HI</td>\n",
       "      <td>4099131cd860fc6194ad926e28efbe2f</td>\n",
       "      <td>Music\\n\\nSun mere humsafar\\nKya tujhe itni si ...</td>\n",
       "      <td>Music\\n\\nSun mere humsafar\\nKya tujhe itni si ...</td>\n",
       "    </tr>\n",
       "  </tbody>\n",
       "</table>\n",
       "</div>"
      ],
      "text/plain": [
       "                           track_id language  \\\n",
       "0  c3b9d6a354ca008aa4518329aaa21380       EN   \n",
       "1  c57e3d13bbbf5322584a7e92e6f1f7ff       EN   \n",
       "2  a7309d9c3374e12201f3226bc0fa7980       ES   \n",
       "3  0c0315f45a49a35901912d0084cdf03f       PT   \n",
       "4  94093810e71074bec5a6990c1c214165       HI   \n",
       "\n",
       "                            lyricId  \\\n",
       "0  36777cce0740d1e3d37a5a221c71d859   \n",
       "1  8284927611c6a6fc49ff1ce7b3a88314   \n",
       "2  0d2749ebc9b46feace9bd029693a720e   \n",
       "3  93768c946e484136b33ec7aa5b79be73   \n",
       "4  4099131cd860fc6194ad926e28efbe2f   \n",
       "\n",
       "                                                text  \\\n",
       "0  No more champagne\\nAnd the fireworks are throu...   \n",
       "1  Ooh-ooh, ooh, ooh\\n\\nEvery time you come aroun...   \n",
       "2  En el nombre del cielo os pido posada\\nPues no...   \n",
       "3  És inegualável\\nNa arte de amar\\nSou tão feliz...   \n",
       "4  Music\\n\\nSun mere humsafar\\nKya tujhe itni si ...   \n",
       "\n",
       "                                      translate_text  \n",
       "0  No more champagne\\nAnd the fireworks are throu...  \n",
       "1  Ooh-ooh, ooh, ooh\\n\\nEvery time you come aroun...  \n",
       "2  In the name of heaven I ask you inn\\nFor my be...  \n",
       "3  You're unbeatable\\nIn the art of loving\\nI'm s...  \n",
       "4  Music\\n\\nSun mere humsafar\\nKya tujhe itni si ...  "
      ]
     },
     "metadata": {},
     "output_type": "display_data"
    },
    {
     "name": "stdout",
     "output_type": "stream",
     "text": [
      "\n",
      "Основная информация о датафрейме\n",
      "\n",
      "<class 'pandas.core.frame.DataFrame'>\n",
      "RangeIndex: 11414 entries, 0 to 11413\n",
      "Data columns (total 5 columns):\n",
      " #   Column          Non-Null Count  Dtype \n",
      "---  ------          --------------  ----- \n",
      " 0   track_id        11414 non-null  object\n",
      " 1   language        11359 non-null  object\n",
      " 2   lyricId         11414 non-null  object\n",
      " 3   text            11414 non-null  object\n",
      " 4   translate_text  11414 non-null  object\n",
      "dtypes: object(5)\n",
      "memory usage: 446.0+ KB\n"
     ]
    },
    {
     "data": {
      "text/plain": [
       "None"
      ]
     },
     "metadata": {},
     "output_type": "display_data"
    },
    {
     "name": "stdout",
     "output_type": "stream",
     "text": [
      "\n",
      "Числовое описание данных\n"
     ]
    },
    {
     "data": {
      "text/html": [
       "<style  type=\"text/css\" >\n",
       "</style><table id=\"T_20bfd_\" ><thead>    <tr>        <th class=\"blank level0\" ></th>        <th class=\"col_heading level0 col0\" >track_id</th>        <th class=\"col_heading level0 col1\" >language</th>        <th class=\"col_heading level0 col2\" >lyricId</th>        <th class=\"col_heading level0 col3\" >text</th>        <th class=\"col_heading level0 col4\" >translate_text</th>    </tr></thead><tbody>\n",
       "                <tr>\n",
       "                        <th id=\"T_20bfd_level0_row0\" class=\"row_heading level0 row0\" >count</th>\n",
       "                        <td id=\"T_20bfd_row0_col0\" class=\"data row0 col0\" >11414</td>\n",
       "                        <td id=\"T_20bfd_row0_col1\" class=\"data row0 col1\" >11359</td>\n",
       "                        <td id=\"T_20bfd_row0_col2\" class=\"data row0 col2\" >11414</td>\n",
       "                        <td id=\"T_20bfd_row0_col3\" class=\"data row0 col3\" >11414</td>\n",
       "                        <td id=\"T_20bfd_row0_col4\" class=\"data row0 col4\" >11414</td>\n",
       "            </tr>\n",
       "            <tr>\n",
       "                        <th id=\"T_20bfd_level0_row1\" class=\"row_heading level0 row1\" >unique</th>\n",
       "                        <td id=\"T_20bfd_row1_col0\" class=\"data row1 col0\" >10277</td>\n",
       "                        <td id=\"T_20bfd_row1_col1\" class=\"data row1 col1\" >57</td>\n",
       "                        <td id=\"T_20bfd_row1_col2\" class=\"data row1 col2\" >10915</td>\n",
       "                        <td id=\"T_20bfd_row1_col3\" class=\"data row1 col3\" >10644</td>\n",
       "                        <td id=\"T_20bfd_row1_col4\" class=\"data row1 col4\" >10665</td>\n",
       "            </tr>\n",
       "            <tr>\n",
       "                        <th id=\"T_20bfd_level0_row2\" class=\"row_heading level0 row2\" >top</th>\n",
       "                        <td id=\"T_20bfd_row2_col0\" class=\"data row2 col0\" >b891000882f4a612190142861b5c038b</td>\n",
       "                        <td id=\"T_20bfd_row2_col1\" class=\"data row2 col1\" >EN</td>\n",
       "                        <td id=\"T_20bfd_row2_col2\" class=\"data row2 col2\" >6fe05ce48761f833737487cd7a499cd3</td>\n",
       "                        <td id=\"T_20bfd_row2_col3\" class=\"data row2 col3\" >Twenty-five years and my life is still\n",
       "I'm trying to get up that great big hill of hope\n",
       "For a destination\n",
       "And so I wake in the morning\n",
       "And I step outside\n",
       "And I take a deep breath and I get real high\n",
       "And I scream at the top of my lungs\n",
       "What's going on?\n",
       "And I say, hey hey hey hey, hey hey hey hey\n",
       "I said hey, what's going on?\n",
       "And I say, hey hey, hey hey\n",
       "What's going on?\n",
       "What's going on?\n",
       "And I say, hey hey, hey hey, hey hey, hey hey, hey hey, hey hey\n",
       "What's going on?</td>\n",
       "                        <td id=\"T_20bfd_row2_col4\" class=\"data row2 col4\" >Twenty-five years and my life is still\n",
       "I'm trying to get up that great big hill of hope\n",
       "For a destination\n",
       "And so I wake in the morning\n",
       "And I step outside\n",
       "And I take a deep breath and I get real high\n",
       "And I scream at the top of my lungs\n",
       "What's going on?\n",
       "And I say, hey hey hey hey, hey hey hey hey\n",
       "I said hey, what's going on?\n",
       "And I say, hey hey, hey hey\n",
       "What's going on?\n",
       "What's going on?\n",
       "And I say, hey hey, hey hey, hey hey, hey hey, hey hey, hey hey\n",
       "What's going on?</td>\n",
       "            </tr>\n",
       "            <tr>\n",
       "                        <th id=\"T_20bfd_level0_row3\" class=\"row_heading level0 row3\" >freq</th>\n",
       "                        <td id=\"T_20bfd_row3_col0\" class=\"data row3 col0\" >24</td>\n",
       "                        <td id=\"T_20bfd_row3_col1\" class=\"data row3 col1\" >7137</td>\n",
       "                        <td id=\"T_20bfd_row3_col2\" class=\"data row3 col2\" >9</td>\n",
       "                        <td id=\"T_20bfd_row3_col3\" class=\"data row3 col3\" >15</td>\n",
       "                        <td id=\"T_20bfd_row3_col4\" class=\"data row3 col4\" >15</td>\n",
       "            </tr>\n",
       "    </tbody></table>"
      ],
      "text/plain": [
       "<pandas.io.formats.style.Styler at 0x22e29bdab80>"
      ]
     },
     "metadata": {},
     "output_type": "display_data"
    },
    {
     "name": "stdout",
     "output_type": "stream",
     "text": [
      "\n",
      "Количество строк-дубликатов\n"
     ]
    },
    {
     "data": {
      "text/plain": [
       "0"
      ]
     },
     "metadata": {},
     "output_type": "display_data"
    },
    {
     "name": "stdout",
     "output_type": "stream",
     "text": [
      "\n",
      "Количество пропусков в процентном соотношении\n"
     ]
    },
    {
     "data": {
      "text/html": [
       "<style  type=\"text/css\" >\n",
       "#T_1f5ae_row0_col0,#T_1f5ae_row2_col0,#T_1f5ae_row3_col0,#T_1f5ae_row4_col0{\n",
       "            background-color:  #fff7fb;\n",
       "            color:  #000000;\n",
       "        }#T_1f5ae_row1_col0{\n",
       "            background-color:  #023858;\n",
       "            color:  #f1f1f1;\n",
       "        }</style><table id=\"T_1f5ae_\" ><thead>    <tr>        <th class=\"blank level0\" ></th>        <th class=\"col_heading level0 col0\" >0</th>    </tr></thead><tbody>\n",
       "                <tr>\n",
       "                        <th id=\"T_1f5ae_level0_row0\" class=\"row_heading level0 row0\" >track_id</th>\n",
       "                        <td id=\"T_1f5ae_row0_col0\" class=\"data row0 col0\" >0.000000</td>\n",
       "            </tr>\n",
       "            <tr>\n",
       "                        <th id=\"T_1f5ae_level0_row1\" class=\"row_heading level0 row1\" >language</th>\n",
       "                        <td id=\"T_1f5ae_row1_col0\" class=\"data row1 col0\" >0.500000</td>\n",
       "            </tr>\n",
       "            <tr>\n",
       "                        <th id=\"T_1f5ae_level0_row2\" class=\"row_heading level0 row2\" >lyricId</th>\n",
       "                        <td id=\"T_1f5ae_row2_col0\" class=\"data row2 col0\" >0.000000</td>\n",
       "            </tr>\n",
       "            <tr>\n",
       "                        <th id=\"T_1f5ae_level0_row3\" class=\"row_heading level0 row3\" >text</th>\n",
       "                        <td id=\"T_1f5ae_row3_col0\" class=\"data row3 col0\" >0.000000</td>\n",
       "            </tr>\n",
       "            <tr>\n",
       "                        <th id=\"T_1f5ae_level0_row4\" class=\"row_heading level0 row4\" >translate_text</th>\n",
       "                        <td id=\"T_1f5ae_row4_col0\" class=\"data row4 col0\" >0.000000</td>\n",
       "            </tr>\n",
       "    </tbody></table>"
      ],
      "text/plain": [
       "<pandas.io.formats.style.Styler at 0x22e29eb4b80>"
      ]
     },
     "metadata": {},
     "output_type": "display_data"
    },
    {
     "name": "stdout",
     "output_type": "stream",
     "text": [
      "\n"
     ]
    }
   ],
   "source": [
    "main_info(df_translated)"
   ]
  },
  {
   "cell_type": "code",
   "execution_count": 22,
   "id": "b357e99f-4b13-42be-bcc0-83d02b13f99e",
   "metadata": {},
   "outputs": [],
   "source": [
    "# загрузим объект nlp\n",
    "disabled_pipes = ['parser','ner']\n",
    "nlp = spacy.load(\"en_core_web_sm\",disable=disabled_pipes)\n",
    "\n",
    "# напишем функцию\n",
    "def lemmatize(text):\n",
    "    text = text.lower()\n",
    "    text = nlp(text)\n",
    "    lemm_text = \" \".join([token.lemma_ for token in text])\n",
    "    clear_text = re.sub(r'[^a-zA-Z ]', ' ', lemm_text)\n",
    "    return  \" \".join(clear_text.split())          "
   ]
  },
  {
   "cell_type": "markdown",
   "id": "0aa59737-c8eb-4a48-8158-b237319bca2f",
   "metadata": {},
   "source": [
    "Создадим новый столбец lemm_text с обработанным текстом, который будет нашим основным признаком для модели."
   ]
  },
  {
   "cell_type": "code",
   "execution_count": 23,
   "id": "e68537f6-abf6-4d8f-adb7-4c5b1e1cfdc7",
   "metadata": {},
   "outputs": [
    {
     "data": {
      "application/vnd.jupyter.widget-view+json": {
       "model_id": "1063e5ed303d410f971e5bdf7a8aa96a",
       "version_major": 2,
       "version_minor": 0
      },
      "text/plain": [
       "  0%|          | 0/11414 [00:00<?, ?it/s]"
      ]
     },
     "metadata": {},
     "output_type": "display_data"
    }
   ],
   "source": [
    "#tqdm.pandas(\"lemmatize\")\n",
    "df_translated['lemm_text'] = df_translated['translate_text'].progress_apply(lemmatize) "
   ]
  },
  {
   "cell_type": "code",
   "execution_count": null,
   "id": "ffac7ce3-d2d0-4398-8d7d-2c179526a559",
   "metadata": {},
   "outputs": [],
   "source": [
    "# проверим работу функции на произвольной строке\n",
    "print(\"Исходный текст:\", df_translated['text'][7])\n",
    "print(\"Очищенный и лемматизированный текст:\", lemmatize(df_translated['translate_text'][47]))"
   ]
  },
  {
   "cell_type": "code",
   "execution_count": null,
   "id": "9c8596c2-0e3d-4637-81db-be4be20bcb57",
   "metadata": {},
   "outputs": [],
   "source": [
    "df_translated.duplicated().sum()"
   ]
  },
  {
   "cell_type": "code",
   "execution_count": null,
   "id": "909401b5-af9a-4542-88ff-68dceeb2f082",
   "metadata": {},
   "outputs": [],
   "source": [
    "df_translated.info()"
   ]
  },
  {
   "cell_type": "code",
   "execution_count": 24,
   "id": "0e1ee820-bdb4-4466-ba45-a2826cfdce8e",
   "metadata": {},
   "outputs": [],
   "source": [
    "# удалим столбец с изначальным текстом и переведенным\n",
    "df_translated = df_translated.drop(['translate_text','text'], axis=1)"
   ]
  },
  {
   "cell_type": "markdown",
   "id": "055de0ed-1e03-485b-95aa-39db6b862510",
   "metadata": {},
   "source": [
    "**Вывод** Дописать про перевод, добавить про разные языки, после анализа\n",
    "\n",
    "Датасет с текстами песен содержит около 99% уникальных значений текстов и 95% уникальных значений lyricId.         \n",
    "Названия колонок соответствуют первоначальному описанию данных. \n",
    "Сразу видим, что есть одинаковые на первый взгляд тексты песен, при этом track_id у них разный, а lyricId одинаковый.\t             \n",
    "\n",
    "Типы данных соответствуют содержанию.            \n",
    "Полных строк дубликатов в тексте песен нет. Но при ближайшем рассмотрении по столбцам, дубликаты видны\n",
    "Cтолбец `language` имеет 0,5% пропусков.\n",
    "Все тексты были переведены на английский язык, проведена лемматизация."
   ]
  },
  {
   "cell_type": "code",
   "execution_count": null,
   "id": "e4d7ffa7-0a4d-4834-b6c5-5d90365597d4",
   "metadata": {},
   "outputs": [],
   "source": []
  },
  {
   "cell_type": "markdown",
   "id": "412cd230-568c-449a-af97-f77d70f0d28a",
   "metadata": {},
   "source": [
    "### Исследовательский анализ данных\n",
    "Рассмотрим подробно имеющиеся столбцы"
   ]
  },
  {
   "cell_type": "code",
   "execution_count": 25,
   "id": "ac13377e-ee6d-44d3-9cd2-8f2daaf9c1c6",
   "metadata": {},
   "outputs": [
    {
     "data": {
      "text/html": [
       "<div>\n",
       "<style scoped>\n",
       "    .dataframe tbody tr th:only-of-type {\n",
       "        vertical-align: middle;\n",
       "    }\n",
       "\n",
       "    .dataframe tbody tr th {\n",
       "        vertical-align: top;\n",
       "    }\n",
       "\n",
       "    .dataframe thead th {\n",
       "        text-align: right;\n",
       "    }\n",
       "</style>\n",
       "<table border=\"1\" class=\"dataframe\">\n",
       "  <thead>\n",
       "    <tr style=\"text-align: right;\">\n",
       "      <th></th>\n",
       "      <th>track_id</th>\n",
       "      <th>dttm</th>\n",
       "      <th>title</th>\n",
       "      <th>language</th>\n",
       "      <th>isrc</th>\n",
       "      <th>genres</th>\n",
       "      <th>duration</th>\n",
       "    </tr>\n",
       "  </thead>\n",
       "  <tbody>\n",
       "    <tr>\n",
       "      <th>27012</th>\n",
       "      <td>be0233f57dbb59079929ac646b0b9d5c</td>\n",
       "      <td>2021-07-06 16:38:30</td>\n",
       "      <td>Zivot da stane ne sme</td>\n",
       "      <td>None</td>\n",
       "      <td>ATAJ12100470</td>\n",
       "      <td>folk</td>\n",
       "      <td>151190.0</td>\n",
       "    </tr>\n",
       "    <tr>\n",
       "      <th>26955</th>\n",
       "      <td>8aff9d28865aaf1fa44e46b82cba0f63</td>\n",
       "      <td>2021-07-06 15:38:37</td>\n",
       "      <td>Burma</td>\n",
       "      <td>None</td>\n",
       "      <td>ATAJ12100470</td>\n",
       "      <td>folk</td>\n",
       "      <td>179300.0</td>\n",
       "    </tr>\n",
       "    <tr>\n",
       "      <th>51052</th>\n",
       "      <td>196a0973d73122891a426f8334105ce7</td>\n",
       "      <td>2019-03-29 21:00:00</td>\n",
       "      <td>Inní mér syngur vitleysingur</td>\n",
       "      <td>EN</td>\n",
       "      <td>ATN261668711</td>\n",
       "      <td>folkmetalmetal</td>\n",
       "      <td>237010.0</td>\n",
       "    </tr>\n",
       "    <tr>\n",
       "      <th>66395</th>\n",
       "      <td>425761c88ebc69e89c748eb537671953</td>\n",
       "      <td>2018-04-28 19:08:26</td>\n",
       "      <td>Inni Mer Syngur Vitleysingur</td>\n",
       "      <td>None</td>\n",
       "      <td>ATN261668711</td>\n",
       "      <td>folkmetalmetal</td>\n",
       "      <td>237010.0</td>\n",
       "    </tr>\n",
       "    <tr>\n",
       "      <th>51053</th>\n",
       "      <td>aa4a1d4d44890cbc7aae285842bd3ce2</td>\n",
       "      <td>2019-03-29 21:00:00</td>\n",
       "      <td>Nattfödd</td>\n",
       "      <td>EN</td>\n",
       "      <td>ATN261668712</td>\n",
       "      <td>folkmetalmetal</td>\n",
       "      <td>255320.0</td>\n",
       "    </tr>\n",
       "    <tr>\n",
       "      <th>...</th>\n",
       "      <td>...</td>\n",
       "      <td>...</td>\n",
       "      <td>...</td>\n",
       "      <td>...</td>\n",
       "      <td>...</td>\n",
       "      <td>...</td>\n",
       "      <td>...</td>\n",
       "    </tr>\n",
       "    <tr>\n",
       "      <th>42673</th>\n",
       "      <td>9ca51834e2b6a7266ebcb10cf9a00409</td>\n",
       "      <td>2014-09-23 12:08:24</td>\n",
       "      <td>How Far We've Come</td>\n",
       "      <td>None</td>\n",
       "      <td>USTCF1018560</td>\n",
       "      <td>rockallrock</td>\n",
       "      <td>200820.0</td>\n",
       "    </tr>\n",
       "    <tr>\n",
       "      <th>42671</th>\n",
       "      <td>2e04e2ca902c24028b3a7bcded51deeb</td>\n",
       "      <td>2014-09-23 12:08:24</td>\n",
       "      <td>Angel</td>\n",
       "      <td>None</td>\n",
       "      <td>USTCF1018563</td>\n",
       "      <td>rockallrock</td>\n",
       "      <td>261490.0</td>\n",
       "    </tr>\n",
       "    <tr>\n",
       "      <th>67314</th>\n",
       "      <td>7eb1ce7b0e7ce4c053c1c9af0ebd9634</td>\n",
       "      <td>2018-11-08 18:31:51</td>\n",
       "      <td>Angel (2009)</td>\n",
       "      <td>EN</td>\n",
       "      <td>USTCF1018563</td>\n",
       "      <td>rockallrock</td>\n",
       "      <td>261450.0</td>\n",
       "    </tr>\n",
       "    <tr>\n",
       "      <th>67315</th>\n",
       "      <td>90117fc7a8a5ef80c4d3e1e6e39b4f06</td>\n",
       "      <td>2018-11-08 18:31:51</td>\n",
       "      <td>Breathe (2009)</td>\n",
       "      <td>EN</td>\n",
       "      <td>USTCF1018565</td>\n",
       "      <td>rockallrock</td>\n",
       "      <td>221970.0</td>\n",
       "    </tr>\n",
       "    <tr>\n",
       "      <th>42675</th>\n",
       "      <td>734cfd17d9b91ed5e6040aeef988d8cc</td>\n",
       "      <td>2014-09-23 12:08:24</td>\n",
       "      <td>Breathe</td>\n",
       "      <td>None</td>\n",
       "      <td>USTCF1018565</td>\n",
       "      <td>rockallrock</td>\n",
       "      <td>222010.0</td>\n",
       "    </tr>\n",
       "  </tbody>\n",
       "</table>\n",
       "<p>292 rows × 7 columns</p>\n",
       "</div>"
      ],
      "text/plain": [
       "                               track_id                dttm  \\\n",
       "27012  be0233f57dbb59079929ac646b0b9d5c 2021-07-06 16:38:30   \n",
       "26955  8aff9d28865aaf1fa44e46b82cba0f63 2021-07-06 15:38:37   \n",
       "51052  196a0973d73122891a426f8334105ce7 2019-03-29 21:00:00   \n",
       "66395  425761c88ebc69e89c748eb537671953 2018-04-28 19:08:26   \n",
       "51053  aa4a1d4d44890cbc7aae285842bd3ce2 2019-03-29 21:00:00   \n",
       "...                                 ...                 ...   \n",
       "42673  9ca51834e2b6a7266ebcb10cf9a00409 2014-09-23 12:08:24   \n",
       "42671  2e04e2ca902c24028b3a7bcded51deeb 2014-09-23 12:08:24   \n",
       "67314  7eb1ce7b0e7ce4c053c1c9af0ebd9634 2018-11-08 18:31:51   \n",
       "67315  90117fc7a8a5ef80c4d3e1e6e39b4f06 2018-11-08 18:31:51   \n",
       "42675  734cfd17d9b91ed5e6040aeef988d8cc 2014-09-23 12:08:24   \n",
       "\n",
       "                              title language          isrc          genres  \\\n",
       "27012         Zivot da stane ne sme     None  ATAJ12100470            folk   \n",
       "26955                         Burma     None  ATAJ12100470            folk   \n",
       "51052  Inní mér syngur vitleysingur       EN  ATN261668711  folkmetalmetal   \n",
       "66395  Inni Mer Syngur Vitleysingur     None  ATN261668711  folkmetalmetal   \n",
       "51053                      Nattfödd       EN  ATN261668712  folkmetalmetal   \n",
       "...                             ...      ...           ...             ...   \n",
       "42673            How Far We've Come     None  USTCF1018560     rockallrock   \n",
       "42671                         Angel     None  USTCF1018563     rockallrock   \n",
       "67314                  Angel (2009)       EN  USTCF1018563     rockallrock   \n",
       "67315                Breathe (2009)       EN  USTCF1018565     rockallrock   \n",
       "42675                       Breathe     None  USTCF1018565     rockallrock   \n",
       "\n",
       "       duration  \n",
       "27012  151190.0  \n",
       "26955  179300.0  \n",
       "51052  237010.0  \n",
       "66395  237010.0  \n",
       "51053  255320.0  \n",
       "...         ...  \n",
       "42673  200820.0  \n",
       "42671  261490.0  \n",
       "67314  261450.0  \n",
       "67315  221970.0  \n",
       "42675  222010.0  \n",
       "\n",
       "[292 rows x 7 columns]"
      ]
     },
     "execution_count": 25,
     "metadata": {},
     "output_type": "execute_result"
    }
   ],
   "source": [
    "# все дубликаты без пропусков с длительностью больше 0\n",
    "df_meta[df_meta['isrc'].duplicated(keep=False) & df_meta['isrc'].notna() & df_meta['duration'] > 0].sort_values(by='isrc')"
   ]
  },
  {
   "cell_type": "code",
   "execution_count": null,
   "id": "a622e480-62cc-4331-a1ad-362e5300f799",
   "metadata": {
    "scrolled": true
   },
   "outputs": [],
   "source": [
    "# все дубликаты без пропусков в lyricId\t\n",
    "df_lyrics[df_lyrics['lyricId'].duplicated(keep=False) & df_lyrics['track_id'].notna() & df_lyrics['text'].notna()].sort_values(by='track_id')"
   ]
  },
  {
   "cell_type": "markdown",
   "id": "3579e89e-0319-4ce7-8cba-e2ef52319947",
   "metadata": {},
   "source": [
    "Обнаружили, что одному isrc может соответствовать несколько уникальных track_id. Это может быть вызвано дублем загрузки или несколько источников текста."
   ]
  },
  {
   "cell_type": "markdown",
   "id": "493b7f45-ecba-4d18-83df-013f4d2c8777",
   "metadata": {},
   "source": [
    "**Объединение датасетов**   \n",
    "\n",
    "Все датасеты содержат общий столбец `track_id`.Объединим датафреймы по столбцу `track id`, при этом удалим все дубликаты в этом столбце."
   ]
  },
  {
   "cell_type": "markdown",
   "id": "b42f5daf-32c6-4c6c-bc87-ea48de24ebc5",
   "metadata": {},
   "source": [
    "**Внимание!** Нужно оставлять дубликат в котором меньше всего пропусков в других признаках."
   ]
  },
  {
   "cell_type": "code",
   "execution_count": 26,
   "id": "c0be17d6-2d3d-4190-a401-446a150d1b95",
   "metadata": {},
   "outputs": [],
   "source": [
    "# объединяем и оставляем тот дубликат, в котором меньше пропусков\n",
    "df_union = df_covers.merge(df_meta, on='track_id', how='inner').merge(df_translated, on='track_id', how='inner')\n",
    "\n",
    "df_duplicated = df_union.duplicated(subset='track_id', keep=False)\n",
    "df_duplicates_counts = df_union[df_duplicated].isnull().sum(axis=1)\n",
    "\n",
    "df_union = df_union[~df_duplicated | (df_duplicates_counts == df_duplicates_counts.min())]\n"
   ]
  },
  {
   "cell_type": "code",
   "execution_count": 27,
   "id": "065f327f-8cc5-45b3-ae00-95123c7a9fc6",
   "metadata": {},
   "outputs": [],
   "source": [
    "# объединим датафреймы по столбцу `track id`\n",
    "#df_merged = pd.merge(df_covers, df_meta, on='track_id',how='left')\n",
    "\n",
    "# выведем объединенный датафрейма\n",
    "#df_merged.head()"
   ]
  },
  {
   "cell_type": "code",
   "execution_count": 28,
   "id": "a98f0abe-1de1-4fa2-a473-c511c9a9c23a",
   "metadata": {},
   "outputs": [],
   "source": [
    "#df_union = pd.merge(df_merged, df_lyrics, on='track_id',how='left')"
   ]
  },
  {
   "cell_type": "code",
   "execution_count": 29,
   "id": "d80a1e7c-b79e-4dc8-a315-301ac85f1012",
   "metadata": {
    "scrolled": true
   },
   "outputs": [
    {
     "name": "stdout",
     "output_type": "stream",
     "text": [
      "<class 'pandas.core.frame.DataFrame'>\n",
      "Int64Index: 10229 entries, 0 to 11096\n",
      "Data columns (total 12 columns):\n",
      " #   Column             Non-Null Count  Dtype         \n",
      "---  ------             --------------  -----         \n",
      " 0   original_track_id  3417 non-null   object        \n",
      " 1   track_id           10229 non-null  object        \n",
      " 2   track_remake_type  10229 non-null  object        \n",
      " 3   dttm               10229 non-null  datetime64[ns]\n",
      " 4   title              10229 non-null  object        \n",
      " 5   language_x         6553 non-null   object        \n",
      " 6   isrc               10183 non-null  object        \n",
      " 7   genres             10229 non-null  object        \n",
      " 8   duration           10229 non-null  float64       \n",
      " 9   language_y         10180 non-null  object        \n",
      " 10  lyricId            10229 non-null  object        \n",
      " 11  lemm_text          10229 non-null  object        \n",
      "dtypes: datetime64[ns](1), float64(1), object(10)\n",
      "memory usage: 1.0+ MB\n"
     ]
    }
   ],
   "source": [
    "df_union.info()"
   ]
  },
  {
   "cell_type": "code",
   "execution_count": null,
   "id": "2ed7a26e-3fd7-4b89-8a4d-1df96bb4b833",
   "metadata": {},
   "outputs": [],
   "source": [
    "# проверим размер итоговой таблицы\n",
    "df_union.shape"
   ]
  },
  {
   "cell_type": "markdown",
   "id": "f535c6ed-17b8-418c-8422-6b1981986edb",
   "metadata": {},
   "source": [
    "**Получилось чуть больше значений чем у Алексея**"
   ]
  },
  {
   "cell_type": "markdown",
   "id": "9120896d-16f9-4ecb-b656-77a841a8cb4c",
   "metadata": {},
   "source": [
    "Посмотреть дубликаты по всему датасету не представляется возможным. Посмотрим отдельно по столбцам."
   ]
  },
  {
   "cell_type": "code",
   "execution_count": null,
   "id": "95d6a477-d2dd-434e-ab32-386b612bbb0d",
   "metadata": {},
   "outputs": [],
   "source": [
    "# проверим дубликаты по `track_id`\n",
    "df_union['track_id'].duplicated().sum()"
   ]
  },
  {
   "cell_type": "markdown",
   "id": "570e600a-16b0-421e-b1df-01f56a3afd6a",
   "metadata": {},
   "source": [
    "Было 974 при предыдущем объединении когда все дубликаты оставались."
   ]
  },
  {
   "cell_type": "code",
   "execution_count": null,
   "id": "cf01fb5a-f701-4466-b965-81ac59f6dae0",
   "metadata": {},
   "outputs": [],
   "source": [
    "df_union['track_id'].drop_duplicates(inplace=True)\n"
   ]
  },
  {
   "cell_type": "code",
   "execution_count": null,
   "id": "2919dfe2-1899-4dc1-8e2c-83cfd1238d82",
   "metadata": {},
   "outputs": [],
   "source": [
    "df_union['track_id'].duplicated().sum()"
   ]
  },
  {
   "cell_type": "code",
   "execution_count": null,
   "id": "945cf99a-eab0-4da5-81c3-df0f4a40cd71",
   "metadata": {},
   "outputs": [],
   "source": [
    "df_union['title'].duplicated().sum()"
   ]
  },
  {
   "cell_type": "markdown",
   "id": "b98db1a7-9e61-4432-9706-5492e66fdb59",
   "metadata": {},
   "source": [
    "После объединения всех датафреймов в 1 мы получили больше информации об имеющихся у нас треках."
   ]
  },
  {
   "cell_type": "code",
   "execution_count": null,
   "id": "9f1d250e-f2ae-449f-8f38-b1ca172079ef",
   "metadata": {},
   "outputs": [],
   "source": [
    "df_group = df_union.groupby('original_track_id')['track_id'].agg('count').reset_index()\n",
    "df_group = df_group.sort_values('track_id')\n",
    "df_group = df_group.tail(20)"
   ]
  },
  {
   "cell_type": "code",
   "execution_count": null,
   "id": "9195343f-aa6b-4cf6-9eb5-c42ffc107a2f",
   "metadata": {},
   "outputs": [],
   "source": [
    "plt.title('Топ 10 количество каверов для оригинального трека')\n",
    "plt.barh(df_group['original_track_id'], df_group['track_id'])\n",
    "plt.xlabel('Количество треков')\n",
    "plt.ylabel('id оригинального трека')\n",
    "plt.show()"
   ]
  },
  {
   "cell_type": "code",
   "execution_count": null,
   "id": "c0c05fcc-70d9-4095-a28c-c0a6bef8f446",
   "metadata": {},
   "outputs": [],
   "source": []
  },
  {
   "cell_type": "code",
   "execution_count": null,
   "id": "8d460bf5-50bf-4631-b5af-9a5b4fc64bec",
   "metadata": {},
   "outputs": [],
   "source": [
    "grouped_data = df_union.groupby(['track_remake_type'])['original_track_id'].value_counts()\n",
    "\n",
    "grouped_data.head()"
   ]
  },
  {
   "cell_type": "code",
   "execution_count": null,
   "id": "ff692cb3-435e-49ea-828a-c1c0834411f6",
   "metadata": {},
   "outputs": [],
   "source": [
    "# cгруппировали данные по количеству названий песен для категории кавер-оригинал\n",
    "grouped_data1 = df_union.groupby(['track_remake_type'])['title'].value_counts()\n",
    "grouped_data1 "
   ]
  },
  {
   "cell_type": "code",
   "execution_count": null,
   "id": "adb322d1-2a2a-4aa2-a5c8-14ce191eba66",
   "metadata": {},
   "outputs": [],
   "source": [
    "grouped_data2 = df_union.groupby(['track_remake_type'])['track_id'].value_counts()\n",
    "grouped_data2 "
   ]
  },
  {
   "cell_type": "code",
   "execution_count": null,
   "id": "7a1591f5-347d-41a3-a247-57d6e47878d1",
   "metadata": {},
   "outputs": [],
   "source": [
    "# cгруппировали данные по количеству песен в определенную дату\n",
    "grouped_data3 = df_union.groupby(['track_remake_type'])['dttm'].value_counts()\n",
    "grouped_data3 "
   ]
  },
  {
   "cell_type": "code",
   "execution_count": null,
   "id": "28ae2572-c09a-4e2b-a2e2-6d817628f9da",
   "metadata": {},
   "outputs": [],
   "source": [
    "# cгруппировали данные по количеству названий песен для категории кавер-оригинал\n",
    "grouped_data3 = df_union.groupby(['dttm'])['track_remake_type'].value_counts()\n",
    "grouped_data3 "
   ]
  },
  {
   "cell_type": "code",
   "execution_count": null,
   "id": "ad700aca-c17f-483b-8e13-1e68988fb9ac",
   "metadata": {},
   "outputs": [],
   "source": []
  },
  {
   "cell_type": "markdown",
   "id": "bd2c7236-8e44-4d2c-8f1a-564968387551",
   "metadata": {},
   "source": [
    "\n",
    "\n",
    "Перед нами стоит задача бинарной классификации. Явного таргета у нас нет, поэтому нам следует сгенерировать новый бинарный признак по столбцу track_remake_type. Следовательно, создадим новый столбец, где '1' - COVER, а '0' - ORIGINAL. После этого удалить столбец 'track_remake_type'."
   ]
  },
  {
   "cell_type": "code",
   "execution_count": 30,
   "id": "76086ee5-051f-4756-b703-9cebbe843b3f",
   "metadata": {},
   "outputs": [],
   "source": [
    "df_union['target'] = np.where(df_union['track_remake_type']== 'ORIGINAL',0,1)"
   ]
  },
  {
   "cell_type": "code",
   "execution_count": null,
   "id": "5aea33f7-c87f-4a05-a951-72e5305efaff",
   "metadata": {},
   "outputs": [],
   "source": [
    "df_union.info()"
   ]
  },
  {
   "cell_type": "code",
   "execution_count": 31,
   "id": "a23fd312-969f-4dea-93b5-99a3dbb13ef1",
   "metadata": {},
   "outputs": [
    {
     "data": {
      "text/plain": [
       "original_track_id    6812\n",
       "track_id                0\n",
       "track_remake_type       0\n",
       "dttm                    0\n",
       "title                   0\n",
       "language_x           3676\n",
       "isrc                   46\n",
       "genres                  0\n",
       "duration                0\n",
       "language_y             49\n",
       "lyricId                 0\n",
       "lemm_text               0\n",
       "target                  0\n",
       "dtype: int64"
      ]
     },
     "execution_count": 31,
     "metadata": {},
     "output_type": "execute_result"
    }
   ],
   "source": [
    "# посмотрим пропуски\n",
    "df_union.isna().sum() "
   ]
  },
  {
   "cell_type": "code",
   "execution_count": null,
   "id": "534c3c7b-30bf-4713-b8ed-e03980b07c99",
   "metadata": {},
   "outputs": [],
   "source": []
  },
  {
   "cell_type": "code",
   "execution_count": null,
   "id": "517c8540-6f8c-444a-9f2c-70da5caf768f",
   "metadata": {},
   "outputs": [],
   "source": [
    "df_union['isrc'].duplicated().sum()"
   ]
  },
  {
   "cell_type": "code",
   "execution_count": null,
   "id": "7c823f77-63ed-47b0-957e-620d5691ef54",
   "metadata": {},
   "outputs": [],
   "source": [
    "# проверим дубликаты по 'original_track_id'\n",
    "df_union['original_track_id'].duplicated().sum()"
   ]
  },
  {
   "cell_type": "code",
   "execution_count": null,
   "id": "5aeb1870-bc29-4589-8f36-05f173de4740",
   "metadata": {},
   "outputs": [],
   "source": [
    "# посмотрим период за который у нас есть данные \n",
    "max_date = df_union['dttm'].max()\n",
    "min_date = df_union['dttm'].min()\n",
    "print(f'Данные представлены за период c {min_date} по {max_date}')"
   ]
  },
  {
   "cell_type": "markdown",
   "id": "21cdbacc-9b49-4760-91c4-a27f9103591c",
   "metadata": {},
   "source": [
    "**Подготовка признаков для обучения Baseline модели**"
   ]
  },
  {
   "cell_type": "markdown",
   "id": "37fe2065-8bf2-4794-86d3-9144f90e399d",
   "metadata": {},
   "source": [
    "**Изучим, что такое ISRC**    \n",
    "ISRC – уникальный код, который однозначно и навсегда определяет музыкальную или видеозапись.\n",
    "\n",
    "Именно запись, не песню в целом. Разным версиям одной песни или видео (ремиксы, вырезки и т. д.) должны быть присвоены различные уникальные кодыКод можно присваивать записи как сразу после ее написания, так и «задним числом» – через любой промежуток времени после ее публикации.\n",
    "– ISRC является самым простым и оперативным способом идентификации владельца прав на музыкальное или видео произведение в случае, если после присвоения кода владелец прав не менялся.\n",
    "\n",
    "– В большинстве случаев, с помощью кода можно определить год и страну написания записи.\n",
    ".\n",
    "\n",
    "ISRC RU — B94 — 13 — 00137 (ISRC RUB941300137)\n",
    "ISRC RU B94 13 00137\n",
    "Идентификатор кода Код страны (2 буквы)RU = Россия Код регистранта(3 символа)B94 = Концертно-продюсерский центр Год присваивания кода(2 цифры)13 = 2013 Номер записи(5 цифр). "
   ]
  },
  {
   "cell_type": "code",
   "execution_count": 32,
   "id": "d95b8da3-cc57-43a5-b593-af183cd12645",
   "metadata": {},
   "outputs": [
    {
     "data": {
      "text/plain": [
       "array(['69', '04', '07', '01', '99', '70', '05', '98', '08', '68', '93',\n",
       "       '90', '86', '67', '03', '94', '60', '02', '00', '06', '79', '95',\n",
       "       '65', '80', '74', '89', '91', '87', '88', '58', '97', '57', '84',\n",
       "       '09', '96', None, '51', '92', '81', '73', '10', '18', '82', '83',\n",
       "       '85', '44', '76', '75', '15', '13', '16', '11', '12', '5-', '14',\n",
       "       '17', '19', '21', '22', '23', '24', '33', '20', '71', '30', '63',\n",
       "       '78', '77'], dtype=object)"
      ]
     },
     "execution_count": 32,
     "metadata": {},
     "output_type": "execute_result"
    }
   ],
   "source": [
    "# Извлекаем год из столбца isrc\n",
    "df_union['year_of_track'] = df_union['isrc'].str[5:7]\n",
    "df_union['year_of_track'].unique()"
   ]
  },
  {
   "cell_type": "markdown",
   "id": "2456606d-5320-431e-8cd5-6aa2f4254792",
   "metadata": {},
   "source": [
    "**Внимание исправить значение 5-, удалить его?**"
   ]
  },
  {
   "cell_type": "markdown",
   "id": "cd378a51-916b-4fbc-a590-b0c457341cb5",
   "metadata": {},
   "source": [
    "Напишем функцию, которая преобразовывает столбец с годом в 4-х значный, исходя из имеющихся сведений об isrc."
   ]
  },
  {
   "cell_type": "code",
   "execution_count": 33,
   "id": "a8bf8be5-f04c-47fd-acb3-9fceb23be31b",
   "metadata": {},
   "outputs": [],
   "source": [
    "def transform_year(year):\n",
    "    if year is None:\n",
    "        return '0'\n",
    "    elif year.isdigit() and int(year) >= 0 and int(year) <= 23:\n",
    "        return '20' + year\n",
    "    else:\n",
    "        return '19' + year\n",
    "\n",
    "df_union['year_of_track'] = df_union['year_of_track'].apply(transform_year)"
   ]
  },
  {
   "cell_type": "code",
   "execution_count": 34,
   "id": "3d9fb524-3975-47c5-90f0-59007a5215dd",
   "metadata": {},
   "outputs": [
    {
     "data": {
      "text/plain": [
       "array(['1969', '2004', '2007', '2001', '1999', '1970', '2005', '1998',\n",
       "       '2008', '1968', '1993', '1990', '1986', '1967', '2003', '1994',\n",
       "       '1960', '2002', '2000', '2006', '1979', '1995', '1965', '1980',\n",
       "       '1974', '1989', '1991', '1987', '1988', '1958', '1997', '1957',\n",
       "       '1984', '2009', '1996', '0', '1951', '1992', '1981', '1973',\n",
       "       '2010', '2018', '1982', '1983', '1985', '1944', '1976', '1975',\n",
       "       '2015', '2013', '2016', '2011', '2012', '195-', '2014', '2017',\n",
       "       '2019', '2021', '2022', '2023', '1924', '1933', '2020', '1971',\n",
       "       '1930', '1963', '1978', '1977'], dtype=object)"
      ]
     },
     "execution_count": 34,
     "metadata": {},
     "output_type": "execute_result"
    }
   ],
   "source": [
    "# исправить значение 195-, удалить его?\n",
    "df_union['year_of_track'].unique()"
   ]
  },
  {
   "cell_type": "code",
   "execution_count": 35,
   "id": "24ab8278-a339-47d6-8d42-92beed04d114",
   "metadata": {},
   "outputs": [
    {
     "data": {
      "text/plain": [
       "0        1969\n",
       "1        1969\n",
       "2        1969\n",
       "3        2004\n",
       "4        2007\n",
       "         ... \n",
       "11092    2023\n",
       "11093    2000\n",
       "11094    2023\n",
       "11095    2023\n",
       "11096    2000\n",
       "Name: year_of_track, Length: 10229, dtype: object"
      ]
     },
     "execution_count": 35,
     "metadata": {},
     "output_type": "execute_result"
    }
   ],
   "source": [
    "df_union['year_of_track']"
   ]
  },
  {
   "cell_type": "markdown",
   "id": "1b2089a2-c871-4d94-88d5-c71edfe50b8e",
   "metadata": {},
   "source": [
    "**!!!перевести тип данных в числовой формат, т.к.это не категория после исправления 195-**"
   ]
  },
  {
   "cell_type": "code",
   "execution_count": null,
   "id": "e2a809ce-1628-48e5-83a5-8bff8a3cc413",
   "metadata": {},
   "outputs": [],
   "source": [
    "#df_union['year_of_track'] = df_union['year_of_track'].astype('int64')"
   ]
  },
  {
   "cell_type": "code",
   "execution_count": 36,
   "id": "480f15c1-b04f-4644-a1e8-4d027ee186d8",
   "metadata": {},
   "outputs": [
    {
     "data": {
      "text/plain": [
       "0        US\n",
       "1        US\n",
       "2        US\n",
       "3        US\n",
       "4        US\n",
       "         ..\n",
       "11092    RU\n",
       "11093    SM\n",
       "11094    RU\n",
       "11095    RU\n",
       "11096    SM\n",
       "Name: country_of_track, Length: 10229, dtype: object"
      ]
     },
     "execution_count": 36,
     "metadata": {},
     "output_type": "execute_result"
    }
   ],
   "source": [
    "# Извлекаем страну из столбца isrc\n",
    "df_union['country_of_track'] = df_union['isrc'].str[0:2]\n",
    "df_union['country_of_track'] "
   ]
  },
  {
   "cell_type": "code",
   "execution_count": 37,
   "id": "1d310623-eb4c-4f22-afda-329fec533122",
   "metadata": {},
   "outputs": [
    {
     "data": {
      "text/plain": [
       "0        I86\n",
       "1        I86\n",
       "2        I86\n",
       "3        L10\n",
       "4        M70\n",
       "        ... \n",
       "11092    1D2\n",
       "11093    US0\n",
       "11094    GV2\n",
       "11095    GV2\n",
       "11096    US0\n",
       "Name: reg_code, Length: 10229, dtype: object"
      ]
     },
     "execution_count": 37,
     "metadata": {},
     "output_type": "execute_result"
    }
   ],
   "source": [
    "# Извлекаем код регистранта из столбца isrc\n",
    "df_union['reg_code'] = df_union['isrc'].str[3:6]\n",
    "df_union['reg_code'] "
   ]
  },
  {
   "cell_type": "code",
   "execution_count": 38,
   "id": "4684e020-2915-4474-a40a-1172e52e5301",
   "metadata": {},
   "outputs": [
    {
     "data": {
      "text/plain": [
       "array([2009, 2010, 2011, 2012, 2013, 2014, 2015, 2016, 2017, 2018, 2019,\n",
       "       2020, 2021, 2022, 2023], dtype=int64)"
      ]
     },
     "execution_count": 38,
     "metadata": {},
     "output_type": "execute_result"
    }
   ],
   "source": [
    "# получим информацию о годах появления информации о треке\n",
    "df_union['dttm'].dt.year.sort_values().unique()"
   ]
  },
  {
   "cell_type": "code",
   "execution_count": 39,
   "id": "9dde65f8-27a4-4ff8-a934-3bcc6bd0c0b4",
   "metadata": {},
   "outputs": [],
   "source": [
    "df_union['year_of_entry'] = pd.to_datetime(df_union['dttm'], utc=True).dt.year"
   ]
  },
  {
   "cell_type": "code",
   "execution_count": 40,
   "id": "acb668aa-7d2b-4c2a-beb0-ce6369931e15",
   "metadata": {},
   "outputs": [],
   "source": [
    "# заполним пока оставшиеся пропуски заглушкой\n",
    "df_union = df_union.fillna('-')"
   ]
  },
  {
   "cell_type": "code",
   "execution_count": null,
   "id": "7c949247-b96d-442c-add6-cbd0a436c44a",
   "metadata": {},
   "outputs": [],
   "source": [
    "\n"
   ]
  },
  {
   "cell_type": "code",
   "execution_count": null,
   "id": "1bda318b-42d3-4dec-b708-96fd9fb72ed5",
   "metadata": {},
   "outputs": [],
   "source": [
    "# cгруппировали данные по количеству названий песен для категории кавер-оригинал\n",
    "grouped_data4 = df_union.groupby(['lyricId'])['track_id'].value_counts()\n",
    "grouped_data4 "
   ]
  },
  {
   "cell_type": "code",
   "execution_count": null,
   "id": "98326cca-9355-484a-8256-a128b97fab57",
   "metadata": {},
   "outputs": [],
   "source": []
  },
  {
   "cell_type": "markdown",
   "id": "aa418dde-2acb-4dab-9035-93a7f438459f",
   "metadata": {},
   "source": [
    "Подготовка признаков для обучения Baseline модели"
   ]
  },
  {
   "cell_type": "code",
   "execution_count": null,
   "id": "8d165888-c31a-4d41-834b-3db7ca59adea",
   "metadata": {},
   "outputs": [],
   "source": [
    "#df_union = df_union.drop(['original_track_id','track_id','dttm','lyricId','track_remake_type','isrc','language_x'], axis=1)"
   ]
  },
  {
   "cell_type": "code",
   "execution_count": null,
   "id": "837a1f32-4c86-4646-a26e-7d32d2f4d439",
   "metadata": {},
   "outputs": [],
   "source": []
  },
  {
   "cell_type": "code",
   "execution_count": null,
   "id": "1713d8f1-3298-465a-915d-cb68683a3fdb",
   "metadata": {},
   "outputs": [],
   "source": [
    "df_union.info()"
   ]
  },
  {
   "cell_type": "markdown",
   "id": "6a27694e-9e48-4ec9-b2a8-7ec94ac06a0b",
   "metadata": {},
   "source": [
    "Препроцессинг, проверить функцию"
   ]
  },
  {
   "cell_type": "code",
   "execution_count": null,
   "id": "b9ddb2ce-83b0-40e1-b912-39cc2c0597e1",
   "metadata": {},
   "outputs": [],
   "source": [
    "def openfile(path):\n",
    "    try:\n",
    "        df = pd.read_csv(path)\n",
    "    except:\n",
    "        print('Файл по указанному пути не найден')\n",
    "        exit()\n",
    "    columns = ['original', 'track', 'target', 'temp']\n",
    "    for col in columns:\n",
    "        if col not in df.columns:\n",
    "            print(f'Столбец {col} не найден в файле')\n",
    "            exit()\n",
    "    \n",
    "    if df['original'].isna().all():\n",
    "        print('Делаем прогноз')\n",
    "    else:\n",
    "        if df['original'].equals(df['track']):\n",
    "            print('Оригинал')\n",
    "    \n",
    "    return df"
   ]
  },
  {
   "cell_type": "markdown",
   "id": "022f21d1-cbde-4f49-8601-246083a4e2ec",
   "metadata": {},
   "source": [
    "## Выбор и обучение моделей\n",
    "\n",
    "Подготовка признаков для обучения моделей.\n",
    "Cначала обучим модель, которая будет классифицировать кавер/оригинал на основании только текстов песен."
   ]
  },
  {
   "cell_type": "code",
   "execution_count": 41,
   "id": "e54ab5a3-1a49-4dde-9563-6202634bacd4",
   "metadata": {},
   "outputs": [
    {
     "name": "stderr",
     "output_type": "stream",
     "text": [
      "[nltk_data] Downloading package stopwords to\n",
      "[nltk_data]     C:\\Users\\fudou\\AppData\\Roaming\\nltk_data...\n",
      "[nltk_data]   Package stopwords is already up-to-date!\n"
     ]
    }
   ],
   "source": [
    "nltk.download('stopwords') \n",
    "stopwords = set(nltk_stopwords.words('english'))\n",
    "count_tf_idf = TfidfVectorizer(stop_words = stopwords,max_features=5000)\n",
    "# обучим и трансформируем обучающий набор\n",
    "values = count_tf_idf.fit_transform(df_union['lemm_text'])"
   ]
  },
  {
   "cell_type": "code",
   "execution_count": 42,
   "id": "64d0e7be-16ae-4914-814b-f8a26c89bd48",
   "metadata": {},
   "outputs": [],
   "source": [
    "# Определим вектор с данными для обучения и вектор правильных ответов\n",
    "X = values\n",
    "y = df_union['target'].values"
   ]
  },
  {
   "cell_type": "markdown",
   "id": "d0bbf4a0-3716-4682-a74c-3564bf287021",
   "metadata": {},
   "source": [
    "Далее разобьем данные на выборки. Разделим исходные данные на обучающую и тестовую выборки. Данные разобьем на 2 части, в соотношении 90:10. Добавим аргумент stratify, он позволит сохранить изначальное распределение таргетов во всех новых датасетах. Существующий дисбаланс никуда не денется, но в каждом датасете он будет одинаковым."
   ]
  },
  {
   "cell_type": "code",
   "execution_count": 43,
   "id": "cf6aa8d6-096a-401d-9f7c-6e6271a329bf",
   "metadata": {},
   "outputs": [],
   "source": [
    "X_train, X_test, y_train, y_test = train_test_split(\n",
    "    X, y, test_size=0.1, random_state=RANDOM_STATE,stratify = y\n",
    ")"
   ]
  },
  {
   "cell_type": "code",
   "execution_count": 44,
   "id": "def09669-b7ab-4f5d-9120-208701f6da78",
   "metadata": {},
   "outputs": [
    {
     "data": {
      "text/plain": [
       "<9206x5000 sparse matrix of type '<class 'numpy.float64'>'\n",
       "\twith 457856 stored elements in Compressed Sparse Row format>"
      ]
     },
     "execution_count": 44,
     "metadata": {},
     "output_type": "execute_result"
    }
   ],
   "source": [
    "X_train"
   ]
  },
  {
   "cell_type": "code",
   "execution_count": 45,
   "id": "fe38ec29-127d-46a0-afaf-ed53d690d0b7",
   "metadata": {},
   "outputs": [
    {
     "data": {
      "text/plain": [
       "((9206, 5000), (9206,), (1023, 5000), (1023,))"
      ]
     },
     "execution_count": 45,
     "metadata": {},
     "output_type": "execute_result"
    }
   ],
   "source": [
    "# выведем на экран размеры таблиц, которые хранятся в 4-х переменных \n",
    "X_train.shape,y_train.shape,X_test.shape,y_test.shape"
   ]
  },
  {
   "cell_type": "code",
   "execution_count": 46,
   "id": "3c7462a6-4f18-4367-95e2-361b978847de",
   "metadata": {},
   "outputs": [
    {
     "ename": "AttributeError",
     "evalue": "lower not found",
     "output_type": "error",
     "traceback": [
      "\u001b[1;31m---------------------------------------------------------------------------\u001b[0m",
      "\u001b[1;31mAttributeError\u001b[0m                            Traceback (most recent call last)",
      "Cell \u001b[1;32mIn[46], line 2\u001b[0m\n\u001b[0;32m      1\u001b[0m \u001b[38;5;66;03m# применим обученный на трейне векторайзер для трансформирования тестовой выборки\u001b[39;00m\n\u001b[1;32m----> 2\u001b[0m test \u001b[38;5;241m=\u001b[39m \u001b[43mcount_tf_idf\u001b[49m\u001b[38;5;241;43m.\u001b[39;49m\u001b[43mtransform\u001b[49m\u001b[43m(\u001b[49m\u001b[43mX_test\u001b[49m\u001b[43m)\u001b[49m\n",
      "File \u001b[1;32m~\\anaconda3\\envs\\ds_practicum_env\\lib\\site-packages\\sklearn\\feature_extraction\\text.py:1874\u001b[0m, in \u001b[0;36mTfidfVectorizer.transform\u001b[1;34m(self, raw_documents)\u001b[0m\n\u001b[0;32m   1857\u001b[0m \u001b[38;5;250m\u001b[39m\u001b[38;5;124;03m\"\"\"Transform documents to document-term matrix.\u001b[39;00m\n\u001b[0;32m   1858\u001b[0m \n\u001b[0;32m   1859\u001b[0m \u001b[38;5;124;03mUses the vocabulary and document frequencies (df) learned by fit (or\u001b[39;00m\n\u001b[1;32m   (...)\u001b[0m\n\u001b[0;32m   1870\u001b[0m \u001b[38;5;124;03m    Tf-idf-weighted document-term matrix.\u001b[39;00m\n\u001b[0;32m   1871\u001b[0m \u001b[38;5;124;03m\"\"\"\u001b[39;00m\n\u001b[0;32m   1872\u001b[0m check_is_fitted(\u001b[38;5;28mself\u001b[39m, msg\u001b[38;5;241m=\u001b[39m\u001b[38;5;124m'\u001b[39m\u001b[38;5;124mThe TF-IDF vectorizer is not fitted\u001b[39m\u001b[38;5;124m'\u001b[39m)\n\u001b[1;32m-> 1874\u001b[0m X \u001b[38;5;241m=\u001b[39m \u001b[38;5;28;43msuper\u001b[39;49m\u001b[43m(\u001b[49m\u001b[43m)\u001b[49m\u001b[38;5;241;43m.\u001b[39;49m\u001b[43mtransform\u001b[49m\u001b[43m(\u001b[49m\u001b[43mraw_documents\u001b[49m\u001b[43m)\u001b[49m\n\u001b[0;32m   1875\u001b[0m \u001b[38;5;28;01mreturn\u001b[39;00m \u001b[38;5;28mself\u001b[39m\u001b[38;5;241m.\u001b[39m_tfidf\u001b[38;5;241m.\u001b[39mtransform(X, copy\u001b[38;5;241m=\u001b[39m\u001b[38;5;28;01mFalse\u001b[39;00m)\n",
      "File \u001b[1;32m~\\anaconda3\\envs\\ds_practicum_env\\lib\\site-packages\\sklearn\\feature_extraction\\text.py:1255\u001b[0m, in \u001b[0;36mCountVectorizer.transform\u001b[1;34m(self, raw_documents)\u001b[0m\n\u001b[0;32m   1252\u001b[0m \u001b[38;5;28mself\u001b[39m\u001b[38;5;241m.\u001b[39m_check_vocabulary()\n\u001b[0;32m   1254\u001b[0m \u001b[38;5;66;03m# use the same matrix-building strategy as fit_transform\u001b[39;00m\n\u001b[1;32m-> 1255\u001b[0m _, X \u001b[38;5;241m=\u001b[39m \u001b[38;5;28;43mself\u001b[39;49m\u001b[38;5;241;43m.\u001b[39;49m\u001b[43m_count_vocab\u001b[49m\u001b[43m(\u001b[49m\u001b[43mraw_documents\u001b[49m\u001b[43m,\u001b[49m\u001b[43m \u001b[49m\u001b[43mfixed_vocab\u001b[49m\u001b[38;5;241;43m=\u001b[39;49m\u001b[38;5;28;43;01mTrue\u001b[39;49;00m\u001b[43m)\u001b[49m\n\u001b[0;32m   1256\u001b[0m \u001b[38;5;28;01mif\u001b[39;00m \u001b[38;5;28mself\u001b[39m\u001b[38;5;241m.\u001b[39mbinary:\n\u001b[0;32m   1257\u001b[0m     X\u001b[38;5;241m.\u001b[39mdata\u001b[38;5;241m.\u001b[39mfill(\u001b[38;5;241m1\u001b[39m)\n",
      "File \u001b[1;32m~\\anaconda3\\envs\\ds_practicum_env\\lib\\site-packages\\sklearn\\feature_extraction\\text.py:1115\u001b[0m, in \u001b[0;36mCountVectorizer._count_vocab\u001b[1;34m(self, raw_documents, fixed_vocab)\u001b[0m\n\u001b[0;32m   1113\u001b[0m \u001b[38;5;28;01mfor\u001b[39;00m doc \u001b[38;5;129;01min\u001b[39;00m raw_documents:\n\u001b[0;32m   1114\u001b[0m     feature_counter \u001b[38;5;241m=\u001b[39m {}\n\u001b[1;32m-> 1115\u001b[0m     \u001b[38;5;28;01mfor\u001b[39;00m feature \u001b[38;5;129;01min\u001b[39;00m \u001b[43manalyze\u001b[49m\u001b[43m(\u001b[49m\u001b[43mdoc\u001b[49m\u001b[43m)\u001b[49m:\n\u001b[0;32m   1116\u001b[0m         \u001b[38;5;28;01mtry\u001b[39;00m:\n\u001b[0;32m   1117\u001b[0m             feature_idx \u001b[38;5;241m=\u001b[39m vocabulary[feature]\n",
      "File \u001b[1;32m~\\anaconda3\\envs\\ds_practicum_env\\lib\\site-packages\\sklearn\\feature_extraction\\text.py:104\u001b[0m, in \u001b[0;36m_analyze\u001b[1;34m(doc, analyzer, tokenizer, ngrams, preprocessor, decoder, stop_words)\u001b[0m\n\u001b[0;32m    102\u001b[0m \u001b[38;5;28;01melse\u001b[39;00m:\n\u001b[0;32m    103\u001b[0m     \u001b[38;5;28;01mif\u001b[39;00m preprocessor \u001b[38;5;129;01mis\u001b[39;00m \u001b[38;5;129;01mnot\u001b[39;00m \u001b[38;5;28;01mNone\u001b[39;00m:\n\u001b[1;32m--> 104\u001b[0m         doc \u001b[38;5;241m=\u001b[39m \u001b[43mpreprocessor\u001b[49m\u001b[43m(\u001b[49m\u001b[43mdoc\u001b[49m\u001b[43m)\u001b[49m\n\u001b[0;32m    105\u001b[0m     \u001b[38;5;28;01mif\u001b[39;00m tokenizer \u001b[38;5;129;01mis\u001b[39;00m \u001b[38;5;129;01mnot\u001b[39;00m \u001b[38;5;28;01mNone\u001b[39;00m:\n\u001b[0;32m    106\u001b[0m         doc \u001b[38;5;241m=\u001b[39m tokenizer(doc)\n",
      "File \u001b[1;32m~\\anaconda3\\envs\\ds_practicum_env\\lib\\site-packages\\sklearn\\feature_extraction\\text.py:69\u001b[0m, in \u001b[0;36m_preprocess\u001b[1;34m(doc, accent_function, lower)\u001b[0m\n\u001b[0;32m     50\u001b[0m \u001b[38;5;250m\u001b[39m\u001b[38;5;124;03m\"\"\"Chain together an optional series of text preprocessing steps to\u001b[39;00m\n\u001b[0;32m     51\u001b[0m \u001b[38;5;124;03mapply to a document.\u001b[39;00m\n\u001b[0;32m     52\u001b[0m \n\u001b[1;32m   (...)\u001b[0m\n\u001b[0;32m     66\u001b[0m \u001b[38;5;124;03m    preprocessed string\u001b[39;00m\n\u001b[0;32m     67\u001b[0m \u001b[38;5;124;03m\"\"\"\u001b[39;00m\n\u001b[0;32m     68\u001b[0m \u001b[38;5;28;01mif\u001b[39;00m lower:\n\u001b[1;32m---> 69\u001b[0m     doc \u001b[38;5;241m=\u001b[39m \u001b[43mdoc\u001b[49m\u001b[38;5;241;43m.\u001b[39;49m\u001b[43mlower\u001b[49m()\n\u001b[0;32m     70\u001b[0m \u001b[38;5;28;01mif\u001b[39;00m accent_function \u001b[38;5;129;01mis\u001b[39;00m \u001b[38;5;129;01mnot\u001b[39;00m \u001b[38;5;28;01mNone\u001b[39;00m:\n\u001b[0;32m     71\u001b[0m     doc \u001b[38;5;241m=\u001b[39m accent_function(doc)\n",
      "File \u001b[1;32m~\\anaconda3\\envs\\ds_practicum_env\\lib\\site-packages\\scipy\\sparse\\_base.py:761\u001b[0m, in \u001b[0;36mspmatrix.__getattr__\u001b[1;34m(self, attr)\u001b[0m\n\u001b[0;32m    759\u001b[0m     \u001b[38;5;28;01mreturn\u001b[39;00m \u001b[38;5;28mself\u001b[39m\u001b[38;5;241m.\u001b[39mgetnnz()\n\u001b[0;32m    760\u001b[0m \u001b[38;5;28;01melse\u001b[39;00m:\n\u001b[1;32m--> 761\u001b[0m     \u001b[38;5;28;01mraise\u001b[39;00m \u001b[38;5;167;01mAttributeError\u001b[39;00m(attr \u001b[38;5;241m+\u001b[39m \u001b[38;5;124m\"\u001b[39m\u001b[38;5;124m not found\u001b[39m\u001b[38;5;124m\"\u001b[39m)\n",
      "\u001b[1;31mAttributeError\u001b[0m: lower not found"
     ]
    }
   ],
   "source": [
    "# применим обученный на трейне векторайзер для трансформирования тестовой выборки\n",
    "test = count_tf_idf.transform(X_test)"
   ]
  },
  {
   "cell_type": "markdown",
   "id": "e6d47813-84d0-4e13-997f-350b5bbf484a",
   "metadata": {},
   "source": [
    "**Почему ошибка??**"
   ]
  },
  {
   "cell_type": "code",
   "execution_count": 47,
   "id": "6382f5bc-69e3-4ca6-a427-a09b24e76e57",
   "metadata": {},
   "outputs": [
    {
     "name": "stdout",
     "output_type": "stream",
     "text": [
      "accuracy LogisticRegression:0.7956989247311828\n"
     ]
    }
   ],
   "source": [
    "from sklearn.linear_model import LogisticRegression\n",
    "logreg = LogisticRegression()\n",
    "result_logreg = logreg.fit(X_train, y_train)\n",
    "\n",
    "print(f'accuracy LogisticRegression:{logreg.score(X_test,y_test)}')"
   ]
  },
  {
   "cell_type": "markdown",
   "id": "622ad5de-fa3c-4ac8-afc2-b4f2a9d57002",
   "metadata": {},
   "source": [
    "**Внимание Здесь X_test подается не трасформированный после TFIDF.Ошибка??**"
   ]
  },
  {
   "cell_type": "markdown",
   "id": "17e4668a-6d0b-472c-8446-e8aeb994cc0e",
   "metadata": {},
   "source": [
    "**Модель CatBoostClassifier**\n"
   ]
  },
  {
   "cell_type": "code",
   "execution_count": 48,
   "id": "0323aa8b-cba6-4a44-9fca-25578ae2cdd0",
   "metadata": {},
   "outputs": [],
   "source": [
    "cb = CatBoostClassifier(eval_metric='F1',random_state=RANDOM_STATE,iterations=500)"
   ]
  },
  {
   "cell_type": "code",
   "execution_count": 49,
   "id": "64854424-fa86-49d6-b1d5-638fdbf5dbd8",
   "metadata": {},
   "outputs": [
    {
     "name": "stdout",
     "output_type": "stream",
     "text": [
      "Learning rate set to 0.050192\n",
      "0:\tlearn: 0.8278103\ttotal: 455ms\tremaining: 3m 47s\n",
      "1:\tlearn: 0.8293882\ttotal: 698ms\tremaining: 2m 53s\n",
      "2:\tlearn: 0.8291929\ttotal: 974ms\tremaining: 2m 41s\n",
      "3:\tlearn: 0.8287129\ttotal: 1.21s\tremaining: 2m 30s\n",
      "4:\tlearn: 0.8284191\ttotal: 1.46s\tremaining: 2m 24s\n",
      "5:\tlearn: 0.8284852\ttotal: 1.72s\tremaining: 2m 21s\n",
      "6:\tlearn: 0.8304026\ttotal: 1.98s\tremaining: 2m 19s\n",
      "7:\tlearn: 0.8301668\ttotal: 2.25s\tremaining: 2m 18s\n",
      "8:\tlearn: 0.8305412\ttotal: 2.49s\tremaining: 2m 15s\n",
      "9:\tlearn: 0.8301571\ttotal: 2.76s\tremaining: 2m 15s\n",
      "10:\tlearn: 0.8309060\ttotal: 3.08s\tremaining: 2m 17s\n",
      "11:\tlearn: 0.8313665\ttotal: 3.35s\tremaining: 2m 16s\n",
      "12:\tlearn: 0.8318710\ttotal: 3.65s\tremaining: 2m 16s\n",
      "13:\tlearn: 0.8326014\ttotal: 3.91s\tremaining: 2m 15s\n",
      "14:\tlearn: 0.8330209\ttotal: 4.2s\tremaining: 2m 15s\n",
      "15:\tlearn: 0.8331609\ttotal: 4.52s\tremaining: 2m 16s\n",
      "16:\tlearn: 0.8335923\ttotal: 4.8s\tremaining: 2m 16s\n",
      "17:\tlearn: 0.8346406\ttotal: 5.21s\tremaining: 2m 19s\n",
      "18:\tlearn: 0.8344457\ttotal: 5.55s\tremaining: 2m 20s\n",
      "19:\tlearn: 0.8356155\ttotal: 5.91s\tremaining: 2m 21s\n",
      "20:\tlearn: 0.8366047\ttotal: 6.29s\tremaining: 2m 23s\n",
      "21:\tlearn: 0.8366166\ttotal: 6.63s\tremaining: 2m 24s\n",
      "22:\tlearn: 0.8375000\ttotal: 7.01s\tremaining: 2m 25s\n",
      "23:\tlearn: 0.8375000\ttotal: 7.43s\tremaining: 2m 27s\n",
      "24:\tlearn: 0.8380456\ttotal: 7.82s\tremaining: 2m 28s\n",
      "25:\tlearn: 0.8386592\ttotal: 8.1s\tremaining: 2m 27s\n",
      "26:\tlearn: 0.8397126\ttotal: 8.4s\tremaining: 2m 27s\n",
      "27:\tlearn: 0.8407635\ttotal: 8.66s\tremaining: 2m 25s\n",
      "28:\tlearn: 0.8411068\ttotal: 8.95s\tremaining: 2m 25s\n",
      "29:\tlearn: 0.8417813\ttotal: 9.22s\tremaining: 2m 24s\n",
      "30:\tlearn: 0.8425398\ttotal: 9.5s\tremaining: 2m 23s\n",
      "31:\tlearn: 0.8434463\ttotal: 9.77s\tremaining: 2m 22s\n",
      "32:\tlearn: 0.8447017\ttotal: 10.1s\tremaining: 2m 22s\n",
      "33:\tlearn: 0.8446053\ttotal: 10.4s\tremaining: 2m 22s\n",
      "34:\tlearn: 0.8456570\ttotal: 10.8s\tremaining: 2m 23s\n",
      "35:\tlearn: 0.8461792\ttotal: 11s\tremaining: 2m 22s\n",
      "36:\tlearn: 0.8458800\ttotal: 11.3s\tremaining: 2m 21s\n",
      "37:\tlearn: 0.8462300\ttotal: 11.7s\tremaining: 2m 21s\n",
      "38:\tlearn: 0.8464533\ttotal: 11.9s\tremaining: 2m 21s\n",
      "39:\tlearn: 0.8469563\ttotal: 12.4s\tremaining: 2m 22s\n",
      "40:\tlearn: 0.8474039\ttotal: 12.8s\tremaining: 2m 23s\n",
      "41:\tlearn: 0.8485771\ttotal: 13.1s\tremaining: 2m 22s\n",
      "42:\tlearn: 0.8488580\ttotal: 13.6s\tremaining: 2m 24s\n",
      "43:\tlearn: 0.8487056\ttotal: 14s\tremaining: 2m 25s\n",
      "44:\tlearn: 0.8487056\ttotal: 14.4s\tremaining: 2m 25s\n",
      "45:\tlearn: 0.8488904\ttotal: 14.7s\tremaining: 2m 25s\n",
      "46:\tlearn: 0.8497911\ttotal: 15s\tremaining: 2m 24s\n",
      "47:\tlearn: 0.8500133\ttotal: 15.3s\tremaining: 2m 23s\n",
      "48:\tlearn: 0.8506144\ttotal: 15.7s\tremaining: 2m 24s\n",
      "49:\tlearn: 0.8511430\ttotal: 16s\tremaining: 2m 23s\n",
      "50:\tlearn: 0.8512166\ttotal: 16.3s\tremaining: 2m 23s\n",
      "51:\tlearn: 0.8514035\ttotal: 16.6s\tremaining: 2m 23s\n",
      "52:\tlearn: 0.8519899\ttotal: 16.9s\tremaining: 2m 22s\n",
      "53:\tlearn: 0.8528412\ttotal: 17.2s\tremaining: 2m 22s\n",
      "54:\tlearn: 0.8539221\ttotal: 17.5s\tremaining: 2m 21s\n",
      "55:\tlearn: 0.8540360\ttotal: 17.8s\tremaining: 2m 21s\n",
      "56:\tlearn: 0.8543210\ttotal: 18.2s\tremaining: 2m 21s\n",
      "57:\tlearn: 0.8546438\ttotal: 18.4s\tremaining: 2m 20s\n",
      "58:\tlearn: 0.8549863\ttotal: 18.7s\tremaining: 2m 20s\n",
      "59:\tlearn: 0.8562065\ttotal: 19.1s\tremaining: 2m 20s\n",
      "60:\tlearn: 0.8563784\ttotal: 19.4s\tremaining: 2m 19s\n",
      "61:\tlearn: 0.8567412\ttotal: 19.7s\tremaining: 2m 19s\n",
      "62:\tlearn: 0.8569707\ttotal: 20.1s\tremaining: 2m 19s\n",
      "63:\tlearn: 0.8571620\ttotal: 20.5s\tremaining: 2m 19s\n",
      "64:\tlearn: 0.8575642\ttotal: 20.9s\tremaining: 2m 20s\n",
      "65:\tlearn: 0.8576794\ttotal: 21.3s\tremaining: 2m 20s\n",
      "66:\tlearn: 0.8584469\ttotal: 21.6s\tremaining: 2m 19s\n",
      "67:\tlearn: 0.8587161\ttotal: 22s\tremaining: 2m 19s\n",
      "68:\tlearn: 0.8590234\ttotal: 22.4s\tremaining: 2m 19s\n",
      "69:\tlearn: 0.8591199\ttotal: 22.7s\tremaining: 2m 19s\n",
      "70:\tlearn: 0.8589666\ttotal: 23s\tremaining: 2m 19s\n",
      "71:\tlearn: 0.8594286\ttotal: 23.4s\tremaining: 2m 19s\n",
      "72:\tlearn: 0.8598521\ttotal: 23.7s\tremaining: 2m 18s\n",
      "73:\tlearn: 0.8602179\ttotal: 24s\tremaining: 2m 18s\n",
      "74:\tlearn: 0.8603728\ttotal: 24.4s\tremaining: 2m 18s\n",
      "75:\tlearn: 0.8602006\ttotal: 24.7s\tremaining: 2m 17s\n",
      "76:\tlearn: 0.8606248\ttotal: 25s\tremaining: 2m 17s\n",
      "77:\tlearn: 0.8611860\ttotal: 25.3s\tremaining: 2m 16s\n",
      "78:\tlearn: 0.8611092\ttotal: 25.5s\tremaining: 2m 16s\n",
      "79:\tlearn: 0.8617667\ttotal: 25.8s\tremaining: 2m 15s\n",
      "80:\tlearn: 0.8617875\ttotal: 26.1s\tremaining: 2m 14s\n",
      "81:\tlearn: 0.8621551\ttotal: 26.4s\tremaining: 2m 14s\n",
      "82:\tlearn: 0.8627186\ttotal: 26.6s\tremaining: 2m 13s\n",
      "83:\tlearn: 0.8631266\ttotal: 26.9s\tremaining: 2m 13s\n",
      "84:\tlearn: 0.8632831\ttotal: 27.2s\tremaining: 2m 12s\n",
      "85:\tlearn: 0.8632646\ttotal: 27.5s\tremaining: 2m 12s\n",
      "86:\tlearn: 0.8635749\ttotal: 27.8s\tremaining: 2m 11s\n",
      "87:\tlearn: 0.8640422\ttotal: 28.1s\tremaining: 2m 11s\n",
      "88:\tlearn: 0.8641992\ttotal: 28.4s\tremaining: 2m 11s\n",
      "89:\tlearn: 0.8647075\ttotal: 28.7s\tremaining: 2m 10s\n",
      "90:\tlearn: 0.8648246\ttotal: 29s\tremaining: 2m 10s\n",
      "91:\tlearn: 0.8650955\ttotal: 29.3s\tremaining: 2m 10s\n",
      "92:\tlearn: 0.8653885\ttotal: 29.6s\tremaining: 2m 9s\n",
      "93:\tlearn: 0.8653299\ttotal: 29.9s\tremaining: 2m 8s\n",
      "94:\tlearn: 0.8653117\ttotal: 30.1s\tremaining: 2m 8s\n",
      "95:\tlearn: 0.8652165\ttotal: 30.4s\tremaining: 2m 8s\n",
      "96:\tlearn: 0.8651579\ttotal: 30.7s\tremaining: 2m 7s\n",
      "97:\tlearn: 0.8656271\ttotal: 31s\tremaining: 2m 7s\n",
      "98:\tlearn: 0.8658032\ttotal: 31.3s\tremaining: 2m 6s\n",
      "99:\tlearn: 0.8659794\ttotal: 31.6s\tremaining: 2m 6s\n",
      "100:\tlearn: 0.8659207\ttotal: 32s\tremaining: 2m 6s\n",
      "101:\tlearn: 0.8664088\ttotal: 32.4s\tremaining: 2m 6s\n",
      "102:\tlearn: 0.8666440\ttotal: 32.7s\tremaining: 2m 5s\n",
      "103:\tlearn: 0.8667029\ttotal: 33s\tremaining: 2m 5s\n",
      "104:\tlearn: 0.8671148\ttotal: 33.2s\tremaining: 2m 5s\n",
      "105:\tlearn: 0.8675092\ttotal: 33.6s\tremaining: 2m 4s\n",
      "106:\tlearn: 0.8681991\ttotal: 33.8s\tremaining: 2m 4s\n",
      "107:\tlearn: 0.8681401\ttotal: 34.1s\tremaining: 2m 3s\n",
      "108:\tlearn: 0.8687309\ttotal: 34.4s\tremaining: 2m 3s\n",
      "109:\tlearn: 0.8687309\ttotal: 34.9s\tremaining: 2m 3s\n",
      "110:\tlearn: 0.8689674\ttotal: 35.4s\tremaining: 2m 3s\n",
      "111:\tlearn: 0.8690265\ttotal: 35.8s\tremaining: 2m 4s\n",
      "112:\tlearn: 0.8694231\ttotal: 36.3s\tremaining: 2m 4s\n",
      "113:\tlearn: 0.8695237\ttotal: 36.8s\tremaining: 2m 4s\n",
      "114:\tlearn: 0.8696600\ttotal: 37.2s\tremaining: 2m 4s\n",
      "115:\tlearn: 0.8697785\ttotal: 37.5s\tremaining: 2m 4s\n",
      "116:\tlearn: 0.8702883\ttotal: 37.9s\tremaining: 2m 4s\n",
      "117:\tlearn: 0.8701166\ttotal: 38.4s\tremaining: 2m 4s\n",
      "118:\tlearn: 0.8700395\ttotal: 38.8s\tremaining: 2m 4s\n",
      "119:\tlearn: 0.8701998\ttotal: 39.3s\tremaining: 2m 4s\n",
      "120:\tlearn: 0.8702832\ttotal: 39.6s\tremaining: 2m 3s\n",
      "121:\tlearn: 0.8703666\ttotal: 40s\tremaining: 2m 4s\n",
      "122:\tlearn: 0.8706220\ttotal: 40.4s\tremaining: 2m 3s\n",
      "123:\tlearn: 0.8708598\ttotal: 40.8s\tremaining: 2m 3s\n",
      "124:\tlearn: 0.8714725\ttotal: 41.1s\tremaining: 2m 3s\n",
      "125:\tlearn: 0.8715916\ttotal: 41.6s\tremaining: 2m 3s\n",
      "126:\tlearn: 0.8718124\ttotal: 42s\tremaining: 2m 3s\n",
      "127:\tlearn: 0.8718720\ttotal: 42.4s\tremaining: 2m 3s\n",
      "128:\tlearn: 0.8717773\ttotal: 42.8s\tremaining: 2m 3s\n",
      "129:\tlearn: 0.8718791\ttotal: 43.2s\tremaining: 2m 2s\n",
      "130:\tlearn: 0.8721002\ttotal: 43.6s\tremaining: 2m 2s\n",
      "131:\tlearn: 0.8721424\ttotal: 43.9s\tremaining: 2m 2s\n",
      "132:\tlearn: 0.8726027\ttotal: 44.3s\tremaining: 2m 2s\n",
      "133:\tlearn: 0.8724832\ttotal: 44.5s\tremaining: 2m 1s\n",
      "134:\tlearn: 0.8723288\ttotal: 44.9s\tremaining: 2m 1s\n",
      "135:\tlearn: 0.8731660\ttotal: 45.2s\tremaining: 2m 1s\n",
      "136:\tlearn: 0.8735080\ttotal: 45.5s\tremaining: 2m\n",
      "137:\tlearn: 0.8734307\ttotal: 45.8s\tremaining: 2m\n",
      "138:\tlearn: 0.8733535\ttotal: 46.1s\tremaining: 1m 59s\n",
      "139:\tlearn: 0.8737131\ttotal: 46.4s\tremaining: 1m 59s\n",
      "140:\tlearn: 0.8739104\ttotal: 46.6s\tremaining: 1m 58s\n",
      "141:\tlearn: 0.8740731\ttotal: 46.9s\tremaining: 1m 58s\n",
      "142:\tlearn: 0.8743132\ttotal: 47.2s\tremaining: 1m 57s\n",
      "143:\tlearn: 0.8746736\ttotal: 47.5s\tremaining: 1m 57s\n",
      "144:\tlearn: 0.8750086\ttotal: 48s\tremaining: 1m 57s\n",
      "145:\tlearn: 0.8747766\ttotal: 48.4s\tremaining: 1m 57s\n",
      "146:\tlearn: 0.8748023\ttotal: 48.9s\tremaining: 1m 57s\n",
      "147:\tlearn: 0.8749398\ttotal: 49.2s\tremaining: 1m 57s\n",
      "148:\tlearn: 0.8752236\ttotal: 49.6s\tremaining: 1m 56s\n",
      "149:\tlearn: 0.8752666\ttotal: 50s\tremaining: 1m 56s\n",
      "150:\tlearn: 0.8751892\ttotal: 50.3s\tremaining: 1m 56s\n",
      "151:\tlearn: 0.8753699\ttotal: 50.8s\tremaining: 1m 56s\n",
      "152:\tlearn: 0.8758089\ttotal: 51.2s\tremaining: 1m 56s\n",
      "153:\tlearn: 0.8758089\ttotal: 51.5s\tremaining: 1m 55s\n",
      "154:\tlearn: 0.8759727\ttotal: 51.8s\tremaining: 1m 55s\n",
      "155:\tlearn: 0.8762141\ttotal: 52.1s\tremaining: 1m 54s\n",
      "156:\tlearn: 0.8763519\ttotal: 52.5s\tremaining: 1m 54s\n",
      "157:\tlearn: 0.8768181\ttotal: 52.9s\tremaining: 1m 54s\n",
      "158:\tlearn: 0.8769390\ttotal: 53.3s\tremaining: 1m 54s\n",
      "159:\tlearn: 0.8772752\ttotal: 53.8s\tremaining: 1m 54s\n",
      "160:\tlearn: 0.8772752\ttotal: 54.2s\tremaining: 1m 54s\n",
      "161:\tlearn: 0.8772583\ttotal: 54.5s\tremaining: 1m 53s\n",
      "162:\tlearn: 0.8773793\ttotal: 54.9s\tremaining: 1m 53s\n",
      "163:\tlearn: 0.8774567\ttotal: 55.2s\tremaining: 1m 53s\n",
      "164:\tlearn: 0.8776383\ttotal: 55.5s\tremaining: 1m 52s\n",
      "165:\tlearn: 0.8781397\ttotal: 55.8s\tremaining: 1m 52s\n",
      "166:\tlearn: 0.8781228\ttotal: 56.1s\tremaining: 1m 51s\n",
      "167:\tlearn: 0.8783821\ttotal: 56.4s\tremaining: 1m 51s\n",
      "168:\tlearn: 0.8786582\ttotal: 56.8s\tremaining: 1m 51s\n",
      "169:\tlearn: 0.8789615\ttotal: 57s\tremaining: 1m 50s\n",
      "170:\tlearn: 0.8791436\ttotal: 57.3s\tremaining: 1m 50s\n",
      "171:\tlearn: 0.8789888\ttotal: 57.6s\tremaining: 1m 49s\n",
      "172:\tlearn: 0.8791710\ttotal: 57.9s\tremaining: 1m 49s\n",
      "173:\tlearn: 0.8791543\ttotal: 58.2s\tremaining: 1m 49s\n",
      "174:\tlearn: 0.8792150\ttotal: 58.6s\tremaining: 1m 48s\n",
      "175:\tlearn: 0.8794748\ttotal: 58.8s\tremaining: 1m 48s\n",
      "176:\tlearn: 0.8796572\ttotal: 59.1s\tremaining: 1m 47s\n",
      "177:\tlearn: 0.8795631\ttotal: 59.3s\tremaining: 1m 47s\n",
      "178:\tlearn: 0.8799115\ttotal: 59.6s\tremaining: 1m 46s\n",
      "179:\tlearn: 0.8800332\ttotal: 59.9s\tremaining: 1m 46s\n",
      "180:\tlearn: 0.8801882\ttotal: 1m\tremaining: 1m 45s\n",
      "181:\tlearn: 0.8802490\ttotal: 1m\tremaining: 1m 45s\n",
      "182:\tlearn: 0.8803874\ttotal: 1m\tremaining: 1m 45s\n",
      "183:\tlearn: 0.8804927\ttotal: 1m\tremaining: 1m 44s\n",
      "184:\tlearn: 0.8804152\ttotal: 1m 1s\tremaining: 1m 44s\n",
      "185:\tlearn: 0.8805371\ttotal: 1m 1s\tremaining: 1m 43s\n",
      "186:\tlearn: 0.8805980\ttotal: 1m 1s\tremaining: 1m 43s\n",
      "187:\tlearn: 0.8806869\ttotal: 1m 2s\tremaining: 1m 42s\n",
      "188:\tlearn: 0.8809474\ttotal: 1m 2s\tremaining: 1m 42s\n",
      "189:\tlearn: 0.8809920\ttotal: 1m 2s\tremaining: 1m 42s\n",
      "190:\tlearn: 0.8816519\ttotal: 1m 2s\tremaining: 1m 41s\n",
      "191:\tlearn: 0.8817741\ttotal: 1m 3s\tremaining: 1m 41s\n",
      "192:\tlearn: 0.8817130\ttotal: 1m 3s\tremaining: 1m 40s\n",
      "193:\tlearn: 0.8818516\ttotal: 1m 3s\tremaining: 1m 40s\n",
      "194:\tlearn: 0.8818516\ttotal: 1m 3s\tremaining: 1m 39s\n",
      "195:\tlearn: 0.8819738\ttotal: 1m 4s\tremaining: 1m 39s\n",
      "196:\tlearn: 0.8821082\ttotal: 1m 4s\tremaining: 1m 39s\n",
      "197:\tlearn: 0.8822469\ttotal: 1m 4s\tremaining: 1m 38s\n",
      "198:\tlearn: 0.8824754\ttotal: 1m 4s\tremaining: 1m 38s\n",
      "199:\tlearn: 0.8824754\ttotal: 1m 5s\tremaining: 1m 37s\n",
      "200:\tlearn: 0.8828429\ttotal: 1m 5s\tremaining: 1m 37s\n",
      "201:\tlearn: 0.8830430\ttotal: 1m 5s\tremaining: 1m 36s\n",
      "202:\tlearn: 0.8832269\ttotal: 1m 5s\tremaining: 1m 36s\n",
      "203:\tlearn: 0.8838275\ttotal: 1m 6s\tremaining: 1m 36s\n",
      "204:\tlearn: 0.8839503\ttotal: 1m 6s\tremaining: 1m 35s\n",
      "205:\tlearn: 0.8840117\ttotal: 1m 6s\tremaining: 1m 35s\n",
      "206:\tlearn: 0.8842734\ttotal: 1m 7s\tremaining: 1m 35s\n",
      "207:\tlearn: 0.8845031\ttotal: 1m 7s\tremaining: 1m 34s\n",
      "208:\tlearn: 0.8849336\ttotal: 1m 7s\tremaining: 1m 34s\n",
      "209:\tlearn: 0.8850567\ttotal: 1m 8s\tremaining: 1m 34s\n",
      "210:\tlearn: 0.8851182\ttotal: 1m 8s\tremaining: 1m 33s\n",
      "211:\tlearn: 0.8856268\ttotal: 1m 8s\tremaining: 1m 33s\n",
      "212:\tlearn: 0.8859032\ttotal: 1m 9s\tremaining: 1m 33s\n",
      "213:\tlearn: 0.8859032\ttotal: 1m 9s\tremaining: 1m 33s\n",
      "214:\tlearn: 0.8859808\ttotal: 1m 10s\tremaining: 1m 32s\n",
      "215:\tlearn: 0.8864127\ttotal: 1m 10s\tremaining: 1m 32s\n",
      "216:\tlearn: 0.8867215\ttotal: 1m 10s\tremaining: 1m 32s\n",
      "217:\tlearn: 0.8866899\ttotal: 1m 11s\tremaining: 1m 31s\n",
      "218:\tlearn: 0.8868135\ttotal: 1m 11s\tremaining: 1m 31s\n",
      "219:\tlearn: 0.8873239\ttotal: 1m 11s\tremaining: 1m 31s\n",
      "220:\tlearn: 0.8873239\ttotal: 1m 11s\tremaining: 1m 30s\n",
      "221:\tlearn: 0.8877110\ttotal: 1m 12s\tremaining: 1m 30s\n",
      "222:\tlearn: 0.8878348\ttotal: 1m 12s\tremaining: 1m 30s\n",
      "223:\tlearn: 0.8876491\ttotal: 1m 12s\tremaining: 1m 29s\n",
      "224:\tlearn: 0.8879587\ttotal: 1m 13s\tremaining: 1m 29s\n",
      "225:\tlearn: 0.8880826\ttotal: 1m 13s\tremaining: 1m 29s\n",
      "226:\tlearn: 0.8882685\ttotal: 1m 13s\tremaining: 1m 28s\n",
      "227:\tlearn: 0.8884390\ttotal: 1m 14s\tremaining: 1m 28s\n",
      "228:\tlearn: 0.8884390\ttotal: 1m 14s\tremaining: 1m 27s\n",
      "229:\tlearn: 0.8885630\ttotal: 1m 14s\tremaining: 1m 27s\n",
      "230:\tlearn: 0.8887648\ttotal: 1m 14s\tremaining: 1m 27s\n",
      "231:\tlearn: 0.8887648\ttotal: 1m 15s\tremaining: 1m 26s\n",
      "232:\tlearn: 0.8894479\ttotal: 1m 15s\tremaining: 1m 26s\n",
      "233:\tlearn: 0.8892927\ttotal: 1m 15s\tremaining: 1m 26s\n",
      "234:\tlearn: 0.8892927\ttotal: 1m 15s\tremaining: 1m 25s\n",
      "235:\tlearn: 0.8894325\ttotal: 1m 16s\tremaining: 1m 25s\n",
      "236:\tlearn: 0.8896503\ttotal: 1m 16s\tremaining: 1m 24s\n",
      "237:\tlearn: 0.8896503\ttotal: 1m 16s\tremaining: 1m 24s\n",
      "238:\tlearn: 0.8903506\ttotal: 1m 17s\tremaining: 1m 24s\n",
      "239:\tlearn: 0.8905375\ttotal: 1m 17s\tremaining: 1m 23s\n",
      "240:\tlearn: 0.8905375\ttotal: 1m 17s\tremaining: 1m 23s\n",
      "241:\tlearn: 0.8906622\ttotal: 1m 17s\tremaining: 1m 23s\n",
      "242:\tlearn: 0.8907716\ttotal: 1m 18s\tremaining: 1m 22s\n",
      "243:\tlearn: 0.8910212\ttotal: 1m 18s\tremaining: 1m 22s\n",
      "244:\tlearn: 0.8912556\ttotal: 1m 18s\tremaining: 1m 21s\n",
      "245:\tlearn: 0.8911155\ttotal: 1m 18s\tremaining: 1m 21s\n",
      "246:\tlearn: 0.8913181\ttotal: 1m 19s\tremaining: 1m 21s\n",
      "247:\tlearn: 0.8915680\ttotal: 1m 19s\tremaining: 1m 20s\n",
      "248:\tlearn: 0.8917233\ttotal: 1m 19s\tremaining: 1m 20s\n",
      "249:\tlearn: 0.8918483\ttotal: 1m 20s\tremaining: 1m 20s\n",
      "250:\tlearn: 0.8920984\ttotal: 1m 20s\tremaining: 1m 19s\n",
      "251:\tlearn: 0.8922538\ttotal: 1m 20s\tremaining: 1m 19s\n",
      "252:\tlearn: 0.8925666\ttotal: 1m 20s\tremaining: 1m 18s\n",
      "253:\tlearn: 0.8928171\ttotal: 1m 21s\tremaining: 1m 18s\n",
      "254:\tlearn: 0.8930050\ttotal: 1m 21s\tremaining: 1m 18s\n",
      "255:\tlearn: 0.8934438\ttotal: 1m 21s\tremaining: 1m 17s\n",
      "256:\tlearn: 0.8934438\ttotal: 1m 21s\tremaining: 1m 17s\n",
      "257:\tlearn: 0.8935692\ttotal: 1m 22s\tremaining: 1m 17s\n",
      "258:\tlearn: 0.8935692\ttotal: 1m 22s\tremaining: 1m 16s\n",
      "259:\tlearn: 0.8936170\ttotal: 1m 22s\tremaining: 1m 16s\n",
      "260:\tlearn: 0.8934138\ttotal: 1m 23s\tremaining: 1m 16s\n",
      "261:\tlearn: 0.8937276\ttotal: 1m 23s\tremaining: 1m 16s\n",
      "262:\tlearn: 0.8937904\ttotal: 1m 24s\tremaining: 1m 15s\n",
      "263:\tlearn: 0.8940895\ttotal: 1m 24s\tremaining: 1m 15s\n",
      "264:\tlearn: 0.8942929\ttotal: 1m 24s\tremaining: 1m 15s\n",
      "265:\tlearn: 0.8944815\ttotal: 1m 25s\tremaining: 1m 14s\n",
      "266:\tlearn: 0.8945925\ttotal: 1m 25s\tremaining: 1m 14s\n",
      "267:\tlearn: 0.8946887\ttotal: 1m 25s\tremaining: 1m 14s\n",
      "268:\tlearn: 0.8950183\ttotal: 1m 26s\tremaining: 1m 13s\n",
      "269:\tlearn: 0.8950813\ttotal: 1m 26s\tremaining: 1m 13s\n",
      "270:\tlearn: 0.8951925\ttotal: 1m 26s\tremaining: 1m 13s\n",
      "271:\tlearn: 0.8953963\ttotal: 1m 27s\tremaining: 1m 13s\n",
      "272:\tlearn: 0.8954741\ttotal: 1m 27s\tremaining: 1m 13s\n",
      "273:\tlearn: 0.8959155\ttotal: 1m 28s\tremaining: 1m 12s\n",
      "274:\tlearn: 0.8961487\ttotal: 1m 28s\tremaining: 1m 12s\n",
      "275:\tlearn: 0.8962118\ttotal: 1m 28s\tremaining: 1m 12s\n",
      "276:\tlearn: 0.8963526\ttotal: 1m 29s\tremaining: 1m 11s\n",
      "277:\tlearn: 0.8966829\ttotal: 1m 29s\tremaining: 1m 11s\n",
      "278:\tlearn: 0.8967606\ttotal: 1m 29s\tremaining: 1m 11s\n",
      "279:\tlearn: 0.8969987\ttotal: 1m 30s\tremaining: 1m 10s\n",
      "280:\tlearn: 0.8971884\ttotal: 1m 30s\tremaining: 1m 10s\n",
      "281:\tlearn: 0.8973781\ttotal: 1m 30s\tremaining: 1m 10s\n",
      "282:\tlearn: 0.8975190\ttotal: 1m 30s\tremaining: 1m 9s\n",
      "283:\tlearn: 0.8977088\ttotal: 1m 31s\tremaining: 1m 9s\n",
      "284:\tlearn: 0.8975679\ttotal: 1m 31s\tremaining: 1m 9s\n",
      "285:\tlearn: 0.8976023\ttotal: 1m 31s\tremaining: 1m 8s\n",
      "286:\tlearn: 0.8976656\ttotal: 1m 32s\tremaining: 1m 8s\n",
      "287:\tlearn: 0.8973491\ttotal: 1m 32s\tremaining: 1m 7s\n",
      "288:\tlearn: 0.8973491\ttotal: 1m 32s\tremaining: 1m 7s\n",
      "289:\tlearn: 0.8974124\ttotal: 1m 32s\tremaining: 1m 7s\n",
      "290:\tlearn: 0.8975390\ttotal: 1m 33s\tremaining: 1m 6s\n",
      "291:\tlearn: 0.8974757\ttotal: 1m 33s\tremaining: 1m 6s\n",
      "292:\tlearn: 0.8976023\ttotal: 1m 33s\tremaining: 1m 6s\n",
      "293:\tlearn: 0.8976800\ttotal: 1m 34s\tremaining: 1m 5s\n",
      "294:\tlearn: 0.8979189\ttotal: 1m 34s\tremaining: 1m 5s\n",
      "295:\tlearn: 0.8979822\ttotal: 1m 34s\tremaining: 1m 5s\n",
      "296:\tlearn: 0.8981723\ttotal: 1m 34s\tremaining: 1m 4s\n",
      "297:\tlearn: 0.8981089\ttotal: 1m 35s\tremaining: 1m 4s\n",
      "298:\tlearn: 0.8983135\ttotal: 1m 35s\tremaining: 1m 4s\n",
      "299:\tlearn: 0.8982501\ttotal: 1m 35s\tremaining: 1m 3s\n",
      "300:\tlearn: 0.8984403\ttotal: 1m 36s\tremaining: 1m 3s\n",
      "301:\tlearn: 0.8986305\ttotal: 1m 36s\tremaining: 1m 3s\n",
      "302:\tlearn: 0.8986940\ttotal: 1m 36s\tremaining: 1m 2s\n",
      "303:\tlearn: 0.8986940\ttotal: 1m 36s\tremaining: 1m 2s\n",
      "304:\tlearn: 0.8988209\ttotal: 1m 37s\tremaining: 1m 2s\n",
      "305:\tlearn: 0.8988843\ttotal: 1m 37s\tremaining: 1m 1s\n",
      "306:\tlearn: 0.8990256\ttotal: 1m 37s\tremaining: 1m 1s\n",
      "307:\tlearn: 0.8990113\ttotal: 1m 37s\tremaining: 1m 1s\n",
      "308:\tlearn: 0.8991383\ttotal: 1m 38s\tremaining: 1m\n",
      "309:\tlearn: 0.8993924\ttotal: 1m 38s\tremaining: 1m\n",
      "310:\tlearn: 0.8994559\ttotal: 1m 38s\tremaining: 1m\n",
      "311:\tlearn: 0.8996608\ttotal: 1m 39s\tremaining: 59.7s\n",
      "312:\tlearn: 0.8996608\ttotal: 1m 39s\tremaining: 59.4s\n",
      "313:\tlearn: 0.9000637\ttotal: 1m 39s\tremaining: 59.1s\n",
      "314:\tlearn: 0.9003325\ttotal: 1m 40s\tremaining: 58.8s\n",
      "315:\tlearn: 0.9003325\ttotal: 1m 40s\tremaining: 58.5s\n",
      "316:\tlearn: 0.9005236\ttotal: 1m 40s\tremaining: 58.2s\n",
      "317:\tlearn: 0.9008422\ttotal: 1m 41s\tremaining: 57.9s\n",
      "318:\tlearn: 0.9009060\ttotal: 1m 41s\tremaining: 57.6s\n",
      "319:\tlearn: 0.9012389\ttotal: 1m 41s\tremaining: 57.3s\n",
      "320:\tlearn: 0.9012389\ttotal: 1m 42s\tremaining: 57s\n",
      "321:\tlearn: 0.9011891\ttotal: 1m 42s\tremaining: 56.7s\n",
      "322:\tlearn: 0.9014723\ttotal: 1m 42s\tremaining: 56.3s\n",
      "323:\tlearn: 0.9019608\ttotal: 1m 43s\tremaining: 56s\n",
      "324:\tlearn: 0.9023302\ttotal: 1m 43s\tremaining: 55.7s\n",
      "325:\tlearn: 0.9028418\ttotal: 1m 43s\tremaining: 55.3s\n",
      "326:\tlearn: 0.9028418\ttotal: 1m 44s\tremaining: 55s\n",
      "327:\tlearn: 0.9025583\ttotal: 1m 44s\tremaining: 54.7s\n",
      "328:\tlearn: 0.9029560\ttotal: 1m 44s\tremaining: 54.4s\n",
      "329:\tlearn: 0.9030840\ttotal: 1m 44s\tremaining: 54s\n",
      "330:\tlearn: 0.9031480\ttotal: 1m 45s\tremaining: 53.7s\n",
      "331:\tlearn: 0.9031480\ttotal: 1m 45s\tremaining: 53.3s\n",
      "332:\tlearn: 0.9033402\ttotal: 1m 45s\tremaining: 53s\n",
      "333:\tlearn: 0.9034546\ttotal: 1m 45s\tremaining: 52.6s\n",
      "334:\tlearn: 0.9037752\ttotal: 1m 46s\tremaining: 52.3s\n",
      "335:\tlearn: 0.9041738\ttotal: 1m 46s\tremaining: 52s\n",
      "336:\tlearn: 0.9042108\ttotal: 1m 46s\tremaining: 51.6s\n",
      "337:\tlearn: 0.9041465\ttotal: 1m 47s\tremaining: 51.3s\n",
      "338:\tlearn: 0.9042750\ttotal: 1m 47s\tremaining: 50.9s\n",
      "339:\tlearn: 0.9042750\ttotal: 1m 47s\tremaining: 50.6s\n",
      "340:\tlearn: 0.9042750\ttotal: 1m 47s\tremaining: 50.3s\n",
      "341:\tlearn: 0.9042750\ttotal: 1m 48s\tremaining: 50s\n",
      "342:\tlearn: 0.9044034\ttotal: 1m 48s\tremaining: 49.6s\n",
      "343:\tlearn: 0.9049446\ttotal: 1m 48s\tremaining: 49.3s\n",
      "344:\tlearn: 0.9047890\ttotal: 1m 48s\tremaining: 49s\n",
      "345:\tlearn: 0.9047754\ttotal: 1m 49s\tremaining: 48.7s\n",
      "346:\tlearn: 0.9049176\ttotal: 1m 49s\tremaining: 48.3s\n",
      "347:\tlearn: 0.9049954\ttotal: 1m 49s\tremaining: 48s\n",
      "348:\tlearn: 0.9049954\ttotal: 1m 50s\tremaining: 47.8s\n",
      "349:\tlearn: 0.9050597\ttotal: 1m 50s\tremaining: 47.5s\n",
      "350:\tlearn: 0.9050597\ttotal: 1m 51s\tremaining: 47.1s\n",
      "351:\tlearn: 0.9050597\ttotal: 1m 51s\tremaining: 46.8s\n",
      "352:\tlearn: 0.9051883\ttotal: 1m 51s\tremaining: 46.5s\n",
      "353:\tlearn: 0.9055236\ttotal: 1m 51s\tremaining: 46.1s\n",
      "354:\tlearn: 0.9056523\ttotal: 1m 52s\tremaining: 45.8s\n",
      "355:\tlearn: 0.9057167\ttotal: 1m 52s\tremaining: 45.5s\n",
      "356:\tlearn: 0.9057301\ttotal: 1m 52s\tremaining: 45.1s\n",
      "357:\tlearn: 0.9057301\ttotal: 1m 53s\tremaining: 44.8s\n",
      "358:\tlearn: 0.9061166\ttotal: 1m 53s\tremaining: 44.5s\n",
      "359:\tlearn: 0.9061166\ttotal: 1m 53s\tremaining: 44.2s\n",
      "360:\tlearn: 0.9062456\ttotal: 1m 54s\tremaining: 43.9s\n",
      "361:\tlearn: 0.9063100\ttotal: 1m 54s\tremaining: 43.6s\n",
      "362:\tlearn: 0.9063100\ttotal: 1m 54s\tremaining: 43.3s\n",
      "363:\tlearn: 0.9066325\ttotal: 1m 55s\tremaining: 43s\n",
      "364:\tlearn: 0.9066325\ttotal: 1m 55s\tremaining: 42.7s\n",
      "365:\tlearn: 0.9066970\ttotal: 1m 55s\tremaining: 42.4s\n",
      "366:\tlearn: 0.9071108\ttotal: 1m 56s\tremaining: 42.1s\n",
      "367:\tlearn: 0.9073178\ttotal: 1m 56s\tremaining: 41.8s\n",
      "368:\tlearn: 0.9074470\ttotal: 1m 56s\tremaining: 41.5s\n",
      "369:\tlearn: 0.9077832\ttotal: 1m 57s\tremaining: 41.1s\n",
      "370:\tlearn: 0.9076408\ttotal: 1m 57s\tremaining: 40.8s\n",
      "371:\tlearn: 0.9075762\ttotal: 1m 57s\tremaining: 40.5s\n",
      "372:\tlearn: 0.9074984\ttotal: 1m 58s\tremaining: 40.2s\n",
      "373:\tlearn: 0.9079641\ttotal: 1m 58s\tremaining: 39.9s\n",
      "374:\tlearn: 0.9080419\ttotal: 1m 58s\tremaining: 39.6s\n",
      "375:\tlearn: 0.9082360\ttotal: 1m 59s\tremaining: 39.3s\n",
      "376:\tlearn: 0.9083654\ttotal: 1m 59s\tremaining: 38.9s\n",
      "377:\tlearn: 0.9085596\ttotal: 1m 59s\tremaining: 38.6s\n",
      "378:\tlearn: 0.9089483\ttotal: 2m\tremaining: 38.3s\n",
      "379:\tlearn: 0.9091428\ttotal: 2m\tremaining: 38.1s\n",
      "380:\tlearn: 0.9090001\ttotal: 2m\tremaining: 37.8s\n",
      "381:\tlearn: 0.9094022\ttotal: 2m 1s\tremaining: 37.5s\n",
      "382:\tlearn: 0.9095969\ttotal: 2m 1s\tremaining: 37.1s\n",
      "383:\tlearn: 0.9100771\ttotal: 2m 1s\tremaining: 36.8s\n",
      "384:\tlearn: 0.9103370\ttotal: 2m 2s\tremaining: 36.5s\n",
      "385:\tlearn: 0.9104669\ttotal: 2m 2s\tremaining: 36.2s\n",
      "386:\tlearn: 0.9105320\ttotal: 2m 2s\tremaining: 35.9s\n",
      "387:\tlearn: 0.9105970\ttotal: 2m 3s\tremaining: 35.5s\n",
      "388:\tlearn: 0.9107921\ttotal: 2m 3s\tremaining: 35.2s\n",
      "389:\tlearn: 0.9109477\ttotal: 2m 3s\tremaining: 34.9s\n",
      "390:\tlearn: 0.9110905\ttotal: 2m 3s\tremaining: 34.5s\n",
      "391:\tlearn: 0.9113635\ttotal: 2m 4s\tremaining: 34.2s\n",
      "392:\tlearn: 0.9114159\ttotal: 2m 4s\tremaining: 33.9s\n",
      "393:\tlearn: 0.9116113\ttotal: 2m 4s\tremaining: 33.6s\n",
      "394:\tlearn: 0.9117416\ttotal: 2m 4s\tremaining: 33.2s\n",
      "395:\tlearn: 0.9118067\ttotal: 2m 5s\tremaining: 32.9s\n",
      "396:\tlearn: 0.9118067\ttotal: 2m 5s\tremaining: 32.6s\n",
      "397:\tlearn: 0.9118719\ttotal: 2m 5s\tremaining: 32.2s\n",
      "398:\tlearn: 0.9121201\ttotal: 2m 6s\tremaining: 31.9s\n",
      "399:\tlearn: 0.9120549\ttotal: 2m 6s\tremaining: 31.7s\n",
      "400:\tlearn: 0.9122506\ttotal: 2m 6s\tremaining: 31.3s\n",
      "401:\tlearn: 0.9124464\ttotal: 2m 7s\tremaining: 31s\n",
      "402:\tlearn: 0.9123158\ttotal: 2m 7s\tremaining: 30.7s\n",
      "403:\tlearn: 0.9125769\ttotal: 2m 7s\tremaining: 30.4s\n",
      "404:\tlearn: 0.9123686\ttotal: 2m 8s\tremaining: 30s\n",
      "405:\tlearn: 0.9125116\ttotal: 2m 8s\tremaining: 29.7s\n",
      "406:\tlearn: 0.9126950\ttotal: 2m 8s\tremaining: 29.4s\n",
      "407:\tlearn: 0.9130341\ttotal: 2m 8s\tremaining: 29.1s\n",
      "408:\tlearn: 0.9133080\ttotal: 2m 9s\tremaining: 28.7s\n",
      "409:\tlearn: 0.9134388\ttotal: 2m 9s\tremaining: 28.4s\n",
      "410:\tlearn: 0.9135696\ttotal: 2m 9s\tremaining: 28.1s\n",
      "411:\tlearn: 0.9135696\ttotal: 2m 9s\tremaining: 27.8s\n",
      "412:\tlearn: 0.9138968\ttotal: 2m 10s\tremaining: 27.4s\n",
      "413:\tlearn: 0.9141588\ttotal: 2m 10s\tremaining: 27.1s\n",
      "414:\tlearn: 0.9140933\ttotal: 2m 10s\tremaining: 26.8s\n",
      "415:\tlearn: 0.9143676\ttotal: 2m 11s\tremaining: 26.5s\n",
      "416:\tlearn: 0.9144331\ttotal: 2m 11s\tremaining: 26.2s\n",
      "417:\tlearn: 0.9144331\ttotal: 2m 11s\tremaining: 25.9s\n",
      "418:\tlearn: 0.9144331\ttotal: 2m 12s\tremaining: 25.6s\n",
      "419:\tlearn: 0.9144331\ttotal: 2m 12s\tremaining: 25.3s\n",
      "420:\tlearn: 0.9144331\ttotal: 2m 12s\tremaining: 25s\n",
      "421:\tlearn: 0.9144331\ttotal: 2m 13s\tremaining: 24.6s\n",
      "422:\tlearn: 0.9143553\ttotal: 2m 13s\tremaining: 24.3s\n",
      "423:\tlearn: 0.9146831\ttotal: 2m 14s\tremaining: 24s\n",
      "424:\tlearn: 0.9146831\ttotal: 2m 14s\tremaining: 23.7s\n",
      "425:\tlearn: 0.9146831\ttotal: 2m 14s\tremaining: 23.4s\n",
      "426:\tlearn: 0.9148799\ttotal: 2m 15s\tremaining: 23.1s\n",
      "427:\tlearn: 0.9149333\ttotal: 2m 15s\tremaining: 22.8s\n",
      "428:\tlearn: 0.9149989\ttotal: 2m 15s\tremaining: 22.5s\n",
      "429:\tlearn: 0.9150767\ttotal: 2m 16s\tremaining: 22.1s\n",
      "430:\tlearn: 0.9153515\ttotal: 2m 16s\tremaining: 21.8s\n",
      "431:\tlearn: 0.9154172\ttotal: 2m 16s\tremaining: 21.5s\n",
      "432:\tlearn: 0.9152858\ttotal: 2m 16s\tremaining: 21.2s\n",
      "433:\tlearn: 0.9155607\ttotal: 2m 17s\tremaining: 20.9s\n",
      "434:\tlearn: 0.9155607\ttotal: 2m 17s\tremaining: 20.5s\n",
      "435:\tlearn: 0.9157041\ttotal: 2m 17s\tremaining: 20.2s\n",
      "436:\tlearn: 0.9160327\ttotal: 2m 18s\tremaining: 19.9s\n",
      "437:\tlearn: 0.9160985\ttotal: 2m 18s\tremaining: 19.6s\n",
      "438:\tlearn: 0.9162958\ttotal: 2m 18s\tremaining: 19.3s\n",
      "439:\tlearn: 0.9163615\ttotal: 2m 18s\tremaining: 18.9s\n",
      "440:\tlearn: 0.9163615\ttotal: 2m 19s\tremaining: 18.6s\n",
      "441:\tlearn: 0.9164931\ttotal: 2m 19s\tremaining: 18.3s\n",
      "442:\tlearn: 0.9165590\ttotal: 2m 19s\tremaining: 18s\n",
      "443:\tlearn: 0.9165590\ttotal: 2m 19s\tremaining: 17.6s\n",
      "444:\tlearn: 0.9166248\ttotal: 2m 20s\tremaining: 17.3s\n",
      "445:\tlearn: 0.9167564\ttotal: 2m 20s\tremaining: 17s\n",
      "446:\tlearn: 0.9168882\ttotal: 2m 20s\tremaining: 16.7s\n",
      "447:\tlearn: 0.9170739\ttotal: 2m 21s\tremaining: 16.4s\n",
      "448:\tlearn: 0.9171398\ttotal: 2m 21s\tremaining: 16.1s\n",
      "449:\tlearn: 0.9171398\ttotal: 2m 21s\tremaining: 15.8s\n",
      "450:\tlearn: 0.9174035\ttotal: 2m 22s\tremaining: 15.4s\n",
      "451:\tlearn: 0.9176014\ttotal: 2m 22s\tremaining: 15.1s\n",
      "452:\tlearn: 0.9176674\ttotal: 2m 22s\tremaining: 14.8s\n",
      "453:\tlearn: 0.9176674\ttotal: 2m 22s\tremaining: 14.5s\n",
      "454:\tlearn: 0.9177334\ttotal: 2m 23s\tremaining: 14.2s\n",
      "455:\tlearn: 0.9180092\ttotal: 2m 23s\tremaining: 13.8s\n",
      "456:\tlearn: 0.9180092\ttotal: 2m 23s\tremaining: 13.5s\n",
      "457:\tlearn: 0.9180752\ttotal: 2m 24s\tremaining: 13.2s\n",
      "458:\tlearn: 0.9180752\ttotal: 2m 24s\tremaining: 12.9s\n",
      "459:\tlearn: 0.9182191\ttotal: 2m 24s\tremaining: 12.6s\n",
      "460:\tlearn: 0.9180870\ttotal: 2m 24s\tremaining: 12.3s\n",
      "461:\tlearn: 0.9180210\ttotal: 2m 25s\tremaining: 11.9s\n",
      "462:\tlearn: 0.9179550\ttotal: 2m 25s\tremaining: 11.6s\n",
      "463:\tlearn: 0.9180210\ttotal: 2m 25s\tremaining: 11.3s\n",
      "464:\tlearn: 0.9179432\ttotal: 2m 25s\tremaining: 11s\n",
      "465:\tlearn: 0.9179432\ttotal: 2m 26s\tremaining: 10.7s\n",
      "466:\tlearn: 0.9178112\ttotal: 2m 26s\tremaining: 10.3s\n",
      "467:\tlearn: 0.9181413\ttotal: 2m 26s\tremaining: 10s\n",
      "468:\tlearn: 0.9182073\ttotal: 2m 27s\tremaining: 9.72s\n",
      "469:\tlearn: 0.9182734\ttotal: 2m 27s\tremaining: 9.41s\n",
      "470:\tlearn: 0.9182734\ttotal: 2m 27s\tremaining: 9.1s\n",
      "471:\tlearn: 0.9183394\ttotal: 2m 28s\tremaining: 8.79s\n",
      "472:\tlearn: 0.9186038\ttotal: 2m 28s\tremaining: 8.48s\n",
      "473:\tlearn: 0.9187361\ttotal: 2m 28s\tremaining: 8.16s\n",
      "474:\tlearn: 0.9188022\ttotal: 2m 29s\tremaining: 7.85s\n",
      "475:\tlearn: 0.9190668\ttotal: 2m 29s\tremaining: 7.54s\n",
      "476:\tlearn: 0.9190006\ttotal: 2m 29s\tremaining: 7.22s\n",
      "477:\tlearn: 0.9189345\ttotal: 2m 30s\tremaining: 6.91s\n",
      "478:\tlearn: 0.9190006\ttotal: 2m 30s\tremaining: 6.6s\n",
      "479:\tlearn: 0.9190668\ttotal: 2m 30s\tremaining: 6.28s\n",
      "480:\tlearn: 0.9190668\ttotal: 2m 31s\tremaining: 5.97s\n",
      "481:\tlearn: 0.9190006\ttotal: 2m 31s\tremaining: 5.66s\n",
      "482:\tlearn: 0.9192654\ttotal: 2m 31s\tremaining: 5.34s\n",
      "483:\tlearn: 0.9195303\ttotal: 2m 32s\tremaining: 5.03s\n",
      "484:\tlearn: 0.9196628\ttotal: 2m 32s\tremaining: 4.71s\n",
      "485:\tlearn: 0.9195965\ttotal: 2m 32s\tremaining: 4.4s\n",
      "486:\tlearn: 0.9196744\ttotal: 2m 32s\tremaining: 4.08s\n",
      "487:\tlearn: 0.9199395\ttotal: 2m 33s\tremaining: 3.77s\n",
      "488:\tlearn: 0.9199395\ttotal: 2m 33s\tremaining: 3.46s\n",
      "489:\tlearn: 0.9200721\ttotal: 2m 33s\tremaining: 3.14s\n",
      "490:\tlearn: 0.9201384\ttotal: 2m 34s\tremaining: 2.83s\n",
      "491:\tlearn: 0.9204037\ttotal: 2m 34s\tremaining: 2.52s\n",
      "492:\tlearn: 0.9206921\ttotal: 2m 35s\tremaining: 2.2s\n",
      "493:\tlearn: 0.9208913\ttotal: 2m 35s\tremaining: 1.89s\n",
      "494:\tlearn: 0.9208913\ttotal: 2m 35s\tremaining: 1.57s\n",
      "495:\tlearn: 0.9211020\ttotal: 2m 35s\tremaining: 1.26s\n",
      "496:\tlearn: 0.9211684\ttotal: 2m 36s\tremaining: 943ms\n",
      "497:\tlearn: 0.9210906\ttotal: 2m 36s\tremaining: 629ms\n",
      "498:\tlearn: 0.9210792\ttotal: 2m 36s\tremaining: 315ms\n",
      "499:\tlearn: 0.9210792\ttotal: 2m 37s\tremaining: 0us\n"
     ]
    },
    {
     "data": {
      "text/plain": [
       "<catboost.core.CatBoostClassifier at 0x22e3488eee0>"
      ]
     },
     "execution_count": 49,
     "metadata": {},
     "output_type": "execute_result"
    }
   ],
   "source": [
    "cb.fit(X_train, y_train)\n"
   ]
  },
  {
   "cell_type": "code",
   "execution_count": 50,
   "id": "efde404b-2546-4986-8f98-de38188ca65e",
   "metadata": {},
   "outputs": [
    {
     "name": "stdout",
     "output_type": "stream",
     "text": [
      "F1-мера CatBoostClassifier :0.8743589743589744\n"
     ]
    }
   ],
   "source": [
    "predictions = cb.predict(X_test)\n",
    "print(f'F1-мера CatBoostClassifier :{f1_score(y_test, predictions)}')\n"
   ]
  },
  {
   "cell_type": "markdown",
   "id": "a9cba98e-fb95-4540-9d16-af16285226b1",
   "metadata": {},
   "source": [
    "**Полученные предсказания отдать как фичу в мету?**"
   ]
  },
  {
   "cell_type": "code",
   "execution_count": null,
   "id": "6da2d8e5-c811-4c15-b8f1-2232569ae805",
   "metadata": {},
   "outputs": [],
   "source": [
    "#cb.predict(X_train)"
   ]
  },
  {
   "cell_type": "code",
   "execution_count": 51,
   "id": "32de4b58-7eed-4d46-b2ac-22d820bfb3ce",
   "metadata": {},
   "outputs": [],
   "source": [
    "predict_test = cb.predict(X_test)"
   ]
  },
  {
   "cell_type": "code",
   "execution_count": 52,
   "id": "f219b79c-1a84-48cc-840c-97c1f22671e2",
   "metadata": {},
   "outputs": [
    {
     "data": {
      "image/png": "[encoded data removed]",
      "text/plain": [
       "<Figure size 640x480 with 1 Axes>"
      ]
     },
     "metadata": {},
     "output_type": "display_data"
    }
   ],
   "source": [
    "probabilities_test = cb.predict_proba(X_test)\n",
    "probabilities_one_test = probabilities_test[:, 1]\n",
    "\n",
    "fpr, tpr, thresholds = roc_curve(y_test, probabilities_one_test)\n",
    "plt.figure()\n",
    "plt.plot(fpr, tpr)\n",
    "plt.xlim([0.0, 1.0])\n",
    "plt.ylim([0.0, 1.0])\n",
    "plt.xlabel('False Positive Rate')\n",
    "plt.ylabel('True Positive Rate')\n",
    "plt.title('ROC-кривая')\n",
    "plt.show() "
   ]
  },
  {
   "cell_type": "code",
   "execution_count": 53,
   "id": "9852dc06-9070-46ff-9c51-8939931d17d1",
   "metadata": {},
   "outputs": [
    {
     "name": "stdout",
     "output_type": "stream",
     "text": [
      "Accuracy: 0.8084066471163245\n",
      "Полнота: 0.9511854951185496\n",
      "Точность: 0.8090154211150652\n",
      "F1-мера: 0.8743589743589744\n",
      "AUC-ROC:0.848971294701051\n"
     ]
    }
   ],
   "source": [
    "# рассчитаем дополнительные метрики\n",
    "print(f'Accuracy: {accuracy_score(y_test, predict_test)}')    \n",
    "print(f'Полнота: {recall_score(y_test, predict_test)}')     \n",
    "print(f'Точность: {precision_score(y_test, predict_test)}')  \n",
    "print(f'F1-мера: {f1_score(y_test,predict_test)}')          \n",
    "print(f'AUC-ROC:{roc_auc_score(y_test,probabilities_one_test)}')"
   ]
  },
  {
   "cell_type": "markdown",
   "id": "d7a8a253-8bd2-42f7-a2ed-060d0fd0abee",
   "metadata": {},
   "source": [
    "**Коды для тренировки, не смотреть**"
   ]
  },
  {
   "cell_type": "code",
   "execution_count": null,
   "id": "dbe53929-ceec-4b07-a681-adea50839835",
   "metadata": {},
   "outputs": [],
   "source": [
    "\n",
    "# Объединение числовых векторов с остальными признаками\n",
    "text_features = ['title']\n",
    "numerical_features = X_train.drop('lemm_text', axis=1).values\n"
   ]
  },
  {
   "cell_type": "code",
   "execution_count": null,
   "id": "6ee366ef-58b4-4c18-b944-5d2ee66e992a",
   "metadata": {},
   "outputs": [],
   "source": [
    "feature_names = np.concatenate((X_train.drop('lemm_text', axis=1).columns)\n",
    "\n",
    "X_train_transformed = np.concatenate((numerical_features,text,text_features), axis=1))"
   ]
  },
  {
   "cell_type": "code",
   "execution_count": null,
   "id": "40e43dad-5081-46f9-9980-b108f34b6a37",
   "metadata": {},
   "outputs": [],
   "source": [
    "# Объединение числовых и текстовых признаков\n",
    "text_features = X_train['title']\n",
    "numerical_features = X_train.drop(['lemm_text','title'], axis=1).values\n",
    "\n",
    "# Получение имен признаков после объединения\n",
    "feature_names = np.concatenate((X_train.drop('lemm_text', axis=1).columns, text_features))\n",
    "\n",
    "X_train_transformed = np.concatenate((numerical_features, text), axis=1)"
   ]
  },
  {
   "cell_type": "code",
   "execution_count": null,
   "id": "f0b451f5-d781-49ae-8d44-a257c2448751",
   "metadata": {},
   "outputs": [],
   "source": [
    "X_train_transformed"
   ]
  },
  {
   "cell_type": "code",
   "execution_count": null,
   "id": "59ec652c-6225-4c64-80f9-2833207491a1",
   "metadata": {},
   "outputs": [],
   "source": [
    "# Создание Pool с числовыми и текстовыми признаками\n",
    "#cat_features = ['genres','language_y', 'year_of_track', 'country_of_track', 'reg_code']\n",
    "train_pool = Pool(data=X_train_transformed, label=y_train)"
   ]
  },
  {
   "cell_type": "code",
   "execution_count": null,
   "id": "86b0c1ad-70e5-4d64-b667-43d55097ea3c",
   "metadata": {},
   "outputs": [],
   "source": [
    "# численные признаки\n",
    "#num_cols = X_train.select_dtypes(exclude='object').columns.to_list()\n",
    "#num_cols"
   ]
  },
  {
   "cell_type": "code",
   "execution_count": null,
   "id": "353eff6e-4aab-462c-8f5a-e744fb1144cf",
   "metadata": {
    "scrolled": true
   },
   "outputs": [],
   "source": [
    "# создадим переменную с категориальными признаками для передачи в модель\n",
    "cat_features = X_train[['title','genres',\n",
    " 'language_y',\n",
    " 'year_of_track',\n",
    " 'country_of_track',\n",
    " 'reg_code']]\n",
    "cat_features"
   ]
  },
  {
   "cell_type": "code",
   "execution_count": null,
   "id": "e9b9a69b-2d5f-4415-b28a-5ca38edb8606",
   "metadata": {},
   "outputs": [],
   "source": [
    "train_pool = Pool(data=X_train, label=y_train, text_features=text_features, cat_features=cat_features)\n"
   ]
  },
  {
   "cell_type": "code",
   "execution_count": null,
   "id": "2f5e3cd8-0645-4abb-a3bf-320c7818a8b6",
   "metadata": {},
   "outputs": [],
   "source": []
  },
  {
   "cell_type": "code",
   "execution_count": null,
   "id": "7863b0ce",
   "metadata": {},
   "outputs": [],
   "source": [
    "# попробовать это\n",
    "import numpy as np\n",
    "from gensim.models import FastText\n",
    "from catboost import CatBoostClassifier\n",
    "\n",
    "# Загрузка предобученной модели FastText\n",
    "fasttext_model = FastText.load('path/to/fasttext/model')\n",
    "\n",
    "# Преобразование токенов в эмбеддинги с помощью модели FastText\n",
    "X_text_embeddings = []\n",
    "for text_tokens in X_text:\n",
    "    text_embedding = np.mean([fasttext_model[token] for token in text_tokens], axis=0)\n",
    "    X_text_embeddings.append(text_embedding)\n",
    "\n",
    "# Преобразование эмбеддингов в формат, совместимый с CatBoost\n",
    "X_text_embeddings = np.array(X_text_embeddings)\n",
    "\n",
    "# Обучение модели CatBoostClassifier\n",
    "model = CatBoostClassifier()\n",
    "model.fit(X_text_embeddings, y_train)"
   ]
  },
  {
   "cell_type": "code",
   "execution_count": null,
   "id": "a30dc8e0",
   "metadata": {},
   "outputs": [],
   "source": []
  },
  {
   "cell_type": "markdown",
   "id": "d58dcc95",
   "metadata": {},
   "source": [
    "Сырые коды"
   ]
  },
  {
   "cell_type": "code",
   "execution_count": null,
   "id": "65b948e9",
   "metadata": {},
   "outputs": [],
   "source": [
    "# получаешь словарь номер столбца: название в словаре\n",
    "dict_for_columns = {i[1]:i[0] for i in count_tf_idf.vocabulary_.items()}\n",
    "new_df = pd.DataFrame.sparse.from_spmatrix(text).rename(columns=dict_for_columns)"
   ]
  },
  {
   "cell_type": "code",
   "execution_count": null,
   "id": "22082c12",
   "metadata": {},
   "outputs": [],
   "source": []
  },
  {
   "cell_type": "code",
   "execution_count": null,
   "id": "c681d3f7-c167-456e-b705-8eff5f30ab74",
   "metadata": {},
   "outputs": [],
   "source": [
    "from collections import Counter\n",
    "\n",
    "# Предположим, что у вас есть массив токенов\n",
    "tokens = X_train['lemm_text']\n",
    "\n",
    "# Выделение признаков с помощью метода TF-IDF\n",
    "vectorizer = TfidfVectorizer()\n",
    "X_tfidf = vectorizer.fit_transform(tokens).toarray()\n",
    "\n",
    "# Подсчет частоты встречаемости слов в токенах\n",
    "word_frequencies = Counter([word for token in tokens for word in token.split()])\n",
    "\n",
    "# Определение 100 самых популярных слов\n",
    "popular_words = [word for word, _ in word_frequencies.most_common(100)]\n",
    "\n",
    "# Создание признаков на основе самых популярных слов\n",
    "X_additional_features = []\n",
    "for token in tokens:\n",
    "    additional_features = [int(word in token.split()) for word in popular_words]\n",
    "    X_additional_features.append(additional_features)\n",
    "\n",
    "X_additional_features = np.array(X_additional_features)\n",
    "\n",
    "# Объединение основных и дополнительных признаков\n",
    "X_combined = np.concatenate((X_tfidf, X_additional_features), axis=1)"
   ]
  },
  {
   "cell_type": "code",
   "execution_count": null,
   "id": "bef2fa23",
   "metadata": {},
   "outputs": [],
   "source": []
  },
  {
   "cell_type": "code",
   "execution_count": null,
   "id": "e7049772-7eaa-4207-9f7a-4182bd3adabe",
   "metadata": {},
   "outputs": [],
   "source": [
    "# Оценка модели на тестовом наборе данных\n",
    "predictions = model.predict(X_test_combined)"
   ]
  },
  {
   "cell_type": "code",
   "execution_count": null,
   "id": "53ff98a8-1764-4a28-b619-3e24b7dcecfd",
   "metadata": {},
   "outputs": [],
   "source": []
  },
  {
   "cell_type": "code",
   "execution_count": null,
   "id": "084aead3",
   "metadata": {},
   "outputs": [],
   "source": []
  },
  {
   "cell_type": "markdown",
   "id": "d8725173",
   "metadata": {},
   "source": [
    "**Модель с остальными признаками и кроссвалидацией**"
   ]
  },
  {
   "cell_type": "code",
   "execution_count": 54,
   "id": "dfc5504a-f4a0-4a74-a2ef-f16d745080ac",
   "metadata": {
    "scrolled": true
   },
   "outputs": [
    {
     "name": "stdout",
     "output_type": "stream",
     "text": [
      "<class 'pandas.core.frame.DataFrame'>\n",
      "Int64Index: 10229 entries, 0 to 11096\n",
      "Data columns (total 17 columns):\n",
      " #   Column             Non-Null Count  Dtype         \n",
      "---  ------             --------------  -----         \n",
      " 0   original_track_id  10229 non-null  object        \n",
      " 1   track_id           10229 non-null  object        \n",
      " 2   track_remake_type  10229 non-null  object        \n",
      " 3   dttm               10229 non-null  datetime64[ns]\n",
      " 4   title              10229 non-null  object        \n",
      " 5   language_x         10229 non-null  object        \n",
      " 6   isrc               10229 non-null  object        \n",
      " 7   genres             10229 non-null  object        \n",
      " 8   duration           10229 non-null  float64       \n",
      " 9   language_y         10229 non-null  object        \n",
      " 10  lyricId            10229 non-null  object        \n",
      " 11  lemm_text          10229 non-null  object        \n",
      " 12  target             10229 non-null  int32         \n",
      " 13  year_of_track      10229 non-null  object        \n",
      " 14  country_of_track   10229 non-null  object        \n",
      " 15  reg_code           10229 non-null  object        \n",
      " 16  year_of_entry      10229 non-null  int64         \n",
      "dtypes: datetime64[ns](1), float64(1), int32(1), int64(1), object(13)\n",
      "memory usage: 1.4+ MB\n"
     ]
    }
   ],
   "source": [
    "df_union.info()"
   ]
  },
  {
   "cell_type": "markdown",
   "id": "1d29b6ec-6849-4212-898f-fe31aa3204ad",
   "metadata": {},
   "source": [
    "Подготовим признаки для обучения"
   ]
  },
  {
   "cell_type": "code",
   "execution_count": 55,
   "id": "b9329e65-8e33-4724-b683-882f4c352504",
   "metadata": {},
   "outputs": [],
   "source": [
    "df_union = df_union.drop(['original_track_id','track_id','dttm','lyricId','track_remake_type','isrc','language_x','lemm_text'], axis=1)"
   ]
  },
  {
   "cell_type": "code",
   "execution_count": 56,
   "id": "a12062d7-2b53-45f9-9d0d-8858f55c5885",
   "metadata": {},
   "outputs": [
    {
     "name": "stdout",
     "output_type": "stream",
     "text": [
      "<class 'pandas.core.frame.DataFrame'>\n",
      "Int64Index: 10229 entries, 0 to 11096\n",
      "Data columns (total 9 columns):\n",
      " #   Column            Non-Null Count  Dtype  \n",
      "---  ------            --------------  -----  \n",
      " 0   title             10229 non-null  object \n",
      " 1   genres            10229 non-null  object \n",
      " 2   duration          10229 non-null  float64\n",
      " 3   language_y        10229 non-null  object \n",
      " 4   target            10229 non-null  int32  \n",
      " 5   year_of_track     10229 non-null  object \n",
      " 6   country_of_track  10229 non-null  object \n",
      " 7   reg_code          10229 non-null  object \n",
      " 8   year_of_entry     10229 non-null  int64  \n",
      "dtypes: float64(1), int32(1), int64(1), object(6)\n",
      "memory usage: 759.2+ KB\n"
     ]
    }
   ],
   "source": [
    "df_union.info()"
   ]
  },
  {
   "cell_type": "code",
   "execution_count": 57,
   "id": "f759a955-dc48-4ba8-83cc-2ba0c6b1ae1d",
   "metadata": {},
   "outputs": [],
   "source": [
    "# cоздадим переменные для признаков и целевого признака\n",
    "X = df_union.drop('target', axis=1)\n",
    "y = df_union['target']"
   ]
  },
  {
   "cell_type": "code",
   "execution_count": 58,
   "id": "8ddb8d83-960e-41b2-a026-f626e3542f4b",
   "metadata": {},
   "outputs": [],
   "source": [
    "X_train, X_test, y_train, y_test = train_test_split(\n",
    "    X, y, test_size=0.1, random_state=RANDOM_STATE,stratify = y\n",
    ")"
   ]
  },
  {
   "cell_type": "markdown",
   "id": "96c82024-f3f6-4672-97a6-565ca07afd7f",
   "metadata": {},
   "source": [
    "**Построим Baseline модель для последующей проверки наших моделей на адекватность**"
   ]
  },
  {
   "cell_type": "code",
   "execution_count": 69,
   "id": "fa3e7db1-4aa6-4007-9b24-26bd4e8472fa",
   "metadata": {},
   "outputs": [
    {
     "name": "stdout",
     "output_type": "stream",
     "text": [
      "Dummy:0.701173147946991\n"
     ]
    }
   ],
   "source": [
    "dummy_model = DummyClassifier(strategy='constant', constant=1)\n",
    "dummy_model.fit(X_train,y_train)\n",
    "print(f'Dummy:{dummy_model.score(X_train,y_train)}')"
   ]
  },
  {
   "cell_type": "code",
   "execution_count": 59,
   "id": "8fedfca0-3f8d-4d29-aaf5-4d41ea8da255",
   "metadata": {},
   "outputs": [
    {
     "data": {
      "text/plain": [
       "['duration', 'year_of_entry']"
      ]
     },
     "execution_count": 59,
     "metadata": {},
     "output_type": "execute_result"
    }
   ],
   "source": [
    "#численные признаки\n",
    "num_cols = X_train.select_dtypes(exclude='object').columns.to_list()\n",
    "num_cols"
   ]
  },
  {
   "cell_type": "code",
   "execution_count": 60,
   "id": "6bfe3c1e-ad49-493b-82af-2e0caf453acc",
   "metadata": {},
   "outputs": [
    {
     "data": {
      "text/plain": [
       "['title',\n",
       " 'genres',\n",
       " 'language_y',\n",
       " 'year_of_track',\n",
       " 'country_of_track',\n",
       " 'reg_code']"
      ]
     },
     "execution_count": 60,
     "metadata": {},
     "output_type": "execute_result"
    }
   ],
   "source": [
    "# создадим переменную с категориальными признаками для передачи в модель\n",
    "cat_features = X_train.select_dtypes(include='object').columns.to_list()\n",
    "cat_features"
   ]
  },
  {
   "cell_type": "code",
   "execution_count": null,
   "id": "3135de69-6af4-476d-8e48-73ffdede39b3",
   "metadata": {},
   "outputs": [],
   "source": [
    "#text_features = X_train['title']"
   ]
  },
  {
   "cell_type": "code",
   "execution_count": 61,
   "id": "fb5cfacd-104e-44f3-b4ba-8f1fa174a178",
   "metadata": {},
   "outputs": [],
   "source": [
    "pipeline_catboost = Pipeline([\n",
    "    ('cb', CatBoostClassifier(cat_features=cat_features,random_state=RANDOM_STATE))\n",
    "])\n",
    "\n",
    "parameters_catboost = {\n",
    "    'cb__iterations': [100],\n",
    "    'cb__depth': [3,6,9],\n",
    "    'cb__learning_rate': [0.01, 0.15]\n",
    "}"
   ]
  },
  {
   "cell_type": "code",
   "execution_count": 62,
   "id": "2bf55ede-48fd-4d6f-a04b-fd1b29749970",
   "metadata": {},
   "outputs": [],
   "source": [
    "gs_model_cb = GridSearchCV(\n",
    "    estimator = pipeline_catboost,\n",
    "    param_grid=parameters_catboost, \n",
    "    scoring='roc_auc',\n",
    "    cv=KFold(n_splits=5, shuffle=True, random_state=RANDOM_STATE),\n",
    "    n_jobs=-1)"
   ]
  },
  {
   "cell_type": "code",
   "execution_count": 63,
   "id": "538d9fe8-dab9-4879-af86-bab4e27e7b57",
   "metadata": {},
   "outputs": [
    {
     "name": "stdout",
     "output_type": "stream",
     "text": [
      "0:\tlearn: 0.6151477\ttotal: 54.5ms\tremaining: 5.4s\n",
      "1:\tlearn: 0.5582497\ttotal: 94.6ms\tremaining: 4.63s\n",
      "2:\tlearn: 0.5143661\ttotal: 160ms\tremaining: 5.17s\n",
      "3:\tlearn: 0.4784847\ttotal: 242ms\tremaining: 5.8s\n",
      "4:\tlearn: 0.4441284\ttotal: 313ms\tremaining: 5.95s\n",
      "5:\tlearn: 0.4168444\ttotal: 378ms\tremaining: 5.92s\n",
      "6:\tlearn: 0.3932635\ttotal: 442ms\tremaining: 5.87s\n",
      "7:\tlearn: 0.3745947\ttotal: 521ms\tremaining: 5.99s\n",
      "8:\tlearn: 0.3589536\ttotal: 590ms\tremaining: 5.96s\n",
      "9:\tlearn: 0.3457455\ttotal: 636ms\tremaining: 5.73s\n",
      "10:\tlearn: 0.3340666\ttotal: 684ms\tremaining: 5.53s\n",
      "11:\tlearn: 0.3241927\ttotal: 732ms\tremaining: 5.36s\n",
      "12:\tlearn: 0.3157595\ttotal: 793ms\tremaining: 5.3s\n",
      "13:\tlearn: 0.3092586\ttotal: 901ms\tremaining: 5.54s\n",
      "14:\tlearn: 0.3022684\ttotal: 955ms\tremaining: 5.41s\n",
      "15:\tlearn: 0.2966726\ttotal: 1.01s\tremaining: 5.32s\n",
      "16:\tlearn: 0.2914190\ttotal: 1.06s\tremaining: 5.18s\n",
      "17:\tlearn: 0.2876053\ttotal: 1.11s\tremaining: 5.06s\n",
      "18:\tlearn: 0.2834697\ttotal: 1.17s\tremaining: 4.97s\n",
      "19:\tlearn: 0.2798726\ttotal: 1.22s\tremaining: 4.88s\n",
      "20:\tlearn: 0.2747826\ttotal: 1.26s\tremaining: 4.76s\n",
      "21:\tlearn: 0.2698943\ttotal: 1.32s\tremaining: 4.68s\n",
      "22:\tlearn: 0.2662426\ttotal: 1.38s\tremaining: 4.61s\n",
      "23:\tlearn: 0.2630013\ttotal: 1.44s\tremaining: 4.55s\n",
      "24:\tlearn: 0.2597499\ttotal: 1.49s\tremaining: 4.47s\n",
      "25:\tlearn: 0.2571944\ttotal: 1.55s\tremaining: 4.4s\n",
      "26:\tlearn: 0.2546569\ttotal: 1.61s\tremaining: 4.37s\n",
      "27:\tlearn: 0.2525572\ttotal: 1.67s\tremaining: 4.29s\n",
      "28:\tlearn: 0.2506669\ttotal: 1.71s\tremaining: 4.18s\n",
      "29:\tlearn: 0.2487739\ttotal: 1.75s\tremaining: 4.09s\n",
      "30:\tlearn: 0.2469577\ttotal: 1.8s\tremaining: 4s\n",
      "31:\tlearn: 0.2448032\ttotal: 1.85s\tremaining: 3.94s\n",
      "32:\tlearn: 0.2429244\ttotal: 1.9s\tremaining: 3.86s\n",
      "33:\tlearn: 0.2417792\ttotal: 1.95s\tremaining: 3.78s\n",
      "34:\tlearn: 0.2400168\ttotal: 2s\tremaining: 3.72s\n",
      "35:\tlearn: 0.2384884\ttotal: 2.07s\tremaining: 3.68s\n",
      "36:\tlearn: 0.2375507\ttotal: 2.13s\tremaining: 3.63s\n",
      "37:\tlearn: 0.2365164\ttotal: 2.21s\tremaining: 3.6s\n",
      "38:\tlearn: 0.2356519\ttotal: 2.27s\tremaining: 3.55s\n",
      "39:\tlearn: 0.2344571\ttotal: 2.32s\tremaining: 3.48s\n",
      "40:\tlearn: 0.2329430\ttotal: 2.37s\tremaining: 3.41s\n",
      "41:\tlearn: 0.2319937\ttotal: 2.42s\tremaining: 3.35s\n",
      "42:\tlearn: 0.2310700\ttotal: 2.46s\tremaining: 3.27s\n",
      "43:\tlearn: 0.2300964\ttotal: 2.51s\tremaining: 3.19s\n",
      "44:\tlearn: 0.2287881\ttotal: 2.56s\tremaining: 3.13s\n",
      "45:\tlearn: 0.2277925\ttotal: 2.62s\tremaining: 3.07s\n",
      "46:\tlearn: 0.2269244\ttotal: 2.67s\tremaining: 3.01s\n",
      "47:\tlearn: 0.2258295\ttotal: 2.74s\tremaining: 2.97s\n",
      "48:\tlearn: 0.2251821\ttotal: 2.82s\tremaining: 2.93s\n",
      "49:\tlearn: 0.2244758\ttotal: 2.88s\tremaining: 2.88s\n",
      "50:\tlearn: 0.2239772\ttotal: 2.94s\tremaining: 2.82s\n",
      "51:\tlearn: 0.2227959\ttotal: 3s\tremaining: 2.77s\n",
      "52:\tlearn: 0.2221488\ttotal: 3.07s\tremaining: 2.72s\n",
      "53:\tlearn: 0.2213813\ttotal: 3.13s\tremaining: 2.66s\n",
      "54:\tlearn: 0.2207027\ttotal: 3.19s\tremaining: 2.61s\n",
      "55:\tlearn: 0.2201136\ttotal: 3.24s\tremaining: 2.55s\n",
      "56:\tlearn: 0.2191481\ttotal: 3.3s\tremaining: 2.49s\n",
      "57:\tlearn: 0.2180552\ttotal: 3.37s\tremaining: 2.44s\n",
      "58:\tlearn: 0.2171736\ttotal: 3.42s\tremaining: 2.38s\n",
      "59:\tlearn: 0.2163275\ttotal: 3.46s\tremaining: 2.31s\n",
      "60:\tlearn: 0.2155970\ttotal: 3.5s\tremaining: 2.24s\n",
      "61:\tlearn: 0.2147144\ttotal: 3.54s\tremaining: 2.17s\n",
      "62:\tlearn: 0.2139761\ttotal: 3.59s\tremaining: 2.11s\n",
      "63:\tlearn: 0.2133979\ttotal: 3.63s\tremaining: 2.04s\n",
      "64:\tlearn: 0.2128853\ttotal: 3.69s\tremaining: 1.99s\n",
      "65:\tlearn: 0.2123504\ttotal: 3.73s\tremaining: 1.92s\n",
      "66:\tlearn: 0.2115279\ttotal: 3.79s\tremaining: 1.86s\n",
      "67:\tlearn: 0.2110509\ttotal: 3.83s\tremaining: 1.8s\n",
      "68:\tlearn: 0.2106455\ttotal: 3.88s\tremaining: 1.75s\n",
      "69:\tlearn: 0.2096904\ttotal: 3.96s\tremaining: 1.7s\n",
      "70:\tlearn: 0.2092594\ttotal: 4.02s\tremaining: 1.64s\n",
      "71:\tlearn: 0.2087649\ttotal: 4.06s\tremaining: 1.58s\n",
      "72:\tlearn: 0.2081883\ttotal: 4.1s\tremaining: 1.52s\n",
      "73:\tlearn: 0.2075912\ttotal: 4.14s\tremaining: 1.45s\n",
      "74:\tlearn: 0.2070285\ttotal: 4.18s\tremaining: 1.39s\n",
      "75:\tlearn: 0.2064470\ttotal: 4.22s\tremaining: 1.33s\n",
      "76:\tlearn: 0.2056473\ttotal: 4.27s\tremaining: 1.28s\n",
      "77:\tlearn: 0.2051256\ttotal: 4.32s\tremaining: 1.22s\n",
      "78:\tlearn: 0.2047102\ttotal: 4.4s\tremaining: 1.17s\n",
      "79:\tlearn: 0.2041872\ttotal: 4.45s\tremaining: 1.11s\n",
      "80:\tlearn: 0.2038946\ttotal: 4.5s\tremaining: 1.05s\n",
      "81:\tlearn: 0.2034388\ttotal: 4.55s\tremaining: 999ms\n",
      "82:\tlearn: 0.2030192\ttotal: 4.6s\tremaining: 943ms\n",
      "83:\tlearn: 0.2027127\ttotal: 4.65s\tremaining: 886ms\n",
      "84:\tlearn: 0.2023966\ttotal: 4.7s\tremaining: 830ms\n",
      "85:\tlearn: 0.2021801\ttotal: 4.75s\tremaining: 774ms\n",
      "86:\tlearn: 0.2019455\ttotal: 4.81s\tremaining: 718ms\n",
      "87:\tlearn: 0.2015630\ttotal: 4.86s\tremaining: 662ms\n",
      "88:\tlearn: 0.2013007\ttotal: 4.91s\tremaining: 607ms\n",
      "89:\tlearn: 0.2006291\ttotal: 5s\tremaining: 555ms\n",
      "90:\tlearn: 0.2000196\ttotal: 5.04s\tremaining: 499ms\n",
      "91:\tlearn: 0.1994431\ttotal: 5.09s\tremaining: 443ms\n",
      "92:\tlearn: 0.1986761\ttotal: 5.14s\tremaining: 387ms\n",
      "93:\tlearn: 0.1982813\ttotal: 5.19s\tremaining: 331ms\n",
      "94:\tlearn: 0.1979861\ttotal: 5.23s\tremaining: 275ms\n",
      "95:\tlearn: 0.1978424\ttotal: 5.27s\tremaining: 220ms\n",
      "96:\tlearn: 0.1975082\ttotal: 5.32s\tremaining: 165ms\n",
      "97:\tlearn: 0.1973412\ttotal: 5.36s\tremaining: 109ms\n",
      "98:\tlearn: 0.1970272\ttotal: 5.41s\tremaining: 54.6ms\n",
      "99:\tlearn: 0.1967830\ttotal: 5.45s\tremaining: 0us\n",
      "CPU times: total: 5.31 s\n",
      "Wall time: 58.9 s\n"
     ]
    },
    {
     "data": {
      "text/plain": [
       "GridSearchCV(cv=KFold(n_splits=5, random_state=54321, shuffle=True),\n",
       "             estimator=Pipeline(steps=[('cb',\n",
       "                                        <catboost.core.CatBoostClassifier object at 0x0000022E2C004A60>)]),\n",
       "             n_jobs=-1,\n",
       "             param_grid={'cb__depth': [3, 6, 9], 'cb__iterations': [100],\n",
       "                         'cb__learning_rate': [0.01, 0.15]},\n",
       "             scoring='roc_auc')"
      ]
     },
     "execution_count": 63,
     "metadata": {},
     "output_type": "execute_result"
    }
   ],
   "source": [
    "%%time\n",
    "gs_model_cb.fit(X_train, y_train)"
   ]
  },
  {
   "cell_type": "code",
   "execution_count": 64,
   "id": "825c19af-d326-4fcb-8337-eb8c624e1576",
   "metadata": {},
   "outputs": [
    {
     "name": "stdout",
     "output_type": "stream",
     "text": [
      "Best params CatBoostClassifier: {'cb__depth': 9, 'cb__iterations': 100, 'cb__learning_rate': 0.15}\n",
      "ROC-AUC CatBoostClassifier: 0.9623909651780596\n"
     ]
    }
   ],
   "source": [
    "# выведем лучшие значения гиперпараметров, полученные на GridSearch\n",
    "best_model_cb = gs_model_cb.best_estimator_\n",
    "\n",
    "gs_model_cb_best_score = gs_model_cb.best_score_\n",
    "gs_model_cb_best_params = gs_model_cb.best_params_\n",
    "\n",
    "print(f'Best params CatBoostClassifier: {gs_model_cb_best_params}')\n",
    "print(f'ROC-AUC CatBoostClassifier: {gs_model_cb_best_score}')"
   ]
  },
  {
   "cell_type": "code",
   "execution_count": 65,
   "id": "68107339-a206-4db1-b095-266cf7286f7f",
   "metadata": {},
   "outputs": [
    {
     "data": {
      "image/png": "[encoded data removed]",
      "text/plain": [
       "<Figure size 1000x700 with 1 Axes>"
      ]
     },
     "metadata": {},
     "output_type": "display_data"
    }
   ],
   "source": [
    "# построим гистограмму значимости признаков для модели CatBoost\n",
    "# значения отсортированные по возрастанию влияния\n",
    "\n",
    "plt.figure(figsize = (10,7))\n",
    "importances = pd.Series(best_model_cb.named_steps['cb'].feature_importances_,index=best_model_cb['cb'].feature_names_).sort_values()\n",
    "\n",
    "# график\n",
    "importances.plot.barh(grid=True, title='Важность признаков');"
   ]
  },
  {
   "cell_type": "code",
   "execution_count": 66,
   "id": "bf27c30a-b0e0-4464-a2c6-2c802d840aed",
   "metadata": {},
   "outputs": [],
   "source": [
    "predict_test = best_model_cb.predict(X_test)"
   ]
  },
  {
   "cell_type": "code",
   "execution_count": 67,
   "id": "edd04b2f-46e7-4776-85f6-f28d6a3e6c11",
   "metadata": {},
   "outputs": [
    {
     "data": {
      "image/png": "[encoded data removed]",
      "text/plain": [
       "<Figure size 640x480 with 1 Axes>"
      ]
     },
     "metadata": {},
     "output_type": "display_data"
    }
   ],
   "source": [
    "probabilities_test = best_model_cb.predict_proba(X_test)\n",
    "probabilities_one_test = probabilities_test[:, 1]\n",
    "\n",
    "fpr, tpr, thresholds = roc_curve(y_test, probabilities_one_test)\n",
    "plt.figure()\n",
    "plt.plot(fpr, tpr)\n",
    "plt.xlim([0.0, 1.0])\n",
    "plt.ylim([0.0, 1.0])\n",
    "plt.xlabel('False Positive Rate')\n",
    "plt.ylabel('True Positive Rate')\n",
    "plt.title('ROC-кривая')\n",
    "plt.show() "
   ]
  },
  {
   "cell_type": "code",
   "execution_count": 68,
   "id": "46ada07f-0f8f-4dad-a690-b7b63b26accb",
   "metadata": {},
   "outputs": [
    {
     "name": "stdout",
     "output_type": "stream",
     "text": [
      "Accuracy: 0.9022482893450635\n",
      "Полнота: 0.9400278940027894\n",
      "Точность: 0.9220246238030095\n",
      "F1-мера: 0.930939226519337\n",
      "AUC-ROC:0.9627054447999562\n"
     ]
    }
   ],
   "source": [
    "# рассчитаем дополнительные метрики\n",
    "print(f'Accuracy: {accuracy_score(y_test, predict_test)}')    \n",
    "print(f'Полнота: {recall_score(y_test, predict_test)}')     \n",
    "print(f'Точность: {precision_score(y_test, predict_test)}')  \n",
    "print(f'F1-мера: {f1_score(y_test,predict_test)}')          \n",
    "print(f'AUC-ROC:{roc_auc_score(y_test,probabilities_one_test)}')"
   ]
  },
  {
   "cell_type": "code",
   "execution_count": null,
   "id": "53b59211-7cfe-4158-bbe9-fea773aa56d8",
   "metadata": {},
   "outputs": [],
   "source": []
  },
  {
   "cell_type": "markdown",
   "id": "dc77d560-2326-4c79-9e0f-70cbb8b4247d",
   "metadata": {},
   "source": [
    "**Метрики при удаленных столбцах**\n",
    "df_union = df_union.drop(['original_track_id','track_id','dttm','lyricId','track_remake_type','text','genres'], axis=1)\n",
    "Accuracy: 0.9010946051602815   \n",
    "Полнота: 0.9498327759197325   \n",
    "Точность: 0.9126941617568292   \n",
    "F1-мера: 0.9308931985796232   \n",
    "AUC-ROC:0.9553569344002988   \n",
    "Dummy:0.7010819971320558"
   ]
  },
  {
   "cell_type": "markdown",
   "id": "26fdfd57-6cef-4a4b-8d75-a438292461ff",
   "metadata": {},
   "source": [
    "**Метрики при удаленных столбцах**\n",
    "df_union = df_union.drop(['original_track_id','track_id','dttm','lyricId','track_remake_type','text','genres','isrc'], axis=1)\n",
    "Accuracy: 0.9007036747458952   \n",
    "Полнота: 0.9403567447045708   \n",
    "Точность: 0.9198473282442748   \n",
    "F1-мера: 0.9299889746416758   \n",
    "AUC-ROC:0.9518103538846767   "
   ]
  },
  {
   "cell_type": "code",
   "execution_count": null,
   "id": "cb5d7e43-efa7-4880-a8d7-8a51a5fb2917",
   "metadata": {},
   "outputs": [],
   "source": []
  },
  {
   "cell_type": "code",
   "execution_count": null,
   "id": "ebe30056-3b14-4d06-be7a-185415479904",
   "metadata": {},
   "outputs": [],
   "source": []
  },
  {
   "cell_type": "code",
   "execution_count": null,
   "id": "a5c99428-2167-4beb-b247-eeaeccdfabcf",
   "metadata": {},
   "outputs": [],
   "source": [
    "dummy_model = DummyClassifier(strategy='constant', constant=1)\n",
    "dummy_model.fit(X_train,y_train)\n",
    "print(f'Dummy:{dummy_model.score(X_train,y_train)}')"
   ]
  },
  {
   "cell_type": "markdown",
   "id": "fd5156b5",
   "metadata": {},
   "source": [
    "**Идея для реализации**"
   ]
  },
  {
   "cell_type": "markdown",
   "id": "1837d3ef",
   "metadata": {},
   "source": [
    "Подход №1: глубокая предобработка данных\n",
    "\n",
    "1. Подготовка данных. Транслитерацию перевели на родной язык. Очистили тексты от мусора. \n",
    "\n",
    "2. Перевод данных в эмбеддинги. С помощью предобученной библиотеки navic перевести токены в эмбеддинги. Navic выбрали из-за объёма и скорости: она в 10 раз быстрее и компактнее аналогов. Переводим наши токены в эмбейдинги с помощью navic.Уточнить с чем работает navic.\n",
    "\n",
    "3. Добавление признаков. Сконвертировать текстовые данные в числовые, сохранив их смысл. Определить 100 самых популярных слов в токенах. Выделили их в отдельные признаки, тем самым увеличив датасет. Выбрать и обучить модель. \n"
   ]
  },
  {
   "cell_type": "code",
   "execution_count": null,
   "id": "b0bf19bd-4f81-472c-b889-2281e953dc46",
   "metadata": {},
   "outputs": [],
   "source": []
  }
 ],
 "metadata": {
  "kernelspec": {
   "display_name": "Python 3 (ipykernel)",
   "language": "python",
   "name": "python3"
  },
  "language_info": {
   "codemirror_mode": {
    "name": "ipython",
    "version": 3
   },
   "file_extension": ".py",
   "mimetype": "text/x-python",
   "name": "python",
   "nbconvert_exporter": "python",
   "pygments_lexer": "ipython3",
   "version": "3.9.18"
  }
 },
 "nbformat": 4,
 "nbformat_minor": 5
}

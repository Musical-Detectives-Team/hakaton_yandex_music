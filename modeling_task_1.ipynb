{
 "cells": [
  {
   "cell_type": "markdown",
   "id": "95417828-0cde-4740-9180-cb2ee227732b",
   "metadata": {},
   "source": [
    "# Modeling task 1."
   ]
  },
  {
   "cell_type": "markdown",
   "id": "ef98ef38-a7ec-4f79-9637-eb96650b4af5",
   "metadata": {},
   "source": [
    "Данный ноутбук направлен на решение 1 задачи: классификации по признаку кавер-оригинал.\n",
    "\n",
    "Импортируем библиотеки и задаём random_state"
   ]
  },
  {
   "cell_type": "code",
   "execution_count": 1,
   "id": "26306b5d-aa5f-4b49-a0d1-7e395c10858d",
   "metadata": {},
   "outputs": [],
   "source": [
    "import pandas as pd\n",
    "import numpy as np\n",
    "import matplotlib.pyplot as plt\n",
    "\n",
    "from tqdm import tqdm\n",
    "import copy\n",
    "\n",
    "from sklearn.metrics import f1_score\n",
    "from sklearn.model_selection import cross_val_score, StratifiedKFold, GridSearchCV, train_test_split\n",
    "from sklearn.utils.class_weight import compute_class_weight\n",
    "from sklearn.dummy import DummyClassifier\n",
    "from catboost import CatBoostClassifier\n",
    "\n",
    "import pickle\n",
    "\n",
    "from typing import List"
   ]
  },
  {
   "cell_type": "code",
   "execution_count": 2,
   "id": "be83ef84",
   "metadata": {},
   "outputs": [],
   "source": [
    "RANDOM_STATE = 54321"
   ]
  },
  {
   "cell_type": "markdown",
   "id": "b0eb6774",
   "metadata": {},
   "source": [
    "## Загрузка и разделение признаков"
   ]
  },
  {
   "cell_type": "code",
   "execution_count": 3,
   "id": "a0bfea50-538a-458e-b20c-a17a519f16e2",
   "metadata": {},
   "outputs": [],
   "source": [
    "PATH_TRAIN = 'data/preprocessing/train_task_1.csv'\n",
    "PATH_TEST = 'data/preprocessing/test_task_1.csv'\n",
    "\n",
    "PATH_TO_SAVE_MODEL = 'models/task_1_model.pkl'"
   ]
  },
  {
   "cell_type": "markdown",
   "id": "45018155-3a00-4328-b15c-452321a78fa4",
   "metadata": {},
   "source": [
    "Загрузим датасет для обучения и решения первой задачи."
   ]
  },
  {
   "cell_type": "code",
   "execution_count": 4,
   "id": "d65aa400-6535-4d09-ad8a-74c6c13e4059",
   "metadata": {},
   "outputs": [],
   "source": [
    "df_train = pd.read_csv(PATH_TRAIN)\n",
    "df_test = pd.read_csv(PATH_TEST)"
   ]
  },
  {
   "cell_type": "markdown",
   "id": "e61351a3",
   "metadata": {},
   "source": [
    "Проверим разхмеры датасетов"
   ]
  },
  {
   "cell_type": "code",
   "execution_count": 5,
   "id": "b505e075-f7fd-44c8-8cb6-2252ecc39ed9",
   "metadata": {},
   "outputs": [
    {
     "data": {
      "text/plain": [
       "((56982, 34), (56982, 34))"
      ]
     },
     "execution_count": 5,
     "metadata": {},
     "output_type": "execute_result"
    }
   ],
   "source": [
    "df_train.shape, df_test.shape"
   ]
  },
  {
   "cell_type": "markdown",
   "id": "296d330b",
   "metadata": {},
   "source": [
    "Cоздадим переменные для признаков и целевого признака"
   ]
  },
  {
   "cell_type": "code",
   "execution_count": 6,
   "id": "998a6ba7-29cc-4cdc-9b5f-15129cfcb4dd",
   "metadata": {},
   "outputs": [],
   "source": [
    "X_train = df_train.drop('target', axis=1)\n",
    "y_train = df_train['target']"
   ]
  },
  {
   "cell_type": "code",
   "execution_count": 7,
   "id": "ed31c59a",
   "metadata": {},
   "outputs": [],
   "source": [
    "X_test = df_test.drop('target', axis=1)\n",
    "y_test = df_test['target']"
   ]
  },
  {
   "cell_type": "markdown",
   "id": "385bb447-fc54-42b9-914d-79240c40f432",
   "metadata": {},
   "source": [
    "## Baseline модель"
   ]
  },
  {
   "cell_type": "markdown",
   "id": "155cf449",
   "metadata": {},
   "source": [
    "Учитывая, что мы имеем дело с задачей классификации, при этом в данных наблюдается явный дисбаланс классов, то в качестве **метрики** будем использовать **f1 меру**."
   ]
  },
  {
   "cell_type": "markdown",
   "id": "111721c1",
   "metadata": {},
   "source": [
    "Создадим Baseline модель, чтобы в дальнейшем мы могли сравнивать наши модели и проверять их на адекватность. В качестве базовой модели будем использовать DummyClassifier со стратегией constant=0, так ка таких значений в датасете больше"
   ]
  },
  {
   "cell_type": "code",
   "execution_count": 8,
   "id": "8607e871-f1fc-480a-b58b-480cd9cdaa5c",
   "metadata": {},
   "outputs": [
    {
     "name": "stdout",
     "output_type": "stream",
     "text": [
      "Dummy:0.11367849576271186\n"
     ]
    }
   ],
   "source": [
    "dummy_model = DummyClassifier(strategy='constant', constant=1)\n",
    "dummy_model.fit(X_train,y_train)\n",
    "print(f'Dummy:{f1_score(dummy_model.predict(X_test),y_test)}')"
   ]
  },
  {
   "cell_type": "markdown",
   "id": "54585de0",
   "metadata": {},
   "source": [
    "Базовая модель показала качество равное 0,1137, попробуем улучишть его"
   ]
  },
  {
   "cell_type": "markdown",
   "id": "c239c282",
   "metadata": {},
   "source": [
    "## Выбор модели для решения задачи"
   ]
  },
  {
   "cell_type": "markdown",
   "id": "138f3fd6",
   "metadata": {},
   "source": [
    "Поскольку у нас очень много категориальных признаков, то будем использовать для прогноза модель CatBoostClassifier. Данная модель умеет хорошо обрабатывать категориальные признаки, и даёт весьма хорошее качество."
   ]
  },
  {
   "cell_type": "code",
   "execution_count": 9,
   "id": "6241c93b-ecad-4996-b655-95c673273416",
   "metadata": {},
   "outputs": [],
   "source": [
    "cat_features = ['language',\n",
    "                'country_of_track',\n",
    "                'reg_code',\n",
    "                'cat_year_isrc',\n",
    "                'missing_text',\n",
    "                'missing_title',\n",
    "                'missing_isrc',\n",
    "                'genre_FOLK',\n",
    "                'genre_LATINFOLK',\n",
    "                'genre_POP',\n",
    "                'genre_ALLROCK',\n",
    "                'genre_ROCK',\n",
    "                'genre_ALTERNATIVE',\n",
    "                'genre_ELECTRONICS',\n",
    "                'genre_SOUNDTRACK',\n",
    "                'genre_RAP',\n",
    "                'genre_DANCE',\n",
    "                'genre_METAL',\n",
    "                'genre_CLASSICALMUSIC',\n",
    "                'genre_SPIRITUAL',\n",
    "                'genre_RUSPOP',\n",
    "                'genre_JAZZ',\n",
    "                'unknown_genre',\n",
    "                'genre_other',\n",
    "                'genre_group_ROCK',\n",
    "                'genre_group_RAP',\n",
    "                'genre_group_POP',\n",
    "                'genre_group_FOLK',\n",
    "                'genre_group_RUS',\n",
    "                'cover_word',\n",
    "                'duration_flag']"
   ]
  },
  {
   "cell_type": "markdown",
   "id": "4b8ad48e",
   "metadata": {},
   "source": [
    "Создадим нашу модель. При этом необходимо будет учесть дисбаланс классов"
   ]
  },
  {
   "cell_type": "code",
   "execution_count": 10,
   "id": "27a96af0",
   "metadata": {},
   "outputs": [],
   "source": [
    "classes = np.unique(y_train)\n",
    "weights = compute_class_weight(class_weight='balanced', classes=classes, y=y_train)\n",
    "class_weights = dict(zip(classes, weights))\n",
    "\n",
    "model = CatBoostClassifier(random_state=RANDOM_STATE, \n",
    "                           cat_features=cat_features,\n",
    "                           verbose=False,\n",
    "                           class_weights=class_weights)"
   ]
  },
  {
   "cell_type": "markdown",
   "id": "c18439aa",
   "metadata": {},
   "source": [
    "Определять качество модели будем на кроссвалидации, при этом необходимо учесть дисбаланс классов, поэтому воспользуемся StratifiedKFold"
   ]
  },
  {
   "cell_type": "code",
   "execution_count": 11,
   "id": "4aa3da67",
   "metadata": {},
   "outputs": [],
   "source": [
    "skf = StratifiedKFold(n_splits=4)\n",
    "folds = skf.split(X_train, y_train)"
   ]
  },
  {
   "cell_type": "code",
   "execution_count": 12,
   "id": "f6e15a6a",
   "metadata": {},
   "outputs": [
    {
     "name": "stdout",
     "output_type": "stream",
     "text": [
      "Метрика f1 на кроссвалидации [0.73026016 0.72120943 0.71145176 0.73684211]\n",
      "Среднее значение f1 на тренировочном датасете 0.7249408612990067\n",
      "CPU times: total: 15min 13s\n",
      "Wall time: 2min 46s\n"
     ]
    }
   ],
   "source": [
    "%%time\n",
    "cvs = cross_val_score(model, X_train, y_train, cv=folds, scoring='f1')\n",
    "print(f'Метрика f1 на кроссвалидации {cvs}')\n",
    "print(f'Среднее значение f1 на тренировочном датасете {mean(cvs)}')"
   ]
  },
  {
   "cell_type": "markdown",
   "id": "78ec9ecd",
   "metadata": {},
   "source": [
    "Модель показала качество значительно лучше, чем у базовой модели. Изучим полученную модель."
   ]
  },
  {
   "cell_type": "markdown",
   "id": "7395bd94",
   "metadata": {},
   "source": [
    "## Важность признаков"
   ]
  },
  {
   "cell_type": "markdown",
   "id": "3fce4493",
   "metadata": {},
   "source": [
    "Обучим нашу модель и посмотрим на важность признаков"
   ]
  },
  {
   "cell_type": "code",
   "execution_count": 13,
   "id": "a2c8979b",
   "metadata": {},
   "outputs": [
    {
     "name": "stdout",
     "output_type": "stream",
     "text": [
      "CPU times: total: 4min 31s\n",
      "Wall time: 53 s\n"
     ]
    },
    {
     "data": {
      "text/plain": [
       "<catboost.core.CatBoostClassifier at 0x29a1cc42410>"
      ]
     },
     "execution_count": 13,
     "metadata": {},
     "output_type": "execute_result"
    }
   ],
   "source": [
    "%%time\n",
    "model.fit(X_train, y_train)"
   ]
  },
  {
   "cell_type": "code",
   "execution_count": 14,
   "id": "6b6b6ed4-af6f-4ac4-8710-45389718cb1c",
   "metadata": {},
   "outputs": [
    {
     "data": {
      "image/png": "[encoded data removed]",
      "text/plain": [
       "<Figure size 1000x700 with 1 Axes>"
      ]
     },
     "metadata": {},
     "output_type": "display_data"
    },
    {
     "name": "stdout",
     "output_type": "stream",
     "text": [
      "                 feature  importance\n",
      "0               duration   17.444021\n",
      "1               reg_code   16.360237\n",
      "2               language   12.363222\n",
      "3          cat_year_isrc    6.852516\n",
      "4       country_of_track    6.097092\n",
      "5           missing_text    5.328232\n",
      "6               num_year    4.522049\n",
      "7        genre_LATINFOLK    4.225133\n",
      "8          duration_flag    3.639797\n",
      "9            genre_METAL    2.253408\n",
      "10     genre_ELECTRONICS    2.082893\n",
      "11         unknown_genre    1.982114\n",
      "12            genre_FOLK    1.757514\n",
      "13            genre_ROCK    1.609622\n",
      "14      genre_group_ROCK    1.552800\n",
      "15     genre_ALTERNATIVE    1.539981\n",
      "16       genre_group_POP    1.417036\n",
      "17      genre_SOUNDTRACK    1.156566\n",
      "18         genre_ALLROCK    1.135648\n",
      "19             genre_POP    0.889482\n",
      "20           genre_DANCE    0.875893\n",
      "21      genre_group_FOLK    0.796915\n",
      "22       genre_SPIRITUAL    0.785313\n",
      "23             genre_RAP    0.692976\n",
      "24  genre_CLASSICALMUSIC    0.675382\n",
      "25           genre_other    0.556836\n",
      "26            genre_JAZZ    0.548252\n",
      "27       genre_group_RAP    0.363546\n",
      "28            cover_word    0.220744\n",
      "29       genre_group_RUS    0.209595\n",
      "30          missing_isrc    0.031608\n",
      "31          genre_RUSPOP    0.031497\n",
      "32         missing_title    0.002080\n"
     ]
    }
   ],
   "source": [
    "def get_feature_importance(model: CatBoostClassifier, feature_names: List):\n",
    "    feature_importance_df = pd.DataFrame(\n",
    "        {'feature': feature_names, 'importance': model.feature_importances_}\n",
    "    )\n",
    "    feature_importance_df = feature_importance_df.sort_values(\n",
    "        by='importance', ascending=False\n",
    "    ).reset_index(drop=True)\n",
    "    \n",
    "    # График\n",
    "    plt.figure(figsize=(10, 7))\n",
    "    importances = pd.Series(model.feature_importances_, index=feature_names).sort_values()\n",
    "    importances.plot.barh(grid=True, title='Важность признаков')\n",
    "    plt.show()\n",
    "    \n",
    "    return feature_importance_df\n",
    "\n",
    "# Получение важности признаков и построение графика\n",
    "feature_importance = get_feature_importance(model, list(X_train))\n",
    "\n",
    "print(feature_importance)"
   ]
  },
  {
   "cell_type": "markdown",
   "id": "017a636b",
   "metadata": {},
   "source": [
    "Как видно из полученных данных для модели наибольшую важность имеют следующие признаки: длительность, код регистратора, и язык. Чуть меньше страна полученная из кода isrc, любые жанры относящиес к FOLK, отсутствующий текст и год записи."
   ]
  },
  {
   "cell_type": "markdown",
   "id": "ae769e24",
   "metadata": {},
   "source": [
    "## Подбор гиперпараметров"
   ]
  },
  {
   "cell_type": "markdown",
   "id": "f86803d7",
   "metadata": {},
   "source": [
    "Чтобы ускорить отбор признаков разделим трэйновый датасет пополам"
   ]
  },
  {
   "cell_type": "code",
   "execution_count": 15,
   "id": "b96af235",
   "metadata": {},
   "outputs": [],
   "source": [
    "X_train_1, X_train_2, y_train_1, y_train_2 = train_test_split(X_train,\n",
    "                                                              y_train,\n",
    "                                                              random_state=RANDOM_STATE,\n",
    "                                                              test_size=0.5,\n",
    "                                                              stratify=y_train)"
   ]
  },
  {
   "cell_type": "markdown",
   "id": "35437567",
   "metadata": {},
   "source": [
    "Подбор гиперпараметров будем осуществлять при помощи GridSearchCV"
   ]
  },
  {
   "cell_type": "code",
   "execution_count": 16,
   "id": "7be02242-2085-4867-a4b1-344798ea0469",
   "metadata": {},
   "outputs": [],
   "source": [
    "classes = np.unique(y_train_1)\n",
    "weights = compute_class_weight(class_weight='balanced', classes=classes, y=y_train_1)\n",
    "class_weights = dict(zip(classes, weights))\n",
    "\n",
    "model = CatBoostClassifier(random_state=RANDOM_STATE, \n",
    "                           cat_features=cat_features,\n",
    "                           verbose=False,\n",
    "                           class_weights=class_weights)"
   ]
  },
  {
   "cell_type": "code",
   "execution_count": 17,
   "id": "6cda1dcc-7bc3-424d-aa91-69954056da99",
   "metadata": {},
   "outputs": [],
   "source": [
    "cat_params = {'max_depth': [1, 5, 10],\n",
    "             'n_estimators': range(500, 2000, 500),\n",
    "             'learning_rate': [0.01, 0.03, 0.1]}"
   ]
  },
  {
   "cell_type": "code",
   "execution_count": 18,
   "id": "8cc536a5",
   "metadata": {},
   "outputs": [],
   "source": [
    "skf = StratifiedKFold(n_splits=4)\n",
    "folds = skf.split(X_train_1, y_train_1)"
   ]
  },
  {
   "cell_type": "code",
   "execution_count": 19,
   "id": "ee884122",
   "metadata": {},
   "outputs": [
    {
     "name": "stdout",
     "output_type": "stream",
     "text": [
      "CPU times: total: 7min 18s\n",
      "Wall time: 32min 56s\n"
     ]
    },
    {
     "data": {
      "text/html": [
       "<style>#sk-container-id-1 {color: black;background-color: white;}#sk-container-id-1 pre{padding: 0;}#sk-container-id-1 div.sk-toggleable {background-color: white;}#sk-container-id-1 label.sk-toggleable__label {cursor: pointer;display: block;width: 100%;margin-bottom: 0;padding: 0.3em;box-sizing: border-box;text-align: center;}#sk-container-id-1 label.sk-toggleable__label-arrow:before {content: \"▸\";float: left;margin-right: 0.25em;color: #696969;}#sk-container-id-1 label.sk-toggleable__label-arrow:hover:before {color: black;}#sk-container-id-1 div.sk-estimator:hover label.sk-toggleable__label-arrow:before {color: black;}#sk-container-id-1 div.sk-toggleable__content {max-height: 0;max-width: 0;overflow: hidden;text-align: left;background-color: #f0f8ff;}#sk-container-id-1 div.sk-toggleable__content pre {margin: 0.2em;color: black;border-radius: 0.25em;background-color: #f0f8ff;}#sk-container-id-1 input.sk-toggleable__control:checked~div.sk-toggleable__content {max-height: 200px;max-width: 100%;overflow: auto;}#sk-container-id-1 input.sk-toggleable__control:checked~label.sk-toggleable__label-arrow:before {content: \"▾\";}#sk-container-id-1 div.sk-estimator input.sk-toggleable__control:checked~label.sk-toggleable__label {background-color: #d4ebff;}#sk-container-id-1 div.sk-label input.sk-toggleable__control:checked~label.sk-toggleable__label {background-color: #d4ebff;}#sk-container-id-1 input.sk-hidden--visually {border: 0;clip: rect(1px 1px 1px 1px);clip: rect(1px, 1px, 1px, 1px);height: 1px;margin: -1px;overflow: hidden;padding: 0;position: absolute;width: 1px;}#sk-container-id-1 div.sk-estimator {font-family: monospace;background-color: #f0f8ff;border: 1px dotted black;border-radius: 0.25em;box-sizing: border-box;margin-bottom: 0.5em;}#sk-container-id-1 div.sk-estimator:hover {background-color: #d4ebff;}#sk-container-id-1 div.sk-parallel-item::after {content: \"\";width: 100%;border-bottom: 1px solid gray;flex-grow: 1;}#sk-container-id-1 div.sk-label:hover label.sk-toggleable__label {background-color: #d4ebff;}#sk-container-id-1 div.sk-serial::before {content: \"\";position: absolute;border-left: 1px solid gray;box-sizing: border-box;top: 0;bottom: 0;left: 50%;z-index: 0;}#sk-container-id-1 div.sk-serial {display: flex;flex-direction: column;align-items: center;background-color: white;padding-right: 0.2em;padding-left: 0.2em;position: relative;}#sk-container-id-1 div.sk-item {position: relative;z-index: 1;}#sk-container-id-1 div.sk-parallel {display: flex;align-items: stretch;justify-content: center;background-color: white;position: relative;}#sk-container-id-1 div.sk-item::before, #sk-container-id-1 div.sk-parallel-item::before {content: \"\";position: absolute;border-left: 1px solid gray;box-sizing: border-box;top: 0;bottom: 0;left: 50%;z-index: -1;}#sk-container-id-1 div.sk-parallel-item {display: flex;flex-direction: column;z-index: 1;position: relative;background-color: white;}#sk-container-id-1 div.sk-parallel-item:first-child::after {align-self: flex-end;width: 50%;}#sk-container-id-1 div.sk-parallel-item:last-child::after {align-self: flex-start;width: 50%;}#sk-container-id-1 div.sk-parallel-item:only-child::after {width: 0;}#sk-container-id-1 div.sk-dashed-wrapped {border: 1px dashed gray;margin: 0 0.4em 0.5em 0.4em;box-sizing: border-box;padding-bottom: 0.4em;background-color: white;}#sk-container-id-1 div.sk-label label {font-family: monospace;font-weight: bold;display: inline-block;line-height: 1.2em;}#sk-container-id-1 div.sk-label-container {text-align: center;}#sk-container-id-1 div.sk-container {/* jupyter's `normalize.less` sets `[hidden] { display: none; }` but bootstrap.min.css set `[hidden] { display: none !important; }` so we also need the `!important` here to be able to override the default hidden behavior on the sphinx rendered scikit-learn.org. See: https://github.com/scikit-learn/scikit-learn/issues/21755 */display: inline-block !important;position: relative;}#sk-container-id-1 div.sk-text-repr-fallback {display: none;}</style><div id=\"sk-container-id-1\" class=\"sk-top-container\"><div class=\"sk-text-repr-fallback\"><pre>GridSearchCV(cv=&lt;generator object _BaseKFold.split at 0x0000029A4FB94B30&gt;,\n",
       "             estimator=&lt;catboost.core.CatBoostClassifier object at 0x0000029A4FAF3A30&gt;,\n",
       "             n_jobs=-1,\n",
       "             param_grid={&#x27;learning_rate&#x27;: [0.01, 0.03, 0.1],\n",
       "                         &#x27;max_depth&#x27;: [1, 5, 10],\n",
       "                         &#x27;n_estimators&#x27;: range(500, 2000, 500)},\n",
       "             scoring=&#x27;f1&#x27;, verbose=False)</pre><b>In a Jupyter environment, please rerun this cell to show the HTML representation or trust the notebook. <br />On GitHub, the HTML representation is unable to render, please try loading this page with nbviewer.org.</b></div><div class=\"sk-container\" hidden><div class=\"sk-item sk-dashed-wrapped\"><div class=\"sk-label-container\"><div class=\"sk-label sk-toggleable\"><input class=\"sk-toggleable__control sk-hidden--visually\" id=\"sk-estimator-id-1\" type=\"checkbox\" ><label for=\"sk-estimator-id-1\" class=\"sk-toggleable__label sk-toggleable__label-arrow\">GridSearchCV</label><div class=\"sk-toggleable__content\"><pre>GridSearchCV(cv=&lt;generator object _BaseKFold.split at 0x0000029A4FB94B30&gt;,\n",
       "             estimator=&lt;catboost.core.CatBoostClassifier object at 0x0000029A4FAF3A30&gt;,\n",
       "             n_jobs=-1,\n",
       "             param_grid={&#x27;learning_rate&#x27;: [0.01, 0.03, 0.1],\n",
       "                         &#x27;max_depth&#x27;: [1, 5, 10],\n",
       "                         &#x27;n_estimators&#x27;: range(500, 2000, 500)},\n",
       "             scoring=&#x27;f1&#x27;, verbose=False)</pre></div></div></div><div class=\"sk-parallel\"><div class=\"sk-parallel-item\"><div class=\"sk-item\"><div class=\"sk-label-container\"><div class=\"sk-label sk-toggleable\"><input class=\"sk-toggleable__control sk-hidden--visually\" id=\"sk-estimator-id-2\" type=\"checkbox\" ><label for=\"sk-estimator-id-2\" class=\"sk-toggleable__label sk-toggleable__label-arrow\">estimator: CatBoostClassifier</label><div class=\"sk-toggleable__content\"><pre>&lt;catboost.core.CatBoostClassifier object at 0x0000029A4FAF3A30&gt;</pre></div></div></div><div class=\"sk-serial\"><div class=\"sk-item\"><div class=\"sk-estimator sk-toggleable\"><input class=\"sk-toggleable__control sk-hidden--visually\" id=\"sk-estimator-id-3\" type=\"checkbox\" ><label for=\"sk-estimator-id-3\" class=\"sk-toggleable__label sk-toggleable__label-arrow\">CatBoostClassifier</label><div class=\"sk-toggleable__content\"><pre>&lt;catboost.core.CatBoostClassifier object at 0x0000029A4FAF3A30&gt;</pre></div></div></div></div></div></div></div></div></div></div>"
      ],
      "text/plain": [
       "GridSearchCV(cv=<generator object _BaseKFold.split at 0x0000029A4FB94B30>,\n",
       "             estimator=<catboost.core.CatBoostClassifier object at 0x0000029A4FAF3A30>,\n",
       "             n_jobs=-1,\n",
       "             param_grid={'learning_rate': [0.01, 0.03, 0.1],\n",
       "                         'max_depth': [1, 5, 10],\n",
       "                         'n_estimators': range(500, 2000, 500)},\n",
       "             scoring='f1', verbose=False)"
      ]
     },
     "execution_count": 19,
     "metadata": {},
     "output_type": "execute_result"
    }
   ],
   "source": [
    "%%time\n",
    "grid_search = GridSearchCV(model,\n",
    "                           cat_params,\n",
    "                           cv=folds,\n",
    "                           n_jobs=-1,\n",
    "                           scoring='f1',\n",
    "                           verbose=False)\n",
    "\n",
    "grid_search.fit(X_train_1, y_train_1)"
   ]
  },
  {
   "cell_type": "markdown",
   "id": "3f42c55e",
   "metadata": {},
   "source": [
    "Выведем лучшие параметры и метрику на такой сетке"
   ]
  },
  {
   "cell_type": "code",
   "execution_count": 20,
   "id": "1740ddc9",
   "metadata": {},
   "outputs": [
    {
     "data": {
      "text/plain": [
       "{'learning_rate': 0.1, 'max_depth': 10, 'n_estimators': 1000}"
      ]
     },
     "execution_count": 20,
     "metadata": {},
     "output_type": "execute_result"
    }
   ],
   "source": [
    "grid_search.best_params_"
   ]
  },
  {
   "cell_type": "code",
   "execution_count": 21,
   "id": "1a73eded",
   "metadata": {},
   "outputs": [
    {
     "data": {
      "text/plain": [
       "0.7685834582986608"
      ]
     },
     "execution_count": 21,
     "metadata": {},
     "output_type": "execute_result"
    }
   ],
   "source": [
    "grid_search.best_score_"
   ]
  },
  {
   "cell_type": "markdown",
   "id": "e3e0d70f",
   "metadata": {},
   "source": [
    "Исследуем гиперпараметры на более мелкой сетке. Оптимизировать будем уже только n_estimators и learning_rate"
   ]
  },
  {
   "cell_type": "code",
   "execution_count": 22,
   "id": "2daa4b72",
   "metadata": {},
   "outputs": [],
   "source": [
    "cat_params = {'max_depth': [10],\n",
    "             'n_estimators': [750, 1000, 1250],\n",
    "             'learning_rate': [0.05, 0.1, 0.12]}"
   ]
  },
  {
   "cell_type": "code",
   "execution_count": 23,
   "id": "3fc0d799",
   "metadata": {},
   "outputs": [],
   "source": [
    "skf = StratifiedKFold(n_splits=4)\n",
    "folds = skf.split(X_train_1, y_train_1)"
   ]
  },
  {
   "cell_type": "code",
   "execution_count": 24,
   "id": "cebb61a4",
   "metadata": {},
   "outputs": [
    {
     "name": "stdout",
     "output_type": "stream",
     "text": [
      "CPU times: total: 7min 54s\n",
      "Wall time: 20min 49s\n"
     ]
    },
    {
     "data": {
      "text/html": [
       "<style>#sk-container-id-2 {color: black;background-color: white;}#sk-container-id-2 pre{padding: 0;}#sk-container-id-2 div.sk-toggleable {background-color: white;}#sk-container-id-2 label.sk-toggleable__label {cursor: pointer;display: block;width: 100%;margin-bottom: 0;padding: 0.3em;box-sizing: border-box;text-align: center;}#sk-container-id-2 label.sk-toggleable__label-arrow:before {content: \"▸\";float: left;margin-right: 0.25em;color: #696969;}#sk-container-id-2 label.sk-toggleable__label-arrow:hover:before {color: black;}#sk-container-id-2 div.sk-estimator:hover label.sk-toggleable__label-arrow:before {color: black;}#sk-container-id-2 div.sk-toggleable__content {max-height: 0;max-width: 0;overflow: hidden;text-align: left;background-color: #f0f8ff;}#sk-container-id-2 div.sk-toggleable__content pre {margin: 0.2em;color: black;border-radius: 0.25em;background-color: #f0f8ff;}#sk-container-id-2 input.sk-toggleable__control:checked~div.sk-toggleable__content {max-height: 200px;max-width: 100%;overflow: auto;}#sk-container-id-2 input.sk-toggleable__control:checked~label.sk-toggleable__label-arrow:before {content: \"▾\";}#sk-container-id-2 div.sk-estimator input.sk-toggleable__control:checked~label.sk-toggleable__label {background-color: #d4ebff;}#sk-container-id-2 div.sk-label input.sk-toggleable__control:checked~label.sk-toggleable__label {background-color: #d4ebff;}#sk-container-id-2 input.sk-hidden--visually {border: 0;clip: rect(1px 1px 1px 1px);clip: rect(1px, 1px, 1px, 1px);height: 1px;margin: -1px;overflow: hidden;padding: 0;position: absolute;width: 1px;}#sk-container-id-2 div.sk-estimator {font-family: monospace;background-color: #f0f8ff;border: 1px dotted black;border-radius: 0.25em;box-sizing: border-box;margin-bottom: 0.5em;}#sk-container-id-2 div.sk-estimator:hover {background-color: #d4ebff;}#sk-container-id-2 div.sk-parallel-item::after {content: \"\";width: 100%;border-bottom: 1px solid gray;flex-grow: 1;}#sk-container-id-2 div.sk-label:hover label.sk-toggleable__label {background-color: #d4ebff;}#sk-container-id-2 div.sk-serial::before {content: \"\";position: absolute;border-left: 1px solid gray;box-sizing: border-box;top: 0;bottom: 0;left: 50%;z-index: 0;}#sk-container-id-2 div.sk-serial {display: flex;flex-direction: column;align-items: center;background-color: white;padding-right: 0.2em;padding-left: 0.2em;position: relative;}#sk-container-id-2 div.sk-item {position: relative;z-index: 1;}#sk-container-id-2 div.sk-parallel {display: flex;align-items: stretch;justify-content: center;background-color: white;position: relative;}#sk-container-id-2 div.sk-item::before, #sk-container-id-2 div.sk-parallel-item::before {content: \"\";position: absolute;border-left: 1px solid gray;box-sizing: border-box;top: 0;bottom: 0;left: 50%;z-index: -1;}#sk-container-id-2 div.sk-parallel-item {display: flex;flex-direction: column;z-index: 1;position: relative;background-color: white;}#sk-container-id-2 div.sk-parallel-item:first-child::after {align-self: flex-end;width: 50%;}#sk-container-id-2 div.sk-parallel-item:last-child::after {align-self: flex-start;width: 50%;}#sk-container-id-2 div.sk-parallel-item:only-child::after {width: 0;}#sk-container-id-2 div.sk-dashed-wrapped {border: 1px dashed gray;margin: 0 0.4em 0.5em 0.4em;box-sizing: border-box;padding-bottom: 0.4em;background-color: white;}#sk-container-id-2 div.sk-label label {font-family: monospace;font-weight: bold;display: inline-block;line-height: 1.2em;}#sk-container-id-2 div.sk-label-container {text-align: center;}#sk-container-id-2 div.sk-container {/* jupyter's `normalize.less` sets `[hidden] { display: none; }` but bootstrap.min.css set `[hidden] { display: none !important; }` so we also need the `!important` here to be able to override the default hidden behavior on the sphinx rendered scikit-learn.org. See: https://github.com/scikit-learn/scikit-learn/issues/21755 */display: inline-block !important;position: relative;}#sk-container-id-2 div.sk-text-repr-fallback {display: none;}</style><div id=\"sk-container-id-2\" class=\"sk-top-container\"><div class=\"sk-text-repr-fallback\"><pre>GridSearchCV(cv=&lt;generator object _BaseKFold.split at 0x0000029A4FB95BD0&gt;,\n",
       "             estimator=&lt;catboost.core.CatBoostClassifier object at 0x0000029A4FAF3A30&gt;,\n",
       "             n_jobs=-1,\n",
       "             param_grid={&#x27;learning_rate&#x27;: [0.05, 0.1, 0.12], &#x27;max_depth&#x27;: [10],\n",
       "                         &#x27;n_estimators&#x27;: [750, 1000, 1250]},\n",
       "             scoring=&#x27;f1&#x27;, verbose=False)</pre><b>In a Jupyter environment, please rerun this cell to show the HTML representation or trust the notebook. <br />On GitHub, the HTML representation is unable to render, please try loading this page with nbviewer.org.</b></div><div class=\"sk-container\" hidden><div class=\"sk-item sk-dashed-wrapped\"><div class=\"sk-label-container\"><div class=\"sk-label sk-toggleable\"><input class=\"sk-toggleable__control sk-hidden--visually\" id=\"sk-estimator-id-4\" type=\"checkbox\" ><label for=\"sk-estimator-id-4\" class=\"sk-toggleable__label sk-toggleable__label-arrow\">GridSearchCV</label><div class=\"sk-toggleable__content\"><pre>GridSearchCV(cv=&lt;generator object _BaseKFold.split at 0x0000029A4FB95BD0&gt;,\n",
       "             estimator=&lt;catboost.core.CatBoostClassifier object at 0x0000029A4FAF3A30&gt;,\n",
       "             n_jobs=-1,\n",
       "             param_grid={&#x27;learning_rate&#x27;: [0.05, 0.1, 0.12], &#x27;max_depth&#x27;: [10],\n",
       "                         &#x27;n_estimators&#x27;: [750, 1000, 1250]},\n",
       "             scoring=&#x27;f1&#x27;, verbose=False)</pre></div></div></div><div class=\"sk-parallel\"><div class=\"sk-parallel-item\"><div class=\"sk-item\"><div class=\"sk-label-container\"><div class=\"sk-label sk-toggleable\"><input class=\"sk-toggleable__control sk-hidden--visually\" id=\"sk-estimator-id-5\" type=\"checkbox\" ><label for=\"sk-estimator-id-5\" class=\"sk-toggleable__label sk-toggleable__label-arrow\">estimator: CatBoostClassifier</label><div class=\"sk-toggleable__content\"><pre>&lt;catboost.core.CatBoostClassifier object at 0x0000029A4FAF3A30&gt;</pre></div></div></div><div class=\"sk-serial\"><div class=\"sk-item\"><div class=\"sk-estimator sk-toggleable\"><input class=\"sk-toggleable__control sk-hidden--visually\" id=\"sk-estimator-id-6\" type=\"checkbox\" ><label for=\"sk-estimator-id-6\" class=\"sk-toggleable__label sk-toggleable__label-arrow\">CatBoostClassifier</label><div class=\"sk-toggleable__content\"><pre>&lt;catboost.core.CatBoostClassifier object at 0x0000029A4FAF3A30&gt;</pre></div></div></div></div></div></div></div></div></div></div>"
      ],
      "text/plain": [
       "GridSearchCV(cv=<generator object _BaseKFold.split at 0x0000029A4FB95BD0>,\n",
       "             estimator=<catboost.core.CatBoostClassifier object at 0x0000029A4FAF3A30>,\n",
       "             n_jobs=-1,\n",
       "             param_grid={'learning_rate': [0.05, 0.1, 0.12], 'max_depth': [10],\n",
       "                         'n_estimators': [750, 1000, 1250]},\n",
       "             scoring='f1', verbose=False)"
      ]
     },
     "execution_count": 24,
     "metadata": {},
     "output_type": "execute_result"
    }
   ],
   "source": [
    "%%time\n",
    "grid_search = GridSearchCV(model,\n",
    "                           cat_params,\n",
    "                           cv=folds,\n",
    "                           n_jobs=-1,\n",
    "                           scoring='f1',\n",
    "                           verbose=False)\n",
    "\n",
    "grid_search.fit(X_train_1, y_train_1)"
   ]
  },
  {
   "cell_type": "code",
   "execution_count": 25,
   "id": "e8ff358d",
   "metadata": {},
   "outputs": [
    {
     "data": {
      "text/plain": [
       "{'learning_rate': 0.1, 'max_depth': 10, 'n_estimators': 1000}"
      ]
     },
     "execution_count": 25,
     "metadata": {},
     "output_type": "execute_result"
    }
   ],
   "source": [
    "grid_search.best_params_"
   ]
  },
  {
   "cell_type": "code",
   "execution_count": 26,
   "id": "46279121",
   "metadata": {},
   "outputs": [
    {
     "data": {
      "text/plain": [
       "0.7685834582986608"
      ]
     },
     "execution_count": 26,
     "metadata": {},
     "output_type": "execute_result"
    }
   ],
   "source": [
    "grid_search.best_score_"
   ]
  },
  {
   "cell_type": "markdown",
   "id": "b67226e5",
   "metadata": {},
   "source": [
    "Лучшие параметры остались те же, поэтому дальнейшую работу будем проводить именно с ними."
   ]
  },
  {
   "cell_type": "markdown",
   "id": "6f5acaf4",
   "metadata": {},
   "source": [
    "Проверим качество модели на кроссвалидации на полном трейновом датасете"
   ]
  },
  {
   "cell_type": "code",
   "execution_count": 27,
   "id": "1cfc9cda",
   "metadata": {},
   "outputs": [],
   "source": [
    "skf = StratifiedKFold(n_splits=4)\n",
    "folds = skf.split(X_train_1, y_train_1)"
   ]
  },
  {
   "cell_type": "code",
   "execution_count": 28,
   "id": "6810f871",
   "metadata": {},
   "outputs": [],
   "source": [
    "model = CatBoostClassifier(random_state=RANDOM_STATE, \n",
    "                           cat_features=cat_features,\n",
    "                           verbose=False,\n",
    "                           class_weights=class_weights,\n",
    "                           max_depth=10,\n",
    "                           n_estimators=1000,\n",
    "                           learning_rate=0.1)"
   ]
  },
  {
   "cell_type": "code",
   "execution_count": 29,
   "id": "8989d0c5",
   "metadata": {},
   "outputs": [
    {
     "name": "stdout",
     "output_type": "stream",
     "text": [
      "Метрика f1 на кроссвалидации [0.77364506 0.75958188 0.7470651  0.76662909]\n",
      "Среднее значение f1 на тренировочном датасете 0.7617302820446092\n",
      "CPU times: total: 28min 29s\n",
      "Wall time: 8min 27s\n"
     ]
    }
   ],
   "source": [
    "%%time\n",
    "cvs = cross_val_score(model, X_train, y_train, cv=folds, scoring='f1')\n",
    "print(f'Метрика f1 на кроссвалидации {cvs}')\n",
    "print(f'Среднее значение f1 на тренировочном датасете {mean(cvs)}')"
   ]
  },
  {
   "cell_type": "markdown",
   "id": "07333b8c",
   "metadata": {},
   "source": [
    "## Проверка на тестовом датасете"
   ]
  },
  {
   "cell_type": "markdown",
   "id": "22f8a19a",
   "metadata": {},
   "source": [
    "Проверим качество нашей модели на тренировочном датасете. Для этого обучим модель."
   ]
  },
  {
   "cell_type": "code",
   "execution_count": 30,
   "id": "48b91cfc",
   "metadata": {},
   "outputs": [],
   "source": [
    "model = CatBoostClassifier(random_state=RANDOM_STATE, \n",
    "                           cat_features=cat_features,\n",
    "                           verbose=200,\n",
    "                           class_weights=class_weights,                        \n",
    "                           max_depth=10,\n",
    "                           n_estimators=1000,\n",
    "                           learning_rate=0.1,\n",
    "                           thread_count=-1)"
   ]
  },
  {
   "cell_type": "code",
   "execution_count": 31,
   "id": "fd04da7d",
   "metadata": {},
   "outputs": [
    {
     "name": "stdout",
     "output_type": "stream",
     "text": [
      "0:\tlearn: 0.5500304\ttotal: 151ms\tremaining: 2m 30s\n",
      "200:\tlearn: 0.0586612\ttotal: 45.5s\tremaining: 3m\n",
      "400:\tlearn: 0.0370317\ttotal: 1m 39s\tremaining: 2m 29s\n",
      "600:\tlearn: 0.0280317\ttotal: 2m 35s\tremaining: 1m 43s\n",
      "800:\tlearn: 0.0216715\ttotal: 3m 33s\tremaining: 53s\n",
      "999:\tlearn: 0.0205519\ttotal: 4m 20s\tremaining: 0us\n",
      "CPU times: total: 12min 6s\n",
      "Wall time: 4min 21s\n"
     ]
    },
    {
     "data": {
      "text/plain": [
       "<catboost.core.CatBoostClassifier at 0x29a4e4e3550>"
      ]
     },
     "execution_count": 31,
     "metadata": {},
     "output_type": "execute_result"
    }
   ],
   "source": [
    "%%time\n",
    "model.fit(X_train, y_train)"
   ]
  },
  {
   "cell_type": "markdown",
   "id": "6070bed2",
   "metadata": {},
   "source": [
    "Посчитаем качество модели на тестовой выборке"
   ]
  },
  {
   "cell_type": "code",
   "execution_count": 41,
   "id": "2f4e81e1",
   "metadata": {},
   "outputs": [
    {
     "data": {
      "text/plain": [
       "0.7835703001579778"
      ]
     },
     "execution_count": 41,
     "metadata": {},
     "output_type": "execute_result"
    }
   ],
   "source": [
    "f1_score(y_test, model.predict(X_test))"
   ]
  },
  {
   "cell_type": "markdown",
   "id": "00de3355",
   "metadata": {},
   "source": [
    "Скор значительно подрос на тесте, но вероятнее всего это связано с тем, что в тестовой выборке были просто более подходящие образцы. Которые модель определяет более уверенно."
   ]
  },
  {
   "cell_type": "markdown",
   "id": "625605db",
   "metadata": {},
   "source": [
    "Переучивать данную модель на всех данных не будем, поскольку она нам потребуется для решения 3 задачи и мы воспользуемся той же тестовой выборкой, чтобы убедиться, что модель будет работать корректно."
   ]
  },
  {
   "cell_type": "markdown",
   "id": "0dbfc867",
   "metadata": {},
   "source": [
    "Сохраним обученную модель."
   ]
  },
  {
   "cell_type": "code",
   "execution_count": 38,
   "id": "630c3c16",
   "metadata": {},
   "outputs": [],
   "source": [
    "pickle.dump(model, open(PATH_TO_SAVE_MODEL, \"wb\"))"
   ]
  },
  {
   "cell_type": "markdown",
   "id": "108462d3",
   "metadata": {},
   "source": [
    "## Выводы"
   ]
  },
  {
   "cell_type": "markdown",
   "id": "4e44f3ed",
   "metadata": {},
   "source": [
    "В данном разделе было предложено решение задачи классификации по признаку кавер-оригинал. При решении задачи было сделано:\n",
    "- для классификации выбран CatBoostClassifier, поскольку у нас много категориальных признаков. В качестве метрики выбрана f1 мера, поскольку у нас сильный дисбаланс классов;\n",
    "- обучена Dummy модель в качестве безлайна, которая задала минимальное значение метрики, которое удалоь значительно улучшить (0.1137);\n",
    "- обучена модель CatBoostClassifier, которая на кроссвалидации показала качество метрики равное 0.7249;\n",
    "- проведён анализ признаков и, как видно из полученных данных, для модели наибольшую важность имеют следующие признаки: длительность, код регистратора, и язык. Чуть меньше страна полученная из кода isrc, любые жанры относящиес к FOLK, отсутствующий текст и год записи;\n",
    "- подобраны гиперпарамтеры при помощи GridSearchCV, что позволило улучшить качество модели до 0.7617\n",
    "- проверено качество модели на тестовой выборке, образцы из которой модель никогда не видела, значение метрики оказалось равно 0.7836, что сопоставимо со значениями на кроссвалидации, поэтому можно говорить о стабильной работе модели."
   ]
  },
  {
   "cell_type": "code",
   "execution_count": null,
   "id": "2e807dd5",
   "metadata": {},
   "outputs": [],
   "source": []
  }
 ],
 "metadata": {
  "kernelspec": {
   "display_name": "Python 3 (ipykernel)",
   "language": "python",
   "name": "python3"
  },
  "language_info": {
   "codemirror_mode": {
    "name": "ipython",
    "version": 3
   },
   "file_extension": ".py",
   "mimetype": "text/x-python",
   "name": "python",
   "nbconvert_exporter": "python",
   "pygments_lexer": "ipython3",
   "version": "3.10.11"
  }
 },
 "nbformat": 4,
 "nbformat_minor": 5
}

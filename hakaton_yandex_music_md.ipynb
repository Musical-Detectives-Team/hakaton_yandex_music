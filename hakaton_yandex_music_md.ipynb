{
 "cells": [
  {
   "cell_type": "markdown",
   "id": "9f3f53f9",
   "metadata": {
    "toc": true
   },
   "source": [
    "<h1>Table of Contents<span class=\"tocSkip\"></span></h1>\n",
    "<div class=\"toc\"><ul class=\"toc-item\"><li><span><a href=\"#Введение\" data-toc-modified-id=\"Введение-1\"><span class=\"toc-item-num\">1&nbsp;&nbsp;</span>Введение</a></span></li><li><span><a href=\"#Библиотеки-и-настройки\" data-toc-modified-id=\"Библиотеки-и-настройки-2\"><span class=\"toc-item-num\">2&nbsp;&nbsp;</span>Библиотеки и настройки</a></span><ul class=\"toc-item\"><li><span><a href=\"#Библиотеки\" data-toc-modified-id=\"Библиотеки-2.1\"><span class=\"toc-item-num\">2.1&nbsp;&nbsp;</span>Библиотеки</a></span></li><li><span><a href=\"#Настройки\" data-toc-modified-id=\"Настройки-2.2\"><span class=\"toc-item-num\">2.2&nbsp;&nbsp;</span>Настройки</a></span></li></ul></li><li><span><a href=\"#Первичный-анализ-данных\" data-toc-modified-id=\"Первичный-анализ-данных-3\"><span class=\"toc-item-num\">3&nbsp;&nbsp;</span>Первичный анализ данных</a></span><ul class=\"toc-item\"><li><span><a href=\"#Загрузка-данных\" data-toc-modified-id=\"Загрузка-данных-3.1\"><span class=\"toc-item-num\">3.1&nbsp;&nbsp;</span>Загрузка данных</a></span></li></ul></li><li><span><a href=\"#Предобработка-данных\" data-toc-modified-id=\"Предобработка-данных-4\"><span class=\"toc-item-num\">4&nbsp;&nbsp;</span>Предобработка данных</a></span></li><li><span><a href=\"#Формализация-задачи,-Гипотезы\" data-toc-modified-id=\"Формализация-задачи,-Гипотезы-5\"><span class=\"toc-item-num\">5&nbsp;&nbsp;</span>Формализация задачи, Гипотезы</a></span></li><li><span><a href=\"#Модели\" data-toc-modified-id=\"Модели-6\"><span class=\"toc-item-num\">6&nbsp;&nbsp;</span>Модели</a></span></li><li><span><a href=\"#Вывод\" data-toc-modified-id=\"Вывод-7\"><span class=\"toc-item-num\">7&nbsp;&nbsp;</span>Вывод</a></span></li></ul></div>"
   ]
  },
  {
   "cell_type": "markdown",
   "id": "61f1069f",
   "metadata": {},
   "source": [
    "## Введение"
   ]
  },
  {
   "cell_type": "markdown",
   "id": "35593d6f",
   "metadata": {},
   "source": [
    "## Библиотеки и настройки"
   ]
  },
  {
   "cell_type": "markdown",
   "id": "6fd237f0",
   "metadata": {},
   "source": [
    "### Библиотеки"
   ]
  },
  {
   "cell_type": "code",
   "execution_count": 3,
   "id": "8d08636b",
   "metadata": {
    "ExecuteTime": {
     "end_time": "2023-10-25T09:15:15.785457Z",
     "start_time": "2023-10-25T09:15:12.017267Z"
    }
   },
   "outputs": [],
   "source": [
    "import pandas as pd \n",
    "import pandas as pd \n",
    "\n",
    "\n",
    "import numpy as np\n",
    "\n",
    "# для графиков\n",
    "import matplotlib.pyplot as plt\n",
    "import seaborn as sns\n",
    "\n",
    "#для загрузки данных и с сервера и локально\n",
    "import os\n",
    "# для скрытия ошибок\n",
    "import warnings\n",
    "from IPython.display import display\n",
    "# для условно рандомных состояний\n",
    "# from numpy.random import RandomState\n",
    "# # регулярные выражения\n",
    "# import re\n",
    "# #Лемматизатор\n",
    "# import spacy\n",
    "# # модель для лемматизации английского языка\n",
    "# import en_core_web_sm\n",
    "\n",
    "# # разбиение на выборки\n",
    "# from sklearn.model_selection import train_test_split\n",
    "\n",
    "# # расчитаем TF-IDF\n",
    "# from sklearn.feature_extraction.text import TfidfVectorizer\n",
    "# from nltk.corpus import stopwords\n",
    "# import nltk\n",
    "\n",
    "# # Логистическая регрессия\n",
    "# from sklearn.linear_model import LogisticRegression\n",
    "# # # Дерево Решений классификатор\n",
    "# # from sklearn.tree import DecisionTreeClassifier\n",
    "# # # Случайный лес классификатор\n",
    "# # from sklearn.ensemble import RandomForestClassifier\n",
    "# # Ridge регрессия\n",
    "# from sklearn.linear_model import RidgeClassifier\n",
    "# # для создания конвеера/ трудопровода\n",
    "# from sklearn.pipeline import Pipeline, make_pipeline\n",
    "# # для маштабирования признаков\n",
    "# from sklearn.preprocessing import StandardScaler\n",
    "# # заполнение пропусков\n",
    "# from sklearn.impute import SimpleImputer\n",
    "# # перемешивание данных\n",
    "# from sklearn.utils import shuffle\n",
    "\n",
    "# # F1 метрика\n",
    "# from sklearn.metrics import f1_score\n",
    "\n",
    "# # для подбора параметров моделей\n",
    "# from sklearn.model_selection import GridSearchCV\n",
    "\n",
    "# # оптимизация параметров моделей\n",
    "# import optuna\n",
    "\n",
    "# import lightgbm as lgb"
   ]
  },
  {
   "cell_type": "markdown",
   "id": "fe458ae1",
   "metadata": {},
   "source": [
    "### Настройки"
   ]
  },
  {
   "cell_type": "code",
   "execution_count": 4,
   "id": "e73fc6ca",
   "metadata": {
    "ExecuteTime": {
     "end_time": "2023-10-25T09:16:33.930500Z",
     "start_time": "2023-10-25T09:16:33.926738Z"
    }
   },
   "outputs": [],
   "source": [
    "# для скрытия ошибок\n",
    "warnings.filterwarnings(\"ignore\")\n",
    "\n",
    "# для увеличения окна вывода \n",
    "pd.options.display.max_rows = 100\n",
    "# максимальная вместимость ячейки для отображения\n",
    "pd.set_option('display.max_colwidth', None)\n",
    "# четыре знака после запятой\n",
    "pd.set_option('display.float_format', '{:.4f}'.format)\n",
    "\n",
    "# для задания размера графиков по умолчанию\n",
    "plt.rcParams[\"figure.figsize\"] = (7, 5)\n",
    "\n",
    "# для псевдорандомных значений\n",
    "np.random.seed(seed=54321)\n",
    "np.random.RandomState(seed=54321)\n",
    "RS=54321\n",
    "\n",
    "# # загрузим английские стоп слова\n",
    "# nltk.download('stopwords')\n",
    "# stop_words = set(stopwords.words('english'))"
   ]
  },
  {
   "cell_type": "markdown",
   "id": "5ecfe578",
   "metadata": {},
   "source": [
    "## Первичный анализ данных"
   ]
  },
  {
   "cell_type": "markdown",
   "id": "385242fe",
   "metadata": {},
   "source": [
    "### Загрузка данных"
   ]
  },
  {
   "cell_type": "code",
   "execution_count": 12,
   "id": "56123759",
   "metadata": {
    "ExecuteTime": {
     "end_time": "2023-10-25T09:36:41.695630Z",
     "start_time": "2023-10-25T09:36:41.586537Z"
    }
   },
   "outputs": [
    {
     "data": {
      "text/html": [
       "<div>\n",
       "<style scoped>\n",
       "    .dataframe tbody tr th:only-of-type {\n",
       "        vertical-align: middle;\n",
       "    }\n",
       "\n",
       "    .dataframe tbody tr th {\n",
       "        vertical-align: top;\n",
       "    }\n",
       "\n",
       "    .dataframe thead th {\n",
       "        text-align: right;\n",
       "    }\n",
       "</style>\n",
       "<table border=\"1\" class=\"dataframe\">\n",
       "  <thead>\n",
       "    <tr style=\"text-align: right;\">\n",
       "      <th></th>\n",
       "      <th>original_track_id</th>\n",
       "      <th>track_id</th>\n",
       "      <th>track_remake_type</th>\n",
       "    </tr>\n",
       "  </thead>\n",
       "  <tbody>\n",
       "    <tr>\n",
       "      <th>0</th>\n",
       "      <td>eeb69a3cb92300456b6a5f4162093851</td>\n",
       "      <td>eeb69a3cb92300456b6a5f4162093851</td>\n",
       "      <td>ORIGINAL</td>\n",
       "    </tr>\n",
       "    <tr>\n",
       "      <th>1</th>\n",
       "      <td>fe7ee8fc1959cc7214fa21c4840dff0a</td>\n",
       "      <td>fe7ee8fc1959cc7214fa21c4840dff0a</td>\n",
       "      <td>ORIGINAL</td>\n",
       "    </tr>\n",
       "    <tr>\n",
       "      <th>2</th>\n",
       "      <td>cd89fef7ffdd490db800357f47722b20</td>\n",
       "      <td>cd89fef7ffdd490db800357f47722b20</td>\n",
       "      <td>ORIGINAL</td>\n",
       "    </tr>\n",
       "    <tr>\n",
       "      <th>3</th>\n",
       "      <td>995665640dc319973d3173a74a03860c</td>\n",
       "      <td>995665640dc319973d3173a74a03860c</td>\n",
       "      <td>ORIGINAL</td>\n",
       "    </tr>\n",
       "    <tr>\n",
       "      <th>4</th>\n",
       "      <td>None</td>\n",
       "      <td>d6288499d0083cc34e60a077b7c4b3e1</td>\n",
       "      <td>COVER</td>\n",
       "    </tr>\n",
       "  </tbody>\n",
       "</table>\n",
       "</div>"
      ],
      "text/plain": [
       "                  original_track_id                          track_id  \\\n",
       "0  eeb69a3cb92300456b6a5f4162093851  eeb69a3cb92300456b6a5f4162093851   \n",
       "1  fe7ee8fc1959cc7214fa21c4840dff0a  fe7ee8fc1959cc7214fa21c4840dff0a   \n",
       "2  cd89fef7ffdd490db800357f47722b20  cd89fef7ffdd490db800357f47722b20   \n",
       "3  995665640dc319973d3173a74a03860c  995665640dc319973d3173a74a03860c   \n",
       "4                              None  d6288499d0083cc34e60a077b7c4b3e1   \n",
       "\n",
       "  track_remake_type  \n",
       "0          ORIGINAL  \n",
       "1          ORIGINAL  \n",
       "2          ORIGINAL  \n",
       "3          ORIGINAL  \n",
       "4             COVER  "
      ]
     },
     "execution_count": 12,
     "metadata": {},
     "output_type": "execute_result"
    }
   ],
   "source": [
    "path_covers = 'data/covers.json'\n",
    "\n",
    "df_covers = pd.read_json(path_covers, lines=True)\n",
    "df_covers.head()"
   ]
  },
  {
   "cell_type": "code",
   "execution_count": 14,
   "id": "0b429ad5",
   "metadata": {
    "ExecuteTime": {
     "end_time": "2023-10-25T09:41:13.235868Z",
     "start_time": "2023-10-25T09:41:13.106657Z"
    }
   },
   "outputs": [
    {
     "data": {
      "text/html": [
       "<div>\n",
       "<style scoped>\n",
       "    .dataframe tbody tr th:only-of-type {\n",
       "        vertical-align: middle;\n",
       "    }\n",
       "\n",
       "    .dataframe tbody tr th {\n",
       "        vertical-align: top;\n",
       "    }\n",
       "\n",
       "    .dataframe thead th {\n",
       "        text-align: right;\n",
       "    }\n",
       "</style>\n",
       "<table border=\"1\" class=\"dataframe\">\n",
       "  <thead>\n",
       "    <tr style=\"text-align: right;\">\n",
       "      <th></th>\n",
       "      <th>lyricId</th>\n",
       "      <th>text</th>\n",
       "      <th>track_id</th>\n",
       "    </tr>\n",
       "  </thead>\n",
       "  <tbody>\n",
       "    <tr>\n",
       "      <th>0</th>\n",
       "      <td>a951f9504e89759e9d23039b7b17ec14</td>\n",
       "      <td>Живу сейчас обломами, обломками не той любви\\nПопытками не то любить, что нужно\\nТеряю смысл, ну и пусть, невыносимой стала грусть\\nИ в комнате, что с потолком мне чужда\\n\\nЯ б уплыла в океан, сшила б красный сарафан, и... И...\\nЯ б забыла, что ты есть, я б не лезла в эту сеть\\nЯ бы, я бы, я бы, я бы не была бы здесь\\n\\nВолосы пропахли дымом, вечер был довольно длинным...\\n\\nЖиву сейчас попытками, попытками не пытками\\nНайти себя и что-нибудь родное\\nИщу я что-то, где-то там, пью чёрный кофе по утрам\\nИ не пойму - да что ж это такое?\\n\\nЯ б уплыла в океан, сшила б красный сарафан, и... И...\\nЯ б забыла что ты есть, я б не лезла в эту сеть\\nЯ бы, я бы, я бы, я бы не была бы здесь\\n\\nЯ б уплыла в океан, сшила б красный сарафан, и... И...\\nЯ б забыла что ты есть, я б не лезла в эту сеть\\nЯ бы, я бы, я бы, я бы не была бы здесь\\n\\nВолосы пропахли дымом, вечер был довольно длинным...</td>\n",
       "      <td>1c4b1230f937e4c548ff732523214dcd</td>\n",
       "    </tr>\n",
       "  </tbody>\n",
       "</table>\n",
       "</div>"
      ],
      "text/plain": [
       "                            lyricId  \\\n",
       "0  a951f9504e89759e9d23039b7b17ec14   \n",
       "\n",
       "                                                                                                                                                                                                                                                                                                                                                                                                                                                                                                                                                                                                                                                                                                                                                                                                                                                                                                                          text  \\\n",
       "0  Живу сейчас обломами, обломками не той любви\\nПопытками не то любить, что нужно\\nТеряю смысл, ну и пусть, невыносимой стала грусть\\nИ в комнате, что с потолком мне чужда\\n\\nЯ б уплыла в океан, сшила б красный сарафан, и... И...\\nЯ б забыла, что ты есть, я б не лезла в эту сеть\\nЯ бы, я бы, я бы, я бы не была бы здесь\\n\\nВолосы пропахли дымом, вечер был довольно длинным...\\n\\nЖиву сейчас попытками, попытками не пытками\\nНайти себя и что-нибудь родное\\nИщу я что-то, где-то там, пью чёрный кофе по утрам\\nИ не пойму - да что ж это такое?\\n\\nЯ б уплыла в океан, сшила б красный сарафан, и... И...\\nЯ б забыла что ты есть, я б не лезла в эту сеть\\nЯ бы, я бы, я бы, я бы не была бы здесь\\n\\nЯ б уплыла в океан, сшила б красный сарафан, и... И...\\nЯ б забыла что ты есть, я б не лезла в эту сеть\\nЯ бы, я бы, я бы, я бы не была бы здесь\\n\\nВолосы пропахли дымом, вечер был довольно длинным...   \n",
       "\n",
       "                           track_id  \n",
       "0  1c4b1230f937e4c548ff732523214dcd  "
      ]
     },
     "execution_count": 14,
     "metadata": {},
     "output_type": "execute_result"
    }
   ],
   "source": [
    "path_lyrics = 'data/lyrics.json'\n",
    "\n",
    "df_lyrics = pd.read_json(path_lyrics, lines=True)\n",
    "df_lyrics.head(1)"
   ]
  },
  {
   "cell_type": "code",
   "execution_count": 22,
   "id": "d3585a35",
   "metadata": {
    "ExecuteTime": {
     "end_time": "2023-10-25T10:01:45.287210Z",
     "start_time": "2023-10-25T10:01:44.577312Z"
    }
   },
   "outputs": [
    {
     "data": {
      "text/html": [
       "<div>\n",
       "<style scoped>\n",
       "    .dataframe tbody tr th:only-of-type {\n",
       "        vertical-align: middle;\n",
       "    }\n",
       "\n",
       "    .dataframe tbody tr th {\n",
       "        vertical-align: top;\n",
       "    }\n",
       "\n",
       "    .dataframe thead th {\n",
       "        text-align: right;\n",
       "    }\n",
       "</style>\n",
       "<table border=\"1\" class=\"dataframe\">\n",
       "  <thead>\n",
       "    <tr style=\"text-align: right;\">\n",
       "      <th></th>\n",
       "      <th>track_id</th>\n",
       "      <th>dttm</th>\n",
       "      <th>title</th>\n",
       "      <th>language</th>\n",
       "      <th>isrc</th>\n",
       "      <th>genres</th>\n",
       "      <th>duration</th>\n",
       "    </tr>\n",
       "  </thead>\n",
       "  <tbody>\n",
       "    <tr>\n",
       "      <th>0</th>\n",
       "      <td>c3b9d6a354ca008aa4518329aaa21380</td>\n",
       "      <td>2021-12-16 21:00:00</td>\n",
       "      <td>Happy New Year</td>\n",
       "      <td>EN</td>\n",
       "      <td>RUB422103970</td>\n",
       "      <td>[DANCE]</td>\n",
       "      <td>161120.0000</td>\n",
       "    </tr>\n",
       "    <tr>\n",
       "      <th>1</th>\n",
       "      <td>c57e3d13bbbf5322584a7e92e6f1f7ff</td>\n",
       "      <td>2021-11-24 14:00:33</td>\n",
       "      <td>Bad Habits</td>\n",
       "      <td>EN</td>\n",
       "      <td>QZN882178276</td>\n",
       "      <td>[ELECTRONICS]</td>\n",
       "      <td>362260.0000</td>\n",
       "    </tr>\n",
       "    <tr>\n",
       "      <th>2</th>\n",
       "      <td>955f2aafe8717908c140bf122ba4172d</td>\n",
       "      <td>2021-11-24 15:37:03</td>\n",
       "      <td>Por Esa Loca Vanidad</td>\n",
       "      <td>None</td>\n",
       "      <td>QZNJZ2122549</td>\n",
       "      <td>[FOLK, LATINFOLK]</td>\n",
       "      <td>260000.0000</td>\n",
       "    </tr>\n",
       "    <tr>\n",
       "      <th>3</th>\n",
       "      <td>fae5a077c9956045955dde02143bd8ff</td>\n",
       "      <td>2021-11-24 15:37:03</td>\n",
       "      <td>Mil Lagrimas</td>\n",
       "      <td>None</td>\n",
       "      <td>QZNJZ2166033</td>\n",
       "      <td>[FOLK, LATINFOLK]</td>\n",
       "      <td>190000.0000</td>\n",
       "    </tr>\n",
       "    <tr>\n",
       "      <th>4</th>\n",
       "      <td>6bede082154d34fc18d9a6744bc95bf5</td>\n",
       "      <td>2021-11-24 15:37:03</td>\n",
       "      <td>Sexo Humo y Alcohol</td>\n",
       "      <td>None</td>\n",
       "      <td>QZNJZ2122551</td>\n",
       "      <td>[FOLK, LATINFOLK]</td>\n",
       "      <td>203000.0000</td>\n",
       "    </tr>\n",
       "  </tbody>\n",
       "</table>\n",
       "</div>"
      ],
      "text/plain": [
       "                           track_id                dttm                 title  \\\n",
       "0  c3b9d6a354ca008aa4518329aaa21380 2021-12-16 21:00:00        Happy New Year   \n",
       "1  c57e3d13bbbf5322584a7e92e6f1f7ff 2021-11-24 14:00:33            Bad Habits   \n",
       "2  955f2aafe8717908c140bf122ba4172d 2021-11-24 15:37:03  Por Esa Loca Vanidad   \n",
       "3  fae5a077c9956045955dde02143bd8ff 2021-11-24 15:37:03          Mil Lagrimas   \n",
       "4  6bede082154d34fc18d9a6744bc95bf5 2021-11-24 15:37:03   Sexo Humo y Alcohol   \n",
       "\n",
       "  language          isrc             genres    duration  \n",
       "0       EN  RUB422103970            [DANCE] 161120.0000  \n",
       "1       EN  QZN882178276      [ELECTRONICS] 362260.0000  \n",
       "2     None  QZNJZ2122549  [FOLK, LATINFOLK] 260000.0000  \n",
       "3     None  QZNJZ2166033  [FOLK, LATINFOLK] 190000.0000  \n",
       "4     None  QZNJZ2122551  [FOLK, LATINFOLK] 203000.0000  "
      ]
     },
     "execution_count": 22,
     "metadata": {},
     "output_type": "execute_result"
    }
   ],
   "source": [
    "path_meta = 'data/meta.json'\n",
    "\n",
    "df_meta = pd.read_json(path_meta, lines=True, convert_dates=['dttm'])\n",
    "df_meta.head()"
   ]
  },
  {
   "cell_type": "markdown",
   "id": "cb3ccbf7",
   "metadata": {},
   "source": [
    "## Предобработка данных"
   ]
  },
  {
   "cell_type": "markdown",
   "id": "a9e6c0f2",
   "metadata": {},
   "source": [
    "## Формализация задачи, Гипотезы"
   ]
  },
  {
   "cell_type": "markdown",
   "id": "acbd2664",
   "metadata": {},
   "source": [
    "## Модели"
   ]
  },
  {
   "cell_type": "markdown",
   "id": "2f100db4",
   "metadata": {},
   "source": [
    "## Вывод"
   ]
  }
 ],
 "metadata": {
  "kernelspec": {
   "display_name": "Python 3 (ipykernel)",
   "language": "python",
   "name": "python3"
  },
  "language_info": {
   "codemirror_mode": {
    "name": "ipython",
    "version": 3
   },
   "file_extension": ".py",
   "mimetype": "text/x-python",
   "name": "python",
   "nbconvert_exporter": "python",
   "pygments_lexer": "ipython3",
   "version": "3.9.18"
  },
  "toc": {
   "base_numbering": 1,
   "nav_menu": {},
   "number_sections": true,
   "sideBar": true,
   "skip_h1_title": true,
   "title_cell": "Table of Contents",
   "title_sidebar": "Contents",
   "toc_cell": true,
   "toc_position": {
    "height": "calc(100% - 180px)",
    "left": "10px",
    "top": "150px",
    "width": "364px"
   },
   "toc_section_display": true,
   "toc_window_display": true
  }
 },
 "nbformat": 4,
 "nbformat_minor": 5
}
